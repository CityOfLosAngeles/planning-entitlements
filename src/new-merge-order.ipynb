{
 "cells": [
  {
   "cell_type": "markdown",
   "metadata": {},
   "source": [
    "# New merges for master_pcts\n",
    "* Losing appeals cases because of an inner join\n",
    "* These appeals child cases aren't associated with an AIN, but we can grab it from parent case\n",
    "* But, merging using PARENT_CASE rather than CASE_ID means it's a m:m merge (gross!)\n",
    "* Figure out if we can expand the merges, switch the order, and create new master_pcts\n",
    "* Add print statements to check the length of the df"
   ]
  },
  {
   "cell_type": "code",
   "execution_count": 1,
   "metadata": {},
   "outputs": [],
   "source": [
    "import pandas as pd\n",
    "import geopandas as gpd\n",
    "import intake\n",
    "\n",
    "catalog = intake.open_catalog(\"../catalogs/*.yml\")\n",
    "bucket_name = 'city-planning-entitlements'\n",
    "\n",
    "# Import data\n",
    "cases = pd.read_parquet(f's3://{bucket_name}/data/raw/tCASE.parquet')\n",
    "app = pd.read_parquet(f's3://{bucket_name}/data/raw/tAPLC.parquet')\n",
    "geo_info = pd.read_parquet(f's3://{bucket_name}/data/raw/tPROP_GEO_INFO.parquet')\n",
    "la_prop = pd.read_parquet(f's3://{bucket_name}/data/raw/tLA_PROP.parquet')"
   ]
  },
  {
   "cell_type": "code",
   "execution_count": 2,
   "metadata": {},
   "outputs": [],
   "source": [
    "# Subset dataframes before merging\n",
    "keep_col = ['CASE_ID', 'APLC_ID', 'CASE_NBR', \n",
    "                'CASE_SEQ_NBR', 'CASE_YR_NBR', 'CASE_ACTION_ID', \n",
    "                'CASE_FILE_RCV_DT', 'CASE_FILE_DATE', 'PARNT_CASE_ID']\n",
    "\n",
    "cases1 = (cases.assign(\n",
    "    # Grab the year-month from received date\n",
    "    CASE_FILE_DATE = pd.to_datetime(cases['CASE_FILE_RCV_DT']).dt.to_period('M'),\n",
    ")[keep_col])\n",
    "\n",
    "app1 = app[['APLC_ID', 'PROJ_DESC_TXT']]\n",
    "geo_info1 = geo_info[['CASE_ID', 'PROP_ID']].drop_duplicates()\n",
    "la_prop1 = la_prop[la_prop.ASSR_PRCL_NBR.notna()][['PROP_ID', 'ASSR_PRCL_NBR']]\n",
    "\n",
    "# Identify parent cases\n",
    "cases1['parent_is_null'] = cases1.PARNT_CASE_ID.isna()\n",
    "cases1['PARENT_CASE'] = cases1.apply(lambda row: row.CASE_ID if row.parent_is_null == True \n",
    "                                         else row.PARNT_CASE_ID, axis = 1)\n",
    "\n",
    "# Keep cases from 2010 onward\n",
    "cases2 = cases1[cases1.CASE_FILE_DATE.dt.year >= 2010]"
   ]
  },
  {
   "cell_type": "markdown",
   "metadata": {},
   "source": [
    "### First merge is between cases and geo_info\n",
    "We add on PROP_ID column."
   ]
  },
  {
   "cell_type": "code",
   "execution_count": 3,
   "metadata": {},
   "outputs": [],
   "source": [
    "m1 = pd.merge(cases2, geo_info1, on = 'CASE_ID', how = 'left', validate = '1:m')"
   ]
  },
  {
   "cell_type": "code",
   "execution_count": 20,
   "metadata": {},
   "outputs": [],
   "source": [
    "correct_joins = m1[m1.PROP_ID.notna()]\n",
    "incorrect_joins = m1[m1.PROP_ID.isna()]"
   ]
  },
  {
   "cell_type": "code",
   "execution_count": 23,
   "metadata": {},
   "outputs": [
    {
     "name": "stdout",
     "output_type": "stream",
     "text": [
      "# obs when we join cases and geo_info: 557696\n",
      "# obs where PROP_ID was NaN: 5781\n",
      "% where PROP_ID was NaN: 0.010365862405324765\n"
     ]
    }
   ],
   "source": [
    "print(f\"# obs when we join cases and geo_info: {len(m1)}\")\n",
    "print(f\"# obs where PROP_ID was NaN: {len(incorrect_joins)}\")\n",
    "print(f\"% where PROP_ID was NaN: {len(incorrect_joins) / len(m1)}\")"
   ]
  },
  {
   "cell_type": "code",
   "execution_count": 34,
   "metadata": {},
   "outputs": [
    {
     "name": "stdout",
     "output_type": "stream",
     "text": [
      "# unique parents that were correctly joined, but also appear in incorrect_joins\n",
      "1709\n",
      "# unique parents in incorrect_joins: 5471\n"
     ]
    }
   ],
   "source": [
    "# Of these incorrect joins, do they share parent cases with ones that were joined?\n",
    "print(\"# unique parents that were correctly joined, but also appear in incorrect_joins\")\n",
    "print(f\"{incorrect_joins[incorrect_joins.PARENT_CASE.isin(correct_joins.PARENT_CASE)].PARENT_CASE.nunique()}\")\n",
    "print(f\"# unique parents in incorrect_joins: {incorrect_joins.PARENT_CASE.nunique()}\")\n",
    "\n",
    "# This shows a lot of parent cases won't get joined to a PROP_ID and AIN"
   ]
  },
  {
   "cell_type": "markdown",
   "metadata": {},
   "source": [
    "### Second merge is between geo_info and la_prop\n",
    "* To fix these incorrect joins, we would have to have allowed a m:m merge.\n",
    "* So, let's see if we can circumvent PROP_ID by mapping it to AIN directly.\n",
    "* But first, we force it to be a 1:m merge, and only keep unique PROP_IDs."
   ]
  },
  {
   "cell_type": "code",
   "execution_count": 10,
   "metadata": {},
   "outputs": [],
   "source": [
    "# Do a second merge for PROP_ID and AINs\n",
    "m2 = (pd.merge(geo_info1[[\"PROP_ID\"]].drop_duplicates(), \n",
    "               la_prop1, \n",
    "               on = \"PROP_ID\", how = \"left\", validate = \"1:m\")\n",
    "      .rename(columns = {\"ASSR_PRCL_NBR\": \"AIN\"})\n",
    "     )"
   ]
  },
  {
   "cell_type": "code",
   "execution_count": 11,
   "metadata": {},
   "outputs": [
    {
     "data": {
      "text/html": [
       "<div>\n",
       "<style scoped>\n",
       "    .dataframe tbody tr th:only-of-type {\n",
       "        vertical-align: middle;\n",
       "    }\n",
       "\n",
       "    .dataframe tbody tr th {\n",
       "        vertical-align: top;\n",
       "    }\n",
       "\n",
       "    .dataframe thead th {\n",
       "        text-align: right;\n",
       "    }\n",
       "</style>\n",
       "<table border=\"1\" class=\"dataframe\">\n",
       "  <thead>\n",
       "    <tr style=\"text-align: right;\">\n",
       "      <th></th>\n",
       "      <th>PROP_ID</th>\n",
       "      <th>AIN</th>\n",
       "    </tr>\n",
       "  </thead>\n",
       "  <tbody>\n",
       "    <tr>\n",
       "      <th>0</th>\n",
       "      <td>34237.0</td>\n",
       "      <td>5160003902</td>\n",
       "    </tr>\n",
       "    <tr>\n",
       "      <th>1</th>\n",
       "      <td>34306.0</td>\n",
       "      <td>5076007033</td>\n",
       "    </tr>\n",
       "  </tbody>\n",
       "</table>\n",
       "</div>"
      ],
      "text/plain": [
       "   PROP_ID         AIN\n",
       "0  34237.0  5160003902\n",
       "1  34306.0  5076007033"
      ]
     },
     "execution_count": 11,
     "metadata": {},
     "output_type": "execute_result"
    }
   ],
   "source": [
    "m2.head(2)"
   ]
  },
  {
   "cell_type": "markdown",
   "metadata": {},
   "source": [
    "### Third merge is to create a CASE_ID to AIN crosswalk\n",
    "\n",
    "* Combine the results of the previous 2 merges. Use PROP_ID to join cases with la_prop.\n",
    "* But first, bring in our crosswalk_parcels_tracts to make sure we only keep parcels we have.\n",
    "* Then, combine case info with AIN and get rid of all the duplicates.\n",
    "* When we merge AIN info onto all our cases, we can then avoid using PROP_ID and the m:m merge."
   ]
  },
  {
   "cell_type": "code",
   "execution_count": 16,
   "metadata": {},
   "outputs": [],
   "source": [
    "crosswalk_parcels_tracts = (pd.read_parquet(\n",
    "    \"s3://city-planning-entitlements/data/crosswalk_parcels_tracts_lacity.parquet\")\n",
    "    [[\"uuid\", \"AIN\"]]\n",
    "    )"
   ]
  },
  {
   "cell_type": "code",
   "execution_count": 17,
   "metadata": {},
   "outputs": [],
   "source": [
    "ain_side = m2[m2.AIN.isin(crosswalk_parcels_tracts.AIN)]"
   ]
  },
  {
   "cell_type": "code",
   "execution_count": 18,
   "metadata": {},
   "outputs": [
    {
     "data": {
      "text/html": [
       "<div>\n",
       "<style scoped>\n",
       "    .dataframe tbody tr th:only-of-type {\n",
       "        vertical-align: middle;\n",
       "    }\n",
       "\n",
       "    .dataframe tbody tr th {\n",
       "        vertical-align: top;\n",
       "    }\n",
       "\n",
       "    .dataframe thead th {\n",
       "        text-align: right;\n",
       "    }\n",
       "</style>\n",
       "<table border=\"1\" class=\"dataframe\">\n",
       "  <thead>\n",
       "    <tr style=\"text-align: right;\">\n",
       "      <th></th>\n",
       "      <th>PROP_ID</th>\n",
       "      <th>AIN</th>\n",
       "    </tr>\n",
       "  </thead>\n",
       "  <tbody>\n",
       "    <tr>\n",
       "      <th>0</th>\n",
       "      <td>34237.0</td>\n",
       "      <td>5160003902</td>\n",
       "    </tr>\n",
       "    <tr>\n",
       "      <th>1</th>\n",
       "      <td>34306.0</td>\n",
       "      <td>5076007033</td>\n",
       "    </tr>\n",
       "    <tr>\n",
       "      <th>2</th>\n",
       "      <td>34323.0</td>\n",
       "      <td>5407005016</td>\n",
       "    </tr>\n",
       "    <tr>\n",
       "      <th>3</th>\n",
       "      <td>34169.0</td>\n",
       "      <td>5407002023</td>\n",
       "    </tr>\n",
       "    <tr>\n",
       "      <th>4</th>\n",
       "      <td>33937.0</td>\n",
       "      <td>5124001012</td>\n",
       "    </tr>\n",
       "  </tbody>\n",
       "</table>\n",
       "</div>"
      ],
      "text/plain": [
       "   PROP_ID         AIN\n",
       "0  34237.0  5160003902\n",
       "1  34306.0  5076007033\n",
       "2  34323.0  5407005016\n",
       "3  34169.0  5407002023\n",
       "4  33937.0  5124001012"
      ]
     },
     "execution_count": 18,
     "metadata": {},
     "output_type": "execute_result"
    }
   ],
   "source": [
    "ain_side.head()"
   ]
  },
  {
   "cell_type": "code",
   "execution_count": 66,
   "metadata": {},
   "outputs": [],
   "source": [
    "fix_me = incorrect_joins[[\"PARENT_CASE\"]].drop_duplicates()"
   ]
  },
  {
   "cell_type": "code",
   "execution_count": 75,
   "metadata": {},
   "outputs": [],
   "source": [
    "fix_me_propid = (pd.merge(fix_me, geo_info1, \n",
    "                         left_on = \"PARENT_CASE\", right_on = \"CASE_ID\", \n",
    "                         how = \"inner\", validate = \"1:m\")\n",
    "                 # Hacking this with PARENT_CASE, so drop CASE_ID\n",
    "                 .drop(columns = \"CASE_ID\")\n",
    "                )"
   ]
  },
  {
   "cell_type": "code",
   "execution_count": 76,
   "metadata": {},
   "outputs": [
    {
     "data": {
      "text/html": [
       "<div>\n",
       "<style scoped>\n",
       "    .dataframe tbody tr th:only-of-type {\n",
       "        vertical-align: middle;\n",
       "    }\n",
       "\n",
       "    .dataframe tbody tr th {\n",
       "        vertical-align: top;\n",
       "    }\n",
       "\n",
       "    .dataframe thead th {\n",
       "        text-align: right;\n",
       "    }\n",
       "</style>\n",
       "<table border=\"1\" class=\"dataframe\">\n",
       "  <thead>\n",
       "    <tr style=\"text-align: right;\">\n",
       "      <th></th>\n",
       "      <th>PARENT_CASE</th>\n",
       "      <th>PROP_ID</th>\n",
       "    </tr>\n",
       "  </thead>\n",
       "  <tbody>\n",
       "    <tr>\n",
       "      <th>0</th>\n",
       "      <td>194352.0</td>\n",
       "      <td>59141075.0</td>\n",
       "    </tr>\n",
       "    <tr>\n",
       "      <th>1</th>\n",
       "      <td>194814.0</td>\n",
       "      <td>59141527.0</td>\n",
       "    </tr>\n",
       "    <tr>\n",
       "      <th>2</th>\n",
       "      <td>194814.0</td>\n",
       "      <td>59141526.0</td>\n",
       "    </tr>\n",
       "    <tr>\n",
       "      <th>3</th>\n",
       "      <td>189513.0</td>\n",
       "      <td>59124694.0</td>\n",
       "    </tr>\n",
       "    <tr>\n",
       "      <th>4</th>\n",
       "      <td>206223.0</td>\n",
       "      <td>59327730.0</td>\n",
       "    </tr>\n",
       "  </tbody>\n",
       "</table>\n",
       "</div>"
      ],
      "text/plain": [
       "   PARENT_CASE     PROP_ID\n",
       "0     194352.0  59141075.0\n",
       "1     194814.0  59141527.0\n",
       "2     194814.0  59141526.0\n",
       "3     189513.0  59124694.0\n",
       "4     206223.0  59327730.0"
      ]
     },
     "execution_count": 76,
     "metadata": {},
     "output_type": "execute_result"
    }
   ],
   "source": [
    "fix_me_propid.head()"
   ]
  },
  {
   "cell_type": "code",
   "execution_count": 81,
   "metadata": {},
   "outputs": [],
   "source": [
    "fix_me_ain = (pd.merge(fix_me_propid, ain_side, \n",
    "                          on = \"PROP_ID\", how = \"inner\", validate = \"m:1\")\n",
    "                 [[\"PARENT_CASE\", \"AIN\"]]\n",
    "                 .drop_duplicates()\n",
    "                 .reset_index(drop=True)\n",
    "                )"
   ]
  },
  {
   "cell_type": "code",
   "execution_count": 82,
   "metadata": {},
   "outputs": [
    {
     "data": {
      "text/html": [
       "<div>\n",
       "<style scoped>\n",
       "    .dataframe tbody tr th:only-of-type {\n",
       "        vertical-align: middle;\n",
       "    }\n",
       "\n",
       "    .dataframe tbody tr th {\n",
       "        vertical-align: top;\n",
       "    }\n",
       "\n",
       "    .dataframe thead th {\n",
       "        text-align: right;\n",
       "    }\n",
       "</style>\n",
       "<table border=\"1\" class=\"dataframe\">\n",
       "  <thead>\n",
       "    <tr style=\"text-align: right;\">\n",
       "      <th></th>\n",
       "      <th>PARENT_CASE</th>\n",
       "      <th>AIN</th>\n",
       "    </tr>\n",
       "  </thead>\n",
       "  <tbody>\n",
       "    <tr>\n",
       "      <th>0</th>\n",
       "      <td>194352.0</td>\n",
       "      <td>2378025032</td>\n",
       "    </tr>\n",
       "    <tr>\n",
       "      <th>1</th>\n",
       "      <td>194814.0</td>\n",
       "      <td>2425005046</td>\n",
       "    </tr>\n",
       "    <tr>\n",
       "      <th>2</th>\n",
       "      <td>189513.0</td>\n",
       "      <td>4259024006</td>\n",
       "    </tr>\n",
       "    <tr>\n",
       "      <th>3</th>\n",
       "      <td>206223.0</td>\n",
       "      <td>7410014001</td>\n",
       "    </tr>\n",
       "    <tr>\n",
       "      <th>4</th>\n",
       "      <td>189127.0</td>\n",
       "      <td>2524022006</td>\n",
       "    </tr>\n",
       "    <tr>\n",
       "      <th>...</th>\n",
       "      <td>...</td>\n",
       "      <td>...</td>\n",
       "    </tr>\n",
       "    <tr>\n",
       "      <th>3717</th>\n",
       "      <td>174147.0</td>\n",
       "      <td>5547004005</td>\n",
       "    </tr>\n",
       "    <tr>\n",
       "      <th>3718</th>\n",
       "      <td>178277.0</td>\n",
       "      <td>5503014020</td>\n",
       "    </tr>\n",
       "    <tr>\n",
       "      <th>3719</th>\n",
       "      <td>235112.0</td>\n",
       "      <td>2209031008</td>\n",
       "    </tr>\n",
       "    <tr>\n",
       "      <th>3720</th>\n",
       "      <td>230680.0</td>\n",
       "      <td>4261014013</td>\n",
       "    </tr>\n",
       "    <tr>\n",
       "      <th>3721</th>\n",
       "      <td>230680.0</td>\n",
       "      <td>4261014012</td>\n",
       "    </tr>\n",
       "  </tbody>\n",
       "</table>\n",
       "<p>3722 rows × 2 columns</p>\n",
       "</div>"
      ],
      "text/plain": [
       "      PARENT_CASE         AIN\n",
       "0        194352.0  2378025032\n",
       "1        194814.0  2425005046\n",
       "2        189513.0  4259024006\n",
       "3        206223.0  7410014001\n",
       "4        189127.0  2524022006\n",
       "...           ...         ...\n",
       "3717     174147.0  5547004005\n",
       "3718     178277.0  5503014020\n",
       "3719     235112.0  2209031008\n",
       "3720     230680.0  4261014013\n",
       "3721     230680.0  4261014012\n",
       "\n",
       "[3722 rows x 2 columns]"
      ]
     },
     "execution_count": 82,
     "metadata": {},
     "output_type": "execute_result"
    }
   ],
   "source": [
    "fix_me_ain"
   ]
  },
  {
   "cell_type": "markdown",
   "metadata": {},
   "source": [
    "Fourth merge is to add on project description."
   ]
  },
  {
   "cell_type": "code",
   "execution_count": null,
   "metadata": {},
   "outputs": [],
   "source": []
  }
 ],
 "metadata": {
  "kernelspec": {
   "display_name": "Python 3",
   "language": "python",
   "name": "python3"
  },
  "language_info": {
   "codemirror_mode": {
    "name": "ipython",
    "version": 3
   },
   "file_extension": ".py",
   "mimetype": "text/x-python",
   "name": "python",
   "nbconvert_exporter": "python",
   "pygments_lexer": "ipython3",
   "version": "3.7.8"
  }
 },
 "nbformat": 4,
 "nbformat_minor": 4
}
