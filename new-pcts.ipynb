{
 "cells": [
  {
   "cell_type": "markdown",
   "metadata": {},
   "source": [
    "## Test out new PCTS "
   ]
  },
  {
   "cell_type": "code",
   "execution_count": 1,
   "metadata": {},
   "outputs": [],
   "source": [
    "import pandas as pd\n",
    "import laplan"
   ]
  },
  {
   "cell_type": "code",
   "execution_count": 2,
   "metadata": {},
   "outputs": [],
   "source": [
    "pcts = pd.read_parquet('s3://city-planning-entitlements/data/final/pcts.parquet')\n",
    "\n",
    "# List of tracts\n",
    "tracts = pd.read_parquet(\n",
    "    \"s3://city-planning-entitlements/data/crosswalk_parcels_tracts_lacounty.parquet\")[\n",
    "    [\"GEOID\"]].drop_duplicates().reset_index(drop=True)\n",
    "\n",
    "# List of unique AINs\n",
    "parcels = pd.read_parquet(\n",
    "    \"s3://city-planning-entitlements/data/crosswalk_parcels_tracts_lacounty.parquet\")[\n",
    "    [\"AIN\", \"GEOID\"]].drop_duplicates().reset_index(drop=True)"
   ]
  },
  {
   "cell_type": "markdown",
   "metadata": {},
   "source": [
    "### A. Check if there are cases that have AIN but not GEOID or vice versa\n",
    "Since GEOID is derived from CENSUS_TRACT, we shouldn't have the case where one is missing and the other isn't."
   ]
  },
  {
   "cell_type": "code",
   "execution_count": 3,
   "metadata": {},
   "outputs": [
    {
     "name": "stdout",
     "output_type": "stream",
     "text": [
      "AIN is na, CENSUS_TRACT not na: 18418\n",
      "GEOID is na, AIN not na: 1608\n"
     ]
    }
   ],
   "source": [
    "print(f\"AIN is na, CENSUS_TRACT not na: {len(pcts[(pcts.AIN.isna()) & (pcts.CENSUS_TRACT.notna())])}\")\n",
    "print(f\"GEOID is na, AIN not na: {len(pcts[(pcts.GEOID.isna()) & (pcts.AIN.notna())])}\")"
   ]
  },
  {
   "cell_type": "code",
   "execution_count": 4,
   "metadata": {},
   "outputs": [
    {
     "data": {
      "text/html": [
       "<div>\n",
       "<style scoped>\n",
       "    .dataframe tbody tr th:only-of-type {\n",
       "        vertical-align: middle;\n",
       "    }\n",
       "\n",
       "    .dataframe tbody tr th {\n",
       "        vertical-align: top;\n",
       "    }\n",
       "\n",
       "    .dataframe thead th {\n",
       "        text-align: right;\n",
       "    }\n",
       "</style>\n",
       "<table border=\"1\" class=\"dataframe\">\n",
       "  <thead>\n",
       "    <tr style=\"text-align: right;\">\n",
       "      <th></th>\n",
       "      <th>CASE_ID</th>\n",
       "      <th>AIN</th>\n",
       "      <th>CENSUS_TRACT</th>\n",
       "      <th>GEOID</th>\n",
       "    </tr>\n",
       "  </thead>\n",
       "  <tbody>\n",
       "    <tr>\n",
       "      <th>1411</th>\n",
       "      <td>180442</td>\n",
       "      <td>None</td>\n",
       "      <td>1193</td>\n",
       "      <td>06037119300</td>\n",
       "    </tr>\n",
       "    <tr>\n",
       "      <th>1553</th>\n",
       "      <td>181301</td>\n",
       "      <td>None</td>\n",
       "      <td>2674.02</td>\n",
       "      <td>06037267402</td>\n",
       "    </tr>\n",
       "    <tr>\n",
       "      <th>3402</th>\n",
       "      <td>183544</td>\n",
       "      <td>None</td>\n",
       "      <td>2218.10</td>\n",
       "      <td>06037221810</td>\n",
       "    </tr>\n",
       "    <tr>\n",
       "      <th>5254</th>\n",
       "      <td>4326</td>\n",
       "      <td>None</td>\n",
       "      <td>2035.00</td>\n",
       "      <td>06037203500</td>\n",
       "    </tr>\n",
       "    <tr>\n",
       "      <th>14041</th>\n",
       "      <td>38649</td>\n",
       "      <td>None</td>\n",
       "      <td>2074.00</td>\n",
       "      <td>06037207400</td>\n",
       "    </tr>\n",
       "  </tbody>\n",
       "</table>\n",
       "</div>"
      ],
      "text/plain": [
       "       CASE_ID   AIN CENSUS_TRACT        GEOID\n",
       "1411    180442  None         1193  06037119300\n",
       "1553    181301  None      2674.02  06037267402\n",
       "3402    183544  None   2218.10     06037221810\n",
       "5254      4326  None      2035.00  06037203500\n",
       "14041    38649  None      2074.00  06037207400"
      ]
     },
     "execution_count": 4,
     "metadata": {},
     "output_type": "execute_result"
    }
   ],
   "source": [
    "cols = [\"CASE_ID\", \"AIN\", \"CENSUS_TRACT\", \"GEOID\"]\n",
    "pcts[(pcts.AIN.isna()) & (pcts.CENSUS_TRACT.notna())][cols].head()"
   ]
  },
  {
   "cell_type": "code",
   "execution_count": 5,
   "metadata": {},
   "outputs": [
    {
     "data": {
      "text/html": [
       "<div>\n",
       "<style scoped>\n",
       "    .dataframe tbody tr th:only-of-type {\n",
       "        vertical-align: middle;\n",
       "    }\n",
       "\n",
       "    .dataframe tbody tr th {\n",
       "        vertical-align: top;\n",
       "    }\n",
       "\n",
       "    .dataframe thead th {\n",
       "        text-align: right;\n",
       "    }\n",
       "</style>\n",
       "<table border=\"1\" class=\"dataframe\">\n",
       "  <thead>\n",
       "    <tr style=\"text-align: right;\">\n",
       "      <th></th>\n",
       "      <th>CASE_ID</th>\n",
       "      <th>AIN</th>\n",
       "      <th>CENSUS_TRACT</th>\n",
       "      <th>GEOID</th>\n",
       "    </tr>\n",
       "  </thead>\n",
       "  <tbody>\n",
       "    <tr>\n",
       "      <th>8125</th>\n",
       "      <td>18499</td>\n",
       "      <td>2526023916</td>\n",
       "      <td>None</td>\n",
       "      <td>None</td>\n",
       "    </tr>\n",
       "    <tr>\n",
       "      <th>61144</th>\n",
       "      <td>28929</td>\n",
       "      <td>5555011038</td>\n",
       "      <td>None</td>\n",
       "      <td>None</td>\n",
       "    </tr>\n",
       "    <tr>\n",
       "      <th>92101</th>\n",
       "      <td>94024</td>\n",
       "      <td>4226015BRK</td>\n",
       "      <td>None</td>\n",
       "      <td>None</td>\n",
       "    </tr>\n",
       "    <tr>\n",
       "      <th>92102</th>\n",
       "      <td>94025</td>\n",
       "      <td>4226015BRK</td>\n",
       "      <td>None</td>\n",
       "      <td>None</td>\n",
       "    </tr>\n",
       "    <tr>\n",
       "      <th>102369</th>\n",
       "      <td>99028</td>\n",
       "      <td>4228001003</td>\n",
       "      <td>None</td>\n",
       "      <td>None</td>\n",
       "    </tr>\n",
       "  </tbody>\n",
       "</table>\n",
       "</div>"
      ],
      "text/plain": [
       "        CASE_ID         AIN CENSUS_TRACT GEOID\n",
       "8125      18499  2526023916         None  None\n",
       "61144     28929  5555011038         None  None\n",
       "92101     94024  4226015BRK         None  None\n",
       "92102     94025  4226015BRK         None  None\n",
       "102369    99028  4228001003         None  None"
      ]
     },
     "execution_count": 5,
     "metadata": {},
     "output_type": "execute_result"
    }
   ],
   "source": [
    "pcts[(pcts.GEOID.isna()) & (pcts.AIN.notna())][cols].head()"
   ]
  },
  {
   "cell_type": "markdown",
   "metadata": {},
   "source": [
    "### B. Check the cases where AIN is na but GEOID isn't\n",
    "These are cases that seem to have problems in themselves. How can you be associated with a parcel but not a tract?"
   ]
  },
  {
   "cell_type": "code",
   "execution_count": 6,
   "metadata": {},
   "outputs": [
    {
     "name": "stdout",
     "output_type": "stream",
     "text": [
      "No AIN, but have GEOID: 18418\n"
     ]
    }
   ],
   "source": [
    "c1 = (pcts.AIN.isna())\n",
    "c2 = (pcts.GEOID.notna())\n",
    "\n",
    "print(f\"No AIN, but have GEOID: {len(pcts[c1 & c2][cols])}\")"
   ]
  },
  {
   "cell_type": "code",
   "execution_count": 7,
   "metadata": {},
   "outputs": [
    {
     "data": {
      "text/plain": [
       "Multiple      2242\n",
       "9800.09        986\n",
       "2240.10        910\n",
       "2260.00        811\n",
       "2035.00        658\n",
       "              ... \n",
       "1096.030         1\n",
       "2218.10          1\n",
       "1200.30          1\n",
       "2169.00          1\n",
       "1098.000         1\n",
       "Name: CENSUS_TRACT, Length: 292, dtype: int64"
      ]
     },
     "execution_count": 7,
     "metadata": {},
     "output_type": "execute_result"
    }
   ],
   "source": [
    "pcts[c1 & c2].CENSUS_TRACT.value_counts()"
   ]
  },
  {
   "cell_type": "markdown",
   "metadata": {},
   "source": [
    "#### B1. CENSUS_TRACT has errors, which means GEOID is incorrectly generated.\n",
    "Don't like cleaning these ad-hoc. \n",
    "Not sustainable in long-run when we have live connection, because it requires looking through several types of errors, and we aren't limited to the errors we see here. Then it requires testing if the replacements are valid GEOIDs, and if they aren't, investigate why."
   ]
  },
  {
   "cell_type": "code",
   "execution_count": 8,
   "metadata": {},
   "outputs": [],
   "source": [
    "pcts1 = pcts.copy()\n",
    "# Check if there are letters appearing in CENSUS_TRACT, which there shouldn't be\n",
    "pcts1['has_string'] = pcts1.CENSUS_TRACT.str.contains(r'[a-zA-Z]', na=False)"
   ]
  },
  {
   "cell_type": "code",
   "execution_count": 9,
   "metadata": {},
   "outputs": [],
   "source": [
    "# These cases need GEOID replaced\n",
    "pcts1 = pcts1.assign(\n",
    "    GEOID = pcts1.apply(lambda x: x.GEOID if x.has_string == False else \"\", axis=1)\n",
    ")"
   ]
  },
  {
   "cell_type": "code",
   "execution_count": 10,
   "metadata": {},
   "outputs": [
    {
     "data": {
      "text/plain": [
       "Multiple      4390\n",
       "barlow san       4\n",
       "Name: CENSUS_TRACT, dtype: int64"
      ]
     },
     "execution_count": 10,
     "metadata": {},
     "output_type": "execute_result"
    }
   ],
   "source": [
    "pcts1[pcts1.has_string==True].CENSUS_TRACT.value_counts()"
   ]
  },
  {
   "cell_type": "code",
   "execution_count": 11,
   "metadata": {},
   "outputs": [],
   "source": [
    "pcts_unique_GEOID = pcts1[pcts1.GEOID.notna()][[\"CASE_ID\", \"GEOID\"]].drop_duplicates().reset_index(drop=True)"
   ]
  },
  {
   "cell_type": "code",
   "execution_count": 12,
   "metadata": {},
   "outputs": [],
   "source": [
    "m1 = pd.merge(pcts_unique_GEOID, tracts, how = \"left\", on = \"GEOID\", validate = \"m:1\", indicator=True)"
   ]
  },
  {
   "cell_type": "code",
   "execution_count": 13,
   "metadata": {},
   "outputs": [],
   "source": [
    "fix_me = m1[m1._merge==\"left_only\"]\n",
    "\n",
    "fix_me = fix_me.assign(\n",
    "    string_length = fix_me.GEOID.str.len()\n",
    ")"
   ]
  },
  {
   "cell_type": "code",
   "execution_count": 14,
   "metadata": {},
   "outputs": [],
   "source": [
    "check_cases = fix_me[~fix_me.string_length.isin([0, 11])]"
   ]
  },
  {
   "cell_type": "code",
   "execution_count": 15,
   "metadata": {},
   "outputs": [
    {
     "data": {
      "text/plain": [
       "Series([], Name: AIN, dtype: int64)"
      ]
     },
     "execution_count": 15,
     "metadata": {},
     "output_type": "execute_result"
    }
   ],
   "source": [
    "# These cases don't have AINs...\n",
    "# but somehow have census tract info, but it's erroneous census tract info\n",
    "pcts1[pcts1.CASE_ID.isin(check_cases.CASE_ID)].AIN.value_counts()"
   ]
  },
  {
   "cell_type": "code",
   "execution_count": 16,
   "metadata": {},
   "outputs": [
    {
     "name": "stderr",
     "output_type": "stream",
     "text": [
      "/opt/conda/lib/python3.7/site-packages/ipykernel_launcher.py:1: SettingWithCopyWarning: \n",
      "A value is trying to be set on a copy of a slice from a DataFrame.\n",
      "Try using .loc[row_indexer,col_indexer] = value instead\n",
      "\n",
      "See the caveats in the documentation: https://pandas.pydata.org/pandas-docs/stable/user_guide/indexing.html#returning-a-view-versus-a-copy\n",
      "  \"\"\"Entry point for launching an IPython kernel.\n"
     ]
    }
   ],
   "source": [
    "check_cases['GEOID2'] = check_cases.GEOID.str[0:11]"
   ]
  },
  {
   "cell_type": "code",
   "execution_count": 17,
   "metadata": {},
   "outputs": [
    {
     "data": {
      "text/html": [
       "<div>\n",
       "<style scoped>\n",
       "    .dataframe tbody tr th:only-of-type {\n",
       "        vertical-align: middle;\n",
       "    }\n",
       "\n",
       "    .dataframe tbody tr th {\n",
       "        vertical-align: top;\n",
       "    }\n",
       "\n",
       "    .dataframe thead th {\n",
       "        text-align: right;\n",
       "    }\n",
       "</style>\n",
       "<table border=\"1\" class=\"dataframe\">\n",
       "  <thead>\n",
       "    <tr style=\"text-align: right;\">\n",
       "      <th></th>\n",
       "      <th>CASE_ID</th>\n",
       "      <th>GEOID_x</th>\n",
       "      <th>string_length</th>\n",
       "      <th>GEOID2</th>\n",
       "      <th>GEOID_y</th>\n",
       "      <th>_merge</th>\n",
       "    </tr>\n",
       "  </thead>\n",
       "  <tbody>\n",
       "    <tr>\n",
       "      <th>0</th>\n",
       "      <td>45582</td>\n",
       "      <td>0603721480000</td>\n",
       "      <td>13</td>\n",
       "      <td>06037214800</td>\n",
       "      <td>06037214800</td>\n",
       "      <td>both</td>\n",
       "    </tr>\n",
       "    <tr>\n",
       "      <th>1</th>\n",
       "      <td>93477</td>\n",
       "      <td>0603721480000</td>\n",
       "      <td>13</td>\n",
       "      <td>06037214800</td>\n",
       "      <td>06037214800</td>\n",
       "      <td>both</td>\n",
       "    </tr>\n",
       "    <tr>\n",
       "      <th>2</th>\n",
       "      <td>197413</td>\n",
       "      <td>0603721480000</td>\n",
       "      <td>13</td>\n",
       "      <td>06037214800</td>\n",
       "      <td>06037214800</td>\n",
       "      <td>both</td>\n",
       "    </tr>\n",
       "    <tr>\n",
       "      <th>3</th>\n",
       "      <td>197688</td>\n",
       "      <td>0603721480000</td>\n",
       "      <td>13</td>\n",
       "      <td>06037214800</td>\n",
       "      <td>06037214800</td>\n",
       "      <td>both</td>\n",
       "    </tr>\n",
       "    <tr>\n",
       "      <th>4</th>\n",
       "      <td>193170</td>\n",
       "      <td>060371098000</td>\n",
       "      <td>12</td>\n",
       "      <td>06037109800</td>\n",
       "      <td>06037109800</td>\n",
       "      <td>both</td>\n",
       "    </tr>\n",
       "    <tr>\n",
       "      <th>5</th>\n",
       "      <td>193170</td>\n",
       "      <td>060371096030</td>\n",
       "      <td>12</td>\n",
       "      <td>06037109603</td>\n",
       "      <td>06037109603</td>\n",
       "      <td>both</td>\n",
       "    </tr>\n",
       "  </tbody>\n",
       "</table>\n",
       "</div>"
      ],
      "text/plain": [
       "   CASE_ID        GEOID_x  string_length       GEOID2      GEOID_y _merge\n",
       "0    45582  0603721480000             13  06037214800  06037214800   both\n",
       "1    93477  0603721480000             13  06037214800  06037214800   both\n",
       "2   197413  0603721480000             13  06037214800  06037214800   both\n",
       "3   197688  0603721480000             13  06037214800  06037214800   both\n",
       "4   193170   060371098000             12  06037109800  06037109800   both\n",
       "5   193170   060371096030             12  06037109603  06037109603   both"
      ]
     },
     "execution_count": 17,
     "metadata": {},
     "output_type": "execute_result"
    }
   ],
   "source": [
    "# Check that fixing it this way actually matches with a GEOID we have in our crosswalk\n",
    "pd.merge(check_cases.drop(columns = \"_merge\"), \n",
    "         tracts, \n",
    "         left_on = \"GEOID2\", right_on = \"GEOID\", \n",
    "         validate = \"m:1\", indicator = True)"
   ]
  },
  {
   "cell_type": "markdown",
   "metadata": {},
   "source": [
    "### C. Check the cases where AIN is not na but GEOID is na"
   ]
  },
  {
   "cell_type": "code",
   "execution_count": 18,
   "metadata": {},
   "outputs": [
    {
     "data": {
      "text/html": [
       "<div>\n",
       "<style scoped>\n",
       "    .dataframe tbody tr th:only-of-type {\n",
       "        vertical-align: middle;\n",
       "    }\n",
       "\n",
       "    .dataframe tbody tr th {\n",
       "        vertical-align: top;\n",
       "    }\n",
       "\n",
       "    .dataframe thead th {\n",
       "        text-align: right;\n",
       "    }\n",
       "</style>\n",
       "<table border=\"1\" class=\"dataframe\">\n",
       "  <thead>\n",
       "    <tr style=\"text-align: right;\">\n",
       "      <th></th>\n",
       "      <th>CASE_ID</th>\n",
       "      <th>AIN</th>\n",
       "      <th>CENSUS_TRACT</th>\n",
       "      <th>GEOID</th>\n",
       "    </tr>\n",
       "  </thead>\n",
       "  <tbody>\n",
       "    <tr>\n",
       "      <th>8125</th>\n",
       "      <td>18499</td>\n",
       "      <td>2526023916</td>\n",
       "      <td>None</td>\n",
       "      <td>None</td>\n",
       "    </tr>\n",
       "    <tr>\n",
       "      <th>61144</th>\n",
       "      <td>28929</td>\n",
       "      <td>5555011038</td>\n",
       "      <td>None</td>\n",
       "      <td>None</td>\n",
       "    </tr>\n",
       "    <tr>\n",
       "      <th>92101</th>\n",
       "      <td>94024</td>\n",
       "      <td>4226015BRK</td>\n",
       "      <td>None</td>\n",
       "      <td>None</td>\n",
       "    </tr>\n",
       "    <tr>\n",
       "      <th>92102</th>\n",
       "      <td>94025</td>\n",
       "      <td>4226015BRK</td>\n",
       "      <td>None</td>\n",
       "      <td>None</td>\n",
       "    </tr>\n",
       "    <tr>\n",
       "      <th>102369</th>\n",
       "      <td>99028</td>\n",
       "      <td>4228001003</td>\n",
       "      <td>None</td>\n",
       "      <td>None</td>\n",
       "    </tr>\n",
       "  </tbody>\n",
       "</table>\n",
       "</div>"
      ],
      "text/plain": [
       "        CASE_ID         AIN CENSUS_TRACT GEOID\n",
       "8125      18499  2526023916         None  None\n",
       "61144     28929  5555011038         None  None\n",
       "92101     94024  4226015BRK         None  None\n",
       "92102     94025  4226015BRK         None  None\n",
       "102369    99028  4228001003         None  None"
      ]
     },
     "execution_count": 18,
     "metadata": {},
     "output_type": "execute_result"
    }
   ],
   "source": [
    "c3 = (pcts.GEOID.isna())\n",
    "c4 = (pcts.AIN.notna())\n",
    "\n",
    "pcts[c3 & c4][cols].head()"
   ]
  },
  {
   "cell_type": "markdown",
   "metadata": {},
   "source": [
    "Check if there are any AINs in the entire PCTS that do not get matched to a parcel in our crosswalk (exclude those with BRK or weird symbols)."
   ]
  },
  {
   "cell_type": "code",
   "execution_count": 19,
   "metadata": {},
   "outputs": [],
   "source": [
    "pcts_unique_ain = pcts[c4][cols].drop_duplicates().reset_index(drop=True)"
   ]
  },
  {
   "cell_type": "code",
   "execution_count": 20,
   "metadata": {},
   "outputs": [],
   "source": [
    "m2 = pd.merge(pcts_unique_ain, parcels, how = \"left\", on = \"AIN\", validate = \"m:1\", indicator=True)"
   ]
  },
  {
   "cell_type": "code",
   "execution_count": 21,
   "metadata": {},
   "outputs": [],
   "source": [
    "fix_me2 = m2[m2._merge == \"left_only\"]\n",
    "\n",
    "find_me = [\"BRK\", \"*\", \"brk\"]\n",
    "\n",
    "fix_me2 = fix_me2.assign(\n",
    "    has_brk = fix_me2.AIN.apply(lambda x: True if any(word in x for word in find_me) else False)\n",
    ")"
   ]
  },
  {
   "cell_type": "code",
   "execution_count": 22,
   "metadata": {},
   "outputs": [
    {
     "data": {
      "text/plain": [
       "2044026071    1\n",
       "2378018041    1\n",
       "5160019038    1\n",
       "2565013102    1\n",
       "2629006010    1\n",
       "             ..\n",
       "5546026036    1\n",
       "4128010922    1\n",
       "5192018019    1\n",
       "5166015010    1\n",
       "2239006043    1\n",
       "Name: AIN, Length: 789, dtype: int64"
      ]
     },
     "execution_count": 22,
     "metadata": {},
     "output_type": "execute_result"
    }
   ],
   "source": [
    "check_cases2 = fix_me2[fix_me2.has_brk==False]\n",
    "\n",
    "check_cases2.AIN.drop_duplicates().value_counts()"
   ]
  },
  {
   "cell_type": "code",
   "execution_count": 23,
   "metadata": {},
   "outputs": [
    {
     "data": {
      "text/plain": [
       "left_only     3713\n",
       "both             0\n",
       "right_only       0\n",
       "Name: _merge, dtype: int64"
      ]
     },
     "execution_count": 23,
     "metadata": {},
     "output_type": "execute_result"
    }
   ],
   "source": [
    "check_cases2._merge.value_counts()"
   ]
  },
  {
   "cell_type": "markdown",
   "metadata": {},
   "source": [
    "These left_only cases are ones that with valid AINs (no BRK or weird symbols in it...those wouldn't have gotten matched anyway). These come with GEOID in PCTS, but not through our crosswalk. \n",
    "Is this because the PCTS case pre-dates 2010? It's more problematic for cases 2010-after, since we have historical AINs from 2006-2019."
   ]
  },
  {
   "cell_type": "code",
   "execution_count": 24,
   "metadata": {},
   "outputs": [],
   "source": [
    "tract_in_pcts_not_crosswalk = check_cases2[[\"CASE_ID\", \"AIN\"]].drop_duplicates().reset_index(drop=True)\n",
    "\n",
    "pcts2 = pd.merge(pcts,\n",
    "        tract_in_pcts_not_crosswalk, \n",
    "        on = [\"CASE_ID\", \"AIN\"], \n",
    "        how = \"inner\", \n",
    "        validate = \"m:1\")"
   ]
  },
  {
   "cell_type": "code",
   "execution_count": 25,
   "metadata": {},
   "outputs": [
    {
     "name": "stdout",
     "output_type": "stream",
     "text": [
      "unique cases 2010-after that have AINs not in our crosswalk: 760\n",
      "# obs: 6496\n",
      "# unique AINs touched by problem cases: 702\n",
      "# unique tracts touched by problem cases: 331\n"
     ]
    }
   ],
   "source": [
    "# Quite a bit of cases that are in the relevant time range still\n",
    "our_time_range = (pcts2.FILE_DATE >= \"1/1/2010\")\n",
    "print(f\"unique cases 2010-after that have AINs not in our crosswalk: {pcts2[our_time_range].CASE_ID.nunique()}\")\n",
    "print(f\"# obs: {len(pcts2[our_time_range])}\")\n",
    "print(f\"# unique AINs touched by problem cases: {pcts2[our_time_range].AIN.nunique()}\")\n",
    "print(f\"# unique tracts touched by problem cases: {pcts2[our_time_range].GEOID.nunique()}\")"
   ]
  },
  {
   "cell_type": "code",
   "execution_count": 26,
   "metadata": {},
   "outputs": [
    {
     "data": {
      "text/plain": [
       "both          302\n",
       "left_only      48\n",
       "right_only      0\n",
       "Name: _merge, dtype: int64"
      ]
     },
     "execution_count": 26,
     "metadata": {},
     "output_type": "execute_result"
    }
   ],
   "source": [
    "# These GEOIDs...do they also appear in our crosswalk?\n",
    "# If they do, why aren't we linking them?\n",
    "# These GEOIDs do exist in our crosswalk, but these AINs don't...\n",
    "pd.merge(pcts2[[\"GEOID\"]].drop_duplicates(), \n",
    "         tracts, \n",
    "         how = \"left\", \n",
    "         on = \"GEOID\", \n",
    "         validate = \"1:1\", \n",
    "         indicator=True)._merge.value_counts()"
   ]
  },
  {
   "cell_type": "markdown",
   "metadata": {},
   "source": [
    "These AINs don't appear to be malformed, but do not appear in our crosswalk, but are attached to cases 2010-after.\n",
    "They do store CENSUS_TRACT that is a valid CENSUS_TRACT / GEOID, but they wouldn't appear on valid AINs.\n",
    "\n",
    "What should be done with cases that are on parcels we don't find, but have a valid tract. Should they be counted?\n",
    "\n",
    "Or, should only cases with valid AINs and valid tracts be counted?"
   ]
  },
  {
   "cell_type": "markdown",
   "metadata": {},
   "source": [
    "#### C1. Of cases that have AIN but no census tract info...do these AIN not appear in our crosswalk at all?"
   ]
  },
  {
   "cell_type": "code",
   "execution_count": 27,
   "metadata": {},
   "outputs": [
    {
     "name": "stdout",
     "output_type": "stream",
     "text": [
      "# obs that have AIN, but no census tract: 1608\n",
      "# unique cases: 58\n",
      "# unique AIN: 521\n"
     ]
    },
    {
     "data": {
      "text/html": [
       "<div>\n",
       "<style scoped>\n",
       "    .dataframe tbody tr th:only-of-type {\n",
       "        vertical-align: middle;\n",
       "    }\n",
       "\n",
       "    .dataframe tbody tr th {\n",
       "        vertical-align: top;\n",
       "    }\n",
       "\n",
       "    .dataframe thead th {\n",
       "        text-align: right;\n",
       "    }\n",
       "</style>\n",
       "<table border=\"1\" class=\"dataframe\">\n",
       "  <thead>\n",
       "    <tr style=\"text-align: right;\">\n",
       "      <th></th>\n",
       "      <th>CASE_ID</th>\n",
       "      <th>AIN</th>\n",
       "      <th>CENSUS_TRACT</th>\n",
       "      <th>GEOID</th>\n",
       "    </tr>\n",
       "  </thead>\n",
       "  <tbody>\n",
       "    <tr>\n",
       "      <th>8125</th>\n",
       "      <td>18499</td>\n",
       "      <td>2526023916</td>\n",
       "      <td>None</td>\n",
       "      <td>None</td>\n",
       "    </tr>\n",
       "    <tr>\n",
       "      <th>61144</th>\n",
       "      <td>28929</td>\n",
       "      <td>5555011038</td>\n",
       "      <td>None</td>\n",
       "      <td>None</td>\n",
       "    </tr>\n",
       "    <tr>\n",
       "      <th>92101</th>\n",
       "      <td>94024</td>\n",
       "      <td>4226015BRK</td>\n",
       "      <td>None</td>\n",
       "      <td>None</td>\n",
       "    </tr>\n",
       "    <tr>\n",
       "      <th>92102</th>\n",
       "      <td>94025</td>\n",
       "      <td>4226015BRK</td>\n",
       "      <td>None</td>\n",
       "      <td>None</td>\n",
       "    </tr>\n",
       "    <tr>\n",
       "      <th>102369</th>\n",
       "      <td>99028</td>\n",
       "      <td>4228001003</td>\n",
       "      <td>None</td>\n",
       "      <td>None</td>\n",
       "    </tr>\n",
       "  </tbody>\n",
       "</table>\n",
       "</div>"
      ],
      "text/plain": [
       "        CASE_ID         AIN CENSUS_TRACT GEOID\n",
       "8125      18499  2526023916         None  None\n",
       "61144     28929  5555011038         None  None\n",
       "92101     94024  4226015BRK         None  None\n",
       "92102     94025  4226015BRK         None  None\n",
       "102369    99028  4228001003         None  None"
      ]
     },
     "execution_count": 27,
     "metadata": {},
     "output_type": "execute_result"
    }
   ],
   "source": [
    "t1 = pcts[c3 & c4][cols]\n",
    "print(f\"# obs that have AIN, but no census tract: {len(t1)}\")\n",
    "print(f\"# unique cases: {t1.CASE_ID.nunique()}\")\n",
    "print(f\"# unique AIN: {t1.AIN.nunique()}\")\n",
    "\n",
    "t1.head()"
   ]
  },
  {
   "cell_type": "code",
   "execution_count": 28,
   "metadata": {},
   "outputs": [
    {
     "data": {
      "text/plain": [
       "both          459\n",
       "left_only      62\n",
       "right_only      0\n",
       "Name: _merge, dtype: int64"
      ]
     },
     "execution_count": 28,
     "metadata": {},
     "output_type": "execute_result"
    }
   ],
   "source": [
    "pd.merge(t1[[\"AIN\"]].drop_duplicates(), \n",
    "         parcels, \n",
    "         on = \"AIN\", \n",
    "         how = \"left\", \n",
    "         validate = \"1:1\",\n",
    "         indicator=True\n",
    "        )._merge.value_counts()"
   ]
  },
  {
   "cell_type": "markdown",
   "metadata": {},
   "source": [
    "Majority of these do appear in our crosswalk, so we would want to take that AIN and merge it with our crosswalk to get the GEOID."
   ]
  },
  {
   "cell_type": "code",
   "execution_count": null,
   "metadata": {},
   "outputs": [],
   "source": []
  }
 ],
 "metadata": {
  "kernelspec": {
   "display_name": "Python 3",
   "language": "python",
   "name": "python3"
  },
  "language_info": {
   "codemirror_mode": {
    "name": "ipython",
    "version": 3
   },
   "file_extension": ".py",
   "mimetype": "text/x-python",
   "name": "python",
   "nbconvert_exporter": "python",
   "pygments_lexer": "ipython3",
   "version": "3.7.8"
  }
 },
 "nbformat": 4,
 "nbformat_minor": 4
}
