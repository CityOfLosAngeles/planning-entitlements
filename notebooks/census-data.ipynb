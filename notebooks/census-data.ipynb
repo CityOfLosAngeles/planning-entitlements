{
 "cells": [
  {
   "cell_type": "markdown",
   "metadata": {},
   "source": [
    "# Check Census data and compile, clean, convert to the right units\n",
    "* Census API doesn't seem to be working properly...check that all years have the same number of obs"
   ]
  },
  {
   "cell_type": "code",
   "execution_count": 1,
   "metadata": {},
   "outputs": [],
   "source": [
    "import numpy as np\n",
    "import pandas as pd"
   ]
  },
  {
   "cell_type": "code",
   "execution_count": 2,
   "metadata": {},
   "outputs": [
    {
     "data": {
      "text/plain": [
       "'commute'"
      ]
     },
     "metadata": {},
     "output_type": "display_data"
    },
    {
     "data": {
      "text/plain": [
       "2010    70380\n",
       "2011    70380\n",
       "2012    70380\n",
       "2013    70380\n",
       "2014    70380\n",
       "2015    70380\n",
       "2016    70380\n",
       "2017    70380\n",
       "2018    70380\n",
       "Name: year, dtype: int64"
      ]
     },
     "metadata": {},
     "output_type": "display_data"
    },
    {
     "data": {
      "text/plain": [
       "'income'"
      ]
     },
     "metadata": {},
     "output_type": "display_data"
    },
    {
     "data": {
      "text/plain": [
       "2010    46920\n",
       "2011    46920\n",
       "2012    46920\n",
       "2013    46920\n",
       "2014    46920\n",
       "2015    46920\n",
       "2016    46920\n",
       "2017    46920\n",
       "2018    46920\n",
       "Name: year, dtype: int64"
      ]
     },
     "metadata": {},
     "output_type": "display_data"
    },
    {
     "data": {
      "text/plain": [
       "'income_range'"
      ]
     },
     "metadata": {},
     "output_type": "display_data"
    },
    {
     "data": {
      "text/plain": [
       "2010    398820\n",
       "2011    398820\n",
       "2012    398820\n",
       "2013    398820\n",
       "2014    398820\n",
       "2015    398820\n",
       "2016    398820\n",
       "2017    398820\n",
       "2018    398820\n",
       "Name: year, dtype: int64"
      ]
     },
     "metadata": {},
     "output_type": "display_data"
    },
    {
     "data": {
      "text/plain": [
       "'vehicles'"
      ]
     },
     "metadata": {},
     "output_type": "display_data"
    },
    {
     "data": {
      "text/plain": [
       "2010    46920\n",
       "2011    46920\n",
       "2012    46920\n",
       "2013    46920\n",
       "2014    46920\n",
       "2015    46920\n",
       "2016    46920\n",
       "2017    46920\n",
       "2018    46920\n",
       "Name: year, dtype: int64"
      ]
     },
     "metadata": {},
     "output_type": "display_data"
    },
    {
     "data": {
      "text/plain": [
       "'tenure'"
      ]
     },
     "metadata": {},
     "output_type": "display_data"
    },
    {
     "data": {
      "text/plain": [
       "2010    7038\n",
       "2011    7038\n",
       "2012    7038\n",
       "2013    7038\n",
       "2014    7038\n",
       "2015    7038\n",
       "2016    7038\n",
       "2017    7038\n",
       "2018    7038\n",
       "Name: year, dtype: int64"
      ]
     },
     "metadata": {},
     "output_type": "display_data"
    },
    {
     "data": {
      "text/plain": [
       "'race'"
      ]
     },
     "metadata": {},
     "output_type": "display_data"
    },
    {
     "data": {
      "text/plain": [
       "2010    18768\n",
       "2011    18768\n",
       "2012    18768\n",
       "2013    18768\n",
       "2014    18768\n",
       "2015    18768\n",
       "2016    18768\n",
       "2017    18768\n",
       "2018    18768\n",
       "Name: year, dtype: int64"
      ]
     },
     "metadata": {},
     "output_type": "display_data"
    }
   ],
   "source": [
    "for name in ['commute', 'income', 'income_range', 'vehicles', 'tenure', 'race']:\n",
    "    file_name = f'{name}_tract'\n",
    "    df = pd.read_csv(f'../data/{file_name}.csv')\n",
    "    display(name)\n",
    "    display(df.year.value_counts().sort_index())"
   ]
  },
  {
   "cell_type": "code",
   "execution_count": null,
   "metadata": {},
   "outputs": [],
   "source": []
  }
 ],
 "metadata": {
  "kernelspec": {
   "display_name": "Python 3",
   "language": "python",
   "name": "python3"
  },
  "language_info": {
   "codemirror_mode": {
    "name": "ipython",
    "version": 3
   },
   "file_extension": ".py",
   "mimetype": "text/x-python",
   "name": "python",
   "nbconvert_exporter": "python",
   "pygments_lexer": "ipython3",
   "version": "3.7.3"
  }
 },
 "nbformat": 4,
 "nbformat_minor": 4
}
