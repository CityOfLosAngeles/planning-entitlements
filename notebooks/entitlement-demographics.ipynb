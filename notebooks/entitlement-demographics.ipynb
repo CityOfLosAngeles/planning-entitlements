{
 "cells": [
  {
   "cell_type": "markdown",
   "metadata": {},
   "source": [
    "# What are the demographic characteristics of neighborhoods where entitlements are?"
   ]
  },
  {
   "cell_type": "code",
   "execution_count": 1,
   "metadata": {},
   "outputs": [],
   "source": [
    "import intake\n",
    "import IPython.display\n",
    "import matplotlib.pyplot as plt\n",
    "import pandas\n",
    "\n",
    "cat = intake.open_catalog(\"../catalogs/*.yml\")"
   ]
  },
  {
   "cell_type": "markdown",
   "metadata": {},
   "source": [
    "## PCTS\n",
    "\n",
    "First, we load the PCTS extract and associated data into our session:"
   ]
  },
  {
   "cell_type": "code",
   "execution_count": 2,
   "metadata": {},
   "outputs": [],
   "source": [
    "pcts = cat.pcts2.read()"
   ]
  },
  {
   "cell_type": "code",
   "execution_count": 3,
   "metadata": {},
   "outputs": [],
   "source": [
    "# ACS data for income, race, commute, tenure\n",
    "census = pandas.read_parquet(\n",
    "    \"s3://city-planning-entitlements/data/final/census_cleaned.parquet\"\n",
    ")"
   ]
  },
  {
   "cell_type": "code",
   "execution_count": 4,
   "metadata": {},
   "outputs": [],
   "source": [
    "# Census tracts\n",
    "tracts = cat.census_tracts.read()\n",
    "tracts = tracts.assign(\n",
    "    density=tracts.HD01_VD01.astype(int)/(tracts.Shape_STAr/5280./5280.),\n",
    "    population=tracts.HD01_VD01,\n",
    ")"
   ]
  },
  {
   "cell_type": "code",
   "execution_count": 5,
   "metadata": {},
   "outputs": [],
   "source": [
    "parcel_to_tract = pandas.read_parquet(\n",
    "    \"s3://city-planning-entitlements/data/crosswalk_parcels_tracts.parquet\"\n",
    ")"
   ]
  },
  {
   "cell_type": "markdown",
   "metadata": {},
   "source": [
    "The requested entitlements are in the suffixes of the PCTS case number.\n",
    "A given case can have an arbitrary number of entitlement suffixes, so\n",
    "we need to parse it into its component parts.\n",
    "We can use a regex for that:"
   ]
  },
  {
   "cell_type": "code",
   "execution_count": 6,
   "metadata": {},
   "outputs": [
    {
     "data": {
      "text/plain": [
       "re.compile(r'([A-Z]+)-([0-9X]{4})-([0-9]+)((?:-[A-Z0-9]+)*)$', re.UNICODE)"
      ]
     },
     "metadata": {},
     "output_type": "display_data"
    }
   ],
   "source": [
    "from utils import GENERAL_PCTS_RE\n",
    "display(GENERAL_PCTS_RE)\n",
    "cols = pcts.CASE_NBR.str.extract(GENERAL_PCTS_RE)"
   ]
  },
  {
   "cell_type": "code",
   "execution_count": 7,
   "metadata": {},
   "outputs": [],
   "source": [
    "all_suffixes = cols[3].str.strip(\"-\").str.split(\"-\", expand=True)"
   ]
  },
  {
   "cell_type": "code",
   "execution_count": 8,
   "metadata": {},
   "outputs": [
    {
     "data": {
      "text/html": [
       "<div>\n",
       "<style scoped>\n",
       "    .dataframe tbody tr th:only-of-type {\n",
       "        vertical-align: middle;\n",
       "    }\n",
       "\n",
       "    .dataframe tbody tr th {\n",
       "        vertical-align: top;\n",
       "    }\n",
       "\n",
       "    .dataframe thead th {\n",
       "        text-align: right;\n",
       "    }\n",
       "</style>\n",
       "<table border=\"1\" class=\"dataframe\">\n",
       "  <thead>\n",
       "    <tr style=\"text-align: right;\">\n",
       "      <th></th>\n",
       "      <th>Count</th>\n",
       "    </tr>\n",
       "  </thead>\n",
       "  <tbody>\n",
       "    <tr>\n",
       "      <th>EIR</th>\n",
       "      <td>95944</td>\n",
       "    </tr>\n",
       "    <tr>\n",
       "      <th>CPU</th>\n",
       "      <td>86187</td>\n",
       "    </tr>\n",
       "    <tr>\n",
       "      <th>CE</th>\n",
       "      <td>33071</td>\n",
       "    </tr>\n",
       "    <tr>\n",
       "      <th>GPA</th>\n",
       "      <td>21405</td>\n",
       "    </tr>\n",
       "    <tr>\n",
       "      <th>CA</th>\n",
       "      <td>18160</td>\n",
       "    </tr>\n",
       "    <tr>\n",
       "      <th>VSO</th>\n",
       "      <td>15420</td>\n",
       "    </tr>\n",
       "    <tr>\n",
       "      <th>CRA</th>\n",
       "      <td>10219</td>\n",
       "    </tr>\n",
       "    <tr>\n",
       "      <th>SP</th>\n",
       "      <td>9833</td>\n",
       "    </tr>\n",
       "    <tr>\n",
       "      <th>ZC</th>\n",
       "      <td>9762</td>\n",
       "    </tr>\n",
       "    <tr>\n",
       "      <th>MEL</th>\n",
       "      <td>7960</td>\n",
       "    </tr>\n",
       "    <tr>\n",
       "      <th>HPOZ</th>\n",
       "      <td>6542</td>\n",
       "    </tr>\n",
       "    <tr>\n",
       "      <th>MA</th>\n",
       "      <td>6020</td>\n",
       "    </tr>\n",
       "    <tr>\n",
       "      <th>ND</th>\n",
       "      <td>5460</td>\n",
       "    </tr>\n",
       "    <tr>\n",
       "      <th>CUB</th>\n",
       "      <td>5302</td>\n",
       "    </tr>\n",
       "    <tr>\n",
       "      <th>CWC</th>\n",
       "      <td>4922</td>\n",
       "    </tr>\n",
       "    <tr>\n",
       "      <th>SPP</th>\n",
       "      <td>4776</td>\n",
       "    </tr>\n",
       "    <tr>\n",
       "      <th>MND</th>\n",
       "      <td>4026</td>\n",
       "    </tr>\n",
       "    <tr>\n",
       "      <th>TOC</th>\n",
       "      <td>2854</td>\n",
       "    </tr>\n",
       "    <tr>\n",
       "      <th>CEX</th>\n",
       "      <td>2606</td>\n",
       "    </tr>\n",
       "    <tr>\n",
       "      <th>ZV</th>\n",
       "      <td>2393</td>\n",
       "    </tr>\n",
       "    <tr>\n",
       "      <th>SPR</th>\n",
       "      <td>2091</td>\n",
       "    </tr>\n",
       "    <tr>\n",
       "      <th>MSC</th>\n",
       "      <td>2069</td>\n",
       "    </tr>\n",
       "    <tr>\n",
       "      <th>CU</th>\n",
       "      <td>2034</td>\n",
       "    </tr>\n",
       "    <tr>\n",
       "      <th>ZAA</th>\n",
       "      <td>1996</td>\n",
       "    </tr>\n",
       "    <tr>\n",
       "      <th>OVR</th>\n",
       "      <td>1678</td>\n",
       "    </tr>\n",
       "    <tr>\n",
       "      <th>DRB</th>\n",
       "      <td>1324</td>\n",
       "    </tr>\n",
       "    <tr>\n",
       "      <th>CWNC</th>\n",
       "      <td>1284</td>\n",
       "    </tr>\n",
       "    <tr>\n",
       "      <th>EAF</th>\n",
       "      <td>1233</td>\n",
       "    </tr>\n",
       "    <tr>\n",
       "      <th>ZAD</th>\n",
       "      <td>1147</td>\n",
       "    </tr>\n",
       "    <tr>\n",
       "      <th>DB</th>\n",
       "      <td>1136</td>\n",
       "    </tr>\n",
       "    <tr>\n",
       "      <th>PMEX</th>\n",
       "      <td>1099</td>\n",
       "    </tr>\n",
       "    <tr>\n",
       "      <th>MSP</th>\n",
       "      <td>1044</td>\n",
       "    </tr>\n",
       "    <tr>\n",
       "      <th>DI</th>\n",
       "      <td>990</td>\n",
       "    </tr>\n",
       "    <tr>\n",
       "      <th>CDP</th>\n",
       "      <td>988</td>\n",
       "    </tr>\n",
       "    <tr>\n",
       "      <th>CDO</th>\n",
       "      <td>961</td>\n",
       "    </tr>\n",
       "    <tr>\n",
       "      <th>PMLA</th>\n",
       "      <td>868</td>\n",
       "    </tr>\n",
       "    <tr>\n",
       "      <th>CUW</th>\n",
       "      <td>776</td>\n",
       "    </tr>\n",
       "    <tr>\n",
       "      <th>EXT</th>\n",
       "      <td>751</td>\n",
       "    </tr>\n",
       "    <tr>\n",
       "      <th>RFA</th>\n",
       "      <td>695</td>\n",
       "    </tr>\n",
       "    <tr>\n",
       "      <th>HD</th>\n",
       "      <td>614</td>\n",
       "    </tr>\n",
       "  </tbody>\n",
       "</table>\n",
       "</div>"
      ],
      "text/plain": [
       "      Count\n",
       "EIR   95944\n",
       "CPU   86187\n",
       "CE    33071\n",
       "GPA   21405\n",
       "CA    18160\n",
       "VSO   15420\n",
       "CRA   10219\n",
       "SP     9833\n",
       "ZC     9762\n",
       "MEL    7960\n",
       "HPOZ   6542\n",
       "MA     6020\n",
       "ND     5460\n",
       "CUB    5302\n",
       "CWC    4922\n",
       "SPP    4776\n",
       "MND    4026\n",
       "TOC    2854\n",
       "CEX    2606\n",
       "ZV     2393\n",
       "SPR    2091\n",
       "MSC    2069\n",
       "CU     2034\n",
       "ZAA    1996\n",
       "OVR    1678\n",
       "DRB    1324\n",
       "CWNC   1284\n",
       "EAF    1233\n",
       "ZAD    1147\n",
       "DB     1136\n",
       "PMEX   1099\n",
       "MSP    1044\n",
       "DI      990\n",
       "CDP     988\n",
       "CDO     961\n",
       "PMLA    868\n",
       "CUW     776\n",
       "EXT     751\n",
       "RFA     695\n",
       "HD      614"
      ]
     },
     "execution_count": 8,
     "metadata": {},
     "output_type": "execute_result"
    }
   ],
   "source": [
    "suffix_counts = (all_suffixes\n",
    "    .apply(lambda col: col.value_counts(), axis=0)\n",
    "    .sum(axis=1)\n",
    "    .astype(int)\n",
    "    .sort_values(ascending=False)\n",
    ")\n",
    "suffix_counts.to_frame(\"Count\").head(40)"
   ]
  },
  {
   "cell_type": "markdown",
   "metadata": {},
   "source": [
    "Associate each PCTS entitlement case with a census tract:"
   ]
  },
  {
   "cell_type": "code",
   "execution_count": 9,
   "metadata": {},
   "outputs": [],
   "source": [
    "pcts = pcts.merge(\n",
    "    parcel_to_tract[[\"GEOID\", \"AIN\"]],\n",
    "    how=\"left\",\n",
    "    on=\"AIN\",\n",
    ").merge(\n",
    "    tracts[[\"GEOID10\", \"population\", \"density\"]],\n",
    "    how=\"left\",\n",
    "    left_on=\"GEOID\",\n",
    "    right_on=\"GEOID10\",\n",
    ")"
   ]
  },
  {
   "cell_type": "code",
   "execution_count": 10,
   "metadata": {},
   "outputs": [],
   "source": [
    "pcts_suffixes = pandas.concat((pcts, all_suffixes), axis=1)"
   ]
  },
  {
   "cell_type": "markdown",
   "metadata": {},
   "source": [
    "Each case can have multiple suffixes. However, it is useful\n",
    "to be able to refer to a single suffix column when performing\n",
    "aggregations and computing statistics.\n",
    "Here we melt the suffix columns into a single column.\n",
    "This has the effect of creating multiple rows for cases\n",
    "that have multiple entitlements being requested."
   ]
  },
  {
   "cell_type": "code",
   "execution_count": 11,
   "metadata": {},
   "outputs": [],
   "source": [
    "pcts_suffixes = pcts_suffixes.melt(\n",
    "    id_vars=pcts.columns,\n",
    "    var_name=\"nothing\",\n",
    "    value_name=\"suffix\"\n",
    ").dropna(subset=[\"suffix\"]).drop(columns=[\"GEOID10\", \"nothing\"])"
   ]
  },
  {
   "cell_type": "code",
   "execution_count": 12,
   "metadata": {},
   "outputs": [
    {
     "data": {
      "text/html": [
       "<div>\n",
       "<style scoped>\n",
       "    .dataframe tbody tr th:only-of-type {\n",
       "        vertical-align: middle;\n",
       "    }\n",
       "\n",
       "    .dataframe tbody tr th {\n",
       "        vertical-align: top;\n",
       "    }\n",
       "\n",
       "    .dataframe thead th {\n",
       "        text-align: right;\n",
       "    }\n",
       "</style>\n",
       "<table border=\"1\" class=\"dataframe\">\n",
       "  <thead>\n",
       "    <tr style=\"text-align: right;\">\n",
       "      <th></th>\n",
       "      <th>CASE_ID</th>\n",
       "      <th>APLC_ID</th>\n",
       "      <th>CASE_NBR</th>\n",
       "      <th>CASE_SEQ_NBR</th>\n",
       "      <th>CASE_YR_NBR</th>\n",
       "      <th>CASE_ACTION_ID</th>\n",
       "      <th>CASE_FILE_RCV_DT</th>\n",
       "      <th>CASE_FILE_DATE</th>\n",
       "      <th>PARNT_CASE_ID</th>\n",
       "      <th>PARENT_CASE</th>\n",
       "      <th>AIN</th>\n",
       "      <th>PROJ_DESC_TXT</th>\n",
       "      <th>id</th>\n",
       "      <th>GEOID</th>\n",
       "      <th>population</th>\n",
       "      <th>density</th>\n",
       "      <th>suffix</th>\n",
       "    </tr>\n",
       "  </thead>\n",
       "  <tbody>\n",
       "    <tr>\n",
       "      <th>0</th>\n",
       "      <td>193546.0</td>\n",
       "      <td>118838.0</td>\n",
       "      <td>ZA-2013-3079-CEX</td>\n",
       "      <td>3079.0</td>\n",
       "      <td>2013.0</td>\n",
       "      <td>1.0</td>\n",
       "      <td>2013-10-03 00:00:00</td>\n",
       "      <td>2013-10</td>\n",
       "      <td>NaN</td>\n",
       "      <td>193546.0</td>\n",
       "      <td>4420030014</td>\n",
       "      <td>COASTAL EXEMPTION TO ALLOW THE ADDITION OF 275...</td>\n",
       "      <td>3079_2013</td>\n",
       "      <td>06037262604</td>\n",
       "      <td>6232</td>\n",
       "      <td>2856.891649</td>\n",
       "      <td>CEX</td>\n",
       "    </tr>\n",
       "    <tr>\n",
       "      <th>1</th>\n",
       "      <td>234299.0</td>\n",
       "      <td>192286.0</td>\n",
       "      <td>CPC-2019-7393-CA</td>\n",
       "      <td>7393.0</td>\n",
       "      <td>2019.0</td>\n",
       "      <td>NaN</td>\n",
       "      <td>2019-12-11 15:06:32</td>\n",
       "      <td>2019-12</td>\n",
       "      <td>NaN</td>\n",
       "      <td>234299.0</td>\n",
       "      <td>4420030014</td>\n",
       "      <td>CODE AMENDMENT</td>\n",
       "      <td>7393_2019</td>\n",
       "      <td>06037262604</td>\n",
       "      <td>6232</td>\n",
       "      <td>2856.891649</td>\n",
       "      <td>CA</td>\n",
       "    </tr>\n",
       "    <tr>\n",
       "      <th>2</th>\n",
       "      <td>193547.0</td>\n",
       "      <td>118839.0</td>\n",
       "      <td>AA-2013-3080-PMLA-SL</td>\n",
       "      <td>3080.0</td>\n",
       "      <td>2013.0</td>\n",
       "      <td>2.0</td>\n",
       "      <td>2013-10-03 00:00:00</td>\n",
       "      <td>2013-10</td>\n",
       "      <td>NaN</td>\n",
       "      <td>193547.0</td>\n",
       "      <td>5594004009</td>\n",
       "      <td>PRELIMINARY PARCEL MAP SMALL LOT NEW 3 TWO STO...</td>\n",
       "      <td>3080_2013</td>\n",
       "      <td>06037188100</td>\n",
       "      <td>4147</td>\n",
       "      <td>5054.886536</td>\n",
       "      <td>PMLA</td>\n",
       "    </tr>\n",
       "    <tr>\n",
       "      <th>3</th>\n",
       "      <td>193548.0</td>\n",
       "      <td>118839.0</td>\n",
       "      <td>ENV-2013-3081-MND</td>\n",
       "      <td>3081.0</td>\n",
       "      <td>2013.0</td>\n",
       "      <td>NaN</td>\n",
       "      <td>2013-10-03 00:00:00</td>\n",
       "      <td>2013-10</td>\n",
       "      <td>NaN</td>\n",
       "      <td>193548.0</td>\n",
       "      <td>5594004009</td>\n",
       "      <td>PRELIMINARY PARCEL MAP SMALL LOT NEW 3 TWO STO...</td>\n",
       "      <td>3081_2013</td>\n",
       "      <td>06037188100</td>\n",
       "      <td>4147</td>\n",
       "      <td>5054.886536</td>\n",
       "      <td>MND</td>\n",
       "    </tr>\n",
       "    <tr>\n",
       "      <th>4</th>\n",
       "      <td>193549.0</td>\n",
       "      <td>118839.0</td>\n",
       "      <td>ZA-2013-3082-ZAA</td>\n",
       "      <td>3082.0</td>\n",
       "      <td>2013.0</td>\n",
       "      <td>2.0</td>\n",
       "      <td>2013-10-03 00:00:00</td>\n",
       "      <td>2013-10</td>\n",
       "      <td>NaN</td>\n",
       "      <td>193549.0</td>\n",
       "      <td>5594004009</td>\n",
       "      <td>PRELIMINARY PARCEL MAP SMALL LOT NEW 3 TWO STO...</td>\n",
       "      <td>3082_2013</td>\n",
       "      <td>06037188100</td>\n",
       "      <td>4147</td>\n",
       "      <td>5054.886536</td>\n",
       "      <td>ZAA</td>\n",
       "    </tr>\n",
       "  </tbody>\n",
       "</table>\n",
       "</div>"
      ],
      "text/plain": [
       "    CASE_ID   APLC_ID              CASE_NBR  CASE_SEQ_NBR  CASE_YR_NBR  \\\n",
       "0  193546.0  118838.0      ZA-2013-3079-CEX        3079.0       2013.0   \n",
       "1  234299.0  192286.0      CPC-2019-7393-CA        7393.0       2019.0   \n",
       "2  193547.0  118839.0  AA-2013-3080-PMLA-SL        3080.0       2013.0   \n",
       "3  193548.0  118839.0     ENV-2013-3081-MND        3081.0       2013.0   \n",
       "4  193549.0  118839.0      ZA-2013-3082-ZAA        3082.0       2013.0   \n",
       "\n",
       "   CASE_ACTION_ID    CASE_FILE_RCV_DT CASE_FILE_DATE  PARNT_CASE_ID  \\\n",
       "0             1.0 2013-10-03 00:00:00        2013-10            NaN   \n",
       "1             NaN 2019-12-11 15:06:32        2019-12            NaN   \n",
       "2             2.0 2013-10-03 00:00:00        2013-10            NaN   \n",
       "3             NaN 2013-10-03 00:00:00        2013-10            NaN   \n",
       "4             2.0 2013-10-03 00:00:00        2013-10            NaN   \n",
       "\n",
       "   PARENT_CASE         AIN                                      PROJ_DESC_TXT  \\\n",
       "0     193546.0  4420030014  COASTAL EXEMPTION TO ALLOW THE ADDITION OF 275...   \n",
       "1     234299.0  4420030014                           CODE AMENDMENT             \n",
       "2     193547.0  5594004009  PRELIMINARY PARCEL MAP SMALL LOT NEW 3 TWO STO...   \n",
       "3     193548.0  5594004009  PRELIMINARY PARCEL MAP SMALL LOT NEW 3 TWO STO...   \n",
       "4     193549.0  5594004009  PRELIMINARY PARCEL MAP SMALL LOT NEW 3 TWO STO...   \n",
       "\n",
       "          id        GEOID population      density suffix  \n",
       "0  3079_2013  06037262604       6232  2856.891649    CEX  \n",
       "1  7393_2019  06037262604       6232  2856.891649     CA  \n",
       "2  3080_2013  06037188100       4147  5054.886536   PMLA  \n",
       "3  3081_2013  06037188100       4147  5054.886536    MND  \n",
       "4  3082_2013  06037188100       4147  5054.886536    ZAA  "
      ]
     },
     "execution_count": 12,
     "metadata": {},
     "output_type": "execute_result"
    }
   ],
   "source": [
    "pcts_suffixes.head()"
   ]
  },
  {
   "cell_type": "markdown",
   "metadata": {},
   "source": [
    "Our first pass at analyzing entitlements is to count the number\n",
    "of cases for each census tract, to see which kinds of entitlements\n",
    "are being applied for in which types of census tract:"
   ]
  },
  {
   "cell_type": "code",
   "execution_count": 13,
   "metadata": {},
   "outputs": [],
   "source": [
    "entitlement = (pcts_suffixes\n",
    "    .groupby([\"GEOID\", \"suffix\"])\n",
    "    .size()\n",
    "    .to_frame(\"count\")\n",
    ").reset_index(level=1)"
   ]
  },
  {
   "cell_type": "markdown",
   "metadata": {},
   "source": [
    "We next calculate incomes on a census tract level.\n",
    "We pivot the `new_var` column into wide format to get a column for each variable."
   ]
  },
  {
   "cell_type": "code",
   "execution_count": 14,
   "metadata": {},
   "outputs": [],
   "source": [
    "income = census[(census.table == \"incomerange\") & (census.year == 2018)]\n",
    "income = income.pivot(index=\"GEOID\", columns=\"new_var\", values=\"num\")"
   ]
  },
  {
   "cell_type": "markdown",
   "metadata": {},
   "source": [
    "Merge the income data with the entitlements counts:"
   ]
  },
  {
   "cell_type": "code",
   "execution_count": 15,
   "metadata": {},
   "outputs": [],
   "source": [
    "joined = pandas.merge(\n",
    "    income,\n",
    "    entitlement,\n",
    "    how=\"inner\",\n",
    "    left_index=True,\n",
    "    right_index=True,\n",
    ")"
   ]
  },
  {
   "cell_type": "markdown",
   "metadata": {},
   "source": [
    "We'd like to calculate income percentiles from the reported ranges.\n",
    "The following function takes a row from the pivoted ACS data,\n",
    "and estimates a set of percentiles from the binned data:"
   ]
  },
  {
   "cell_type": "code",
   "execution_count": 16,
   "metadata": {},
   "outputs": [],
   "source": [
    "def income_percentiles(row, percentiles, prefix=\"total\"):\n",
    "    # Edges of the reported income bins, in thousands of dollars\n",
    "    bins = [0, 10, 15, 20, 25, 30, 35, 40, 45, 50, 60, 75, 100, 125, 150, 200]\n",
    "    # Iterator over percentiles\n",
    "    p_it = iter(percentiles)\n",
    "    # Final values for percentiles\n",
    "    values = []\n",
    "    # Initialize current percentile and an accumulator variable\n",
    "    curr = next(p_it)\n",
    "    acc = 0\n",
    "    # The total count for the tract\n",
    "    total = row[f\"{prefix}_total\"]\n",
    "    if total <= 0:\n",
    "        return values\n",
    "    for i, b in enumerate(bins):\n",
    "        # Compute the label of the current bin\n",
    "        if i == 0:\n",
    "            label = f\"{prefix}_lt{bins[i+1]}\"\n",
    "        elif i == len(bins) - 1:\n",
    "            label = f\"{prefix}_gt{b}\"\n",
    "        else:\n",
    "            label = f\"{prefix}_r{b}to{bins[i+1]-1}\"\n",
    "        # Estimate the value for the current percentile\n",
    "        # if it falls within this bin\n",
    "        while (acc + row[label])/total > curr/100.0:\n",
    "            frac = (total*curr/100.0 - acc)/row[label]\n",
    "            lower = b\n",
    "            upper = bins[i+1] if i < (len(bins) - 1) else 300. \n",
    "            interp = (1.0 - frac) * lower + frac * upper\n",
    "            values.append(interp)\n",
    "            try:\n",
    "                curr = next(p_it)\n",
    "            except StopIteration:\n",
    "                return values\n",
    "        # Increment the accumulator\n",
    "        acc = acc + row[label]\n",
    "    return values"
   ]
  },
  {
   "cell_type": "markdown",
   "metadata": {},
   "source": [
    "Compute the inter-quartile range for the income data:"
   ]
  },
  {
   "cell_type": "code",
   "execution_count": 17,
   "metadata": {},
   "outputs": [],
   "source": [
    "iqr = joined.apply(\n",
    "    lambda r: pandas.Series(income_percentiles(r, [25,50,75]), dtype=\"float64\"),\n",
    "    axis=1,\n",
    ").rename(columns={0: \"Q1\", 1: \"Q2\", 2: \"Q3\"})"
   ]
  },
  {
   "cell_type": "code",
   "execution_count": 18,
   "metadata": {},
   "outputs": [],
   "source": [
    "joined = pandas.concat((joined, iqr), axis=1)[[\"Q1\", \"Q2\", \"Q3\", \"suffix\", \"count\"]]\n",
    "# Bring in population density\n",
    "joined = joined.reset_index().merge(\n",
    "    tracts[[\"GEOID10\", \"density\"]],\n",
    "    how=\"left\",\n",
    "    left_on=\"GEOID\",\n",
    "    right_on=\"GEOID10\",\n",
    ").drop(columns=\"GEOID10\").set_index(\"GEOID\").dropna()"
   ]
  },
  {
   "cell_type": "markdown",
   "metadata": {},
   "source": [
    "Plot entitlement stats against median household income,\n",
    "population density, and geography:"
   ]
  },
  {
   "cell_type": "code",
   "execution_count": 19,
   "metadata": {},
   "outputs": [],
   "source": [
    "def plot_entitlement(df, tracts, suffix):\n",
    "\n",
    "    tpl = joined[joined[\"count\"] > 0][joined.suffix == suffix]\n",
    "    \n",
    "    fig = plt.figure(figsize=(12,8))\n",
    "    ax1 = plt.subplot2grid((2, 2), (0, 0), colspan=1)\n",
    "    ax1.set_xlabel(\"Median income\")\n",
    "    ax1.set_ylabel(\"Entitlement count\")\n",
    "    ax1.scatter(tpl.Q2, tpl[\"count\"])\n",
    "\n",
    "    ax2 = plt.subplot2grid((2, 2), (1, 0), colspan=1)\n",
    "    ax2.set_xlabel(\"Population density\")\n",
    "    ax2.set_ylabel(\"Entitlement count\")\n",
    "    ax2.scatter(tpl.density, tpl[\"count\"])\n",
    "\n",
    "    ax3 = plt.subplot2grid((2, 2), (0, 1), rowspan=2)\n",
    "    ax3.axis(\"off\")\n",
    "    tracts.merge(\n",
    "        tpl,\n",
    "        left_on=\"GEOID10\",\n",
    "        right_index=True,\n",
    "        how=\"left\"\n",
    "    ).fillna(\n",
    "        {\"count\": 0}\n",
    "    ).plot(\n",
    "        ax=ax3,\n",
    "        column=\"count\",\n",
    "        cmap=\"magma\",\n",
    "    )\n",
    "    plt.close() # Prevent double plotting\n",
    "    return fig"
   ]
  },
  {
   "cell_type": "code",
   "execution_count": 43,
   "metadata": {},
   "outputs": [
    {
     "data": {
      "application/vnd.jupyter.widget-view+json": {
       "model_id": "",
       "version_major": 2,
       "version_minor": 0
      },
      "text/plain": [
       "Dropdown(options=(('EIR (95944)', 'EIR'), ('CPU (86187)', 'CPU'), ('CE (33071)', 'CE'), ('GPA (21405)', 'GPA')…"
      ]
     },
     "metadata": {},
     "output_type": "display_data"
    },
    {
     "data": {
      "image/png": "[encoded data removed]",
      "text/plain": [
       "<Figure size 864x576 with 3 Axes>"
      ]
     },
     "metadata": {},
     "output_type": "display_data"
    }
   ],
   "source": [
    "import ipywidgets\n",
    "\n",
    "dropdown = ipywidgets.Dropdown(\n",
    "    options=[\n",
    "        (f\"{name} ({count})\", name) for name,count in zip(suffix_counts.index, suffix_counts)\n",
    "    ]\n",
    ")\n",
    "    \n",
    "display(dropdown)\n",
    "disp = display(plot_entitlement(joined, tracts, \"TOC\"), display_id=True)\n",
    "\n",
    "def on_selection(*args):\n",
    "    disp.update(plot_entitlement(joined, tracts, dropdown.value))\n",
    "\n",
    "dropdown.observe(on_selection, names=\"value\")\n"
   ]
  },
  {
   "cell_type": "code",
   "execution_count": null,
   "metadata": {},
   "outputs": [],
   "source": []
  }
 ],
 "metadata": {
  "kernelspec": {
   "display_name": "Python 3",
   "language": "python",
   "name": "python3"
  },
  "language_info": {
   "codemirror_mode": {
    "name": "ipython",
    "version": 3
   },
   "file_extension": ".py",
   "mimetype": "text/x-python",
   "name": "python",
   "nbconvert_exporter": "python",
   "pygments_lexer": "ipython3",
   "version": "3.8.2"
  }
 },
 "nbformat": 4,
 "nbformat_minor": 4
}
