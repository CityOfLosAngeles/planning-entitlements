{
 "cells": [
  {
   "cell_type": "markdown",
   "metadata": {},
   "source": [
    "# What are the demographic characteristics of neighborhoods where entitlements are?"
   ]
  },
  {
   "cell_type": "code",
   "execution_count": 1,
   "metadata": {},
   "outputs": [],
   "source": [
    "import intake\n",
    "import IPython.display\n",
    "import matplotlib.pyplot as plt\n",
    "import pandas\n",
    "\n",
    "cat = intake.open_catalog(\"../catalogs/*.yml\")"
   ]
  },
  {
   "cell_type": "code",
   "execution_count": 2,
   "metadata": {},
   "outputs": [],
   "source": [
    "# Load PCTS extract\n",
    "pcts = cat.pcts2.read().reset_index(drop=True)"
   ]
  },
  {
   "cell_type": "code",
   "execution_count": 3,
   "metadata": {},
   "outputs": [],
   "source": [
    "# ACS data for income, race, commute, tenure\n",
    "census = cat.census_analysis_table.read()"
   ]
  },
  {
   "cell_type": "code",
   "execution_count": 4,
   "metadata": {},
   "outputs": [],
   "source": [
    "# Census tracts\n",
    "tracts = cat.census_tracts.read()\n",
    "tracts = tracts.assign(\n",
    "    density=tracts.HD01_VD01.astype(int)/(tracts.Shape_STAr/5280./5280.),\n",
    "    population=tracts.HD01_VD01,\n",
    ")"
   ]
  },
  {
   "cell_type": "code",
   "execution_count": 5,
   "metadata": {},
   "outputs": [],
   "source": [
    "parcel_to_tract = cat.crosswalk_parcels_tracts.read()"
   ]
  },
  {
   "cell_type": "code",
   "execution_count": 6,
   "metadata": {},
   "outputs": [],
   "source": [
    "# The requested entitlements are in the suffixes of the PCTS case number.\n",
    "# A given case can have an arbitrary number of entitlement suffixes, so\n",
    "# we need to parse it into its component parts.\n",
    "# We can use a regex for that:\n",
    "\n",
    "from utils import GENERAL_PCTS_RE\n",
    "cols = pcts.CASE_NBR.str.extract(GENERAL_PCTS_RE)"
   ]
  },
  {
   "cell_type": "code",
   "execution_count": 7,
   "metadata": {},
   "outputs": [
    {
     "data": {
      "text/html": [
       "<div>\n",
       "<style scoped>\n",
       "    .dataframe tbody tr th:only-of-type {\n",
       "        vertical-align: middle;\n",
       "    }\n",
       "\n",
       "    .dataframe tbody tr th {\n",
       "        vertical-align: top;\n",
       "    }\n",
       "\n",
       "    .dataframe thead th {\n",
       "        text-align: right;\n",
       "    }\n",
       "</style>\n",
       "<table border=\"1\" class=\"dataframe\">\n",
       "  <thead>\n",
       "    <tr style=\"text-align: right;\">\n",
       "      <th></th>\n",
       "      <th>0</th>\n",
       "      <th>1</th>\n",
       "      <th>2</th>\n",
       "      <th>3</th>\n",
       "    </tr>\n",
       "  </thead>\n",
       "  <tbody>\n",
       "    <tr>\n",
       "      <th>0</th>\n",
       "      <td>ZA</td>\n",
       "      <td>2013</td>\n",
       "      <td>3079</td>\n",
       "      <td>-CEX</td>\n",
       "    </tr>\n",
       "    <tr>\n",
       "      <th>1</th>\n",
       "      <td>CPC</td>\n",
       "      <td>2019</td>\n",
       "      <td>7393</td>\n",
       "      <td>-CA</td>\n",
       "    </tr>\n",
       "    <tr>\n",
       "      <th>2</th>\n",
       "      <td>AA</td>\n",
       "      <td>2013</td>\n",
       "      <td>3080</td>\n",
       "      <td>-PMLA-SL</td>\n",
       "    </tr>\n",
       "    <tr>\n",
       "      <th>3</th>\n",
       "      <td>ENV</td>\n",
       "      <td>2013</td>\n",
       "      <td>3081</td>\n",
       "      <td>-MND</td>\n",
       "    </tr>\n",
       "    <tr>\n",
       "      <th>4</th>\n",
       "      <td>ZA</td>\n",
       "      <td>2013</td>\n",
       "      <td>3082</td>\n",
       "      <td>-ZAA</td>\n",
       "    </tr>\n",
       "    <tr>\n",
       "      <th>...</th>\n",
       "      <td>...</td>\n",
       "      <td>...</td>\n",
       "      <td>...</td>\n",
       "      <td>...</td>\n",
       "    </tr>\n",
       "    <tr>\n",
       "      <th>349550</th>\n",
       "      <td>ZA</td>\n",
       "      <td>2020</td>\n",
       "      <td>400</td>\n",
       "      <td>-CU</td>\n",
       "    </tr>\n",
       "    <tr>\n",
       "      <th>349551</th>\n",
       "      <td>ADM</td>\n",
       "      <td>2020</td>\n",
       "      <td>329</td>\n",
       "      <td>-TOC</td>\n",
       "    </tr>\n",
       "    <tr>\n",
       "      <th>349552</th>\n",
       "      <td>DIR</td>\n",
       "      <td>2020</td>\n",
       "      <td>306</td>\n",
       "      <td>-DRB-SPP-MSP</td>\n",
       "    </tr>\n",
       "    <tr>\n",
       "      <th>349553</th>\n",
       "      <td>ADM</td>\n",
       "      <td>2020</td>\n",
       "      <td>272</td>\n",
       "      <td>-CPIOC</td>\n",
       "    </tr>\n",
       "    <tr>\n",
       "      <th>349554</th>\n",
       "      <td>ADM</td>\n",
       "      <td>2020</td>\n",
       "      <td>374</td>\n",
       "      <td>-CWC</td>\n",
       "    </tr>\n",
       "  </tbody>\n",
       "</table>\n",
       "<p>349555 rows × 4 columns</p>\n",
       "</div>"
      ],
      "text/plain": [
       "          0     1     2             3\n",
       "0        ZA  2013  3079          -CEX\n",
       "1       CPC  2019  7393           -CA\n",
       "2        AA  2013  3080      -PMLA-SL\n",
       "3       ENV  2013  3081          -MND\n",
       "4        ZA  2013  3082          -ZAA\n",
       "...     ...   ...   ...           ...\n",
       "349550   ZA  2020   400           -CU\n",
       "349551  ADM  2020   329          -TOC\n",
       "349552  DIR  2020   306  -DRB-SPP-MSP\n",
       "349553  ADM  2020   272        -CPIOC\n",
       "349554  ADM  2020   374          -CWC\n",
       "\n",
       "[349555 rows x 4 columns]"
      ]
     },
     "execution_count": 7,
     "metadata": {},
     "output_type": "execute_result"
    }
   ],
   "source": [
    "cols"
   ]
  },
  {
   "cell_type": "code",
   "execution_count": 8,
   "metadata": {},
   "outputs": [],
   "source": [
    "all_suffixes = cols[3].str.strip(\"-\").str.split(\"-\", expand=True)"
   ]
  },
  {
   "cell_type": "code",
   "execution_count": 9,
   "metadata": {},
   "outputs": [],
   "source": [
    "suffix_counts = (all_suffixes\n",
    "    .apply(lambda col: col.value_counts(), axis=0)\n",
    "    .sum(axis=1)\n",
    "    .astype(int)\n",
    "    .sort_values(ascending=False)\n",
    ")"
   ]
  },
  {
   "cell_type": "code",
   "execution_count": 10,
   "metadata": {},
   "outputs": [],
   "source": [
    "# Associate each PCTS entitlement case with a census tract:\n",
    "pcts = pcts.merge(\n",
    "    parcel_to_tract[[\"GEOID\", \"AIN\"]],\n",
    "    how=\"left\",\n",
    "    on=\"AIN\",\n",
    ").merge(\n",
    "    tracts[[\"GEOID10\"]],\n",
    "    how=\"left\",\n",
    "    left_on=\"GEOID\",\n",
    "    right_on=\"GEOID10\",\n",
    ")"
   ]
  },
  {
   "cell_type": "code",
   "execution_count": 11,
   "metadata": {},
   "outputs": [],
   "source": [
    "pcts_suffixes = pandas.concat((pcts, all_suffixes), axis=1)"
   ]
  },
  {
   "cell_type": "code",
   "execution_count": null,
   "metadata": {},
   "outputs": [],
   "source": [
    "# Each case can have multiple suffixes. However, it is useful\n",
    "# to be able to refer to a single suffix column when performing\n",
    "# aggregations and computing statistics.\n",
    "# Here we melt the suffix columns into a single column.\n",
    "# This has the effect of creating multiple rows for cases\n",
    "# that have multiple entitlements being requested.\n",
    "\n",
    "pcts_suffixes = pcts_suffixes.melt(\n",
    "    id_vars=pcts.columns,\n",
    "    var_name=\"nothing\",\n",
    "    value_name=\"suffix\"\n",
    ").dropna(subset=[\"suffix\"]).drop(columns=[\"GEOID10\", \"nothing\"])"
   ]
  },
  {
   "cell_type": "code",
   "execution_count": null,
   "metadata": {},
   "outputs": [],
   "source": [
    "big_cases = pcts_suffixes.CASE_ID.value_counts().head(100).index\n",
    "pcts_suffixes = pcts_suffixes[~pcts_suffixes.CASE_ID.isin(big_cases)]"
   ]
  },
  {
   "cell_type": "code",
   "execution_count": null,
   "metadata": {},
   "outputs": [],
   "source": [
    "# Our first pass at analyzing entitlements is to count the number\n",
    "# of cases for each census tract, to see which kinds of entitlements\n",
    "# are being applied for in which types of census tract:\n",
    "entitlement = (pcts_suffixes\n",
    "    .groupby([\"GEOID\", \"suffix\", \"CASE_YR_NBR\"])\n",
    "    .size()\n",
    "    .to_frame(\"count\")\n",
    ").reset_index(level=1).reset_index(level=1).rename(columns={\"CASE_YR_NBR\": \"year\"})\n",
    "entitlement = entitlement.assign(\n",
    "    year=entitlement.year.astype(\"Int64\")\n",
    ")"
   ]
  },
  {
   "cell_type": "code",
   "execution_count": null,
   "metadata": {},
   "outputs": [],
   "source": [
    "# Merge the income data with the entitlements counts:\n",
    "joined = pandas.merge(\n",
    "    census.set_index(\"GEOID\"),\n",
    "    entitlement,\n",
    "    how=\"left\",\n",
    "    left_index=True,\n",
    "    right_index=True,\n",
    ")\n",
    "joined = joined.assign(\n",
    "    count=joined[\"count\"].fillna(0).astype(\"int64\")\n",
    ").dropna()"
   ]
  },
  {
   "cell_type": "code",
   "execution_count": null,
   "metadata": {},
   "outputs": [],
   "source": [
    "# Bring in population density\n",
    "joined = joined.reset_index().merge(\n",
    "    tracts[[\"GEOID10\"]],\n",
    "    how=\"left\",\n",
    "    left_on=\"GEOID\",\n",
    "    right_on=\"GEOID10\",\n",
    ").drop(columns=\"GEOID10\").set_index(\"GEOID\").dropna()"
   ]
  },
  {
   "cell_type": "code",
   "execution_count": null,
   "metadata": {},
   "outputs": [],
   "source": [
    "# Plot entitlement stats against median household income,\n",
    "# population density, and geography:\n",
    "def plot_entitlement(df, tracts, suffix, year=\"2017\"):\n",
    "    if year == \"all\":\n",
    "        to_plot = df[(df[\"count\"] > 0) & (df.year >= 2010) & (df.suffix == suffix)]\n",
    "        to_plot = to_plot.groupby(to_plot.index).agg({\n",
    "            \"count\": \"sum\",\n",
    "            \"medhhincome\": \"first\",\n",
    "            \"density\": \"first\"\n",
    "        })\n",
    "    else:\n",
    "        to_plot = df[(df[\"count\"] > 0) & (df.year == int(year)) & (df.suffix == suffix)]\n",
    "    \n",
    "    fig = plt.figure(figsize=(12,8))\n",
    "    ax1 = plt.subplot2grid((2, 2), (0, 0), colspan=1)\n",
    "    ax1.set_xlabel(\"Median income\")\n",
    "    ax1.set_ylabel(\"Entitlement count per tract\")\n",
    "    ax1.scatter(to_plot.medhhincome, to_plot[\"count\"])\n",
    "\n",
    "    ax2 = plt.subplot2grid((2, 2), (1, 0), colspan=1)\n",
    "    ax2.set_xlabel(\"Population density\")\n",
    "    ax2.set_ylabel(\"Entitlement count per tract\")\n",
    "    ax2.scatter(to_plot.density, to_plot[\"count\"])\n",
    "\n",
    "    ax3 = plt.subplot2grid((2, 2), (0, 1), rowspan=2)\n",
    "    ax3.axis(\"off\")\n",
    "    tracts.merge(\n",
    "        to_plot,\n",
    "        left_on=\"GEOID10\",\n",
    "        right_index=True,\n",
    "        how=\"left\"\n",
    "    ).fillna(\n",
    "        {\"count\": 0}\n",
    "    ).plot(\n",
    "        ax=ax3,\n",
    "        column=\"count\",\n",
    "        cmap=\"magma\",\n",
    "    )\n",
    "    plt.close() # Prevent double plotting\n",
    "    return fig"
   ]
  },
  {
   "cell_type": "code",
   "execution_count": null,
   "metadata": {},
   "outputs": [],
   "source": [
    "df = joined\n",
    "suffix=\"CE\"\n",
    "to_plot = df[(df[\"count\"] > 0) & (df.year >= 2010) & (df.suffix == suffix)]\n",
    "to_plot.groupby(to_plot.index).agg({\n",
    "            \"count\": \"sum\",\n",
    "            \"medhhincome\": \"first\",\n",
    "            \"density\": \"first\"\n",
    "        }).dtypes"
   ]
  },
  {
   "cell_type": "code",
   "execution_count": null,
   "metadata": {},
   "outputs": [],
   "source": [
    "import ipywidgets\n",
    "\n",
    "years = [(\"All (from 2010 - present)\", \"all\")] + [(str(i), str(i)) for i in range(2010, 2020)]\n",
    "year_dropdown = ipywidgets.Dropdown(description=\"Year\", options=years)\n",
    "suffix_dropdown = ipywidgets.Dropdown(description=\"Suffix\")\n",
    "output = ipywidgets.Output()\n",
    "\n",
    "display(year_dropdown)\n",
    "display(suffix_dropdown)\n",
    "display(output)\n",
    "\n",
    "change_guard = False\n",
    "\n",
    "def on_suffix_selection(*args):\n",
    "    global change_guard\n",
    "    if change_guard:\n",
    "        return\n",
    "    output.clear_output(wait=True)\n",
    "    suffix = suffix_dropdown.value\n",
    "    year = year_dropdown.value\n",
    "    with output:\n",
    "        display(plot_entitlement(joined, tracts, suffix, year))\n",
    "\n",
    "def on_year_selection(*args):\n",
    "    global change_guard\n",
    "    if year_dropdown.value == \"all\":\n",
    "        condition = (joined.year >= 2010)\n",
    "    else:\n",
    "        condition = (joined.year == int(year_dropdown.value))\n",
    "    counts = joined[condition].groupby(\"suffix\").agg({\"count\": \"sum\"})[\"count\"]\n",
    "    counts = counts.sort_values(ascending=False)\n",
    "    old_val = suffix_dropdown.value \n",
    "    change_guard=True\n",
    "    suffix_dropdown.options = [\n",
    "        (f\"{name} ({count:,} applications)\", name) \n",
    "        for name,count in zip(counts.index, counts)\n",
    "    ]\n",
    "    if old_val in counts.index:\n",
    "        suffix_dropdown.value = old_val\n",
    "    else:\n",
    "        suffix_dropdown.index = 0\n",
    "    change_guard=False\n",
    "    on_suffix_selection()\n",
    "\n",
    "on_year_selection()\n",
    "suffix_dropdown.observe(on_suffix_selection, names=\"value\")\n",
    "year_dropdown.observe(on_year_selection, names=\"value\")"
   ]
  }
 ],
 "metadata": {
  "kernelspec": {
   "display_name": "Python 3",
   "language": "python",
   "name": "python3"
  },
  "language_info": {
   "codemirror_mode": {
    "name": "ipython",
    "version": 3
   },
   "file_extension": ".py",
   "mimetype": "text/x-python",
   "name": "python",
   "nbconvert_exporter": "python",
   "pygments_lexer": "ipython3",
   "version": "3.8.3"
  }
 },
 "nbformat": 4,
 "nbformat_minor": 4
}
