{
 "cells": [
  {
   "cell_type": "markdown",
   "metadata": {},
   "source": [
    "# What are the demographic characteristics of neighborhoods where entitlements are?"
   ]
  },
  {
   "cell_type": "code",
   "execution_count": 1,
   "metadata": {},
   "outputs": [],
   "source": [
    "import intake\n",
    "import IPython.display\n",
    "import ipywidgets\n",
    "import matplotlib.pyplot as plt\n",
    "import numpy as np\n",
    "import pandas\n",
    "import pcts_census_utils\n",
    "\n",
    "cat = intake.open_catalog(\"../catalogs/*.yml\")"
   ]
  },
  {
   "cell_type": "markdown",
   "metadata": {},
   "source": [
    "## Load data"
   ]
  },
  {
   "cell_type": "code",
   "execution_count": 2,
   "metadata": {},
   "outputs": [],
   "source": [
    "prefix_list = pcts_census_utils.FULL_PREFIX_LIST\n",
    "suffix_list = pcts_census_utils.FULL_SUFFIX_LIST\n",
    "\n",
    "remove_prefix = [\"ENV\"]\n",
    "remove_suffix = [\"EIR\",\"IPRO\",\"CA\",\"CATEX\",\"CPIO\",\"CPU\",\"FH\",\"G\",\"HD\",\"HPOZ\",\"ICO\",\"K\",\"LCP\",\"NSO\",\"S\",\"SN\",\"SP\",\"ZAI\"]\n",
    "\n",
    "prefix_list = [x for x in prefix_list if x not in remove_prefix]\n",
    "suffix_list = [x for x in suffix_list if x not in remove_suffix]"
   ]
  },
  {
   "cell_type": "code",
   "execution_count": 3,
   "metadata": {},
   "outputs": [],
   "source": [
    "# Load PCTS and subset to the prefix / suffix list we want\n",
    "pcts = pcts_census_utils.get_pcts_parents(None, None, prefix_list, suffix_list)"
   ]
  },
  {
   "cell_type": "code",
   "execution_count": 5,
   "metadata": {},
   "outputs": [],
   "source": [
    "# Split PCTS info to case info (constant within a case), and the prefixes and suffixes (make this long)\n",
    "case_info_cols = [\"CASE_ID\", \"APLC_ID\", \"CASE_NBR\", \"CASE_SEQ_NBR\", \"CASE_YR_NBR\", \"CASE_ACTION_ID\", \n",
    "           \"CASE_FILE_RCV_DT\", \"CASE_FILE_DATE\", \"PARNT_CASE_ID\", \"PARENT_CASE\", \n",
    "            \"AIN\", \"PROJ_DESC_TXT\", \"id\"]\n",
    "\n",
    "\n",
    "# Make a df that has info about case. \n",
    "# Once we reshape prefixes/suffixes to be long, \n",
    "# we can merge these 2 parts together again with a m:1 merge.\n",
    "pcts_case_info = pcts[case_info_cols]"
   ]
  },
  {
   "cell_type": "code",
   "execution_count": 6,
   "metadata": {},
   "outputs": [],
   "source": [
    "# Make a list of only prefixes/suffixes \n",
    "drop_case_info = case_info_cols.copy()\n",
    "drop_case_info.remove(\"CASE_ID\")\n",
    "\n",
    "# Make a df that contains ONLY suffixes\n",
    "drop_me = prefix_list + drop_case_info\n",
    "pcts_suffix = pcts.drop(columns = drop_me).drop_duplicates()\n",
    "\n",
    "# Replace 0's in the dummy with NaNs so we can do a dropna later\n",
    "pcts_suffix = pcts_suffix.replace(0, np.nan)"
   ]
  },
  {
   "cell_type": "code",
   "execution_count": 7,
   "metadata": {},
   "outputs": [
    {
     "data": {
      "text/html": [
       "<div>\n",
       "<style scoped>\n",
       "    .dataframe tbody tr th:only-of-type {\n",
       "        vertical-align: middle;\n",
       "    }\n",
       "\n",
       "    .dataframe tbody tr th {\n",
       "        vertical-align: top;\n",
       "    }\n",
       "\n",
       "    .dataframe thead th {\n",
       "        text-align: right;\n",
       "    }\n",
       "</style>\n",
       "<table border=\"1\" class=\"dataframe\">\n",
       "  <thead>\n",
       "    <tr style=\"text-align: right;\">\n",
       "      <th></th>\n",
       "      <th>CASE_ID</th>\n",
       "      <th>suffix</th>\n",
       "    </tr>\n",
       "  </thead>\n",
       "  <tbody>\n",
       "    <tr>\n",
       "      <th>0</th>\n",
       "      <td>177271.0</td>\n",
       "      <td>1A</td>\n",
       "    </tr>\n",
       "    <tr>\n",
       "      <th>1</th>\n",
       "      <td>177308.0</td>\n",
       "      <td>1A</td>\n",
       "    </tr>\n",
       "  </tbody>\n",
       "</table>\n",
       "</div>"
      ],
      "text/plain": [
       "    CASE_ID suffix\n",
       "0  177271.0     1A\n",
       "1  177308.0     1A"
      ]
     },
     "execution_count": 7,
     "metadata": {},
     "output_type": "execute_result"
    }
   ],
   "source": [
    "# Each case can have multiple suffixes. However, it is useful\n",
    "# to be able to refer to a single suffix column when performing\n",
    "# aggregations and computing statistics.\n",
    "# Here we melt the suffix columns into a single column.\n",
    "# This has the effect of creating multiple rows for cases\n",
    "# that have multiple entitlements being requested.\n",
    "pcts_suffix = pcts_suffix.melt(\n",
    "        id_vars=\"CASE_ID\",\n",
    "        var_name=\"suffix\",\n",
    "        value_name=\"dummy\"\n",
    "    ).dropna(subset=[\"dummy\"]).drop(columns = \"dummy\")\n",
    "\n",
    "pcts_suffix.head(2)"
   ]
  },
  {
   "cell_type": "code",
   "execution_count": 8,
   "metadata": {},
   "outputs": [
    {
     "data": {
      "text/html": [
       "<div>\n",
       "<style scoped>\n",
       "    .dataframe tbody tr th:only-of-type {\n",
       "        vertical-align: middle;\n",
       "    }\n",
       "\n",
       "    .dataframe tbody tr th {\n",
       "        vertical-align: top;\n",
       "    }\n",
       "\n",
       "    .dataframe thead th {\n",
       "        text-align: right;\n",
       "    }\n",
       "</style>\n",
       "<table border=\"1\" class=\"dataframe\">\n",
       "  <thead>\n",
       "    <tr style=\"text-align: right;\">\n",
       "      <th></th>\n",
       "      <th>CASE_ID</th>\n",
       "      <th>APLC_ID</th>\n",
       "      <th>CASE_NBR</th>\n",
       "      <th>CASE_SEQ_NBR</th>\n",
       "      <th>CASE_YR_NBR</th>\n",
       "      <th>CASE_ACTION_ID</th>\n",
       "      <th>CASE_FILE_RCV_DT</th>\n",
       "      <th>CASE_FILE_DATE</th>\n",
       "      <th>PARNT_CASE_ID</th>\n",
       "      <th>PARENT_CASE</th>\n",
       "      <th>AIN</th>\n",
       "      <th>PROJ_DESC_TXT</th>\n",
       "      <th>id</th>\n",
       "      <th>suffix</th>\n",
       "    </tr>\n",
       "  </thead>\n",
       "  <tbody>\n",
       "    <tr>\n",
       "      <th>0</th>\n",
       "      <td>177271.0</td>\n",
       "      <td>107583.0</td>\n",
       "      <td>ZA-1999-340-RV-PA4-1A</td>\n",
       "      <td>340.0</td>\n",
       "      <td>1999.0</td>\n",
       "      <td>NaN</td>\n",
       "      <td>2010-01-07 00:00:00</td>\n",
       "      <td>2010-01</td>\n",
       "      <td>174171.0</td>\n",
       "      <td>174171.0</td>\n",
       "      <td>5146001001</td>\n",
       "      <td>None</td>\n",
       "      <td>340_2010</td>\n",
       "      <td>1A</td>\n",
       "    </tr>\n",
       "    <tr>\n",
       "      <th>1</th>\n",
       "      <td>177308.0</td>\n",
       "      <td>107608.0</td>\n",
       "      <td>ZA-2008-2334-CDP-MEL-1A</td>\n",
       "      <td>2334.0</td>\n",
       "      <td>2008.0</td>\n",
       "      <td>NaN</td>\n",
       "      <td>2010-01-12 09:35:03</td>\n",
       "      <td>2010-01</td>\n",
       "      <td>168311.0</td>\n",
       "      <td>168311.0</td>\n",
       "      <td>4415033002</td>\n",
       "      <td>None</td>\n",
       "      <td>2334_2010</td>\n",
       "      <td>1A</td>\n",
       "    </tr>\n",
       "  </tbody>\n",
       "</table>\n",
       "</div>"
      ],
      "text/plain": [
       "    CASE_ID   APLC_ID                 CASE_NBR  CASE_SEQ_NBR  CASE_YR_NBR  \\\n",
       "0  177271.0  107583.0    ZA-1999-340-RV-PA4-1A         340.0       1999.0   \n",
       "1  177308.0  107608.0  ZA-2008-2334-CDP-MEL-1A        2334.0       2008.0   \n",
       "\n",
       "   CASE_ACTION_ID    CASE_FILE_RCV_DT CASE_FILE_DATE  PARNT_CASE_ID  \\\n",
       "0             NaN 2010-01-07 00:00:00        2010-01       174171.0   \n",
       "1             NaN 2010-01-12 09:35:03        2010-01       168311.0   \n",
       "\n",
       "   PARENT_CASE         AIN PROJ_DESC_TXT         id suffix  \n",
       "0     174171.0  5146001001          None   340_2010     1A  \n",
       "1     168311.0  4415033002          None  2334_2010     1A  "
      ]
     },
     "execution_count": 8,
     "metadata": {},
     "output_type": "execute_result"
    }
   ],
   "source": [
    "# Merge the 2 dfs together\n",
    "pcts_cleaned = pandas.merge(pcts_case_info, pcts_suffix, on = \"CASE_ID\", how = \"inner\")\n",
    "pcts_cleaned.head(2)"
   ]
  },
  {
   "cell_type": "code",
   "execution_count": 9,
   "metadata": {},
   "outputs": [],
   "source": [
    "# ACS data for income, race, commute, tenure\n",
    "census = cat.census_analysis_table.read()\n",
    "\n",
    "# Census tracts\n",
    "tracts = cat.census_tracts.read()\n",
    "tracts = (tracts[[\"GEOID10\", \"geometry\"]]\n",
    "          .rename(columns = {\"GEOID10\": \"GEOID\"})\n",
    "         )"
   ]
  },
  {
   "cell_type": "code",
   "execution_count": 10,
   "metadata": {},
   "outputs": [],
   "source": [
    "# Crosswalk linking AIN to tract GEOID\n",
    "parcel_to_tract = cat.crosswalk_parcels_tracts.read()\n",
    "parcel_to_tract = parcel_to_tract[[\"AIN\", \"num_AIN\", \"GEOID\"]]"
   ]
  },
  {
   "cell_type": "code",
   "execution_count": 11,
   "metadata": {},
   "outputs": [],
   "source": [
    "# Merge entitlements with tract using crosswalk\n",
    "pcts_df = pandas.merge(pcts_cleaned, parcel_to_tract, \n",
    "                       on = \"AIN\", how = \"inner\", validate = \"m:1\")"
   ]
  },
  {
   "cell_type": "code",
   "execution_count": 12,
   "metadata": {},
   "outputs": [
    {
     "data": {
      "text/plain": [
       "1    2813\n",
       "Name: num_AIN, dtype: int64"
      ]
     },
     "execution_count": 12,
     "metadata": {},
     "output_type": "execute_result"
    }
   ],
   "source": [
    "# Check if there were duplicate parcels...not sure how to address there is num_AIN > 1\n",
    "pcts_df.num_AIN.value_counts()"
   ]
  },
  {
   "cell_type": "markdown",
   "metadata": {},
   "source": [
    "## Clean up data and get rid of outliers"
   ]
  },
  {
   "cell_type": "code",
   "execution_count": 13,
   "metadata": {},
   "outputs": [],
   "source": [
    "big_cases = pcts_df.CASE_ID.value_counts().head(100).index\n",
    "pcts_df = pcts_df[~pcts_df.CASE_ID.isin(big_cases)]"
   ]
  },
  {
   "cell_type": "code",
   "execution_count": 14,
   "metadata": {},
   "outputs": [],
   "source": [
    "# Our first pass at analyzing entitlements is to count the number\n",
    "# of cases for each census tract, to see which kinds of entitlements\n",
    "# are being applied for in which types of census tract:\n",
    "entitlement = (pcts_df\n",
    "    .groupby([\"GEOID\", \"suffix\", \"CASE_YR_NBR\"])\n",
    "    .size()\n",
    "    .to_frame(\"count\")\n",
    ").reset_index(level=1).reset_index(level=1).rename(columns={\"CASE_YR_NBR\": \"year\"})\n",
    "entitlement = entitlement.assign(\n",
    "    year=entitlement.year.astype(\"Int64\")\n",
    ")"
   ]
  },
  {
   "cell_type": "code",
   "execution_count": 15,
   "metadata": {},
   "outputs": [
    {
     "data": {
      "text/html": [
       "<div>\n",
       "<style scoped>\n",
       "    .dataframe tbody tr th:only-of-type {\n",
       "        vertical-align: middle;\n",
       "    }\n",
       "\n",
       "    .dataframe tbody tr th {\n",
       "        vertical-align: top;\n",
       "    }\n",
       "\n",
       "    .dataframe thead th {\n",
       "        text-align: right;\n",
       "    }\n",
       "</style>\n",
       "<table border=\"1\" class=\"dataframe\">\n",
       "  <thead>\n",
       "    <tr style=\"text-align: right;\">\n",
       "      <th></th>\n",
       "      <th>GEOID</th>\n",
       "      <th>non_car_workers</th>\n",
       "      <th>workers_total</th>\n",
       "      <th>pct_non_car_workers</th>\n",
       "      <th>zero_veh_workers</th>\n",
       "      <th>pct_zero_veh_workers</th>\n",
       "      <th>pop_renter</th>\n",
       "      <th>pop_total</th>\n",
       "      <th>pct_pop_renter</th>\n",
       "      <th>pop_whitenonhisp</th>\n",
       "      <th>...</th>\n",
       "      <th>total_r75to99</th>\n",
       "      <th>total_r100to124</th>\n",
       "      <th>total_r125to149</th>\n",
       "      <th>total_r150to199</th>\n",
       "      <th>total_gt200</th>\n",
       "      <th>total_total</th>\n",
       "      <th>density</th>\n",
       "      <th>year</th>\n",
       "      <th>suffix</th>\n",
       "      <th>count</th>\n",
       "    </tr>\n",
       "  </thead>\n",
       "  <tbody>\n",
       "    <tr>\n",
       "      <th>3</th>\n",
       "      <td>06037101220</td>\n",
       "      <td>54</td>\n",
       "      <td>1513</td>\n",
       "      <td>0.035691</td>\n",
       "      <td>54</td>\n",
       "      <td>0.035691</td>\n",
       "      <td>2110</td>\n",
       "      <td>3497</td>\n",
       "      <td>0.603374</td>\n",
       "      <td>1694</td>\n",
       "      <td>...</td>\n",
       "      <td>88</td>\n",
       "      <td>110</td>\n",
       "      <td>45</td>\n",
       "      <td>43</td>\n",
       "      <td>39</td>\n",
       "      <td>1294</td>\n",
       "      <td>12959.051215</td>\n",
       "      <td>2011</td>\n",
       "      <td>1A</td>\n",
       "      <td>1</td>\n",
       "    </tr>\n",
       "    <tr>\n",
       "      <th>4</th>\n",
       "      <td>06037101300</td>\n",
       "      <td>86</td>\n",
       "      <td>2041</td>\n",
       "      <td>0.042136</td>\n",
       "      <td>10</td>\n",
       "      <td>0.004900</td>\n",
       "      <td>353</td>\n",
       "      <td>4250</td>\n",
       "      <td>0.083059</td>\n",
       "      <td>3503</td>\n",
       "      <td>...</td>\n",
       "      <td>200</td>\n",
       "      <td>146</td>\n",
       "      <td>107</td>\n",
       "      <td>195</td>\n",
       "      <td>184</td>\n",
       "      <td>1435</td>\n",
       "      <td>4266.139121</td>\n",
       "      <td>1995</td>\n",
       "      <td>1A</td>\n",
       "      <td>1</td>\n",
       "    </tr>\n",
       "    <tr>\n",
       "      <th>9</th>\n",
       "      <td>06037102107</td>\n",
       "      <td>0</td>\n",
       "      <td>2044</td>\n",
       "      <td>0.000000</td>\n",
       "      <td>65</td>\n",
       "      <td>0.031800</td>\n",
       "      <td>1045</td>\n",
       "      <td>4106</td>\n",
       "      <td>0.254506</td>\n",
       "      <td>2604</td>\n",
       "      <td>...</td>\n",
       "      <td>78</td>\n",
       "      <td>148</td>\n",
       "      <td>170</td>\n",
       "      <td>275</td>\n",
       "      <td>116</td>\n",
       "      <td>1305</td>\n",
       "      <td>823.021741</td>\n",
       "      <td>2012</td>\n",
       "      <td>1A</td>\n",
       "      <td>1</td>\n",
       "    </tr>\n",
       "    <tr>\n",
       "      <th>11</th>\n",
       "      <td>06037103102</td>\n",
       "      <td>84</td>\n",
       "      <td>2335</td>\n",
       "      <td>0.035974</td>\n",
       "      <td>7</td>\n",
       "      <td>0.002998</td>\n",
       "      <td>878</td>\n",
       "      <td>4456</td>\n",
       "      <td>0.197038</td>\n",
       "      <td>2569</td>\n",
       "      <td>...</td>\n",
       "      <td>197</td>\n",
       "      <td>231</td>\n",
       "      <td>157</td>\n",
       "      <td>103</td>\n",
       "      <td>87</td>\n",
       "      <td>1568</td>\n",
       "      <td>9300.390425</td>\n",
       "      <td>2010</td>\n",
       "      <td>1A</td>\n",
       "      <td>1</td>\n",
       "    </tr>\n",
       "    <tr>\n",
       "      <th>12</th>\n",
       "      <td>06037103200</td>\n",
       "      <td>95</td>\n",
       "      <td>2876</td>\n",
       "      <td>0.033032</td>\n",
       "      <td>78</td>\n",
       "      <td>0.027121</td>\n",
       "      <td>1886</td>\n",
       "      <td>6451</td>\n",
       "      <td>0.292358</td>\n",
       "      <td>3659</td>\n",
       "      <td>...</td>\n",
       "      <td>196</td>\n",
       "      <td>384</td>\n",
       "      <td>231</td>\n",
       "      <td>115</td>\n",
       "      <td>169</td>\n",
       "      <td>2274</td>\n",
       "      <td>2252.956186</td>\n",
       "      <td>2006</td>\n",
       "      <td>1A</td>\n",
       "      <td>1</td>\n",
       "    </tr>\n",
       "  </tbody>\n",
       "</table>\n",
       "<p>5 rows × 33 columns</p>\n",
       "</div>"
      ],
      "text/plain": [
       "          GEOID  non_car_workers  workers_total  pct_non_car_workers  \\\n",
       "3   06037101220               54           1513             0.035691   \n",
       "4   06037101300               86           2041             0.042136   \n",
       "9   06037102107                0           2044             0.000000   \n",
       "11  06037103102               84           2335             0.035974   \n",
       "12  06037103200               95           2876             0.033032   \n",
       "\n",
       "    zero_veh_workers  pct_zero_veh_workers  pop_renter  pop_total  \\\n",
       "3                 54              0.035691        2110       3497   \n",
       "4                 10              0.004900         353       4250   \n",
       "9                 65              0.031800        1045       4106   \n",
       "11                 7              0.002998         878       4456   \n",
       "12                78              0.027121        1886       6451   \n",
       "\n",
       "    pct_pop_renter  pop_whitenonhisp  ...  total_r75to99  total_r100to124  \\\n",
       "3         0.603374              1694  ...             88              110   \n",
       "4         0.083059              3503  ...            200              146   \n",
       "9         0.254506              2604  ...             78              148   \n",
       "11        0.197038              2569  ...            197              231   \n",
       "12        0.292358              3659  ...            196              384   \n",
       "\n",
       "    total_r125to149  total_r150to199  total_gt200  total_total       density  \\\n",
       "3                45               43           39         1294  12959.051215   \n",
       "4               107              195          184         1435   4266.139121   \n",
       "9               170              275          116         1305    823.021741   \n",
       "11              157              103           87         1568   9300.390425   \n",
       "12              231              115          169         2274   2252.956186   \n",
       "\n",
       "    year  suffix  count  \n",
       "3   2011      1A      1  \n",
       "4   1995      1A      1  \n",
       "9   2012      1A      1  \n",
       "11  2010      1A      1  \n",
       "12  2006      1A      1  \n",
       "\n",
       "[5 rows x 33 columns]"
      ]
     },
     "execution_count": 15,
     "metadata": {},
     "output_type": "execute_result"
    }
   ],
   "source": [
    "# Merge the census data with the entitlements counts:\n",
    "joined = pandas.merge(\n",
    "    census,\n",
    "    entitlement,\n",
    "    on=\"GEOID\",\n",
    "    how=\"left\", \n",
    "    validate=\"1:m\"\n",
    ")\n",
    "joined = (joined.assign(\n",
    "        count=joined[\"count\"].fillna(0).astype(int)\n",
    "    ).dropna()\n",
    "    .sort_values([\"GEOID\", \"suffix\", \"year\"])\n",
    ")\n",
    "\n",
    "# Somehow, Int64 is throwing error in the map below, but int works\n",
    "\n",
    "joined.head()"
   ]
  },
  {
   "cell_type": "markdown",
   "metadata": {},
   "source": [
    "## Plot"
   ]
  },
  {
   "cell_type": "code",
   "execution_count": 16,
   "metadata": {},
   "outputs": [],
   "source": [
    "# Plot entitlement stats against median household income,\n",
    "# population density, and geography:\n",
    "def plot_entitlement(df, tracts, suffix, year=\"2017\"):\n",
    "        \n",
    "    if year == \"all\":\n",
    "        to_plot = df[(df[\"count\"] > 0) & (df.year >= 2010) & (df.suffix == suffix)]\n",
    "        to_plot = to_plot.groupby(\"GEOID\").agg({\n",
    "            \"count\": \"sum\",\n",
    "            \"medhhincome\": \"first\",\n",
    "            \"density\": \"first\"\n",
    "        }).reset_index()\n",
    "    else:\n",
    "        to_plot = df[(df[\"count\"] > 0) & (df.year == int(year)) & (df.suffix == suffix)]\n",
    "    \n",
    "    # Merge in geometry\n",
    "    final_df = tracts.merge(\n",
    "        to_plot,\n",
    "        on=\"GEOID\", \n",
    "        how=\"left\",\n",
    "    ).fillna(\n",
    "        {\"count\": 0}\n",
    "    )\n",
    "    \n",
    "    fig = plt.figure(figsize=(12,8))\n",
    "    ax1 = plt.subplot2grid((2, 2), (0, 0), colspan=1)\n",
    "    ax1.set_xlabel(\"Median household income\")\n",
    "    ax1.set_ylabel(\"Entitlement count per tract\")\n",
    "    ax1.scatter(final_df.medhhincome, final_df[\"count\"])\n",
    "\n",
    "    ax2 = plt.subplot2grid((2, 2), (1, 0), colspan=1)\n",
    "    ax2.set_xlabel(\"Population density\")\n",
    "    ax2.set_ylabel(\"Entitlement count per tract\")\n",
    "    ax2.scatter(final_df.density, final_df[\"count\"])\n",
    "    \n",
    "    ax3 = plt.subplot2grid((2, 2), (0, 1), rowspan=2)\n",
    "    ax3.axis(\"off\")\n",
    "    \n",
    "    final_df.plot(\n",
    "        ax=ax3,\n",
    "        column=\"count\",\n",
    "        cmap=\"magma\",\n",
    "    )\n",
    "    \n",
    "    plt.close() # Prevent double plotting\n",
    "    return fig"
   ]
  },
  {
   "cell_type": "code",
   "execution_count": null,
   "metadata": {},
   "outputs": [],
   "source": [
    "\"\"\"\n",
    "df = joined\n",
    "suffix=\"CE\"\n",
    "to_plot = df[(df[\"count\"] > 0) & (df.year >= 2010) & (df.suffix == suffix)]\n",
    "to_plot.groupby(to_plot.index).agg({\n",
    "            \"count\": \"sum\",\n",
    "            \"medhhincome\": \"first\",\n",
    "            \"density\": \"first\"\n",
    "        }).dtypes\n",
    "\"\"\""
   ]
  },
  {
   "cell_type": "code",
   "execution_count": 17,
   "metadata": {},
   "outputs": [
    {
     "data": {
      "application/vnd.jupyter.widget-view+json": {
       "model_id": "3a90c8fc3466469fbc5e195ed84f87e6",
       "version_major": 2,
       "version_minor": 0
      },
      "text/plain": [
       "Dropdown(description='Year', options=(('All (from 2010 - present)', 'all'), ('2010', '2010'), ('2011', '2011')…"
      ]
     },
     "metadata": {},
     "output_type": "display_data"
    },
    {
     "data": {
      "application/vnd.jupyter.widget-view+json": {
       "model_id": "726d0ff155ba480abe9e677380d6d4ec",
       "version_major": 2,
       "version_minor": 0
      },
      "text/plain": [
       "Dropdown(description='Suffix', options=(), value=None)"
      ]
     },
     "metadata": {},
     "output_type": "display_data"
    },
    {
     "data": {
      "application/vnd.jupyter.widget-view+json": {
       "model_id": "94716422640c4a489f1f6ea00fa03f1b",
       "version_major": 2,
       "version_minor": 0
      },
      "text/plain": [
       "Output()"
      ]
     },
     "metadata": {},
     "output_type": "display_data"
    }
   ],
   "source": [
    "years = [(\"All (from 2010 - present)\", \"all\")] + [(str(i), str(i)) for i in range(2010, 2020)]\n",
    "year_dropdown = ipywidgets.Dropdown(description=\"Year\", options=years)\n",
    "suffix_dropdown = ipywidgets.Dropdown(description=\"Suffix\")\n",
    "output = ipywidgets.Output()\n",
    "\n",
    "display(year_dropdown)\n",
    "display(suffix_dropdown)\n",
    "display(output)\n",
    "\n",
    "change_guard = False\n",
    "\n",
    "def on_suffix_selection(*args):\n",
    "    global change_guard\n",
    "    if change_guard:\n",
    "        return\n",
    "    output.clear_output(wait=True)\n",
    "    suffix = suffix_dropdown.value\n",
    "    year = year_dropdown.value\n",
    "    with output:\n",
    "        display(plot_entitlement(joined, tracts, suffix, year))\n",
    "\n",
    "def on_year_selection(*args):\n",
    "    global change_guard\n",
    "    if year_dropdown.value == \"all\":\n",
    "        condition = (joined.year >= 2010)\n",
    "    else:\n",
    "        condition = (joined.year == int(year_dropdown.value))\n",
    "    counts = joined[condition].groupby(\"suffix\").agg({\"count\": \"sum\"})[\"count\"]\n",
    "    # Sort by alphabetical or in descending value of counts?\n",
    "    #counts = counts.sort_values(ascending=False)\n",
    "    old_val = suffix_dropdown.value \n",
    "    change_guard=True\n",
    "    suffix_dropdown.options = [\n",
    "        (f\"{name} ({count:,} applications)\", name) \n",
    "        for name,count in zip(counts.index, counts)\n",
    "    ]\n",
    "    if old_val in counts.index:\n",
    "        suffix_dropdown.value = old_val\n",
    "    else:\n",
    "        suffix_dropdown.index = 0\n",
    "    change_guard=False\n",
    "    on_suffix_selection()\n",
    "\n",
    "on_year_selection()\n",
    "suffix_dropdown.observe(on_suffix_selection, names=\"value\")\n",
    "year_dropdown.observe(on_year_selection, names=\"value\")"
   ]
  },
  {
   "cell_type": "code",
   "execution_count": null,
   "metadata": {},
   "outputs": [],
   "source": []
  }
 ],
 "metadata": {
  "kernelspec": {
   "display_name": "Python 3",
   "language": "python",
   "name": "python3"
  },
  "language_info": {
   "codemirror_mode": {
    "name": "ipython",
    "version": 3
   },
   "file_extension": ".py",
   "mimetype": "text/x-python",
   "name": "python",
   "nbconvert_exporter": "python",
   "pygments_lexer": "ipython3",
   "version": "3.7.6"
  }
 },
 "nbformat": 4,
 "nbformat_minor": 4
}
