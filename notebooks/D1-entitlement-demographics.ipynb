{
 "cells": [
  {
   "cell_type": "markdown",
   "metadata": {},
   "source": [
    "# What are the demographic characteristics of neighborhoods where entitlements are?"
   ]
  },
  {
   "cell_type": "code",
   "execution_count": 22,
   "metadata": {},
   "outputs": [],
   "source": [
    "import geopandas\n",
    "import intake\n",
    "import IPython.display\n",
    "import ipywidgets\n",
    "import matplotlib.pyplot as plt\n",
    "import numpy as np\n",
    "import pandas\n",
    "import pcts_census_utils\n",
    "\n",
    "cat = intake.open_catalog(\"../catalogs/*.yml\")"
   ]
  },
  {
   "cell_type": "code",
   "execution_count": 2,
   "metadata": {},
   "outputs": [],
   "source": [
    "# Load data\n",
    "\n",
    "prefix_list = pcts_census_utils.FULL_PREFIX_LIST\n",
    "suffix_list = pcts_census_utils.FULL_SUFFIX_LIST\n",
    "\n",
    "remove_prefix = [\"ENV\"]\n",
    "remove_suffix = [\n",
    "    \"EIR\",\n",
    "    \"IPRO\",\n",
    "    \"CA\",\n",
    "    \"CATEX\",\n",
    "    \"CPIO\",\n",
    "    \"CPU\",\n",
    "    \"FH\",\n",
    "    \"G\",\n",
    "    \"HD\",\n",
    "    \"HPOZ\",\n",
    "    \"ICO\",\n",
    "    \"K\",\n",
    "    \"LCP\",\n",
    "    \"NSO\",\n",
    "    \"S\",\n",
    "    \"SN\",\n",
    "    \"SP\",\n",
    "    \"ZAI\"\n",
    "]\n",
    "\n",
    "prefix_list = [x for x in prefix_list if x not in remove_prefix]\n",
    "suffix_list = [x for x in suffix_list if x not in remove_suffix]"
   ]
  },
  {
   "cell_type": "code",
   "execution_count": 3,
   "metadata": {},
   "outputs": [
    {
     "name": "stdout",
     "output_type": "stream",
     "text": [
      "Downloading PCTS extract\n",
      "Parsing PCTS case numbers\n",
      "Getting dummy indicators for case types\n",
      "Prefixes with no associated cases:  {'TT', 'HPO', 'VTT', 'PS'}\n",
      "Suffixes with no associated cases:  {'REC4', 'EAF', 'SUP1', 'ADD1', 'REC3', 'SCPE', 'SE', 'REC5', 'ND', 'SCEA', 'REC2'}\n"
     ]
    }
   ],
   "source": [
    "# Load PCTS and subset to the prefix / suffix list we want\n",
    "pcts = pcts_census_utils.subset_pcts(\n",
    "    prefix_list=prefix_list,\n",
    "    suffix_list=suffix_list,\n",
    "    get_dummies=True,\n",
    "    verbose=True,\n",
    ")\n",
    "pcts = pcts_census_utils.drop_child_cases(pcts, keep_child_entitlements=True)"
   ]
  },
  {
   "cell_type": "code",
   "execution_count": 4,
   "metadata": {},
   "outputs": [],
   "source": [
    "# ACS data for income, race, commute, tenure\n",
    "census = cat.census_analysis_table.read()\n",
    "\n",
    "# Census tracts\n",
    "tracts = cat.census_tracts.read()\n",
    "tracts = (\n",
    "    tracts[[\"GEOID10\", \"geometry\"]]\n",
    "    .rename(columns = {\"GEOID10\": \"GEOID\"})\n",
    ")"
   ]
  },
  {
   "cell_type": "code",
   "execution_count": 5,
   "metadata": {},
   "outputs": [],
   "source": [
    "# Crosswalk linking AIN to tract GEOID\n",
    "parcel_to_tract = cat.crosswalk_parcels_tracts.read()\n",
    "parcel_to_tract = parcel_to_tract[[\"AIN\", \"num_AIN\", \"GEOID\"]]"
   ]
  },
  {
   "cell_type": "code",
   "execution_count": 6,
   "metadata": {},
   "outputs": [],
   "source": [
    "# Merge entitlements with tract using crosswalk\n",
    "pcts = pandas.merge(\n",
    "    pcts,\n",
    "    parcel_to_tract, \n",
    "    on=\"AIN\",\n",
    "    how=\"inner\",\n",
    "    validate=\"m:1\",\n",
    ")"
   ]
  },
  {
   "cell_type": "code",
   "execution_count": 7,
   "metadata": {},
   "outputs": [],
   "source": [
    "#  Clean AIN data and get rid of outliers\n",
    "case_counts = pcts.CASE_ID.value_counts()\n",
    "big_cases = pcts[pcts.CASE_ID.isin(case_counts[case_counts > 20].index)]\n",
    "\n",
    "pcts = pcts[~pcts.CASE_ID.isin(big_cases.CASE_ID)]"
   ]
  },
  {
   "cell_type": "code",
   "execution_count": 8,
   "metadata": {},
   "outputs": [],
   "source": [
    "# Our first pass at analyzing entitlements is to count the number\n",
    "# of cases for each census tract, to see which kinds of entitlements\n",
    "# are being applied for in which types of census tract:\n",
    "entitlement_counts = (pcts\n",
    "    [[\"GEOID\", \"CASE_YR_NBR\"] + suffix_list]\n",
    "    .astype({c: \"int64\" for c in suffix_list})\n",
    "    .groupby([\"GEOID\", \"CASE_YR_NBR\"])\n",
    "    .sum()\n",
    ").reset_index(level=1).rename(columns={\"CASE_YR_NBR\": \"year\"})\n",
    "entitlement_counts = entitlement_counts.assign(\n",
    "    year=entitlement_counts.year.astype(\"int64\")\n",
    ")"
   ]
  },
  {
   "cell_type": "code",
   "execution_count": 9,
   "metadata": {},
   "outputs": [],
   "source": [
    "# Merge the census data with the entitlements counts:\n",
    "joined = pandas.merge(\n",
    "    census,\n",
    "    entitlement_counts,\n",
    "    on=\"GEOID\",\n",
    "    how=\"left\", \n",
    "    validate=\"1:m\"\n",
    ").dropna().sort_values([\"GEOID\", \"year\"]).astype(\n",
    "    {c: \"int64\" for c in suffix_list}\n",
    ")"
   ]
  },
  {
   "cell_type": "code",
   "execution_count": 10,
   "metadata": {},
   "outputs": [],
   "source": [
    "# Plot entitlement stats against median household income,\n",
    "# population density, and geography:\n",
    "def plot_entitlement(df, tracts, suffix, year=\"2017\"):\n",
    "        \n",
    "    if year == \"all\":\n",
    "        to_plot = df[(df[suffix] != 0) & (df.year >= 2010)]\n",
    "        to_plot = to_plot.groupby(\"GEOID\").agg({\n",
    "            suffix: \"sum\",\n",
    "            \"medhhincome\": \"first\",\n",
    "            \"density\": \"first\"\n",
    "        }).reset_index()\n",
    "    else:\n",
    "        to_plot = df[(df[suffix] != 0) & (df.year == int(year))]\n",
    "    \n",
    "    # Merge in geometry\n",
    "    final_df = tracts.merge(\n",
    "        to_plot,\n",
    "        on=\"GEOID\", \n",
    "        how=\"left\",\n",
    "    ).fillna(\n",
    "        {suffix: 0}\n",
    "    )\n",
    "    \n",
    "    fig = plt.figure(figsize=(12,8))\n",
    "    ax1 = plt.subplot2grid((2, 2), (0, 0), colspan=1)\n",
    "    ax1.set_xlabel(\"Median household income\")\n",
    "    ax1.set_ylabel(\"Entitlement count per tract\")\n",
    "    ax1.scatter(final_df.medhhincome, final_df[suffix])\n",
    "\n",
    "    ax2 = plt.subplot2grid((2, 2), (1, 0), colspan=1)\n",
    "    ax2.set_xlabel(\"Population density\")\n",
    "    ax2.set_ylabel(\"Entitlement count per tract\")\n",
    "    ax2.scatter(final_df.density, final_df[suffix])\n",
    "    \n",
    "    ax3 = plt.subplot2grid((2, 2), (0, 1), rowspan=2)\n",
    "    ax3.axis(\"off\")\n",
    "    \n",
    "    final_df.plot(\n",
    "        ax=ax3,\n",
    "        column=suffix,\n",
    "        cmap=\"viridis\",\n",
    "    )\n",
    "    \n",
    "    plt.close() # Prevent double plotting\n",
    "    return fig"
   ]
  },
  {
   "cell_type": "code",
   "execution_count": 11,
   "metadata": {},
   "outputs": [
    {
     "data": {
      "application/vnd.jupyter.widget-view+json": {
       "model_id": "bae13b76bc3349828c553dea7b92bd98",
       "version_major": 2,
       "version_minor": 0
      },
      "text/plain": [
       "Dropdown(description='Year', options=(('All (from 2010 - 2019)', 'all'), ('2010', '2010'), ('2011', '2011'), (…"
      ]
     },
     "metadata": {},
     "output_type": "display_data"
    },
    {
     "data": {
      "application/vnd.jupyter.widget-view+json": {
       "model_id": "3ca25dcdf15f454482a473c84b90444c",
       "version_major": 2,
       "version_minor": 0
      },
      "text/plain": [
       "Dropdown(description='Suffix', options=(), value=None)"
      ]
     },
     "metadata": {},
     "output_type": "display_data"
    },
    {
     "data": {
      "application/vnd.jupyter.widget-view+json": {
       "model_id": "b902a38a30c34e30b7f464ac1c5edf85",
       "version_major": 2,
       "version_minor": 0
      },
      "text/plain": [
       "Output()"
      ]
     },
     "metadata": {},
     "output_type": "display_data"
    }
   ],
   "source": [
    "years = [(\"All (from 2010 - 2019)\", \"all\")] + [(str(i), str(i)) for i in range(2010, 2020)]\n",
    "year_dropdown = ipywidgets.Dropdown(description=\"Year\", options=years)\n",
    "suffix_dropdown = ipywidgets.Dropdown(description=\"Suffix\")\n",
    "output = ipywidgets.Output()\n",
    "\n",
    "display(year_dropdown)\n",
    "display(suffix_dropdown)\n",
    "display(output)\n",
    "\n",
    "change_guard = False\n",
    "\n",
    "def on_suffix_selection(*args):\n",
    "    global change_guard\n",
    "    if change_guard:\n",
    "        return\n",
    "    output.clear_output(wait=True)\n",
    "    suffix = suffix_dropdown.value\n",
    "    year = year_dropdown.value\n",
    "    with output:\n",
    "        display(plot_entitlement(joined, tracts, suffix, year))\n",
    "\n",
    "def on_year_selection(*args):\n",
    "    global change_guard\n",
    "    if year_dropdown.value == \"all\":\n",
    "        condition = (joined.year >= 2010)\n",
    "    else:\n",
    "        condition = (joined.year == int(year_dropdown.value))\n",
    "    counts = joined.loc[condition, suffix_list].sum()\n",
    "    # Sort by alphabetical or in descending value of counts?\n",
    "    #counts = counts.sort_values(ascending=False)\n",
    "    old_val = suffix_dropdown.value \n",
    "    change_guard=True\n",
    "    suffix_dropdown.options = [\n",
    "        (f\"{name} ({count:,} applications)\", name) \n",
    "        for name,count in zip(counts.index, counts)\n",
    "    ]\n",
    "    if old_val in counts.index:\n",
    "        suffix_dropdown.value = old_val\n",
    "    else:\n",
    "        suffix_dropdown.index = 0\n",
    "    change_guard=False\n",
    "    on_suffix_selection()\n",
    "\n",
    "on_year_selection()\n",
    "suffix_dropdown.observe(on_suffix_selection, names=\"value\")\n",
    "year_dropdown.observe(on_year_selection, names=\"value\")"
   ]
  },
  {
   "cell_type": "markdown",
   "metadata": {},
   "source": [
    "## What are the outliers?"
   ]
  },
  {
   "cell_type": "code",
   "execution_count": 126,
   "metadata": {},
   "outputs": [
    {
     "data": {
      "application/vnd.jupyter.widget-view+json": {
       "model_id": "fd9f870a79764d09b0ba098feb1ae5a5",
       "version_major": 2,
       "version_minor": 0
      },
      "text/plain": [
       "Dropdown(description='Outlier cases', options=(('CPC-2010-2278-GPA (10159 parcels)', 180067.0), ('CPC-2010-589…"
      ]
     },
     "metadata": {},
     "output_type": "display_data"
    },
    {
     "data": {
      "application/vnd.jupyter.widget-view+json": {
       "model_id": "c68ba3a0616b40d084f32206834e6150",
       "version_major": 2,
       "version_minor": 0
      },
      "text/plain": [
       "Output()"
      ]
     },
     "metadata": {},
     "output_type": "display_data"
    }
   ],
   "source": [
    "\n",
    "case_dropdown = ipywidgets.Dropdown(\n",
    "    description=\"Outlier cases\",\n",
    "    options=tuple(\n",
    "        (f\"{r[1]} ({r[2]} parcels)\", r[0]) for r in\n",
    "        big_cases.groupby(\"CASE_ID\").agg(\n",
    "            {\"CASE_NBR\": \"first\", \"AIN\": \"count\"}\n",
    "        ).sort_values(\"AIN\", ascending=False).itertuples()\n",
    "    )\n",
    ")\n",
    "\n",
    "output = ipywidgets.Output()\n",
    "\n",
    "display(case_dropdown)\n",
    "display(output)\n",
    "\n",
    "\n",
    "def plot_case(case_id):\n",
    "    to_map = geopandas.GeoDataFrame(\n",
    "        big_cases[big_cases.CASE_ID == case_id].groupby(\"GEOID\").agg({\n",
    "            \"AIN\": \"count\",\n",
    "            \"PROJ_DESC_TXT\": \"first\"\n",
    "        }).merge(\n",
    "            tracts,\n",
    "            how=\"right\",\n",
    "            left_index=True,\n",
    "            right_on=\"GEOID\"\n",
    "        )\n",
    "    )\n",
    "    description = to_map.PROJ_DESC_TXT.dropna().iloc[0]\n",
    "    with output:\n",
    "        output.clear_output(wait=True)\n",
    "        fig, ax = plt.subplots(figsize=(12,12))\n",
    "        to_map.fillna(0).plot(column=\"AIN\",legend=True, ax=ax)\n",
    "        plt.close()\n",
    "        print(description)\n",
    "        display(fig)\n",
    "\n",
    "def on_case_selection(*args):\n",
    "    plot_case(case_dropdown.value)\n",
    "\n",
    "case_dropdown.observe(on_case_selection, names=[\"value\"])\n",
    "on_case_selection()"
   ]
  },
  {
   "cell_type": "code",
   "execution_count": null,
   "metadata": {},
   "outputs": [],
   "source": [
    "big_cases.groupby(\"CASE_ID\").agg({\n",
    "    \"CASE_NBR\": \"first\",\n",
    "    \"PROJ_DESC_TXT\": \"first\",\n",
    "    \"AIN\": \"count\"\n",
    "}).sort_values(\"AIN\", ascending=False).rename(\n",
    "    columns={\"PROJ_DESC_TXT\": \"Description\", \"AIN\": \"Parcels\"}\n",
    ").style"
   ]
  }
 ],
 "metadata": {
  "kernelspec": {
   "display_name": "Python 3",
   "language": "python",
   "name": "python3"
  },
  "language_info": {
   "codemirror_mode": {
    "name": "ipython",
    "version": 3
   },
   "file_extension": ".py",
   "mimetype": "text/x-python",
   "name": "python",
   "nbconvert_exporter": "python",
   "pygments_lexer": "ipython3",
   "version": "3.8.3"
  }
 },
 "nbformat": 4,
 "nbformat_minor": 4
}
