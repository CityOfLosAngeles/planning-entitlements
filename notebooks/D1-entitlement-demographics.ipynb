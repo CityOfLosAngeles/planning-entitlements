{
 "cells": [
  {
   "cell_type": "markdown",
   "metadata": {},
   "source": [
    "# What are the demographic characteristics of neighborhoods where entitlements are?"
   ]
  },
  {
   "cell_type": "code",
   "execution_count": 1,
   "metadata": {},
   "outputs": [],
   "source": [
    "import intake\n",
    "import IPython.display\n",
    "import ipywidgets\n",
    "import matplotlib.pyplot as plt\n",
    "import numpy as np\n",
    "import pandas\n",
    "import pcts_census_utils\n",
    "\n",
    "cat = intake.open_catalog(\"../catalogs/*.yml\")"
   ]
  },
  {
   "cell_type": "markdown",
   "metadata": {},
   "source": [
    "## Load data"
   ]
  },
  {
   "cell_type": "code",
   "execution_count": 2,
   "metadata": {},
   "outputs": [],
   "source": [
    "prefix_list = pcts_census_utils.FULL_PREFIX_LIST\n",
    "suffix_list = pcts_census_utils.FULL_SUFFIX_LIST\n",
    "\n",
    "remove_prefix = [\"ENV\"]\n",
    "remove_suffix = [\"EIR\"]\n",
    "\n",
    "prefix_list = [x for x in prefix_list if x not in remove_prefix]\n",
    "suffix_list = [x for x in suffix_list if x not in remove_suffix]"
   ]
  },
  {
   "cell_type": "code",
   "execution_count": 3,
   "metadata": {},
   "outputs": [
    {
     "name": "stdout",
     "output_type": "stream",
     "text": [
      "Downloading PCTS extract\n",
      "Parsing PCTS case numbers\n",
      "Getting dummy indicators for case types\n",
      "Prefixes with no associated cases:  {'PS', 'HPO', 'TT', 'VTT'}\n",
      "Suffixes with no associated cases:  {'SCEA', 'REC3', 'SUP1', 'REC2', 'SE', 'SCPE', 'ADD1', 'REC4', 'REC5', 'ND', 'EAF'}\n"
     ]
    }
   ],
   "source": [
    "# Load PCTS and subset to the prefix / suffix list we want\n",
    "pcts = pcts_census_utils.subset_pcts(\n",
    "    prefix_list=prefix_list,\n",
    "    suffix_list=suffix_list,\n",
    "    get_dummies=True,\n",
    "    verbose=True,\n",
    ")\n",
    "pcts = pcts_census_utils.drop_child_cases(pcts, keep_child_entitlements=True)"
   ]
  },
  {
   "cell_type": "code",
   "execution_count": 4,
   "metadata": {},
   "outputs": [],
   "source": [
    "# SplEIRPCTS info to case info (constant within a case), and the prefixes and suffixes (make this long)\n",
    "case_info_cols = [\"CASE_ID\", \"APLC_ID\", \"CASE_NBR\", \"CASE_SEQ_NBR\", \"CASE_YR_NBR\", \"CASE_ACTION_ID\", \n",
    "           \"CASE_FILE_RCV_DT\", \"CASE_FILE_DATE\", \"PARNT_CASE_ID\", \"PARENT_CASE\", \n",
    "            \"AIN\", \"PROJ_DESC_TXT\", \"id\"]\n",
    "\n",
    "\n",
    "# Make a df that has info about case. \n",
    "# Once we reshape prefixes/suffixes to be long, \n",
    "# we can merge these 2 parts together again with a m:1 merge.\n",
    "pcts_case_info = pcts[case_info_cols]"
   ]
  },
  {
   "cell_type": "code",
   "execution_count": 5,
   "metadata": {},
   "outputs": [],
   "source": [
    "# Make a list of only prefixes/suffixes \n",
    "drop_case_info = case_info_cols.copy()\n",
    "drop_case_info.remove(\"CASE_ID\")\n",
    "\n",
    "# Make a df that contains ONLY suffixes\n",
    "drop_me = prefix_list + drop_case_info\n",
    "pcts_suffix = pcts.drop(columns = drop_me).drop_duplicates()\n",
    "\n",
    "# Replace 0's in the dummy with NaNs so we can do a dropna later\n",
    "pcts_suffix = pcts_suffix.replace(0, np.nan)"
   ]
  },
  {
   "cell_type": "code",
   "execution_count": 6,
   "metadata": {},
   "outputs": [
    {
     "data": {
      "text/html": [
       "<div>\n",
       "<style scoped>\n",
       "    .dataframe tbody tr th:only-of-type {\n",
       "        vertical-align: middle;\n",
       "    }\n",
       "\n",
       "    .dataframe tbody tr th {\n",
       "        vertical-align: top;\n",
       "    }\n",
       "\n",
       "    .dataframe thead th {\n",
       "        text-align: right;\n",
       "    }\n",
       "</style>\n",
       "<table border=\"1\" class=\"dataframe\">\n",
       "  <thead>\n",
       "    <tr style=\"text-align: right;\">\n",
       "      <th></th>\n",
       "      <th>CASE_ID</th>\n",
       "      <th>suffix</th>\n",
       "    </tr>\n",
       "  </thead>\n",
       "  <tbody>\n",
       "    <tr>\n",
       "      <th>5</th>\n",
       "      <td>177215.0</td>\n",
       "      <td>1A</td>\n",
       "    </tr>\n",
       "    <tr>\n",
       "      <th>14</th>\n",
       "      <td>177239.0</td>\n",
       "      <td>1A</td>\n",
       "    </tr>\n",
       "  </tbody>\n",
       "</table>\n",
       "</div>"
      ],
      "text/plain": [
       "     CASE_ID suffix\n",
       "5   177215.0     1A\n",
       "14  177239.0     1A"
      ]
     },
     "execution_count": 6,
     "metadata": {},
     "output_type": "execute_result"
    }
   ],
   "source": [
    "# Each case can have multiple suffixes. However, it is useful\n",
    "# to be able to refer to a single suffix column when performing\n",
    "# aggregations and computing statistics.\n",
    "# Here we melt the suffix columns into a single column.\n",
    "# This has the effect of creating multiple rows for cases\n",
    "# that have multiple entitlements being requested.\n",
    "pcts_suffix = pcts_suffix.melt(\n",
    "        id_vars=\"CASE_ID\",\n",
    "        var_name=\"suffix\",\n",
    "        value_name=\"dummy\"\n",
    "    ).dropna(subset=[\"dummy\"]).drop(columns = \"dummy\")\n",
    "\n",
    "pcts_suffix.head(2)"
   ]
  },
  {
   "cell_type": "code",
   "execution_count": 7,
   "metadata": {},
   "outputs": [
    {
     "data": {
      "text/html": [
       "<div>\n",
       "<style scoped>\n",
       "    .dataframe tbody tr th:only-of-type {\n",
       "        vertical-align: middle;\n",
       "    }\n",
       "\n",
       "    .dataframe tbody tr th {\n",
       "        vertical-align: top;\n",
       "    }\n",
       "\n",
       "    .dataframe thead th {\n",
       "        text-align: right;\n",
       "    }\n",
       "</style>\n",
       "<table border=\"1\" class=\"dataframe\">\n",
       "  <thead>\n",
       "    <tr style=\"text-align: right;\">\n",
       "      <th></th>\n",
       "      <th>CASE_ID</th>\n",
       "      <th>APLC_ID</th>\n",
       "      <th>CASE_NBR</th>\n",
       "      <th>CASE_SEQ_NBR</th>\n",
       "      <th>CASE_YR_NBR</th>\n",
       "      <th>CASE_ACTION_ID</th>\n",
       "      <th>CASE_FILE_RCV_DT</th>\n",
       "      <th>CASE_FILE_DATE</th>\n",
       "      <th>PARNT_CASE_ID</th>\n",
       "      <th>PARENT_CASE</th>\n",
       "      <th>AIN</th>\n",
       "      <th>PROJ_DESC_TXT</th>\n",
       "      <th>id</th>\n",
       "      <th>suffix</th>\n",
       "    </tr>\n",
       "  </thead>\n",
       "  <tbody>\n",
       "    <tr>\n",
       "      <th>0</th>\n",
       "      <td>166296.0</td>\n",
       "      <td>99811.0</td>\n",
       "      <td>DIR-2008-673-DRB-SPP</td>\n",
       "      <td>673.0</td>\n",
       "      <td>2008.0</td>\n",
       "      <td>2.0</td>\n",
       "      <td>2010-10-01</td>\n",
       "      <td>2010-10</td>\n",
       "      <td>NaN</td>\n",
       "      <td>166296.0</td>\n",
       "      <td>2715025048</td>\n",
       "      <td>DESIGN REVIEW BOARD &amp; PROJECT PERMIT COMPLIANC...</td>\n",
       "      <td>673_2010</td>\n",
       "      <td>DRB</td>\n",
       "    </tr>\n",
       "    <tr>\n",
       "      <th>1</th>\n",
       "      <td>166296.0</td>\n",
       "      <td>99811.0</td>\n",
       "      <td>DIR-2008-673-DRB-SPP</td>\n",
       "      <td>673.0</td>\n",
       "      <td>2008.0</td>\n",
       "      <td>2.0</td>\n",
       "      <td>2010-10-01</td>\n",
       "      <td>2010-10</td>\n",
       "      <td>NaN</td>\n",
       "      <td>166296.0</td>\n",
       "      <td>2715025048</td>\n",
       "      <td>DESIGN REVIEW BOARD &amp; PROJECT PERMIT COMPLIANC...</td>\n",
       "      <td>673_2010</td>\n",
       "      <td>EXT</td>\n",
       "    </tr>\n",
       "  </tbody>\n",
       "</table>\n",
       "</div>"
      ],
      "text/plain": [
       "    CASE_ID  APLC_ID              CASE_NBR  CASE_SEQ_NBR  CASE_YR_NBR  \\\n",
       "0  166296.0  99811.0  DIR-2008-673-DRB-SPP         673.0       2008.0   \n",
       "1  166296.0  99811.0  DIR-2008-673-DRB-SPP         673.0       2008.0   \n",
       "\n",
       "   CASE_ACTION_ID CASE_FILE_RCV_DT CASE_FILE_DATE  PARNT_CASE_ID  PARENT_CASE  \\\n",
       "0             2.0       2010-10-01        2010-10            NaN     166296.0   \n",
       "1             2.0       2010-10-01        2010-10            NaN     166296.0   \n",
       "\n",
       "          AIN                                      PROJ_DESC_TXT        id  \\\n",
       "0  2715025048  DESIGN REVIEW BOARD & PROJECT PERMIT COMPLIANC...  673_2010   \n",
       "1  2715025048  DESIGN REVIEW BOARD & PROJECT PERMIT COMPLIANC...  673_2010   \n",
       "\n",
       "  suffix  \n",
       "0    DRB  \n",
       "1    EXT  "
      ]
     },
     "execution_count": 7,
     "metadata": {},
     "output_type": "execute_result"
    }
   ],
   "source": [
    "# Merge the 2 dfs together\n",
    "pcts_cleaned = pandas.merge(pcts_case_info, pcts_suffix, on = \"CASE_ID\", how = \"inner\")\n",
    "pcts_cleaned.head(2)"
   ]
  },
  {
   "cell_type": "code",
   "execution_count": 8,
   "metadata": {},
   "outputs": [],
   "source": [
    "# ACS data for income, race, commute, tenure\n",
    "census = cat.census_analysis_table.read()\n",
    "\n",
    "# Census tracts\n",
    "tracts = cat.census_tracts.read()\n",
    "tracts = (tracts[[\"GEOID10\", \"geometry\"]]\n",
    "          .rename(columns = {\"GEOID10\": \"GEOID\"})\n",
    "         )"
   ]
  },
  {
   "cell_type": "code",
   "execution_count": 9,
   "metadata": {},
   "outputs": [],
   "source": [
    "# Crosswalk linking AIN to tract GEOID\n",
    "parcel_to_tract = cat.crosswalk_parcels_tracts.read()\n",
    "parcel_to_tract = parcel_to_tract[[\"AIN\", \"num_AIN\", \"GEOID\"]]"
   ]
  },
  {
   "cell_type": "code",
   "execution_count": 10,
   "metadata": {},
   "outputs": [],
   "source": [
    "# Merge entitlements with tract using crosswalk\n",
    "pcts_df = pandas.merge(pcts_cleaned, parcel_to_tract, \n",
    "                       on = \"AIN\", how = \"inner\", validate = \"m:1\")"
   ]
  },
  {
   "cell_type": "code",
   "execution_count": 11,
   "metadata": {},
   "outputs": [
    {
     "data": {
      "text/plain": [
       "1     216671\n",
       "2         21\n",
       "13         4\n",
       "44         3\n",
       "11         3\n",
       "47         1\n",
       "3          1\n",
       "Name: num_AIN, dtype: int64"
      ]
     },
     "execution_count": 11,
     "metadata": {},
     "output_type": "execute_result"
    }
   ],
   "source": [
    "# Check if there were duplicate parcels...not sure how to address there is num_AIN > 1\n",
    "pcts_df.num_AIN.value_counts()"
   ]
  },
  {
   "cell_type": "markdown",
   "metadata": {},
   "source": [
    "## Clean up data and get rid of outliers"
   ]
  },
  {
   "cell_type": "code",
   "execution_count": 12,
   "metadata": {},
   "outputs": [],
   "source": [
    "big_cases = pcts_df.CASE_ID.value_counts().head(100).index\n",
    "pcts_df = pcts_df[~pcts_df.CASE_ID.isin(big_cases)]"
   ]
  },
  {
   "cell_type": "code",
   "execution_count": 13,
   "metadata": {},
   "outputs": [],
   "source": [
    "# Our first pass at analyzing entitlements is to count the number\n",
    "# of cases for each census tract, to see which kinds of entitlements\n",
    "# are being applied for in which types of census tract:\n",
    "entitlement = (pcts_df\n",
    "    .groupby([\"GEOID\", \"suffix\", \"CASE_YR_NBR\"])\n",
    "    .size()\n",
    "    .to_frame(\"count\")\n",
    ").reset_index(level=1).reset_index(level=1).rename(columns={\"CASE_YR_NBR\": \"year\"})\n",
    "entitlement = entitlement.assign(\n",
    "    year=entitlement.year.astype(\"Int64\")\n",
    ")"
   ]
  },
  {
   "cell_type": "code",
   "execution_count": 14,
   "metadata": {},
   "outputs": [
    {
     "data": {
      "text/html": [
       "<div>\n",
       "<style scoped>\n",
       "    .dataframe tbody tr th:only-of-type {\n",
       "        vertical-align: middle;\n",
       "    }\n",
       "\n",
       "    .dataframe tbody tr th {\n",
       "        vertical-align: top;\n",
       "    }\n",
       "\n",
       "    .dataframe thead th {\n",
       "        text-align: right;\n",
       "    }\n",
       "</style>\n",
       "<table border=\"1\" class=\"dataframe\">\n",
       "  <thead>\n",
       "    <tr style=\"text-align: right;\">\n",
       "      <th></th>\n",
       "      <th>GEOID</th>\n",
       "      <th>non_car_workers</th>\n",
       "      <th>workers_total</th>\n",
       "      <th>pct_non_car_workers</th>\n",
       "      <th>zero_veh_workers</th>\n",
       "      <th>pct_zero_veh_workers</th>\n",
       "      <th>pop_renter</th>\n",
       "      <th>pop_total</th>\n",
       "      <th>pct_pop_renter</th>\n",
       "      <th>pop_whitenonhisp</th>\n",
       "      <th>...</th>\n",
       "      <th>total_r75to99</th>\n",
       "      <th>total_r100to124</th>\n",
       "      <th>total_r125to149</th>\n",
       "      <th>total_r150to199</th>\n",
       "      <th>total_gt200</th>\n",
       "      <th>total_total</th>\n",
       "      <th>density</th>\n",
       "      <th>year</th>\n",
       "      <th>suffix</th>\n",
       "      <th>count</th>\n",
       "    </tr>\n",
       "  </thead>\n",
       "  <tbody>\n",
       "    <tr>\n",
       "      <th>0</th>\n",
       "      <td>06037101110</td>\n",
       "      <td>46</td>\n",
       "      <td>1927</td>\n",
       "      <td>0.023871</td>\n",
       "      <td>0</td>\n",
       "      <td>0.0</td>\n",
       "      <td>2199</td>\n",
       "      <td>4219</td>\n",
       "      <td>0.521214</td>\n",
       "      <td>2516</td>\n",
       "      <td>...</td>\n",
       "      <td>277</td>\n",
       "      <td>91</td>\n",
       "      <td>93</td>\n",
       "      <td>109</td>\n",
       "      <td>44</td>\n",
       "      <td>1596</td>\n",
       "      <td>9565.898824</td>\n",
       "      <td>2012</td>\n",
       "      <td>CUW</td>\n",
       "      <td>2</td>\n",
       "    </tr>\n",
       "    <tr>\n",
       "      <th>1</th>\n",
       "      <td>06037101110</td>\n",
       "      <td>46</td>\n",
       "      <td>1927</td>\n",
       "      <td>0.023871</td>\n",
       "      <td>0</td>\n",
       "      <td>0.0</td>\n",
       "      <td>2199</td>\n",
       "      <td>4219</td>\n",
       "      <td>0.521214</td>\n",
       "      <td>2516</td>\n",
       "      <td>...</td>\n",
       "      <td>277</td>\n",
       "      <td>91</td>\n",
       "      <td>93</td>\n",
       "      <td>109</td>\n",
       "      <td>44</td>\n",
       "      <td>1596</td>\n",
       "      <td>9565.898824</td>\n",
       "      <td>2013</td>\n",
       "      <td>CUW</td>\n",
       "      <td>1</td>\n",
       "    </tr>\n",
       "    <tr>\n",
       "      <th>2</th>\n",
       "      <td>06037101110</td>\n",
       "      <td>46</td>\n",
       "      <td>1927</td>\n",
       "      <td>0.023871</td>\n",
       "      <td>0</td>\n",
       "      <td>0.0</td>\n",
       "      <td>2199</td>\n",
       "      <td>4219</td>\n",
       "      <td>0.521214</td>\n",
       "      <td>2516</td>\n",
       "      <td>...</td>\n",
       "      <td>277</td>\n",
       "      <td>91</td>\n",
       "      <td>93</td>\n",
       "      <td>109</td>\n",
       "      <td>44</td>\n",
       "      <td>1596</td>\n",
       "      <td>9565.898824</td>\n",
       "      <td>2014</td>\n",
       "      <td>EXT</td>\n",
       "      <td>1</td>\n",
       "    </tr>\n",
       "    <tr>\n",
       "      <th>3</th>\n",
       "      <td>06037101110</td>\n",
       "      <td>46</td>\n",
       "      <td>1927</td>\n",
       "      <td>0.023871</td>\n",
       "      <td>0</td>\n",
       "      <td>0.0</td>\n",
       "      <td>2199</td>\n",
       "      <td>4219</td>\n",
       "      <td>0.521214</td>\n",
       "      <td>2516</td>\n",
       "      <td>...</td>\n",
       "      <td>277</td>\n",
       "      <td>91</td>\n",
       "      <td>93</td>\n",
       "      <td>109</td>\n",
       "      <td>44</td>\n",
       "      <td>1596</td>\n",
       "      <td>9565.898824</td>\n",
       "      <td>2014</td>\n",
       "      <td>PMLA</td>\n",
       "      <td>1</td>\n",
       "    </tr>\n",
       "    <tr>\n",
       "      <th>4</th>\n",
       "      <td>06037101110</td>\n",
       "      <td>46</td>\n",
       "      <td>1927</td>\n",
       "      <td>0.023871</td>\n",
       "      <td>0</td>\n",
       "      <td>0.0</td>\n",
       "      <td>2199</td>\n",
       "      <td>4219</td>\n",
       "      <td>0.521214</td>\n",
       "      <td>2516</td>\n",
       "      <td>...</td>\n",
       "      <td>277</td>\n",
       "      <td>91</td>\n",
       "      <td>93</td>\n",
       "      <td>109</td>\n",
       "      <td>44</td>\n",
       "      <td>1596</td>\n",
       "      <td>9565.898824</td>\n",
       "      <td>2017</td>\n",
       "      <td>PMLA</td>\n",
       "      <td>1</td>\n",
       "    </tr>\n",
       "  </tbody>\n",
       "</table>\n",
       "<p>5 rows × 33 columns</p>\n",
       "</div>"
      ],
      "text/plain": [
       "         GEOID  non_car_workers  workers_total  pct_non_car_workers  \\\n",
       "0  06037101110               46           1927             0.023871   \n",
       "1  06037101110               46           1927             0.023871   \n",
       "2  06037101110               46           1927             0.023871   \n",
       "3  06037101110               46           1927             0.023871   \n",
       "4  06037101110               46           1927             0.023871   \n",
       "\n",
       "   zero_veh_workers  pct_zero_veh_workers  pop_renter  pop_total  \\\n",
       "0                 0                   0.0        2199       4219   \n",
       "1                 0                   0.0        2199       4219   \n",
       "2                 0                   0.0        2199       4219   \n",
       "3                 0                   0.0        2199       4219   \n",
       "4                 0                   0.0        2199       4219   \n",
       "\n",
       "   pct_pop_renter  pop_whitenonhisp  ...  total_r75to99  total_r100to124  \\\n",
       "0        0.521214              2516  ...            277               91   \n",
       "1        0.521214              2516  ...            277               91   \n",
       "2        0.521214              2516  ...            277               91   \n",
       "3        0.521214              2516  ...            277               91   \n",
       "4        0.521214              2516  ...            277               91   \n",
       "\n",
       "   total_r125to149  total_r150to199  total_gt200  total_total      density  \\\n",
       "0               93              109           44         1596  9565.898824   \n",
       "1               93              109           44         1596  9565.898824   \n",
       "2               93              109           44         1596  9565.898824   \n",
       "3               93              109           44         1596  9565.898824   \n",
       "4               93              109           44         1596  9565.898824   \n",
       "\n",
       "   year  suffix  count  \n",
       "0  2012     CUW      2  \n",
       "1  2013     CUW      1  \n",
       "2  2014     EXT      1  \n",
       "3  2014    PMLA      1  \n",
       "4  2017    PMLA      1  \n",
       "\n",
       "[5 rows x 33 columns]"
      ]
     },
     "execution_count": 14,
     "metadata": {},
     "output_type": "execute_result"
    }
   ],
   "source": [
    "# Merge the census data with the entitlements counts:\n",
    "joined = pandas.merge(\n",
    "    census,\n",
    "    entitlement,\n",
    "    on=\"GEOID\",\n",
    "    how=\"left\", \n",
    "    validate=\"1:m\"\n",
    ")\n",
    "joined = (joined.assign(\n",
    "        count=joined[\"count\"].fillna(0).astype(int)\n",
    "    ).dropna()\n",
    "    .sort_values([\"GEOID\", \"suffix\", \"year\"])\n",
    ")\n",
    "\n",
    "# Somehow, Int64 is throwing error in the map below, but int works\n",
    "\n",
    "joined.head()"
   ]
  },
  {
   "cell_type": "markdown",
   "metadata": {},
   "source": [
    "## Plot"
   ]
  },
  {
   "cell_type": "code",
   "execution_count": 15,
   "metadata": {},
   "outputs": [],
   "source": [
    "# Plot entitlement stats against median household income,\n",
    "# population density, and geography:\n",
    "def plot_entitlement(df, tracts, suffix, year=\"2017\"):\n",
    "        \n",
    "    if year == \"all\":\n",
    "        to_plot = df[(df[\"count\"] > 0) & (df.year >= 2010) & (df.suffix == suffix)]\n",
    "        to_plot = to_plot.groupby(\"GEOID\").agg({\n",
    "            \"count\": \"sum\",\n",
    "            \"medhhincome\": \"first\",\n",
    "            \"density\": \"first\"\n",
    "        }).reset_index()\n",
    "    else:\n",
    "        to_plot = df[(df[\"count\"] > 0) & (df.year == int(year)) & (df.suffix == suffix)]\n",
    "    \n",
    "    # Merge in geometry\n",
    "    final_df = tracts.merge(\n",
    "        to_plot,\n",
    "        on=\"GEOID\", \n",
    "        how=\"left\",\n",
    "    ).fillna(\n",
    "        {\"count\": 0}\n",
    "    )\n",
    "    \n",
    "    fig = plt.figure(figsize=(12,8))\n",
    "    ax1 = plt.subplot2grid((2, 2), (0, 0), colspan=1)\n",
    "    ax1.set_xlabel(\"Median household income\")\n",
    "    ax1.set_ylabel(\"Entitlement count per tract\")\n",
    "    ax1.scatter(final_df.medhhincome, final_df[\"count\"])\n",
    "\n",
    "    ax2 = plt.subplot2grid((2, 2), (1, 0), colspan=1)\n",
    "    ax2.set_xlabel(\"Population density\")\n",
    "    ax2.set_ylabel(\"Entitlement count per tract\")\n",
    "    ax2.scatter(final_df.density, final_df[\"count\"])\n",
    "    \n",
    "    ax3 = plt.subplot2grid((2, 2), (0, 1), rowspan=2)\n",
    "    ax3.axis(\"off\")\n",
    "    \n",
    "    final_df.plot(\n",
    "        ax=ax3,\n",
    "        column=\"count\",\n",
    "        cmap=\"magma\",\n",
    "    )\n",
    "    \n",
    "    plt.close() # Prevent double plotting\n",
    "    return fig"
   ]
  },
  {
   "cell_type": "code",
   "execution_count": 16,
   "metadata": {},
   "outputs": [
    {
     "data": {
      "application/vnd.jupyter.widget-view+json": {
       "model_id": "18823aeea46b4124a2444a6032515566",
       "version_major": 2,
       "version_minor": 0
      },
      "text/plain": [
       "Dropdown(description='Year', options=(('All (from 2010 - present)', 'all'), ('2010', '2010'), ('2011', '2011')…"
      ]
     },
     "metadata": {},
     "output_type": "display_data"
    },
    {
     "data": {
      "application/vnd.jupyter.widget-view+json": {
       "model_id": "db0b7a87c601486f82433c3749365138",
       "version_major": 2,
       "version_minor": 0
      },
      "text/plain": [
       "Dropdown(description='Suffix', options=(), value=None)"
      ]
     },
     "metadata": {},
     "output_type": "display_data"
    },
    {
     "data": {
      "application/vnd.jupyter.widget-view+json": {
       "model_id": "b2810002aec64c36a2327e68bc8b49f9",
       "version_major": 2,
       "version_minor": 0
      },
      "text/plain": [
       "Output()"
      ]
     },
     "metadata": {},
     "output_type": "display_data"
    }
   ],
   "source": [
    "years = [(\"All (from 2010 - present)\", \"all\")] + [(str(i), str(i)) for i in range(2010, 2020)]\n",
    "year_dropdown = ipywidgets.Dropdown(description=\"Year\", options=years)\n",
    "suffix_dropdown = ipywidgets.Dropdown(description=\"Suffix\")\n",
    "output = ipywidgets.Output()\n",
    "\n",
    "display(year_dropdown)\n",
    "display(suffix_dropdown)\n",
    "display(output)\n",
    "\n",
    "change_guard = False\n",
    "\n",
    "def on_suffix_selection(*args):\n",
    "    global change_guard\n",
    "    if change_guard:\n",
    "        return\n",
    "    output.clear_output(wait=True)\n",
    "    suffix = suffix_dropdown.value\n",
    "    year = year_dropdown.value\n",
    "    with output:\n",
    "        display(plot_entitlement(joined, tracts, suffix, year))\n",
    "\n",
    "def on_year_selection(*args):\n",
    "    global change_guard\n",
    "    if year_dropdown.value == \"all\":\n",
    "        condition = (joined.year >= 2010)\n",
    "    else:\n",
    "        condition = (joined.year == int(year_dropdown.value))\n",
    "    counts = joined[condition].groupby(\"suffix\").agg({\"count\": \"sum\"})[\"count\"]\n",
    "    # Sort by alphabetical or in descending value of counts?\n",
    "    #counts = counts.sort_values(ascending=False)\n",
    "    old_val = suffix_dropdown.value \n",
    "    change_guard=True\n",
    "    suffix_dropdown.options = [\n",
    "        (f\"{name} ({count:,} applications)\", name) \n",
    "        for name,count in zip(counts.index, counts)\n",
    "    ]\n",
    "    if old_val in counts.index:\n",
    "        suffix_dropdown.value = old_val\n",
    "    else:\n",
    "        suffix_dropdown.index = 0\n",
    "    change_guard=False\n",
    "    on_suffix_selection()\n",
    "\n",
    "on_year_selection()\n",
    "suffix_dropdown.observe(on_suffix_selection, names=\"value\")\n",
    "year_dropdown.observe(on_year_selection, names=\"value\")"
   ]
  }
 ],
 "metadata": {
  "kernelspec": {
   "display_name": "Python 3",
   "language": "python",
   "name": "python3"
  },
  "language_info": {
   "codemirror_mode": {
    "name": "ipython",
    "version": 3
   },
   "file_extension": ".py",
   "mimetype": "text/x-python",
   "name": "python",
   "nbconvert_exporter": "python",
   "pygments_lexer": "ipython3",
   "version": "3.8.3"
  }
 },
 "nbformat": 4,
 "nbformat_minor": 4
}
