{
 "cells": [
  {
   "cell_type": "markdown",
   "metadata": {},
   "source": [
    "# What are the demographic characteristics of neighborhoods where entitlements are?"
   ]
  },
  {
   "cell_type": "code",
   "execution_count": 1,
   "metadata": {},
   "outputs": [],
   "source": [
    "import json\n",
    "import warnings\n",
    "warnings.filterwarnings(\"ignore\")\n",
    "\n",
    "import geopandas\n",
    "import intake\n",
    "import ipyleaflet\n",
    "import IPython.display\n",
    "import ipywidgets\n",
    "import matplotlib.pyplot as plt\n",
    "import numpy\n",
    "import pandas\n",
    "\n",
    "import laplan\n",
    "import utils\n",
    "\n",
    "cat = intake.open_catalog(\"../catalogs/*.yml\")"
   ]
  },
  {
   "cell_type": "code",
   "execution_count": 2,
   "metadata": {},
   "outputs": [],
   "source": [
    "prefix_list = laplan.pcts.VALID_PCTS_PREFIX\n",
    "suffix_list = laplan.pcts.VALID_PCTS_SUFFIX\n",
    "\n",
    "remove_prefix = [\"ENV\"]\n",
    "remove_suffix = [\n",
    "    \"EIR\",\n",
    "    \"IPRO\",\n",
    "    \"CA\",\n",
    "    \"CATEX\",\n",
    "    \"CPIO\",\n",
    "    \"CPU\",\n",
    "    \"CRA\"\n",
    "    \"FH\",\n",
    "    \"G\",\n",
    "    \"HD\",\n",
    "    \"HPOZ\",\n",
    "    \"ICO\",\n",
    "    \"K\",\n",
    "    \"LCP\",\n",
    "    \"NSO\",\n",
    "    \"RFA\",\n",
    "    \"S\",\n",
    "    \"SN\",\n",
    "    \"SP\",\n",
    "    \"ZAI\",\n",
    "]\n",
    "\n",
    "prefix_list = [x for x in prefix_list if x not in remove_prefix]\n",
    "suffix_list = [x for x in suffix_list if x not in remove_suffix]"
   ]
  },
  {
   "cell_type": "code",
   "execution_count": 3,
   "metadata": {},
   "outputs": [],
   "source": [
    "# Census tracts\n",
    "tracts = cat.census_tracts.read()[[\"GEOID\", \"geometry\"]].set_index(\"GEOID\")"
   ]
  },
  {
   "cell_type": "code",
   "execution_count": 4,
   "metadata": {},
   "outputs": [
    {
     "name": "stdout",
     "output_type": "stream",
     "text": [
      "Loading PCTS\n",
      "Parsing PCTS case numbers\n",
      "6 cases failed to parse.\n",
      "Getting dummy indicators for case types\n",
      "Prefixes with no associated cases:  {'HPO'}\n",
      "Suffixes with no associated cases:  {'ND', 'REC5', 'SCEA', 'REC4', 'EAF', 'SCPE', 'ADD1', 'REC2', 'REC3', 'SUP1', 'SE'}\n",
      "Loading census analysis table\n",
      "Loading parcel-tracts crosswalk\n",
      "Removing cases touching more than 20 parcels\n",
      "Aggregating entitlements to tract\n",
      "Joining entitlements to census data\n"
     ]
    }
   ],
   "source": [
    "# Merge the census data with the entitlements counts:\n",
    "joined, big_cases = utils.entitlements_per_tract(\n",
    "    prefix_list=prefix_list,\n",
    "    suffix_list=suffix_list,\n",
    "    verbose=True,\n",
    "    big_case_threshold=20,\n",
    "    return_big_cases=True,\n",
    ")"
   ]
  },
  {
   "cell_type": "code",
   "execution_count": 5,
   "metadata": {},
   "outputs": [],
   "source": [
    "m = ipyleaflet.Map(basemap=ipyleaflet.basemaps.CartoDB.Positron)\n",
    "m.center = [34.07996230865876, -118.31123326410754]\n",
    "m.zoom = 10\n",
    "\n",
    "label = ipywidgets.HTML(value=f\"<i>Hover to select</i>\")\n",
    "m.add_control(ipyleaflet.WidgetControl(widget=label, position=\"topright\"))\n",
    "\n",
    "# Plot entitlement stats against median household income,\n",
    "# population density, and geography:\n",
    "cols = [\"medhhincome\", \"density\", \"pct_whitenonhisp\", \"pct_pop_renter\"]\n",
    "\n",
    "def plot_entitlement(df, tracts, suffix, min_year=2010, max_year=2019):\n",
    "    to_plot = df[(df[suffix] != 0) & (df.year >= min_year) & (df.year <= max_year)]\n",
    "    to_plot = to_plot.groupby(to_plot.index).agg({\n",
    "        suffix: \"sum\",\n",
    "        **{c: \"first\" for c in cols}\n",
    "    })\n",
    "    # Merge in geometry\n",
    "    final_df = tracts.merge(\n",
    "        to_plot,\n",
    "        left_index=True,\n",
    "        right_index=True,\n",
    "        how=\"left\",\n",
    "    ).fillna(\n",
    "        {suffix: 0, **{c: 0 for c in cols}}\n",
    "    ).to_crs(epsg=4326)\n",
    "    choro_data = final_df[suffix].to_dict()\n",
    "    choro_data = {str(x): y for x,y in choro_data.items()}\n",
    "    geo_data = json.loads(final_df.to_json())\n",
    "    choro_layer = ipyleaflet.Choropleth(\n",
    "        style={'fillOpacity': 0.6, \"weight\": 0},\n",
    "        geo_data=geo_data,\n",
    "        choro_data=choro_data,\n",
    "    )\n",
    "    def on_hover(**kwargs):\n",
    "        properties = kwargs.get(\"feature\", {}).get(\"properties\")\n",
    "        id = kwargs.get(\"feature\", {}).get(\"id\")\n",
    "        if not properties:\n",
    "            return\n",
    "        label.value=f\"\"\"\n",
    "        <b>Tract GEOID: </b>{id} <br>\n",
    "        <b>Number of {suffix} entitlements: </b> {properties[suffix]:,g} <br>\n",
    "        <b>Median Household Income: </b> {properties[\"medhhincome\"]:,g} <br>\n",
    "        <b>Population Density: </b> {properties[\"density\"]:,g} <br>\n",
    "        <b>Percent Population White non-Hispanic: </b> {properties[\"pct_whitenonhisp\"]:.2f} <br>\n",
    "        <b>Percent Population Renter: </b> {properties[\"pct_pop_renter\"]:.2f} <br>\n",
    "        \"\"\"\n",
    "    choro_layer.on_hover(on_hover)\n",
    "    for l in m.layers:\n",
    "        if isinstance(l, ipyleaflet.Choropleth):\n",
    "            m.substitute_layer(l, choro_layer)\n",
    "            break\n",
    "    else:\n",
    "        m.add_layer(choro_layer)"
   ]
  },
  {
   "cell_type": "code",
   "execution_count": 6,
   "metadata": {},
   "outputs": [],
   "source": [
    "demo = ipywidgets.Output()\n",
    "\n",
    "def demo_plot(df, suffix, min_year, max_year):\n",
    "    labels = {\n",
    "        \"medhhincome\": \"Median Household Income ($)\",\n",
    "        \"density\": \"Population Density (people/sqmi)\",\n",
    "        \"pct_whitenonhisp\": \"Percent population White non-Hispanic\",\n",
    "        \"pct_pop_renter\": \"Percent Population Renter\",\n",
    "    }\n",
    "    to_plot = df[(df[suffix] != 0) & (df.year >= min_year) & (df.year <= max_year)]\n",
    "    to_plot = to_plot.groupby(to_plot.index).agg({\n",
    "        suffix: \"sum\",\n",
    "        **{c: \"first\" for c in cols}\n",
    "    }).fillna(0.0).reset_index()\n",
    "\n",
    "    fig, axes = plt.subplots(1, len(cols), figsize=(16,4))\n",
    "    axes[0].set_ylabel(f\"Number of {suffix} per tract\")\n",
    "    for var, ax in zip(cols, axes):\n",
    "        ax.scatter(to_plot[var], to_plot[suffix], alpha=0.1)\n",
    "        ax.set_xlabel(labels[var])\n",
    "    plt.close(fig)\n",
    "    with demo:\n",
    "        demo.clear_output(wait=True)\n",
    "        display(fig)"
   ]
  },
  {
   "cell_type": "code",
   "execution_count": 7,
   "metadata": {},
   "outputs": [
    {
     "data": {
      "application/vnd.jupyter.widget-view+json": {
       "model_id": "c2cb7b53ce754ce3b88c715e6cfc653b",
       "version_major": 2,
       "version_minor": 0
      },
      "text/plain": [
       "SelectionRangeSlider(continuous_update=False, description='Years', index=(0, 9), options=(2010, 2011, 2012, 20…"
      ]
     },
     "metadata": {},
     "output_type": "display_data"
    },
    {
     "data": {
      "application/vnd.jupyter.widget-view+json": {
       "model_id": "d6b5361755634171a05fcfff875c684c",
       "version_major": 2,
       "version_minor": 0
      },
      "text/plain": [
       "Dropdown(description='Suffix', options=(), value=None)"
      ]
     },
     "metadata": {},
     "output_type": "display_data"
    },
    {
     "data": {
      "application/vnd.jupyter.widget-view+json": {
       "model_id": "1de00cce6919455690775b5536ef7f4f",
       "version_major": 2,
       "version_minor": 0
      },
      "text/plain": [
       "Map(center=[34.07996230865876, -118.31123326410754], controls=(ZoomControl(options=['position', 'zoom_in_text'…"
      ]
     },
     "metadata": {},
     "output_type": "display_data"
    },
    {
     "data": {
      "application/vnd.jupyter.widget-view+json": {
       "model_id": "daa0391c457f42fc87476cb3c8e711d9",
       "version_major": 2,
       "version_minor": 0
      },
      "text/plain": [
       "Output()"
      ]
     },
     "metadata": {},
     "output_type": "display_data"
    }
   ],
   "source": [
    "years = list(range(2010, 2020))\n",
    "year_slider = ipywidgets.SelectionRangeSlider(\n",
    "    description=\"Years\",\n",
    "    options=years,\n",
    "    value=(years[0], years[-1]),\n",
    "    continuous_update=False,\n",
    ")\n",
    "suffix_dropdown = ipywidgets.Dropdown(description=\"Suffix\")\n",
    "\n",
    "display(year_slider)\n",
    "display(suffix_dropdown)\n",
    "display(m)\n",
    "display(demo)\n",
    "\n",
    "change_guard = False\n",
    "\n",
    "def on_suffix_selection(*args):\n",
    "    global change_guard\n",
    "    if change_guard:\n",
    "        return\n",
    "    suffix = suffix_dropdown.value\n",
    "    plot_entitlement(joined, tracts, suffix, year_slider.value[0], year_slider.value[1])\n",
    "    demo_plot(joined, suffix, year_slider.value[0], year_slider.value[1])\n",
    "\n",
    "    \n",
    "def on_year_selection(*args):\n",
    "    global change_guard\n",
    "    year_condition = (\n",
    "        (joined.year >= year_slider.value[0]) &\n",
    "        (joined.year <= year_slider.value[1])\n",
    "    )\n",
    "    counts = joined.loc[year_condition, suffix_list].sum()\n",
    "    # Sort by alphabetical or in descending value of counts?\n",
    "    counts = counts.sort_index()\n",
    "    old_val = suffix_dropdown.value \n",
    "    change_guard=True\n",
    "    suffix_dropdown.options = [\n",
    "        (f\"{name} ({count:,} applications)\", name) \n",
    "        for name,count in zip(counts.index, counts)\n",
    "    ]\n",
    "    if old_val in counts.index:\n",
    "        suffix_dropdown.value = old_val\n",
    "    else:\n",
    "        suffix_dropdown.index = 0\n",
    "    change_guard=False\n",
    "    on_suffix_selection()\n",
    "\n",
    "on_year_selection()\n",
    "suffix_dropdown.observe(on_suffix_selection, names=\"value\")\n",
    "year_slider.observe(on_year_selection, names=\"value\")"
   ]
  },
  {
   "cell_type": "code",
   "execution_count": 8,
   "metadata": {},
   "outputs": [
    {
     "data": {
      "application/vnd.jupyter.widget-view+json": {
       "model_id": "5f56e1f4796c46ea8ef66779cd419565",
       "version_major": 2,
       "version_minor": 0
      },
      "text/plain": [
       "Dropdown(description='Outlier cases', options=(('CPC-2010-2278-GPA (19851 parcels)', 180067), ('CPC-2018-3723-…"
      ]
     },
     "metadata": {},
     "output_type": "display_data"
    },
    {
     "data": {
      "application/vnd.jupyter.widget-view+json": {
       "model_id": "9ddd4a07a658491188c8ecf47e01195a",
       "version_major": 2,
       "version_minor": 0
      },
      "text/plain": [
       "Output()"
      ]
     },
     "metadata": {},
     "output_type": "display_data"
    }
   ],
   "source": [
    "case_dropdown = ipywidgets.Dropdown(\n",
    "    description=\"Outlier cases\",\n",
    "    options=tuple(\n",
    "        (f\"{r[1]} ({r[2]} parcels)\", r[0]) for r in\n",
    "        big_cases.groupby(\"CASE_ID\").agg(\n",
    "            {\"CASE_NUMBER\": \"first\", \"AIN\": \"count\"}\n",
    "        ).sort_values(\"AIN\", ascending=False).itertuples()\n",
    "    )\n",
    ")\n",
    "\n",
    "outlier_output = ipywidgets.Output()\n",
    "\n",
    "display(case_dropdown)\n",
    "display(outlier_output)\n",
    "\n",
    "\n",
    "def plot_case(case_id):\n",
    "    to_map = geopandas.GeoDataFrame(\n",
    "        big_cases[big_cases.CASE_ID == case_id].groupby(\"GEOID\").agg({\n",
    "            \"AIN\": \"count\",\n",
    "            \"PROJECT_DESCRIPTION\": \"first\"\n",
    "        }).merge(\n",
    "            tracts,\n",
    "            how=\"right\",\n",
    "            left_index=True,\n",
    "            right_on=\"GEOID\"\n",
    "        )\n",
    "    )\n",
    "    description = to_map.PROJECT_DESCRIPTION.dropna().iloc[0]\n",
    "    with outlier_output:\n",
    "        outlier_output.clear_output(wait=True)\n",
    "        fig, ax = plt.subplots(figsize=(12,12))\n",
    "        to_map.fillna(0).plot(column=\"AIN\",legend=True, ax=ax, cmap=\"plasma\")\n",
    "        plt.close()\n",
    "        print(description)\n",
    "        display(fig)\n",
    "\n",
    "def on_case_selection(*args):\n",
    "    plot_case(case_dropdown.value)\n",
    "\n",
    "case_dropdown.observe(on_case_selection, names=[\"value\"])\n",
    "on_case_selection()"
   ]
  },
  {
   "cell_type": "code",
   "execution_count": 9,
   "metadata": {},
   "outputs": [
    {
     "data": {
      "text/plain": [
       "array(['CASE_ID', 'CASE_NUMBER', 'FILE_DATE', 'APPLICATION_ID',\n",
       "       'CASE_SEQUENCE_NUMBER', 'CASE_YEAR_NUMBER', 'PARENT_CASE_ID',\n",
       "       'CASE_ACTION_ID', 'ADDRESS', 'COUNCIL_DISTRICT', 'PIN',\n",
       "       'PLAN_AREA', 'BOE_DISTRICT', 'APC_AREA', 'CENSUS_TRACT', 'ZONING',\n",
       "       'AIN', 'EXPEDITED_CASE', 'INCIDENTAL_CASE', 'PROJECT_DESCRIPTION',\n",
       "       'APPEAL_HEARING_DATE', 'APPEAL_DECISION_DATE', '1A', '2A', 'AA',\n",
       "       'AC', 'ACI', 'ADD1', 'ADM', 'ADU', 'AIC', 'APCC', 'APCE', 'APCH',\n",
       "       'APCNV', 'APCS', 'APCSV', 'APCW', 'BL', 'BSA', 'CASP', 'CC', 'CC1',\n",
       "       'CC3', 'CCMP', 'CDO', 'CDP', 'CE', 'CEX', 'CHC', 'CLQ', 'CM', 'CN',\n",
       "       'COA', 'COC', 'CPC', 'CPIOA', 'CPIOC', 'CPIOE', 'CR', 'CRA', 'CU',\n",
       "       'CUB', 'CUC', 'CUE', 'CUW', 'CUX', 'CUZ', 'CWC', 'CWNC', 'DA',\n",
       "       'DB', 'DD', 'DEM', 'DI', 'DIR', 'DPS', 'DRB', 'EAF', 'ELD', 'EXT',\n",
       "       'EXT2', 'EXT3', 'EXT4', 'F', 'GB', 'GPA', 'GPAJ', 'HCA', 'HCM',\n",
       "       'HPO', 'INT', 'M1', 'M10', 'M11', 'M2', 'M3', 'M6', 'M7', 'M8',\n",
       "       'M9', 'MA', 'MAEX', 'MCUP', 'MEL', 'MND', 'MPA', 'MPC', 'MPR',\n",
       "       'MSC', 'MSP', 'NC', 'ND', 'NR', 'O', 'OVR', 'P', 'PA', 'PA1',\n",
       "       'PA10', 'PA15', 'PA16', 'PA17', 'PA2', 'PA3', 'PA4', 'PA5', 'PA6',\n",
       "       'PA7', 'PA9', 'PAB', 'PAD', 'PAR', 'PMEX', 'PMLA', 'PMW', 'POD',\n",
       "       'PP', 'PPR', 'PPSP', 'PS', 'PSH', 'PUB', 'QC', 'RAO', 'RDP',\n",
       "       'RDPA', 'REC1', 'REC2', 'REC3', 'REC4', 'REC5', 'REV', 'RV',\n",
       "       'SCEA', 'SCPE', 'SE', 'SIP', 'SL', 'SLD', 'SM', 'SPE', 'SPP',\n",
       "       'SPPA', 'SPPM', 'SPR', 'SUD', 'SUP1', 'TC', 'TDR', 'TOC', 'TT',\n",
       "       'UAIZ', 'UDU', 'VCU', 'VSO', 'VTT', 'VZC', 'VZCJ', 'WDI', 'WTM',\n",
       "       'YV', 'ZA', 'ZAA', 'ZAD', 'ZBA', 'ZC', 'ZCJ', 'ZV', 'uuid', 'x',\n",
       "       'y', 'num_AIN', 'TOC_Tier', 'GEOID', 'total_AIN', 'pct_toc_AIN',\n",
       "       'toc_AIN'], dtype=object)"
      ]
     },
     "execution_count": 9,
     "metadata": {},
     "output_type": "execute_result"
    }
   ],
   "source": [
    "big_cases.columns.values"
   ]
  },
  {
   "cell_type": "code",
   "execution_count": 10,
   "metadata": {},
   "outputs": [
    {
     "ename": "SpecificationError",
     "evalue": "Column(s) ['CASE_NBR', 'PROJ_DESC_TXT'] do not exist",
     "output_type": "error",
     "traceback": [
      "\u001b[0;31m---------------------------------------------------------------------------\u001b[0m",
      "\u001b[0;31mSpecificationError\u001b[0m                        Traceback (most recent call last)",
      "\u001b[0;32m<ipython-input-10-c480d09948d1>\u001b[0m in \u001b[0;36m<module>\u001b[0;34m\u001b[0m\n\u001b[0;32m----> 1\u001b[0;31m big_cases.groupby(\"CASE_ID\").agg({\n\u001b[0m\u001b[1;32m      2\u001b[0m     \u001b[0;34m\"CASE_NBR\"\u001b[0m\u001b[0;34m:\u001b[0m \u001b[0;34m\"first\"\u001b[0m\u001b[0;34m,\u001b[0m\u001b[0;34m\u001b[0m\u001b[0;34m\u001b[0m\u001b[0m\n\u001b[1;32m      3\u001b[0m     \u001b[0;34m\"PROJ_DESC_TXT\"\u001b[0m\u001b[0;34m:\u001b[0m \u001b[0;34m\"first\"\u001b[0m\u001b[0;34m,\u001b[0m\u001b[0;34m\u001b[0m\u001b[0;34m\u001b[0m\u001b[0m\n\u001b[1;32m      4\u001b[0m     \u001b[0;34m\"AIN\"\u001b[0m\u001b[0;34m:\u001b[0m \u001b[0;34m\"count\"\u001b[0m\u001b[0;34m\u001b[0m\u001b[0;34m\u001b[0m\u001b[0m\n\u001b[1;32m      5\u001b[0m }).sort_values(\"AIN\", ascending=False).rename(\n",
      "\u001b[0;32m~/miniconda3/envs/civis2/lib/python3.8/site-packages/pandas/core/groupby/generic.py\u001b[0m in \u001b[0;36maggregate\u001b[0;34m(self, func, engine, engine_kwargs, *args, **kwargs)\u001b[0m\n\u001b[1;32m    947\u001b[0m             )\n\u001b[1;32m    948\u001b[0m \u001b[0;34m\u001b[0m\u001b[0m\n\u001b[0;32m--> 949\u001b[0;31m         \u001b[0mresult\u001b[0m\u001b[0;34m,\u001b[0m \u001b[0mhow\u001b[0m \u001b[0;34m=\u001b[0m \u001b[0mself\u001b[0m\u001b[0;34m.\u001b[0m\u001b[0m_aggregate\u001b[0m\u001b[0;34m(\u001b[0m\u001b[0mfunc\u001b[0m\u001b[0;34m,\u001b[0m \u001b[0;34m*\u001b[0m\u001b[0margs\u001b[0m\u001b[0;34m,\u001b[0m \u001b[0;34m**\u001b[0m\u001b[0mkwargs\u001b[0m\u001b[0;34m)\u001b[0m\u001b[0;34m\u001b[0m\u001b[0;34m\u001b[0m\u001b[0m\n\u001b[0m\u001b[1;32m    950\u001b[0m         \u001b[0;32mif\u001b[0m \u001b[0mhow\u001b[0m \u001b[0;32mis\u001b[0m \u001b[0;32mNone\u001b[0m\u001b[0;34m:\u001b[0m\u001b[0;34m\u001b[0m\u001b[0;34m\u001b[0m\u001b[0m\n\u001b[1;32m    951\u001b[0m             \u001b[0;32mreturn\u001b[0m \u001b[0mresult\u001b[0m\u001b[0;34m\u001b[0m\u001b[0;34m\u001b[0m\u001b[0m\n",
      "\u001b[0;32m~/miniconda3/envs/civis2/lib/python3.8/site-packages/pandas/core/base.py\u001b[0m in \u001b[0;36m_aggregate\u001b[0;34m(self, arg, *args, **kwargs)\u001b[0m\n\u001b[1;32m    352\u001b[0m                 ) != len(keys):\n\u001b[1;32m    353\u001b[0m                     \u001b[0mcols\u001b[0m \u001b[0;34m=\u001b[0m \u001b[0msorted\u001b[0m\u001b[0;34m(\u001b[0m\u001b[0mset\u001b[0m\u001b[0;34m(\u001b[0m\u001b[0mkeys\u001b[0m\u001b[0;34m)\u001b[0m \u001b[0;34m-\u001b[0m \u001b[0mset\u001b[0m\u001b[0;34m(\u001b[0m\u001b[0mobj\u001b[0m\u001b[0;34m.\u001b[0m\u001b[0mcolumns\u001b[0m\u001b[0;34m.\u001b[0m\u001b[0mintersection\u001b[0m\u001b[0;34m(\u001b[0m\u001b[0mkeys\u001b[0m\u001b[0;34m)\u001b[0m\u001b[0;34m)\u001b[0m\u001b[0;34m)\u001b[0m\u001b[0;34m\u001b[0m\u001b[0;34m\u001b[0m\u001b[0m\n\u001b[0;32m--> 354\u001b[0;31m                     \u001b[0;32mraise\u001b[0m \u001b[0mSpecificationError\u001b[0m\u001b[0;34m(\u001b[0m\u001b[0;34mf\"Column(s) {cols} do not exist\"\u001b[0m\u001b[0;34m)\u001b[0m\u001b[0;34m\u001b[0m\u001b[0;34m\u001b[0m\u001b[0m\n\u001b[0m\u001b[1;32m    355\u001b[0m \u001b[0;34m\u001b[0m\u001b[0m\n\u001b[1;32m    356\u001b[0m             \u001b[0;32mfrom\u001b[0m \u001b[0mpandas\u001b[0m\u001b[0;34m.\u001b[0m\u001b[0mcore\u001b[0m\u001b[0;34m.\u001b[0m\u001b[0mreshape\u001b[0m\u001b[0;34m.\u001b[0m\u001b[0mconcat\u001b[0m \u001b[0;32mimport\u001b[0m \u001b[0mconcat\u001b[0m\u001b[0;34m\u001b[0m\u001b[0;34m\u001b[0m\u001b[0m\n",
      "\u001b[0;31mSpecificationError\u001b[0m: Column(s) ['CASE_NBR', 'PROJ_DESC_TXT'] do not exist"
     ]
    }
   ],
   "source": [
    "big_cases.groupby(\"CASE_ID\").agg({\n",
    "    \"CASE_NBR\": \"first\",\n",
    "    \"PROJ_DESC_TXT\": \"first\",\n",
    "    \"AIN\": \"count\"\n",
    "}).sort_values(\"AIN\", ascending=False).rename(\n",
    "    columns={\"PROJ_DESC_TXT\": \"Description\", \"AIN\": \"Parcels\"}\n",
    ").style"
   ]
  }
 ],
 "metadata": {
  "kernelspec": {
   "display_name": "Python 3",
   "language": "python",
   "name": "python3"
  },
  "language_info": {
   "codemirror_mode": {
    "name": "ipython",
    "version": 3
   },
   "file_extension": ".py",
   "mimetype": "text/x-python",
   "name": "python",
   "nbconvert_exporter": "python",
   "pygments_lexer": "ipython3",
   "version": "3.8.5"
  }
 },
 "nbformat": 4,
 "nbformat_minor": 4
}
