{
 "cells": [
  {
   "cell_type": "markdown",
   "metadata": {},
   "source": [
    "# Entitlements in TOC-eligible parcels"
   ]
  },
  {
   "cell_type": "code",
   "execution_count": 2,
   "metadata": {},
   "outputs": [],
   "source": [
    "import boto3\n",
    "import geopandas as gpd\n",
    "import intake\n",
    "import numpy as np\n",
    "import os\n",
    "import pandas as pd\n",
    "import utils\n",
    "import laplan"
   ]
  },
  {
   "cell_type": "code",
   "execution_count": 3,
   "metadata": {},
   "outputs": [],
   "source": [
    "catalog = intake.open_catalog(\"../catalogs/*.yml\")\n",
    "\n",
    "s3 = boto3.client('s3')\n",
    "bucket_name = 'city-planning-entitlements'"
   ]
  },
  {
   "cell_type": "markdown",
   "metadata": {},
   "source": [
    "## Process PCTS\n",
    "* Won't know which AINs are used in PCTS. Keep all the CASE_NBR-AINs but have a way to identify how many obs to drop later on\n",
    "* Join parcels to zoning eligible zones\n",
    "* Want all the entitlements (TOC or non-TOC) after 10/2017 in the TOC-eligible parcels, and then we can see what activity has occurred"
   ]
  },
  {
   "cell_type": "code",
   "execution_count": 11,
   "metadata": {},
   "outputs": [],
   "source": [
    "def subset_pcts():   \n",
    "    # Import PCTS - use function to subset\n",
    "    pcts = catalog.pcts2.read()\n",
    "    \n",
    "    FULL_PREFIX = list(laplan.pcts.VALID_PCTS_PREFIX)\n",
    "    remove_prefix = [\"ENV\", \"PAR\", \"ADM\"]\n",
    "    prefix = [x for x in FULL_PREFIX if x not in remove_prefix]\n",
    "    suffix = [\"TOC\"]\n",
    "\n",
    "    pcts = laplan.pcts.subset_pcts(\n",
    "        pcts,\n",
    "        start_date=\"2017-10-01\",\n",
    "        prefix_list=prefix,\n",
    "        suffix_list=suffix,\n",
    "        get_dummies=True,\n",
    "    )\n",
    "        \n",
    "    # Import parcels\n",
    "    parcels = gpd.read_file(f'zip+s3://{bucket_name}/gis/intermediate/TOC_Parcels.zip')    \n",
    "    \n",
    "    # Grab the centroids and count number of duplicate obs\n",
    "    parcels2 = utils.get_centroid(parcels)\n",
    "    \n",
    "    # geoparquets can't be read from S3 directly. Download and read locally.\n",
    "    zoning_file = \"parsed_zoning.parquet\"\n",
    "    s3.download_file(f'{bucket_name}',\n",
    "                     f'gis/raw/{zoning_file}', f'../gis/{zoning_file}')\n",
    "\n",
    "    zoning = gpd.read_parquet(f'../gis/{zoning_file}')\n",
    "    os.remove(f'../gis/{zoning_file}')\n",
    "    \n",
    "    eligible_zones = ['R2', 'R3', 'RAS3', 'R4', 'RAS4', 'R5', \n",
    "                  'RD1.5', 'RD2', 'RD3', 'RD4', 'RD5', 'RD6', \n",
    "                  'C1', 'C2', 'C4', 'C5']\n",
    "\n",
    "    eligible_zoning = zoning[zoning.zone_class.isin(eligible_zones)]\n",
    "\n",
    "        \n",
    "    # Merge PCTS with parcel info to see which TOC Tier it falls within\n",
    "    m1 = pd.merge(parcels2, pcts, on = 'AIN', how = 'inner', validate = '1:m')   \n",
    "\n",
    "    # Spatial join with eligible zones and attach the zoning info\n",
    "    m2 = gpd.sjoin(m1, eligible_zoning, how = 'inner', op = 'intersects').drop(columns = ['index_right'])\n",
    "\n",
    "    m2 = m2.drop_duplicates()\n",
    "        \n",
    "    return m2"
   ]
  },
  {
   "cell_type": "code",
   "execution_count": 12,
   "metadata": {},
   "outputs": [],
   "source": [
    "def more_pcts_processing(df): \n",
    "    # Subset by CASE_ACTION_ID -- let's use all cases for now (but approved cases are 1, 2, 11)\n",
    "    # We have some NaN CASE_ACTION_IDs, so we won't subset at all\n",
    "    \n",
    "    # At this point, no more duplicates by PARENT_CASE - AIN combination\n",
    "    \n",
    "    # Subset and keep colums we need\n",
    "    keep = ['CASE_ID', 'AIN', 'TOC_Tier', \n",
    "            'CASE_NBR', 'CASE_SEQ_NBR', 'CASE_YR_NBR', 'id', \n",
    "            'CASE_ACTION_ID', 'CASE_FILE_RCV_DT', 'CASE_FILE_DATE', \n",
    "            'PARENT_CASE', 'PROJ_DESC_TXT',\n",
    "            'prefix', 'zone_class', 'centroid', 'TOC']\n",
    "    \n",
    "    return df[keep]"
   ]
  },
  {
   "cell_type": "code",
   "execution_count": 13,
   "metadata": {},
   "outputs": [],
   "source": [
    "def tag_toc_entitlements(df):\n",
    "    # Save the geometry of the parcels, just use centroids\n",
    "    parcel_centroids = df[['AIN', 'centroid']].drop_duplicates()\n",
    "    \n",
    "    keep_col = ['CASE_NBR', 'id', 'CASE_ACTION_ID', 'CASE_FILE_DATE', \n",
    "                'AIN', 'TOC_Tier', 'zone_class', 'TOC']\n",
    "    \n",
    "    df = (df[keep_col]\n",
    "          .assign(\n",
    "              is_TOC = df.TOC.astype(int)\n",
    "          ).drop(columns = [\"TOC\"])\n",
    "         )\n",
    "    \n",
    "    # Make into parcel-level df\n",
    "    df2 = (df.groupby(['AIN', 'TOC_Tier', 'zone_class', 'is_TOC'])\n",
    "           .agg({'id':'count'})\n",
    "           .reset_index()) \n",
    "\n",
    "    # Make wide\n",
    "    df2 = df2.assign(\n",
    "        num_TOC = df2.apply(lambda row: row.id if row.is_TOC == 1 else np.nan, axis = 1),\n",
    "        num_nonTOC = df2.apply(lambda row: row.id if row.is_TOC == 0 else np.nan, axis = 1)\n",
    "    )\n",
    "    \n",
    "    \n",
    "    # If there are multiple obs for the same AIN, fill the NaNs with the max from the other column \n",
    "    # Then, drop duplicates\n",
    "    df2 = df2.assign(\n",
    "        num_TOC = df2.num_TOC.fillna(df2.groupby('AIN')['num_TOC'].transform('max')),\n",
    "        num_nonTOC = df2.num_nonTOC.fillna(df2.groupby('AIN')['num_nonTOC'].transform('max'))\n",
    "    )\n",
    "    \n",
    "    df3 = df2.drop_duplicates(subset = ['AIN', 'TOC_Tier', 'zone_class', 'num_TOC', 'num_nonTOC'])\n",
    "\n",
    "    df3 = (df3.assign(\n",
    "            num_TOC = df3.num_TOC.fillna(0).astype(int),\n",
    "            num_nonTOC = df3.num_nonTOC.fillna(0).astype(int)\n",
    "        ).drop(columns = ['is_TOC', 'id'])\n",
    "    )\n",
    "\n",
    "    # Merge geometry back on\n",
    "    df4 = pd.merge(parcel_centroids, df3, on = 'AIN', how = 'inner', validate = '1:m')\n",
    "    \n",
    "    return df4"
   ]
  },
  {
   "cell_type": "code",
   "execution_count": null,
   "metadata": {},
   "outputs": [
    {
     "name": "stderr",
     "output_type": "stream",
     "text": [
      "/opt/conda/lib/python3.7/site-packages/pyarrow/compat.py:25: FutureWarning: pyarrow.compat has been deprecated and will be removed in a future release\n",
      "  \"future release\", FutureWarning)\n"
     ]
    }
   ],
   "source": [
    "df1 = subset_pcts()   \n",
    "df2 = more_pcts_processing(df1)\n",
    "df = tag_toc_entitlements(df2)"
   ]
  },
  {
   "cell_type": "code",
   "execution_count": null,
   "metadata": {},
   "outputs": [],
   "source": [
    "df.head()"
   ]
  },
  {
   "cell_type": "markdown",
   "metadata": {},
   "source": [
    "## Summary stats"
   ]
  },
  {
   "cell_type": "code",
   "execution_count": 8,
   "metadata": {},
   "outputs": [
    {
     "name": "stdout",
     "output_type": "stream",
     "text": [
      "# parcels: 472\n",
      "# parcels with TOC entitlements: 472\n",
      "# parcels with non TOC entitlements: 0\n",
      "# parcels with both TOC and non TOC entitlements: 0\n",
      "double check sum: 472\n"
     ]
    }
   ],
   "source": [
    "toc_parcels = df[df.num_TOC > 0]\n",
    "non_toc_parcels = df[df.num_nonTOC > 0]\n",
    "have_both_parcels = df[(df.num_TOC > 0) & (df.num_nonTOC > 0)]\n",
    "\n",
    "print(f'# parcels: {len(df)}')\n",
    "print(f'# parcels with TOC entitlements: {len(toc_parcels)}')\n",
    "print(f'# parcels with non TOC entitlements: {len(non_toc_parcels)}')\n",
    "print(f'# parcels with both TOC and non TOC entitlements: {len(have_both_parcels)}')\n",
    "print(f'double check sum: {len(toc_parcels) + len(non_toc_parcels) - len(have_both_parcels)}')"
   ]
  },
  {
   "cell_type": "code",
   "execution_count": 9,
   "metadata": {},
   "outputs": [
    {
     "name": "stdout",
     "output_type": "stream",
     "text": [
      "% parcels with TOC entitlements: 1.0\n",
      "% parcels with non TOC entitlements: 0.0\n",
      "% parcels with both entitlements: 0.0\n"
     ]
    }
   ],
   "source": [
    "print(f'% parcels with TOC entitlements: {len(toc_parcels) / len(df)}')\n",
    "print(f'% parcels with non TOC entitlements: {len(non_toc_parcels) / len(df)}')\n",
    "print(f'% parcels with both entitlements: {len(have_both_parcels) / len(df)}')"
   ]
  },
  {
   "cell_type": "code",
   "execution_count": 10,
   "metadata": {},
   "outputs": [
    {
     "data": {
      "text/plain": [
       "C2       182\n",
       "R3       169\n",
       "R4        82\n",
       "C4        26\n",
       "RD1.5      7\n",
       "R5         3\n",
       "RAS4       2\n",
       "RD2        1\n",
       "Name: zone_class, dtype: int64"
      ]
     },
     "execution_count": 10,
     "metadata": {},
     "output_type": "execute_result"
    }
   ],
   "source": [
    "toc_parcels.zone_class.value_counts()"
   ]
  },
  {
   "cell_type": "code",
   "execution_count": 11,
   "metadata": {},
   "outputs": [
    {
     "data": {
      "text/plain": [
       "Series([], Name: zone_class, dtype: int64)"
      ]
     },
     "execution_count": 11,
     "metadata": {},
     "output_type": "execute_result"
    }
   ],
   "source": [
    "non_toc_parcels.zone_class.value_counts()"
   ]
  },
  {
   "cell_type": "code",
   "execution_count": 12,
   "metadata": {},
   "outputs": [],
   "source": [
    "df.to_file(driver = 'GeoJSON', filename = '../gis/intermediate/toc_eligible_parcels_with_entitlements.geojson')\n",
    "\n",
    "s3.upload_file('../gis/intermediate/toc_eligible_parcels_with_entitlements.geojson', \n",
    "               f'{bucket_name}', 'gis/intermediate/toc_eligible_parcels_with_entitlements.geojson')"
   ]
  },
  {
   "cell_type": "markdown",
   "metadata": {},
   "source": [
    "## Breakdown by TOC Tiers"
   ]
  },
  {
   "cell_type": "code",
   "execution_count": 13,
   "metadata": {},
   "outputs": [
    {
     "data": {
      "text/html": [
       "<div>\n",
       "<style scoped>\n",
       "    .dataframe tbody tr th:only-of-type {\n",
       "        vertical-align: middle;\n",
       "    }\n",
       "\n",
       "    .dataframe tbody tr th {\n",
       "        vertical-align: top;\n",
       "    }\n",
       "\n",
       "    .dataframe thead th {\n",
       "        text-align: right;\n",
       "    }\n",
       "</style>\n",
       "<table border=\"1\" class=\"dataframe\">\n",
       "  <thead>\n",
       "    <tr style=\"text-align: right;\">\n",
       "      <th></th>\n",
       "      <th>TOC_Tier</th>\n",
       "      <th>AIN</th>\n",
       "      <th>num_TOC</th>\n",
       "      <th>num_nonTOC</th>\n",
       "      <th>pct_TOC</th>\n",
       "      <th>pct_nonTOC</th>\n",
       "      <th>all_AIN</th>\n",
       "      <th>pct_AIN</th>\n",
       "    </tr>\n",
       "  </thead>\n",
       "  <tbody>\n",
       "    <tr>\n",
       "      <th>0</th>\n",
       "      <td>0</td>\n",
       "      <td>3</td>\n",
       "      <td>3</td>\n",
       "      <td>0</td>\n",
       "      <td>1.0</td>\n",
       "      <td>0.0</td>\n",
       "      <td>472</td>\n",
       "      <td>0.006356</td>\n",
       "    </tr>\n",
       "    <tr>\n",
       "      <th>1</th>\n",
       "      <td>1</td>\n",
       "      <td>74</td>\n",
       "      <td>75</td>\n",
       "      <td>0</td>\n",
       "      <td>1.0</td>\n",
       "      <td>0.0</td>\n",
       "      <td>472</td>\n",
       "      <td>0.156780</td>\n",
       "    </tr>\n",
       "    <tr>\n",
       "      <th>2</th>\n",
       "      <td>2</td>\n",
       "      <td>101</td>\n",
       "      <td>102</td>\n",
       "      <td>0</td>\n",
       "      <td>1.0</td>\n",
       "      <td>0.0</td>\n",
       "      <td>472</td>\n",
       "      <td>0.213983</td>\n",
       "    </tr>\n",
       "    <tr>\n",
       "      <th>3</th>\n",
       "      <td>3</td>\n",
       "      <td>257</td>\n",
       "      <td>257</td>\n",
       "      <td>0</td>\n",
       "      <td>1.0</td>\n",
       "      <td>0.0</td>\n",
       "      <td>472</td>\n",
       "      <td>0.544492</td>\n",
       "    </tr>\n",
       "    <tr>\n",
       "      <th>4</th>\n",
       "      <td>4</td>\n",
       "      <td>37</td>\n",
       "      <td>37</td>\n",
       "      <td>0</td>\n",
       "      <td>1.0</td>\n",
       "      <td>0.0</td>\n",
       "      <td>472</td>\n",
       "      <td>0.078390</td>\n",
       "    </tr>\n",
       "  </tbody>\n",
       "</table>\n",
       "</div>"
      ],
      "text/plain": [
       "   TOC_Tier  AIN  num_TOC  num_nonTOC  pct_TOC  pct_nonTOC  all_AIN   pct_AIN\n",
       "0         0    3        3           0      1.0         0.0      472  0.006356\n",
       "1         1   74       75           0      1.0         0.0      472  0.156780\n",
       "2         2  101      102           0      1.0         0.0      472  0.213983\n",
       "3         3  257      257           0      1.0         0.0      472  0.544492\n",
       "4         4   37       37           0      1.0         0.0      472  0.078390"
      ]
     },
     "execution_count": 13,
     "metadata": {},
     "output_type": "execute_result"
    }
   ],
   "source": [
    "def summarize_by_tiers(df):\n",
    "    df2 = df.groupby('TOC_Tier').agg({'AIN':'count', 'num_TOC':'sum', 'num_nonTOC':'sum'}).reset_index()\n",
    "    \n",
    "    for i in ['TOC', 'nonTOC']:\n",
    "        new_col = f'pct_{i}'\n",
    "        numerator = f'num_{i}'\n",
    "        df2[new_col] = df2[numerator] / (df2.num_TOC + df2.num_nonTOC)\n",
    "    \n",
    "    df2['all_AIN'] = df2.AIN.sum()\n",
    "    df2['pct_AIN'] = df2.AIN / df2.all_AIN\n",
    "    \n",
    "    return df2\n",
    "\n",
    "by_tiers = summarize_by_tiers(df)\n",
    "by_tiers"
   ]
  },
  {
   "cell_type": "markdown",
   "metadata": {},
   "source": [
    "## Breakdown by Zone Class"
   ]
  },
  {
   "cell_type": "code",
   "execution_count": 14,
   "metadata": {},
   "outputs": [
    {
     "data": {
      "text/html": [
       "<div>\n",
       "<style scoped>\n",
       "    .dataframe tbody tr th:only-of-type {\n",
       "        vertical-align: middle;\n",
       "    }\n",
       "\n",
       "    .dataframe tbody tr th {\n",
       "        vertical-align: top;\n",
       "    }\n",
       "\n",
       "    .dataframe thead th {\n",
       "        text-align: right;\n",
       "    }\n",
       "</style>\n",
       "<table border=\"1\" class=\"dataframe\">\n",
       "  <thead>\n",
       "    <tr style=\"text-align: right;\">\n",
       "      <th></th>\n",
       "      <th>zone_class</th>\n",
       "      <th>AIN</th>\n",
       "      <th>num_TOC</th>\n",
       "      <th>num_nonTOC</th>\n",
       "      <th>pct_TOC</th>\n",
       "      <th>pct_nonTOC</th>\n",
       "      <th>all_AIN</th>\n",
       "      <th>pct_AIN</th>\n",
       "    </tr>\n",
       "  </thead>\n",
       "  <tbody>\n",
       "    <tr>\n",
       "      <th>0</th>\n",
       "      <td>C2</td>\n",
       "      <td>182</td>\n",
       "      <td>184</td>\n",
       "      <td>0</td>\n",
       "      <td>1.0</td>\n",
       "      <td>0.0</td>\n",
       "      <td>472</td>\n",
       "      <td>0.385593</td>\n",
       "    </tr>\n",
       "    <tr>\n",
       "      <th>1</th>\n",
       "      <td>C4</td>\n",
       "      <td>26</td>\n",
       "      <td>26</td>\n",
       "      <td>0</td>\n",
       "      <td>1.0</td>\n",
       "      <td>0.0</td>\n",
       "      <td>472</td>\n",
       "      <td>0.055085</td>\n",
       "    </tr>\n",
       "    <tr>\n",
       "      <th>2</th>\n",
       "      <td>R3</td>\n",
       "      <td>169</td>\n",
       "      <td>169</td>\n",
       "      <td>0</td>\n",
       "      <td>1.0</td>\n",
       "      <td>0.0</td>\n",
       "      <td>472</td>\n",
       "      <td>0.358051</td>\n",
       "    </tr>\n",
       "    <tr>\n",
       "      <th>3</th>\n",
       "      <td>R4</td>\n",
       "      <td>82</td>\n",
       "      <td>82</td>\n",
       "      <td>0</td>\n",
       "      <td>1.0</td>\n",
       "      <td>0.0</td>\n",
       "      <td>472</td>\n",
       "      <td>0.173729</td>\n",
       "    </tr>\n",
       "    <tr>\n",
       "      <th>4</th>\n",
       "      <td>R5</td>\n",
       "      <td>3</td>\n",
       "      <td>3</td>\n",
       "      <td>0</td>\n",
       "      <td>1.0</td>\n",
       "      <td>0.0</td>\n",
       "      <td>472</td>\n",
       "      <td>0.006356</td>\n",
       "    </tr>\n",
       "    <tr>\n",
       "      <th>5</th>\n",
       "      <td>RAS4</td>\n",
       "      <td>2</td>\n",
       "      <td>2</td>\n",
       "      <td>0</td>\n",
       "      <td>1.0</td>\n",
       "      <td>0.0</td>\n",
       "      <td>472</td>\n",
       "      <td>0.004237</td>\n",
       "    </tr>\n",
       "    <tr>\n",
       "      <th>6</th>\n",
       "      <td>RD1.5</td>\n",
       "      <td>7</td>\n",
       "      <td>7</td>\n",
       "      <td>0</td>\n",
       "      <td>1.0</td>\n",
       "      <td>0.0</td>\n",
       "      <td>472</td>\n",
       "      <td>0.014831</td>\n",
       "    </tr>\n",
       "    <tr>\n",
       "      <th>7</th>\n",
       "      <td>RD2</td>\n",
       "      <td>1</td>\n",
       "      <td>1</td>\n",
       "      <td>0</td>\n",
       "      <td>1.0</td>\n",
       "      <td>0.0</td>\n",
       "      <td>472</td>\n",
       "      <td>0.002119</td>\n",
       "    </tr>\n",
       "  </tbody>\n",
       "</table>\n",
       "</div>"
      ],
      "text/plain": [
       "  zone_class  AIN  num_TOC  num_nonTOC  pct_TOC  pct_nonTOC  all_AIN   pct_AIN\n",
       "0         C2  182      184           0      1.0         0.0      472  0.385593\n",
       "1         C4   26       26           0      1.0         0.0      472  0.055085\n",
       "2         R3  169      169           0      1.0         0.0      472  0.358051\n",
       "3         R4   82       82           0      1.0         0.0      472  0.173729\n",
       "4         R5    3        3           0      1.0         0.0      472  0.006356\n",
       "5       RAS4    2        2           0      1.0         0.0      472  0.004237\n",
       "6      RD1.5    7        7           0      1.0         0.0      472  0.014831\n",
       "7        RD2    1        1           0      1.0         0.0      472  0.002119"
      ]
     },
     "execution_count": 14,
     "metadata": {},
     "output_type": "execute_result"
    }
   ],
   "source": [
    "def summarize_by_zones(df):\n",
    "    df2 = df.groupby('zone_class').agg({'AIN':'count', 'num_TOC':'sum', 'num_nonTOC':'sum'}).reset_index()\n",
    "    \n",
    "    for i in ['TOC', 'nonTOC']:\n",
    "        new_col = f'pct_{i}'\n",
    "        numerator = f'num_{i}'\n",
    "        df2[new_col] = df2[numerator] / (df2.num_TOC + df2.num_nonTOC)\n",
    "    \n",
    "    df2['all_AIN'] = df2.AIN.sum()\n",
    "    df2['pct_AIN'] = df2.AIN / df2.all_AIN\n",
    "    \n",
    "    return df2\n",
    "\n",
    "by_zones = summarize_by_zones(df)\n",
    "by_zones"
   ]
  },
  {
   "cell_type": "code",
   "execution_count": 15,
   "metadata": {},
   "outputs": [],
   "source": [
    "writer = pd.ExcelWriter('../outputs/toc_charts.xlsx', engine = 'xlsxwriter')\n",
    "\n",
    "by_tiers.to_excel(writer, sheet_name = 'entitlements_by_tier')\n",
    "by_zones.to_excel(writer, sheet_name = 'entitlements_by_zone')\n",
    "\n",
    "writer.save()"
   ]
  }
 ],
 "metadata": {
  "kernelspec": {
   "display_name": "Python 3",
   "language": "python",
   "name": "python3"
  },
  "language_info": {
   "codemirror_mode": {
    "name": "ipython",
    "version": 3
   },
   "file_extension": ".py",
   "mimetype": "text/x-python",
   "name": "python",
   "nbconvert_exporter": "python",
   "pygments_lexer": "ipython3",
   "version": "3.7.8"
  }
 },
 "nbformat": 4,
 "nbformat_minor": 4
}
