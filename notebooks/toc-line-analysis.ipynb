{
 "cells": [
  {
   "cell_type": "markdown",
   "metadata": {},
   "source": [
    "# TOC entitlements near bus/rail lines\n",
    "* Which bus/rail lines or rail stations have seen the most TOC entitlement activity?\n",
    "* Which ones have seen lots of non-TOC entitlement activity? "
   ]
  },
  {
   "cell_type": "code",
   "execution_count": 1,
   "metadata": {},
   "outputs": [],
   "source": [
    "import numpy as np\n",
    "import pandas as pd\n",
    "import geopandas as gpd\n",
    "import intake\n",
    "import boto3"
   ]
  },
  {
   "cell_type": "code",
   "execution_count": 2,
   "metadata": {},
   "outputs": [],
   "source": [
    "catalog = intake.open_catalog(\"../catalogs/*.yml\")\n",
    "\n",
    "s3 = boto3.client('s3')\n",
    "bucket_name = 'city-planning-entitlements'"
   ]
  },
  {
   "cell_type": "code",
   "execution_count": 3,
   "metadata": {},
   "outputs": [],
   "source": [
    "metro_rail_stations = catalog.metro_rail_stations.read()\n",
    "metrolink_stations = catalog.metrolink_stations.read()\n",
    "metro_bus_stops = catalog.metro_bus_stops.read()\n",
    "toc_tiers = gpd.read_file(f's3://{bucket_name}/gis/raw/TOC_Tiers.geojson').to_crs({'init':'epsg:4326'})\n",
    "intersections = catalog.street_intersections.read().to_crs({'init':'epsg:4326'})\n",
    "city_boundary = catalog.city_boundary.read()"
   ]
  },
  {
   "cell_type": "code",
   "execution_count": 4,
   "metadata": {},
   "outputs": [],
   "source": [
    "keep = ['ASSETID', 'CL_NODE_ID', 'FROM_ST', 'TO_ST', 'TRANSIT', 'TRANSITSTOP', 'geometry']\n",
    "intersections = intersections[keep]"
   ]
  },
  {
   "cell_type": "code",
   "execution_count": 5,
   "metadata": {},
   "outputs": [
    {
     "data": {
      "text/plain": [
       "0.0    9044\n",
       "1.0       4\n",
       "Name: TRANSITSTOP, dtype: int64"
      ]
     },
     "execution_count": 5,
     "metadata": {},
     "output_type": "execute_result"
    }
   ],
   "source": [
    "# This seems ok, it's possible that the intersection isn't a transit stop, but there's a stop 100ft away?\n",
    "intersections[intersections.TRANSIT==0].TRANSITSTOP.value_counts()"
   ]
  },
  {
   "cell_type": "code",
   "execution_count": 6,
   "metadata": {},
   "outputs": [
    {
     "data": {
      "text/plain": [
       "0.0    28110\n",
       "1.0     1846\n",
       "2.0     1609\n",
       "3.0      280\n",
       "4.0      209\n",
       "5.0       47\n",
       "6.0       26\n",
       "7.0        7\n",
       "8.0        1\n",
       "Name: TRANSITSTOP, dtype: int64"
      ]
     },
     "execution_count": 6,
     "metadata": {},
     "output_type": "execute_result"
    }
   ],
   "source": [
    "# Shouldn't all these be TRANSITSTOP >= 1? Why are there zeroes?\n",
    "intersections[intersections.TRANSIT==1].TRANSITSTOP.value_counts()"
   ]
  },
  {
   "cell_type": "markdown",
   "metadata": {},
   "source": [
    "## Find ways to pare down intersections\n",
    "* spatial join to TOC Tiers\n",
    "* run the high frequency bus lines through them (with buffers around intersections)"
   ]
  },
  {
   "cell_type": "code",
   "execution_count": 7,
   "metadata": {},
   "outputs": [
    {
     "data": {
      "text/plain": [
       "<matplotlib.axes._subplots.AxesSubplot at 0x7f78867459e8>"
      ]
     },
     "execution_count": 7,
     "metadata": {},
     "output_type": "execute_result"
    },
    {
     "data": {
      "image/png": "[encoded data removed]",
      "text/plain": [
       "<Figure size 432x288 with 1 Axes>"
      ]
     },
     "metadata": {
      "needs_background": "light"
     },
     "output_type": "display_data"
    }
   ],
   "source": [
    "test = gpd.sjoin(intersections, toc_tiers, how = 'inner', op = 'intersects')\n",
    "test.plot()"
   ]
  },
  {
   "cell_type": "code",
   "execution_count": 8,
   "metadata": {},
   "outputs": [
    {
     "name": "stdout",
     "output_type": "stream",
     "text": [
      "# obs in intersections: 41183\n",
      "# obs in clipped intersections: 16487\n"
     ]
    }
   ],
   "source": [
    "print(f'# obs in intersections: {len(intersections)}')\n",
    "print(f'# obs in clipped intersections: {len(test)}')"
   ]
  },
  {
   "cell_type": "code",
   "execution_count": null,
   "metadata": {},
   "outputs": [],
   "source": []
  }
 ],
 "metadata": {
  "kernelspec": {
   "display_name": "Python 3",
   "language": "python",
   "name": "python3"
  },
  "language_info": {
   "codemirror_mode": {
    "name": "ipython",
    "version": 3
   },
   "file_extension": ".py",
   "mimetype": "text/x-python",
   "name": "python",
   "nbconvert_exporter": "python",
   "pygments_lexer": "ipython3",
   "version": "3.7.3"
  }
 },
 "nbformat": 4,
 "nbformat_minor": 4
}
