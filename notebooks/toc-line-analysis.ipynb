{
 "cells": [
  {
   "cell_type": "markdown",
   "metadata": {},
   "source": [
    "# TOC entitlements near bus/rail lines\n",
    "* Which bus/rail lines or rail stations have seen the most TOC entitlement activity?\n",
    "* Which ones have seen lots of non-TOC entitlement activity? "
   ]
  },
  {
   "cell_type": "code",
   "execution_count": 1,
   "metadata": {},
   "outputs": [],
   "source": [
    "import numpy as np\n",
    "import pandas as pd\n",
    "import geopandas as gpd\n",
    "import intake\n",
    "import boto3"
   ]
  },
  {
   "cell_type": "code",
   "execution_count": 2,
   "metadata": {},
   "outputs": [],
   "source": [
    "catalog = intake.open_catalog(\"../catalogs/*.yml\")\n",
    "\n",
    "s3 = boto3.client('s3')\n",
    "bucket_name = 'city-planning-entitlements'"
   ]
  },
  {
   "cell_type": "code",
   "execution_count": 18,
   "metadata": {},
   "outputs": [],
   "source": [
    "metro_rail_stations = catalog.metro_rail_stations.read()\n",
    "metrolink_stations = catalog.metrolink_stations.read()\n",
    "metro_bus_stops = catalog.metro_bus_stops.read()\n",
    "toc_tiers = gpd.read_file(f's3://{bucket_name}/gis/raw/TOC_Tiers.geojson').to_crs({'init':'epsg:4326'})\n",
    "intersections = catalog.street_intersections.read().to_crs({'init':'epsg:4326'})\n",
    "metro_bus_lines = catalog.metro_bus_lines.read().to_crs({'init':'epsg:4326'})"
   ]
  },
  {
   "cell_type": "code",
   "execution_count": 14,
   "metadata": {},
   "outputs": [
    {
     "data": {
      "text/plain": [
       "'metro_rail_stations'"
      ]
     },
     "metadata": {},
     "output_type": "display_data"
    },
    {
     "name": "stdout",
     "output_type": "stream",
     "text": [
      "96\n",
      "57\n"
     ]
    },
    {
     "data": {
      "text/plain": [
       "'metrolink_stations'"
      ]
     },
     "metadata": {},
     "output_type": "display_data"
    },
    {
     "name": "stdout",
     "output_type": "stream",
     "text": [
      "58\n",
      "10\n"
     ]
    },
    {
     "data": {
      "text/plain": [
       "'metro_bus_stops'"
      ]
     },
     "metadata": {},
     "output_type": "display_data"
    },
    {
     "name": "stdout",
     "output_type": "stream",
     "text": [
      "13974\n",
      "5474\n"
     ]
    }
   ],
   "source": [
    "# Save all the dfs that need to be clipped by TOC Tiers into dictionary\n",
    "dataframes = {'metro_rail_stations': metro_rail_stations, \n",
    "             'metrolink_stations': metrolink_stations,\n",
    "             'metro_bus_stops': metro_bus_stops}\n",
    "\n",
    "clipped_dfs = {}\n",
    "\n",
    "# Clip to TOC Tiers, better than clipping to city boundary, because this gets rid of more\n",
    "# Would use gpd.clip, but our geopandas is an older version\n",
    "for key, value in dataframes.items():\n",
    "    display(key)\n",
    "    print(f'{len(value)}')\n",
    "    clipped = gpd.sjoin(value, toc_tiers, how = 'inner', op = 'intersects')\n",
    "    clipped_dfs[key] = clipped\n",
    "    print(f'{len(clipped)}')"
   ]
  },
  {
   "cell_type": "code",
   "execution_count": 29,
   "metadata": {},
   "outputs": [
    {
     "data": {
      "text/html": [
       "<div>\n",
       "<style scoped>\n",
       "    .dataframe tbody tr th:only-of-type {\n",
       "        vertical-align: middle;\n",
       "    }\n",
       "\n",
       "    .dataframe tbody tr th {\n",
       "        vertical-align: top;\n",
       "    }\n",
       "\n",
       "    .dataframe thead th {\n",
       "        text-align: right;\n",
       "    }\n",
       "</style>\n",
       "<table border=\"1\" class=\"dataframe\">\n",
       "  <thead>\n",
       "    <tr style=\"text-align: right;\">\n",
       "      <th></th>\n",
       "      <th>STOPNUM</th>\n",
       "      <th>STOPNAME</th>\n",
       "      <th>LAT</th>\n",
       "      <th>LONG</th>\n",
       "      <th>LINE_DIR_1</th>\n",
       "      <th>LINE_DIR_2</th>\n",
       "      <th>LINE_DIR_3</th>\n",
       "      <th>LINE_DIR_4</th>\n",
       "      <th>LINE_DIR_5</th>\n",
       "      <th>LINE_DIR_6</th>\n",
       "      <th>...</th>\n",
       "      <th>LINE_DIR_A</th>\n",
       "      <th>LINE_DIR_B</th>\n",
       "      <th>LINE_DIR_C</th>\n",
       "      <th>LINE_DIR_D</th>\n",
       "      <th>LINE_DIR_E</th>\n",
       "      <th>LINE_DIR_F</th>\n",
       "      <th>LINE_DIR_G</th>\n",
       "      <th>LINE_DIR_H</th>\n",
       "      <th>LINE_DIR_I</th>\n",
       "      <th>geometry</th>\n",
       "    </tr>\n",
       "  </thead>\n",
       "  <tbody>\n",
       "    <tr>\n",
       "      <th>0</th>\n",
       "      <td>1</td>\n",
       "      <td>PARAMOUNT / SLAUSON</td>\n",
       "      <td>33.973248</td>\n",
       "      <td>-118.113113</td>\n",
       "      <td>108-E</td>\n",
       "      <td>265-S</td>\n",
       "      <td>None</td>\n",
       "      <td>None</td>\n",
       "      <td>None</td>\n",
       "      <td>None</td>\n",
       "      <td>...</td>\n",
       "      <td>None</td>\n",
       "      <td>None</td>\n",
       "      <td>None</td>\n",
       "      <td>None</td>\n",
       "      <td>None</td>\n",
       "      <td>None</td>\n",
       "      <td>None</td>\n",
       "      <td>None</td>\n",
       "      <td>None</td>\n",
       "      <td>POINT (-118.11311 33.97325)</td>\n",
       "    </tr>\n",
       "    <tr>\n",
       "      <th>1</th>\n",
       "      <td>3</td>\n",
       "      <td>JEFFERSON / 10TH</td>\n",
       "      <td>34.025471</td>\n",
       "      <td>-118.328402</td>\n",
       "      <td>35-N</td>\n",
       "      <td>None</td>\n",
       "      <td>None</td>\n",
       "      <td>None</td>\n",
       "      <td>None</td>\n",
       "      <td>None</td>\n",
       "      <td>...</td>\n",
       "      <td>None</td>\n",
       "      <td>None</td>\n",
       "      <td>None</td>\n",
       "      <td>None</td>\n",
       "      <td>None</td>\n",
       "      <td>None</td>\n",
       "      <td>None</td>\n",
       "      <td>None</td>\n",
       "      <td>None</td>\n",
       "      <td>POINT (-118.32840 34.02547)</td>\n",
       "    </tr>\n",
       "    <tr>\n",
       "      <th>2</th>\n",
       "      <td>6</td>\n",
       "      <td>120TH \\ AUGUSTUS F HAWKINS</td>\n",
       "      <td>33.924696</td>\n",
       "      <td>-118.242222</td>\n",
       "      <td>55-N</td>\n",
       "      <td>120-W</td>\n",
       "      <td>None</td>\n",
       "      <td>None</td>\n",
       "      <td>None</td>\n",
       "      <td>None</td>\n",
       "      <td>...</td>\n",
       "      <td>None</td>\n",
       "      <td>None</td>\n",
       "      <td>None</td>\n",
       "      <td>None</td>\n",
       "      <td>None</td>\n",
       "      <td>None</td>\n",
       "      <td>None</td>\n",
       "      <td>None</td>\n",
       "      <td>None</td>\n",
       "      <td>POINT (-118.24222 33.92470)</td>\n",
       "    </tr>\n",
       "    <tr>\n",
       "      <th>3</th>\n",
       "      <td>7</td>\n",
       "      <td>120TH \\ MARTIN LUTHER KING HOSPITAL</td>\n",
       "      <td>33.924505</td>\n",
       "      <td>-118.240369</td>\n",
       "      <td>55-S</td>\n",
       "      <td>120-E</td>\n",
       "      <td>None</td>\n",
       "      <td>None</td>\n",
       "      <td>None</td>\n",
       "      <td>None</td>\n",
       "      <td>...</td>\n",
       "      <td>None</td>\n",
       "      <td>None</td>\n",
       "      <td>None</td>\n",
       "      <td>None</td>\n",
       "      <td>None</td>\n",
       "      <td>None</td>\n",
       "      <td>None</td>\n",
       "      <td>None</td>\n",
       "      <td>None</td>\n",
       "      <td>POINT (-118.24037 33.92451)</td>\n",
       "    </tr>\n",
       "    <tr>\n",
       "      <th>4</th>\n",
       "      <td>8</td>\n",
       "      <td>120TH / CRENSHAW</td>\n",
       "      <td>33.923818</td>\n",
       "      <td>-118.326886</td>\n",
       "      <td>126-E</td>\n",
       "      <td>None</td>\n",
       "      <td>None</td>\n",
       "      <td>None</td>\n",
       "      <td>None</td>\n",
       "      <td>None</td>\n",
       "      <td>...</td>\n",
       "      <td>None</td>\n",
       "      <td>None</td>\n",
       "      <td>None</td>\n",
       "      <td>None</td>\n",
       "      <td>None</td>\n",
       "      <td>None</td>\n",
       "      <td>None</td>\n",
       "      <td>None</td>\n",
       "      <td>None</td>\n",
       "      <td>POINT (-118.32689 33.92382)</td>\n",
       "    </tr>\n",
       "  </tbody>\n",
       "</table>\n",
       "<p>5 rows × 23 columns</p>\n",
       "</div>"
      ],
      "text/plain": [
       "   STOPNUM                             STOPNAME        LAT        LONG  \\\n",
       "0        1                  PARAMOUNT / SLAUSON  33.973248 -118.113113   \n",
       "1        3                     JEFFERSON / 10TH  34.025471 -118.328402   \n",
       "2        6           120TH \\ AUGUSTUS F HAWKINS  33.924696 -118.242222   \n",
       "3        7  120TH \\ MARTIN LUTHER KING HOSPITAL  33.924505 -118.240369   \n",
       "4        8                     120TH / CRENSHAW  33.923818 -118.326886   \n",
       "\n",
       "  LINE_DIR_1 LINE_DIR_2 LINE_DIR_3 LINE_DIR_4 LINE_DIR_5 LINE_DIR_6  ...  \\\n",
       "0      108-E      265-S       None       None       None       None  ...   \n",
       "1       35-N       None       None       None       None       None  ...   \n",
       "2       55-N      120-W       None       None       None       None  ...   \n",
       "3       55-S      120-E       None       None       None       None  ...   \n",
       "4      126-E       None       None       None       None       None  ...   \n",
       "\n",
       "  LINE_DIR_A LINE_DIR_B LINE_DIR_C LINE_DIR_D LINE_DIR_E LINE_DIR_F  \\\n",
       "0       None       None       None       None       None       None   \n",
       "1       None       None       None       None       None       None   \n",
       "2       None       None       None       None       None       None   \n",
       "3       None       None       None       None       None       None   \n",
       "4       None       None       None       None       None       None   \n",
       "\n",
       "  LINE_DIR_G LINE_DIR_H LINE_DIR_I                     geometry  \n",
       "0       None       None       None  POINT (-118.11311 33.97325)  \n",
       "1       None       None       None  POINT (-118.32840 34.02547)  \n",
       "2       None       None       None  POINT (-118.24222 33.92470)  \n",
       "3       None       None       None  POINT (-118.24037 33.92451)  \n",
       "4       None       None       None  POINT (-118.32689 33.92382)  \n",
       "\n",
       "[5 rows x 23 columns]"
      ]
     },
     "execution_count": 29,
     "metadata": {},
     "output_type": "execute_result"
    }
   ],
   "source": [
    "metro_bus_stops.sort_values('STOPNUM').head()"
   ]
  },
  {
   "cell_type": "code",
   "execution_count": 30,
   "metadata": {},
   "outputs": [
    {
     "data": {
      "text/html": [
       "<div>\n",
       "<style scoped>\n",
       "    .dataframe tbody tr th:only-of-type {\n",
       "        vertical-align: middle;\n",
       "    }\n",
       "\n",
       "    .dataframe tbody tr th {\n",
       "        vertical-align: top;\n",
       "    }\n",
       "\n",
       "    .dataframe thead th {\n",
       "        text-align: right;\n",
       "    }\n",
       "</style>\n",
       "<table border=\"1\" class=\"dataframe\">\n",
       "  <thead>\n",
       "    <tr style=\"text-align: right;\">\n",
       "      <th></th>\n",
       "      <th>STOPNUM</th>\n",
       "      <th>LINE</th>\n",
       "      <th>DIR_A2</th>\n",
       "      <th>STOPNAME</th>\n",
       "      <th>LAT</th>\n",
       "      <th>LONG</th>\n",
       "      <th>geometry</th>\n",
       "    </tr>\n",
       "  </thead>\n",
       "  <tbody>\n",
       "    <tr>\n",
       "      <th>0</th>\n",
       "      <td>1</td>\n",
       "      <td>108</td>\n",
       "      <td>E</td>\n",
       "      <td>PARAMOUNT / SLAUSON</td>\n",
       "      <td>33.973248</td>\n",
       "      <td>-118.113113</td>\n",
       "      <td>POINT (-118.11311 33.97325)</td>\n",
       "    </tr>\n",
       "    <tr>\n",
       "      <th>1</th>\n",
       "      <td>1</td>\n",
       "      <td>265</td>\n",
       "      <td>S</td>\n",
       "      <td>PARAMOUNT / SLAUSON</td>\n",
       "      <td>33.973248</td>\n",
       "      <td>-118.113113</td>\n",
       "      <td>POINT (-118.11311 33.97325)</td>\n",
       "    </tr>\n",
       "    <tr>\n",
       "      <th>2</th>\n",
       "      <td>3</td>\n",
       "      <td>35</td>\n",
       "      <td>N</td>\n",
       "      <td>JEFFERSON / 10TH</td>\n",
       "      <td>34.025471</td>\n",
       "      <td>-118.328402</td>\n",
       "      <td>POINT (-118.32840 34.02547)</td>\n",
       "    </tr>\n",
       "    <tr>\n",
       "      <th>3</th>\n",
       "      <td>6</td>\n",
       "      <td>55</td>\n",
       "      <td>N</td>\n",
       "      <td>120TH \\ AUGUSTUS F HAWKINS</td>\n",
       "      <td>33.924696</td>\n",
       "      <td>-118.242222</td>\n",
       "      <td>POINT (-118.24222 33.92470)</td>\n",
       "    </tr>\n",
       "    <tr>\n",
       "      <th>4</th>\n",
       "      <td>6</td>\n",
       "      <td>120</td>\n",
       "      <td>W</td>\n",
       "      <td>120TH \\ AUGUSTUS F HAWKINS</td>\n",
       "      <td>33.924696</td>\n",
       "      <td>-118.242222</td>\n",
       "      <td>POINT (-118.24222 33.92470)</td>\n",
       "    </tr>\n",
       "  </tbody>\n",
       "</table>\n",
       "</div>"
      ],
      "text/plain": [
       "   STOPNUM  LINE DIR_A2                    STOPNAME        LAT        LONG  \\\n",
       "0        1   108      E         PARAMOUNT / SLAUSON  33.973248 -118.113113   \n",
       "1        1   265      S         PARAMOUNT / SLAUSON  33.973248 -118.113113   \n",
       "2        3    35      N            JEFFERSON / 10TH  34.025471 -118.328402   \n",
       "3        6    55      N  120TH \\ AUGUSTUS F HAWKINS  33.924696 -118.242222   \n",
       "4        6   120      W  120TH \\ AUGUSTUS F HAWKINS  33.924696 -118.242222   \n",
       "\n",
       "                      geometry  \n",
       "0  POINT (-118.11311 33.97325)  \n",
       "1  POINT (-118.11311 33.97325)  \n",
       "2  POINT (-118.32840 34.02547)  \n",
       "3  POINT (-118.24222 33.92470)  \n",
       "4  POINT (-118.24222 33.92470)  "
      ]
     },
     "execution_count": 30,
     "metadata": {},
     "output_type": "execute_result"
    }
   ],
   "source": [
    "metro_bus_lines.sort_values('STOPNUM').head()"
   ]
  },
  {
   "cell_type": "code",
   "execution_count": 17,
   "metadata": {},
   "outputs": [],
   "source": [
    "metro_rail = clipped_dfs['metro_rail_stations']\n",
    "metrolink = clipped_dfs['metrolink_stations']\n",
    "metro_bus = clipped_dfs['metro_bus_stops']"
   ]
  },
  {
   "cell_type": "code",
   "execution_count": 21,
   "metadata": {},
   "outputs": [
    {
     "data": {
      "text/html": [
       "<div>\n",
       "<style scoped>\n",
       "    .dataframe tbody tr th:only-of-type {\n",
       "        vertical-align: middle;\n",
       "    }\n",
       "\n",
       "    .dataframe tbody tr th {\n",
       "        vertical-align: top;\n",
       "    }\n",
       "\n",
       "    .dataframe thead th {\n",
       "        text-align: right;\n",
       "    }\n",
       "</style>\n",
       "<table border=\"1\" class=\"dataframe\">\n",
       "  <thead>\n",
       "    <tr style=\"text-align: right;\">\n",
       "      <th></th>\n",
       "      <th>STOPNUM</th>\n",
       "      <th>LINE</th>\n",
       "      <th>DIR_A2</th>\n",
       "      <th>STOPNAME</th>\n",
       "      <th>LAT</th>\n",
       "      <th>LONG</th>\n",
       "      <th>geometry</th>\n",
       "    </tr>\n",
       "  </thead>\n",
       "  <tbody>\n",
       "    <tr>\n",
       "      <th>15414</th>\n",
       "      <td>16300</td>\n",
       "      <td>2</td>\n",
       "      <td>W</td>\n",
       "      <td>SUNSET \\ CLARK</td>\n",
       "      <td>34.090771</td>\n",
       "      <td>-118.385368</td>\n",
       "      <td>POINT (-118.38537 34.09077)</td>\n",
       "    </tr>\n",
       "    <tr>\n",
       "      <th>15472</th>\n",
       "      <td>16343</td>\n",
       "      <td>2</td>\n",
       "      <td>W</td>\n",
       "      <td>SUNSET / SWEETZER</td>\n",
       "      <td>34.096477</td>\n",
       "      <td>-118.370828</td>\n",
       "      <td>POINT (-118.37083 34.09648)</td>\n",
       "    </tr>\n",
       "    <tr>\n",
       "      <th>15473</th>\n",
       "      <td>16345</td>\n",
       "      <td>2</td>\n",
       "      <td>W</td>\n",
       "      <td>SUNSET / VIRGIL</td>\n",
       "      <td>34.098294</td>\n",
       "      <td>-118.287736</td>\n",
       "      <td>POINT (-118.28774 34.09829)</td>\n",
       "    </tr>\n",
       "    <tr>\n",
       "      <th>15475</th>\n",
       "      <td>16346</td>\n",
       "      <td>2</td>\n",
       "      <td>W</td>\n",
       "      <td>SUNSET / WESTERN</td>\n",
       "      <td>34.098235</td>\n",
       "      <td>-118.309566</td>\n",
       "      <td>POINT (-118.30957 34.09824)</td>\n",
       "    </tr>\n",
       "    <tr>\n",
       "      <th>15477</th>\n",
       "      <td>16348</td>\n",
       "      <td>2</td>\n",
       "      <td>W</td>\n",
       "      <td>SUNSET / WILTON</td>\n",
       "      <td>34.098222</td>\n",
       "      <td>-118.313431</td>\n",
       "      <td>POINT (-118.31343 34.09822)</td>\n",
       "    </tr>\n",
       "  </tbody>\n",
       "</table>\n",
       "</div>"
      ],
      "text/plain": [
       "       STOPNUM  LINE DIR_A2           STOPNAME        LAT        LONG  \\\n",
       "15414    16300     2      W     SUNSET \\ CLARK  34.090771 -118.385368   \n",
       "15472    16343     2      W  SUNSET / SWEETZER  34.096477 -118.370828   \n",
       "15473    16345     2      W    SUNSET / VIRGIL  34.098294 -118.287736   \n",
       "15475    16346     2      W   SUNSET / WESTERN  34.098235 -118.309566   \n",
       "15477    16348     2      W    SUNSET / WILTON  34.098222 -118.313431   \n",
       "\n",
       "                          geometry  \n",
       "15414  POINT (-118.38537 34.09077)  \n",
       "15472  POINT (-118.37083 34.09648)  \n",
       "15473  POINT (-118.28774 34.09829)  \n",
       "15475  POINT (-118.30957 34.09824)  \n",
       "15477  POINT (-118.31343 34.09822)  "
      ]
     },
     "execution_count": 21,
     "metadata": {},
     "output_type": "execute_result"
    }
   ],
   "source": [
    "metro_bus_lines.sort_values('LINE').head()"
   ]
  },
  {
   "cell_type": "code",
   "execution_count": 24,
   "metadata": {},
   "outputs": [],
   "source": [
    "high_frequency_lines = metro_bus_lines[metro_bus_lines.LINE >= 700]"
   ]
  },
  {
   "cell_type": "code",
   "execution_count": 26,
   "metadata": {},
   "outputs": [
    {
     "data": {
      "text/plain": [
       "<matplotlib.axes._subplots.AxesSubplot at 0x7fa2226c5b00>"
      ]
     },
     "execution_count": 26,
     "metadata": {},
     "output_type": "execute_result"
    },
    {
     "data": {
      "image/png": "[encoded data removed]",
      "text/plain": [
       "<Figure size 432x288 with 1 Axes>"
      ]
     },
     "metadata": {
      "needs_background": "light"
     },
     "output_type": "display_data"
    }
   ],
   "source": [
    "high_frequency_lines.plot()"
   ]
  },
  {
   "cell_type": "code",
   "execution_count": null,
   "metadata": {},
   "outputs": [],
   "source": []
  },
  {
   "cell_type": "code",
   "execution_count": null,
   "metadata": {},
   "outputs": [],
   "source": []
  },
  {
   "cell_type": "code",
   "execution_count": null,
   "metadata": {},
   "outputs": [],
   "source": []
  },
  {
   "cell_type": "code",
   "execution_count": 4,
   "metadata": {},
   "outputs": [],
   "source": [
    "keep = ['ASSETID', 'CL_NODE_ID', 'FROM_ST', 'TO_ST', 'TRANSIT', 'TRANSITSTOP', 'geometry']\n",
    "intersections = intersections[keep]"
   ]
  },
  {
   "cell_type": "code",
   "execution_count": 5,
   "metadata": {},
   "outputs": [
    {
     "data": {
      "text/plain": [
       "0.0    9044\n",
       "1.0       4\n",
       "Name: TRANSITSTOP, dtype: int64"
      ]
     },
     "execution_count": 5,
     "metadata": {},
     "output_type": "execute_result"
    }
   ],
   "source": [
    "# This seems ok, it's possible that the intersection isn't a transit stop, but there's a stop 100ft away?\n",
    "intersections[intersections.TRANSIT==0].TRANSITSTOP.value_counts()"
   ]
  },
  {
   "cell_type": "code",
   "execution_count": 6,
   "metadata": {},
   "outputs": [
    {
     "data": {
      "text/plain": [
       "0.0    28110\n",
       "1.0     1846\n",
       "2.0     1609\n",
       "3.0      280\n",
       "4.0      209\n",
       "5.0       47\n",
       "6.0       26\n",
       "7.0        7\n",
       "8.0        1\n",
       "Name: TRANSITSTOP, dtype: int64"
      ]
     },
     "execution_count": 6,
     "metadata": {},
     "output_type": "execute_result"
    }
   ],
   "source": [
    "# Shouldn't all these be TRANSITSTOP >= 1? Why are there zeroes?\n",
    "intersections[intersections.TRANSIT==1].TRANSITSTOP.value_counts()"
   ]
  },
  {
   "cell_type": "markdown",
   "metadata": {},
   "source": [
    "## Find ways to pare down intersections\n",
    "* spatial join to TOC Tiers\n",
    "* run the high frequency bus lines through them (with buffers around intersections)"
   ]
  },
  {
   "cell_type": "code",
   "execution_count": 7,
   "metadata": {},
   "outputs": [
    {
     "data": {
      "text/plain": [
       "<matplotlib.axes._subplots.AxesSubplot at 0x7f78867459e8>"
      ]
     },
     "execution_count": 7,
     "metadata": {},
     "output_type": "execute_result"
    },
    {
     "data": {
      "image/png": "[encoded data removed]",
      "text/plain": [
       "<Figure size 432x288 with 1 Axes>"
      ]
     },
     "metadata": {
      "needs_background": "light"
     },
     "output_type": "display_data"
    }
   ],
   "source": [
    "test = gpd.sjoin(intersections, toc_tiers, how = 'inner', op = 'intersects')\n",
    "test.plot()"
   ]
  },
  {
   "cell_type": "code",
   "execution_count": 8,
   "metadata": {},
   "outputs": [
    {
     "name": "stdout",
     "output_type": "stream",
     "text": [
      "# obs in intersections: 41183\n",
      "# obs in clipped intersections: 16487\n"
     ]
    }
   ],
   "source": [
    "print(f'# obs in intersections: {len(intersections)}')\n",
    "print(f'# obs in clipped intersections: {len(test)}')"
   ]
  },
  {
   "cell_type": "code",
   "execution_count": null,
   "metadata": {},
   "outputs": [],
   "source": []
  }
 ],
 "metadata": {
  "kernelspec": {
   "display_name": "Python 3",
   "language": "python",
   "name": "python3"
  },
  "language_info": {
   "codemirror_mode": {
    "name": "ipython",
    "version": 3
   },
   "file_extension": ".py",
   "mimetype": "text/x-python",
   "name": "python",
   "nbconvert_exporter": "python",
   "pygments_lexer": "ipython3",
   "version": "3.7.3"
  }
 },
 "nbformat": 4,
 "nbformat_minor": 4
}
