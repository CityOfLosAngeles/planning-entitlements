{
 "cells": [
  {
   "cell_type": "markdown",
   "metadata": {},
   "source": [
    "## Link census tracts to toc tiers\n",
    "* Find what proportion belongs within a particular tier"
   ]
  },
  {
   "cell_type": "code",
   "execution_count": 1,
   "metadata": {},
   "outputs": [],
   "source": [
    "import intake\n",
    "import numpy as np\n",
    "import pandas as pd\n",
    "import geopandas as gpd\n",
    "import utils"
   ]
  },
  {
   "cell_type": "code",
   "execution_count": 2,
   "metadata": {},
   "outputs": [],
   "source": [
    "catalog = intake.open_catalog(\"../catalogs/*.yml\")\n",
    "\n",
    "bucket_name = 'city-planning-entitlements'"
   ]
  },
  {
   "cell_type": "code",
   "execution_count": 10,
   "metadata": {},
   "outputs": [],
   "source": [
    "tracts = catalog.census_tracts.read().to_crs({'init':'epsg:2229'})\n",
    "\n",
    "tracts = (\n",
    "    tracts[['GEOID10', 'geometry']]\n",
    "    .rename(columns = {'GEOID10': 'GEOID'})\n",
    "    .assign(tract_sqft = tracts.geometry.area)\n",
    ")\n",
    "\n",
    "\n",
    "parcels = gpd.read_file(\n",
    "    f\"s3://{bucket_name}/gis/intermediate/toc_eligible_parcels_with_entitlements.geojson\"\n",
    ").to_crs({'init':'epsg:2229'})\n",
    "\n",
    "parcels['max_tier'] = parcels.groupby('AIN')['TOC_Tier'].transform('max')\n",
    "parcels = parcels[parcels.TOC_Tier == parcels.max_tier]\n",
    "parcels = parcels.drop(columns = 'max_tier')\n",
    "\n",
    "crosswalk_parcels_tracts = pd.read_parquet(f's3://{bucket_name}/data/crosswalk_parcels_tracts.parquet')\n",
    "\n",
    "crosswalk_tracts_tiers = pd.read_parquet(f's3://{bucket_name}/data/crosswalk_tracts_toc_tiers.parquet')"
   ]
  },
  {
   "cell_type": "code",
   "execution_count": 12,
   "metadata": {},
   "outputs": [],
   "source": [
    "# Join parcels to census tracts\n",
    "m1 = pd.merge(parcels, crosswalk_parcels_tracts, on = 'AIN', how = 'inner')"
   ]
  },
  {
   "cell_type": "code",
   "execution_count": 13,
   "metadata": {},
   "outputs": [],
   "source": [
    "# Join tracts to TOC tiers\n",
    "m2 = pd.merge(tracts, crosswalk_tracts_tiers, on = 'GEOID', how = 'inner')"
   ]
  },
  {
   "cell_type": "code",
   "execution_count": 21,
   "metadata": {},
   "outputs": [
    {
     "data": {
      "text/html": [
       "<div>\n",
       "<style scoped>\n",
       "    .dataframe tbody tr th:only-of-type {\n",
       "        vertical-align: middle;\n",
       "    }\n",
       "\n",
       "    .dataframe tbody tr th {\n",
       "        vertical-align: top;\n",
       "    }\n",
       "\n",
       "    .dataframe thead th {\n",
       "        text-align: right;\n",
       "    }\n",
       "</style>\n",
       "<table border=\"1\" class=\"dataframe\">\n",
       "  <thead>\n",
       "    <tr style=\"text-align: right;\">\n",
       "      <th></th>\n",
       "      <th>GEOID</th>\n",
       "      <th>tiers_id</th>\n",
       "      <th>intersect_tier</th>\n",
       "      <th>intersect_sqft</th>\n",
       "    </tr>\n",
       "  </thead>\n",
       "  <tbody>\n",
       "    <tr>\n",
       "      <th>425</th>\n",
       "      <td>06037207301</td>\n",
       "      <td>8</td>\n",
       "      <td>1</td>\n",
       "      <td>5.206929e-07</td>\n",
       "    </tr>\n",
       "    <tr>\n",
       "      <th>510</th>\n",
       "      <td>06037207301</td>\n",
       "      <td>7</td>\n",
       "      <td>1</td>\n",
       "      <td>5.206929e-07</td>\n",
       "    </tr>\n",
       "    <tr>\n",
       "      <th>871</th>\n",
       "      <td>06037207301</td>\n",
       "      <td>59</td>\n",
       "      <td>1</td>\n",
       "      <td>2.589551e-05</td>\n",
       "    </tr>\n",
       "    <tr>\n",
       "      <th>885</th>\n",
       "      <td>06037207301</td>\n",
       "      <td>58</td>\n",
       "      <td>1</td>\n",
       "      <td>2.589551e-05</td>\n",
       "    </tr>\n",
       "    <tr>\n",
       "      <th>915</th>\n",
       "      <td>06037207301</td>\n",
       "      <td>108</td>\n",
       "      <td>1</td>\n",
       "      <td>4.199262e-05</td>\n",
       "    </tr>\n",
       "    <tr>\n",
       "      <th>...</th>\n",
       "      <td>...</td>\n",
       "      <td>...</td>\n",
       "      <td>...</td>\n",
       "      <td>...</td>\n",
       "    </tr>\n",
       "    <tr>\n",
       "      <th>18760</th>\n",
       "      <td>06037207301</td>\n",
       "      <td>907</td>\n",
       "      <td>4</td>\n",
       "      <td>6.443748e-06</td>\n",
       "    </tr>\n",
       "    <tr>\n",
       "      <th>18764</th>\n",
       "      <td>06037207301</td>\n",
       "      <td>908</td>\n",
       "      <td>4</td>\n",
       "      <td>6.443748e-06</td>\n",
       "    </tr>\n",
       "    <tr>\n",
       "      <th>18768</th>\n",
       "      <td>06037207301</td>\n",
       "      <td>905</td>\n",
       "      <td>4</td>\n",
       "      <td>6.443748e-06</td>\n",
       "    </tr>\n",
       "    <tr>\n",
       "      <th>18772</th>\n",
       "      <td>06037207301</td>\n",
       "      <td>902</td>\n",
       "      <td>4</td>\n",
       "      <td>1.313348e-07</td>\n",
       "    </tr>\n",
       "    <tr>\n",
       "      <th>18775</th>\n",
       "      <td>06037207301</td>\n",
       "      <td>903</td>\n",
       "      <td>4</td>\n",
       "      <td>1.313348e-07</td>\n",
       "    </tr>\n",
       "  </tbody>\n",
       "</table>\n",
       "<p>681 rows × 4 columns</p>\n",
       "</div>"
      ],
      "text/plain": [
       "             GEOID  tiers_id  intersect_tier  intersect_sqft\n",
       "425    06037207301         8               1    5.206929e-07\n",
       "510    06037207301         7               1    5.206929e-07\n",
       "871    06037207301        59               1    2.589551e-05\n",
       "885    06037207301        58               1    2.589551e-05\n",
       "915    06037207301       108               1    4.199262e-05\n",
       "...            ...       ...             ...             ...\n",
       "18760  06037207301       907               4    6.443748e-06\n",
       "18764  06037207301       908               4    6.443748e-06\n",
       "18768  06037207301       905               4    6.443748e-06\n",
       "18772  06037207301       902               4    1.313348e-07\n",
       "18775  06037207301       903               4    1.313348e-07\n",
       "\n",
       "[681 rows x 4 columns]"
      ]
     },
     "execution_count": 21,
     "metadata": {},
     "output_type": "execute_result"
    }
   ],
   "source": [
    "geoid = ['06037207301']\n",
    "crosswalk_tracts_tiers[crosswalk_tracts_tiers.GEOID.isin(geoid)]"
   ]
  },
  {
   "cell_type": "code",
   "execution_count": 24,
   "metadata": {},
   "outputs": [
    {
     "data": {
      "text/html": [
       "<div>\n",
       "<style scoped>\n",
       "    .dataframe tbody tr th:only-of-type {\n",
       "        vertical-align: middle;\n",
       "    }\n",
       "\n",
       "    .dataframe tbody tr th {\n",
       "        vertical-align: top;\n",
       "    }\n",
       "\n",
       "    .dataframe thead th {\n",
       "        text-align: right;\n",
       "    }\n",
       "</style>\n",
       "<table border=\"1\" class=\"dataframe\">\n",
       "  <thead>\n",
       "    <tr style=\"text-align: right;\">\n",
       "      <th></th>\n",
       "      <th>intersect_sqft</th>\n",
       "    </tr>\n",
       "    <tr>\n",
       "      <th>GEOID</th>\n",
       "      <th></th>\n",
       "    </tr>\n",
       "  </thead>\n",
       "  <tbody>\n",
       "    <tr>\n",
       "      <th>06037104310</th>\n",
       "      <td>1.246708e-06</td>\n",
       "    </tr>\n",
       "    <tr>\n",
       "      <th>06037104320</th>\n",
       "      <td>7.691627e-05</td>\n",
       "    </tr>\n",
       "    <tr>\n",
       "      <th>06037104401</th>\n",
       "      <td>3.070147e-05</td>\n",
       "    </tr>\n",
       "    <tr>\n",
       "      <th>06037104404</th>\n",
       "      <td>4.562750e-05</td>\n",
       "    </tr>\n",
       "    <tr>\n",
       "      <th>06037104500</th>\n",
       "      <td>4.654365e-06</td>\n",
       "    </tr>\n",
       "    <tr>\n",
       "      <th>...</th>\n",
       "      <td>...</td>\n",
       "    </tr>\n",
       "    <tr>\n",
       "      <th>06037980009</th>\n",
       "      <td>4.828417e-05</td>\n",
       "    </tr>\n",
       "    <tr>\n",
       "      <th>06037980010</th>\n",
       "      <td>6.327548e-04</td>\n",
       "    </tr>\n",
       "    <tr>\n",
       "      <th>06037980013</th>\n",
       "      <td>1.507591e-07</td>\n",
       "    </tr>\n",
       "    <tr>\n",
       "      <th>06037980024</th>\n",
       "      <td>1.753368e-06</td>\n",
       "    </tr>\n",
       "    <tr>\n",
       "      <th>06037980028</th>\n",
       "      <td>3.249363e-03</td>\n",
       "    </tr>\n",
       "  </tbody>\n",
       "</table>\n",
       "<p>793 rows × 1 columns</p>\n",
       "</div>"
      ],
      "text/plain": [
       "             intersect_sqft\n",
       "GEOID                      \n",
       "06037104310    1.246708e-06\n",
       "06037104320    7.691627e-05\n",
       "06037104401    3.070147e-05\n",
       "06037104404    4.562750e-05\n",
       "06037104500    4.654365e-06\n",
       "...                     ...\n",
       "06037980009    4.828417e-05\n",
       "06037980010    6.327548e-04\n",
       "06037980013    1.507591e-07\n",
       "06037980024    1.753368e-06\n",
       "06037980028    3.249363e-03\n",
       "\n",
       "[793 rows x 1 columns]"
      ]
     },
     "execution_count": 24,
     "metadata": {},
     "output_type": "execute_result"
    }
   ],
   "source": [
    "crosswalk_tracts_tiers.groupby('GEOID').agg({'intersect_sqft':'sum'})"
   ]
  },
  {
   "cell_type": "code",
   "execution_count": 15,
   "metadata": {},
   "outputs": [],
   "source": [
    "# Find what proportion of tract sqmi intersects with TOC tier\n",
    "m2 = (m2\n",
    "      .assign(pct_area = m2.intersect_sqft / m2.tract_sqft)\n",
    "      .drop(columns = ['tract_sqft', 'intersect_sqft'])\n",
    ")"
   ]
  },
  {
   "cell_type": "code",
   "execution_count": 18,
   "metadata": {},
   "outputs": [
    {
     "data": {
      "text/plain": [
       "count    1.895900e+04\n",
       "mean     3.481762e-12\n",
       "std      3.088087e-12\n",
       "min      6.195921e-19\n",
       "25%      7.857526e-13\n",
       "50%      2.413908e-12\n",
       "75%      6.081397e-12\n",
       "max      9.091981e-12\n",
       "Name: pct_area, dtype: float64"
      ]
     },
     "execution_count": 18,
     "metadata": {},
     "output_type": "execute_result"
    }
   ],
   "source": [
    "m2.pct_area.describe()"
   ]
  },
  {
   "cell_type": "code",
   "execution_count": null,
   "metadata": {},
   "outputs": [],
   "source": []
  }
 ],
 "metadata": {
  "kernelspec": {
   "display_name": "Python 3",
   "language": "python",
   "name": "python3"
  },
  "language_info": {
   "codemirror_mode": {
    "name": "ipython",
    "version": 3
   },
   "file_extension": ".py",
   "mimetype": "text/x-python",
   "name": "python",
   "nbconvert_exporter": "python",
   "pygments_lexer": "ipython3",
   "version": "3.7.3"
  }
 },
 "nbformat": 4,
 "nbformat_minor": 4
}
