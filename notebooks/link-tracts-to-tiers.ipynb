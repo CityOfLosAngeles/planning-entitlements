{
 "cells": [
  {
   "cell_type": "markdown",
   "metadata": {},
   "source": [
    "## Link census tracts to toc tiers\n",
    "* Find what proportion belongs within a particular tier"
   ]
  },
  {
   "cell_type": "code",
   "execution_count": 42,
   "metadata": {},
   "outputs": [],
   "source": [
    "import intake\n",
    "import numpy as np\n",
    "import pandas as pd\n",
    "import geopandas as gpd\n",
    "import utils"
   ]
  },
  {
   "cell_type": "code",
   "execution_count": 43,
   "metadata": {},
   "outputs": [],
   "source": [
    "catalog = intake.open_catalog(\"../catalogs/*.yml\")\n",
    "\n",
    "bucket_name = 'city-planning-entitlements'"
   ]
  },
  {
   "cell_type": "markdown",
   "metadata": {},
   "source": [
    "## Find out how many parcels are within each tract, and its relative proportion of the tract\n",
    "* Check: sum of parcel area within tract should be <= 100%\n",
    "* If parcel file includes roads, then those areas would be excluded from the tract"
   ]
  },
  {
   "cell_type": "code",
   "execution_count": null,
   "metadata": {},
   "outputs": [],
   "source": [
    "la_parcels = gpd.read_file(f'zip+s3://{bucket_name}/gis/raw/la_parcels.zip').to_crs({'init':'epsg:2229'})\n",
    "\n",
    "la_parcels = (\n",
    "    la_parcels.assign(parcel_sqft = la_parcels.geometry.area)\n",
    "                .rename(columns = {'geometry':'parcel_geom'})\n",
    ")\n",
    "\n",
    "tracts = catalog.census_tracts.read().to_crs({'init':'epsg:2229'})\n",
    "\n",
    "tracts = (\n",
    "    tracts[['GEOID10', 'geometry']]\n",
    "    .rename(columns = {'GEOID10': 'GEOID', 'geometry':'tract_geom'})\n",
    "    .assign(tract_sqft = tracts.geometry.area)\n",
    ")\n",
    "\n",
    "crosswalk_parcels_tracts = pd.read_parquet(f's3://{bucket_name}/data/crosswalk_parcels_tracts.parquet')"
   ]
  },
  {
   "cell_type": "code",
   "execution_count": 8,
   "metadata": {},
   "outputs": [],
   "source": [
    "parcel_geom = pd.merge(la_parcels, crosswalk_parcels_tracts, on = 'AIN', validate = '1:1')"
   ]
  },
  {
   "cell_type": "code",
   "execution_count": 9,
   "metadata": {},
   "outputs": [],
   "source": [
    "tract_geom = pd.merge(parcel_geom, tracts, on = 'GEOID', validate = 'm:1')"
   ]
  },
  {
   "cell_type": "code",
   "execution_count": null,
   "metadata": {},
   "outputs": [],
   "source": [
    "fraction = tract_geom.groupby(['GEOID', 'tract_sqft']).agg({'parcel_sqft':'sum'}).reset_index()\n",
    "fraction['total_pct'] = fraction.parcel_sqft / fraction.tract_sqft"
   ]
  },
  {
   "cell_type": "code",
   "execution_count": null,
   "metadata": {},
   "outputs": [],
   "source": [
    "len(fraction)"
   ]
  },
  {
   "cell_type": "code",
   "execution_count": null,
   "metadata": {},
   "outputs": [],
   "source": [
    "len(fraction[fraction.total_pct <= 1])"
   ]
  },
  {
   "cell_type": "code",
   "execution_count": null,
   "metadata": {},
   "outputs": [],
   "source": [
    "plot_wrong = pd.merge(wrong, tracts, on = ['GEOID', 'tract_sqft'], how = 'inner')\n",
    "plot_wrong = gpd.GeoDataFrame(plot_wrong)\n",
    "plot_wrong = plot_wrong.set_geometry('tract_geom')\n",
    "plot_wrong.crs = {'init':'epsg:2229'}"
   ]
  },
  {
   "cell_type": "markdown",
   "metadata": {},
   "source": [
    "## Join parcels to tracts"
   ]
  },
  {
   "cell_type": "code",
   "execution_count": 39,
   "metadata": {},
   "outputs": [],
   "source": [
    "parcels = gpd.read_file(\n",
    "    f\"s3://{bucket_name}/gis/intermediate/toc_eligible_parcels_with_entitlements.geojson\"\n",
    ").to_crs({'init':'epsg:2229'})\n",
    "\n",
    "#toc_tiers = utils.reconstruct_toc_tiers_file().to_crs({'init':'epsg:2229'})\n",
    "\n",
    "#df = utils.parcels_join_toc_tiers(parcels, toc_tiers)"
   ]
  },
  {
   "cell_type": "code",
   "execution_count": 40,
   "metadata": {},
   "outputs": [
    {
     "data": {
      "text/plain": [
       "AIN             object\n",
       "TOC_Tier         int64\n",
       "zone_class      object\n",
       "num_TOC          int64\n",
       "num_nonTOC       int64\n",
       "geometry      geometry\n",
       "dtype: object"
      ]
     },
     "execution_count": 40,
     "metadata": {},
     "output_type": "execute_result"
    }
   ],
   "source": [
    "parcels.dtypes"
   ]
  },
  {
   "cell_type": "code",
   "execution_count": 11,
   "metadata": {},
   "outputs": [],
   "source": [
    "m1 = pd.merge(df, crosswalk_parcels_tracts, on = 'AIN', how = 'left', validate = '1:1')"
   ]
  },
  {
   "cell_type": "markdown",
   "metadata": {},
   "source": [
    "## Scratch work"
   ]
  },
  {
   "cell_type": "code",
   "execution_count": null,
   "metadata": {},
   "outputs": [],
   "source": [
    "# Join parcels to census tracts\n",
    "m1 = pd.merge(parcels, crosswalk_parcels_tracts, on = 'AIN', how = 'inner')"
   ]
  },
  {
   "cell_type": "code",
   "execution_count": null,
   "metadata": {},
   "outputs": [],
   "source": [
    "# Join tracts to TOC tiers\n",
    "m2 = pd.merge(tracts, crosswalk_tracts_tiers, on = 'GEOID', how = 'inner')"
   ]
  },
  {
   "cell_type": "code",
   "execution_count": null,
   "metadata": {},
   "outputs": [],
   "source": [
    "geoid = ['06037207301']\n",
    "crosswalk_tracts_tiers[crosswalk_tracts_tiers.GEOID.isin(geoid)]"
   ]
  },
  {
   "cell_type": "code",
   "execution_count": null,
   "metadata": {},
   "outputs": [],
   "source": [
    "crosswalk_tracts_tiers.groupby(['GEOID', 'intersect_tier']).agg({'intersect_sqft':'sum'}).reset_index()"
   ]
  },
  {
   "cell_type": "code",
   "execution_count": null,
   "metadata": {},
   "outputs": [],
   "source": [
    "# Find what proportion of tract sqmi intersects with TOC tier\n",
    "m2 = (m2\n",
    "      .assign(pct_area = m2.intersect_sqft / m2.tract_sqft)\n",
    "      .drop(columns = ['tract_sqft', 'intersect_sqft'])\n",
    ")"
   ]
  },
  {
   "cell_type": "code",
   "execution_count": null,
   "metadata": {},
   "outputs": [],
   "source": [
    "m2.pct_area.describe()"
   ]
  },
  {
   "cell_type": "code",
   "execution_count": null,
   "metadata": {},
   "outputs": [],
   "source": []
  }
 ],
 "metadata": {
  "kernelspec": {
   "display_name": "Python 3",
   "language": "python",
   "name": "python3"
  },
  "language_info": {
   "codemirror_mode": {
    "name": "ipython",
    "version": 3
   },
   "file_extension": ".py",
   "mimetype": "text/x-python",
   "name": "python",
   "nbconvert_exporter": "python",
   "pygments_lexer": "ipython3",
   "version": "3.7.3"
  }
 },
 "nbformat": 4,
 "nbformat_minor": 4
}
