{
 "cells": [
  {
   "cell_type": "markdown",
   "metadata": {},
   "source": [
    "## Socioeconomic data and TOC entitlements\n",
    "* Entitlements assigned to census tracts\n",
    "* Which census tracts (what income levels or median household income) have seen TOC entitlements?"
   ]
  },
  {
   "cell_type": "code",
   "execution_count": 1,
   "metadata": {},
   "outputs": [],
   "source": [
    "import intake\n",
    "import numpy as np\n",
    "import pandas as pd\n",
    "import geopandas as gpd\n",
    "import utils"
   ]
  },
  {
   "cell_type": "code",
   "execution_count": 2,
   "metadata": {},
   "outputs": [],
   "source": [
    "catalog = intake.open_catalog(\"../catalogs/*.yml\")\n",
    "\n",
    "bucket_name = 'city-planning-entitlements'"
   ]
  },
  {
   "cell_type": "markdown",
   "metadata": {},
   "source": [
    "## Merge parcels with census tracts crosswalk"
   ]
  },
  {
   "cell_type": "code",
   "execution_count": 19,
   "metadata": {},
   "outputs": [],
   "source": [
    "census = pd.read_parquet(f's3://{bucket_name}/data/final/census_cleaned.parquet')\n",
    "\n",
    "crosswalk_parcels_tracts = pd.read_parquet(f's3://{bucket_name}/data/crosswalk_parcels_tracts.parquet')\n",
    "\n",
    "crosswalk_tracts_tiers = pd.read_parquet(f's3://{bucket_name}/data/crosswalk_tracts_tiers.parquet')\n",
    "\n",
    "parcels = gpd.read_file(\n",
    "    f\"s3://{bucket_name}/gis/intermediate/toc_eligible_parcels_with_entitlements.geojson\"\n",
    ")\n",
    "\n",
    "parcels['max_tier'] = parcels.groupby('AIN')['TOC_Tier'].transform('max')\n",
    "parcels = parcels[parcels.TOC_Tier == parcels.max_tier]\n",
    "parcels = parcels.drop(columns = 'max_tier')"
   ]
  },
  {
   "cell_type": "code",
   "execution_count": 9,
   "metadata": {},
   "outputs": [],
   "source": [
    "# Merge crosswalk with TOC-eligible parcels \n",
    "# left join because we might want socioeconomic characteristics of tracts that are not eligible? \n",
    "# Think about this more\n",
    "m1 = pd.merge(crosswalk_parcels_tracts, parcels,  on = 'AIN', how = 'left', validate = '1:1')"
   ]
  },
  {
   "cell_type": "code",
   "execution_count": 16,
   "metadata": {},
   "outputs": [],
   "source": [
    "# Aggregate to count number of parcels and entitlements\n",
    "m2 = m1.groupby(['GEOID', 'pop', 'TOC_Tier']).agg(\n",
    "        {'AIN':'count', 'num_TOC': 'sum', 'num_nonTOC':'sum'}).reset_index()"
   ]
  },
  {
   "cell_type": "code",
   "execution_count": 31,
   "metadata": {},
   "outputs": [
    {
     "data": {
      "text/html": [
       "<div>\n",
       "<style scoped>\n",
       "    .dataframe tbody tr th:only-of-type {\n",
       "        vertical-align: middle;\n",
       "    }\n",
       "\n",
       "    .dataframe tbody tr th {\n",
       "        vertical-align: top;\n",
       "    }\n",
       "\n",
       "    .dataframe thead th {\n",
       "        text-align: right;\n",
       "    }\n",
       "</style>\n",
       "<table border=\"1\" class=\"dataframe\">\n",
       "  <thead>\n",
       "    <tr style=\"text-align: right;\">\n",
       "      <th></th>\n",
       "      <th>GEOID</th>\n",
       "      <th>TOC_Tier</th>\n",
       "      <th>parcelsqft</th>\n",
       "      <th>pct</th>\n",
       "    </tr>\n",
       "  </thead>\n",
       "  <tbody>\n",
       "    <tr>\n",
       "      <th>742</th>\n",
       "      <td>06037297110</td>\n",
       "      <td>0</td>\n",
       "      <td>310141.351629</td>\n",
       "      <td>0.102856</td>\n",
       "    </tr>\n",
       "    <tr>\n",
       "      <th>743</th>\n",
       "      <td>06037297110</td>\n",
       "      <td>1</td>\n",
       "      <td>6751.078537</td>\n",
       "      <td>0.002239</td>\n",
       "    </tr>\n",
       "  </tbody>\n",
       "</table>\n",
       "</div>"
      ],
      "text/plain": [
       "           GEOID  TOC_Tier     parcelsqft       pct\n",
       "742  06037297110         0  310141.351629  0.102856\n",
       "743  06037297110         1    6751.078537  0.002239"
      ]
     },
     "execution_count": 31,
     "metadata": {},
     "output_type": "execute_result"
    }
   ],
   "source": [
    "geoid = [\"06037297110\"]\n",
    "crosswalk_tracts_tiers[crosswalk_tracts_tiers.GEOID.isin(geoid)]"
   ]
  },
  {
   "cell_type": "code",
   "execution_count": 32,
   "metadata": {},
   "outputs": [
    {
     "data": {
      "text/html": [
       "<div>\n",
       "<style scoped>\n",
       "    .dataframe tbody tr th:only-of-type {\n",
       "        vertical-align: middle;\n",
       "    }\n",
       "\n",
       "    .dataframe tbody tr th {\n",
       "        vertical-align: top;\n",
       "    }\n",
       "\n",
       "    .dataframe thead th {\n",
       "        text-align: right;\n",
       "    }\n",
       "</style>\n",
       "<table border=\"1\" class=\"dataframe\">\n",
       "  <thead>\n",
       "    <tr style=\"text-align: right;\">\n",
       "      <th></th>\n",
       "      <th>GEOID</th>\n",
       "      <th>pop</th>\n",
       "      <th>TOC_Tier</th>\n",
       "      <th>AIN</th>\n",
       "      <th>num_TOC</th>\n",
       "      <th>num_nonTOC</th>\n",
       "    </tr>\n",
       "  </thead>\n",
       "  <tbody>\n",
       "    <tr>\n",
       "      <th>475</th>\n",
       "      <td>06037297110</td>\n",
       "      <td>4946</td>\n",
       "      <td>1.0</td>\n",
       "      <td>3</td>\n",
       "      <td>0.0</td>\n",
       "      <td>9.0</td>\n",
       "    </tr>\n",
       "    <tr>\n",
       "      <th>476</th>\n",
       "      <td>06037297110</td>\n",
       "      <td>4946</td>\n",
       "      <td>2.0</td>\n",
       "      <td>1</td>\n",
       "      <td>0.0</td>\n",
       "      <td>1.0</td>\n",
       "    </tr>\n",
       "    <tr>\n",
       "      <th>477</th>\n",
       "      <td>06037297110</td>\n",
       "      <td>4946</td>\n",
       "      <td>3.0</td>\n",
       "      <td>1</td>\n",
       "      <td>0.0</td>\n",
       "      <td>1.0</td>\n",
       "    </tr>\n",
       "  </tbody>\n",
       "</table>\n",
       "</div>"
      ],
      "text/plain": [
       "           GEOID   pop  TOC_Tier  AIN  num_TOC  num_nonTOC\n",
       "475  06037297110  4946       1.0    3      0.0         9.0\n",
       "476  06037297110  4946       2.0    1      0.0         1.0\n",
       "477  06037297110  4946       3.0    1      0.0         1.0"
      ]
     },
     "execution_count": 32,
     "metadata": {},
     "output_type": "execute_result"
    }
   ],
   "source": [
    "m2[m2.GEOID.isin(geoid)]"
   ]
  },
  {
   "cell_type": "code",
   "execution_count": 22,
   "metadata": {},
   "outputs": [],
   "source": [
    "# Merge in crosswalk to allocate tract to TOC Tiers\n",
    "m3 = pd.merge(m2, crosswalk_tracts_tiers, on = ['GEOID', 'TOC_Tier'], how = 'left', validate = '1:1')"
   ]
  },
  {
   "cell_type": "code",
   "execution_count": 29,
   "metadata": {},
   "outputs": [
    {
     "data": {
      "text/html": [
       "<div>\n",
       "<style scoped>\n",
       "    .dataframe tbody tr th:only-of-type {\n",
       "        vertical-align: middle;\n",
       "    }\n",
       "\n",
       "    .dataframe tbody tr th {\n",
       "        vertical-align: top;\n",
       "    }\n",
       "\n",
       "    .dataframe thead th {\n",
       "        text-align: right;\n",
       "    }\n",
       "</style>\n",
       "<table border=\"1\" class=\"dataframe\">\n",
       "  <thead>\n",
       "    <tr style=\"text-align: right;\">\n",
       "      <th></th>\n",
       "      <th>GEOID</th>\n",
       "      <th>pop</th>\n",
       "      <th>TOC_Tier</th>\n",
       "      <th>AIN</th>\n",
       "      <th>num_TOC</th>\n",
       "      <th>num_nonTOC</th>\n",
       "      <th>parcelsqft</th>\n",
       "      <th>pct</th>\n",
       "    </tr>\n",
       "  </thead>\n",
       "  <tbody>\n",
       "    <tr>\n",
       "      <th>0</th>\n",
       "      <td>06037104404</td>\n",
       "      <td>3046</td>\n",
       "      <td>1.0</td>\n",
       "      <td>1</td>\n",
       "      <td>0.0</td>\n",
       "      <td>1.0</td>\n",
       "      <td>NaN</td>\n",
       "      <td>NaN</td>\n",
       "    </tr>\n",
       "    <tr>\n",
       "      <th>1</th>\n",
       "      <td>06037113212</td>\n",
       "      <td>3373</td>\n",
       "      <td>1.0</td>\n",
       "      <td>1</td>\n",
       "      <td>0.0</td>\n",
       "      <td>1.0</td>\n",
       "      <td>NaN</td>\n",
       "      <td>NaN</td>\n",
       "    </tr>\n",
       "    <tr>\n",
       "      <th>2</th>\n",
       "      <td>06037113237</td>\n",
       "      <td>4163</td>\n",
       "      <td>1.0</td>\n",
       "      <td>2</td>\n",
       "      <td>0.0</td>\n",
       "      <td>2.0</td>\n",
       "      <td>32232.356027</td>\n",
       "      <td>0.0011</td>\n",
       "    </tr>\n",
       "    <tr>\n",
       "      <th>3</th>\n",
       "      <td>06037115201</td>\n",
       "      <td>7039</td>\n",
       "      <td>1.0</td>\n",
       "      <td>1</td>\n",
       "      <td>0.0</td>\n",
       "      <td>1.0</td>\n",
       "      <td>NaN</td>\n",
       "      <td>NaN</td>\n",
       "    </tr>\n",
       "    <tr>\n",
       "      <th>4</th>\n",
       "      <td>06037115202</td>\n",
       "      <td>5088</td>\n",
       "      <td>1.0</td>\n",
       "      <td>1</td>\n",
       "      <td>0.0</td>\n",
       "      <td>1.0</td>\n",
       "      <td>NaN</td>\n",
       "      <td>NaN</td>\n",
       "    </tr>\n",
       "    <tr>\n",
       "      <th>...</th>\n",
       "      <td>...</td>\n",
       "      <td>...</td>\n",
       "      <td>...</td>\n",
       "      <td>...</td>\n",
       "      <td>...</td>\n",
       "      <td>...</td>\n",
       "      <td>...</td>\n",
       "      <td>...</td>\n",
       "    </tr>\n",
       "    <tr>\n",
       "      <th>476</th>\n",
       "      <td>06037297110</td>\n",
       "      <td>4946</td>\n",
       "      <td>2.0</td>\n",
       "      <td>1</td>\n",
       "      <td>0.0</td>\n",
       "      <td>1.0</td>\n",
       "      <td>NaN</td>\n",
       "      <td>NaN</td>\n",
       "    </tr>\n",
       "    <tr>\n",
       "      <th>477</th>\n",
       "      <td>06037297110</td>\n",
       "      <td>4946</td>\n",
       "      <td>3.0</td>\n",
       "      <td>1</td>\n",
       "      <td>0.0</td>\n",
       "      <td>1.0</td>\n",
       "      <td>NaN</td>\n",
       "      <td>NaN</td>\n",
       "    </tr>\n",
       "    <tr>\n",
       "      <th>479</th>\n",
       "      <td>06037297120</td>\n",
       "      <td>3262</td>\n",
       "      <td>2.0</td>\n",
       "      <td>1</td>\n",
       "      <td>0.0</td>\n",
       "      <td>1.0</td>\n",
       "      <td>NaN</td>\n",
       "      <td>NaN</td>\n",
       "    </tr>\n",
       "    <tr>\n",
       "      <th>478</th>\n",
       "      <td>06037297120</td>\n",
       "      <td>3262</td>\n",
       "      <td>1.0</td>\n",
       "      <td>2</td>\n",
       "      <td>0.0</td>\n",
       "      <td>2.0</td>\n",
       "      <td>NaN</td>\n",
       "      <td>NaN</td>\n",
       "    </tr>\n",
       "    <tr>\n",
       "      <th>480</th>\n",
       "      <td>06037980028</td>\n",
       "      <td>0</td>\n",
       "      <td>3.0</td>\n",
       "      <td>2</td>\n",
       "      <td>0.0</td>\n",
       "      <td>2.0</td>\n",
       "      <td>NaN</td>\n",
       "      <td>NaN</td>\n",
       "    </tr>\n",
       "  </tbody>\n",
       "</table>\n",
       "<p>481 rows × 8 columns</p>\n",
       "</div>"
      ],
      "text/plain": [
       "           GEOID   pop  TOC_Tier  AIN  num_TOC  num_nonTOC    parcelsqft  \\\n",
       "0    06037104404  3046       1.0    1      0.0         1.0           NaN   \n",
       "1    06037113212  3373       1.0    1      0.0         1.0           NaN   \n",
       "2    06037113237  4163       1.0    2      0.0         2.0  32232.356027   \n",
       "3    06037115201  7039       1.0    1      0.0         1.0           NaN   \n",
       "4    06037115202  5088       1.0    1      0.0         1.0           NaN   \n",
       "..           ...   ...       ...  ...      ...         ...           ...   \n",
       "476  06037297110  4946       2.0    1      0.0         1.0           NaN   \n",
       "477  06037297110  4946       3.0    1      0.0         1.0           NaN   \n",
       "479  06037297120  3262       2.0    1      0.0         1.0           NaN   \n",
       "478  06037297120  3262       1.0    2      0.0         2.0           NaN   \n",
       "480  06037980028     0       3.0    2      0.0         2.0           NaN   \n",
       "\n",
       "        pct  \n",
       "0       NaN  \n",
       "1       NaN  \n",
       "2    0.0011  \n",
       "3       NaN  \n",
       "4       NaN  \n",
       "..      ...  \n",
       "476     NaN  \n",
       "477     NaN  \n",
       "479     NaN  \n",
       "478     NaN  \n",
       "480     NaN  \n",
       "\n",
       "[481 rows x 8 columns]"
      ]
     },
     "execution_count": 29,
     "metadata": {},
     "output_type": "execute_result"
    }
   ],
   "source": [
    "m3.sort_values('GEOID')"
   ]
  },
  {
   "cell_type": "code",
   "execution_count": 30,
   "metadata": {},
   "outputs": [
    {
     "data": {
      "text/html": [
       "<div>\n",
       "<style scoped>\n",
       "    .dataframe tbody tr th:only-of-type {\n",
       "        vertical-align: middle;\n",
       "    }\n",
       "\n",
       "    .dataframe tbody tr th {\n",
       "        vertical-align: top;\n",
       "    }\n",
       "\n",
       "    .dataframe thead th {\n",
       "        text-align: right;\n",
       "    }\n",
       "</style>\n",
       "<table border=\"1\" class=\"dataframe\">\n",
       "  <thead>\n",
       "    <tr style=\"text-align: right;\">\n",
       "      <th></th>\n",
       "      <th>GEOID</th>\n",
       "      <th>pop</th>\n",
       "      <th>TOC_Tier</th>\n",
       "      <th>AIN</th>\n",
       "      <th>num_TOC</th>\n",
       "      <th>num_nonTOC</th>\n",
       "      <th>parcelsqft</th>\n",
       "      <th>pct</th>\n",
       "    </tr>\n",
       "  </thead>\n",
       "  <tbody>\n",
       "    <tr>\n",
       "      <th>475</th>\n",
       "      <td>06037297110</td>\n",
       "      <td>4946</td>\n",
       "      <td>1.0</td>\n",
       "      <td>3</td>\n",
       "      <td>0.0</td>\n",
       "      <td>9.0</td>\n",
       "      <td>6751.078537</td>\n",
       "      <td>0.002239</td>\n",
       "    </tr>\n",
       "    <tr>\n",
       "      <th>476</th>\n",
       "      <td>06037297110</td>\n",
       "      <td>4946</td>\n",
       "      <td>2.0</td>\n",
       "      <td>1</td>\n",
       "      <td>0.0</td>\n",
       "      <td>1.0</td>\n",
       "      <td>NaN</td>\n",
       "      <td>NaN</td>\n",
       "    </tr>\n",
       "    <tr>\n",
       "      <th>477</th>\n",
       "      <td>06037297110</td>\n",
       "      <td>4946</td>\n",
       "      <td>3.0</td>\n",
       "      <td>1</td>\n",
       "      <td>0.0</td>\n",
       "      <td>1.0</td>\n",
       "      <td>NaN</td>\n",
       "      <td>NaN</td>\n",
       "    </tr>\n",
       "  </tbody>\n",
       "</table>\n",
       "</div>"
      ],
      "text/plain": [
       "           GEOID   pop  TOC_Tier  AIN  num_TOC  num_nonTOC   parcelsqft  \\\n",
       "475  06037297110  4946       1.0    3      0.0         9.0  6751.078537   \n",
       "476  06037297110  4946       2.0    1      0.0         1.0          NaN   \n",
       "477  06037297110  4946       3.0    1      0.0         1.0          NaN   \n",
       "\n",
       "          pct  \n",
       "475  0.002239  \n",
       "476       NaN  \n",
       "477       NaN  "
      ]
     },
     "execution_count": 30,
     "metadata": {},
     "output_type": "execute_result"
    }
   ],
   "source": [
    "# Hmm...should we do a 1:1 merge on GEOID and TOC_Tier?\n",
    "geoid = [\"06037297110\"]\n",
    "m3[m3.GEOID.isin(geoid)]"
   ]
  },
  {
   "cell_type": "markdown",
   "metadata": {},
   "source": [
    "## Merge in commute info"
   ]
  },
  {
   "cell_type": "code",
   "execution_count": 25,
   "metadata": {},
   "outputs": [
    {
     "data": {
      "text/plain": [
       "incomerange    3589380\n",
       "commute         316710\n",
       "race            168912\n",
       "vehicles         42228\n",
       "tenure           42228\n",
       "Name: table, dtype: int64"
      ]
     },
     "execution_count": 25,
     "metadata": {},
     "output_type": "execute_result"
    }
   ],
   "source": [
    "census.table.value_counts()"
   ]
  },
  {
   "cell_type": "code",
   "execution_count": 27,
   "metadata": {},
   "outputs": [],
   "source": [
    "commute = census[census.table==\"commute\"]"
   ]
  },
  {
   "cell_type": "code",
   "execution_count": null,
   "metadata": {},
   "outputs": [],
   "source": []
  }
 ],
 "metadata": {
  "kernelspec": {
   "display_name": "Python 3",
   "language": "python",
   "name": "python3"
  },
  "language_info": {
   "codemirror_mode": {
    "name": "ipython",
    "version": 3
   },
   "file_extension": ".py",
   "mimetype": "text/x-python",
   "name": "python",
   "nbconvert_exporter": "python",
   "pygments_lexer": "ipython3",
   "version": "3.7.3"
  }
 },
 "nbformat": 4,
 "nbformat_minor": 4
}
