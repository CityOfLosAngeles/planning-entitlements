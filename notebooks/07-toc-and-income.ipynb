{
 "cells": [
  {
   "cell_type": "markdown",
   "metadata": {},
   "source": [
    "## Socioeconomic data and TOC entitlements\n",
    "* Entitlements assigned to census tracts\n",
    "* Which census tracts (what income levels or median household income) have seen TOC entitlements?\n",
    "* See if tract is composed of mostly TOC-eligible parcels\n",
    "* Then look at Census characteristics of mostly TOC-eligible tracts vs not"
   ]
  },
  {
   "cell_type": "code",
   "execution_count": 1,
   "metadata": {},
   "outputs": [],
   "source": [
    "import boto3\n",
    "import geopandas as gpd\n",
    "import intake\n",
    "import numpy as np\n",
    "import os\n",
    "import pandas as pd\n",
    "import pcts_census_utils\n",
    "import utils"
   ]
  },
  {
   "cell_type": "code",
   "execution_count": 2,
   "metadata": {},
   "outputs": [],
   "source": [
    "catalog = intake.open_catalog(\"../catalogs/*.yml\")\n",
    "\n",
    "s3 = boto3.client('s3')\n",
    "bucket_name = 'city-planning-entitlements'"
   ]
  },
  {
   "cell_type": "markdown",
   "metadata": {},
   "source": [
    "## Identify this dichotomy of tracts that are mostly TOC-eligible vs not"
   ]
  },
  {
   "cell_type": "code",
   "execution_count": 3,
   "metadata": {},
   "outputs": [],
   "source": [
    "def toc_tracts_clean_and_aggregate():\n",
    "    # Import data\n",
    "    crosswalk_parcels_tracts = pd.read_parquet(f's3://{bucket_name}/data/crosswalk_parcels_tracts.parquet')\n",
    "\n",
    "    s3.download_file(bucket_name, f'gis/intermediate/TOC_Parcels.parquet', '../gis/TOC_Parcels.parquet')\n",
    "    toc_parcels = gpd.read_parquet('../gis/TOC_Parcels.parquet')\n",
    "    os.remove('../gis/TOC_Parcels.parquet')\n",
    "\n",
    "    df = pd.merge(crosswalk_parcels_tracts, \n",
    "         toc_parcels[toc_parcels.TOC_Tier > 0].drop(columns = 'TOC_Tier'), \n",
    "         on = 'AIN', how = 'left', validate = '1:1')\n",
    "    \n",
    "    # Get rid of duplicate AIN's\n",
    "    df = df[df.num_AIN == 1]\n",
    "    \n",
    "    # Tag if the parcel counts as in TOC tier or not\n",
    "    def in_tier(row):\n",
    "        if row.TOC_Tier != 0:\n",
    "            return 1\n",
    "        elif row.TOC_Tier == 0:\n",
    "            return 0\n",
    "\n",
    "    df = df.assign(\n",
    "        in_tier = df.apply(in_tier, axis=1)\n",
    "    )\n",
    "\n",
    "    # Aggregate by in_tier \n",
    "    df = (df[df.in_tier==1]\n",
    "          .groupby([\"GEOID\", \"pop\", \"parcel_tot\", \"in_tier\"])\n",
    "          .agg({\"num_AIN\": \"sum\",\n",
    "               \"parcelsqft\":\"sum\"})\n",
    "          .reset_index()\n",
    "         )\n",
    "    \n",
    "    # Also, count the total of AIN within each tract\n",
    "    total_AIN = (crosswalk_parcels_tracts[crosswalk_parcels_tracts.num_AIN == 1]\n",
    "                    .groupby(['GEOID'])\n",
    "                    .agg({'num_AIN':'sum'})\n",
    "                    .rename(columns = {'num_AIN':'total_AIN'})\n",
    "                    .reset_index()\n",
    "                   )\n",
    "    \n",
    "    # Merge together \n",
    "    df2 = pd.merge(df, total_AIN, on = 'GEOID', how = 'left', validate = 'm:1')\n",
    "    \n",
    "    # Calculate the % of AIN that falls within TOC tiers and % of area within TOC tiers\n",
    "    df2 = df2.assign(\n",
    "        pct_AIN = df2.num_AIN / df2.total_AIN,\n",
    "        pct_area = df2.parcelsqft / df2.parcel_tot,\n",
    "    )\n",
    "    \n",
    "    return df2"
   ]
  },
  {
   "cell_type": "code",
   "execution_count": 4,
   "metadata": {},
   "outputs": [],
   "source": [
    "df = toc_tracts_clean_and_aggregate()"
   ]
  },
  {
   "cell_type": "code",
   "execution_count": 5,
   "metadata": {},
   "outputs": [
    {
     "data": {
      "text/html": [
       "<div>\n",
       "<style scoped>\n",
       "    .dataframe tbody tr th:only-of-type {\n",
       "        vertical-align: middle;\n",
       "    }\n",
       "\n",
       "    .dataframe tbody tr th {\n",
       "        vertical-align: top;\n",
       "    }\n",
       "\n",
       "    .dataframe thead th {\n",
       "        text-align: right;\n",
       "    }\n",
       "</style>\n",
       "<table border=\"1\" class=\"dataframe\">\n",
       "  <thead>\n",
       "    <tr style=\"text-align: right;\">\n",
       "      <th></th>\n",
       "      <th>GEOID</th>\n",
       "      <th>pop</th>\n",
       "      <th>parcel_tot</th>\n",
       "      <th>in_tier</th>\n",
       "      <th>num_AIN</th>\n",
       "      <th>parcelsqft</th>\n",
       "      <th>total_AIN</th>\n",
       "      <th>pct_AIN</th>\n",
       "      <th>pct_area</th>\n",
       "    </tr>\n",
       "  </thead>\n",
       "  <tbody>\n",
       "    <tr>\n",
       "      <th>0</th>\n",
       "      <td>06037104320</td>\n",
       "      <td>6211</td>\n",
       "      <td>7.666438e+06</td>\n",
       "      <td>1</td>\n",
       "      <td>396</td>\n",
       "      <td>2.828009e+06</td>\n",
       "      <td>901</td>\n",
       "      <td>0.439512</td>\n",
       "      <td>0.368882</td>\n",
       "    </tr>\n",
       "    <tr>\n",
       "      <th>1</th>\n",
       "      <td>06037104401</td>\n",
       "      <td>3775</td>\n",
       "      <td>3.926756e+06</td>\n",
       "      <td>1</td>\n",
       "      <td>166</td>\n",
       "      <td>1.334841e+06</td>\n",
       "      <td>504</td>\n",
       "      <td>0.329365</td>\n",
       "      <td>0.339935</td>\n",
       "    </tr>\n",
       "    <tr>\n",
       "      <th>2</th>\n",
       "      <td>06037104404</td>\n",
       "      <td>3046</td>\n",
       "      <td>4.030609e+06</td>\n",
       "      <td>1</td>\n",
       "      <td>260</td>\n",
       "      <td>2.510833e+06</td>\n",
       "      <td>451</td>\n",
       "      <td>0.576497</td>\n",
       "      <td>0.622941</td>\n",
       "    </tr>\n",
       "    <tr>\n",
       "      <th>3</th>\n",
       "      <td>06037104610</td>\n",
       "      <td>3501</td>\n",
       "      <td>4.530658e+06</td>\n",
       "      <td>1</td>\n",
       "      <td>437</td>\n",
       "      <td>3.720807e+06</td>\n",
       "      <td>531</td>\n",
       "      <td>0.822976</td>\n",
       "      <td>0.821251</td>\n",
       "    </tr>\n",
       "    <tr>\n",
       "      <th>4</th>\n",
       "      <td>06037104620</td>\n",
       "      <td>3449</td>\n",
       "      <td>4.296846e+06</td>\n",
       "      <td>1</td>\n",
       "      <td>230</td>\n",
       "      <td>1.753480e+06</td>\n",
       "      <td>573</td>\n",
       "      <td>0.401396</td>\n",
       "      <td>0.408085</td>\n",
       "    </tr>\n",
       "  </tbody>\n",
       "</table>\n",
       "</div>"
      ],
      "text/plain": [
       "         GEOID   pop    parcel_tot  in_tier  num_AIN    parcelsqft  total_AIN  \\\n",
       "0  06037104320  6211  7.666438e+06        1      396  2.828009e+06        901   \n",
       "1  06037104401  3775  3.926756e+06        1      166  1.334841e+06        504   \n",
       "2  06037104404  3046  4.030609e+06        1      260  2.510833e+06        451   \n",
       "3  06037104610  3501  4.530658e+06        1      437  3.720807e+06        531   \n",
       "4  06037104620  3449  4.296846e+06        1      230  1.753480e+06        573   \n",
       "\n",
       "    pct_AIN  pct_area  \n",
       "0  0.439512  0.368882  \n",
       "1  0.329365  0.339935  \n",
       "2  0.576497  0.622941  \n",
       "3  0.822976  0.821251  \n",
       "4  0.401396  0.408085  "
      ]
     },
     "execution_count": 5,
     "metadata": {},
     "output_type": "execute_result"
    }
   ],
   "source": [
    "df.head()"
   ]
  },
  {
   "cell_type": "markdown",
   "metadata": {},
   "source": [
    "## Merge in Census data"
   ]
  },
  {
   "cell_type": "code",
   "execution_count": 6,
   "metadata": {},
   "outputs": [],
   "source": [
    "census = pd.read_parquet(f's3://{bucket_name}/data/final/census_cleaned.parquet')"
   ]
  },
  {
   "cell_type": "code",
   "execution_count": 43,
   "metadata": {},
   "outputs": [],
   "source": [
    "# Commute mode\n",
    "def transform_census_percent(table_name, year, main_var, aggregate_me, aggregated_row_name, denom, numer):\n",
    "    df = pcts_census_utils.grab_census_table(table_name, year, main_var)\n",
    "\n",
    "    df2 = pcts_census_utils.aggregate_group(df, aggregate_me, name = aggregated_row_name)\n",
    "    \n",
    "    cols = [denom, numer]\n",
    "    df3 = pcts_census_utils.make_wide(df2, cols)\n",
    "    \n",
    "    new_var = f\"pct_{aggregated_row_name}\"\n",
    "\n",
    "    df3 = (df3.assign(\n",
    "        new = df3[numer] / df3[denom],\n",
    "        ).rename(columns = {'new': new_var})\n",
    "    )\n",
    "    \n",
    "    return df3"
   ]
  },
  {
   "cell_type": "code",
   "execution_count": 35,
   "metadata": {},
   "outputs": [],
   "source": [
    "commute_modes = [\"workers_transit\", \"workers_walk\", \"workers_bike\"]\n",
    "\n",
    "commute = transform_census_percent(\"commute\", 2018, \"workers\", commute_modes, \n",
    "                           \"non_car\", \"workers_total\", \"non_car\")\n",
    "\n",
    "commute.head()"
   ]
  },
  {
   "cell_type": "code",
   "execution_count": 44,
   "metadata": {},
   "outputs": [
    {
     "data": {
      "text/html": [
       "<div>\n",
       "<style scoped>\n",
       "    .dataframe tbody tr th:only-of-type {\n",
       "        vertical-align: middle;\n",
       "    }\n",
       "\n",
       "    .dataframe tbody tr th {\n",
       "        vertical-align: top;\n",
       "    }\n",
       "\n",
       "    .dataframe thead th {\n",
       "        text-align: right;\n",
       "    }\n",
       "</style>\n",
       "<table border=\"1\" class=\"dataframe\">\n",
       "  <thead>\n",
       "    <tr style=\"text-align: right;\">\n",
       "      <th></th>\n",
       "      <th>GEOID</th>\n",
       "      <th>pop_renter</th>\n",
       "      <th>pop_total</th>\n",
       "      <th>pct_pop_renter</th>\n",
       "    </tr>\n",
       "  </thead>\n",
       "  <tbody>\n",
       "    <tr>\n",
       "      <th>0</th>\n",
       "      <td>06037101110</td>\n",
       "      <td>2199</td>\n",
       "      <td>4219</td>\n",
       "      <td>0.521214</td>\n",
       "    </tr>\n",
       "    <tr>\n",
       "      <th>1</th>\n",
       "      <td>06037101122</td>\n",
       "      <td>577</td>\n",
       "      <td>3234</td>\n",
       "      <td>0.178417</td>\n",
       "    </tr>\n",
       "    <tr>\n",
       "      <th>2</th>\n",
       "      <td>06037101210</td>\n",
       "      <td>5247</td>\n",
       "      <td>5987</td>\n",
       "      <td>0.876399</td>\n",
       "    </tr>\n",
       "    <tr>\n",
       "      <th>3</th>\n",
       "      <td>06037101220</td>\n",
       "      <td>2110</td>\n",
       "      <td>3497</td>\n",
       "      <td>0.603374</td>\n",
       "    </tr>\n",
       "    <tr>\n",
       "      <th>4</th>\n",
       "      <td>06037101300</td>\n",
       "      <td>353</td>\n",
       "      <td>4250</td>\n",
       "      <td>0.083059</td>\n",
       "    </tr>\n",
       "  </tbody>\n",
       "</table>\n",
       "</div>"
      ],
      "text/plain": [
       "         GEOID  pop_renter  pop_total  pct_pop_renter\n",
       "0  06037101110        2199       4219        0.521214\n",
       "1  06037101122         577       3234        0.178417\n",
       "2  06037101210        5247       5987        0.876399\n",
       "3  06037101220        2110       3497        0.603374\n",
       "4  06037101300         353       4250        0.083059"
      ]
     },
     "execution_count": 44,
     "metadata": {},
     "output_type": "execute_result"
    }
   ],
   "source": [
    "# Renter occupied\n",
    "tenure_group = [\"renter\"]\n",
    "\n",
    "tenure = transform_census_percent(\"tenure\", 2018, \"pop\", tenure_group, \n",
    "                           \"pop_renter\", \"pop_total\", \"pop_renter\")\n",
    "\n",
    "tenure.head()"
   ]
  },
  {
   "cell_type": "code",
   "execution_count": 41,
   "metadata": {},
   "outputs": [
    {
     "data": {
      "text/plain": [
       "pop    4692\n",
       "Name: main_var, dtype: int64"
      ]
     },
     "execution_count": 41,
     "metadata": {},
     "output_type": "execute_result"
    }
   ],
   "source": [
    "census[(census.table==\"tenure\") & (census.year==2018)].main_var.value_counts()"
   ]
  },
  {
   "cell_type": "code",
   "execution_count": null,
   "metadata": {},
   "outputs": [],
   "source": []
  }
 ],
 "metadata": {
  "kernelspec": {
   "display_name": "Python 3",
   "language": "python",
   "name": "python3"
  },
  "language_info": {
   "codemirror_mode": {
    "name": "ipython",
    "version": 3
   },
   "file_extension": ".py",
   "mimetype": "text/x-python",
   "name": "python",
   "nbconvert_exporter": "python",
   "pygments_lexer": "ipython3",
   "version": "3.7.6"
  }
 },
 "nbformat": 4,
 "nbformat_minor": 4
}
