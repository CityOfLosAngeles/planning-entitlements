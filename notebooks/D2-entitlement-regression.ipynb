{
 "cells": [
  {
   "cell_type": "markdown",
   "metadata": {},
   "source": [
    "## Entitlement regression for all suffixes"
   ]
  },
  {
   "cell_type": "code",
   "execution_count": null,
   "metadata": {},
   "outputs": [],
   "source": [
    "import os\n",
    "\n",
    "import geopandas\n",
    "import intake\n",
    "import ipywidgets\n",
    "import matplotlib.pyplot as plt\n",
    "import numpy\n",
    "import pandas\n",
    "import sklearn.preprocessing\n",
    "import sklearn.linear_model\n",
    "import sklearn.pipeline\n",
    "import sklearn.utils\n",
    "\n",
    "import laplan\n",
    "import utils\n",
    "\n",
    "cat = intake.open_catalog(\"../catalogs/*.yml\")"
   ]
  },
  {
   "cell_type": "code",
   "execution_count": null,
   "metadata": {},
   "outputs": [],
   "source": [
    "# Census tracts\n",
    "tracts = cat.census_tracts.read().set_index(\"GEOID\")"
   ]
  },
  {
   "cell_type": "code",
   "execution_count": null,
   "metadata": {},
   "outputs": [],
   "source": [
    "prefix_list = laplan.pcts.VALID_PCTS_PREFIX\n",
    "suffix_list = laplan.pcts.VALID_PCTS_SUFFIX\n",
    "\n",
    "remove_prefix = [\"ENV\"]\n",
    "remove_suffix = [\n",
    "    \"EIR\",\n",
    "    \"IPRO\",\n",
    "    \"CA\",\n",
    "    \"CATEX\",\n",
    "    \"CPIO\",\n",
    "    \"CPU\",\n",
    "    \"CRA\"\n",
    "    \"FH\",\n",
    "    \"G\",\n",
    "    \"HD\",\n",
    "    \"HPOZ\",\n",
    "    \"ICO\",\n",
    "    \"K\",\n",
    "    \"LCP\",\n",
    "    \"NSO\",\n",
    "    \"RFA\",\n",
    "    \"S\",\n",
    "    \"SN\",\n",
    "    \"SP\",\n",
    "    \"ZAI\",\n",
    "]\n",
    "\n",
    "prefix_list = [x for x in prefix_list if x not in remove_prefix]\n",
    "suffix_list = [x for x in suffix_list if x not in remove_suffix]"
   ]
  },
  {
   "cell_type": "code",
   "execution_count": null,
   "metadata": {},
   "outputs": [],
   "source": [
    "# Merge the census data with the entitlements counts:\n",
    "joined = utils.entitlements_per_tract(\n",
    "    prefix_list=prefix_list,\n",
    "    suffix_list=suffix_list,\n",
    "    verbose=True,\n",
    "    big_case_threshold=20,\n",
    "    return_big_cases=False,\n",
    ")"
   ]
  },
  {
   "cell_type": "code",
   "execution_count": null,
   "metadata": {},
   "outputs": [],
   "source": [
    "joined.head()"
   ]
  },
  {
   "cell_type": "code",
   "execution_count": null,
   "metadata": {},
   "outputs": [],
   "source": [
    "joined = geopandas.GeoDataFrame(\n",
    "    joined, \n",
    "    geometry=tracts.geometry,\n",
    ")"
   ]
  },
  {
   "cell_type": "code",
   "execution_count": null,
   "metadata": {},
   "outputs": [],
   "source": [
    "include_entitlements = (\n",
    "    joined[suffix_list]\n",
    "    .sum()\n",
    "    .sort_values(ascending=False)\n",
    "    .head(30)\n",
    "    .index\n",
    ")\n",
    "include_entitlements"
   ]
  },
  {
   "cell_type": "code",
   "execution_count": null,
   "metadata": {},
   "outputs": [],
   "source": [
    "column = \"TOC\"\n",
    "geopandas.GeoDataFrame(\n",
    "    joined.astype({column: \"float\"}).assign(geometry=tracts.geometry),\n",
    "    geometry=\"geometry\",\n",
    ").plot(figsize=(16,16), column=column)"
   ]
  },
  {
   "cell_type": "code",
   "execution_count": null,
   "metadata": {},
   "outputs": [],
   "source": [
    "cols=[\n",
    "    \"medhhincome\",\n",
    "    \"pct_pop_renter\",\n",
    "    \"pct_zero_veh_workers\",\n",
    "    \"density\",\n",
    "    \"pct_whitenonhisp\"\n",
    "]"
   ]
  },
  {
   "cell_type": "code",
   "execution_count": null,
   "metadata": {},
   "outputs": [],
   "source": [
    "model = sklearn.pipeline.Pipeline([\n",
    "    (\"scaler\", sklearn.preprocessing.StandardScaler(with_mean=True)),\n",
    "    (\"regressor\", sklearn.linear_model.PoissonRegressor(fit_intercept=True, tol=1.e-6))\n",
    "])"
   ]
  },
  {
   "cell_type": "code",
   "execution_count": null,
   "metadata": {},
   "outputs": [],
   "source": [
    "rs = numpy.random.RandomState(1)\n",
    "\n",
    "def fit_model(variables, target, norm=1, samples=100): \n",
    "    def get_coefs(model):\n",
    "        return model[\"regressor\"].coef_\n",
    "\n",
    "    samples = numpy.array([\n",
    "        get_coefs(model.fit(*sklearn.utils.resample(\n",
    "            variables,\n",
    "            (target/norm).replace([numpy.nan, numpy.inf], 0.0),\n",
    "            random_state=rs,\n",
    "        )))\n",
    "        for i in range(samples)\n",
    "    ])\n",
    "    return samples"
   ]
  },
  {
   "cell_type": "code",
   "execution_count": null,
   "metadata": {},
   "outputs": [],
   "source": [
    "inc = include_entitlements\n",
    "\n",
    "fig, axes = plt.subplots(\n",
    "    len(inc),\n",
    "    len(cols),\n",
    "    sharex=True,\n",
    "    sharey=True,\n",
    "    figsize=(12, 1*len(inc)),\n",
    ")\n",
    "\n",
    "colors = [\"#e41a1c\", \"#377eb8\", \"#4daf4a\", \"#984ea3\", \"#ff7f00\"]\n",
    "\n",
    "for i, ent in enumerate(inc):\n",
    "    print(f\"Fitting model for {ent}\")\n",
    "    to_fit = joined.dropna(subset=cols+[ent])\n",
    "    samples = fit_model(\n",
    "        to_fit[cols],\n",
    "        to_fit[ent],\n",
    "        norm=1,\n",
    "        samples=100\n",
    "    )\n",
    "    for j, var in enumerate(cols):\n",
    "        ax = axes[i, j]\n",
    "\n",
    "        # Add a zero line\n",
    "        ax.axvline(0, linewidth=2, alpha=0.3, color=\"k\", linestyle=\"dotted\")\n",
    "        #ax.set_ylim(-0.5, 0.5)\n",
    "        \n",
    "        # Remove a lot of unnecessary labels and ticks on the subplots\n",
    "        ax.tick_params(which=\"both\", right=False, left=False)\n",
    "        ax.set_yticklabels([])     \n",
    "        for spine in ax.spines:\n",
    "            ax.spines[spine].set_visible(False)\n",
    "\n",
    "        if j == 0:\n",
    "            ax.set_ylabel(ent)\n",
    "        if i == 0:\n",
    "            ax.set_xlabel(var)\n",
    "            ax.xaxis.set_label_position(\"top\")\n",
    "        elif i == len(inc)-1:\n",
    "            ax.set_xlabel(var)\n",
    "            ax.xaxis.set_label_position(\"bottom\")\n",
    "            ax.tick_params(which=\"both\", bottom=False)\n",
    "        else:\n",
    "            ax.tick_params(which=\"both\", bottom=False)\n",
    "\n",
    "        parts = ax.violinplot(samples[:, j], vert=False, showextrema=False)\n",
    "        for pc in parts['bodies']:\n",
    "            pc.set_color(colors[j])\n",
    "\n",
    "fig.show()"
   ]
  },
  {
   "cell_type": "code",
   "execution_count": null,
   "metadata": {},
   "outputs": [],
   "source": [
    "fig.savefig(\"entitlements.png\", bbox_inches=\"tight\", dpi=500)"
   ]
  },
  {
   "cell_type": "code",
   "execution_count": null,
   "metadata": {},
   "outputs": [],
   "source": [
    "def plot_model(variables, target, norm=1):\n",
    "    t = (target/norm).replace([numpy.nan, numpy.inf], 0.0)\n",
    "    model.fit(variables, t)\n",
    "    fig, axes = plt.subplots(1, len(variables.columns), figsize=(12, 3))\n",
    "    for i, var in enumerate(variables.columns):\n",
    "        ax = axes[i]\n",
    "        ax.scatter(variables[var], target)\n",
    "        #ax.scatter(variables[var], model.predict(variables))\n",
    "        ax.set_xlabel(var)\n",
    "        if i == 0:\n",
    "            ax.set_ylabel(\"Count\")\n",
    "    plt.close(fig) # prevent double plotting\n",
    "    return fig"
   ]
  },
  {
   "cell_type": "code",
   "execution_count": null,
   "metadata": {},
   "outputs": [],
   "source": [
    "def plot_map(variables, target, norm=1):\n",
    "    t = (target/norm).replace([numpy.nan, numpy.inf], 0.0)\n",
    "    model.fit(variables, t)\n",
    "    gdf = geopandas.GeoDataFrame(\n",
    "        variables.assign(\n",
    "            predict=model.predict(variables),\n",
    "            target=t,\n",
    "            geometry=joined.geometry,\n",
    "        )\n",
    "    )\n",
    "    vmax = gdf.target.max()\n",
    "    vmin = gdf.target.min()\n",
    "    fig, ax = plt.subplots(1, 2, figsize=(12, 6))\n",
    "    gdf.plot(column=\"target\", cmap=\"plasma\", ax=ax[0])\n",
    "    gdf.plot(column=\"predict\", cmap=\"plasma\", ax=ax[1])\n",
    "    ax[0].axis(\"off\")\n",
    "    ax[1].axis(\"off\")\n",
    "    ax[0].set_title(f\"Number of {target.name}\")\n",
    "    ax[1].set_title(f\"Predicted number of {target.name}\")\n",
    "    plt.close(fig)\n",
    "    return fig"
   ]
  },
  {
   "cell_type": "code",
   "execution_count": null,
   "metadata": {},
   "outputs": [],
   "source": [
    "output = ipywidgets.Output()\n",
    "dropdown = ipywidgets.Dropdown(options=inc)\n",
    "norm = joined.pop_total\n",
    "#norm = 1\n",
    "def on_selection(*args):\n",
    "    with output:\n",
    "        output.clear_output(wait=True)\n",
    "        to_plot = joined.dropna(subset=cols+[dropdown.value])\n",
    "        display(\n",
    "            plot_map(to_fit[cols], to_fit[dropdown.value], norm),\n",
    "            plot_model(to_fit[cols], to_fit[dropdown.value], norm)\n",
    "        )\n",
    "dropdown.observe(on_selection, names=[\"value\"])\n",
    "\n",
    "on_selection()\n",
    "display(dropdown, output)"
   ]
  },
  {
   "cell_type": "code",
   "execution_count": null,
   "metadata": {},
   "outputs": [],
   "source": []
  }
 ],
 "metadata": {
  "kernelspec": {
   "display_name": "Python 3",
   "language": "python",
   "name": "python3"
  },
  "language_info": {
   "codemirror_mode": {
    "name": "ipython",
    "version": 3
   },
   "file_extension": ".py",
   "mimetype": "text/x-python",
   "name": "python",
   "nbconvert_exporter": "python",
   "pygments_lexer": "ipython3",
   "version": "3.7.8"
  }
 },
 "nbformat": 4,
 "nbformat_minor": 4
}
