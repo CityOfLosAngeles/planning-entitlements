{
 "cells": [
  {
   "cell_type": "markdown",
   "metadata": {},
   "source": [
    "# Clean ZIMAS / zoning file"
   ]
  },
  {
   "cell_type": "code",
   "execution_count": 1,
   "metadata": {},
   "outputs": [],
   "source": [
    "import numpy as np\n",
    "import pandas as pd\n",
    "import geopandas as gpd\n",
    "import intake\n",
    "import utils"
   ]
  },
  {
   "cell_type": "code",
   "execution_count": 2,
   "metadata": {},
   "outputs": [],
   "source": [
    "catalog = intake.open_catalog(\"../catalogs/*.yml\")"
   ]
  },
  {
   "cell_type": "code",
   "execution_count": 3,
   "metadata": {},
   "outputs": [],
   "source": [
    "# Default value of display.max_rows is 10 i.e. at max 10 rows will be printed.\n",
    "# Set it None to display all rows in the dataframe\n",
    "pd.set_option('display.max_rows', None)"
   ]
  },
  {
   "cell_type": "code",
   "execution_count": 4,
   "metadata": {},
   "outputs": [],
   "source": [
    "df = catalog.zoning.read()\n",
    "df = df[['ZONE_CMPLT']].drop_duplicates()"
   ]
  },
  {
   "cell_type": "markdown",
   "metadata": {},
   "source": [
    "## Parse zoning string"
   ]
  },
  {
   "cell_type": "code",
   "execution_count": 5,
   "metadata": {},
   "outputs": [
    {
     "data": {
      "text/html": [
       "<div>\n",
       "<style scoped>\n",
       "    .dataframe tbody tr th:only-of-type {\n",
       "        vertical-align: middle;\n",
       "    }\n",
       "\n",
       "    .dataframe tbody tr th {\n",
       "        vertical-align: top;\n",
       "    }\n",
       "\n",
       "    .dataframe thead th {\n",
       "        text-align: right;\n",
       "    }\n",
       "</style>\n",
       "<table border=\"1\" class=\"dataframe\">\n",
       "  <thead>\n",
       "    <tr style=\"text-align: right;\">\n",
       "      <th></th>\n",
       "      <th>ZONE_CMPLT</th>\n",
       "      <th>Q</th>\n",
       "      <th>T</th>\n",
       "      <th>zone_class</th>\n",
       "      <th>specific_plan</th>\n",
       "      <th>height_district</th>\n",
       "      <th>D</th>\n",
       "      <th>overlay</th>\n",
       "      <th>invalid_zone</th>\n",
       "      <th>invalid_height</th>\n",
       "    </tr>\n",
       "  </thead>\n",
       "  <tbody>\n",
       "    <tr>\n",
       "      <th>0</th>\n",
       "      <td>C2-1-SP</td>\n",
       "      <td>False</td>\n",
       "      <td>False</td>\n",
       "      <td>C2</td>\n",
       "      <td></td>\n",
       "      <td>1</td>\n",
       "      <td>False</td>\n",
       "      <td>[SP]</td>\n",
       "      <td></td>\n",
       "      <td></td>\n",
       "    </tr>\n",
       "    <tr>\n",
       "      <th>1</th>\n",
       "      <td>C1.5-1-SP</td>\n",
       "      <td>False</td>\n",
       "      <td>False</td>\n",
       "      <td>C1.5</td>\n",
       "      <td></td>\n",
       "      <td>1</td>\n",
       "      <td>False</td>\n",
       "      <td>[SP]</td>\n",
       "      <td></td>\n",
       "      <td></td>\n",
       "    </tr>\n",
       "    <tr>\n",
       "      <th>4</th>\n",
       "      <td>[Q]C1.5-1</td>\n",
       "      <td>True</td>\n",
       "      <td>False</td>\n",
       "      <td>C1.5</td>\n",
       "      <td></td>\n",
       "      <td>1</td>\n",
       "      <td>False</td>\n",
       "      <td></td>\n",
       "      <td></td>\n",
       "      <td></td>\n",
       "    </tr>\n",
       "    <tr>\n",
       "      <th>10</th>\n",
       "      <td>[Q]C1.5-1-RIO</td>\n",
       "      <td>True</td>\n",
       "      <td>False</td>\n",
       "      <td>C1.5</td>\n",
       "      <td></td>\n",
       "      <td>1</td>\n",
       "      <td>False</td>\n",
       "      <td>[RIO]</td>\n",
       "      <td></td>\n",
       "      <td></td>\n",
       "    </tr>\n",
       "    <tr>\n",
       "      <th>12</th>\n",
       "      <td>[Q]C1.5-1-O</td>\n",
       "      <td>True</td>\n",
       "      <td>False</td>\n",
       "      <td>C1.5</td>\n",
       "      <td></td>\n",
       "      <td>1</td>\n",
       "      <td>False</td>\n",
       "      <td>[O]</td>\n",
       "      <td></td>\n",
       "      <td></td>\n",
       "    </tr>\n",
       "  </tbody>\n",
       "</table>\n",
       "</div>"
      ],
      "text/plain": [
       "       ZONE_CMPLT      Q      T zone_class specific_plan height_district  \\\n",
       "0         C2-1-SP  False  False         C2                             1   \n",
       "1       C1.5-1-SP  False  False       C1.5                             1   \n",
       "4       [Q]C1.5-1   True  False       C1.5                             1   \n",
       "10  [Q]C1.5-1-RIO   True  False       C1.5                             1   \n",
       "12    [Q]C1.5-1-O   True  False       C1.5                             1   \n",
       "\n",
       "        D overlay invalid_zone invalid_height  \n",
       "0   False    [SP]                              \n",
       "1   False    [SP]                              \n",
       "4   False                                      \n",
       "10  False   [RIO]                              \n",
       "12  False     [O]                              "
      ]
     },
     "execution_count": 5,
     "metadata": {},
     "output_type": "execute_result"
    }
   ],
   "source": [
    "def parse_zoning(row):\n",
    "    try:\n",
    "        z = utils.ZoningInfo(row.ZONE_CMPLT)\n",
    "        return pd.Series([z.Q, z.T, z.zone_class, z.specific_plan, z.height_district, z.D, z.overlay, \n",
    "                          z.invalid_zone, z.invalid_height], \n",
    "                        index = ['Q', 'T', 'zone_class', 'specific_plan', 'height_district', 'D', 'overlay', \n",
    "                                 'invalid_zone', 'invalid_height'])\n",
    "    except ValueError:\n",
    "        try:\n",
    "            z = utils.Reparse_NoHyphen(row.ZONE_CMPLT)\n",
    "            return pd.Series([z.Q, z.T, z.zone_class, z.specific_plan, z.height_district, z.D, z.overlay, \n",
    "                              z.invalid_zone, z.invalid_height], \n",
    "                            index = ['Q', 'T', 'zone_class', 'specific_plan', 'height_district', 'D', 'overlay', \n",
    "                                     'invalid_zone', 'invalid_height'])            \n",
    "        except ValueError:\n",
    "            return pd.Series(['failed', 'failed', 'failed', 'failed', 'failed', 'failed', 'failed', '', ''], \n",
    "                            index = ['Q', 'T', 'zone_class', 'specific_plan', 'height_district', 'D', 'overlay', \n",
    "                                     'invalid_zone', 'invalid_height'])\n",
    "\n",
    "parsed = df.apply(parse_zoning, axis = 1)\n",
    "\n",
    "df = pd.concat([df, parsed], axis = 1)\n",
    "\n",
    "df.head()"
   ]
  },
  {
   "cell_type": "code",
   "execution_count": 9,
   "metadata": {},
   "outputs": [
    {
     "name": "stdout",
     "output_type": "stream",
     "text": [
      "(WC)UPTOWN-SN-RIO          1\n",
      "VARIOUS                    1\n",
      "A1                         1\n",
      "FRWY                       1\n",
      "R1V3                       1\n",
      "R4                         1\n",
      "(WC)TOPANGA-SN             1\n",
      "(WC)PARK-SN                1\n",
      "(F)RE11-1                  1\n",
      "PVSP                       1\n",
      "R1-1XL-O#-CUGU             1\n",
      "(WC)DOWNTOWN-SN            1\n",
      "C2-1VL-CPIO                1\n",
      "SL                         1\n",
      "(WC)RIVER-SN-RIO           1\n",
      "R1V1                       1\n",
      "RE15-1-H#                  1\n",
      "R1V2                       1\n",
      "(WC)COMMERCE-SN            1\n",
      "M2                         1\n",
      "[Q]C4(OX)-2D-CDO           1\n",
      "OS                         1\n",
      "CW                         1\n",
      "R1R3                       1\n",
      "[Q]CM(GM)-2D-CA            1\n",
      "R1H1                       1\n",
      "LASED                      1\n",
      "(WC)COLLEGE-SN             1\n",
      "RE15-1-RPD-2.9-H           1\n",
      "(WC)NORTHVILLAGE-SN-RIO    1\n",
      "(F)CM-1-CUGU               1\n",
      "(F)CM-1-HPOZ               1\n",
      "LACFCD                     1\n",
      "PPSP                       1\n",
      "PF                         1\n",
      "M3                         1\n",
      "(F)R2-1-RIO                1\n",
      "LAX                        1\n",
      "(F)CM-1-O-HPOZ             1\n",
      "R1                         1\n",
      "(WC)TOPANGA-SN-RIO         1\n",
      "Name: ZONE_CMPLT, dtype: int64\n",
      "41\n"
     ]
    }
   ],
   "source": [
    "print(len(df[df.Q == 'failed']))\n",
    "print(df[df.Q == 'failed'].ZONE_CMPLT.value_counts())"
   ]
  },
  {
   "cell_type": "code",
   "execution_count": null,
   "metadata": {},
   "outputs": [],
   "source": [
    "\"\"\" \n",
    "For no_hyphens, which takes form of like A1 or RE15(PV), use this re.compile\n",
    "    ([0-9A-Z]+)(\\([A-Z]+\\))*\n",
    "    \n",
    "With hyphen, try this:\n",
    "    ([0-9A-Z]+)*(\\([A-Z]+\\))*([-1-4DLVXS]+)*((?:-[A-Z]+)*)$\n",
    "\"\"\""
   ]
  },
  {
   "cell_type": "markdown",
   "metadata": {},
   "source": [
    "## Zone Class"
   ]
  },
  {
   "cell_type": "code",
   "execution_count": 10,
   "metadata": {},
   "outputs": [
    {
     "data": {
      "text/plain": [
       "True     1819\n",
       "False     115\n",
       "Name: valid_zone, dtype: int64"
      ]
     },
     "execution_count": 10,
     "metadata": {},
     "output_type": "execute_result"
    }
   ],
   "source": [
    "# Check if valid zone classes are used\n",
    "df['valid_zone'] = df.zone_class.isin(utils.VALID_ZONE_CLASS)\n",
    "\n",
    "df.valid_zone.value_counts()"
   ]
  },
  {
   "cell_type": "code",
   "execution_count": 11,
   "metadata": {},
   "outputs": [
    {
     "name": "stdout",
     "output_type": "stream",
     "text": [
      "# obs with invalid zones: 115\n",
      "# of unique invalid zones: 2\n"
     ]
    }
   ],
   "source": [
    "print(f'# obs with invalid zones: {len(df[df.valid_zone == False])}')\n",
    "print(f'# of unique invalid zones: {df[df.valid_zone == False].zone_class.nunique()}')"
   ]
  },
  {
   "cell_type": "code",
   "execution_count": 12,
   "metadata": {},
   "outputs": [
    {
     "data": {
      "text/plain": [
       "        17\n",
       "R3P     10\n",
       "R4P      9\n",
       "R1P      8\n",
       "R1R3     4\n",
       "USC      4\n",
       "RAP      3\n",
       "R1V3     3\n",
       "R1V2     2\n",
       "R2P      2\n",
       "R5P      2\n",
       "R1H1     2\n",
       "RZ5      2\n",
       "A2P      1\n",
       "CEC      1\n",
       "R1V1     1\n",
       "CCS      1\n",
       "RSP      1\n",
       "ADP      1\n",
       "Name: invalid_zone, dtype: int64"
      ]
     },
     "execution_count": 12,
     "metadata": {},
     "output_type": "execute_result"
    }
   ],
   "source": [
    "# Look at what these invalid zones are\n",
    "# Appears that you can have multiple zones? R3 + P? Is this correct?\n",
    "# Or, is there a hierarchy, where least restrictive includes all uses of most restrictive, and that spans across residential, agricultural, etc.\n",
    "df[df.zone_class == 'invalid'].invalid_zone.value_counts()"
   ]
  },
  {
   "cell_type": "code",
   "execution_count": 13,
   "metadata": {},
   "outputs": [
    {
     "data": {
      "text/plain": [
       "residential        831\n",
       "commercial         574\n",
       "manufacturing      144\n",
       "                   115\n",
       "parking            107\n",
       "public_facility     68\n",
       "agricultural        53\n",
       "open_space          41\n",
       "submerged_lands      1\n",
       "Name: zone_class_descrip, dtype: int64"
      ]
     },
     "execution_count": 13,
     "metadata": {},
     "output_type": "execute_result"
    }
   ],
   "source": [
    "def zone_class(row):\n",
    "    \"\"\"\n",
    "    This function tags the 35 different zone classes based\n",
    "    on the first letter\n",
    "    \"\"\"\n",
    "    \n",
    "    open_space_zones = ['OS']\n",
    "    agricultural_zones = ['A1', 'A2']\n",
    "    residential_zones = ['RA', 'RE', 'RS', 'R1', 'RU', 'RZ', 'RW1', \n",
    "                         'R2', 'RD', 'RMP', 'RW2', 'R3', 'RAS3', 'R4', 'RAS4', 'R5']\n",
    "    commercial_zones = ['CR', 'C1', 'C1.5', 'C4' ,'C2', 'C5', 'CM']\n",
    "    manufacturing_zones = ['MR1', 'M1', 'MR2', 'M2', 'M3']\n",
    "    \n",
    "    text = row.zone_class\n",
    "    \n",
    "    if any(zone in text for zone in open_space_zones):\n",
    "        return 'open_space'\n",
    "    if any(zone in text for zone in agricultural_zones):\n",
    "        return 'agricultural'\n",
    "    if any(zone in text for zone in residential_zones):\n",
    "        return 'residential'\n",
    "    if any(zone in text for zone in commercial_zones):\n",
    "        return 'commercial'\n",
    "    if any(zone in text for zone in manufacturing_zones):\n",
    "        return 'manufacturing'\n",
    "    if 'PF' in text:\n",
    "        return 'public_facility'\n",
    "    if (('P' in text) or ('PB' in text)) and ('PF' not in text):\n",
    "        return 'parking'\n",
    "    if 'SL' in text:\n",
    "        return 'submerged_lands'\n",
    "    else:\n",
    "        return ''\n",
    "\n",
    "df['zone_class_descrip'] = df.apply(zone_class, axis = 1)   \n",
    "\n",
    "df.zone_class_descrip.value_counts()"
   ]
  },
  {
   "cell_type": "markdown",
   "metadata": {},
   "source": [
    "## Height District"
   ]
  },
  {
   "cell_type": "code",
   "execution_count": 14,
   "metadata": {},
   "outputs": [
    {
     "data": {
      "text/plain": [
       "True     1870\n",
       "False      64\n",
       "Name: valid_height, dtype: int64"
      ]
     },
     "execution_count": 14,
     "metadata": {},
     "output_type": "execute_result"
    }
   ],
   "source": [
    "df['valid_height'] = df.apply(lambda row: False if row.height_district in(['', 'invalid']) else True, axis = 1)\n",
    "\n",
    "df.valid_height.value_counts()"
   ]
  },
  {
   "cell_type": "code",
   "execution_count": 15,
   "metadata": {},
   "outputs": [
    {
     "data": {
      "text/plain": [
       "         39\n",
       "O         8\n",
       "RG        4\n",
       "EZ1VL     3\n",
       "2L        2\n",
       "2VL       1\n",
       "HPOZ      1\n",
       "CPIO      1\n",
       "1B        1\n",
       "1A        1\n",
       "CSA1      1\n",
       "CDO       1\n",
       "RIO       1\n",
       "Name: invalid_height, dtype: int64"
      ]
     },
     "execution_count": 15,
     "metadata": {},
     "output_type": "execute_result"
    }
   ],
   "source": [
    "# Look at what these invalid heights are.\n",
    "# 1VL, 2VL seem like they could be legitimate. What is EZ1VL?\n",
    "df[df.valid_height == False].invalid_height.value_counts()"
   ]
  },
  {
   "cell_type": "code",
   "execution_count": 16,
   "metadata": {},
   "outputs": [
    {
     "name": "stdout",
     "output_type": "stream",
     "text": [
      "# obs with invalid height districts: 64\n",
      "# of unique invalid height districts: 13\n"
     ]
    }
   ],
   "source": [
    "print(f'# obs with invalid height districts: {len(df[df.valid_height == False])}')\n",
    "print(f'# of unique invalid height districts: {df[df.valid_height == False].invalid_height.nunique()}')"
   ]
  },
  {
   "cell_type": "markdown",
   "metadata": {},
   "source": [
    "## D Limit"
   ]
  },
  {
   "cell_type": "code",
   "execution_count": 17,
   "metadata": {},
   "outputs": [
    {
     "data": {
      "text/plain": [
       "False     1594\n",
       "True       299\n",
       "failed      41\n",
       "Name: D, dtype: int64"
      ]
     },
     "execution_count": 17,
     "metadata": {},
     "output_type": "execute_result"
    }
   ],
   "source": [
    "df.D.value_counts()"
   ]
  },
  {
   "cell_type": "code",
   "execution_count": 18,
   "metadata": {},
   "outputs": [
    {
     "data": {
      "text/plain": [
       "2      138\n",
       "1       61\n",
       "1VL     39\n",
       "4       31\n",
       "1L      22\n",
       "1XL      6\n",
       "3        2\n",
       "Name: height_district, dtype: int64"
      ]
     },
     "execution_count": 18,
     "metadata": {},
     "output_type": "execute_result"
    }
   ],
   "source": [
    "df[df.D == True].height_district.value_counts()\n",
    "# Checked, if there is height district followed by a D, those are all tagged as True"
   ]
  },
  {
   "cell_type": "code",
   "execution_count": null,
   "metadata": {},
   "outputs": [],
   "source": [
    "# Will need to make sure it's not mixed-type at time of export. Cannot be boolean and string ''\n",
    "\n",
    "# But, right now still need a way to tag the ones that never got parsed. Come back to this\n",
    "\n",
    "#df.D = df.replace('', False)\n",
    "#df.D = df.D.astype(bool)"
   ]
  },
  {
   "cell_type": "markdown",
   "metadata": {},
   "source": [
    "## Overlay"
   ]
  },
  {
   "cell_type": "code",
   "execution_count": 19,
   "metadata": {},
   "outputs": [
    {
     "data": {
      "text/plain": [
       "ZONE_CMPLT            object\n",
       "Q                     object\n",
       "T                     object\n",
       "zone_class            object\n",
       "specific_plan         object\n",
       "height_district       object\n",
       "D                     object\n",
       "overlay               object\n",
       "invalid_zone          object\n",
       "invalid_height        object\n",
       "valid_zone              bool\n",
       "zone_class_descrip    object\n",
       "valid_height            bool\n",
       "dtype: object"
      ]
     },
     "execution_count": 19,
     "metadata": {},
     "output_type": "execute_result"
    }
   ],
   "source": [
    "df.dtypes"
   ]
  },
  {
   "cell_type": "code",
   "execution_count": 20,
   "metadata": {},
   "outputs": [
    {
     "data": {
      "text/plain": [
       "list"
      ]
     },
     "execution_count": 20,
     "metadata": {},
     "output_type": "execute_result"
    }
   ],
   "source": [
    "type(df.overlay.iloc[1])"
   ]
  },
  {
   "cell_type": "code",
   "execution_count": 27,
   "metadata": {},
   "outputs": [],
   "source": [
    "# Fill in Nones, otherwise cannot do the apply to make the list a string\n",
    "just_overlay = df[df.overlay != 'failed'][['overlay']]"
   ]
  },
  {
   "cell_type": "code",
   "execution_count": 29,
   "metadata": {},
   "outputs": [],
   "source": [
    "just_overlay['no_brackets'] = just_overlay['overlay'].apply(', '.join)"
   ]
  },
  {
   "cell_type": "code",
   "execution_count": 30,
   "metadata": {},
   "outputs": [
    {
     "data": {
      "text/plain": [
       "                 664\n",
       "RIO              180\n",
       "O                148\n",
       "CUGU             141\n",
       "CDO              100\n",
       "CPIO              84\n",
       "HPOZ              73\n",
       "O, CUGU           54\n",
       "CDO, RIO          52\n",
       "K                 45\n",
       "SN                36\n",
       "RIO, CUGU         29\n",
       "HCR               27\n",
       "H                 26\n",
       "O, HPOZ           25\n",
       "CDO, CUGU         21\n",
       "O, CPIO           18\n",
       "G, CUGU           17\n",
       "K, RIO            13\n",
       "H, HCR            10\n",
       "RFA               10\n",
       "SP                 9\n",
       "H, K               9\n",
       "O, CDO             8\n",
       "CA                 8\n",
       "O, SN              7\n",
       "O, K               6\n",
       "HPOZ, CPIO         6\n",
       "RIO, POD           6\n",
       "O, CA              5\n",
       "K, CUGU            5\n",
       "H, RIO             4\n",
       "H, RPD, HCR        4\n",
       "O, CDO, CUGU       4\n",
       "CDO, SN            4\n",
       "K, CPIO            4\n",
       "G                  3\n",
       "O, HPOZ, CPIO      3\n",
       "SN, CPIO           3\n",
       "O, SP              2\n",
       "K, HPOZ            2\n",
       "POD                2\n",
       "O, POD             2\n",
       "MPR                1\n",
       "O, SN, CPIO        1\n",
       "G, RIO             1\n",
       "O, RFA             1\n",
       "H, O               1\n",
       "H, RPD             1\n",
       "RPD, HCR           1\n",
       "S, RIO             1\n",
       "H, O, K            1\n",
       "CDO, HPOZ          1\n",
       "O, H, K            1\n",
       "K, RFA             1\n",
       "O, HPOZ, CUGU      1\n",
       "HPOZ, SP           1\n",
       "Name: no_brackets, dtype: int64"
      ]
     },
     "execution_count": 30,
     "metadata": {},
     "output_type": "execute_result"
    }
   ],
   "source": [
    "just_overlay.no_brackets.value_counts()"
   ]
  },
  {
   "cell_type": "code",
   "execution_count": 40,
   "metadata": {},
   "outputs": [],
   "source": [
    "# Make a dictionary for supplemental use (map to overlay)\n",
    "supplemental_use_dict = {\n",
    "    # Supplemental Use found in Table 2 or Zoning Code Article 3\n",
    "    'O': 'oil_drilling', \n",
    "    'S': 'animal_slaughtering', \n",
    "    'G': 'surface_mining', \n",
    "    'K': 'equinekeeping', \n",
    "    'CA': 'commercial_and_artcraft', \n",
    "    'MU': 'mixed_use', \n",
    "    'FH': 'fence_heights', \n",
    "    'SN': 'sign', \n",
    "    'HS': 'hillside_standards',\n",
    "    'RG': 'rear_detached_garage', \n",
    "    'RPD': 'residential_planned_development', \n",
    "    'POD': 'pedestrian_oriented_district',\n",
    "    'CDO': 'community_design_overlay',\n",
    "    'NSO': 'neighborhood_stabilization_ordinance',\n",
    "    'RFA': 'residential_floor_area',\n",
    "    'MPR': 'modified_parking_requirement',\n",
    "    'RIO': 'river_improvement_overlay',\n",
    "    'HCR': 'hillside_construction_regulation',\n",
    "    'CPIO': 'community_plan_implementation_overlay',\n",
    "    'CUGU': 'clean_up_green_up_overlay',\n",
    "    'HPOZ': 'historic_preservation_overlay_zone', \n",
    "}"
   ]
  },
  {
   "cell_type": "code",
   "execution_count": 33,
   "metadata": {},
   "outputs": [],
   "source": [
    "specific_plan_dict = {\n",
    "    # Are other zoning designations put in with zone class or overlay? HPOX appears as overlay, but a lot of other ones appear in the beginning with zone class.\n",
    "    # Even more designations found in Zoning Code Article 2\n",
    "    'CEC': 'convention_and_event_center_specific_plan',\n",
    "    # Other Zoning Designations found in Zoning Code Article 2, Sec 12.04 Zones - Districts - Symbols.\n",
    "    # Are these always in parantheses in the beginning, near the prefix??\n",
    "    'CW': 'central_city_west_specific_plan', \n",
    "    'GM': 'glencoe_maxella_specific_plan', \n",
    "    'OX': 'oxford_triangle_specific_plan', \n",
    "    'PV': 'playa_vista_specific_plan', \n",
    "    'WC': 'warner_center_specific_plan', \n",
    "    'ADP': 'alameda_district_specific_plan', \n",
    "    'CCS': 'century_city_south_studio_zone', \n",
    "    'CSA': 'centers_study_area', \n",
    "    'PKM': 'park_mile_specific_plan',\n",
    "    'LAX': 'los_angeles_airport_specific_plan', \n",
    "    #'HPOZ': 'historic_preservation_overlay_zone', \n",
    "    'LASED': 'la_sports_and_entertainment_specific_plan',\n",
    "    'USC-1A': 'usc_university_park_campus_specific_plan_subarea_1a_zone',\n",
    "    'USC-1B': 'usc_university_park_campus_specific_plan_subarea_1b_zone',    \n",
    "    'USC-2': 'usc_university_park_campus_specific_plan_subarea_2_zone',\n",
    "    'USC-3': 'usc_university_park_campus_specific_plan_subarea_3_zone',\n",
    "    'PVSP': 'ponte_vista_at_san_pedro_specific_plan'\n",
    "}"
   ]
  },
  {
   "cell_type": "code",
   "execution_count": 34,
   "metadata": {},
   "outputs": [],
   "source": [
    "split = just_overlay.no_brackets.str.split(',', expand = True).fillna('')\n",
    "split.rename(columns = {0: 'o1', 1: 'o2', 2: 'o3'}, inplace = True)"
   ]
  },
  {
   "cell_type": "code",
   "execution_count": 41,
   "metadata": {},
   "outputs": [],
   "source": [
    "# Compile list of unique overlays, and see how well that matches with the dict\n",
    "unique_overlays = pd.DataFrame(split.o1.append(split.o2).append(split.o3))"
   ]
  },
  {
   "cell_type": "code",
   "execution_count": 42,
   "metadata": {},
   "outputs": [],
   "source": [
    "unique_overlays.rename(columns = {0: 'overlay'}, inplace = True)\n",
    "unique_overlays.overlay = unique_overlays.overlay.str.strip()\n",
    "unique_overlays = unique_overlays.drop_duplicates()\n",
    "unique_overlays = unique_overlays.reset_index().drop(columns = ['index'])"
   ]
  },
  {
   "cell_type": "code",
   "execution_count": 43,
   "metadata": {},
   "outputs": [],
   "source": [
    "unique_overlays['overlay_descrip'] = unique_overlays.overlay.map(supplemental_use_dict)"
   ]
  },
  {
   "cell_type": "code",
   "execution_count": 47,
   "metadata": {},
   "outputs": [
    {
     "data": {
      "text/html": [
       "<div>\n",
       "<style scoped>\n",
       "    .dataframe tbody tr th:only-of-type {\n",
       "        vertical-align: middle;\n",
       "    }\n",
       "\n",
       "    .dataframe tbody tr th {\n",
       "        vertical-align: top;\n",
       "    }\n",
       "\n",
       "    .dataframe thead th {\n",
       "        text-align: right;\n",
       "    }\n",
       "</style>\n",
       "<table border=\"1\" class=\"dataframe\">\n",
       "  <thead>\n",
       "    <tr style=\"text-align: right;\">\n",
       "      <th></th>\n",
       "      <th>overlay</th>\n",
       "      <th>overlay_descrip</th>\n",
       "    </tr>\n",
       "  </thead>\n",
       "  <tbody>\n",
       "    <tr>\n",
       "      <th>0</th>\n",
       "      <td>SP</td>\n",
       "      <td>NaN</td>\n",
       "    </tr>\n",
       "    <tr>\n",
       "      <th>1</th>\n",
       "      <td></td>\n",
       "      <td>NaN</td>\n",
       "    </tr>\n",
       "    <tr>\n",
       "      <th>10</th>\n",
       "      <td>H</td>\n",
       "      <td>NaN</td>\n",
       "    </tr>\n",
       "  </tbody>\n",
       "</table>\n",
       "</div>"
      ],
      "text/plain": [
       "   overlay overlay_descrip\n",
       "0       SP             NaN\n",
       "1                      NaN\n",
       "10       H             NaN"
      ]
     },
     "execution_count": 47,
     "metadata": {},
     "output_type": "execute_result"
    }
   ],
   "source": [
    "unique_overlays[unique_overlays.overlay_descrip.isna()]"
   ]
  },
  {
   "cell_type": "code",
   "execution_count": null,
   "metadata": {},
   "outputs": [],
   "source": [
    "# What is SP? Specific Plan?\n",
    "# Also, can't find H"
   ]
  },
  {
   "cell_type": "markdown",
   "metadata": {},
   "source": [
    "## Misclasified\n",
    "* Manually fix?"
   ]
  },
  {
   "cell_type": "code",
   "execution_count": null,
   "metadata": {},
   "outputs": [],
   "source": [
    "# This is not working as it should -- o2 and o3 aren't getting filled\n",
    "for col in ['o1', 'o2', 'o3']:\n",
    "    new_col = f'{col}_descrip'\n",
    "    df[col] = df[col].str.strip()\n",
    "    df[new_col] = df[col].map(supplemental_use_dict)\n",
    "    df[new_col] = df[new_col].fillna('')"
   ]
  },
  {
   "cell_type": "code",
   "execution_count": null,
   "metadata": {},
   "outputs": [],
   "source": [
    "df.head()"
   ]
  },
  {
   "cell_type": "code",
   "execution_count": null,
   "metadata": {},
   "outputs": [],
   "source": []
  },
  {
   "cell_type": "code",
   "execution_count": null,
   "metadata": {},
   "outputs": [],
   "source": [
    "split = pd.DataFrame(just_overlay['overlay'].values.tolist(), columns = ['o1','o2', 'o3'], index = just_overlay.index).fillna('')\n",
    "\n",
    "tag_overlays = pd.concat([just_overlay, split], axis = 1)\n",
    "\n",
    "tag_overlays.head()"
   ]
  },
  {
   "cell_type": "code",
   "execution_count": null,
   "metadata": {},
   "outputs": [],
   "source": []
  },
  {
   "cell_type": "code",
   "execution_count": null,
   "metadata": {},
   "outputs": [],
   "source": [
    "def find_overlays(row, overlays, op=all):\n",
    "    if row.overlay is None:\n",
    "        return False\n",
    "    else:\n",
    "        return op([o in row.overlay for o in overlays])\n",
    "\n",
    "df[df.apply(lambda x: find_overlays(x, ['RIO', 'CDO'], op=any), axis=1)]"
   ]
  },
  {
   "cell_type": "code",
   "execution_count": null,
   "metadata": {},
   "outputs": [],
   "source": [
    "# Need to clean up where o1 didn't map to anything, and o2 and o3 are filled. Make sure the stuff that isn't overlays is removed.\n",
    "# Maybe do long first, then make wide again?"
   ]
  },
  {
   "cell_type": "code",
   "execution_count": null,
   "metadata": {},
   "outputs": [],
   "source": [
    "df[df.ZONE_CMPLT.str.contains('ADP')]"
   ]
  },
  {
   "cell_type": "code",
   "execution_count": null,
   "metadata": {},
   "outputs": [],
   "source": [
    "# Address the Nones first before converting to int\n",
    "\"\"\" \n",
    "Q: Qualified Classification are restrictions to ensure compatibility with surrounding property\n",
    "T: Tentative Zone Classifications are City Council requirements for public improvements\n",
    "\n",
    "for col in ['Q', 'T']:\n",
    "    df[col] = df[col].astype(int)\n",
    "\"\"\""
   ]
  },
  {
   "cell_type": "markdown",
   "metadata": {},
   "source": [
    "## Merge back together"
   ]
  },
  {
   "cell_type": "code",
   "execution_count": null,
   "metadata": {},
   "outputs": [],
   "source": [
    "full = catalog.zoning.read()\n",
    "full.crs = {'init':'epsg:2229'}"
   ]
  },
  {
   "cell_type": "code",
   "execution_count": null,
   "metadata": {},
   "outputs": [],
   "source": [
    "df2 = pd.merge(full, df, on = 'ZONE_CMPLT', how = 'left', validate = 'm:1')"
   ]
  }
 ],
 "metadata": {
  "kernelspec": {
   "display_name": "Python 3",
   "language": "python",
   "name": "python3"
  },
  "language_info": {
   "codemirror_mode": {
    "name": "ipython",
    "version": 3
   },
   "file_extension": ".py",
   "mimetype": "text/x-python",
   "name": "python",
   "nbconvert_exporter": "python",
   "pygments_lexer": "ipython3",
   "version": "3.7.3"
  }
 },
 "nbformat": 4,
 "nbformat_minor": 4
}
