{
 "cells": [
  {
   "cell_type": "markdown",
   "metadata": {},
   "source": [
    "# Clean ZIMAS / zoning file"
   ]
  },
  {
   "cell_type": "code",
   "execution_count": null,
   "metadata": {},
   "outputs": [],
   "source": [
    "import numpy as np\n",
    "import pandas as pd\n",
    "import geopandas as gpd\n",
    "import intake\n",
    "import utils"
   ]
  },
  {
   "cell_type": "code",
   "execution_count": null,
   "metadata": {},
   "outputs": [],
   "source": [
    "catalog = intake.open_catalog(\"../catalogs/*.yml\")"
   ]
  },
  {
   "cell_type": "code",
   "execution_count": null,
   "metadata": {},
   "outputs": [],
   "source": [
    "# Default value of display.max_rows is 10 i.e. at max 10 rows will be printed.\n",
    "# Set it None to display all rows in the dataframe\n",
    "pd.set_option('display.max_rows', None)"
   ]
  },
  {
   "cell_type": "code",
   "execution_count": null,
   "metadata": {},
   "outputs": [],
   "source": [
    "df = catalog.zoning.read()\n",
    "df = df[['ZONE_CMPLT']].drop_duplicates()"
   ]
  },
  {
   "cell_type": "markdown",
   "metadata": {},
   "source": [
    "## Parse zoning string"
   ]
  },
  {
   "cell_type": "code",
   "execution_count": null,
   "metadata": {},
   "outputs": [],
   "source": [
    "def parse_zoning(row):\n",
    "    try:\n",
    "        z = utils.ZoningInfo(row.ZONE_CMPLT)\n",
    "        return pd.Series([z.Q, z.T, z.zone_class, z.specific_plan, z.height_district, z.D, z.overlay, z.invalid_zone, z.invalid_height], \n",
    "                         index = ['Q', 'T', 'zone_class', 'specific_plan', 'height_district', 'D', 'overlay', 'invalid_zone', 'invalid_height'])\n",
    "    except ValueError:\n",
    "        return pd.Series(['failed', 'failed', 'failed', 'failed', 'failed', 'failed', 'failed', '', ''], \n",
    "                         index = ['Q', 'T', 'zone_class', 'specific_plan', 'height_district', 'D', 'overlay', 'invalid_zone', 'invalid_height'])\n",
    "\n",
    "    \n",
    "parsed = df.apply(parse_zoning, axis = 1)\n",
    "\n",
    "df = pd.concat([df, parsed], axis = 1)\n",
    "\n",
    "df.head()"
   ]
  },
  {
   "cell_type": "markdown",
   "metadata": {},
   "source": [
    "def parse_zoning(row):\n",
    "    try:\n",
    "        z = utils.ZoningInfo(row.ZONE_CMPLT)\n",
    "        return pd.Series([z.Q, z.T, z.zone_class, z.specific_plan, z.height_district, z.D, z.overlay, z.invalid_zone, z.invalid_height], \n",
    "                        index = ['Q', 'T', 'zone_class', 'specific_plan', 'height_district', 'D', 'overlay', 'invalid_zone', 'invalid_height'])\n",
    "    except ValueError:\n",
    "        try:\n",
    "            z = utils.Reparse_NoHyphen(row.ZONE_CMPLT)\n",
    "            return pd.Series([z.Q, z.T, z.zone_class, z.specific_plan, z.height_district, z.D, z.overlay, z.invalid_zone, z.invalid_height], \n",
    "                             index = ['Q', 'T', 'zone_class', 'specific_plan', 'height_district', 'D', 'overlay', 'invalid_zone', 'invalid_height'])  \n",
    "        except ValueError:\n",
    "            try: \n",
    "                z = utils.Reparse_OnlyZone(row.ZONE_CMPLT)\n",
    "                return pd.Series([z.Q, z.T, z.zone_class, z.specific_plan, z.height_district, z.D, z.overlay, z.invalid_zone, z.invalid_height], \n",
    "                index = ['Q', 'T', 'zone_class', 'specific_plan', 'height_district', 'D', 'overlay', 'invalid_zone', 'invalid_height'])  \n",
    "            \n",
    "            except ValueError:\n",
    "                return pd.Series(['failed', 'failed', 'failed', 'failed', 'failed', 'failed', 'failed', '', ''], \n",
    "                                index = ['Q', 'T', 'zone_class', 'specific_plan', 'height_district', 'D', 'overlay', \n",
    "                                         'invalid_zone', 'invalid_height'])\n",
    "\n",
    "parsed = df.apply(parse_zoning, axis = 1)\n",
    "\n",
    "df = pd.concat([df, parsed], axis = 1)\n",
    "\n",
    "df.head()"
   ]
  },
  {
   "cell_type": "markdown",
   "metadata": {},
   "source": [
    "def parse_zoning(row):\n",
    "    try:\n",
    "        z = utils.ZoningInfo(row.ZONE_CMPLT)\n",
    "        return pd.Series([z.Q, z.T, z.zone_class, z.specific_plan, z.height_district, z.D, z.overlay, z.invalid_zone, z.invalid_height], \n",
    "                        index = ['Q', 'T', 'zone_class', 'specific_plan', 'height_district', 'D', 'overlay', 'invalid_zone', 'invalid_height'])\n",
    "    except ValueError:\n",
    "        try:\n",
    "            z = utils.Reparse_OnlyZone(row.ZONE_CMPLT)\n",
    "            return pd.Series([z.Q, z.T, z.zone_class, z.specific_plan, z.height_district, z.D, z.overlay, z.invalid_zone, z.invalid_height], \n",
    "                             index = ['Q', 'T', 'zone_class', 'specific_plan', 'height_district', 'D', 'overlay', 'invalid_zone', 'invalid_height'])  \n",
    "        except ValueError:\n",
    "            try: \n",
    "                z = utils.Reparse_NoHyphen(row.ZONE_CMPLT)\n",
    "                return pd.Series([z.Q, z.T, z.zone_class, z.specific_plan, z.height_district, z.D, z.overlay, z.invalid_zone, z.invalid_height], \n",
    "                index = ['Q', 'T', 'zone_class', 'specific_plan', 'height_district', 'D', 'overlay', 'invalid_zone', 'invalid_height'])  \n",
    "            \n",
    "            except ValueError:\n",
    "                return pd.Series(['failed', 'failed', 'failed', 'failed', 'failed', 'failed', 'failed', '', ''], \n",
    "                                index = ['Q', 'T', 'zone_class', 'specific_plan', 'height_district', 'D', 'overlay', \n",
    "                                         'invalid_zone', 'invalid_height'])\n",
    "\n",
    "parsed = df.apply(parse_zoning, axis = 1)\n",
    "\n",
    "df = pd.concat([df, parsed], axis = 1)\n",
    "\n",
    "df.head()"
   ]
  },
  {
   "cell_type": "code",
   "execution_count": null,
   "metadata": {},
   "outputs": [],
   "source": [
    "df[(df.zone_class == 'invalid') | (df.zone_class == 'failed') | (df.zone_class == \"\")][['ZONE_CMPLT']]"
   ]
  },
  {
   "cell_type": "code",
   "execution_count": null,
   "metadata": {},
   "outputs": [],
   "source": [
    "df[df.ZONE_CMPLT == 'USC-3']"
   ]
  },
  {
   "cell_type": "code",
   "execution_count": null,
   "metadata": {},
   "outputs": [],
   "source": [
    "print(f\"Obs that failed to be parsed: {len(df[df.Q == 'failed'])}\")\n",
    "print(f\"Obs that failed to be parsed, invalid, or blanks: {len(df[(df.zone_class == 'invalid') | (df.zone_class == 'failed') | (df.zone_class == '')])}\")"
   ]
  },
  {
   "cell_type": "code",
   "execution_count": null,
   "metadata": {},
   "outputs": [],
   "source": [
    "\"\"\" \n",
    "With hyphen, try this:\n",
    "    ([0-9A-Z]+)*(\\([A-Z]+\\))*([-1-4DLVXS]+)*((?:-[A-Z]+)*)$\n",
    "\"\"\""
   ]
  },
  {
   "cell_type": "markdown",
   "metadata": {},
   "source": [
    "## Zone Class"
   ]
  },
  {
   "cell_type": "code",
   "execution_count": null,
   "metadata": {},
   "outputs": [],
   "source": [
    "# Check if valid zone classes are used\n",
    "df['valid_zone'] = df.zone_class.isin(utils.VALID_ZONE_CLASS)\n",
    "\n",
    "df.valid_zone.value_counts()"
   ]
  },
  {
   "cell_type": "code",
   "execution_count": null,
   "metadata": {},
   "outputs": [],
   "source": [
    "print(f'# obs with invalid zones: {len(df[df.valid_zone == False])}')\n",
    "print(f'# of unique invalid zones: {df[df.valid_zone == False].zone_class.nunique()}')"
   ]
  },
  {
   "cell_type": "code",
   "execution_count": null,
   "metadata": {},
   "outputs": [],
   "source": [
    "# Look at what these invalid zones are\n",
    "# Appears that you can have multiple zones? R3 + P? Is this correct?\n",
    "# Or, is there a hierarchy, where least restrictive includes all uses of most restrictive, and that spans across residential, agricultural, etc.\n",
    "df[df.zone_class == 'invalid'].invalid_zone.value_counts()"
   ]
  },
  {
   "cell_type": "code",
   "execution_count": null,
   "metadata": {},
   "outputs": [],
   "source": [
    "def zone_class(row):\n",
    "    \"\"\"\n",
    "    This function tags the 35 different zone classes based\n",
    "    on the first letter\n",
    "    \"\"\"\n",
    "    \n",
    "    open_space_zones = ['OS']\n",
    "    agricultural_zones = ['A1', 'A2']\n",
    "    residential_zones = ['RA', 'RE', 'RS', 'R1', 'RU', 'RZ', 'RW1', \n",
    "                         'R2', 'RD', 'RMP', 'RW2', 'R3', 'RAS3', 'R4', 'RAS4', 'R5']\n",
    "    commercial_zones = ['CR', 'C1', 'C1.5', 'C4' ,'C2', 'C5', 'CM']\n",
    "    manufacturing_zones = ['MR1', 'M1', 'MR2', 'M2', 'M3']\n",
    "    \n",
    "    text = row.zone_class\n",
    "    \n",
    "    if any(zone in text for zone in open_space_zones):\n",
    "        return 'open_space'\n",
    "    if any(zone in text for zone in agricultural_zones):\n",
    "        return 'agricultural'\n",
    "    if any(zone in text for zone in residential_zones):\n",
    "        return 'residential'\n",
    "    if any(zone in text for zone in commercial_zones):\n",
    "        return 'commercial'\n",
    "    if any(zone in text for zone in manufacturing_zones):\n",
    "        return 'manufacturing'\n",
    "    if 'PF' in text:\n",
    "        return 'public_facility'\n",
    "    if (('P' in text) or ('PB' in text)) and ('PF' not in text):\n",
    "        return 'parking'\n",
    "    if 'SL' in text:\n",
    "        return 'submerged_lands'\n",
    "    else:\n",
    "        return ''\n",
    "\n",
    "df['zone_class_descrip'] = df.apply(zone_class, axis = 1)   \n",
    "\n",
    "df.zone_class_descrip.value_counts()"
   ]
  },
  {
   "cell_type": "markdown",
   "metadata": {},
   "source": [
    "## Height District"
   ]
  },
  {
   "cell_type": "code",
   "execution_count": null,
   "metadata": {},
   "outputs": [],
   "source": [
    "df['valid_height'] = df.apply(lambda row: False if row.height_district in(['', 'invalid']) else True, axis = 1)\n",
    "\n",
    "df.valid_height.value_counts()"
   ]
  },
  {
   "cell_type": "code",
   "execution_count": null,
   "metadata": {},
   "outputs": [],
   "source": [
    "# Look at what these invalid heights are.\n",
    "# 1VL, 2VL seem like they could be legitimate. What is EZ1VL?\n",
    "df[df.valid_height == False].invalid_height.value_counts()"
   ]
  },
  {
   "cell_type": "code",
   "execution_count": null,
   "metadata": {},
   "outputs": [],
   "source": [
    "print(f'# obs with invalid height districts: {len(df[df.valid_height == False])}')\n",
    "print(f'# of unique invalid height districts: {df[df.valid_height == False].invalid_height.nunique()}')"
   ]
  },
  {
   "cell_type": "markdown",
   "metadata": {},
   "source": [
    "## D Limit"
   ]
  },
  {
   "cell_type": "code",
   "execution_count": null,
   "metadata": {},
   "outputs": [],
   "source": [
    "df.D.value_counts()"
   ]
  },
  {
   "cell_type": "code",
   "execution_count": null,
   "metadata": {},
   "outputs": [],
   "source": [
    "df[df.D == True].height_district.value_counts()\n",
    "# Checked, if there is height district followed by a D, those are all tagged as True"
   ]
  },
  {
   "cell_type": "code",
   "execution_count": null,
   "metadata": {},
   "outputs": [],
   "source": [
    "# Will need to make sure it's not mixed-type at time of export. Cannot be boolean and string\n",
    "# Leave for now, because the failed to be parsed obs are still here\n",
    "#df.D = df.replace('', False)\n",
    "#df.D = df.D.astype(bool)"
   ]
  },
  {
   "cell_type": "markdown",
   "metadata": {},
   "source": [
    "## Overlay"
   ]
  },
  {
   "cell_type": "code",
   "execution_count": null,
   "metadata": {},
   "outputs": [],
   "source": [
    "type(df.overlay.iloc[1])"
   ]
  },
  {
   "cell_type": "code",
   "execution_count": null,
   "metadata": {},
   "outputs": [],
   "source": [
    "# Fill in Nones, otherwise cannot do the apply to make the list a string\n",
    "just_overlay = df[df.overlay != 'failed'][['overlay']]"
   ]
  },
  {
   "cell_type": "code",
   "execution_count": null,
   "metadata": {},
   "outputs": [],
   "source": [
    "just_overlay['no_brackets'] = just_overlay['overlay'].apply(', '.join)"
   ]
  },
  {
   "cell_type": "code",
   "execution_count": null,
   "metadata": {},
   "outputs": [],
   "source": [
    "just_overlay.no_brackets.value_counts()"
   ]
  },
  {
   "cell_type": "code",
   "execution_count": null,
   "metadata": {},
   "outputs": [],
   "source": [
    "# Make a dictionary for supplemental use (map to overlay)\n",
    "supplemental_use_dict = {\n",
    "    # Supplemental Use found in Table 2 or Zoning Code Article 3\n",
    "    'O': 'oil_drilling', \n",
    "    'S': 'animal_slaughtering', \n",
    "    'G': 'surface_mining', \n",
    "    'K': 'equinekeeping', \n",
    "    'CA': 'commercial_and_artcraft', \n",
    "    'MU': 'mixed_use', \n",
    "    'FH': 'fence_heights', \n",
    "    'SN': 'sign', \n",
    "    'HS': 'hillside_standards',\n",
    "    'RG': 'rear_detached_garage', \n",
    "    'RPD': 'residential_planned_development', \n",
    "    'POD': 'pedestrian_oriented_district',\n",
    "    'CDO': 'community_design_overlay',\n",
    "    'NSO': 'neighborhood_stabilization_ordinance',\n",
    "    'RFA': 'residential_floor_area',\n",
    "    'MPR': 'modified_parking_requirement',\n",
    "    'RIO': 'river_improvement_overlay',\n",
    "    'HCR': 'hillside_construction_regulation',\n",
    "    'CPIO': 'community_plan_implementation_overlay',\n",
    "    'CUGU': 'clean_up_green_up_overlay',\n",
    "    'HPOZ': 'historic_preservation_overlay_zone', \n",
    "}"
   ]
  },
  {
   "cell_type": "code",
   "execution_count": null,
   "metadata": {},
   "outputs": [],
   "source": [
    "specific_plan_dict = {\n",
    "    # Are other zoning designations put in with zone class or overlay? HPOX appears as overlay, but a lot of other ones appear in the beginning with zone class.\n",
    "    # Even more designations found in Zoning Code Article 2\n",
    "    'CEC': 'convention_and_event_center_specific_plan',\n",
    "    # Other Zoning Designations found in Zoning Code Article 2, Sec 12.04 Zones - Districts - Symbols.\n",
    "    # Are these always in parantheses in the beginning, near the prefix??\n",
    "    'CW': 'central_city_west_specific_plan', \n",
    "    'GM': 'glencoe_maxella_specific_plan', \n",
    "    'OX': 'oxford_triangle_specific_plan', \n",
    "    'PV': 'playa_vista_specific_plan', \n",
    "    'WC': 'warner_center_specific_plan', \n",
    "    'ADP': 'alameda_district_specific_plan', \n",
    "    'CCS': 'century_city_south_studio_zone', \n",
    "    'CSA': 'centers_study_area', \n",
    "    'PKM': 'park_mile_specific_plan',\n",
    "    'LAX': 'los_angeles_airport_specific_plan', \n",
    "    #'HPOZ': 'historic_preservation_overlay_zone', \n",
    "    'LASED': 'la_sports_and_entertainment_specific_plan',\n",
    "    'USC-1A': 'usc_university_park_campus_specific_plan_subarea_1a_zone',\n",
    "    'USC-1B': 'usc_university_park_campus_specific_plan_subarea_1b_zone',    \n",
    "    'USC-2': 'usc_university_park_campus_specific_plan_subarea_2_zone',\n",
    "    'USC-3': 'usc_university_park_campus_specific_plan_subarea_3_zone',\n",
    "    'PVSP': 'ponte_vista_at_san_pedro_specific_plan'\n",
    "}"
   ]
  },
  {
   "cell_type": "code",
   "execution_count": null,
   "metadata": {},
   "outputs": [],
   "source": [
    "split = just_overlay.no_brackets.str.split(',', expand = True).fillna('')\n",
    "split.rename(columns = {0: 'o1', 1: 'o2', 2: 'o3'}, inplace = True)"
   ]
  },
  {
   "cell_type": "code",
   "execution_count": null,
   "metadata": {},
   "outputs": [],
   "source": [
    "# Compile list of unique overlays, and see how well that matches with the dict\n",
    "unique_overlays = pd.DataFrame(split.o1.append(split.o2).append(split.o3))"
   ]
  },
  {
   "cell_type": "code",
   "execution_count": null,
   "metadata": {},
   "outputs": [],
   "source": [
    "unique_overlays.rename(columns = {0: 'overlay'}, inplace = True)\n",
    "unique_overlays.overlay = unique_overlays.overlay.str.strip()\n",
    "unique_overlays = unique_overlays.drop_duplicates()\n",
    "unique_overlays = unique_overlays.reset_index().drop(columns = ['index'])"
   ]
  },
  {
   "cell_type": "code",
   "execution_count": null,
   "metadata": {},
   "outputs": [],
   "source": [
    "unique_overlays['overlay_descrip'] = unique_overlays.overlay.map(supplemental_use_dict)"
   ]
  },
  {
   "cell_type": "code",
   "execution_count": null,
   "metadata": {},
   "outputs": [],
   "source": [
    "unique_overlays[unique_overlays.overlay_descrip.isna()]"
   ]
  },
  {
   "cell_type": "code",
   "execution_count": null,
   "metadata": {},
   "outputs": [],
   "source": [
    "# What is SP? Specific Plan?\n",
    "# Also, can't find H"
   ]
  },
  {
   "cell_type": "markdown",
   "metadata": {},
   "source": [
    "## Misclasified\n",
    "* Manually fix?"
   ]
  },
  {
   "cell_type": "code",
   "execution_count": null,
   "metadata": {},
   "outputs": [],
   "source": [
    "# This is not working as it should -- o2 and o3 aren't getting filled\n",
    "for col in ['o1', 'o2', 'o3']:\n",
    "    new_col = f'{col}_descrip'\n",
    "    df[col] = df[col].str.strip()\n",
    "    df[new_col] = df[col].map(supplemental_use_dict)\n",
    "    df[new_col] = df[new_col].fillna('')"
   ]
  },
  {
   "cell_type": "code",
   "execution_count": null,
   "metadata": {},
   "outputs": [],
   "source": [
    "df.head()"
   ]
  },
  {
   "cell_type": "code",
   "execution_count": null,
   "metadata": {},
   "outputs": [],
   "source": []
  },
  {
   "cell_type": "code",
   "execution_count": null,
   "metadata": {},
   "outputs": [],
   "source": [
    "split = pd.DataFrame(just_overlay['overlay'].values.tolist(), columns = ['o1','o2', 'o3'], index = just_overlay.index).fillna('')\n",
    "\n",
    "tag_overlays = pd.concat([just_overlay, split], axis = 1)\n",
    "\n",
    "tag_overlays.head()"
   ]
  },
  {
   "cell_type": "code",
   "execution_count": null,
   "metadata": {},
   "outputs": [],
   "source": []
  },
  {
   "cell_type": "code",
   "execution_count": null,
   "metadata": {},
   "outputs": [],
   "source": [
    "def find_overlays(row, overlays, op=all):\n",
    "    if row.overlay is None:\n",
    "        return False\n",
    "    else:\n",
    "        return op([o in row.overlay for o in overlays])\n",
    "\n",
    "df[df.apply(lambda x: find_overlays(x, ['RIO', 'CDO'], op=any), axis=1)]"
   ]
  },
  {
   "cell_type": "code",
   "execution_count": null,
   "metadata": {},
   "outputs": [],
   "source": [
    "# Need to clean up where o1 didn't map to anything, and o2 and o3 are filled. Make sure the stuff that isn't overlays is removed.\n",
    "# Maybe do long first, then make wide again?"
   ]
  },
  {
   "cell_type": "code",
   "execution_count": null,
   "metadata": {},
   "outputs": [],
   "source": [
    "# Address the Nones first before converting to int\n",
    "\"\"\" \n",
    "Q: Qualified Classification are restrictions to ensure compatibility with surrounding property\n",
    "T: Tentative Zone Classifications are City Council requirements for public improvements\n",
    "\n",
    "for col in ['Q', 'T']:\n",
    "    df[col] = df[col].astype(int)\n",
    "\"\"\""
   ]
  },
  {
   "cell_type": "markdown",
   "metadata": {},
   "source": [
    "## Merge back together"
   ]
  },
  {
   "cell_type": "code",
   "execution_count": null,
   "metadata": {},
   "outputs": [],
   "source": [
    "full = catalog.zoning.read()\n",
    "full.crs = {'init':'epsg:2229'}"
   ]
  },
  {
   "cell_type": "code",
   "execution_count": null,
   "metadata": {},
   "outputs": [],
   "source": [
    "df2 = pd.merge(full, df, on = 'ZONE_CMPLT', how = 'left', validate = 'm:1')"
   ]
  }
 ],
 "metadata": {
  "kernelspec": {
   "display_name": "Python 3",
   "language": "python",
   "name": "python3"
  },
  "language_info": {
   "codemirror_mode": {
    "name": "ipython",
    "version": 3
   },
   "file_extension": ".py",
   "mimetype": "text/x-python",
   "name": "python",
   "nbconvert_exporter": "python",
   "pygments_lexer": "ipython3",
   "version": "3.7.3"
  }
 },
 "nbformat": 4,
 "nbformat_minor": 4
}
