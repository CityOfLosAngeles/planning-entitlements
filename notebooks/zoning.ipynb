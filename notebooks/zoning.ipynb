{
 "cells": [
  {
   "cell_type": "markdown",
   "metadata": {},
   "source": [
    "# Clean ZIMAS / zoning file"
   ]
  },
  {
   "cell_type": "code",
   "execution_count": 26,
   "metadata": {},
   "outputs": [],
   "source": [
    "import numpy as np\n",
    "import pandas as pd\n",
    "import geopandas as gpd\n",
    "import intake\n",
    "import utils"
   ]
  },
  {
   "cell_type": "code",
   "execution_count": 27,
   "metadata": {},
   "outputs": [],
   "source": [
    "catalog = intake.open_catalog(\"../catalogs/*.yml\")"
   ]
  },
  {
   "cell_type": "code",
   "execution_count": 28,
   "metadata": {},
   "outputs": [],
   "source": [
    "# Default value of display.max_rows is 10 i.e. at max 10 rows will be printed.\n",
    "# Set it None to display all rows in the dataframe\n",
    "pd.set_option('display.max_rows', None)"
   ]
  },
  {
   "cell_type": "markdown",
   "metadata": {},
   "source": [
    "## Parse zoning string"
   ]
  },
  {
   "cell_type": "code",
   "execution_count": 29,
   "metadata": {},
   "outputs": [],
   "source": [
    "df = catalog.zoning.read()\n",
    "df = df[['ZONE_CMPLT']].drop_duplicates()"
   ]
  },
  {
   "cell_type": "code",
   "execution_count": 30,
   "metadata": {},
   "outputs": [
    {
     "data": {
      "text/html": [
       "<div>\n",
       "<style scoped>\n",
       "    .dataframe tbody tr th:only-of-type {\n",
       "        vertical-align: middle;\n",
       "    }\n",
       "\n",
       "    .dataframe tbody tr th {\n",
       "        vertical-align: top;\n",
       "    }\n",
       "\n",
       "    .dataframe thead th {\n",
       "        text-align: right;\n",
       "    }\n",
       "</style>\n",
       "<table border=\"1\" class=\"dataframe\">\n",
       "  <thead>\n",
       "    <tr style=\"text-align: right;\">\n",
       "      <th></th>\n",
       "      <th>z1</th>\n",
       "      <th>z2</th>\n",
       "      <th>z3</th>\n",
       "      <th>z4</th>\n",
       "      <th>z5</th>\n",
       "    </tr>\n",
       "  </thead>\n",
       "  <tbody>\n",
       "    <tr>\n",
       "      <th>0</th>\n",
       "      <td>C2</td>\n",
       "      <td>1</td>\n",
       "      <td>SP</td>\n",
       "      <td></td>\n",
       "      <td></td>\n",
       "    </tr>\n",
       "    <tr>\n",
       "      <th>1</th>\n",
       "      <td>C1.5</td>\n",
       "      <td>1</td>\n",
       "      <td>SP</td>\n",
       "      <td></td>\n",
       "      <td></td>\n",
       "    </tr>\n",
       "    <tr>\n",
       "      <th>4</th>\n",
       "      <td>[Q]C1.5</td>\n",
       "      <td>1</td>\n",
       "      <td></td>\n",
       "      <td></td>\n",
       "      <td></td>\n",
       "    </tr>\n",
       "    <tr>\n",
       "      <th>10</th>\n",
       "      <td>[Q]C1.5</td>\n",
       "      <td>1</td>\n",
       "      <td>RIO</td>\n",
       "      <td></td>\n",
       "      <td></td>\n",
       "    </tr>\n",
       "    <tr>\n",
       "      <th>12</th>\n",
       "      <td>[Q]C1.5</td>\n",
       "      <td>1</td>\n",
       "      <td>O</td>\n",
       "      <td></td>\n",
       "      <td></td>\n",
       "    </tr>\n",
       "  </tbody>\n",
       "</table>\n",
       "</div>"
      ],
      "text/plain": [
       "         z1 z2   z3 z4 z5\n",
       "0        C2  1   SP      \n",
       "1      C1.5  1   SP      \n",
       "4   [Q]C1.5  1           \n",
       "10  [Q]C1.5  1  RIO      \n",
       "12  [Q]C1.5  1    O      "
      ]
     },
     "execution_count": 30,
     "metadata": {},
     "output_type": "execute_result"
    }
   ],
   "source": [
    "split = df.ZONE_CMPLT.str.split('-', expand = True)\n",
    "split.rename(columns = {0: 'z1', 1: 'z2', 2: 'z3', 3: 'z4', 4: 'z5'}, inplace = True)\n",
    "\n",
    "# Replace any Nones with blanks, so that later, function can iterate over those as strings\n",
    "for col in ['z1', 'z2', 'z3', 'z4', 'z5']:\n",
    "    split[col] = split[col].fillna('')\n",
    "\n",
    "split.head()"
   ]
  },
  {
   "cell_type": "code",
   "execution_count": 31,
   "metadata": {},
   "outputs": [],
   "source": [
    "df = pd.concat([df, split], axis = 1)"
   ]
  },
  {
   "cell_type": "code",
   "execution_count": 32,
   "metadata": {},
   "outputs": [
    {
     "data": {
      "text/html": [
       "<div>\n",
       "<style scoped>\n",
       "    .dataframe tbody tr th:only-of-type {\n",
       "        vertical-align: middle;\n",
       "    }\n",
       "\n",
       "    .dataframe tbody tr th {\n",
       "        vertical-align: top;\n",
       "    }\n",
       "\n",
       "    .dataframe thead th {\n",
       "        text-align: right;\n",
       "    }\n",
       "</style>\n",
       "<table border=\"1\" class=\"dataframe\">\n",
       "  <thead>\n",
       "    <tr style=\"text-align: right;\">\n",
       "      <th></th>\n",
       "      <th>ZONE_CMPLT</th>\n",
       "      <th>z1</th>\n",
       "      <th>z2</th>\n",
       "      <th>z3</th>\n",
       "      <th>z4</th>\n",
       "      <th>z5</th>\n",
       "    </tr>\n",
       "  </thead>\n",
       "  <tbody>\n",
       "    <tr>\n",
       "      <th>0</th>\n",
       "      <td>C2-1-SP</td>\n",
       "      <td>C2</td>\n",
       "      <td>1</td>\n",
       "      <td>SP</td>\n",
       "      <td></td>\n",
       "      <td></td>\n",
       "    </tr>\n",
       "    <tr>\n",
       "      <th>1</th>\n",
       "      <td>C1.5-1-SP</td>\n",
       "      <td>C1.5</td>\n",
       "      <td>1</td>\n",
       "      <td>SP</td>\n",
       "      <td></td>\n",
       "      <td></td>\n",
       "    </tr>\n",
       "    <tr>\n",
       "      <th>4</th>\n",
       "      <td>[Q]C1.5-1</td>\n",
       "      <td>[Q]C1.5</td>\n",
       "      <td>1</td>\n",
       "      <td></td>\n",
       "      <td></td>\n",
       "      <td></td>\n",
       "    </tr>\n",
       "    <tr>\n",
       "      <th>10</th>\n",
       "      <td>[Q]C1.5-1-RIO</td>\n",
       "      <td>[Q]C1.5</td>\n",
       "      <td>1</td>\n",
       "      <td>RIO</td>\n",
       "      <td></td>\n",
       "      <td></td>\n",
       "    </tr>\n",
       "    <tr>\n",
       "      <th>12</th>\n",
       "      <td>[Q]C1.5-1-O</td>\n",
       "      <td>[Q]C1.5</td>\n",
       "      <td>1</td>\n",
       "      <td>O</td>\n",
       "      <td></td>\n",
       "      <td></td>\n",
       "    </tr>\n",
       "  </tbody>\n",
       "</table>\n",
       "</div>"
      ],
      "text/plain": [
       "       ZONE_CMPLT       z1 z2   z3 z4 z5\n",
       "0         C2-1-SP       C2  1   SP      \n",
       "1       C1.5-1-SP     C1.5  1   SP      \n",
       "4       [Q]C1.5-1  [Q]C1.5  1           \n",
       "10  [Q]C1.5-1-RIO  [Q]C1.5  1  RIO      \n",
       "12    [Q]C1.5-1-O  [Q]C1.5  1    O      "
      ]
     },
     "execution_count": 32,
     "metadata": {},
     "output_type": "execute_result"
    }
   ],
   "source": [
    "df.head()"
   ]
  },
  {
   "cell_type": "code",
   "execution_count": 33,
   "metadata": {},
   "outputs": [],
   "source": [
    "def zone_class(row):\n",
    "    \"\"\"\n",
    "    This function tags the 35 different zone classes based\n",
    "    on the first letter\n",
    "    \"\"\"\n",
    "    residential_zones = ['RA', 'RE', 'RS', 'R1', 'RU', 'RZ', 'RW1', \n",
    "                         'R2', 'RD', 'RMP', 'RW2', 'R3', 'RAS3', 'R4', 'RAS4', 'R5']\n",
    "    commercial_zones = ['CR', 'C1', 'C1.5', 'C4' ,'C2', 'C5', 'CM']\n",
    "    manufacturing_zones = ['MR1', 'M1', 'MR2', 'M2', 'M3']\n",
    "    \n",
    "    text = row.z1\n",
    "    \n",
    "    if 'OS' in text:\n",
    "        return 'open_space'\n",
    "    elif ('A1' in text) or ('A2' in text):\n",
    "        return 'agricultural'\n",
    "    elif any(zone in text for zone in residential_zones):\n",
    "        return 'residential'\n",
    "    elif any(zone in text for zone in commercial_zones):\n",
    "        return 'commercial'\n",
    "    elif any(zone in text for zone in manufacturing_zones):\n",
    "        return 'manufacturing'\n",
    "    elif 'PF' in text:\n",
    "        return 'public_facility'\n",
    "    elif (('P' in text) or ('PB' in text)) and ('PF' not in text):\n",
    "        return 'parking'\n",
    "    elif 'SL' in text:\n",
    "        return 'submerged_lands'\n",
    "    else:\n",
    "        return ''\n",
    "\n",
    "df['zone_class'] = df.apply(zone_class, axis = 1)     "
   ]
  },
  {
   "cell_type": "code",
   "execution_count": 34,
   "metadata": {},
   "outputs": [
    {
     "data": {
      "text/plain": [
       "residential        892\n",
       "commercial         580\n",
       "manufacturing      146\n",
       "parking            115\n",
       "public_facility     69\n",
       "agricultural        55\n",
       "open_space          42\n",
       "                    33\n",
       "submerged_lands      2\n",
       "Name: zone_class, dtype: int64"
      ]
     },
     "execution_count": 34,
     "metadata": {},
     "output_type": "execute_result"
    }
   ],
   "source": [
    "df.zone_class.value_counts()"
   ]
  },
  {
   "cell_type": "code",
   "execution_count": 35,
   "metadata": {},
   "outputs": [],
   "source": [
    "def prefix(row):\n",
    "    \"\"\"\n",
    "    This function tags the prefix, Q or T\n",
    "    Q: Qualified Classification are restrictions to ensure compatibility with surrounding property\n",
    "    T: Tentative Zone Classifications are City Council requirements for public improvements\n",
    "    \"\"\"\n",
    "    text = row.z1\n",
    "\n",
    "    if 'Q' in text:\n",
    "        return 'Q'\n",
    "    elif 'T' in text:\n",
    "        return 'T'\n",
    "    else:\n",
    "        return ''\n",
    "    \n",
    "df['prefix'] = df.apply(prefix, axis = 1)  "
   ]
  },
  {
   "cell_type": "code",
   "execution_count": 75,
   "metadata": {},
   "outputs": [],
   "source": [
    "# Fix prefixes..it's possible to have both Q and T\n",
    "for letter in ['Q', 'T']:\n",
    "    new_col = f'prefix_{letter}'\n",
    "    df[new_col] = df.apply(lambda row: 1 if letter in row.z1 else 0, axis = 1)\n",
    "    \n",
    "# This is still imperfect...sometimes T is not enclosed in parantheses or brackets, but there are also cases where specific plan is listed as the first substring"
   ]
  },
  {
   "cell_type": "code",
   "execution_count": 78,
   "metadata": {},
   "outputs": [
    {
     "data": {
      "text/html": [
       "<div>\n",
       "<style scoped>\n",
       "    .dataframe tbody tr th:only-of-type {\n",
       "        vertical-align: middle;\n",
       "    }\n",
       "\n",
       "    .dataframe tbody tr th {\n",
       "        vertical-align: top;\n",
       "    }\n",
       "\n",
       "    .dataframe thead th {\n",
       "        text-align: right;\n",
       "    }\n",
       "</style>\n",
       "<table border=\"1\" class=\"dataframe\">\n",
       "  <thead>\n",
       "    <tr style=\"text-align: right;\">\n",
       "      <th></th>\n",
       "      <th>ZONE_CMPLT</th>\n",
       "      <th>z1</th>\n",
       "      <th>z2</th>\n",
       "      <th>z3</th>\n",
       "      <th>z4</th>\n",
       "      <th>z5</th>\n",
       "      <th>zone_class</th>\n",
       "      <th>prefix</th>\n",
       "      <th>height_district</th>\n",
       "      <th>height_district_d_limit</th>\n",
       "      <th>prefix_Q</th>\n",
       "      <th>prefix_T</th>\n",
       "    </tr>\n",
       "  </thead>\n",
       "  <tbody>\n",
       "    <tr>\n",
       "      <th>70</th>\n",
       "      <td>(WC)TOPANGA-SN-RIO</td>\n",
       "      <td>(WC)TOPANGA</td>\n",
       "      <td>SN</td>\n",
       "      <td>RIO</td>\n",
       "      <td></td>\n",
       "      <td></td>\n",
       "      <td>parking</td>\n",
       "      <td>T</td>\n",
       "      <td></td>\n",
       "      <td></td>\n",
       "      <td>0</td>\n",
       "      <td>1</td>\n",
       "    </tr>\n",
       "    <tr>\n",
       "      <th>609</th>\n",
       "      <td>(T)(Q)C2-2D</td>\n",
       "      <td>(T)(Q)C2</td>\n",
       "      <td>2D</td>\n",
       "      <td></td>\n",
       "      <td></td>\n",
       "      <td></td>\n",
       "      <td>commercial</td>\n",
       "      <td>Q</td>\n",
       "      <td>2</td>\n",
       "      <td>2</td>\n",
       "      <td>1</td>\n",
       "      <td>1</td>\n",
       "    </tr>\n",
       "    <tr>\n",
       "      <th>686</th>\n",
       "      <td>(T)(Q)RAS4-1</td>\n",
       "      <td>(T)(Q)RAS4</td>\n",
       "      <td>1</td>\n",
       "      <td></td>\n",
       "      <td></td>\n",
       "      <td></td>\n",
       "      <td>residential</td>\n",
       "      <td>Q</td>\n",
       "      <td>1</td>\n",
       "      <td>1</td>\n",
       "      <td>1</td>\n",
       "      <td>1</td>\n",
       "    </tr>\n",
       "    <tr>\n",
       "      <th>745</th>\n",
       "      <td>(T)(Q)C2-1-CDO</td>\n",
       "      <td>(T)(Q)C2</td>\n",
       "      <td>1</td>\n",
       "      <td>CDO</td>\n",
       "      <td></td>\n",
       "      <td></td>\n",
       "      <td>commercial</td>\n",
       "      <td>Q</td>\n",
       "      <td>1</td>\n",
       "      <td>1</td>\n",
       "      <td>1</td>\n",
       "      <td>1</td>\n",
       "    </tr>\n",
       "    <tr>\n",
       "      <th>800</th>\n",
       "      <td>[T][Q]C2-1D</td>\n",
       "      <td>[T][Q]C2</td>\n",
       "      <td>1D</td>\n",
       "      <td></td>\n",
       "      <td></td>\n",
       "      <td></td>\n",
       "      <td>commercial</td>\n",
       "      <td>Q</td>\n",
       "      <td>1</td>\n",
       "      <td>1</td>\n",
       "      <td>1</td>\n",
       "      <td>1</td>\n",
       "    </tr>\n",
       "  </tbody>\n",
       "</table>\n",
       "</div>"
      ],
      "text/plain": [
       "             ZONE_CMPLT           z1  z2   z3 z4 z5   zone_class prefix  \\\n",
       "70   (WC)TOPANGA-SN-RIO  (WC)TOPANGA  SN  RIO            parking      T   \n",
       "609         (T)(Q)C2-2D     (T)(Q)C2  2D              commercial      Q   \n",
       "686        (T)(Q)RAS4-1   (T)(Q)RAS4   1             residential      Q   \n",
       "745      (T)(Q)C2-1-CDO     (T)(Q)C2   1  CDO         commercial      Q   \n",
       "800         [T][Q]C2-1D     [T][Q]C2  1D              commercial      Q   \n",
       "\n",
       "    height_district height_district_d_limit  prefix_Q  prefix_T  \n",
       "70                                                  0         1  \n",
       "609               2                       2         1         1  \n",
       "686               1                       1         1         1  \n",
       "745               1                       1         1         1  \n",
       "800               1                       1         1         1  "
      ]
     },
     "execution_count": 78,
     "metadata": {},
     "output_type": "execute_result"
    }
   ],
   "source": [
    "df[df.prefix_T == 1].head()"
   ]
  },
  {
   "cell_type": "code",
   "execution_count": 36,
   "metadata": {},
   "outputs": [
    {
     "data": {
      "text/plain": [
       "Q    1003\n",
       "      863\n",
       "T      68\n",
       "Name: prefix, dtype: int64"
      ]
     },
     "execution_count": 36,
     "metadata": {},
     "output_type": "execute_result"
    }
   ],
   "source": [
    "df.prefix.value_counts()"
   ]
  },
  {
   "cell_type": "code",
   "execution_count": 94,
   "metadata": {},
   "outputs": [],
   "source": [
    "# Make a dictionary for height district\n",
    "height_district_and_d_limit = {\n",
    "    '1': '1', \n",
    "    '1D': '1D', \n",
    "    '1L': '1L', \n",
    "    '1LD': '1LD', \n",
    "    '1VL': '1VL', \n",
    "    '1VLD': '1VLD', \n",
    "    '1XL': '1XL', \n",
    "    '1XLD': '1XLD', \n",
    "    '1SS': '1SS',\n",
    "    '1SSD': '1SSD', \n",
    "    '2': '2', \n",
    "    '2D': '2D',\n",
    "    '3': '3',\n",
    "    '3D': '3D',\n",
    "    '4': '4',\n",
    "    '4D': '4D',\n",
    "}\n",
    "\n",
    "\n",
    "df['height_district_d_limit'] = df.z2.map(height_district_and_d_limit)\n",
    "df.height_district_d_limit = df.height_district_d_limit.fillna('')\n",
    "\n",
    "# Now truncate the D off and get just the height district portion\n",
    "df['height_district'] = df.apply(lambda row: row.height_district_d_limit[:-1] if 'D' in row.height_district_d_limit\n",
    "                                 else row.height_district_d_limit, axis = 1)\n",
    "\n",
    "#for col in ['z1', 'z2', 'z3', 'z4', 'z5']:\n",
    "    #height_district_dict.get(col, '')\n",
    "# df[\"Date\"] = df[\"Member\"].apply(lambda x: d.get(x))"
   ]
  },
  {
   "cell_type": "code",
   "execution_count": 95,
   "metadata": {},
   "outputs": [
    {
     "data": {
      "text/plain": [
       "1      860\n",
       "1VL    393\n",
       "2      249\n",
       "1XL    195\n",
       "1L     102\n",
       "        88\n",
       "4       38\n",
       "3        9\n",
       "Name: height_district, dtype: int64"
      ]
     },
     "execution_count": 95,
     "metadata": {},
     "output_type": "execute_result"
    }
   ],
   "source": [
    "df.height_district.value_counts()"
   ]
  },
  {
   "cell_type": "code",
   "execution_count": 88,
   "metadata": {},
   "outputs": [],
   "source": [
    "df['d_limits'] = df.apply(lambda row: 'yes' if 'D' in row.height_district_d_limit else 'no', axis = 1)"
   ]
  },
  {
   "cell_type": "code",
   "execution_count": 37,
   "metadata": {},
   "outputs": [],
   "source": [
    "\"\"\" \n",
    "def height_district(row):\n",
    "    \"\"\"\n",
    "    This function tags the height district based on\n",
    "    Table 2 - Height Districts (Height, Stories, FAR & RFAR)\n",
    "    \"\"\"\n",
    "    text = row.z2\n",
    "            \n",
    "    if (text == '1') or (text == '1D'):\n",
    "        return '1'\n",
    "    elif (text == '1L') or (text == '1LD'):\n",
    "        return '1L'\n",
    "    elif (text == '1VL') or (text == '1VLD'):\n",
    "        return '1VL'\n",
    "    elif (text == '1XL') or (text == '1XLD'):\n",
    "        return '1XL'\n",
    "    elif (text == '1SS') or (text == '1SSD'):\n",
    "        return '1SS'\n",
    "    elif (text == '2') or (text == '2D'):\n",
    "        return '2'\n",
    "    elif (text == '3') or (text == '3D'):\n",
    "        return '3'\n",
    "    elif (text == '4') or (text == '4D'):\n",
    "        return '4'\n",
    "    else:\n",
    "        return ''\n",
    "    \n",
    "df['height_district'] = df.apply(height_district, axis = 1)\n",
    "\"\"\""
   ]
  },
  {
   "cell_type": "code",
   "execution_count": 14,
   "metadata": {},
   "outputs": [],
   "source": [
    "\"\"\"\n",
    "def d_limits(row):\n",
    "    \"\"\"\n",
    "    This function tags the development limits, which further restrict \n",
    "    height, FAR, % lot coverage, building setback. \n",
    "    Sometimes, height districts have additional development limits.\n",
    "    Tag this as 0 or 1, and only if there are already height districts.\n",
    "    If there are no height districts, then it's NaN.\n",
    "    \"\"\"\n",
    "    \n",
    "    yes_development_limits = ['1D', '1LD', '1VLD', '1XLD', '1SSD', \n",
    "                          '2D', '3D', '4D']\n",
    "    no_development_limits = ['1', '1L', '1VL', '1XL', '1SS', \n",
    "                          '2', '3', '4']\n",
    "    \n",
    "    text = row.z2\n",
    "    height = row.height_district\n",
    "    \n",
    "    if any(str in text for str in yes_development_limits) and (height != ''):\n",
    "        return 1\n",
    "    if any(str in text for str in no_development_limits) and (height != ''):\n",
    "        return 0\n",
    "    if height == '':\n",
    "        return np.nan\n",
    "    \n",
    "df['d_limits'] = df.apply(d_limits, axis = 1) \n",
    "\"\"\""
   ]
  },
  {
   "cell_type": "code",
   "execution_count": 15,
   "metadata": {},
   "outputs": [
    {
     "data": {
      "text/plain": [
       "0.0    1543\n",
       "1.0     303\n",
       "Name: d_limits, dtype: int64"
      ]
     },
     "execution_count": 15,
     "metadata": {},
     "output_type": "execute_result"
    }
   ],
   "source": [
    "df.d_limits.value_counts()"
   ]
  },
  {
   "cell_type": "code",
   "execution_count": 16,
   "metadata": {},
   "outputs": [],
   "source": [
    "# Find the last substring to parse, which can be between z2-z5\n",
    "df['num_substrings'] = df['ZONE_CMPLT'].str.count('-') + 1"
   ]
  },
  {
   "cell_type": "code",
   "execution_count": 17,
   "metadata": {},
   "outputs": [
    {
     "data": {
      "text/plain": [
       "3    907\n",
       "2    644\n",
       "4    323\n",
       "1     44\n",
       "5     16\n",
       "Name: num_substrings, dtype: int64"
      ]
     },
     "execution_count": 17,
     "metadata": {},
     "output_type": "execute_result"
    }
   ],
   "source": [
    "df.num_substrings.value_counts()"
   ]
  },
  {
   "cell_type": "code",
   "execution_count": 18,
   "metadata": {},
   "outputs": [
    {
     "data": {
      "text/html": [
       "<div>\n",
       "<style scoped>\n",
       "    .dataframe tbody tr th:only-of-type {\n",
       "        vertical-align: middle;\n",
       "    }\n",
       "\n",
       "    .dataframe tbody tr th {\n",
       "        vertical-align: top;\n",
       "    }\n",
       "\n",
       "    .dataframe thead th {\n",
       "        text-align: right;\n",
       "    }\n",
       "</style>\n",
       "<table border=\"1\" class=\"dataframe\">\n",
       "  <thead>\n",
       "    <tr style=\"text-align: right;\">\n",
       "      <th></th>\n",
       "      <th>ZONE_CMPLT</th>\n",
       "      <th>z1</th>\n",
       "      <th>z2</th>\n",
       "      <th>z3</th>\n",
       "      <th>z4</th>\n",
       "      <th>z5</th>\n",
       "      <th>zone_class</th>\n",
       "      <th>prefix</th>\n",
       "      <th>height_district</th>\n",
       "      <th>d_limits</th>\n",
       "      <th>num_substrings</th>\n",
       "    </tr>\n",
       "  </thead>\n",
       "  <tbody>\n",
       "    <tr>\n",
       "      <th>0</th>\n",
       "      <td>C2-1-SP</td>\n",
       "      <td>C2</td>\n",
       "      <td>1</td>\n",
       "      <td>SP</td>\n",
       "      <td></td>\n",
       "      <td></td>\n",
       "      <td>commercial</td>\n",
       "      <td></td>\n",
       "      <td>1</td>\n",
       "      <td>0.0</td>\n",
       "      <td>3</td>\n",
       "    </tr>\n",
       "    <tr>\n",
       "      <th>1</th>\n",
       "      <td>C1.5-1-SP</td>\n",
       "      <td>C1.5</td>\n",
       "      <td>1</td>\n",
       "      <td>SP</td>\n",
       "      <td></td>\n",
       "      <td></td>\n",
       "      <td>commercial</td>\n",
       "      <td></td>\n",
       "      <td>1</td>\n",
       "      <td>0.0</td>\n",
       "      <td>3</td>\n",
       "    </tr>\n",
       "    <tr>\n",
       "      <th>10</th>\n",
       "      <td>[Q]C1.5-1-RIO</td>\n",
       "      <td>[Q]C1.5</td>\n",
       "      <td>1</td>\n",
       "      <td>RIO</td>\n",
       "      <td></td>\n",
       "      <td></td>\n",
       "      <td>commercial</td>\n",
       "      <td>Q</td>\n",
       "      <td>1</td>\n",
       "      <td>0.0</td>\n",
       "      <td>3</td>\n",
       "    </tr>\n",
       "    <tr>\n",
       "      <th>12</th>\n",
       "      <td>[Q]C1.5-1-O</td>\n",
       "      <td>[Q]C1.5</td>\n",
       "      <td>1</td>\n",
       "      <td>O</td>\n",
       "      <td></td>\n",
       "      <td></td>\n",
       "      <td>commercial</td>\n",
       "      <td>Q</td>\n",
       "      <td>1</td>\n",
       "      <td>0.0</td>\n",
       "      <td>3</td>\n",
       "    </tr>\n",
       "    <tr>\n",
       "      <th>13</th>\n",
       "      <td>[Q]C1.5-1VL-CUGU</td>\n",
       "      <td>[Q]C1.5</td>\n",
       "      <td>1VL</td>\n",
       "      <td>CUGU</td>\n",
       "      <td></td>\n",
       "      <td></td>\n",
       "      <td>commercial</td>\n",
       "      <td>Q</td>\n",
       "      <td>1VL</td>\n",
       "      <td>0.0</td>\n",
       "      <td>3</td>\n",
       "    </tr>\n",
       "  </tbody>\n",
       "</table>\n",
       "</div>"
      ],
      "text/plain": [
       "          ZONE_CMPLT       z1   z2    z3 z4 z5  zone_class prefix  \\\n",
       "0            C2-1-SP       C2    1    SP        commercial          \n",
       "1          C1.5-1-SP     C1.5    1    SP        commercial          \n",
       "10     [Q]C1.5-1-RIO  [Q]C1.5    1   RIO        commercial      Q   \n",
       "12       [Q]C1.5-1-O  [Q]C1.5    1     O        commercial      Q   \n",
       "13  [Q]C1.5-1VL-CUGU  [Q]C1.5  1VL  CUGU        commercial      Q   \n",
       "\n",
       "   height_district  d_limits  num_substrings  \n",
       "0                1       0.0               3  \n",
       "1                1       0.0               3  \n",
       "10               1       0.0               3  \n",
       "12               1       0.0               3  \n",
       "13             1VL       0.0               3  "
      ]
     },
     "execution_count": 18,
     "metadata": {},
     "output_type": "execute_result"
    }
   ],
   "source": [
    "df[df.num_substrings==3].head()"
   ]
  },
  {
   "cell_type": "code",
   "execution_count": null,
   "metadata": {},
   "outputs": [],
   "source": [
    "# Make a dictionary for supplemental use\n",
    "supplemental_use_dict = {\n",
    "    'O': 'oil_drilling', \n",
    "    'S': 'animal_slaughtering', \n",
    "    'G': 'surface_mining', \n",
    "    'K': 'equinekeeping', \n",
    "    'CA': 'commercial_and_artcraft', \n",
    "    'MU': 'mixed_use', \n",
    "    'FH': 'fence_heights', \n",
    "    'SN': 'sign', \n",
    "    'HS': 'hillside_standards',\n",
    "    'RG': 'rear_detached_garage', \n",
    "    'RPD': 'residential_planned_development', \n",
    "    'POD': 'pedestrian_oriented_district',\n",
    "    'CDO': 'community_design_overlay',\n",
    "    'NSO': 'neighborhood_stabilization_ordinance',\n",
    "    'RFA': 'residential_floor_area',\n",
    "    'MPR': 'modified_parking_requirement',\n",
    "    'RIO': 'river_improvement_overlay',\n",
    "    'HCR': 'hillside_construction_regulation',\n",
    "    'CPIO': 'community_plan_implementation_overlay',\n",
    "    'CUGU': 'clean_up_green_up_overlay',\n",
    "}"
   ]
  },
  {
   "cell_type": "code",
   "execution_count": null,
   "metadata": {},
   "outputs": [],
   "source": [
    "# Make a dictionary for other zoning designation\n",
    "other_zoning_dict = {\n",
    "    'CW': 'central_city_west_specific_plan', \n",
    "    'GM': 'glencoe_maxella_specific_plan', \n",
    "    'OX': 'oxford_triangle_specific_plan', \n",
    "    'PV': 'playa_vista_specific_plan', \n",
    "    'WC': 'warner_center_specific_plan', \n",
    "    'ADP': 'alameda_district_specific_plan', \n",
    "    'CCS': 'century_city_south_studio_zone', \n",
    "    'CSA': 'centers_study_area', \n",
    "    'PKM': 'park_mile_specific_plan',\n",
    "    'LAX': 'los_angeles_airport_specific_plan', \n",
    "    'HPOZ': 'historic_preservation_overlay_zone', \n",
    "    'LASED': 'la_sports_and_entertainment_specific_plan',\n",
    "    'USC-1A': 'usc_university_park_campus_specific_plan_subarea_1a_zone',\n",
    "    'USC-1B': 'usc_university_park_campus_specific_plan_subarea_1b_zone',    \n",
    "    'USC-2': 'usc_university_park_campus_specific_plan_subarea_2_zone',\n",
    "    'USC-3': 'usc_university_park_campus_specific_plan_subarea_3_zone',\n",
    "    'PVSP': 'ponte_vista_at_san_pedro_specific_plan'\n",
    "}"
   ]
  },
  {
   "cell_type": "code",
   "execution_count": 20,
   "metadata": {},
   "outputs": [],
   "source": [
    "\"\"\"\n",
    "def supplemental_use_district(row):\n",
    "    \"\"\"\n",
    "    This function tags the supplemental use districts / overlays.\n",
    "    These appear at the end of the zoning string, after the height/development limits (if there are any).\n",
    "    List in order of 1 letter, 2, 3, 4 letters. Can overwrite if need be as it loops through each row.\n",
    "    \"\"\"\n",
    "    \n",
    "    text = row.ZONE_CMPLT\n",
    "    text2 = row.z2\n",
    "    text3 = row.z3\n",
    "    text4 = row.z4\n",
    "    text5 = row.z5\n",
    "    parts = row.num_substrings\n",
    "    \n",
    "    if (('O' in text2) and (parts == 2)) or (('O' in text3) and (parts == 3)) or (('O' in text4) and (parts == 4)) or (('O' in text5) and (parts ==5)):\n",
    "        return 'oil_drilling'\n",
    "    if (('S' in text2) and (parts == 2)) or (('S' in text3) and (parts == 3)) or (('S' in text4) and (parts == 4)) or (('S' in text5) and (parts ==5)):\n",
    "        return 'animal_slaughtering'\n",
    "    if (('G' in text2) and (parts == 2)) or (('G' in text3) and (parts == 3)) or (('G' in text4) and (parts == 4)) or (('G' in text5) and (parts ==5)):\n",
    "        return 'surface_mining'\n",
    "    if (('K' in text2) and (parts == 2)) or (('K' in text3) and (parts == 3)) or (('K' in text4) and (parts == 4)) or (('K' in text5) and (parts ==5)):\n",
    "        return 'equinekeeping'\n",
    "    \n",
    "    if 'CA' in text:\n",
    "        return 'commercial_and_artcraft'\n",
    "    if 'MU' in text:\n",
    "        return 'mixed_use'\n",
    "    if 'FH' in text:\n",
    "        return 'fence_heights'\n",
    "    if 'SN' in text:\n",
    "        return 'sign'    \n",
    "    if 'HS' in text:\n",
    "        return 'hillside_standards' \n",
    "    if 'RG' in text:\n",
    "        return 'rear_detached_garage' \n",
    "    \n",
    "    if 'RPD' in text:\n",
    "        return 'residential_planned_development'\n",
    "    if 'POD' in text:\n",
    "        return 'pedestrian_oriented'\n",
    "    if 'CDO' in text:\n",
    "        return 'community_design_overlay'\n",
    "    if 'NSO' in text:\n",
    "        return 'neighborhood_stabilization_ordinance'\n",
    "    if 'RFA' in text:\n",
    "        return 'residential_floor_area'\n",
    "    if 'MPR' in text:\n",
    "        return 'modified_parking_requirement'\n",
    "    if 'RIO' in text:\n",
    "        return 'river_improvement_overlay'\n",
    "    if 'HCR' in text:\n",
    "        return 'hillside_construction_regulation'\n",
    "    \n",
    "    if 'CPIO' in text:\n",
    "        return 'community_plan_implementation_overlay'\n",
    "    if 'CUGU' in text:\n",
    "        return 'clean_up_green_up_overlay'\n",
    "    \n",
    "    else:\n",
    "        return ''\n",
    "\n",
    "df['supplemental_use'] = df.apply(supplemental_use_district, axis = 1) \n",
    "\"\"\""
   ]
  },
  {
   "cell_type": "code",
   "execution_count": 21,
   "metadata": {},
   "outputs": [
    {
     "data": {
      "text/plain": [
       "oil_drilling                        767\n",
       "                                    683\n",
       "surface_mining                      279\n",
       "animal_slaughtering                  65\n",
       "equinekeeping                        62\n",
       "hillside_construction_regulation     37\n",
       "commercial_and_artcraft              19\n",
       "residential_floor_area               12\n",
       "residential_planned_development       7\n",
       "mixed_use                             1\n",
       "river_improvement_overlay             1\n",
       "modified_parking_requirement          1\n",
       "Name: supplemental_use, dtype: int64"
      ]
     },
     "execution_count": 21,
     "metadata": {},
     "output_type": "execute_result"
    }
   ],
   "source": [
    "df.supplemental_use.value_counts()"
   ]
  },
  {
   "cell_type": "code",
   "execution_count": 24,
   "metadata": {},
   "outputs": [],
   "source": [
    "#df[df.supplemental_use == ''].ZONE_CMPLT.value_counts()"
   ]
  },
  {
   "cell_type": "code",
   "execution_count": 25,
   "metadata": {},
   "outputs": [],
   "source": [
    "\"\"\"\n",
    "def other_zoning_designation(row):\n",
    "    \"\"\"\n",
    "    This function tags the other zoning designations.\n",
    "    Is it possible that there are both supplemental uses & additional zoning designations?\n",
    "    Based off of Table 2.\n",
    "    \n",
    "    Also, there are additional specific plans found in Zoning Code Article 2, Sec 12.04 Zones - Districts - Symbols.\n",
    "    \"\"\"\n",
    "    \n",
    "    text = row.ZONE_CMPLT\n",
    "    \n",
    "    if 'CW' in text:\n",
    "        return 'central_city_west_specific_plan'   \n",
    "    if 'GM' in text :\n",
    "        return 'glencoe_maxella_specific_plan' \n",
    "    if 'OX' in text:\n",
    "        return 'oxford_triangle_specific_plan'    \n",
    "    if ('PV' in text) and ('PVSP' not in text):\n",
    "        return 'playa_vista_specific_plan'  \n",
    "    if 'WC' in text :\n",
    "        return 'warner_center_specific_plan'\n",
    "    \n",
    "    if 'ADP' in text:\n",
    "        return 'alameda_district_specific_plan'\n",
    "    if 'CCS' in text:\n",
    "        return 'century_city_south_studio_zone'\n",
    "    if 'CSA' in text:\n",
    "        return 'centers_study_area'\n",
    "    if 'PKM' in text :\n",
    "        return 'park_mile_specific_plan'\n",
    "    if 'LAX' in text:\n",
    "        return 'los_angeles_airport_specific_plan'\n",
    "    \n",
    "    if 'HPOZ' in text:\n",
    "        return 'historic_preservation_overlay_zone'\n",
    "    \n",
    "    if 'LASED' in text:\n",
    "        return 'la_sports_and_entertainment_specific_plan'\n",
    "    if 'USC-2' in text:\n",
    "        return 'usc_university_park_campus_specific_plan_subarea_2_zone'\n",
    "    if 'USC-3' in text:\n",
    "        return 'usc_university_park_campus_specific_plan_subarea_3_zone'\n",
    "    if 'PVSP' in text:\n",
    "        return 'ponte_vista_at_san_pedro_specific_plan'\n",
    "    \n",
    "    if 'USC-1A' in text:\n",
    "        return 'usc_university_park_campus_specific_plan_subarea_1a_zone'\n",
    "    if 'USC-1B' in text:\n",
    "        return 'usc_university_park_campus_specific_plan_subarea_1b_zone'\n",
    "    \n",
    "    else:\n",
    "        return ''\n",
    "\n",
    "df['other_zoning'] = df.apply(other_zoning_designation, axis = 1) \n",
    "\"\"\""
   ]
  },
  {
   "cell_type": "code",
   "execution_count": 27,
   "metadata": {},
   "outputs": [],
   "source": [
    "#df[df.other_zoning == ''].ZONE_CMPLT.value_counts()"
   ]
  },
  {
   "cell_type": "code",
   "execution_count": 28,
   "metadata": {},
   "outputs": [
    {
     "data": {
      "text/html": [
       "<div>\n",
       "<style scoped>\n",
       "    .dataframe tbody tr th:only-of-type {\n",
       "        vertical-align: middle;\n",
       "    }\n",
       "\n",
       "    .dataframe tbody tr th {\n",
       "        vertical-align: top;\n",
       "    }\n",
       "\n",
       "    .dataframe thead th {\n",
       "        text-align: right;\n",
       "    }\n",
       "</style>\n",
       "<table border=\"1\" class=\"dataframe\">\n",
       "  <thead>\n",
       "    <tr style=\"text-align: right;\">\n",
       "      <th></th>\n",
       "      <th>ZONE_CMPLT</th>\n",
       "      <th>z1</th>\n",
       "      <th>z2</th>\n",
       "      <th>z3</th>\n",
       "      <th>z4</th>\n",
       "      <th>z5</th>\n",
       "      <th>zone_class</th>\n",
       "      <th>prefix</th>\n",
       "      <th>height_district</th>\n",
       "      <th>d_limits</th>\n",
       "      <th>num_substrings</th>\n",
       "      <th>supplemental_use</th>\n",
       "      <th>other_zoning</th>\n",
       "    </tr>\n",
       "  </thead>\n",
       "  <tbody>\n",
       "    <tr>\n",
       "      <th>8449</th>\n",
       "      <td>ADP-RIO</td>\n",
       "      <td>ADP</td>\n",
       "      <td>RIO</td>\n",
       "      <td></td>\n",
       "      <td></td>\n",
       "      <td></td>\n",
       "      <td>parking</td>\n",
       "      <td></td>\n",
       "      <td></td>\n",
       "      <td>NaN</td>\n",
       "      <td>2</td>\n",
       "      <td>oil_drilling</td>\n",
       "      <td>alameda_district_specific_plan</td>\n",
       "    </tr>\n",
       "  </tbody>\n",
       "</table>\n",
       "</div>"
      ],
      "text/plain": [
       "     ZONE_CMPLT   z1   z2 z3 z4 z5 zone_class prefix height_district  \\\n",
       "8449    ADP-RIO  ADP  RIO             parking                          \n",
       "\n",
       "      d_limits  num_substrings supplemental_use  \\\n",
       "8449       NaN               2     oil_drilling   \n",
       "\n",
       "                        other_zoning  \n",
       "8449  alameda_district_specific_plan  "
      ]
     },
     "execution_count": 28,
     "metadata": {},
     "output_type": "execute_result"
    }
   ],
   "source": [
    "df[df.ZONE_CMPLT.str.contains('ADP')]"
   ]
  },
  {
   "cell_type": "code",
   "execution_count": null,
   "metadata": {},
   "outputs": [],
   "source": [
    "# There can be multiple supplemental uses...need to tag them all\n",
    "# Also, the 1 letter ones are incorrectly flagged"
   ]
  },
  {
   "cell_type": "markdown",
   "metadata": {},
   "source": [
    "## Merge back together"
   ]
  },
  {
   "cell_type": "code",
   "execution_count": null,
   "metadata": {},
   "outputs": [],
   "source": [
    "full = catalog.zoning.read()\n",
    "full.crs = {'init':'epsg:2229'}"
   ]
  },
  {
   "cell_type": "code",
   "execution_count": null,
   "metadata": {},
   "outputs": [],
   "source": [
    "df2 = pd.merge(full, df, on = 'ZONE_CMPLT', how = 'left', validate = 'm:1')"
   ]
  }
 ],
 "metadata": {
  "kernelspec": {
   "display_name": "Python 3",
   "language": "python",
   "name": "python3"
  },
  "language_info": {
   "codemirror_mode": {
    "name": "ipython",
    "version": 3
   },
   "file_extension": ".py",
   "mimetype": "text/x-python",
   "name": "python",
   "nbconvert_exporter": "python",
   "pygments_lexer": "ipython3",
   "version": "3.7.3"
  }
 },
 "nbformat": 4,
 "nbformat_minor": 4
}
