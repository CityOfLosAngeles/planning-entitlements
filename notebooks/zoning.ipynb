{
 "cells": [
  {
   "cell_type": "markdown",
   "metadata": {},
   "source": [
    "# Clean ZIMAS / zoning file\n",
    "* Use parser in utils to parse ZONE_CMPLT\n",
    "* Iterative process - work with Planning to figure out the ones that can't be parsed\n",
    "* Use this to build crosswalk of height, density, etc restrictions"
   ]
  },
  {
   "cell_type": "code",
   "execution_count": 1,
   "metadata": {},
   "outputs": [],
   "source": [
    "import numpy as np\n",
    "import pandas as pd\n",
    "import geopandas as gpd\n",
    "import intake\n",
    "import utils"
   ]
  },
  {
   "cell_type": "code",
   "execution_count": 2,
   "metadata": {},
   "outputs": [],
   "source": [
    "catalog = intake.open_catalog(\"../catalogs/*.yml\")"
   ]
  },
  {
   "cell_type": "code",
   "execution_count": null,
   "metadata": {},
   "outputs": [],
   "source": [
    "# Default value of display.max_rows is 10 i.e. at max 10 rows will be printed.\n",
    "# Set it None to display all rows in the dataframe\n",
    "pd.set_option('display.max_rows', None)"
   ]
  },
  {
   "cell_type": "code",
   "execution_count": null,
   "metadata": {},
   "outputs": [],
   "source": [
    "df = catalog.zoning.read()\n",
    "df = df[['ZONE_CMPLT']].drop_duplicates()"
   ]
  },
  {
   "cell_type": "code",
   "execution_count": 5,
   "metadata": {},
   "outputs": [],
   "source": [
    "df = pd.read_parquet('../data/zoning.parquet')"
   ]
  },
  {
   "cell_type": "markdown",
   "metadata": {},
   "source": [
    "## Parse zoning string"
   ]
  },
  {
   "cell_type": "code",
   "execution_count": 6,
   "metadata": {},
   "outputs": [
    {
     "data": {
      "text/html": [
       "<div>\n",
       "<style scoped>\n",
       "    .dataframe tbody tr th:only-of-type {\n",
       "        vertical-align: middle;\n",
       "    }\n",
       "\n",
       "    .dataframe tbody tr th {\n",
       "        vertical-align: top;\n",
       "    }\n",
       "\n",
       "    .dataframe thead th {\n",
       "        text-align: right;\n",
       "    }\n",
       "</style>\n",
       "<table border=\"1\" class=\"dataframe\">\n",
       "  <thead>\n",
       "    <tr style=\"text-align: right;\">\n",
       "      <th></th>\n",
       "      <th>ZONE_CMPLT</th>\n",
       "      <th>Q</th>\n",
       "      <th>T</th>\n",
       "      <th>zone_class</th>\n",
       "      <th>specific_plan</th>\n",
       "      <th>height_district</th>\n",
       "      <th>D</th>\n",
       "      <th>overlay</th>\n",
       "      <th>invalid_zone</th>\n",
       "      <th>invalid_height</th>\n",
       "    </tr>\n",
       "  </thead>\n",
       "  <tbody>\n",
       "    <tr>\n",
       "      <th>0</th>\n",
       "      <td>C2-1-SP</td>\n",
       "      <td>False</td>\n",
       "      <td>False</td>\n",
       "      <td>C2</td>\n",
       "      <td></td>\n",
       "      <td>1</td>\n",
       "      <td>False</td>\n",
       "      <td>[SP]</td>\n",
       "      <td></td>\n",
       "      <td></td>\n",
       "    </tr>\n",
       "    <tr>\n",
       "      <th>1</th>\n",
       "      <td>C1.5-1-SP</td>\n",
       "      <td>False</td>\n",
       "      <td>False</td>\n",
       "      <td>C1.5</td>\n",
       "      <td></td>\n",
       "      <td>1</td>\n",
       "      <td>False</td>\n",
       "      <td>[SP]</td>\n",
       "      <td></td>\n",
       "      <td></td>\n",
       "    </tr>\n",
       "    <tr>\n",
       "      <th>4</th>\n",
       "      <td>[Q]C1.5-1</td>\n",
       "      <td>True</td>\n",
       "      <td>False</td>\n",
       "      <td>C1.5</td>\n",
       "      <td></td>\n",
       "      <td>1</td>\n",
       "      <td>False</td>\n",
       "      <td>None</td>\n",
       "      <td></td>\n",
       "      <td></td>\n",
       "    </tr>\n",
       "    <tr>\n",
       "      <th>10</th>\n",
       "      <td>[Q]C1.5-1-RIO</td>\n",
       "      <td>True</td>\n",
       "      <td>False</td>\n",
       "      <td>C1.5</td>\n",
       "      <td></td>\n",
       "      <td>1</td>\n",
       "      <td>False</td>\n",
       "      <td>[RIO]</td>\n",
       "      <td></td>\n",
       "      <td></td>\n",
       "    </tr>\n",
       "    <tr>\n",
       "      <th>12</th>\n",
       "      <td>[Q]C1.5-1-O</td>\n",
       "      <td>True</td>\n",
       "      <td>False</td>\n",
       "      <td>C1.5</td>\n",
       "      <td></td>\n",
       "      <td>1</td>\n",
       "      <td>False</td>\n",
       "      <td>[O]</td>\n",
       "      <td></td>\n",
       "      <td></td>\n",
       "    </tr>\n",
       "  </tbody>\n",
       "</table>\n",
       "</div>"
      ],
      "text/plain": [
       "       ZONE_CMPLT      Q      T zone_class specific_plan height_district  \\\n",
       "0         C2-1-SP  False  False         C2                             1   \n",
       "1       C1.5-1-SP  False  False       C1.5                             1   \n",
       "4       [Q]C1.5-1   True  False       C1.5                             1   \n",
       "10  [Q]C1.5-1-RIO   True  False       C1.5                             1   \n",
       "12    [Q]C1.5-1-O   True  False       C1.5                             1   \n",
       "\n",
       "        D overlay invalid_zone invalid_height  \n",
       "0   False    [SP]                              \n",
       "1   False    [SP]                              \n",
       "4   False    None                              \n",
       "10  False   [RIO]                              \n",
       "12  False     [O]                              "
      ]
     },
     "execution_count": 6,
     "metadata": {},
     "output_type": "execute_result"
    }
   ],
   "source": [
    "parsed_col_names = ['Q', 'T', 'zone_class', 'specific_plan', 'height_district', 'D', 'overlay', 'invalid_zone', 'invalid_height']\n",
    "\n",
    "def parse_zoning(row):\n",
    "    try:\n",
    "        z = utils.ZoningInfo(row.ZONE_CMPLT)\n",
    "        return pd.Series([z.Q, z.T, z.zone_class, z.specific_plan, z.height_district, z.D, z.overlay, z.invalid_zone, z.invalid_height], \n",
    "                         index = parsed_col_names)\n",
    "    except ValueError:\n",
    "        return pd.Series(['failed', 'failed', 'failed', 'failed', 'failed', 'failed', 'failed', '', ''], \n",
    "                         index = parsed_col_names)\n",
    "\n",
    "    \n",
    "parsed = df.apply(parse_zoning, axis = 1)\n",
    "\n",
    "df = pd.concat([df, parsed], axis = 1)\n",
    "\n",
    "df.head()"
   ]
  },
  {
   "cell_type": "code",
   "execution_count": 7,
   "metadata": {},
   "outputs": [
    {
     "data": {
      "text/html": [
       "<div>\n",
       "<style scoped>\n",
       "    .dataframe tbody tr th:only-of-type {\n",
       "        vertical-align: middle;\n",
       "    }\n",
       "\n",
       "    .dataframe tbody tr th {\n",
       "        vertical-align: top;\n",
       "    }\n",
       "\n",
       "    .dataframe thead th {\n",
       "        text-align: right;\n",
       "    }\n",
       "</style>\n",
       "<table border=\"1\" class=\"dataframe\">\n",
       "  <thead>\n",
       "    <tr style=\"text-align: right;\">\n",
       "      <th></th>\n",
       "      <th>ZONE_CMPLT</th>\n",
       "      <th>Q</th>\n",
       "      <th>T</th>\n",
       "      <th>zone_class</th>\n",
       "      <th>specific_plan</th>\n",
       "      <th>height_district</th>\n",
       "      <th>D</th>\n",
       "      <th>overlay</th>\n",
       "      <th>invalid_zone</th>\n",
       "      <th>invalid_height</th>\n",
       "    </tr>\n",
       "  </thead>\n",
       "  <tbody>\n",
       "    <tr>\n",
       "      <th>10</th>\n",
       "      <td>[Q]C1.5-1-RIO</td>\n",
       "      <td>True</td>\n",
       "      <td>False</td>\n",
       "      <td>C1.5</td>\n",
       "      <td></td>\n",
       "      <td>1</td>\n",
       "      <td>False</td>\n",
       "      <td>[RIO]</td>\n",
       "      <td></td>\n",
       "      <td></td>\n",
       "    </tr>\n",
       "    <tr>\n",
       "      <th>5859</th>\n",
       "      <td>USC-1A</td>\n",
       "      <td>False</td>\n",
       "      <td>False</td>\n",
       "      <td>invalid</td>\n",
       "      <td>USC-1A</td>\n",
       "      <td></td>\n",
       "      <td>False</td>\n",
       "      <td>None</td>\n",
       "      <td></td>\n",
       "      <td></td>\n",
       "    </tr>\n",
       "    <tr>\n",
       "      <th>12398</th>\n",
       "      <td>GW(CA)</td>\n",
       "      <td>False</td>\n",
       "      <td>False</td>\n",
       "      <td>invalid</td>\n",
       "      <td>CA</td>\n",
       "      <td></td>\n",
       "      <td>False</td>\n",
       "      <td></td>\n",
       "      <td></td>\n",
       "      <td></td>\n",
       "    </tr>\n",
       "    <tr>\n",
       "      <th>15912</th>\n",
       "      <td>CW</td>\n",
       "      <td>False</td>\n",
       "      <td>False</td>\n",
       "      <td></td>\n",
       "      <td>CW</td>\n",
       "      <td></td>\n",
       "      <td>False</td>\n",
       "      <td>None</td>\n",
       "      <td></td>\n",
       "      <td></td>\n",
       "    </tr>\n",
       "    <tr>\n",
       "      <th>47002</th>\n",
       "      <td>R4(PV)</td>\n",
       "      <td>False</td>\n",
       "      <td>False</td>\n",
       "      <td>R4</td>\n",
       "      <td>PV</td>\n",
       "      <td></td>\n",
       "      <td>False</td>\n",
       "      <td></td>\n",
       "      <td></td>\n",
       "      <td></td>\n",
       "    </tr>\n",
       "    <tr>\n",
       "      <th>51123</th>\n",
       "      <td>SL</td>\n",
       "      <td>False</td>\n",
       "      <td>False</td>\n",
       "      <td>SL</td>\n",
       "      <td></td>\n",
       "      <td></td>\n",
       "      <td>False</td>\n",
       "      <td>None</td>\n",
       "      <td></td>\n",
       "      <td></td>\n",
       "    </tr>\n",
       "    <tr>\n",
       "      <th>59863</th>\n",
       "      <td>(T)(Q)RAS3-1L</td>\n",
       "      <td>True</td>\n",
       "      <td>True</td>\n",
       "      <td>RAS3</td>\n",
       "      <td></td>\n",
       "      <td>1L</td>\n",
       "      <td>False</td>\n",
       "      <td>None</td>\n",
       "      <td></td>\n",
       "      <td></td>\n",
       "    </tr>\n",
       "    <tr>\n",
       "      <th>59893</th>\n",
       "      <td>(T)M1-2D</td>\n",
       "      <td>False</td>\n",
       "      <td>True</td>\n",
       "      <td>M1</td>\n",
       "      <td></td>\n",
       "      <td>2</td>\n",
       "      <td>True</td>\n",
       "      <td>None</td>\n",
       "      <td></td>\n",
       "      <td></td>\n",
       "    </tr>\n",
       "    <tr>\n",
       "      <th>60015</th>\n",
       "      <td>OS(UV)</td>\n",
       "      <td>False</td>\n",
       "      <td>False</td>\n",
       "      <td>OS</td>\n",
       "      <td>UV</td>\n",
       "      <td></td>\n",
       "      <td>False</td>\n",
       "      <td></td>\n",
       "      <td></td>\n",
       "      <td></td>\n",
       "    </tr>\n",
       "  </tbody>\n",
       "</table>\n",
       "</div>"
      ],
      "text/plain": [
       "          ZONE_CMPLT      Q      T zone_class specific_plan height_district  \\\n",
       "10     [Q]C1.5-1-RIO   True  False       C1.5                             1   \n",
       "5859          USC-1A  False  False    invalid        USC-1A                   \n",
       "12398         GW(CA)  False  False    invalid            CA                   \n",
       "15912             CW  False  False                       CW                   \n",
       "47002         R4(PV)  False  False         R4            PV                   \n",
       "51123             SL  False  False         SL                                 \n",
       "59863  (T)(Q)RAS3-1L   True   True       RAS3                            1L   \n",
       "59893       (T)M1-2D  False   True         M1                             2   \n",
       "60015         OS(UV)  False  False         OS            UV                   \n",
       "\n",
       "           D overlay invalid_zone invalid_height  \n",
       "10     False   [RIO]                              \n",
       "5859   False    None                              \n",
       "12398  False                                      \n",
       "15912  False    None                              \n",
       "47002  False                                      \n",
       "51123  False    None                              \n",
       "59863  False    None                              \n",
       "59893   True    None                              \n",
       "60015  False                                      "
      ]
     },
     "execution_count": 7,
     "metadata": {},
     "output_type": "execute_result"
    }
   ],
   "source": [
    "# Check a couple of cases to see how well the parser worked\n",
    "df[df.ZONE_CMPLT.isin(['SL', 'USC-1A', 'CW', \n",
    "                       'R4(PV)', 'OS(UV)', 'GW(CA)', \n",
    "                      '[Q]C1.5-1-RIO', '(T)(Q)RAS3-1L', '(T)M1-2D'])]"
   ]
  },
  {
   "cell_type": "code",
   "execution_count": 14,
   "metadata": {},
   "outputs": [
    {
     "data": {
      "text/html": [
       "<div>\n",
       "<style scoped>\n",
       "    .dataframe tbody tr th:only-of-type {\n",
       "        vertical-align: middle;\n",
       "    }\n",
       "\n",
       "    .dataframe tbody tr th {\n",
       "        vertical-align: top;\n",
       "    }\n",
       "\n",
       "    .dataframe thead th {\n",
       "        text-align: right;\n",
       "    }\n",
       "</style>\n",
       "<table border=\"1\" class=\"dataframe\">\n",
       "  <thead>\n",
       "    <tr style=\"text-align: right;\">\n",
       "      <th></th>\n",
       "      <th>ZONE_CMPLT</th>\n",
       "    </tr>\n",
       "  </thead>\n",
       "  <tbody>\n",
       "    <tr>\n",
       "      <th>70</th>\n",
       "      <td>(WC)TOPANGA-SN-RIO</td>\n",
       "    </tr>\n",
       "    <tr>\n",
       "      <th>772</th>\n",
       "      <td>USC-3</td>\n",
       "    </tr>\n",
       "    <tr>\n",
       "      <th>1094</th>\n",
       "      <td>[Q]RZ5-1</td>\n",
       "    </tr>\n",
       "    <tr>\n",
       "      <th>1303</th>\n",
       "      <td>A2P-1</td>\n",
       "    </tr>\n",
       "    <tr>\n",
       "      <th>1369</th>\n",
       "      <td>(T)(Q)RZ5-1</td>\n",
       "    </tr>\n",
       "    <tr>\n",
       "      <th>1487</th>\n",
       "      <td>(T)R4P-2</td>\n",
       "    </tr>\n",
       "    <tr>\n",
       "      <th>1622</th>\n",
       "      <td>[Q]R2P-1-CDO</td>\n",
       "    </tr>\n",
       "    <tr>\n",
       "      <th>1678</th>\n",
       "      <td>[Q]R3P-1</td>\n",
       "    </tr>\n",
       "    <tr>\n",
       "      <th>1681</th>\n",
       "      <td>[Q]R3P-1L</td>\n",
       "    </tr>\n",
       "    <tr>\n",
       "      <th>1684</th>\n",
       "      <td>[Q]R3P-4-CDO</td>\n",
       "    </tr>\n",
       "    <tr>\n",
       "      <th>2000</th>\n",
       "      <td>(F)CM-1-CUGU</td>\n",
       "    </tr>\n",
       "    <tr>\n",
       "      <th>2007</th>\n",
       "      <td>(F)CM-1-HPOZ</td>\n",
       "    </tr>\n",
       "    <tr>\n",
       "      <th>2009</th>\n",
       "      <td>(F)CM-1-O-HPOZ</td>\n",
       "    </tr>\n",
       "    <tr>\n",
       "      <th>2010</th>\n",
       "      <td>(F)R2-1-RIO</td>\n",
       "    </tr>\n",
       "    <tr>\n",
       "      <th>2013</th>\n",
       "      <td>(F)RE11-1</td>\n",
       "    </tr>\n",
       "    <tr>\n",
       "      <th>2413</th>\n",
       "      <td>(Q)R3P-1</td>\n",
       "    </tr>\n",
       "    <tr>\n",
       "      <th>2414</th>\n",
       "      <td>(Q)R3P-1VL-CDO</td>\n",
       "    </tr>\n",
       "    <tr>\n",
       "      <th>2433</th>\n",
       "      <td>(Q)R4P-1-O</td>\n",
       "    </tr>\n",
       "    <tr>\n",
       "      <th>2669</th>\n",
       "      <td>UV(CA)</td>\n",
       "    </tr>\n",
       "    <tr>\n",
       "      <th>3284</th>\n",
       "      <td>UC(CA)-CDO</td>\n",
       "    </tr>\n",
       "    <tr>\n",
       "      <th>4818</th>\n",
       "      <td>[Q]CCS-O</td>\n",
       "    </tr>\n",
       "    <tr>\n",
       "      <th>5859</th>\n",
       "      <td>USC-1A</td>\n",
       "    </tr>\n",
       "    <tr>\n",
       "      <th>7025</th>\n",
       "      <td>[Q]CM(GM)-2D-CA</td>\n",
       "    </tr>\n",
       "    <tr>\n",
       "      <th>7242</th>\n",
       "      <td>UC(CA)</td>\n",
       "    </tr>\n",
       "    <tr>\n",
       "      <th>7907</th>\n",
       "      <td>[Q]R1P-1L-CDO-CUGU</td>\n",
       "    </tr>\n",
       "    <tr>\n",
       "      <th>8449</th>\n",
       "      <td>ADP-RIO</td>\n",
       "    </tr>\n",
       "    <tr>\n",
       "      <th>9039</th>\n",
       "      <td>USC-2</td>\n",
       "    </tr>\n",
       "    <tr>\n",
       "      <th>10730</th>\n",
       "      <td>C2-1VL-CPIO</td>\n",
       "    </tr>\n",
       "    <tr>\n",
       "      <th>12128</th>\n",
       "      <td>USC-1B</td>\n",
       "    </tr>\n",
       "    <tr>\n",
       "      <th>12387</th>\n",
       "      <td>UI(CA)</td>\n",
       "    </tr>\n",
       "    <tr>\n",
       "      <th>...</th>\n",
       "      <td>...</td>\n",
       "    </tr>\n",
       "    <tr>\n",
       "      <th>47075</th>\n",
       "      <td>R5P-2</td>\n",
       "    </tr>\n",
       "    <tr>\n",
       "      <th>51074</th>\n",
       "      <td>RSP-1-RIO</td>\n",
       "    </tr>\n",
       "    <tr>\n",
       "      <th>51139</th>\n",
       "      <td>(WC)TOPANGA-SN</td>\n",
       "    </tr>\n",
       "    <tr>\n",
       "      <th>51140</th>\n",
       "      <td>(WC)COMMERCE-SN</td>\n",
       "    </tr>\n",
       "    <tr>\n",
       "      <th>51147</th>\n",
       "      <td>(WC)DOWNTOWN-SN</td>\n",
       "    </tr>\n",
       "    <tr>\n",
       "      <th>51150</th>\n",
       "      <td>(WC)COLLEGE-SN</td>\n",
       "    </tr>\n",
       "    <tr>\n",
       "      <th>51160</th>\n",
       "      <td>(WC)NORTHVILLAGE-SN-RIO</td>\n",
       "    </tr>\n",
       "    <tr>\n",
       "      <th>51165</th>\n",
       "      <td>(WC)UPTOWN-SN-RIO</td>\n",
       "    </tr>\n",
       "    <tr>\n",
       "      <th>51287</th>\n",
       "      <td>R1P-1L</td>\n",
       "    </tr>\n",
       "    <tr>\n",
       "      <th>51395</th>\n",
       "      <td>VARIOUS</td>\n",
       "    </tr>\n",
       "    <tr>\n",
       "      <th>52918</th>\n",
       "      <td>RE15-1-H#</td>\n",
       "    </tr>\n",
       "    <tr>\n",
       "      <th>52919</th>\n",
       "      <td>RE15-1-RPD-2.9-H</td>\n",
       "    </tr>\n",
       "    <tr>\n",
       "      <th>53327</th>\n",
       "      <td>M(PV)</td>\n",
       "    </tr>\n",
       "    <tr>\n",
       "      <th>53755</th>\n",
       "      <td>[Q]C4(OX)-2D-CDO</td>\n",
       "    </tr>\n",
       "    <tr>\n",
       "      <th>54537</th>\n",
       "      <td>(Q)R3P-1VL</td>\n",
       "    </tr>\n",
       "    <tr>\n",
       "      <th>54544</th>\n",
       "      <td>R4P-1VL</td>\n",
       "    </tr>\n",
       "    <tr>\n",
       "      <th>56135</th>\n",
       "      <td>R1P-1VL-RIO</td>\n",
       "    </tr>\n",
       "    <tr>\n",
       "      <th>57017</th>\n",
       "      <td>(WC)RIVER-SN-RIO</td>\n",
       "    </tr>\n",
       "    <tr>\n",
       "      <th>58399</th>\n",
       "      <td>MU(EC)</td>\n",
       "    </tr>\n",
       "    <tr>\n",
       "      <th>58400</th>\n",
       "      <td>MU(EC)-O</td>\n",
       "    </tr>\n",
       "    <tr>\n",
       "      <th>58409</th>\n",
       "      <td>NMU(EC)-O-POD</td>\n",
       "    </tr>\n",
       "    <tr>\n",
       "      <th>58411</th>\n",
       "      <td>NMU(EC)-POD</td>\n",
       "    </tr>\n",
       "    <tr>\n",
       "      <th>58421</th>\n",
       "      <td>NI(EC)</td>\n",
       "    </tr>\n",
       "    <tr>\n",
       "      <th>58491</th>\n",
       "      <td>HJ(EC)</td>\n",
       "    </tr>\n",
       "    <tr>\n",
       "      <th>58504</th>\n",
       "      <td>HJ(EC)-O</td>\n",
       "    </tr>\n",
       "    <tr>\n",
       "      <th>58513</th>\n",
       "      <td>NI(EC)-O</td>\n",
       "    </tr>\n",
       "    <tr>\n",
       "      <th>58559</th>\n",
       "      <td>HR(EC)-O</td>\n",
       "    </tr>\n",
       "    <tr>\n",
       "      <th>58580</th>\n",
       "      <td>HR(EC)</td>\n",
       "    </tr>\n",
       "    <tr>\n",
       "      <th>59963</th>\n",
       "      <td>GW(CA)-CDO</td>\n",
       "    </tr>\n",
       "    <tr>\n",
       "      <th>60557</th>\n",
       "      <td>PPSP</td>\n",
       "    </tr>\n",
       "  </tbody>\n",
       "</table>\n",
       "<p>107 rows × 1 columns</p>\n",
       "</div>"
      ],
      "text/plain": [
       "                    ZONE_CMPLT\n",
       "70          (WC)TOPANGA-SN-RIO\n",
       "772                      USC-3\n",
       "1094                  [Q]RZ5-1\n",
       "1303                     A2P-1\n",
       "1369               (T)(Q)RZ5-1\n",
       "1487                  (T)R4P-2\n",
       "1622              [Q]R2P-1-CDO\n",
       "1678                  [Q]R3P-1\n",
       "1681                 [Q]R3P-1L\n",
       "1684              [Q]R3P-4-CDO\n",
       "2000              (F)CM-1-CUGU\n",
       "2007              (F)CM-1-HPOZ\n",
       "2009            (F)CM-1-O-HPOZ\n",
       "2010               (F)R2-1-RIO\n",
       "2013                 (F)RE11-1\n",
       "2413                  (Q)R3P-1\n",
       "2414            (Q)R3P-1VL-CDO\n",
       "2433                (Q)R4P-1-O\n",
       "2669                    UV(CA)\n",
       "3284                UC(CA)-CDO\n",
       "4818                  [Q]CCS-O\n",
       "5859                    USC-1A\n",
       "7025           [Q]CM(GM)-2D-CA\n",
       "7242                    UC(CA)\n",
       "7907        [Q]R1P-1L-CDO-CUGU\n",
       "8449                   ADP-RIO\n",
       "9039                     USC-2\n",
       "10730             C2-1VL-CPIO \n",
       "12128                   USC-1B\n",
       "12387                   UI(CA)\n",
       "...                        ...\n",
       "47075                    R5P-2\n",
       "51074                RSP-1-RIO\n",
       "51139           (WC)TOPANGA-SN\n",
       "51140          (WC)COMMERCE-SN\n",
       "51147          (WC)DOWNTOWN-SN\n",
       "51150           (WC)COLLEGE-SN\n",
       "51160  (WC)NORTHVILLAGE-SN-RIO\n",
       "51165        (WC)UPTOWN-SN-RIO\n",
       "51287                   R1P-1L\n",
       "51395                  VARIOUS\n",
       "52918                RE15-1-H#\n",
       "52919         RE15-1-RPD-2.9-H\n",
       "53327                    M(PV)\n",
       "53755         [Q]C4(OX)-2D-CDO\n",
       "54537               (Q)R3P-1VL\n",
       "54544                  R4P-1VL\n",
       "56135              R1P-1VL-RIO\n",
       "57017         (WC)RIVER-SN-RIO\n",
       "58399                   MU(EC)\n",
       "58400                 MU(EC)-O\n",
       "58409            NMU(EC)-O-POD\n",
       "58411              NMU(EC)-POD\n",
       "58421                   NI(EC)\n",
       "58491                   HJ(EC)\n",
       "58504                 HJ(EC)-O\n",
       "58513                 NI(EC)-O\n",
       "58559                 HR(EC)-O\n",
       "58580                   HR(EC)\n",
       "59963               GW(CA)-CDO\n",
       "60557                     PPSP\n",
       "\n",
       "[107 rows x 1 columns]"
      ]
     },
     "execution_count": 14,
     "metadata": {},
     "output_type": "execute_result"
    }
   ],
   "source": [
    "df[(df.zone_class == 'invalid') | (df.zone_class == 'failed') | (df.zone_class == \"\")][['ZONE_CMPLT']]"
   ]
  },
  {
   "cell_type": "code",
   "execution_count": 9,
   "metadata": {},
   "outputs": [
    {
     "name": "stdout",
     "output_type": "stream",
     "text": [
      "Obs that failed to be parsed: 0\n",
      "Obs that failed to be parsed, invalid, or blanks: 107\n"
     ]
    },
    {
     "name": "stderr",
     "output_type": "stream",
     "text": [
      "/opt/conda/lib/python3.7/site-packages/pandas/core/ops.py:1649: FutureWarning: elementwise comparison failed; returning scalar instead, but in the future will perform elementwise comparison\n",
      "  result = method(y)\n"
     ]
    }
   ],
   "source": [
    "print(f\"Obs that failed to be parsed: {len(df[df.Q == 'failed'])}\")\n",
    "print(f\"Obs that failed to be parsed, invalid, or blanks: {len(df[(df.zone_class == 'invalid') | (df.zone_class == 'failed') | (df.zone_class == '')])}\")"
   ]
  },
  {
   "cell_type": "code",
   "execution_count": null,
   "metadata": {},
   "outputs": [],
   "source": [
    "\"\"\" \n",
    "With hyphen, try this:\n",
    "    ([0-9A-Z]+)*(\\([A-Z]+\\))*([-1-4DLVXS]+)*((?:-[A-Z]+)*)$\n",
    "\"\"\""
   ]
  },
  {
   "cell_type": "markdown",
   "metadata": {},
   "source": [
    "## Zone Class"
   ]
  },
  {
   "cell_type": "code",
   "execution_count": 15,
   "metadata": {},
   "outputs": [
    {
     "data": {
      "text/plain": [
       "True     1827\n",
       "False     107\n",
       "Name: valid_zone, dtype: int64"
      ]
     },
     "execution_count": 15,
     "metadata": {},
     "output_type": "execute_result"
    }
   ],
   "source": [
    "# Check if valid zone classes are used\n",
    "df['valid_zone'] = df.zone_class.isin(utils.VALID_ZONE_CLASS)\n",
    "\n",
    "df.valid_zone.value_counts()"
   ]
  },
  {
   "cell_type": "code",
   "execution_count": 16,
   "metadata": {},
   "outputs": [
    {
     "name": "stdout",
     "output_type": "stream",
     "text": [
      "# obs with invalid zones: 107\n",
      "# of unique invalid zones: 2\n"
     ]
    }
   ],
   "source": [
    "print(f'# obs with invalid zones: {len(df[df.valid_zone == False])}')\n",
    "print(f'# of unique invalid zones: {df[df.valid_zone == False].zone_class.nunique()}')"
   ]
  },
  {
   "cell_type": "code",
   "execution_count": 17,
   "metadata": {},
   "outputs": [
    {
     "data": {
      "text/plain": [
       "        21\n",
       "R3P     10\n",
       "R4P      9\n",
       "R1P      8\n",
       "R1R3     4\n",
       "RAP      3\n",
       "R1V3     3\n",
       "R2P      2\n",
       "RZ5      2\n",
       "R1H1     2\n",
       "R5P      2\n",
       "R1V2     2\n",
       "A2P      1\n",
       "RSP      1\n",
       "ADP      1\n",
       "R1V1     1\n",
       "CCS      1\n",
       "CEC      1\n",
       "Name: invalid_zone, dtype: int64"
      ]
     },
     "execution_count": 17,
     "metadata": {},
     "output_type": "execute_result"
    }
   ],
   "source": [
    "# Look at what these invalid zones are\n",
    "# Appears that you can have multiple zones? R3 + P? Is this correct?\n",
    "# Or, is there a hierarchy, where least restrictive includes all uses of most restrictive, and that spans across residential, agricultural, etc.\n",
    "df[df.zone_class == 'invalid'].invalid_zone.value_counts()"
   ]
  },
  {
   "cell_type": "markdown",
   "metadata": {},
   "source": [
    "## Height District"
   ]
  },
  {
   "cell_type": "code",
   "execution_count": 18,
   "metadata": {},
   "outputs": [
    {
     "data": {
      "text/plain": [
       "True     1827\n",
       "False     107\n",
       "Name: valid_height, dtype: int64"
      ]
     },
     "execution_count": 18,
     "metadata": {},
     "output_type": "execute_result"
    }
   ],
   "source": [
    "df['valid_height'] = df.apply(lambda row: False if row.height_district in(['', 'invalid']) else True, axis = 1)\n",
    "\n",
    "df.valid_height.value_counts()"
   ]
  },
  {
   "cell_type": "code",
   "execution_count": 19,
   "metadata": {},
   "outputs": [
    {
     "data": {
      "text/plain": [
       "         84\n",
       "O         8\n",
       "RG        4\n",
       "EZ1VL     3\n",
       "2L        2\n",
       "2VL       1\n",
       "CDO       1\n",
       "CSA1      1\n",
       "CPIO      1\n",
       "RIO       1\n",
       "HPOZ      1\n",
       "Name: invalid_height, dtype: int64"
      ]
     },
     "execution_count": 19,
     "metadata": {},
     "output_type": "execute_result"
    }
   ],
   "source": [
    "# Look at what these invalid heights are.\n",
    "# 1VL, 2VL seem like they could be legitimate. What is EZ1VL?\n",
    "df[df.valid_height == False].invalid_height.value_counts()"
   ]
  },
  {
   "cell_type": "code",
   "execution_count": 20,
   "metadata": {},
   "outputs": [
    {
     "name": "stdout",
     "output_type": "stream",
     "text": [
      "# obs with invalid height districts: 107\n",
      "# of unique invalid height districts: 11\n"
     ]
    }
   ],
   "source": [
    "print(f'# obs with invalid height districts: {len(df[df.valid_height == False])}')\n",
    "print(f'# of unique invalid height districts: {df[df.valid_height == False].invalid_height.nunique()}')"
   ]
  },
  {
   "cell_type": "markdown",
   "metadata": {},
   "source": [
    "## D Limit"
   ]
  },
  {
   "cell_type": "code",
   "execution_count": 21,
   "metadata": {},
   "outputs": [
    {
     "data": {
      "text/plain": [
       "False    1635\n",
       "True      299\n",
       "Name: D, dtype: int64"
      ]
     },
     "execution_count": 21,
     "metadata": {},
     "output_type": "execute_result"
    }
   ],
   "source": [
    "df.D.value_counts()"
   ]
  },
  {
   "cell_type": "code",
   "execution_count": 22,
   "metadata": {},
   "outputs": [
    {
     "data": {
      "text/plain": [
       "2      138\n",
       "1       61\n",
       "1VL     39\n",
       "4       31\n",
       "1L      22\n",
       "1XL      6\n",
       "3        2\n",
       "Name: height_district, dtype: int64"
      ]
     },
     "execution_count": 22,
     "metadata": {},
     "output_type": "execute_result"
    }
   ],
   "source": [
    "df[df.D == True].height_district.value_counts()\n",
    "# Checked, if there is height district followed by a D, those are all tagged as True"
   ]
  },
  {
   "cell_type": "code",
   "execution_count": 23,
   "metadata": {},
   "outputs": [],
   "source": [
    "# Will need to make sure it's not mixed-type at time of export. Cannot be boolean and string\n",
    "#df.D = df.replace('', False)\n",
    "df.D = df.D.astype(bool)"
   ]
  },
  {
   "cell_type": "markdown",
   "metadata": {},
   "source": [
    "## Overlay"
   ]
  },
  {
   "cell_type": "code",
   "execution_count": 24,
   "metadata": {},
   "outputs": [
    {
     "data": {
      "text/plain": [
       "list"
      ]
     },
     "execution_count": 24,
     "metadata": {},
     "output_type": "execute_result"
    }
   ],
   "source": [
    "type(df.overlay.iloc[1])"
   ]
  },
  {
   "cell_type": "code",
   "execution_count": 29,
   "metadata": {},
   "outputs": [],
   "source": [
    "# Fill in Nones, otherwise cannot do the apply to make the list a string\n",
    "df.overlay = df.overlay.fillna('')\n",
    "\n",
    "just_overlay = df[df.overlay != 'failed'][['overlay']]"
   ]
  },
  {
   "cell_type": "code",
   "execution_count": 31,
   "metadata": {},
   "outputs": [],
   "source": [
    "just_overlay['no_brackets'] = just_overlay['overlay'].apply(', '.join)"
   ]
  },
  {
   "cell_type": "code",
   "execution_count": 32,
   "metadata": {},
   "outputs": [
    {
     "data": {
      "text/plain": [
       "                 705\n",
       "RIO              180\n",
       "O                148\n",
       "CUGU             141\n",
       "CDO              100\n",
       "CPIO              84\n",
       "HPOZ              73\n",
       "O, CUGU           54\n",
       "CDO, RIO          52\n",
       "K                 45\n",
       "SN                36\n",
       "RIO, CUGU         29\n",
       "HCR               27\n",
       "H                 26\n",
       "O, HPOZ           25\n",
       "CDO, CUGU         21\n",
       "O, CPIO           18\n",
       "G, CUGU           17\n",
       "K, RIO            13\n",
       "H, HCR            10\n",
       "RFA               10\n",
       "SP                 9\n",
       "H, K               9\n",
       "CA                 8\n",
       "O, CDO             8\n",
       "O, SN              7\n",
       "HPOZ, CPIO         6\n",
       "RIO, POD           6\n",
       "O, K               6\n",
       "O, CA              5\n",
       "K, CUGU            5\n",
       "H, RIO             4\n",
       "K, CPIO            4\n",
       "CDO, SN            4\n",
       "H, RPD, HCR        4\n",
       "O, CDO, CUGU       4\n",
       "SN, CPIO           3\n",
       "G                  3\n",
       "O, HPOZ, CPIO      3\n",
       "O, SP              2\n",
       "POD                2\n",
       "O, POD             2\n",
       "K, HPOZ            2\n",
       "O, HPOZ, CUGU      1\n",
       "O, H, K            1\n",
       "S, RIO             1\n",
       "O, RFA             1\n",
       "CDO, HPOZ          1\n",
       "H, O, K            1\n",
       "HPOZ, SP           1\n",
       "K, RFA             1\n",
       "O, SN, CPIO        1\n",
       "G, RIO             1\n",
       "MPR                1\n",
       "H, RPD             1\n",
       "H, O               1\n",
       "RPD, HCR           1\n",
       "Name: no_brackets, dtype: int64"
      ]
     },
     "execution_count": 32,
     "metadata": {},
     "output_type": "execute_result"
    }
   ],
   "source": [
    "just_overlay.no_brackets.value_counts()"
   ]
  },
  {
   "cell_type": "code",
   "execution_count": 33,
   "metadata": {},
   "outputs": [],
   "source": [
    "# Make a dictionary for supplemental use (map to overlay)\n",
    "supplemental_use_dict = {\n",
    "    # Supplemental Use found in Table 2 or Zoning Code Article 3\n",
    "    'O': 'oil_drilling', \n",
    "    'S': 'animal_slaughtering', \n",
    "    'G': 'surface_mining', \n",
    "    'K': 'equinekeeping', \n",
    "    'CA': 'commercial_and_artcraft', \n",
    "    'MU': 'mixed_use', \n",
    "    'FH': 'fence_heights', \n",
    "    'SN': 'sign', \n",
    "    'HS': 'hillside_standards',\n",
    "    'RG': 'rear_detached_garage', \n",
    "    'RPD': 'residential_planned_development', \n",
    "    'POD': 'pedestrian_oriented_district',\n",
    "    'CDO': 'community_design_overlay',\n",
    "    'NSO': 'neighborhood_stabilization_ordinance',\n",
    "    'RFA': 'residential_floor_area',\n",
    "    'MPR': 'modified_parking_requirement',\n",
    "    'RIO': 'river_improvement_overlay',\n",
    "    'HCR': 'hillside_construction_regulation',\n",
    "    'CPIO': 'community_plan_implementation_overlay',\n",
    "    'CUGU': 'clean_up_green_up_overlay',\n",
    "    'HPOZ': 'historic_preservation_overlay_zone', \n",
    "}"
   ]
  },
  {
   "cell_type": "code",
   "execution_count": 34,
   "metadata": {},
   "outputs": [],
   "source": [
    "specific_plan_dict = {\n",
    "    # Are other zoning designations put in with zone class or overlay? HPOX appears as overlay, but a lot of other ones appear in the beginning with zone class.\n",
    "    # Even more designations found in Zoning Code Article 2\n",
    "    'CEC': 'convention_and_event_center_specific_plan',\n",
    "    # Other Zoning Designations found in Zoning Code Article 2, Sec 12.04 Zones - Districts - Symbols.\n",
    "    # Are these always in parantheses in the beginning, near the prefix??\n",
    "    'CW': 'central_city_west_specific_plan', \n",
    "    'GM': 'glencoe_maxella_specific_plan', \n",
    "    'OX': 'oxford_triangle_specific_plan', \n",
    "    'PV': 'playa_vista_specific_plan', \n",
    "    'WC': 'warner_center_specific_plan', \n",
    "    'ADP': 'alameda_district_specific_plan', \n",
    "    'CCS': 'century_city_south_studio_zone', \n",
    "    'CSA': 'centers_study_area', \n",
    "    'PKM': 'park_mile_specific_plan',\n",
    "    'LAX': 'los_angeles_airport_specific_plan', \n",
    "    #'HPOZ': 'historic_preservation_overlay_zone', \n",
    "    'LASED': 'la_sports_and_entertainment_specific_plan',\n",
    "    'USC-1A': 'usc_university_park_campus_specific_plan_subarea_1a_zone',\n",
    "    'USC-1B': 'usc_university_park_campus_specific_plan_subarea_1b_zone',    \n",
    "    'USC-2': 'usc_university_park_campus_specific_plan_subarea_2_zone',\n",
    "    'USC-3': 'usc_university_park_campus_specific_plan_subarea_3_zone',\n",
    "    'PVSP': 'ponte_vista_at_san_pedro_specific_plan'\n",
    "}"
   ]
  },
  {
   "cell_type": "code",
   "execution_count": 35,
   "metadata": {},
   "outputs": [],
   "source": [
    "split = just_overlay.no_brackets.str.split(',', expand = True).fillna('')\n",
    "split.rename(columns = {0: 'o1', 1: 'o2', 2: 'o3'}, inplace = True)"
   ]
  },
  {
   "cell_type": "code",
   "execution_count": 36,
   "metadata": {},
   "outputs": [],
   "source": [
    "# Compile list of unique overlays, and see how well that matches with the dict\n",
    "unique_overlays = pd.DataFrame(split.o1.append(split.o2).append(split.o3))"
   ]
  },
  {
   "cell_type": "code",
   "execution_count": 37,
   "metadata": {},
   "outputs": [],
   "source": [
    "unique_overlays.rename(columns = {0: 'overlay'}, inplace = True)\n",
    "unique_overlays.overlay = unique_overlays.overlay.str.strip()\n",
    "unique_overlays = unique_overlays.drop_duplicates()\n",
    "unique_overlays = unique_overlays.reset_index().drop(columns = ['index'])"
   ]
  },
  {
   "cell_type": "code",
   "execution_count": 38,
   "metadata": {},
   "outputs": [],
   "source": [
    "unique_overlays['overlay_descrip'] = unique_overlays.overlay.map(supplemental_use_dict)"
   ]
  },
  {
   "cell_type": "code",
   "execution_count": 39,
   "metadata": {},
   "outputs": [
    {
     "data": {
      "text/html": [
       "<div>\n",
       "<style scoped>\n",
       "    .dataframe tbody tr th:only-of-type {\n",
       "        vertical-align: middle;\n",
       "    }\n",
       "\n",
       "    .dataframe tbody tr th {\n",
       "        vertical-align: top;\n",
       "    }\n",
       "\n",
       "    .dataframe thead th {\n",
       "        text-align: right;\n",
       "    }\n",
       "</style>\n",
       "<table border=\"1\" class=\"dataframe\">\n",
       "  <thead>\n",
       "    <tr style=\"text-align: right;\">\n",
       "      <th></th>\n",
       "      <th>overlay</th>\n",
       "      <th>overlay_descrip</th>\n",
       "    </tr>\n",
       "  </thead>\n",
       "  <tbody>\n",
       "    <tr>\n",
       "      <th>0</th>\n",
       "      <td>SP</td>\n",
       "      <td>NaN</td>\n",
       "    </tr>\n",
       "    <tr>\n",
       "      <th>1</th>\n",
       "      <td></td>\n",
       "      <td>NaN</td>\n",
       "    </tr>\n",
       "    <tr>\n",
       "      <th>10</th>\n",
       "      <td>H</td>\n",
       "      <td>NaN</td>\n",
       "    </tr>\n",
       "  </tbody>\n",
       "</table>\n",
       "</div>"
      ],
      "text/plain": [
       "   overlay overlay_descrip\n",
       "0       SP             NaN\n",
       "1                      NaN\n",
       "10       H             NaN"
      ]
     },
     "execution_count": 39,
     "metadata": {},
     "output_type": "execute_result"
    }
   ],
   "source": [
    "unique_overlays[unique_overlays.overlay_descrip.isna()]"
   ]
  },
  {
   "cell_type": "code",
   "execution_count": null,
   "metadata": {},
   "outputs": [],
   "source": [
    "# Invalid overlays\n",
    "# What is SP? Specific Plan?\n",
    "# Also, can't find H"
   ]
  },
  {
   "cell_type": "markdown",
   "metadata": {},
   "source": [
    "## Misclasified\n",
    "* Manually fix with a dictionary?\n",
    "* Ask Planning team what invalid values are"
   ]
  },
  {
   "cell_type": "code",
   "execution_count": null,
   "metadata": {},
   "outputs": [],
   "source": [
    "spilt = pd.concat([just_overlay, split], axis = 1)"
   ]
  },
  {
   "cell_type": "code",
   "execution_count": null,
   "metadata": {},
   "outputs": [],
   "source": [
    "for col in ['o1', 'o2', 'o3']:\n",
    "    new_col = f'{col}_descrip'\n",
    "    split[col] = split[col].str.strip()\n",
    "    split[new_col] = split[col].map(supplemental_use_dict)\n",
    "    split[new_col] = split[new_col].fillna('')\n",
    "    \n",
    "tagged_overlay = pd.concat([just_overlay, split], axis = 1)"
   ]
  },
  {
   "cell_type": "code",
   "execution_count": null,
   "metadata": {},
   "outputs": [],
   "source": [
    "tagged_overlay.head(30)"
   ]
  },
  {
   "cell_type": "code",
   "execution_count": null,
   "metadata": {},
   "outputs": [],
   "source": [
    "\"\"\" \n",
    "def find_overlays(row, overlays, op=all):\n",
    "    if row.overlay is None:\n",
    "        return False\n",
    "    else:\n",
    "        return op([o in row.overlay for o in overlays])\n",
    "\n",
    "df[df.apply(lambda x: find_overlays(x, ['RIO', 'CDO'], op=any), axis=1)]\n",
    "\"\"\""
   ]
  },
  {
   "cell_type": "markdown",
   "metadata": {},
   "source": [
    "## Put back together\n",
    "### Make sure columns don't contain mixed types"
   ]
  },
  {
   "cell_type": "code",
   "execution_count": null,
   "metadata": {},
   "outputs": [],
   "source": [
    "df2 = pd.concat([df, tagged_overlay], axis = 1)"
   ]
  },
  {
   "cell_type": "code",
   "execution_count": null,
   "metadata": {},
   "outputs": [],
   "source": [
    "df2.dtypes"
   ]
  },
  {
   "cell_type": "code",
   "execution_count": null,
   "metadata": {},
   "outputs": [],
   "source": [
    "for col in ['Q', 'T', 'zone_class', 'specific_plan', 'height_district', 'D']:\n",
    "    print(f'Column: {col}')\n",
    "    print(df[col].value_counts())"
   ]
  },
  {
   "cell_type": "markdown",
   "metadata": {},
   "source": [
    "### Merge"
   ]
  },
  {
   "cell_type": "code",
   "execution_count": null,
   "metadata": {},
   "outputs": [],
   "source": [
    "full = catalog.zoning.read()\n",
    "full.crs = {'init':'epsg:2229'}"
   ]
  },
  {
   "cell_type": "code",
   "execution_count": null,
   "metadata": {},
   "outputs": [],
   "source": [
    "final = pd.merge(full, df2, on = 'ZONE_CMPLT', how = 'left', validate = 'm:1')"
   ]
  },
  {
   "cell_type": "code",
   "execution_count": null,
   "metadata": {},
   "outputs": [],
   "source": [
    "final = final.drop(columns = ['OBJECTID', 'no_brackets', 'Shape__Area', 'Shape__Length'])\n",
    "\n",
    "final.head()"
   ]
  },
  {
   "cell_type": "code",
   "execution_count": null,
   "metadata": {},
   "outputs": [],
   "source": []
  }
 ],
 "metadata": {
  "kernelspec": {
   "display_name": "Python 3",
   "language": "python",
   "name": "python3"
  },
  "language_info": {
   "codemirror_mode": {
    "name": "ipython",
    "version": 3
   },
   "file_extension": ".py",
   "mimetype": "text/x-python",
   "name": "python",
   "nbconvert_exporter": "python",
   "pygments_lexer": "ipython3",
   "version": "3.7.3"
  }
 },
 "nbformat": 4,
 "nbformat_minor": 4
}
