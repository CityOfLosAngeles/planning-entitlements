{
 "cells": [
  {
   "cell_type": "markdown",
   "metadata": {},
   "source": [
    "# Clean ZIMAS / zoning file\n",
    "* Use parser in utils to parse ZONE_CMPLT\n",
    "* Iterative process - work with Planning to figure out the ones that can't be parsed\n",
    "* Use this to build crosswalk of height, density, etc restrictions"
   ]
  },
  {
   "cell_type": "code",
   "execution_count": 1,
   "metadata": {},
   "outputs": [],
   "source": [
    "import numpy as np\n",
    "import pandas as pd\n",
    "import geopandas as gpd\n",
    "import intake\n",
    "import utils"
   ]
  },
  {
   "cell_type": "code",
   "execution_count": 2,
   "metadata": {},
   "outputs": [],
   "source": [
    "catalog = intake.open_catalog(\"../catalogs/*.yml\")"
   ]
  },
  {
   "cell_type": "code",
   "execution_count": null,
   "metadata": {},
   "outputs": [],
   "source": [
    "# Default value of display.max_rows is 10 i.e. at max 10 rows will be printed.\n",
    "# Set it None to display all rows in the dataframe\n",
    "pd.set_option('display.max_rows', None)"
   ]
  },
  {
   "cell_type": "code",
   "execution_count": null,
   "metadata": {},
   "outputs": [],
   "source": [
    "df = catalog.zoning.read()\n",
    "df = df[['ZONE_CMPLT']].drop_duplicates()"
   ]
  },
  {
   "cell_type": "code",
   "execution_count": 3,
   "metadata": {},
   "outputs": [],
   "source": [
    "df = pd.read_parquet('../data/zoning.parquet')"
   ]
  },
  {
   "cell_type": "markdown",
   "metadata": {},
   "source": [
    "## Parse zoning string"
   ]
  },
  {
   "cell_type": "code",
   "execution_count": 4,
   "metadata": {},
   "outputs": [
    {
     "data": {
      "text/html": [
       "<div>\n",
       "<style scoped>\n",
       "    .dataframe tbody tr th:only-of-type {\n",
       "        vertical-align: middle;\n",
       "    }\n",
       "\n",
       "    .dataframe tbody tr th {\n",
       "        vertical-align: top;\n",
       "    }\n",
       "\n",
       "    .dataframe thead th {\n",
       "        text-align: right;\n",
       "    }\n",
       "</style>\n",
       "<table border=\"1\" class=\"dataframe\">\n",
       "  <thead>\n",
       "    <tr style=\"text-align: right;\">\n",
       "      <th></th>\n",
       "      <th>ZONE_CMPLT</th>\n",
       "      <th>Q</th>\n",
       "      <th>T</th>\n",
       "      <th>zone_class</th>\n",
       "      <th>specific_plan</th>\n",
       "      <th>height_district</th>\n",
       "      <th>D</th>\n",
       "      <th>overlay</th>\n",
       "    </tr>\n",
       "  </thead>\n",
       "  <tbody>\n",
       "    <tr>\n",
       "      <th>0</th>\n",
       "      <td>C2-1-SP</td>\n",
       "      <td>False</td>\n",
       "      <td>False</td>\n",
       "      <td>C2</td>\n",
       "      <td></td>\n",
       "      <td>1</td>\n",
       "      <td>False</td>\n",
       "      <td>[SP]</td>\n",
       "    </tr>\n",
       "    <tr>\n",
       "      <th>1</th>\n",
       "      <td>C1.5-1-SP</td>\n",
       "      <td>False</td>\n",
       "      <td>False</td>\n",
       "      <td>C1.5</td>\n",
       "      <td></td>\n",
       "      <td>1</td>\n",
       "      <td>False</td>\n",
       "      <td>[SP]</td>\n",
       "    </tr>\n",
       "    <tr>\n",
       "      <th>4</th>\n",
       "      <td>[Q]C1.5-1</td>\n",
       "      <td>True</td>\n",
       "      <td>False</td>\n",
       "      <td>C1.5</td>\n",
       "      <td></td>\n",
       "      <td>1</td>\n",
       "      <td>False</td>\n",
       "      <td>[]</td>\n",
       "    </tr>\n",
       "    <tr>\n",
       "      <th>10</th>\n",
       "      <td>[Q]C1.5-1-RIO</td>\n",
       "      <td>True</td>\n",
       "      <td>False</td>\n",
       "      <td>C1.5</td>\n",
       "      <td></td>\n",
       "      <td>1</td>\n",
       "      <td>False</td>\n",
       "      <td>[RIO]</td>\n",
       "    </tr>\n",
       "    <tr>\n",
       "      <th>12</th>\n",
       "      <td>[Q]C1.5-1-O</td>\n",
       "      <td>True</td>\n",
       "      <td>False</td>\n",
       "      <td>C1.5</td>\n",
       "      <td></td>\n",
       "      <td>1</td>\n",
       "      <td>False</td>\n",
       "      <td>[O]</td>\n",
       "    </tr>\n",
       "  </tbody>\n",
       "</table>\n",
       "</div>"
      ],
      "text/plain": [
       "       ZONE_CMPLT      Q      T zone_class specific_plan height_district  \\\n",
       "0         C2-1-SP  False  False         C2                             1   \n",
       "1       C1.5-1-SP  False  False       C1.5                             1   \n",
       "4       [Q]C1.5-1   True  False       C1.5                             1   \n",
       "10  [Q]C1.5-1-RIO   True  False       C1.5                             1   \n",
       "12    [Q]C1.5-1-O   True  False       C1.5                             1   \n",
       "\n",
       "        D overlay  \n",
       "0   False    [SP]  \n",
       "1   False    [SP]  \n",
       "4   False      []  \n",
       "10  False   [RIO]  \n",
       "12  False     [O]  "
      ]
     },
     "execution_count": 4,
     "metadata": {},
     "output_type": "execute_result"
    }
   ],
   "source": [
    "parsed_col_names = ['Q', 'T', 'zone_class', 'specific_plan', 'height_district', 'D', 'overlay']\n",
    "\n",
    "def parse_zoning(row):\n",
    "    try:\n",
    "        z = utils.ZoningInfo(row.ZONE_CMPLT)\n",
    "        return pd.Series([z.Q, z.T, z.zone_class, z.specific_plan, z.height_district, z.D, z.overlay], \n",
    "                         index = parsed_col_names)\n",
    "    except ValueError:\n",
    "        return pd.Series(['failed', 'failed', 'failed', 'failed', 'failed', 'failed', 'failed'], \n",
    "                         index = parsed_col_names)\n",
    "\n",
    "    \n",
    "parsed = df.apply(parse_zoning, axis = 1)\n",
    "\n",
    "df = pd.concat([df, parsed], axis = 1)\n",
    "\n",
    "df.head()"
   ]
  },
  {
   "cell_type": "code",
   "execution_count": 5,
   "metadata": {},
   "outputs": [
    {
     "name": "stdout",
     "output_type": "stream",
     "text": [
      "# obs in fails_crosswalk: 47\n"
     ]
    }
   ],
   "source": [
    "fails_crosswalk = pd.read_parquet('s3://city-planning-entitlements/data/crosswalk_zone_parse_fails.parquet')\n",
    "\n",
    "print(f'# obs in fails_crosswalk: {len(fails_crosswalk)}')"
   ]
  },
  {
   "cell_type": "code",
   "execution_count": 6,
   "metadata": {},
   "outputs": [
    {
     "name": "stdout",
     "output_type": "stream",
     "text": [
      "# obs in fails: 43\n"
     ]
    }
   ],
   "source": [
    "# Grab all obs in our df that shows up in the fails_crosswalk, even if it was parsed correctly\n",
    "# There were some other ones that were added because they weren't valid zone classes\n",
    "fails = df[df.ZONE_CMPLT.isin(fails_crosswalk.ZONE_CMPLT)]\n",
    "print(f'# obs in fails: {len(fails)}')"
   ]
  },
  {
   "cell_type": "code",
   "execution_count": 7,
   "metadata": {},
   "outputs": [],
   "source": [
    "# Convert the overlay column from string to list\n",
    "fails_crosswalk.overlay = fails_crosswalk.overlay.str[1:-1].str.split(',').tolist()\n",
    "\n",
    "# Fill in Nones with empty list\n",
    "fails_crosswalk['overlay'] = fails_crosswalk['overlay'].apply(lambda row: row if isinstance(row, list) else [])"
   ]
  },
  {
   "cell_type": "code",
   "execution_count": 8,
   "metadata": {},
   "outputs": [],
   "source": [
    "df1 = df[~ df.ZONE_CMPLT.isin(fails_crosswalk.ZONE_CMPLT)]\n",
    "\n",
    "# Append the successfully parsed obs with the failed ones\n",
    "df2 = df1.append(fails_crosswalk)"
   ]
  },
  {
   "cell_type": "code",
   "execution_count": 9,
   "metadata": {},
   "outputs": [],
   "source": [
    "# Make sure cols are the same type again\n",
    "for col in ['zone_class', 'specific_plan', 'height_district']:\n",
    "    df2[col] = df2[col].astype(str)\n",
    "\n",
    "for col in ['Q', 'T', 'D']:\n",
    "    df2[col] = df2[col].astype(int)"
   ]
  },
  {
   "cell_type": "code",
   "execution_count": 10,
   "metadata": {},
   "outputs": [
    {
     "data": {
      "text/html": [
       "<div>\n",
       "<style scoped>\n",
       "    .dataframe tbody tr th:only-of-type {\n",
       "        vertical-align: middle;\n",
       "    }\n",
       "\n",
       "    .dataframe tbody tr th {\n",
       "        vertical-align: top;\n",
       "    }\n",
       "\n",
       "    .dataframe thead th {\n",
       "        text-align: right;\n",
       "    }\n",
       "</style>\n",
       "<table border=\"1\" class=\"dataframe\">\n",
       "  <thead>\n",
       "    <tr style=\"text-align: right;\">\n",
       "      <th></th>\n",
       "      <th>ZONE_CMPLT</th>\n",
       "      <th>Q</th>\n",
       "      <th>T</th>\n",
       "      <th>zone_class</th>\n",
       "      <th>specific_plan</th>\n",
       "      <th>height_district</th>\n",
       "      <th>D</th>\n",
       "      <th>overlay</th>\n",
       "    </tr>\n",
       "  </thead>\n",
       "  <tbody>\n",
       "    <tr>\n",
       "      <th>10</th>\n",
       "      <td>[Q]C1.5-1-RIO</td>\n",
       "      <td>True</td>\n",
       "      <td>False</td>\n",
       "      <td>C1.5</td>\n",
       "      <td></td>\n",
       "      <td>1</td>\n",
       "      <td>False</td>\n",
       "      <td>[RIO]</td>\n",
       "    </tr>\n",
       "    <tr>\n",
       "      <th>5859</th>\n",
       "      <td>USC-1A</td>\n",
       "      <td>failed</td>\n",
       "      <td>failed</td>\n",
       "      <td>failed</td>\n",
       "      <td>failed</td>\n",
       "      <td>failed</td>\n",
       "      <td>failed</td>\n",
       "      <td>failed</td>\n",
       "    </tr>\n",
       "    <tr>\n",
       "      <th>12398</th>\n",
       "      <td>GW(CA)</td>\n",
       "      <td>False</td>\n",
       "      <td>False</td>\n",
       "      <td>GW</td>\n",
       "      <td></td>\n",
       "      <td></td>\n",
       "      <td>False</td>\n",
       "      <td>[CA]</td>\n",
       "    </tr>\n",
       "    <tr>\n",
       "      <th>15912</th>\n",
       "      <td>CW</td>\n",
       "      <td>False</td>\n",
       "      <td>False</td>\n",
       "      <td></td>\n",
       "      <td>CW</td>\n",
       "      <td></td>\n",
       "      <td>False</td>\n",
       "      <td>[]</td>\n",
       "    </tr>\n",
       "    <tr>\n",
       "      <th>47002</th>\n",
       "      <td>R4(PV)</td>\n",
       "      <td>False</td>\n",
       "      <td>False</td>\n",
       "      <td>R4</td>\n",
       "      <td>PV</td>\n",
       "      <td></td>\n",
       "      <td>False</td>\n",
       "      <td>[]</td>\n",
       "    </tr>\n",
       "    <tr>\n",
       "      <th>51123</th>\n",
       "      <td>SL</td>\n",
       "      <td>False</td>\n",
       "      <td>False</td>\n",
       "      <td>SL</td>\n",
       "      <td></td>\n",
       "      <td></td>\n",
       "      <td>False</td>\n",
       "      <td>[]</td>\n",
       "    </tr>\n",
       "    <tr>\n",
       "      <th>59863</th>\n",
       "      <td>(T)(Q)RAS3-1L</td>\n",
       "      <td>True</td>\n",
       "      <td>True</td>\n",
       "      <td>RAS3</td>\n",
       "      <td></td>\n",
       "      <td>1L</td>\n",
       "      <td>False</td>\n",
       "      <td>[]</td>\n",
       "    </tr>\n",
       "    <tr>\n",
       "      <th>59893</th>\n",
       "      <td>(T)M1-2D</td>\n",
       "      <td>False</td>\n",
       "      <td>True</td>\n",
       "      <td>M1</td>\n",
       "      <td></td>\n",
       "      <td>2</td>\n",
       "      <td>True</td>\n",
       "      <td>[]</td>\n",
       "    </tr>\n",
       "    <tr>\n",
       "      <th>60015</th>\n",
       "      <td>OS(UV)</td>\n",
       "      <td>False</td>\n",
       "      <td>False</td>\n",
       "      <td>OS</td>\n",
       "      <td>UV</td>\n",
       "      <td></td>\n",
       "      <td>False</td>\n",
       "      <td>[]</td>\n",
       "    </tr>\n",
       "  </tbody>\n",
       "</table>\n",
       "</div>"
      ],
      "text/plain": [
       "          ZONE_CMPLT       Q       T zone_class specific_plan height_district  \\\n",
       "10     [Q]C1.5-1-RIO    True   False       C1.5                             1   \n",
       "5859          USC-1A  failed  failed     failed        failed          failed   \n",
       "12398         GW(CA)   False   False         GW                                 \n",
       "15912             CW   False   False                       CW                   \n",
       "47002         R4(PV)   False   False         R4            PV                   \n",
       "51123             SL   False   False         SL                                 \n",
       "59863  (T)(Q)RAS3-1L    True    True       RAS3                            1L   \n",
       "59893       (T)M1-2D   False    True         M1                             2   \n",
       "60015         OS(UV)   False   False         OS            UV                   \n",
       "\n",
       "            D overlay  \n",
       "10      False   [RIO]  \n",
       "5859   failed  failed  \n",
       "12398   False    [CA]  \n",
       "15912   False      []  \n",
       "47002   False      []  \n",
       "51123   False      []  \n",
       "59863   False      []  \n",
       "59893    True      []  \n",
       "60015   False      []  "
      ]
     },
     "metadata": {},
     "output_type": "display_data"
    },
    {
     "data": {
      "text/html": [
       "<div>\n",
       "<style scoped>\n",
       "    .dataframe tbody tr th:only-of-type {\n",
       "        vertical-align: middle;\n",
       "    }\n",
       "\n",
       "    .dataframe tbody tr th {\n",
       "        vertical-align: top;\n",
       "    }\n",
       "\n",
       "    .dataframe thead th {\n",
       "        text-align: right;\n",
       "    }\n",
       "</style>\n",
       "<table border=\"1\" class=\"dataframe\">\n",
       "  <thead>\n",
       "    <tr style=\"text-align: right;\">\n",
       "      <th></th>\n",
       "      <th>ZONE_CMPLT</th>\n",
       "      <th>Q</th>\n",
       "      <th>T</th>\n",
       "      <th>zone_class</th>\n",
       "      <th>specific_plan</th>\n",
       "      <th>height_district</th>\n",
       "      <th>D</th>\n",
       "      <th>overlay</th>\n",
       "    </tr>\n",
       "  </thead>\n",
       "  <tbody>\n",
       "    <tr>\n",
       "      <th>10</th>\n",
       "      <td>[Q]C1.5-1-RIO</td>\n",
       "      <td>1</td>\n",
       "      <td>0</td>\n",
       "      <td>C1.5</td>\n",
       "      <td></td>\n",
       "      <td>1</td>\n",
       "      <td>0</td>\n",
       "      <td>[RIO]</td>\n",
       "    </tr>\n",
       "    <tr>\n",
       "      <th>12398</th>\n",
       "      <td>GW(CA)</td>\n",
       "      <td>0</td>\n",
       "      <td>0</td>\n",
       "      <td>GW</td>\n",
       "      <td></td>\n",
       "      <td></td>\n",
       "      <td>0</td>\n",
       "      <td>[CA]</td>\n",
       "    </tr>\n",
       "    <tr>\n",
       "      <th>47002</th>\n",
       "      <td>R4(PV)</td>\n",
       "      <td>0</td>\n",
       "      <td>0</td>\n",
       "      <td>R4</td>\n",
       "      <td>PV</td>\n",
       "      <td></td>\n",
       "      <td>0</td>\n",
       "      <td>[]</td>\n",
       "    </tr>\n",
       "    <tr>\n",
       "      <th>51123</th>\n",
       "      <td>SL</td>\n",
       "      <td>0</td>\n",
       "      <td>0</td>\n",
       "      <td>SL</td>\n",
       "      <td></td>\n",
       "      <td></td>\n",
       "      <td>0</td>\n",
       "      <td>[]</td>\n",
       "    </tr>\n",
       "    <tr>\n",
       "      <th>59863</th>\n",
       "      <td>(T)(Q)RAS3-1L</td>\n",
       "      <td>1</td>\n",
       "      <td>1</td>\n",
       "      <td>RAS3</td>\n",
       "      <td></td>\n",
       "      <td>1L</td>\n",
       "      <td>0</td>\n",
       "      <td>[]</td>\n",
       "    </tr>\n",
       "    <tr>\n",
       "      <th>59893</th>\n",
       "      <td>(T)M1-2D</td>\n",
       "      <td>0</td>\n",
       "      <td>1</td>\n",
       "      <td>M1</td>\n",
       "      <td></td>\n",
       "      <td>2</td>\n",
       "      <td>1</td>\n",
       "      <td>[]</td>\n",
       "    </tr>\n",
       "    <tr>\n",
       "      <th>60015</th>\n",
       "      <td>OS(UV)</td>\n",
       "      <td>0</td>\n",
       "      <td>0</td>\n",
       "      <td>OS</td>\n",
       "      <td>UV</td>\n",
       "      <td></td>\n",
       "      <td>0</td>\n",
       "      <td>[]</td>\n",
       "    </tr>\n",
       "    <tr>\n",
       "      <th>12</th>\n",
       "      <td>USC-1A</td>\n",
       "      <td>0</td>\n",
       "      <td>0</td>\n",
       "      <td></td>\n",
       "      <td>USC-1A</td>\n",
       "      <td></td>\n",
       "      <td>0</td>\n",
       "      <td>[]</td>\n",
       "    </tr>\n",
       "    <tr>\n",
       "      <th>19</th>\n",
       "      <td>CW</td>\n",
       "      <td>0</td>\n",
       "      <td>0</td>\n",
       "      <td></td>\n",
       "      <td>CW</td>\n",
       "      <td></td>\n",
       "      <td>0</td>\n",
       "      <td>[]</td>\n",
       "    </tr>\n",
       "  </tbody>\n",
       "</table>\n",
       "</div>"
      ],
      "text/plain": [
       "          ZONE_CMPLT  Q  T zone_class specific_plan height_district  D overlay\n",
       "10     [Q]C1.5-1-RIO  1  0       C1.5                             1  0   [RIO]\n",
       "12398         GW(CA)  0  0         GW                                0    [CA]\n",
       "47002         R4(PV)  0  0         R4            PV                  0      []\n",
       "51123             SL  0  0         SL                                0      []\n",
       "59863  (T)(Q)RAS3-1L  1  1       RAS3                            1L  0      []\n",
       "59893       (T)M1-2D  0  1         M1                             2  1      []\n",
       "60015         OS(UV)  0  0         OS            UV                  0      []\n",
       "12            USC-1A  0  0                   USC-1A                  0      []\n",
       "19                CW  0  0                       CW                  0      []"
      ]
     },
     "metadata": {},
     "output_type": "display_data"
    }
   ],
   "source": [
    "# Check a couple of cases to see how well the parser worked\n",
    "check_my_zoning = ['SL', 'USC-1A', 'CW', \n",
    "                       'R4(PV)', 'OS(UV)', 'GW(CA)', \n",
    "                      '[Q]C1.5-1-RIO', '(T)(Q)RAS3-1L', '(T)M1-2D']\n",
    "display(df[df.ZONE_CMPLT.isin(check_my_zoning)])\n",
    "\n",
    "# Check the cases after we fixed failed ones\n",
    "display(df2[df2.ZONE_CMPLT.isin(check_my_zoning)])"
   ]
  },
  {
   "cell_type": "markdown",
   "metadata": {},
   "source": [
    "## Zone Class"
   ]
  },
  {
   "cell_type": "code",
   "execution_count": 11,
   "metadata": {},
   "outputs": [
    {
     "data": {
      "text/plain": [
       "True     1899\n",
       "False      39\n",
       "Name: valid_zone, dtype: int64"
      ]
     },
     "execution_count": 11,
     "metadata": {},
     "output_type": "execute_result"
    }
   ],
   "source": [
    "# Check if valid zone classes are used\n",
    "df2['valid_zone'] = df2.zone_class.isin(utils.VALID_ZONE_CLASS)\n",
    "\n",
    "df2.valid_zone.value_counts()"
   ]
  },
  {
   "cell_type": "code",
   "execution_count": 12,
   "metadata": {},
   "outputs": [
    {
     "name": "stdout",
     "output_type": "stream",
     "text": [
      "# obs with invalid zones: 39\n",
      "# of unique invalid zones: 4\n"
     ]
    }
   ],
   "source": [
    "print(f'# obs with invalid zones: {len(df2[df2.valid_zone == False])}')\n",
    "print(f'# of unique invalid zones: {df2[df2.valid_zone == False].zone_class.nunique()}')"
   ]
  },
  {
   "cell_type": "code",
   "execution_count": 13,
   "metadata": {},
   "outputs": [
    {
     "data": {
      "text/html": [
       "<div>\n",
       "<style scoped>\n",
       "    .dataframe tbody tr th:only-of-type {\n",
       "        vertical-align: middle;\n",
       "    }\n",
       "\n",
       "    .dataframe tbody tr th {\n",
       "        vertical-align: top;\n",
       "    }\n",
       "\n",
       "    .dataframe thead th {\n",
       "        text-align: right;\n",
       "    }\n",
       "</style>\n",
       "<table border=\"1\" class=\"dataframe\">\n",
       "  <thead>\n",
       "    <tr style=\"text-align: right;\">\n",
       "      <th></th>\n",
       "      <th>ZONE_CMPLT</th>\n",
       "      <th>Q</th>\n",
       "      <th>T</th>\n",
       "      <th>zone_class</th>\n",
       "      <th>specific_plan</th>\n",
       "      <th>height_district</th>\n",
       "      <th>D</th>\n",
       "      <th>overlay</th>\n",
       "      <th>valid_zone</th>\n",
       "    </tr>\n",
       "  </thead>\n",
       "  <tbody>\n",
       "    <tr>\n",
       "      <th>2</th>\n",
       "      <td>[Q]RZ5-1</td>\n",
       "      <td>1</td>\n",
       "      <td>0</td>\n",
       "      <td>RZ5</td>\n",
       "      <td></td>\n",
       "      <td>1</td>\n",
       "      <td>0</td>\n",
       "      <td>[]</td>\n",
       "      <td>False</td>\n",
       "    </tr>\n",
       "    <tr>\n",
       "      <th>3</th>\n",
       "      <td>A2P-1</td>\n",
       "      <td>0</td>\n",
       "      <td>0</td>\n",
       "      <td>A2P</td>\n",
       "      <td></td>\n",
       "      <td>1</td>\n",
       "      <td>0</td>\n",
       "      <td>[]</td>\n",
       "      <td>False</td>\n",
       "    </tr>\n",
       "    <tr>\n",
       "      <th>4</th>\n",
       "      <td>(T)(Q)RZ5-1</td>\n",
       "      <td>1</td>\n",
       "      <td>1</td>\n",
       "      <td>RZ5</td>\n",
       "      <td></td>\n",
       "      <td>1</td>\n",
       "      <td>0</td>\n",
       "      <td>[]</td>\n",
       "      <td>False</td>\n",
       "    </tr>\n",
       "    <tr>\n",
       "      <th>33</th>\n",
       "      <td>M(PV)</td>\n",
       "      <td>0</td>\n",
       "      <td>0</td>\n",
       "      <td>M</td>\n",
       "      <td>PV</td>\n",
       "      <td></td>\n",
       "      <td>0</td>\n",
       "      <td>[]</td>\n",
       "      <td>False</td>\n",
       "    </tr>\n",
       "    <tr>\n",
       "      <th>43</th>\n",
       "      <td>[Q]RZ5-1</td>\n",
       "      <td>1</td>\n",
       "      <td>0</td>\n",
       "      <td>RZ5</td>\n",
       "      <td></td>\n",
       "      <td>1</td>\n",
       "      <td>0</td>\n",
       "      <td>[]</td>\n",
       "      <td>False</td>\n",
       "    </tr>\n",
       "    <tr>\n",
       "      <th>44</th>\n",
       "      <td>A2P-1</td>\n",
       "      <td>0</td>\n",
       "      <td>0</td>\n",
       "      <td>A2P</td>\n",
       "      <td></td>\n",
       "      <td>1</td>\n",
       "      <td>0</td>\n",
       "      <td>[]</td>\n",
       "      <td>False</td>\n",
       "    </tr>\n",
       "    <tr>\n",
       "      <th>45</th>\n",
       "      <td>(T)(Q)RZ5-1</td>\n",
       "      <td>1</td>\n",
       "      <td>1</td>\n",
       "      <td>RZ5</td>\n",
       "      <td></td>\n",
       "      <td>1</td>\n",
       "      <td>0</td>\n",
       "      <td>[]</td>\n",
       "      <td>False</td>\n",
       "    </tr>\n",
       "    <tr>\n",
       "      <th>46</th>\n",
       "      <td>M(PV)</td>\n",
       "      <td>0</td>\n",
       "      <td>0</td>\n",
       "      <td>M</td>\n",
       "      <td>PV</td>\n",
       "      <td></td>\n",
       "      <td>0</td>\n",
       "      <td>[]</td>\n",
       "      <td>False</td>\n",
       "    </tr>\n",
       "  </tbody>\n",
       "</table>\n",
       "</div>"
      ],
      "text/plain": [
       "     ZONE_CMPLT  Q  T zone_class specific_plan height_district  D overlay  \\\n",
       "2      [Q]RZ5-1  1  0        RZ5                             1  0      []   \n",
       "3         A2P-1  0  0        A2P                             1  0      []   \n",
       "4   (T)(Q)RZ5-1  1  1        RZ5                             1  0      []   \n",
       "33        M(PV)  0  0          M            PV                  0      []   \n",
       "43     [Q]RZ5-1  1  0        RZ5                             1  0      []   \n",
       "44        A2P-1  0  0        A2P                             1  0      []   \n",
       "45  (T)(Q)RZ5-1  1  1        RZ5                             1  0      []   \n",
       "46        M(PV)  0  0          M            PV                  0      []   \n",
       "\n",
       "    valid_zone  \n",
       "2        False  \n",
       "3        False  \n",
       "4        False  \n",
       "33       False  \n",
       "43       False  \n",
       "44       False  \n",
       "45       False  \n",
       "46       False  "
      ]
     },
     "execution_count": 13,
     "metadata": {},
     "output_type": "execute_result"
    }
   ],
   "source": [
    "df2[(df2.valid_zone == False) & (df2.zone_class != '')]"
   ]
  },
  {
   "cell_type": "markdown",
   "metadata": {},
   "source": [
    "## Height District"
   ]
  },
  {
   "cell_type": "code",
   "execution_count": 14,
   "metadata": {},
   "outputs": [
    {
     "data": {
      "text/plain": [
       "True     1873\n",
       "False      65\n",
       "Name: valid_height, dtype: int64"
      ]
     },
     "execution_count": 14,
     "metadata": {},
     "output_type": "execute_result"
    }
   ],
   "source": [
    "df2['valid_height'] = df2.apply(lambda row: False if row.height_district in(['', 'invalid']) else True, axis = 1)\n",
    "\n",
    "df2.valid_height.value_counts()"
   ]
  },
  {
   "cell_type": "code",
   "execution_count": 16,
   "metadata": {},
   "outputs": [
    {
     "data": {
      "text/plain": [
       "    65\n",
       "Name: height_district, dtype: int64"
      ]
     },
     "execution_count": 16,
     "metadata": {},
     "output_type": "execute_result"
    }
   ],
   "source": [
    "# Look at what these invalid heights are.\n",
    "# 1VL, 2VL seem like they could be legitimate. What is EZ1VL?\n",
    "df2[df2.valid_height == False].height_district.value_counts()"
   ]
  },
  {
   "cell_type": "code",
   "execution_count": 17,
   "metadata": {},
   "outputs": [
    {
     "name": "stdout",
     "output_type": "stream",
     "text": [
      "# obs with invalid height districts: 65\n"
     ]
    }
   ],
   "source": [
    "print(f'# obs with invalid height districts: {len(df2[df2.valid_height == False])}')"
   ]
  },
  {
   "cell_type": "markdown",
   "metadata": {},
   "source": [
    "## D Limit"
   ]
  },
  {
   "cell_type": "code",
   "execution_count": 18,
   "metadata": {},
   "outputs": [
    {
     "data": {
      "text/plain": [
       "0    1635\n",
       "1     303\n",
       "Name: D, dtype: int64"
      ]
     },
     "execution_count": 18,
     "metadata": {},
     "output_type": "execute_result"
    }
   ],
   "source": [
    "df2.D.value_counts()"
   ]
  },
  {
   "cell_type": "code",
   "execution_count": 19,
   "metadata": {},
   "outputs": [
    {
     "data": {
      "text/plain": [
       "2      142\n",
       "1       61\n",
       "1VL     39\n",
       "4       31\n",
       "1L      22\n",
       "1XL      6\n",
       "3        2\n",
       "Name: height_district, dtype: int64"
      ]
     },
     "execution_count": 19,
     "metadata": {},
     "output_type": "execute_result"
    }
   ],
   "source": [
    "df2[df2.D == True].height_district.value_counts()\n",
    "# Checked, if there is height district followed by a D, those are all tagged as True"
   ]
  },
  {
   "cell_type": "markdown",
   "metadata": {},
   "source": [
    "## Overlay"
   ]
  },
  {
   "cell_type": "code",
   "execution_count": 20,
   "metadata": {},
   "outputs": [],
   "source": [
    "# Fill in Nones, otherwise cannot do the apply to make the list a string\n",
    "df.overlay = df.overlay.fillna('')\n",
    "\n",
    "just_overlay = df[['overlay']]"
   ]
  },
  {
   "cell_type": "code",
   "execution_count": 21,
   "metadata": {},
   "outputs": [
    {
     "name": "stderr",
     "output_type": "stream",
     "text": [
      "/opt/conda/lib/python3.7/site-packages/ipykernel_launcher.py:1: SettingWithCopyWarning: \n",
      "A value is trying to be set on a copy of a slice from a DataFrame.\n",
      "Try using .loc[row_indexer,col_indexer] = value instead\n",
      "\n",
      "See the caveats in the documentation: http://pandas.pydata.org/pandas-docs/stable/user_guide/indexing.html#returning-a-view-versus-a-copy\n",
      "  \"\"\"Entry point for launching an IPython kernel.\n"
     ]
    }
   ],
   "source": [
    "just_overlay['no_brackets'] = just_overlay['overlay'].apply(', '.join)"
   ]
  },
  {
   "cell_type": "code",
   "execution_count": 22,
   "metadata": {},
   "outputs": [
    {
     "data": {
      "text/plain": [
       "            661\n",
       "RIO         181\n",
       "O           149\n",
       "CUGU        141\n",
       "CDO         101\n",
       "           ... \n",
       "HPOZ, SP      1\n",
       "H, RPD        1\n",
       "H, O, K       1\n",
       "H, O          1\n",
       "S, RIO        1\n",
       "Name: no_brackets, Length: 63, dtype: int64"
      ]
     },
     "execution_count": 22,
     "metadata": {},
     "output_type": "execute_result"
    }
   ],
   "source": [
    "just_overlay.no_brackets.value_counts()"
   ]
  },
  {
   "cell_type": "code",
   "execution_count": 24,
   "metadata": {},
   "outputs": [],
   "source": [
    "supplemental_use = pd.read_parquet('s3://city-planning-entitlements/data/crosswalk_supplemental_use_overlay.parquet')\n",
    "specific_plan = pd.read_parquet('s3://city-planning-entitlements/data/crosswalk_specific_plan.parquet')"
   ]
  },
  {
   "cell_type": "code",
   "execution_count": 27,
   "metadata": {},
   "outputs": [
    {
     "data": {
      "text/html": [
       "<div>\n",
       "<style scoped>\n",
       "    .dataframe tbody tr th:only-of-type {\n",
       "        vertical-align: middle;\n",
       "    }\n",
       "\n",
       "    .dataframe tbody tr th {\n",
       "        vertical-align: top;\n",
       "    }\n",
       "\n",
       "    .dataframe thead th {\n",
       "        text-align: right;\n",
       "    }\n",
       "</style>\n",
       "<table border=\"1\" class=\"dataframe\">\n",
       "  <thead>\n",
       "    <tr style=\"text-align: right;\">\n",
       "      <th></th>\n",
       "      <th>supplemental_use</th>\n",
       "      <th>supplemental_use_description</th>\n",
       "    </tr>\n",
       "  </thead>\n",
       "  <tbody>\n",
       "    <tr>\n",
       "      <th>0</th>\n",
       "      <td>O</td>\n",
       "      <td>oil_drilling</td>\n",
       "    </tr>\n",
       "    <tr>\n",
       "      <th>1</th>\n",
       "      <td>S</td>\n",
       "      <td>animal_slaughtering</td>\n",
       "    </tr>\n",
       "    <tr>\n",
       "      <th>2</th>\n",
       "      <td>G</td>\n",
       "      <td>surface_mining</td>\n",
       "    </tr>\n",
       "    <tr>\n",
       "      <th>3</th>\n",
       "      <td>K</td>\n",
       "      <td>equinekeeping</td>\n",
       "    </tr>\n",
       "    <tr>\n",
       "      <th>4</th>\n",
       "      <td>CA</td>\n",
       "      <td>commercial_and_artcraft</td>\n",
       "    </tr>\n",
       "    <tr>\n",
       "      <th>5</th>\n",
       "      <td>MU</td>\n",
       "      <td>mixed_use</td>\n",
       "    </tr>\n",
       "    <tr>\n",
       "      <th>6</th>\n",
       "      <td>FH</td>\n",
       "      <td>fence_heights</td>\n",
       "    </tr>\n",
       "    <tr>\n",
       "      <th>7</th>\n",
       "      <td>SN</td>\n",
       "      <td>sign</td>\n",
       "    </tr>\n",
       "    <tr>\n",
       "      <th>8</th>\n",
       "      <td>HS</td>\n",
       "      <td>hillside_standards</td>\n",
       "    </tr>\n",
       "    <tr>\n",
       "      <th>9</th>\n",
       "      <td>RG</td>\n",
       "      <td>rear_detached_garage</td>\n",
       "    </tr>\n",
       "    <tr>\n",
       "      <th>10</th>\n",
       "      <td>RPD</td>\n",
       "      <td>residential_planned_development</td>\n",
       "    </tr>\n",
       "    <tr>\n",
       "      <th>11</th>\n",
       "      <td>POD</td>\n",
       "      <td>pedestrian_oriented_district</td>\n",
       "    </tr>\n",
       "    <tr>\n",
       "      <th>12</th>\n",
       "      <td>CDO</td>\n",
       "      <td>community_design_overlay</td>\n",
       "    </tr>\n",
       "    <tr>\n",
       "      <th>13</th>\n",
       "      <td>NSO</td>\n",
       "      <td>neighborhood_stabilization_ordinance</td>\n",
       "    </tr>\n",
       "    <tr>\n",
       "      <th>14</th>\n",
       "      <td>RFA</td>\n",
       "      <td>residential_floor_area</td>\n",
       "    </tr>\n",
       "    <tr>\n",
       "      <th>15</th>\n",
       "      <td>MPR</td>\n",
       "      <td>modified_parking_requirement</td>\n",
       "    </tr>\n",
       "    <tr>\n",
       "      <th>16</th>\n",
       "      <td>RIO</td>\n",
       "      <td>river_improvement_overlay</td>\n",
       "    </tr>\n",
       "    <tr>\n",
       "      <th>17</th>\n",
       "      <td>HCR</td>\n",
       "      <td>hillside_construction_regulation</td>\n",
       "    </tr>\n",
       "    <tr>\n",
       "      <th>18</th>\n",
       "      <td>CPIO</td>\n",
       "      <td>community_plan_implementation_overlay</td>\n",
       "    </tr>\n",
       "    <tr>\n",
       "      <th>19</th>\n",
       "      <td>CUGU</td>\n",
       "      <td>clean_up_green_up_overlay</td>\n",
       "    </tr>\n",
       "    <tr>\n",
       "      <th>20</th>\n",
       "      <td>HPOZ</td>\n",
       "      <td>historic_preservation_overlay_zone</td>\n",
       "    </tr>\n",
       "    <tr>\n",
       "      <th>21</th>\n",
       "      <td>SP</td>\n",
       "      <td>unknown1</td>\n",
       "    </tr>\n",
       "    <tr>\n",
       "      <th>22</th>\n",
       "      <td>NMU</td>\n",
       "      <td>neighborhood_mixed_use</td>\n",
       "    </tr>\n",
       "    <tr>\n",
       "      <th>23</th>\n",
       "      <td>H</td>\n",
       "      <td>unknown2</td>\n",
       "    </tr>\n",
       "  </tbody>\n",
       "</table>\n",
       "</div>"
      ],
      "text/plain": [
       "   supplemental_use           supplemental_use_description\n",
       "0                 O                           oil_drilling\n",
       "1                 S                    animal_slaughtering\n",
       "2                 G                         surface_mining\n",
       "3                 K                          equinekeeping\n",
       "4                CA                commercial_and_artcraft\n",
       "5                MU                              mixed_use\n",
       "6                FH                          fence_heights\n",
       "7                SN                                   sign\n",
       "8                HS                     hillside_standards\n",
       "9                RG                   rear_detached_garage\n",
       "10              RPD        residential_planned_development\n",
       "11              POD           pedestrian_oriented_district\n",
       "12              CDO               community_design_overlay\n",
       "13              NSO   neighborhood_stabilization_ordinance\n",
       "14              RFA                 residential_floor_area\n",
       "15              MPR           modified_parking_requirement\n",
       "16              RIO              river_improvement_overlay\n",
       "17              HCR       hillside_construction_regulation\n",
       "18             CPIO  community_plan_implementation_overlay\n",
       "19             CUGU              clean_up_green_up_overlay\n",
       "20             HPOZ     historic_preservation_overlay_zone\n",
       "21               SP                               unknown1\n",
       "22              NMU                 neighborhood_mixed_use\n",
       "23                H                               unknown2"
      ]
     },
     "execution_count": 27,
     "metadata": {},
     "output_type": "execute_result"
    }
   ],
   "source": [
    "supplemental_use"
   ]
  },
  {
   "cell_type": "code",
   "execution_count": 25,
   "metadata": {},
   "outputs": [],
   "source": [
    "supplemental_use_dict = supplemental_use.to_dict()"
   ]
  },
  {
   "cell_type": "code",
   "execution_count": null,
   "metadata": {},
   "outputs": [],
   "source": []
  },
  {
   "cell_type": "code",
   "execution_count": null,
   "metadata": {},
   "outputs": [],
   "source": [
    "# Make a dictionary for supplemental use (map to overlay)\n",
    "supplemental_use_dict = {\n",
    "    # Supplemental Use found in Table 2 or Zoning Code Article 3\n",
    "    'O': 'oil_drilling', \n",
    "    'S': 'animal_slaughtering', \n",
    "    'G': 'surface_mining', \n",
    "    'K': 'equinekeeping', \n",
    "    'CA': 'commercial_and_artcraft', \n",
    "    'MU': 'mixed_use', \n",
    "    'FH': 'fence_heights', \n",
    "    'SN': 'sign', \n",
    "    'HS': 'hillside_standards',\n",
    "    'RG': 'rear_detached_garage', \n",
    "    'RPD': 'residential_planned_development', \n",
    "    'POD': 'pedestrian_oriented_district',\n",
    "    'CDO': 'community_design_overlay',\n",
    "    'NSO': 'neighborhood_stabilization_ordinance',\n",
    "    'RFA': 'residential_floor_area',\n",
    "    'MPR': 'modified_parking_requirement',\n",
    "    'RIO': 'river_improvement_overlay',\n",
    "    'HCR': 'hillside_construction_regulation',\n",
    "    'CPIO': 'community_plan_implementation_overlay',\n",
    "    'CUGU': 'clean_up_green_up_overlay',\n",
    "    'HPOZ': 'historic_preservation_overlay_zone', \n",
    "}"
   ]
  },
  {
   "cell_type": "code",
   "execution_count": null,
   "metadata": {},
   "outputs": [],
   "source": [
    "specific_plan_dict = {\n",
    "    # Are other zoning designations put in with zone class or overlay? HPOX appears as overlay, but a lot of other ones appear in the beginning with zone class.\n",
    "    # Even more designations found in Zoning Code Article 2\n",
    "    'CEC': 'convention_and_event_center_specific_plan',\n",
    "    # Other Zoning Designations found in Zoning Code Article 2, Sec 12.04 Zones - Districts - Symbols.\n",
    "    # Are these always in parantheses in the beginning, near the prefix??\n",
    "    'CW': 'central_city_west_specific_plan', \n",
    "    'GM': 'glencoe_maxella_specific_plan', \n",
    "    'OX': 'oxford_triangle_specific_plan', \n",
    "    'PV': 'playa_vista_specific_plan', \n",
    "    'WC': 'warner_center_specific_plan', \n",
    "    'ADP': 'alameda_district_specific_plan', \n",
    "    'CCS': 'century_city_south_studio_zone', \n",
    "    'CSA': 'centers_study_area', \n",
    "    'PKM': 'park_mile_specific_plan',\n",
    "    'LAX': 'los_angeles_airport_specific_plan', \n",
    "    #'HPOZ': 'historic_preservation_overlay_zone', \n",
    "    'LASED': 'la_sports_and_entertainment_specific_plan',\n",
    "    'USC-1A': 'usc_university_park_campus_specific_plan_subarea_1a_zone',\n",
    "    'USC-1B': 'usc_university_park_campus_specific_plan_subarea_1b_zone',    \n",
    "    'USC-2': 'usc_university_park_campus_specific_plan_subarea_2_zone',\n",
    "    'USC-3': 'usc_university_park_campus_specific_plan_subarea_3_zone',\n",
    "    'PVSP': 'ponte_vista_at_san_pedro_specific_plan'\n",
    "}"
   ]
  },
  {
   "cell_type": "code",
   "execution_count": null,
   "metadata": {},
   "outputs": [],
   "source": [
    "split = just_overlay.no_brackets.str.split(',', expand = True).fillna('')\n",
    "split.rename(columns = {0: 'o1', 1: 'o2', 2: 'o3'}, inplace = True)"
   ]
  },
  {
   "cell_type": "code",
   "execution_count": null,
   "metadata": {},
   "outputs": [],
   "source": [
    "# Compile list of unique overlays, and see how well that matches with the dict\n",
    "unique_overlays = pd.DataFrame(split.o1.append(split.o2).append(split.o3))"
   ]
  },
  {
   "cell_type": "code",
   "execution_count": null,
   "metadata": {},
   "outputs": [],
   "source": [
    "unique_overlays.rename(columns = {0: 'overlay'}, inplace = True)\n",
    "unique_overlays.overlay = unique_overlays.overlay.str.strip()\n",
    "unique_overlays = unique_overlays.drop_duplicates()\n",
    "unique_overlays = unique_overlays.reset_index().drop(columns = ['index'])"
   ]
  },
  {
   "cell_type": "code",
   "execution_count": null,
   "metadata": {},
   "outputs": [],
   "source": [
    "unique_overlays['overlay_descrip'] = unique_overlays.overlay.map(supplemental_use_dict)"
   ]
  },
  {
   "cell_type": "code",
   "execution_count": null,
   "metadata": {},
   "outputs": [],
   "source": [
    "unique_overlays[unique_overlays.overlay_descrip.isna()]"
   ]
  },
  {
   "cell_type": "code",
   "execution_count": null,
   "metadata": {},
   "outputs": [],
   "source": [
    "# Invalid overlays\n",
    "# What is SP? Specific Plan?\n",
    "# Also, can't find H"
   ]
  },
  {
   "cell_type": "markdown",
   "metadata": {},
   "source": [
    "## Misclasified\n",
    "* Manually fix with a dictionary?\n",
    "* Ask Planning team what invalid values are"
   ]
  },
  {
   "cell_type": "code",
   "execution_count": null,
   "metadata": {},
   "outputs": [],
   "source": [
    "spilt = pd.concat([just_overlay, split], axis = 1)"
   ]
  },
  {
   "cell_type": "code",
   "execution_count": null,
   "metadata": {},
   "outputs": [],
   "source": [
    "for col in ['o1', 'o2', 'o3']:\n",
    "    new_col = f'{col}_descrip'\n",
    "    split[col] = split[col].str.strip()\n",
    "    split[new_col] = split[col].map(supplemental_use_dict)\n",
    "    split[new_col] = split[new_col].fillna('')\n",
    "    \n",
    "tagged_overlay = pd.concat([just_overlay, split], axis = 1)"
   ]
  },
  {
   "cell_type": "code",
   "execution_count": null,
   "metadata": {},
   "outputs": [],
   "source": [
    "tagged_overlay.head(30)"
   ]
  },
  {
   "cell_type": "code",
   "execution_count": null,
   "metadata": {},
   "outputs": [],
   "source": [
    "\"\"\" \n",
    "def find_overlays(row, overlays, op=all):\n",
    "    if row.overlay is None:\n",
    "        return False\n",
    "    else:\n",
    "        return op([o in row.overlay for o in overlays])\n",
    "\n",
    "df[df.apply(lambda x: find_overlays(x, ['RIO', 'CDO'], op=any), axis=1)]\n",
    "\"\"\""
   ]
  },
  {
   "cell_type": "markdown",
   "metadata": {},
   "source": [
    "## Put back together\n",
    "### Make sure columns don't contain mixed types"
   ]
  },
  {
   "cell_type": "code",
   "execution_count": null,
   "metadata": {},
   "outputs": [],
   "source": [
    "df2 = pd.concat([df, tagged_overlay], axis = 1)"
   ]
  },
  {
   "cell_type": "code",
   "execution_count": null,
   "metadata": {},
   "outputs": [],
   "source": [
    "df2.dtypes"
   ]
  },
  {
   "cell_type": "code",
   "execution_count": null,
   "metadata": {},
   "outputs": [],
   "source": [
    "for col in ['Q', 'T', 'zone_class', 'specific_plan', 'height_district', 'D']:\n",
    "    print(f'Column: {col}')\n",
    "    print(df[col].value_counts())"
   ]
  },
  {
   "cell_type": "markdown",
   "metadata": {},
   "source": [
    "### Merge"
   ]
  },
  {
   "cell_type": "code",
   "execution_count": null,
   "metadata": {},
   "outputs": [],
   "source": [
    "full = catalog.zoning.read()\n",
    "full.crs = {'init':'epsg:2229'}"
   ]
  },
  {
   "cell_type": "code",
   "execution_count": null,
   "metadata": {},
   "outputs": [],
   "source": [
    "final = pd.merge(full, df2, on = 'ZONE_CMPLT', how = 'left', validate = 'm:1')"
   ]
  },
  {
   "cell_type": "code",
   "execution_count": null,
   "metadata": {},
   "outputs": [],
   "source": [
    "final = final.drop(columns = ['OBJECTID', 'no_brackets', 'Shape__Area', 'Shape__Length'])\n",
    "\n",
    "final.head()"
   ]
  },
  {
   "cell_type": "code",
   "execution_count": null,
   "metadata": {},
   "outputs": [],
   "source": []
  }
 ],
 "metadata": {
  "kernelspec": {
   "display_name": "Python 3",
   "language": "python",
   "name": "python3"
  },
  "language_info": {
   "codemirror_mode": {
    "name": "ipython",
    "version": 3
   },
   "file_extension": ".py",
   "mimetype": "text/x-python",
   "name": "python",
   "nbconvert_exporter": "python",
   "pygments_lexer": "ipython3",
   "version": "3.7.3"
  }
 },
 "nbformat": 4,
 "nbformat_minor": 4
}
