{
 "cells": [
  {
   "cell_type": "markdown",
   "metadata": {},
   "source": [
    "# Clean ZIMAS / zoning file"
   ]
  },
  {
   "cell_type": "code",
   "execution_count": 2,
   "metadata": {},
   "outputs": [],
   "source": [
    "import numpy as np\n",
    "import pandas as pd\n",
    "import geopandas as gpd\n",
    "import intake\n",
    "import utils"
   ]
  },
  {
   "cell_type": "code",
   "execution_count": 3,
   "metadata": {},
   "outputs": [],
   "source": [
    "catalog = intake.open_catalog(\"../catalogs/*.yml\")"
   ]
  },
  {
   "cell_type": "code",
   "execution_count": 4,
   "metadata": {},
   "outputs": [],
   "source": [
    "# Default value of display.max_rows is 10 i.e. at max 10 rows will be printed.\n",
    "# Set it None to display all rows in the dataframe\n",
    "pd.set_option('display.max_rows', None)"
   ]
  },
  {
   "cell_type": "code",
   "execution_count": 5,
   "metadata": {},
   "outputs": [],
   "source": [
    "df = catalog.zoning.read()\n",
    "df = df[['ZONE_CMPLT']].drop_duplicates()"
   ]
  },
  {
   "cell_type": "markdown",
   "metadata": {},
   "source": [
    "## Parse zoning string"
   ]
  },
  {
   "cell_type": "code",
   "execution_count": 6,
   "metadata": {},
   "outputs": [
    {
     "data": {
      "text/html": [
       "<div>\n",
       "<style scoped>\n",
       "    .dataframe tbody tr th:only-of-type {\n",
       "        vertical-align: middle;\n",
       "    }\n",
       "\n",
       "    .dataframe tbody tr th {\n",
       "        vertical-align: top;\n",
       "    }\n",
       "\n",
       "    .dataframe thead th {\n",
       "        text-align: right;\n",
       "    }\n",
       "</style>\n",
       "<table border=\"1\" class=\"dataframe\">\n",
       "  <thead>\n",
       "    <tr style=\"text-align: right;\">\n",
       "      <th></th>\n",
       "      <th>ZONE_CMPLT</th>\n",
       "      <th>Q</th>\n",
       "      <th>T</th>\n",
       "      <th>zone_class</th>\n",
       "      <th>height_district</th>\n",
       "      <th>D</th>\n",
       "      <th>overlay</th>\n",
       "    </tr>\n",
       "  </thead>\n",
       "  <tbody>\n",
       "    <tr>\n",
       "      <th>0</th>\n",
       "      <td>C2-1-SP</td>\n",
       "      <td>False</td>\n",
       "      <td>False</td>\n",
       "      <td>C2</td>\n",
       "      <td>1</td>\n",
       "      <td>False</td>\n",
       "      <td>[SP]</td>\n",
       "    </tr>\n",
       "    <tr>\n",
       "      <th>1</th>\n",
       "      <td>C1.5-1-SP</td>\n",
       "      <td>False</td>\n",
       "      <td>False</td>\n",
       "      <td>C1.5</td>\n",
       "      <td>1</td>\n",
       "      <td>False</td>\n",
       "      <td>[SP]</td>\n",
       "    </tr>\n",
       "    <tr>\n",
       "      <th>4</th>\n",
       "      <td>[Q]C1.5-1</td>\n",
       "      <td>True</td>\n",
       "      <td>False</td>\n",
       "      <td>C1.5</td>\n",
       "      <td>1</td>\n",
       "      <td>False</td>\n",
       "      <td>None</td>\n",
       "    </tr>\n",
       "    <tr>\n",
       "      <th>10</th>\n",
       "      <td>[Q]C1.5-1-RIO</td>\n",
       "      <td>True</td>\n",
       "      <td>False</td>\n",
       "      <td>C1.5</td>\n",
       "      <td>1</td>\n",
       "      <td>False</td>\n",
       "      <td>[RIO]</td>\n",
       "    </tr>\n",
       "    <tr>\n",
       "      <th>12</th>\n",
       "      <td>[Q]C1.5-1-O</td>\n",
       "      <td>True</td>\n",
       "      <td>False</td>\n",
       "      <td>C1.5</td>\n",
       "      <td>1</td>\n",
       "      <td>False</td>\n",
       "      <td>[O]</td>\n",
       "    </tr>\n",
       "  </tbody>\n",
       "</table>\n",
       "</div>"
      ],
      "text/plain": [
       "       ZONE_CMPLT      Q      T zone_class height_district      D overlay\n",
       "0         C2-1-SP  False  False         C2               1  False    [SP]\n",
       "1       C1.5-1-SP  False  False       C1.5               1  False    [SP]\n",
       "4       [Q]C1.5-1   True  False       C1.5               1  False    None\n",
       "10  [Q]C1.5-1-RIO   True  False       C1.5               1  False   [RIO]\n",
       "12    [Q]C1.5-1-O   True  False       C1.5               1  False     [O]"
      ]
     },
     "execution_count": 6,
     "metadata": {},
     "output_type": "execute_result"
    }
   ],
   "source": [
    "def parse_zoning(row):\n",
    "    try:\n",
    "        z = utils.ZoningInfo(row.ZONE_CMPLT)\n",
    "        return pd.Series([z.Q, z.T, z.zone_class, z.height_district, z.D, z.overlay], \n",
    "                        index = ['Q', 'T', 'zone_class', 'height_district', 'D', 'overlay'])\n",
    "    except ValueError as err:\n",
    "        if err.message == \n",
    "        return pd.Series(['', '', '', '', '', ''], \n",
    "                        index = ['Q', 'T', 'zone_class', 'height_district', 'D', 'overlay'])\n",
    "\n",
    "parsed = df.apply(parse_zoning, axis = 1)\n",
    "\n",
    "df = pd.concat([df, parsed], axis = 1)\n",
    "\n",
    "df.head()"
   ]
  },
  {
   "cell_type": "markdown",
   "metadata": {},
   "source": [
    "## Zone Class"
   ]
  },
  {
   "cell_type": "code",
   "execution_count": 7,
   "metadata": {},
   "outputs": [],
   "source": [
    "# Check if valid zone classes are used\n",
    "valid_zone_class = [\n",
    "    'A1', 'A2', 'RA',\n",
    "    'RE', 'RE40', 'RE20', 'RE15', 'RE11', 'RE9',\n",
    "    'RS', 'R1', 'R1V', 'R1F', 'R1R', 'R1H', 'RU', 'RZ2.5', 'RZ3', 'RZ4', 'RW1',\n",
    "    'R2', 'RD1.5', 'RD2', 'RD3', 'RD4', 'RD5', 'RD6', 'RMP', 'RW2', 'R3', 'RAS3', 'R4', 'RAS4', 'R5',\n",
    "    'CR', 'C1', 'C1.5', 'C2', 'C4', 'C5', 'CM',\n",
    "    'MR1', 'M1', 'MR2', 'M2', 'M3',\n",
    "    'P', 'PB', 'OS', 'PF', 'SL'\n",
    "]\n",
    "\n",
    "\n",
    "df['valid_zone'] = df.zone_class.isin(valid_zone_class)"
   ]
  },
  {
   "cell_type": "code",
   "execution_count": 8,
   "metadata": {},
   "outputs": [
    {
     "name": "stdout",
     "output_type": "stream",
     "text": [
      "# obs with invalid zones: 147\n",
      "# of unique invalid zones: 1\n"
     ]
    }
   ],
   "source": [
    "print(f'# obs with invalid zones: {len(df[df.valid_zone == False])}')\n",
    "print(f'# of unique invalid zones: {df[df.valid_zone == False].zone_class.nunique()}')"
   ]
  },
  {
   "cell_type": "code",
   "execution_count": 9,
   "metadata": {},
   "outputs": [
    {
     "data": {
      "text/plain": [
       "    147\n",
       "Name: zone_class, dtype: int64"
      ]
     },
     "execution_count": 9,
     "metadata": {},
     "output_type": "execute_result"
    }
   ],
   "source": [
    "# Appears that you can have multiple zones? R3 + P? Is this correct?\n",
    "# Or, is there a hierarchy, where least restrictive includes all uses of most restrictive, and that spans across residential, agricultural, etc.\n",
    "df[df.valid_zone == False].zone_class.value_counts()"
   ]
  },
  {
   "cell_type": "code",
   "execution_count": null,
   "metadata": {},
   "outputs": [],
   "source": [
    "def zone_class(row):\n",
    "    \"\"\"\n",
    "    This function tags the 35 different zone classes based\n",
    "    on the first letter\n",
    "    \"\"\"\n",
    "    \n",
    "    open_space_zones = ['OS']\n",
    "    agricultural_zones = ['A1', 'A2']\n",
    "    residential_zones = ['RA', 'RE', 'RS', 'R1', 'RU', 'RZ', 'RW1', \n",
    "                         'R2', 'RD', 'RMP', 'RW2', 'R3', 'RAS3', 'R4', 'RAS4', 'R5']\n",
    "    commercial_zones = ['CR', 'C1', 'C1.5', 'C4' ,'C2', 'C5', 'CM']\n",
    "    manufacturing_zones = ['MR1', 'M1', 'MR2', 'M2', 'M3']\n",
    "    \n",
    "    text = row.zone_class\n",
    "    \n",
    "    if any(zone in text for zone in open_space_zones):\n",
    "        return 'open_space'\n",
    "    if any(zone in text for zone in agricultural_zones):\n",
    "        return 'agricultural'\n",
    "    if any(zone in text for zone in residential_zones):\n",
    "        return 'residential'\n",
    "    if any(zone in text for zone in commercial_zones):\n",
    "        return 'commercial'\n",
    "    if any(zone in text for zone in manufacturing_zones):\n",
    "        return 'manufacturing'\n",
    "    if 'PF' in text:\n",
    "        return 'public_facility'\n",
    "    if (('P' in text) or ('PB' in text)) and ('PF' not in text):\n",
    "        return 'parking'\n",
    "    if 'SL' in text:\n",
    "        return 'submerged_lands'\n",
    "    else:\n",
    "        return ''\n",
    "\n",
    "df['zone_class_descrip'] = df.apply(zone_class, axis = 1)   \n",
    "\n",
    "df.zone_class_descrip.value_counts()"
   ]
  },
  {
   "cell_type": "markdown",
   "metadata": {},
   "source": [
    "## Height District"
   ]
  },
  {
   "cell_type": "code",
   "execution_count": null,
   "metadata": {},
   "outputs": [],
   "source": [
    "# Check if valid height districts are used\n",
    "valid_height_district = [\n",
    "    '1', '1D', \n",
    "    '1L', '1LD', \n",
    "    '1VL', '1VLD', \n",
    "    '1XL', '1XLD', \n",
    "    '1SS', '1SSD', \n",
    "    '2', '2D', \n",
    "    '3', '3D', \n",
    "    '4', '4D', \n",
    "]\n",
    "\n",
    "invalid_height_district = ['1A', '1B']"
   ]
  },
  {
   "cell_type": "code",
   "execution_count": null,
   "metadata": {},
   "outputs": [],
   "source": [
    "def valid_heights(row):\n",
    "    \n",
    "    text = row.height_district\n",
    "    \n",
    "    if any(height in text for height in valid_height_district) and not any(wrong_height in text for wrong_height in invalid_height_district):\n",
    "        return True\n",
    "    else: \n",
    "        return False\n",
    "\n",
    "df['valid_height'] = df.apply(valid_heights, axis = 1)"
   ]
  },
  {
   "cell_type": "code",
   "execution_count": null,
   "metadata": {},
   "outputs": [],
   "source": [
    "df[df.valid_height == True].height_district.value_counts()\n",
    "\n",
    "# Still need to grab the correct height district values"
   ]
  },
  {
   "cell_type": "code",
   "execution_count": null,
   "metadata": {},
   "outputs": [],
   "source": [
    "df[df.valid_height == False].height_district.value_counts()"
   ]
  },
  {
   "cell_type": "code",
   "execution_count": null,
   "metadata": {},
   "outputs": [],
   "source": [
    "# There are some getting tagged as height district but still needs further cleaning\n",
    "def height_district(row):\n",
    "    \"\"\"\n",
    "    This function tags the height district based on\n",
    "    Table 2 - Height Districts (Height, Stories, FAR & RFAR)\n",
    "    \"\"\"\n",
    "    text = row.height_district\n",
    "            \n",
    "    if (('1' in text) or ('1D' in text)) and ('1A' not in text) and ('1B' not in text):\n",
    "        return '1'\n",
    "    elif ('1L' in text) or ('1LD' in text):\n",
    "        return '1L'\n",
    "    elif ('1VL' in text) or ('1VLD' in text):\n",
    "        return '1VL'\n",
    "    elif ('1XL' in text) or ('1XLD' in text):\n",
    "        return '1XL'\n",
    "    elif ('1SS' in text) or ('1SSD' in text):\n",
    "        return '1SS'\n",
    "    elif ('2' in text) or ('2D' in text):\n",
    "        return '2'\n",
    "    elif ('3' in text) or ('3D' in text):\n",
    "        return '3'\n",
    "    elif ('4' in text) or ('4D' in text):\n",
    "        return '4'\n",
    "    else:\n",
    "        return ''\n",
    "    \n",
    "df['height_district2'] = df.apply(height_district, axis = 1)"
   ]
  },
  {
   "cell_type": "code",
   "execution_count": null,
   "metadata": {},
   "outputs": [],
   "source": [
    "df.height_district2.value_counts()"
   ]
  },
  {
   "cell_type": "code",
   "execution_count": null,
   "metadata": {},
   "outputs": [],
   "source": [
    "df[df.height_district2 ==''].height_district.value_counts()"
   ]
  },
  {
   "cell_type": "code",
   "execution_count": null,
   "metadata": {},
   "outputs": [],
   "source": [
    "print(f'# obs with invalid height districts: {len(df[df.valid_height == False])}')\n",
    "print(f'# of unique invalid height districts: {df[df.valid_height == False].height_district.nunique()}')\n",
    "df[df.valid_height == False].head()"
   ]
  },
  {
   "cell_type": "code",
   "execution_count": null,
   "metadata": {},
   "outputs": [],
   "source": [
    "\"\"\" \n",
    "OLD CODE -- revisit if need pieces\n",
    "\n",
    "\n",
    "# Tag the obs that have additional information in height district column. \n",
    "# Move additional info to overlay column\n",
    "df['fix_height_district'] = df.apply(lambda row: 1 if (row.height_district != '') \n",
    "                                     and (row.height_district2 == '') else 0, axis = 1)\n",
    "\n",
    "df[df.fix_height_district==1]\n",
    "\n",
    "df['correct_overlay'] = df.apply(lambda row: row.overlay + ', ' + row.height_district if row.fix_height_district == 1 else row.overlay, axis = 1)\n",
    "\n",
    "df[df.fix_height_district==1]\n",
    "\n",
    "# There are still some incorrect things that are now moved to correct_overlay (ex: R1R3, CPIO...R1R3 appears in zone_class and correct_overlay)\n",
    "# It's ok, these incorrect ones just won't map using the supplemental_use_dict\n",
    "\n",
    "\n",
    "# Replace overlay with correct_height_district\n",
    "df['overlay'] = df.apply(lambda row: row.correct_overlay if row.fix_height_district == 1 else row.overlay, axis = 1)\n",
    "\n",
    "# Overwrite height_district with blanks\n",
    "df['height_district'] = df.apply(lambda row: '' if row.fix_height_district == 1 else row.height_district, axis = 1)\n",
    "\n",
    "\n",
    "df[df.fix_height_district==1]\n",
    "\n",
    "df = df.drop(columns = ['fix_height_district', 'correct_overlay'])\n",
    "\"\"\""
   ]
  },
  {
   "cell_type": "markdown",
   "metadata": {},
   "source": [
    "## D Limit"
   ]
  },
  {
   "cell_type": "code",
   "execution_count": null,
   "metadata": {},
   "outputs": [],
   "source": [
    "df.D.value_counts()"
   ]
  },
  {
   "cell_type": "code",
   "execution_count": null,
   "metadata": {},
   "outputs": [],
   "source": [
    "df[df.D == True].height_district.value_counts()\n",
    "# Checked, if there is height district followed by a D, those are all tagged as True"
   ]
  },
  {
   "cell_type": "code",
   "execution_count": null,
   "metadata": {},
   "outputs": [],
   "source": [
    "# Will need to make sure it's not mixed-type at time of export. Cannot be boolean and string ''"
   ]
  },
  {
   "cell_type": "markdown",
   "metadata": {},
   "source": [
    "## Overlay"
   ]
  },
  {
   "cell_type": "code",
   "execution_count": null,
   "metadata": {},
   "outputs": [],
   "source": [
    "df.dtypes"
   ]
  },
  {
   "cell_type": "code",
   "execution_count": null,
   "metadata": {},
   "outputs": [],
   "source": [
    "type(df.overlay.iloc[1])"
   ]
  },
  {
   "cell_type": "code",
   "execution_count": null,
   "metadata": {},
   "outputs": [],
   "source": [
    "df.head(20)"
   ]
  },
  {
   "cell_type": "code",
   "execution_count": null,
   "metadata": {},
   "outputs": [],
   "source": [
    "# Fill in Nones, otherwise cannot do the apply to make the list a string\n",
    "df.overlay = df.overlay.fillna('')\n",
    "just_overlay = df[['overlay']]"
   ]
  },
  {
   "cell_type": "code",
   "execution_count": null,
   "metadata": {},
   "outputs": [],
   "source": [
    "def find_overlays(row, overlays, op=all):\n",
    "    if row.overlay is None:\n",
    "        return False\n",
    "    else:\n",
    "        return op([o in row.overlay for o in overlays])\n",
    "\n",
    "df[df.apply(lambda x: find_overlays(x, ['RIO', 'CDO'], op=any), axis=1)]"
   ]
  },
  {
   "cell_type": "code",
   "execution_count": null,
   "metadata": {},
   "outputs": [],
   "source": [
    "just_overlay['no_brackets'] = just_overlay['overlay'].apply(', '.join)"
   ]
  },
  {
   "cell_type": "code",
   "execution_count": null,
   "metadata": {},
   "outputs": [],
   "source": [
    "just_overlay.no_brackets.value_counts()"
   ]
  },
  {
   "cell_type": "code",
   "execution_count": null,
   "metadata": {},
   "outputs": [],
   "source": [
    "split = just_overlay.no_brackets.str.split(',', expand = True)\n",
    "split.rename(columns = {0: 'o1', 1: 'o2', 2: 'o3'}, inplace = True)\n",
    "\n",
    "for col in ['o1', 'o2', 'o3']:\n",
    "    split[col] = split[col].fillna('')"
   ]
  },
  {
   "cell_type": "code",
   "execution_count": null,
   "metadata": {},
   "outputs": [],
   "source": [
    "df = pd.concat([df, split], axis = 1)\n",
    "df.head()"
   ]
  },
  {
   "cell_type": "code",
   "execution_count": null,
   "metadata": {},
   "outputs": [],
   "source": [
    "# Make a dictionary for supplemental use\n",
    "supplemental_use_dict = {\n",
    "    # Supplemental Use found in Table 2 or Zoning Code Article 3\n",
    "    'O': 'oil_drilling', \n",
    "    'S': 'animal_slaughtering', \n",
    "    'G': 'surface_mining', \n",
    "    'K': 'equinekeeping', \n",
    "    'CA': 'commercial_and_artcraft', \n",
    "    'MU': 'mixed_use', \n",
    "    'FH': 'fence_heights', \n",
    "    'SN': 'sign', \n",
    "    'HS': 'hillside_standards',\n",
    "    'RG': 'rear_detached_garage', \n",
    "    'RPD': 'residential_planned_development', \n",
    "    'POD': 'pedestrian_oriented_district',\n",
    "    'CDO': 'community_design_overlay',\n",
    "    'NSO': 'neighborhood_stabilization_ordinance',\n",
    "    'RFA': 'residential_floor_area',\n",
    "    'MPR': 'modified_parking_requirement',\n",
    "    'RIO': 'river_improvement_overlay',\n",
    "    'HCR': 'hillside_construction_regulation',\n",
    "    'CPIO': 'community_plan_implementation_overlay',\n",
    "    'CUGU': 'clean_up_green_up_overlay',\n",
    "    # Other Zoning Designations found in Zoning Code Article 2, Sec 12.04 Zones - Districts - Symbols.\n",
    "    'CW': 'central_city_west_specific_plan', \n",
    "    'GM': 'glencoe_maxella_specific_plan', \n",
    "    'OX': 'oxford_triangle_specific_plan', \n",
    "    'PV': 'playa_vista_specific_plan', \n",
    "    'WC': 'warner_center_specific_plan', \n",
    "    'ADP': 'alameda_district_specific_plan', \n",
    "    'CCS': 'century_city_south_studio_zone', \n",
    "    'CSA': 'centers_study_area', \n",
    "    'PKM': 'park_mile_specific_plan',\n",
    "    'LAX': 'los_angeles_airport_specific_plan', \n",
    "    'HPOZ': 'historic_preservation_overlay_zone', \n",
    "    'LASED': 'la_sports_and_entertainment_specific_plan',\n",
    "    'USC-1A': 'usc_university_park_campus_specific_plan_subarea_1a_zone',\n",
    "    'USC-1B': 'usc_university_park_campus_specific_plan_subarea_1b_zone',    \n",
    "    'USC-2': 'usc_university_park_campus_specific_plan_subarea_2_zone',\n",
    "    'USC-3': 'usc_university_park_campus_specific_plan_subarea_3_zone',\n",
    "    'PVSP': 'ponte_vista_at_san_pedro_specific_plan'\n",
    "}"
   ]
  },
  {
   "cell_type": "code",
   "execution_count": null,
   "metadata": {},
   "outputs": [],
   "source": [
    "# This is not working as it should -- o2 and o3 aren't getting filled\n",
    "for col in ['o1', 'o2', 'o3']:\n",
    "    new_col = f'{col}_descrip'\n",
    "    df[col] = df[col].str.strip()\n",
    "    df[new_col] = df[col].map(supplemental_use_dict)\n",
    "    df[new_col] = df[new_col].fillna('')"
   ]
  },
  {
   "cell_type": "code",
   "execution_count": null,
   "metadata": {},
   "outputs": [],
   "source": [
    "df[df.o3 != '']\n",
    "\n",
    "# Need to clean up where o1 didn't map to anything, and o2 and o3 are filled. Make sure the stuff that isn't overlays is removed.\n",
    "# Maybe do long first, then make wide again?"
   ]
  },
  {
   "cell_type": "code",
   "execution_count": null,
   "metadata": {},
   "outputs": [],
   "source": [
    "df[df.ZONE_CMPLT.str.contains('ADP')]"
   ]
  },
  {
   "cell_type": "code",
   "execution_count": null,
   "metadata": {},
   "outputs": [],
   "source": [
    "# Address the Nones first before converting to int\n",
    "\"\"\" \n",
    "Q: Qualified Classification are restrictions to ensure compatibility with surrounding property\n",
    "T: Tentative Zone Classifications are City Council requirements for public improvements\n",
    "\n",
    "for col in ['Q', 'T']:\n",
    "    df[col] = df[col].astype(int)\n",
    "\"\"\""
   ]
  },
  {
   "cell_type": "markdown",
   "metadata": {},
   "source": [
    "## Merge back together"
   ]
  },
  {
   "cell_type": "code",
   "execution_count": null,
   "metadata": {},
   "outputs": [],
   "source": [
    "full = catalog.zoning.read()\n",
    "full.crs = {'init':'epsg:2229'}"
   ]
  },
  {
   "cell_type": "code",
   "execution_count": null,
   "metadata": {},
   "outputs": [],
   "source": [
    "df2 = pd.merge(full, df, on = 'ZONE_CMPLT', how = 'left', validate = 'm:1')"
   ]
  }
 ],
 "metadata": {
  "kernelspec": {
   "display_name": "Python 3",
   "language": "python",
   "name": "python3"
  },
  "language_info": {
   "codemirror_mode": {
    "name": "ipython",
    "version": 3
   },
   "file_extension": ".py",
   "mimetype": "text/x-python",
   "name": "python",
   "nbconvert_exporter": "python",
   "pygments_lexer": "ipython3",
   "version": "3.7.3"
  }
 },
 "nbformat": 4,
 "nbformat_minor": 4
}
