{
 "cells": [
  {
   "cell_type": "markdown",
   "metadata": {},
   "source": [
    "## Test out the laplan.pcts functions"
   ]
  },
  {
   "cell_type": "code",
   "execution_count": 1,
   "metadata": {},
   "outputs": [],
   "source": [
    "import boto3\n",
    "import intake\n",
    "import pandas\n",
    "\n",
    "import laplan"
   ]
  },
  {
   "cell_type": "code",
   "execution_count": 2,
   "metadata": {},
   "outputs": [],
   "source": [
    "catalog = intake.open_catalog(\"../catalogs/*.yml\")\n",
    "\n",
    "s3 = boto3.client('s3')\n",
    "bucket_name = 'city-planning-entitlements'"
   ]
  },
  {
   "cell_type": "code",
   "execution_count": 3,
   "metadata": {},
   "outputs": [
    {
     "data": {
      "text/plain": [
       "'\\nLet\\'s replicate what this does\\n\\n\\nFULL_PREFIX = list(laplan.pcts.VALID_PCTS_PREFIX)\\nremove_prefix = [\"ENV\", \"PAR\", \"ADM\"]\\nprefix = [x for x in FULL_PREFIX if x not in remove_prefix]\\n\\nsuffix = [\"TOC\", \"CUB\"]\\n\\n\\npcts = laplan.pcts.subset_pcts(pcts,\\n                              start_date=\"2017-10-01\",\\n                              prefix_list=prefix,\\n                              get_dummies=True)\\n\\npcts = laplan.pcts.drop_child_cases(pcts, keep_child_entitlements=True)\\n'"
      ]
     },
     "execution_count": 3,
     "metadata": {},
     "output_type": "execute_result"
    }
   ],
   "source": [
    "pcts = catalog.pcts.read()\n",
    "\"\"\"\n",
    "Let's replicate what this does\n",
    "\n",
    "\n",
    "FULL_PREFIX = list(laplan.pcts.VALID_PCTS_PREFIX)\n",
    "remove_prefix = [\"ENV\", \"PAR\", \"ADM\"]\n",
    "prefix = [x for x in FULL_PREFIX if x not in remove_prefix]\n",
    "\n",
    "suffix = [\"TOC\", \"CUB\"]\n",
    "\n",
    "\n",
    "pcts = laplan.pcts.subset_pcts(pcts,\n",
    "                              start_date=\"2017-10-01\",\n",
    "                              prefix_list=prefix,\n",
    "                              get_dummies=True)\n",
    "\n",
    "pcts = laplan.pcts.drop_child_cases(pcts, keep_child_entitlements=True)\n",
    "\"\"\""
   ]
  },
  {
   "cell_type": "code",
   "execution_count": 4,
   "metadata": {},
   "outputs": [],
   "source": [
    "remove_prefix = [\"ENV\", \"PAR\", \"ADM\"]\n",
    "FULL_PREFIX = list(laplan.pcts.VALID_PCTS_PREFIX)\n",
    "prefix_list = [x for x in FULL_PREFIX if x not in remove_prefix]\n",
    "\n",
    "suffix_list = [\"TOC\", \"CUB\"]\n",
    "\n",
    "start_date = \"2017-10-01\"\n",
    "end_date = pandas.Timestamp.now()"
   ]
  },
  {
   "cell_type": "code",
   "execution_count": 5,
   "metadata": {},
   "outputs": [],
   "source": [
    "# Subset PCTS by start / end date\n",
    "start_date = (\n",
    "    pandas.to_datetime(start_date)\n",
    "    if start_date\n",
    "    else pandas.to_datetime(\"2010-01-01\")\n",
    ")\n",
    "end_date = pandas.to_datetime(end_date) if end_date else pandas.Timestamp.now()\n",
    "\n",
    "pcts = (\n",
    "    pcts[\n",
    "        (pcts.FILE_DATE >= start_date) & (pcts.FILE_DATE <= end_date)\n",
    "    ]\n",
    "    .drop_duplicates()\n",
    "    .reset_index(drop=True)\n",
    ")"
   ]
  },
  {
   "cell_type": "code",
   "execution_count": 6,
   "metadata": {},
   "outputs": [
    {
     "name": "stdout",
     "output_type": "stream",
     "text": [
      "show case number parsed with GENERAL_PCTS_RE\n"
     ]
    },
    {
     "data": {
      "text/html": [
       "<div>\n",
       "<style scoped>\n",
       "    .dataframe tbody tr th:only-of-type {\n",
       "        vertical-align: middle;\n",
       "    }\n",
       "\n",
       "    .dataframe tbody tr th {\n",
       "        vertical-align: top;\n",
       "    }\n",
       "\n",
       "    .dataframe thead th {\n",
       "        text-align: right;\n",
       "    }\n",
       "</style>\n",
       "<table border=\"1\" class=\"dataframe\">\n",
       "  <thead>\n",
       "    <tr style=\"text-align: right;\">\n",
       "      <th></th>\n",
       "      <th>0</th>\n",
       "      <th>1</th>\n",
       "      <th>2</th>\n",
       "      <th>3</th>\n",
       "    </tr>\n",
       "  </thead>\n",
       "  <tbody>\n",
       "    <tr>\n",
       "      <th>0</th>\n",
       "      <td>DIR</td>\n",
       "      <td>2017</td>\n",
       "      <td>4014</td>\n",
       "      <td>-CWNC</td>\n",
       "    </tr>\n",
       "    <tr>\n",
       "      <th>1</th>\n",
       "      <td>ZA</td>\n",
       "      <td>2017</td>\n",
       "      <td>3955</td>\n",
       "      <td>-CU</td>\n",
       "    </tr>\n",
       "    <tr>\n",
       "      <th>2</th>\n",
       "      <td>ENV</td>\n",
       "      <td>2017</td>\n",
       "      <td>3956</td>\n",
       "      <td>-CE</td>\n",
       "    </tr>\n",
       "    <tr>\n",
       "      <th>3</th>\n",
       "      <td>DIR</td>\n",
       "      <td>2017</td>\n",
       "      <td>3957</td>\n",
       "      <td>-VSO</td>\n",
       "    </tr>\n",
       "    <tr>\n",
       "      <th>4</th>\n",
       "      <td>ZA</td>\n",
       "      <td>2017</td>\n",
       "      <td>3958</td>\n",
       "      <td>-ZAA</td>\n",
       "    </tr>\n",
       "  </tbody>\n",
       "</table>\n",
       "</div>"
      ],
      "text/plain": [
       "     0     1     2      3\n",
       "0  DIR  2017  4014  -CWNC\n",
       "1   ZA  2017  3955    -CU\n",
       "2  ENV  2017  3956    -CE\n",
       "3  DIR  2017  3957   -VSO\n",
       "4   ZA  2017  3958   -ZAA"
      ]
     },
     "metadata": {},
     "output_type": "display_data"
    },
    {
     "data": {
      "text/plain": [
       "0    DIR\n",
       "1     ZA\n",
       "2    ENV\n",
       "3    DIR\n",
       "4     ZA\n",
       "Name: 0, dtype: object"
      ]
     },
     "metadata": {},
     "output_type": "display_data"
    },
    {
     "data": {
      "text/plain": [
       "0    CWNC\n",
       "1      CU\n",
       "2      CE\n",
       "3     VSO\n",
       "4     ZAA\n",
       "Name: 3, dtype: object"
      ]
     },
     "metadata": {},
     "output_type": "display_data"
    }
   ],
   "source": [
    "import re\n",
    "\n",
    "GENERAL_PCTS_RE = re.compile(\"([A-Z]+)-([0-9X]{4})-([0-9]+)((?:-[A-Z0-9]+)*)$\")\n",
    "MISSING_YEAR_RE = re.compile(\"([A-Z]+)-([0-9]+)((?:-[A-Z0-9]+)*)$\")\n",
    "\n",
    "# Parse CASE_NBR\n",
    "cols = pcts.CASE_NUMBER.str.extract(GENERAL_PCTS_RE)\n",
    "\n",
    "all_prefixes = cols[0]\n",
    "all_suffixes = cols[3].str[1:]\n",
    "\n",
    "print(\"show case number parsed with GENERAL_PCTS_RE\")\n",
    "display(cols.head())\n",
    "display(all_prefixes.head())\n",
    "display(all_suffixes.head())"
   ]
  },
  {
   "cell_type": "code",
   "execution_count": 7,
   "metadata": {},
   "outputs": [
    {
     "name": "stdout",
     "output_type": "stream",
     "text": [
      "failed to parse go through MISSING_YEAR_RE\n"
     ]
    },
    {
     "data": {
      "text/html": [
       "<div>\n",
       "<style scoped>\n",
       "    .dataframe tbody tr th:only-of-type {\n",
       "        vertical-align: middle;\n",
       "    }\n",
       "\n",
       "    .dataframe tbody tr th {\n",
       "        vertical-align: top;\n",
       "    }\n",
       "\n",
       "    .dataframe thead th {\n",
       "        text-align: right;\n",
       "    }\n",
       "</style>\n",
       "<table border=\"1\" class=\"dataframe\">\n",
       "  <thead>\n",
       "    <tr style=\"text-align: right;\">\n",
       "      <th></th>\n",
       "      <th>0</th>\n",
       "      <th>1</th>\n",
       "      <th>2</th>\n",
       "    </tr>\n",
       "  </thead>\n",
       "  <tbody>\n",
       "    <tr>\n",
       "      <th>42</th>\n",
       "      <td>TT</td>\n",
       "      <td>72841</td>\n",
       "      <td>-REV-1A</td>\n",
       "    </tr>\n",
       "    <tr>\n",
       "      <th>120</th>\n",
       "      <td>VTT</td>\n",
       "      <td>74835</td>\n",
       "      <td>-CN</td>\n",
       "    </tr>\n",
       "    <tr>\n",
       "      <th>121</th>\n",
       "      <td>VTT</td>\n",
       "      <td>74835</td>\n",
       "      <td>-CN</td>\n",
       "    </tr>\n",
       "    <tr>\n",
       "      <th>122</th>\n",
       "      <td>VTT</td>\n",
       "      <td>74835</td>\n",
       "      <td>-CN</td>\n",
       "    </tr>\n",
       "    <tr>\n",
       "      <th>348</th>\n",
       "      <td>VTT</td>\n",
       "      <td>78424</td>\n",
       "      <td>-CN</td>\n",
       "    </tr>\n",
       "  </tbody>\n",
       "</table>\n",
       "</div>"
      ],
      "text/plain": [
       "       0      1        2\n",
       "42    TT  72841  -REV-1A\n",
       "120  VTT  74835      -CN\n",
       "121  VTT  74835      -CN\n",
       "122  VTT  74835      -CN\n",
       "348  VTT  78424      -CN"
      ]
     },
     "metadata": {},
     "output_type": "display_data"
    }
   ],
   "source": [
    "# Parse additional prefixes and suffixes that did not pass the first regex\n",
    "# to fill NaN values based on indices.  Suffixes at position 2 instead of 3.\n",
    "failed_general_parse = all_prefixes.isna()\n",
    "additional_cols = pcts[failed_general_parse].CASE_NUMBER.str.extract(MISSING_YEAR_RE)\n",
    "\n",
    "print(\"failed to parse go through MISSING_YEAR_RE\")\n",
    "display(additional_cols.head())"
   ]
  },
  {
   "cell_type": "code",
   "execution_count": 8,
   "metadata": {},
   "outputs": [],
   "source": [
    "# Now fill in those failed to parse the first time around\n",
    "# Find the index where that happened, and assign those values for prefixes and suffixes\n",
    "\n",
    "additional_prefixes = additional_cols[0]\n",
    "additional_suffixes = additional_cols[2].str[1:]\n",
    "\n",
    "all_prefixes.at[additional_prefixes.index] = additional_prefixes.values\n",
    "all_suffixes.at[additional_suffixes.index] = additional_suffixes.values\n",
    "all_suffixes = all_suffixes.str.split(\"-\", expand=True)"
   ]
  },
  {
   "cell_type": "code",
   "execution_count": 9,
   "metadata": {},
   "outputs": [],
   "source": [
    "# Start by excluding all rows that failed to parse.\n",
    "successfully_parsed = all_prefixes.notna()\n",
    "\n",
    "\n",
    "# Create 2 series, holds all True values for each case\n",
    "allow_prefix = pandas.Series(True, index=pcts.index)\n",
    "allow_suffix = pandas.Series(True, index=pcts.index)"
   ]
  },
  {
   "cell_type": "code",
   "execution_count": 10,
   "metadata": {},
   "outputs": [
    {
     "data": {
      "text/plain": [
       "0          True\n",
       "1          True\n",
       "2         False\n",
       "3          True\n",
       "4          True\n",
       "          ...  \n",
       "494946     True\n",
       "494947     True\n",
       "494948    False\n",
       "494949    False\n",
       "494950    False\n",
       "Name: 0, Length: 494951, dtype: bool"
      ]
     },
     "execution_count": 10,
     "metadata": {},
     "output_type": "execute_result"
    }
   ],
   "source": [
    "# Subset by prefix\n",
    "if prefix_list is not None:\n",
    "    allow_prefix = all_prefixes.isin(prefix_list)\n",
    "    \n",
    "# Takes the previous series, which was all true,\n",
    "# now only those who are part of \"allow_prefix\" have True, rest are False\n",
    "\n",
    "allow_prefix"
   ]
  },
  {
   "cell_type": "code",
   "execution_count": 11,
   "metadata": {},
   "outputs": [
    {
     "name": "stdout",
     "output_type": "stream",
     "text": [
      "before: all Trues\n"
     ]
    },
    {
     "data": {
      "text/plain": [
       "0         True\n",
       "1         True\n",
       "2         True\n",
       "3         True\n",
       "4         True\n",
       "          ... \n",
       "494946    True\n",
       "494947    True\n",
       "494948    True\n",
       "494949    True\n",
       "494950    True\n",
       "Length: 494951, dtype: bool"
      ]
     },
     "metadata": {},
     "output_type": "display_data"
    },
    {
     "name": "stdout",
     "output_type": "stream",
     "text": [
      "after: all Falses\n"
     ]
    },
    {
     "data": {
      "text/plain": [
       "0         False\n",
       "1         False\n",
       "2         False\n",
       "3         False\n",
       "4         False\n",
       "          ...  \n",
       "494946    False\n",
       "494947    False\n",
       "494948    False\n",
       "494949    False\n",
       "494950    False\n",
       "Length: 494951, dtype: bool"
      ]
     },
     "metadata": {},
     "output_type": "display_data"
    }
   ],
   "source": [
    "# Subset by suffix. Since the suffix may be in any of the all_suffixes\n",
    "# column, we logical-or them together, checking if each column has one\n",
    "# of the ?requested ones.\n",
    "if suffix_list is not None:\n",
    "    print(\"before: all Trues\")\n",
    "    display(allow_suffix)\n",
    "    allow_suffix = ~allow_suffix\n",
    "    print(\"after: all Falses\")\n",
    "    display(allow_suffix)\n",
    "    \n",
    "    # Loop through each column in all_suffixes, labeled 0, 1, ..., n\n",
    "    # Turn on to be True if it's already True (will work after 2nd iteration), \n",
    "    # or if the suffix is found in our allowed suffixes\n",
    "    # This way, even if we loop through ones that aren't in our allowed suffixes, if it's already True,\n",
    "    # it won't turn to False\n",
    "    for c in all_suffixes.columns:\n",
    "        \n",
    "        allow_suffix = allow_suffix | all_suffixes[c].isin(suffix_list)\n"
   ]
  },
  {
   "cell_type": "code",
   "execution_count": 12,
   "metadata": {},
   "outputs": [],
   "source": [
    "# If this condition is met, select the row (which is indexed by case_number)\n",
    "subset = successfully_parsed & allow_prefix & allow_suffix\n",
    "\n",
    "pcts = pcts[subset]\n",
    "\n",
    "# Also, only select the rows that meet the above condition for our prefixes and suffixes dataframes\n",
    "all_prefixes = all_prefixes[subset]\n",
    "all_suffixes = all_suffixes[subset]"
   ]
  },
  {
   "cell_type": "code",
   "execution_count": 13,
   "metadata": {},
   "outputs": [],
   "source": [
    "prefix_dummies = pandas.get_dummies(all_prefixes, dtype=\"bool\")"
   ]
  },
  {
   "cell_type": "code",
   "execution_count": 14,
   "metadata": {},
   "outputs": [
    {
     "name": "stdout",
     "output_type": "stream",
     "text": [
      "set of prefix_list or all the valid ones: {'APCNV', 'APCS', 'APCSV', 'APCC', 'VTT', 'PS', 'CPC', 'CHC', 'ZA', 'AA', 'TT', 'DIR', 'APCW', 'APCE', 'HPO', 'APCH'}\n",
      "set of prefixes in our dummies: {'APCC', 'CPC', 'ZA', 'DIR', 'APCW', 'APCE', 'APCH'}\n",
      "missing prefixes: {'APCNV', 'APCS', 'APCSV', 'VTT', 'CHC', 'AA', 'TT', 'HPO', 'PS'}\n"
     ]
    }
   ],
   "source": [
    "print(f\"set of prefix_list or all the valid ones: {set(prefix_list or VALID_PCTS_PREFIX)}\")\n",
    "print(f\"set of prefixes in our dummies: {set(prefix_dummies.columns)}\")\n",
    "missing_prefixes = set(prefix_list or VALID_PCTS_PREFIX) - set(\n",
    "        prefix_dummies.columns\n",
    "    )\n",
    "print(f\"missing prefixes: {missing_prefixes}\")"
   ]
  },
  {
   "cell_type": "code",
   "execution_count": 15,
   "metadata": {},
   "outputs": [
    {
     "data": {
      "text/html": [
       "<div>\n",
       "<style scoped>\n",
       "    .dataframe tbody tr th:only-of-type {\n",
       "        vertical-align: middle;\n",
       "    }\n",
       "\n",
       "    .dataframe tbody tr th {\n",
       "        vertical-align: top;\n",
       "    }\n",
       "\n",
       "    .dataframe thead th {\n",
       "        text-align: right;\n",
       "    }\n",
       "</style>\n",
       "<table border=\"1\" class=\"dataframe\">\n",
       "  <thead>\n",
       "    <tr style=\"text-align: right;\">\n",
       "      <th></th>\n",
       "      <th>1A</th>\n",
       "      <th>2A</th>\n",
       "      <th>CCMP</th>\n",
       "      <th>CDO</th>\n",
       "      <th>CDP</th>\n",
       "      <th>CPIOA</th>\n",
       "      <th>CPIOE</th>\n",
       "      <th>CU</th>\n",
       "      <th>CUB</th>\n",
       "      <th>CUX</th>\n",
       "      <th>...</th>\n",
       "      <th>TOC</th>\n",
       "      <th>VCU</th>\n",
       "      <th>VZC</th>\n",
       "      <th>WDI</th>\n",
       "      <th>ZAA</th>\n",
       "      <th>ZAD</th>\n",
       "      <th>ZAI</th>\n",
       "      <th>ZBA</th>\n",
       "      <th>ZC</th>\n",
       "      <th>ZV</th>\n",
       "    </tr>\n",
       "  </thead>\n",
       "  <tbody>\n",
       "    <tr>\n",
       "      <th>94</th>\n",
       "      <td>False</td>\n",
       "      <td>False</td>\n",
       "      <td>False</td>\n",
       "      <td>False</td>\n",
       "      <td>False</td>\n",
       "      <td>False</td>\n",
       "      <td>False</td>\n",
       "      <td>False</td>\n",
       "      <td>True</td>\n",
       "      <td>False</td>\n",
       "      <td>...</td>\n",
       "      <td>False</td>\n",
       "      <td>False</td>\n",
       "      <td>False</td>\n",
       "      <td>False</td>\n",
       "      <td>False</td>\n",
       "      <td>False</td>\n",
       "      <td>False</td>\n",
       "      <td>False</td>\n",
       "      <td>False</td>\n",
       "      <td>False</td>\n",
       "    </tr>\n",
       "    <tr>\n",
       "      <th>95</th>\n",
       "      <td>False</td>\n",
       "      <td>False</td>\n",
       "      <td>False</td>\n",
       "      <td>False</td>\n",
       "      <td>False</td>\n",
       "      <td>False</td>\n",
       "      <td>False</td>\n",
       "      <td>False</td>\n",
       "      <td>True</td>\n",
       "      <td>False</td>\n",
       "      <td>...</td>\n",
       "      <td>False</td>\n",
       "      <td>False</td>\n",
       "      <td>False</td>\n",
       "      <td>False</td>\n",
       "      <td>False</td>\n",
       "      <td>False</td>\n",
       "      <td>False</td>\n",
       "      <td>False</td>\n",
       "      <td>False</td>\n",
       "      <td>False</td>\n",
       "    </tr>\n",
       "    <tr>\n",
       "      <th>96</th>\n",
       "      <td>False</td>\n",
       "      <td>False</td>\n",
       "      <td>False</td>\n",
       "      <td>False</td>\n",
       "      <td>False</td>\n",
       "      <td>False</td>\n",
       "      <td>False</td>\n",
       "      <td>False</td>\n",
       "      <td>True</td>\n",
       "      <td>False</td>\n",
       "      <td>...</td>\n",
       "      <td>False</td>\n",
       "      <td>False</td>\n",
       "      <td>False</td>\n",
       "      <td>False</td>\n",
       "      <td>False</td>\n",
       "      <td>False</td>\n",
       "      <td>False</td>\n",
       "      <td>False</td>\n",
       "      <td>False</td>\n",
       "      <td>False</td>\n",
       "    </tr>\n",
       "    <tr>\n",
       "      <th>97</th>\n",
       "      <td>False</td>\n",
       "      <td>False</td>\n",
       "      <td>False</td>\n",
       "      <td>False</td>\n",
       "      <td>False</td>\n",
       "      <td>False</td>\n",
       "      <td>False</td>\n",
       "      <td>False</td>\n",
       "      <td>True</td>\n",
       "      <td>False</td>\n",
       "      <td>...</td>\n",
       "      <td>False</td>\n",
       "      <td>False</td>\n",
       "      <td>False</td>\n",
       "      <td>False</td>\n",
       "      <td>False</td>\n",
       "      <td>False</td>\n",
       "      <td>False</td>\n",
       "      <td>False</td>\n",
       "      <td>False</td>\n",
       "      <td>False</td>\n",
       "    </tr>\n",
       "    <tr>\n",
       "      <th>157</th>\n",
       "      <td>False</td>\n",
       "      <td>False</td>\n",
       "      <td>False</td>\n",
       "      <td>False</td>\n",
       "      <td>False</td>\n",
       "      <td>False</td>\n",
       "      <td>False</td>\n",
       "      <td>False</td>\n",
       "      <td>True</td>\n",
       "      <td>False</td>\n",
       "      <td>...</td>\n",
       "      <td>False</td>\n",
       "      <td>False</td>\n",
       "      <td>False</td>\n",
       "      <td>False</td>\n",
       "      <td>False</td>\n",
       "      <td>False</td>\n",
       "      <td>False</td>\n",
       "      <td>False</td>\n",
       "      <td>False</td>\n",
       "      <td>False</td>\n",
       "    </tr>\n",
       "  </tbody>\n",
       "</table>\n",
       "<p>5 rows × 46 columns</p>\n",
       "</div>"
      ],
      "text/plain": [
       "        1A     2A   CCMP    CDO    CDP  CPIOA  CPIOE     CU   CUB    CUX  ...  \\\n",
       "94   False  False  False  False  False  False  False  False  True  False  ...   \n",
       "95   False  False  False  False  False  False  False  False  True  False  ...   \n",
       "96   False  False  False  False  False  False  False  False  True  False  ...   \n",
       "97   False  False  False  False  False  False  False  False  True  False  ...   \n",
       "157  False  False  False  False  False  False  False  False  True  False  ...   \n",
       "\n",
       "       TOC    VCU    VZC    WDI    ZAA    ZAD    ZAI    ZBA     ZC     ZV  \n",
       "94   False  False  False  False  False  False  False  False  False  False  \n",
       "95   False  False  False  False  False  False  False  False  False  False  \n",
       "96   False  False  False  False  False  False  False  False  False  False  \n",
       "97   False  False  False  False  False  False  False  False  False  False  \n",
       "157  False  False  False  False  False  False  False  False  False  False  \n",
       "\n",
       "[5 rows x 46 columns]"
      ]
     },
     "metadata": {},
     "output_type": "display_data"
    },
    {
     "name": "stdout",
     "output_type": "stream",
     "text": [
      "set of suffix_list or all the valid ones: {'TOC', 'CUB'}\n",
      "set of suffixes in our dummies: {'SPR', 'TDR', 'CPIOE', '2A', 'CDO', 'CPIOA', 'GB', 'MEL', 'MSC', 'PA4', 'PA5', 'DB', 'PA1', 'GPA', 'MSP', 'SN', 'ZAD', 'PA3', 'PA9', 'SPE', 'SPP', '1A', 'M1', 'ZC', 'DA', 'DRB', 'HD', 'MCUP', 'SIP', 'ZBA', 'SPPA', 'P', 'PA2', 'VZC', 'TOC', 'CCMP', 'WDI', 'ZAA', 'VCU', 'ZV', 'CUX', 'CU', 'ZAI', 'CDP', 'CUB', 'DD'}\n",
      "missing suffixes: set()\n"
     ]
    }
   ],
   "source": [
    "suffix_dummies = pandas.get_dummies(all_suffixes.stack(), dtype=\"bool\").max(\n",
    "            level=0\n",
    "        )\n",
    "display(suffix_dummies.head())\n",
    "\n",
    "# Identify if any of the requested suffixes are missing. If so,\n",
    "# populate them with a column of falses\n",
    "print(f\"set of suffix_list or all the valid ones: {set(suffix_list or VALID_PCTS_SUFFIX)}\")\n",
    "print(f\"set of suffixes in our dummies: {set(suffix_dummies.columns)}\")\n",
    "missing_suffixes = set(suffix_list or VALID_PCTS_SUFFIX) - set(\n",
    "    suffix_dummies.columns\n",
    ")\n",
    "print(f\"missing suffixes: {missing_suffixes}\")"
   ]
  },
  {
   "cell_type": "code",
   "execution_count": null,
   "metadata": {},
   "outputs": [],
   "source": []
  }
 ],
 "metadata": {
  "kernelspec": {
   "display_name": "Python 3",
   "language": "python",
   "name": "python3"
  },
  "language_info": {
   "codemirror_mode": {
    "name": "ipython",
    "version": 3
   },
   "file_extension": ".py",
   "mimetype": "text/x-python",
   "name": "python",
   "nbconvert_exporter": "python",
   "pygments_lexer": "ipython3",
   "version": "3.7.8"
  }
 },
 "nbformat": 4,
 "nbformat_minor": 4
}
