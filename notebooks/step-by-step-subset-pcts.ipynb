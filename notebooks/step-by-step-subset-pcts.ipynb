{
 "cells": [
  {
   "cell_type": "markdown",
   "metadata": {},
   "source": [
    "## Test out the laplan.pcts functions"
   ]
  },
  {
   "cell_type": "code",
   "execution_count": 1,
   "metadata": {},
   "outputs": [],
   "source": [
    "import boto3\n",
    "import intake\n",
    "import pandas\n",
    "\n",
    "import laplan"
   ]
  },
  {
   "cell_type": "code",
   "execution_count": 2,
   "metadata": {},
   "outputs": [],
   "source": [
    "catalog = intake.open_catalog(\"../catalogs/*.yml\")\n",
    "\n",
    "s3 = boto3.client('s3')\n",
    "bucket_name = 'city-planning-entitlements'"
   ]
  },
  {
   "cell_type": "code",
   "execution_count": 3,
   "metadata": {},
   "outputs": [
    {
     "data": {
      "text/plain": [
       "'\\nLet\\'s replicate what this does, but just on select cases to see what\\'s going on\\n\\n\\nFULL_PREFIX = list(laplan.pcts.VALID_PCTS_PREFIX)\\nremove_prefix = [\"ENV\", \"PAR\", \"ADM\"]\\nprefix = [x for x in FULL_PREFIX if x not in remove_prefix]\\n\\nsuffix = [\"TOC\", \"CUB\"]\\n\\n\\npcts = laplan.pcts.subset_pcts(pcts,\\n                              start_date=\"2017-10-01\",\\n                              prefix_list=prefix,\\n                              get_dummies=True)\\n\\npcts = laplan.pcts.drop_child_cases(pcts, keep_child_entitlements=True)\\n'"
      ]
     },
     "execution_count": 3,
     "metadata": {},
     "output_type": "execute_result"
    }
   ],
   "source": [
    "pcts = catalog.pcts.read()\n",
    "\"\"\"\n",
    "Let's replicate what this does, but just on select cases to see what's going on\n",
    "\n",
    "\n",
    "FULL_PREFIX = list(laplan.pcts.VALID_PCTS_PREFIX)\n",
    "remove_prefix = [\"ENV\", \"PAR\", \"ADM\"]\n",
    "prefix = [x for x in FULL_PREFIX if x not in remove_prefix]\n",
    "\n",
    "suffix = [\"TOC\", \"CUB\"]\n",
    "\n",
    "\n",
    "pcts = laplan.pcts.subset_pcts(pcts,\n",
    "                              start_date=\"2017-10-01\",\n",
    "                              prefix_list=prefix,\n",
    "                              get_dummies=True)\n",
    "\n",
    "pcts = laplan.pcts.drop_child_cases(pcts, keep_child_entitlements=True)\n",
    "\"\"\""
   ]
  },
  {
   "cell_type": "code",
   "execution_count": 4,
   "metadata": {},
   "outputs": [],
   "source": [
    "cases_to_keep = [\n",
    "    \"PAR-2020-384-TOC\", # this should get dropped because of excluded prefix\n",
    "    \"DIR-2020-360-TOC-SPR\", # this should get kept\n",
    "    \"ZA-2010-861-CUB-CU-ZV-ZAA-SPR-PA1\", # this has lots of suffixes for us to learn about\n",
    "    \"PAR-2020-387-CUB\", # this should get dropped because of excluded prefix\n",
    "]\n",
    "\n",
    "pcts = pcts[pcts.CASE_NUMBER.isin(cases_to_keep)].drop_duplicates(subset = [\"CASE_NUMBER\"])"
   ]
  },
  {
   "cell_type": "code",
   "execution_count": 5,
   "metadata": {},
   "outputs": [
    {
     "name": "stdout",
     "output_type": "stream",
     "text": [
      "# obs: 4\n",
      "# unique case numbers: 4\n"
     ]
    }
   ],
   "source": [
    "print(f\"# obs: {len(pcts)}\")\n",
    "print(f\"# unique case numbers: {len(pcts.CASE_NUMBER.unique())}\")"
   ]
  },
  {
   "cell_type": "code",
   "execution_count": 6,
   "metadata": {},
   "outputs": [],
   "source": [
    "remove_prefix = [\"ENV\", \"PAR\", \"ADM\"]\n",
    "FULL_PREFIX = list(laplan.pcts.VALID_PCTS_PREFIX)\n",
    "prefix_list = [x for x in FULL_PREFIX if x not in remove_prefix]\n",
    "\n",
    "suffix_list = [\"TOC\", \"CUB\"]\n",
    "\n",
    "start_date = \"2017-10-01\"\n",
    "end_date = pandas.Timestamp.now()"
   ]
  },
  {
   "cell_type": "code",
   "execution_count": 7,
   "metadata": {},
   "outputs": [],
   "source": [
    "# Subset PCTS by start / end date\n",
    "start_date = (\n",
    "    pandas.to_datetime(start_date)\n",
    "    if start_date\n",
    "    else pandas.to_datetime(\"2010-01-01\")\n",
    ")\n",
    "end_date = pandas.to_datetime(end_date) if end_date else pandas.Timestamp.now()\n",
    "\n",
    "pcts = (\n",
    "    pcts[\n",
    "        (pcts.FILE_DATE >= start_date) & (pcts.FILE_DATE <= end_date)\n",
    "    ]\n",
    "    .drop_duplicates()\n",
    "    .reset_index(drop=True)\n",
    ")"
   ]
  },
  {
   "cell_type": "code",
   "execution_count": 8,
   "metadata": {},
   "outputs": [
    {
     "name": "stdout",
     "output_type": "stream",
     "text": [
      "show case number parsed with GENERAL_PCTS_RE\n"
     ]
    },
    {
     "data": {
      "text/html": [
       "<div>\n",
       "<style scoped>\n",
       "    .dataframe tbody tr th:only-of-type {\n",
       "        vertical-align: middle;\n",
       "    }\n",
       "\n",
       "    .dataframe tbody tr th {\n",
       "        vertical-align: top;\n",
       "    }\n",
       "\n",
       "    .dataframe thead th {\n",
       "        text-align: right;\n",
       "    }\n",
       "</style>\n",
       "<table border=\"1\" class=\"dataframe\">\n",
       "  <thead>\n",
       "    <tr style=\"text-align: right;\">\n",
       "      <th></th>\n",
       "      <th>0</th>\n",
       "      <th>1</th>\n",
       "      <th>2</th>\n",
       "      <th>3</th>\n",
       "    </tr>\n",
       "  </thead>\n",
       "  <tbody>\n",
       "    <tr>\n",
       "      <th>0</th>\n",
       "      <td>DIR</td>\n",
       "      <td>2020</td>\n",
       "      <td>360</td>\n",
       "      <td>-TOC-SPR</td>\n",
       "    </tr>\n",
       "    <tr>\n",
       "      <th>1</th>\n",
       "      <td>PAR</td>\n",
       "      <td>2020</td>\n",
       "      <td>384</td>\n",
       "      <td>-TOC</td>\n",
       "    </tr>\n",
       "    <tr>\n",
       "      <th>2</th>\n",
       "      <td>ZA</td>\n",
       "      <td>2010</td>\n",
       "      <td>861</td>\n",
       "      <td>-CUB-CU-ZV-ZAA-SPR-PA1</td>\n",
       "    </tr>\n",
       "    <tr>\n",
       "      <th>3</th>\n",
       "      <td>PAR</td>\n",
       "      <td>2020</td>\n",
       "      <td>387</td>\n",
       "      <td>-CUB</td>\n",
       "    </tr>\n",
       "  </tbody>\n",
       "</table>\n",
       "</div>"
      ],
      "text/plain": [
       "     0     1    2                       3\n",
       "0  DIR  2020  360                -TOC-SPR\n",
       "1  PAR  2020  384                    -TOC\n",
       "2   ZA  2010  861  -CUB-CU-ZV-ZAA-SPR-PA1\n",
       "3  PAR  2020  387                    -CUB"
      ]
     },
     "metadata": {},
     "output_type": "display_data"
    },
    {
     "data": {
      "text/plain": [
       "0    DIR\n",
       "1    PAR\n",
       "2     ZA\n",
       "3    PAR\n",
       "Name: 0, dtype: object"
      ]
     },
     "metadata": {},
     "output_type": "display_data"
    },
    {
     "data": {
      "text/plain": [
       "0                  TOC-SPR\n",
       "1                      TOC\n",
       "2    CUB-CU-ZV-ZAA-SPR-PA1\n",
       "3                      CUB\n",
       "Name: 3, dtype: object"
      ]
     },
     "metadata": {},
     "output_type": "display_data"
    }
   ],
   "source": [
    "import re\n",
    "\n",
    "GENERAL_PCTS_RE = re.compile(\"([A-Z]+)-([0-9X]{4})-([0-9]+)((?:-[A-Z0-9]+)*)$\")\n",
    "MISSING_YEAR_RE = re.compile(\"([A-Z]+)-([0-9]+)((?:-[A-Z0-9]+)*)$\")\n",
    "\n",
    "# Parse CASE_NBR\n",
    "cols = pcts.CASE_NUMBER.str.extract(GENERAL_PCTS_RE)\n",
    "\n",
    "all_prefixes = cols[0]\n",
    "all_suffixes = cols[3].str[1:]\n",
    "\n",
    "print(\"show case number parsed with GENERAL_PCTS_RE\")\n",
    "display(cols.head())\n",
    "display(all_prefixes.head())\n",
    "display(all_suffixes.head())"
   ]
  },
  {
   "cell_type": "code",
   "execution_count": 9,
   "metadata": {},
   "outputs": [
    {
     "name": "stdout",
     "output_type": "stream",
     "text": [
      "failed to parse go through MISSING_YEAR_RE\n"
     ]
    },
    {
     "data": {
      "text/html": [
       "<div>\n",
       "<style scoped>\n",
       "    .dataframe tbody tr th:only-of-type {\n",
       "        vertical-align: middle;\n",
       "    }\n",
       "\n",
       "    .dataframe tbody tr th {\n",
       "        vertical-align: top;\n",
       "    }\n",
       "\n",
       "    .dataframe thead th {\n",
       "        text-align: right;\n",
       "    }\n",
       "</style>\n",
       "<table border=\"1\" class=\"dataframe\">\n",
       "  <thead>\n",
       "    <tr style=\"text-align: right;\">\n",
       "      <th></th>\n",
       "      <th>0</th>\n",
       "      <th>1</th>\n",
       "      <th>2</th>\n",
       "    </tr>\n",
       "  </thead>\n",
       "  <tbody>\n",
       "  </tbody>\n",
       "</table>\n",
       "</div>"
      ],
      "text/plain": [
       "Empty DataFrame\n",
       "Columns: [0, 1, 2]\n",
       "Index: []"
      ]
     },
     "metadata": {},
     "output_type": "display_data"
    }
   ],
   "source": [
    "# Parse additional prefixes and suffixes that did not pass the first regex\n",
    "# to fill NaN values based on indices.  Suffixes at position 2 instead of 3.\n",
    "failed_general_parse = all_prefixes.isna()\n",
    "additional_cols = pcts[failed_general_parse].CASE_NUMBER.str.extract(MISSING_YEAR_RE)\n",
    "\n",
    "print(\"failed to parse go through MISSING_YEAR_RE\")\n",
    "display(additional_cols.head())"
   ]
  },
  {
   "cell_type": "code",
   "execution_count": 10,
   "metadata": {},
   "outputs": [],
   "source": [
    "# Now fill in those failed to parse the first time around\n",
    "# Find the index where that happened, and assign those values for prefixes and suffixes\n",
    "\n",
    "additional_prefixes = additional_cols[0]\n",
    "additional_suffixes = additional_cols[2].str[1:]\n",
    "\n",
    "all_prefixes.at[additional_prefixes.index] = additional_prefixes.values\n",
    "all_suffixes.at[additional_suffixes.index] = additional_suffixes.values\n",
    "all_suffixes = all_suffixes.str.split(\"-\", expand=True)"
   ]
  },
  {
   "cell_type": "code",
   "execution_count": 11,
   "metadata": {},
   "outputs": [],
   "source": [
    "# Start by excluding all rows that failed to parse.\n",
    "successfully_parsed = all_prefixes.notna()\n",
    "\n",
    "\n",
    "# Create 2 series, holds all True values for each case\n",
    "allow_prefix = pandas.Series(True, index=pcts.index)\n",
    "allow_suffix = pandas.Series(True, index=pcts.index)"
   ]
  },
  {
   "cell_type": "code",
   "execution_count": 12,
   "metadata": {},
   "outputs": [
    {
     "data": {
      "text/plain": [
       "0     True\n",
       "1    False\n",
       "2     True\n",
       "3    False\n",
       "Name: 0, dtype: bool"
      ]
     },
     "execution_count": 12,
     "metadata": {},
     "output_type": "execute_result"
    }
   ],
   "source": [
    "# Subset by prefix\n",
    "if prefix_list is not None:\n",
    "    allow_prefix = all_prefixes.isin(prefix_list)\n",
    "    \n",
    "# Takes the previous series, which was all true,\n",
    "# now only those who are part of \"allow_prefix\" have True, rest are False\n",
    "\n",
    "allow_prefix"
   ]
  },
  {
   "cell_type": "code",
   "execution_count": 13,
   "metadata": {},
   "outputs": [
    {
     "name": "stdout",
     "output_type": "stream",
     "text": [
      "before: all Trues\n"
     ]
    },
    {
     "data": {
      "text/plain": [
       "0    True\n",
       "1    True\n",
       "2    True\n",
       "3    True\n",
       "dtype: bool"
      ]
     },
     "metadata": {},
     "output_type": "display_data"
    },
    {
     "name": "stdout",
     "output_type": "stream",
     "text": [
      "after: all Falses\n"
     ]
    },
    {
     "data": {
      "text/plain": [
       "0    False\n",
       "1    False\n",
       "2    False\n",
       "3    False\n",
       "dtype: bool"
      ]
     },
     "metadata": {},
     "output_type": "display_data"
    },
    {
     "name": "stdout",
     "output_type": "stream",
     "text": [
      "Column: 0\n"
     ]
    },
    {
     "data": {
      "text/plain": [
       "0    True\n",
       "1    True\n",
       "2    True\n",
       "3    True\n",
       "dtype: bool"
      ]
     },
     "metadata": {},
     "output_type": "display_data"
    },
    {
     "name": "stdout",
     "output_type": "stream",
     "text": [
      "Column: 1\n"
     ]
    },
    {
     "data": {
      "text/plain": [
       "0    True\n",
       "1    True\n",
       "2    True\n",
       "3    True\n",
       "dtype: bool"
      ]
     },
     "metadata": {},
     "output_type": "display_data"
    },
    {
     "name": "stdout",
     "output_type": "stream",
     "text": [
      "Column: 2\n"
     ]
    },
    {
     "data": {
      "text/plain": [
       "0    True\n",
       "1    True\n",
       "2    True\n",
       "3    True\n",
       "dtype: bool"
      ]
     },
     "metadata": {},
     "output_type": "display_data"
    },
    {
     "name": "stdout",
     "output_type": "stream",
     "text": [
      "Column: 3\n"
     ]
    },
    {
     "data": {
      "text/plain": [
       "0    True\n",
       "1    True\n",
       "2    True\n",
       "3    True\n",
       "dtype: bool"
      ]
     },
     "metadata": {},
     "output_type": "display_data"
    },
    {
     "name": "stdout",
     "output_type": "stream",
     "text": [
      "Column: 4\n"
     ]
    },
    {
     "data": {
      "text/plain": [
       "0    True\n",
       "1    True\n",
       "2    True\n",
       "3    True\n",
       "dtype: bool"
      ]
     },
     "metadata": {},
     "output_type": "display_data"
    },
    {
     "name": "stdout",
     "output_type": "stream",
     "text": [
      "Column: 5\n"
     ]
    },
    {
     "data": {
      "text/plain": [
       "0    True\n",
       "1    True\n",
       "2    True\n",
       "3    True\n",
       "dtype: bool"
      ]
     },
     "metadata": {},
     "output_type": "display_data"
    }
   ],
   "source": [
    "# Subset by suffix. Since the suffix may be in any of the all_suffixes\n",
    "# column, we logical-or them together, checking if each column has one\n",
    "# of the ?requested ones.\n",
    "if suffix_list is not None:\n",
    "    print(\"before: all Trues\")\n",
    "    display(allow_suffix)\n",
    "    allow_suffix = ~allow_suffix\n",
    "    print(\"after: all Falses\")\n",
    "    display(allow_suffix)\n",
    "    \n",
    "    # Loop through each column in all_suffixes, labeled 0, 1, ..., n\n",
    "    # Turn on to be True if it's already True (will work after 2nd iteration), \n",
    "    # or if the suffix is found in our allowed suffixes\n",
    "    # This way, even if we loop through ones that aren't in our allowed suffixes, if it's already True,\n",
    "    # it won't turn to False\n",
    "    for c in all_suffixes.columns:\n",
    "        print(f\"Column: {c}\")\n",
    "        allow_suffix = allow_suffix | all_suffixes[c].isin(suffix_list)\n",
    "        display(allow_suffix)"
   ]
  },
  {
   "cell_type": "code",
   "execution_count": 14,
   "metadata": {},
   "outputs": [],
   "source": [
    "# If this condition is met, select the row (which is indexed by case_number)\n",
    "subset = successfully_parsed & allow_prefix & allow_suffix\n",
    "\n",
    "pcts = pcts[subset]\n",
    "\n",
    "# Also, only select the rows that meet the above condition for our prefixes and suffixes dataframes\n",
    "all_prefixes = all_prefixes[subset]\n",
    "all_suffixes = all_suffixes[subset]"
   ]
  },
  {
   "cell_type": "code",
   "execution_count": 15,
   "metadata": {},
   "outputs": [],
   "source": [
    "prefix_dummies = pandas.get_dummies(all_prefixes, dtype=\"bool\")"
   ]
  },
  {
   "cell_type": "code",
   "execution_count": 16,
   "metadata": {},
   "outputs": [
    {
     "name": "stdout",
     "output_type": "stream",
     "text": [
      "set of prefix_list or all the valid ones: {'VTT', 'DIR', 'PS', 'AA', 'APCW', 'CPC', 'TT', 'ZA', 'APCSV', 'APCH', 'APCE', 'APCS', 'HPO', 'APCNV', 'CHC', 'APCC'}\n",
      "set of prefixes in our dummies: {'DIR', 'ZA'}\n",
      "missing prefixes: {'VTT', 'CPC', 'TT', 'APCSV', 'APCH', 'APCE', 'PS', 'AA', 'APCW', 'APCS', 'HPO', 'APCNV', 'CHC', 'APCC'}\n"
     ]
    }
   ],
   "source": [
    "print(f\"set of prefix_list or all the valid ones: {set(prefix_list or VALID_PCTS_PREFIX)}\")\n",
    "print(f\"set of prefixes in our dummies: {set(prefix_dummies.columns)}\")\n",
    "missing_prefixes = set(prefix_list or VALID_PCTS_PREFIX) - set(\n",
    "        prefix_dummies.columns\n",
    "    )\n",
    "print(f\"missing prefixes: {missing_prefixes}\")"
   ]
  },
  {
   "cell_type": "code",
   "execution_count": 17,
   "metadata": {},
   "outputs": [
    {
     "data": {
      "text/html": [
       "<div>\n",
       "<style scoped>\n",
       "    .dataframe tbody tr th:only-of-type {\n",
       "        vertical-align: middle;\n",
       "    }\n",
       "\n",
       "    .dataframe tbody tr th {\n",
       "        vertical-align: top;\n",
       "    }\n",
       "\n",
       "    .dataframe thead th {\n",
       "        text-align: right;\n",
       "    }\n",
       "</style>\n",
       "<table border=\"1\" class=\"dataframe\">\n",
       "  <thead>\n",
       "    <tr style=\"text-align: right;\">\n",
       "      <th></th>\n",
       "      <th>CU</th>\n",
       "      <th>CUB</th>\n",
       "      <th>PA1</th>\n",
       "      <th>SPR</th>\n",
       "      <th>TOC</th>\n",
       "      <th>ZAA</th>\n",
       "      <th>ZV</th>\n",
       "    </tr>\n",
       "  </thead>\n",
       "  <tbody>\n",
       "    <tr>\n",
       "      <th>0</th>\n",
       "      <td>False</td>\n",
       "      <td>False</td>\n",
       "      <td>False</td>\n",
       "      <td>True</td>\n",
       "      <td>True</td>\n",
       "      <td>False</td>\n",
       "      <td>False</td>\n",
       "    </tr>\n",
       "    <tr>\n",
       "      <th>2</th>\n",
       "      <td>True</td>\n",
       "      <td>True</td>\n",
       "      <td>True</td>\n",
       "      <td>True</td>\n",
       "      <td>False</td>\n",
       "      <td>True</td>\n",
       "      <td>True</td>\n",
       "    </tr>\n",
       "  </tbody>\n",
       "</table>\n",
       "</div>"
      ],
      "text/plain": [
       "      CU    CUB    PA1   SPR    TOC    ZAA     ZV\n",
       "0  False  False  False  True   True  False  False\n",
       "2   True   True   True  True  False   True   True"
      ]
     },
     "metadata": {},
     "output_type": "display_data"
    },
    {
     "name": "stdout",
     "output_type": "stream",
     "text": [
      "set of suffix_list or all the valid ones: {'TOC', 'CUB'}\n",
      "set of suffixes in our dummies: {'SPR', 'CUB', 'ZV', 'CU', 'PA1', 'ZAA', 'TOC'}\n",
      "missing suffixes: set()\n"
     ]
    }
   ],
   "source": [
    "suffix_dummies = pandas.get_dummies(all_suffixes.stack(), dtype=\"bool\").max(\n",
    "            level=0\n",
    "        )\n",
    "display(suffix_dummies.head())\n",
    "\n",
    "# Identify if any of the requested suffixes are missing. If so,\n",
    "# populate them with a column of falses\n",
    "print(f\"set of suffix_list or all the valid ones: {set(suffix_list or VALID_PCTS_SUFFIX)}\")\n",
    "print(f\"set of suffixes in our dummies: {set(suffix_dummies.columns)}\")\n",
    "missing_suffixes = set(suffix_list or VALID_PCTS_SUFFIX) - set(\n",
    "    suffix_dummies.columns\n",
    ")\n",
    "print(f\"missing suffixes: {missing_suffixes}\")"
   ]
  },
  {
   "cell_type": "code",
   "execution_count": 18,
   "metadata": {},
   "outputs": [],
   "source": [
    "# Make sure they are all nullable boolean type\n",
    "suffix_dummies = suffix_dummies.astype(\"boolean\")\n",
    "prefix_dummies = prefix_dummies.astype(\"boolean\")"
   ]
  },
  {
   "cell_type": "code",
   "execution_count": 19,
   "metadata": {},
   "outputs": [
    {
     "data": {
      "text/html": [
       "<div>\n",
       "<style scoped>\n",
       "    .dataframe tbody tr th:only-of-type {\n",
       "        vertical-align: middle;\n",
       "    }\n",
       "\n",
       "    .dataframe tbody tr th {\n",
       "        vertical-align: top;\n",
       "    }\n",
       "\n",
       "    .dataframe thead th {\n",
       "        text-align: right;\n",
       "    }\n",
       "</style>\n",
       "<table border=\"1\" class=\"dataframe\">\n",
       "  <thead>\n",
       "    <tr style=\"text-align: right;\">\n",
       "      <th></th>\n",
       "      <th>CASE_ID</th>\n",
       "      <th>CASE_NUMBER</th>\n",
       "      <th>FILE_DATE</th>\n",
       "      <th>APPLICATION_ID</th>\n",
       "      <th>CASE_SEQUENCE_NUMBER</th>\n",
       "      <th>CASE_YEAR_NUMBER</th>\n",
       "      <th>PARENT_CASE_ID</th>\n",
       "      <th>CASE_ACTION_ID</th>\n",
       "      <th>ADDRESS</th>\n",
       "      <th>COUNCIL_DISTRICT</th>\n",
       "      <th>...</th>\n",
       "      <th>GEOID</th>\n",
       "      <th>DIR</th>\n",
       "      <th>ZA</th>\n",
       "      <th>CU</th>\n",
       "      <th>CUB</th>\n",
       "      <th>PA1</th>\n",
       "      <th>SPR</th>\n",
       "      <th>TOC</th>\n",
       "      <th>ZAA</th>\n",
       "      <th>ZV</th>\n",
       "    </tr>\n",
       "  </thead>\n",
       "  <tbody>\n",
       "    <tr>\n",
       "      <th>0</th>\n",
       "      <td>235081</td>\n",
       "      <td>DIR-2020-360-TOC-SPR</td>\n",
       "      <td>2020-01-16</td>\n",
       "      <td>192926</td>\n",
       "      <td>360</td>\n",
       "      <td>2020</td>\n",
       "      <td>&lt;NA&gt;</td>\n",
       "      <td>&lt;NA&gt;</td>\n",
       "      <td>4517 S  MAIN</td>\n",
       "      <td>9</td>\n",
       "      <td>...</td>\n",
       "      <td>06037231900</td>\n",
       "      <td>True</td>\n",
       "      <td>False</td>\n",
       "      <td>False</td>\n",
       "      <td>False</td>\n",
       "      <td>False</td>\n",
       "      <td>True</td>\n",
       "      <td>True</td>\n",
       "      <td>False</td>\n",
       "      <td>False</td>\n",
       "    </tr>\n",
       "    <tr>\n",
       "      <th>2</th>\n",
       "      <td>235109</td>\n",
       "      <td>ZA-2010-861-CUB-CU-ZV-ZAA-SPR-PA1</td>\n",
       "      <td>2020-01-17</td>\n",
       "      <td>192948</td>\n",
       "      <td>861</td>\n",
       "      <td>2010</td>\n",
       "      <td>178277</td>\n",
       "      <td>&lt;NA&gt;</td>\n",
       "      <td>434 S  WESTERN</td>\n",
       "      <td>4</td>\n",
       "      <td>...</td>\n",
       "      <td>06037211804</td>\n",
       "      <td>False</td>\n",
       "      <td>True</td>\n",
       "      <td>True</td>\n",
       "      <td>True</td>\n",
       "      <td>True</td>\n",
       "      <td>True</td>\n",
       "      <td>False</td>\n",
       "      <td>True</td>\n",
       "      <td>True</td>\n",
       "    </tr>\n",
       "  </tbody>\n",
       "</table>\n",
       "<p>2 rows × 31 columns</p>\n",
       "</div>"
      ],
      "text/plain": [
       "   CASE_ID                        CASE_NUMBER  FILE_DATE  APPLICATION_ID  \\\n",
       "0   235081               DIR-2020-360-TOC-SPR 2020-01-16          192926   \n",
       "2   235109  ZA-2010-861-CUB-CU-ZV-ZAA-SPR-PA1 2020-01-17          192948   \n",
       "\n",
       "   CASE_SEQUENCE_NUMBER  CASE_YEAR_NUMBER  PARENT_CASE_ID  CASE_ACTION_ID  \\\n",
       "0                   360              2020            <NA>            <NA>   \n",
       "2                   861              2010          178277            <NA>   \n",
       "\n",
       "          ADDRESS COUNCIL_DISTRICT  ...        GEOID    DIR     ZA     CU  \\\n",
       "0    4517 S  MAIN                9  ...  06037231900   True  False  False   \n",
       "2  434 S  WESTERN                4  ...  06037211804  False   True   True   \n",
       "\n",
       "     CUB    PA1   SPR    TOC    ZAA     ZV  \n",
       "0  False  False  True   True  False  False  \n",
       "2   True   True  True  False   True   True  \n",
       "\n",
       "[2 rows x 31 columns]"
      ]
     },
     "execution_count": 19,
     "metadata": {},
     "output_type": "execute_result"
    }
   ],
   "source": [
    "# Combine the dfs.\n",
    "pcts = pandas.concat((pcts, prefix_dummies, suffix_dummies), axis=1)\n",
    "\n",
    "pcts"
   ]
  },
  {
   "cell_type": "code",
   "execution_count": null,
   "metadata": {},
   "outputs": [],
   "source": []
  }
 ],
 "metadata": {
  "kernelspec": {
   "display_name": "Python 3",
   "language": "python",
   "name": "python3"
  },
  "language_info": {
   "codemirror_mode": {
    "name": "ipython",
    "version": 3
   },
   "file_extension": ".py",
   "mimetype": "text/x-python",
   "name": "python",
   "nbconvert_exporter": "python",
   "pygments_lexer": "ipython3",
   "version": "3.7.8"
  }
 },
 "nbformat": 4,
 "nbformat_minor": 4
}
