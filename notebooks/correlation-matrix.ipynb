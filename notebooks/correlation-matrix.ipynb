{
 "cells": [
  {
   "cell_type": "markdown",
   "metadata": {},
   "source": [
    "# Correlation matrix for TOC regressions"
   ]
  },
  {
   "cell_type": "code",
   "execution_count": 1,
   "metadata": {},
   "outputs": [],
   "source": [
    "import altair as alt\n",
    "import intake\n",
    "import pandas as pd\n",
    "\n",
    "import laplan"
   ]
  },
  {
   "cell_type": "code",
   "execution_count": 2,
   "metadata": {},
   "outputs": [],
   "source": [
    "catalog = intake.open_catalog(\"../catalogs/*.yml\")\n",
    "\n",
    "bucket_name = 'city-planning-entitlements'"
   ]
  },
  {
   "cell_type": "code",
   "execution_count": 3,
   "metadata": {},
   "outputs": [],
   "source": [
    "def prep_pcts():\n",
    "    pcts = catalog.pcts.read()\n",
    "    \n",
    "    start = \"10/1/2017\"\n",
    "    suffix = [\"TOC\"]\n",
    "\n",
    "    pcts1 = laplan.pcts.subset_pcts(pcts, \n",
    "                                 start_date = start, \n",
    "                                 suffix_list = suffix, \n",
    "                                 get_dummies = True,\n",
    "                                 verbose = True,\n",
    "                                )\n",
    "\n",
    "    cols = [\"CASE_ID\", \"CASE_NUMBER\", \"AIN\", \"TOC\"]\n",
    "    pcts1 = pcts1[cols]\n",
    "    \n",
    "    return pcts1"
   ]
  },
  {
   "cell_type": "code",
   "execution_count": 4,
   "metadata": {},
   "outputs": [
    {
     "name": "stdout",
     "output_type": "stream",
     "text": [
      "Parsing PCTS case numbers\n",
      "0 cases failed to parse.\n",
      "Getting dummy indicators for case types\n",
      "Prefixes with no associated cases:  {'HPO', 'APCW', 'APCH', 'APCSV', 'PS', 'APCS', 'CPC', 'VTT', 'ENV', 'APCNV', 'APCE', 'AA', 'CHC', 'TT'}\n"
     ]
    }
   ],
   "source": [
    "pcts = prep_pcts()"
   ]
  },
  {
   "cell_type": "code",
   "execution_count": 5,
   "metadata": {},
   "outputs": [],
   "source": [
    "# Import data\n",
    "crosswalk_parcels_tracts = catalog.crosswalk_parcels_tracts.read()\n",
    "census = catalog.census_analysis_table.read()\n",
    "\n",
    "zoning = catalog.crosswalk_tracts_zone_class.read()\n",
    "\n",
    "favorable_toc_zones = [\"R2\", \"R3\", \"C2\"]\n",
    "zoning = zoning[[\"GEOID\"] + favorable_toc_zones]\n",
    "\n",
    "toc_eligible_tracts = (crosswalk_parcels_tracts[[\"GEOID\", \"total_AIN\", \"pct_toc_AIN\", \"toc_AIN\"]]\n",
    "                   .drop_duplicates()\n",
    "                    .assign(\n",
    "                       toc_AIN = crosswalk_parcels_tracts.toc_AIN.astype(bool)\n",
    "                   )\n",
    "                  )\n",
    "\n",
    "tier_parcels = (\n",
    "    crosswalk_parcels_tracts\n",
    "    [crosswalk_parcels_tracts.TOC_Tier > 0]\n",
    "    .groupby([\"GEOID\", \"TOC_Tier\"])\n",
    "    .size()\n",
    "    .to_frame(\"n\")\n",
    "    .reset_index(level=1)\n",
    "    .pivot(columns=\"TOC_Tier\", values=\"n\")\n",
    "    .rename(columns=lambda x: f\"Tier_{x}\")\n",
    "    .fillna(0.0)\n",
    "    .astype(int)\n",
    ")"
   ]
  },
  {
   "cell_type": "code",
   "execution_count": 6,
   "metadata": {},
   "outputs": [],
   "source": [
    "def assemble_data(pcts, crosswalk_parcels_tracts, tier_parcels, zoning, census):\n",
    "    df = (pd.merge(\n",
    "        pcts, \n",
    "        crosswalk_parcels_tracts[[\"uuid\", \"AIN\", \"GEOID\", \"total_AIN\", \"pct_toc_AIN\", \"toc_AIN\"]], \n",
    "        how=\"inner\", \n",
    "        on=\"AIN\", \n",
    "        validate=\"m:1\"\n",
    "    ).merge(\n",
    "        tier_parcels,\n",
    "        how=\"left\",\n",
    "        on=\"GEOID\",\n",
    "        validate=\"m:1\"\n",
    "    ).merge(\n",
    "        zoning, \n",
    "        how=\"left\",\n",
    "        on=\"GEOID\",\n",
    "        validate=\"m:1\"\n",
    "    ).merge(\n",
    "        census, \n",
    "        how=\"left\",\n",
    "        on=\"GEOID\",\n",
    "        validate=\"m:1\"\n",
    "    ).fillna(0)\n",
    "          .dropna()\n",
    "          .rename(columns = {\"toc_AIN\": \"TOC_eligible\"})\n",
    "          .drop_duplicates()\n",
    "          .reset_index(drop=True)\n",
    "    )\n",
    "        \n",
    "    # Get rid of duplicates \n",
    "    df = (df.sort_values([\"CASE_ID\", \"uuid\"])\n",
    "          .drop_duplicates(subset = [\"CASE_ID\", \"uuid\"], keep=\"first\")\n",
    "          .reset_index(drop=True)\n",
    "          .assign(\n",
    "              TOC_eligible = df.TOC_eligible.astype(bool), \n",
    "              favorable_toc_zoning = df[favorable_toc_zones].sum(axis=1)\n",
    "          )\n",
    "         )\n",
    "    \n",
    "    return df"
   ]
  },
  {
   "cell_type": "code",
   "execution_count": 7,
   "metadata": {},
   "outputs": [],
   "source": [
    "df = assemble_data(pcts, crosswalk_parcels_tracts, tier_parcels, zoning, census)\n",
    "\n",
    "group_cols = [\n",
    "    \"GEOID\", \n",
    "    \"pct_toc_AIN\", \"TOC_eligible\", \n",
    "    \"Tier_1\", \"Tier_2\", \"Tier_3\", \"Tier_4\",\n",
    "    'pct_pop_renter', 'pct_whitenonhisp', 'medhhincome', \n",
    "    \"density\", \"favorable_toc_zoning\"\n",
    "]"
   ]
  },
  {
   "cell_type": "code",
   "execution_count": 8,
   "metadata": {},
   "outputs": [],
   "source": [
    "summary = (df.groupby(group_cols)\n",
    "           .agg({\"TOC\": \"sum\", \"CASE_ID\": \"nunique\"})\n",
    "           .reset_index()\n",
    "          )"
   ]
  },
  {
   "cell_type": "code",
   "execution_count": 9,
   "metadata": {},
   "outputs": [],
   "source": [
    "correlation_long = summary.corr().reset_index().melt('index')"
   ]
  },
  {
   "cell_type": "code",
   "execution_count": 10,
   "metadata": {},
   "outputs": [],
   "source": [
    "correlation_long.columns = ['var1', 'var2', 'correlation']"
   ]
  },
  {
   "cell_type": "code",
   "execution_count": 11,
   "metadata": {},
   "outputs": [
    {
     "data": {
      "text/html": [
       "\n",
       "<div id=\"altair-viz-65fe88b2d3384472a36f4fb28f74ee3c\"></div>\n",
       "<script type=\"text/javascript\">\n",
       "  (function(spec, embedOpt){\n",
       "    let outputDiv = document.currentScript.previousElementSibling;\n",
       "    if (outputDiv.id !== \"altair-viz-65fe88b2d3384472a36f4fb28f74ee3c\") {\n",
       "      outputDiv = document.getElementById(\"altair-viz-65fe88b2d3384472a36f4fb28f74ee3c\");\n",
       "    }\n",
       "    const paths = {\n",
       "      \"vega\": \"https://cdn.jsdelivr.net/npm//vega@5?noext\",\n",
       "      \"vega-lib\": \"https://cdn.jsdelivr.net/npm//vega-lib?noext\",\n",
       "      \"vega-lite\": \"https://cdn.jsdelivr.net/npm//vega-lite@4.8.1?noext\",\n",
       "      \"vega-embed\": \"https://cdn.jsdelivr.net/npm//vega-embed@6?noext\",\n",
       "    };\n",
       "\n",
       "    function loadScript(lib) {\n",
       "      return new Promise(function(resolve, reject) {\n",
       "        var s = document.createElement('script');\n",
       "        s.src = paths[lib];\n",
       "        s.async = true;\n",
       "        s.onload = () => resolve(paths[lib]);\n",
       "        s.onerror = () => reject(`Error loading script: ${paths[lib]}`);\n",
       "        document.getElementsByTagName(\"head\")[0].appendChild(s);\n",
       "      });\n",
       "    }\n",
       "\n",
       "    function showError(err) {\n",
       "      outputDiv.innerHTML = `<div class=\"error\" style=\"color:red;\">${err}</div>`;\n",
       "      throw err;\n",
       "    }\n",
       "\n",
       "    function displayChart(vegaEmbed) {\n",
       "      vegaEmbed(outputDiv, spec, embedOpt)\n",
       "        .catch(err => showError(`Javascript Error: ${err.message}<br>This usually means there's a typo in your chart specification. See the javascript console for the full traceback.`));\n",
       "    }\n",
       "\n",
       "    if(typeof define === \"function\" && define.amd) {\n",
       "      requirejs.config({paths});\n",
       "      require([\"vega-embed\"], displayChart, err => showError(`Error loading script: ${err.message}`));\n",
       "    } else if (typeof vegaEmbed === \"function\") {\n",
       "      displayChart(vegaEmbed);\n",
       "    } else {\n",
       "      loadScript(\"vega\")\n",
       "        .then(() => loadScript(\"vega-lite\"))\n",
       "        .then(() => loadScript(\"vega-embed\"))\n",
       "        .catch(showError)\n",
       "        .then(() => displayChart(vegaEmbed));\n",
       "    }\n",
       "  })({\"config\": {\"view\": {\"continuousWidth\": 400, \"continuousHeight\": 300}}, \"layer\": [{\"mark\": \"rect\", \"encoding\": {\"color\": {\"type\": \"quantitative\", \"field\": \"correlation\"}, \"x\": {\"type\": \"nominal\", \"field\": \"var1\"}, \"y\": {\"type\": \"nominal\", \"field\": \"var2\"}}, \"height\": {\"step\": 40}, \"transform\": [{\"filter\": \"(datum.var1 < datum.var2)\"}], \"width\": {\"step\": 40}}, {\"mark\": {\"type\": \"text\", \"size\": 10}, \"encoding\": {\"color\": {\"condition\": {\"value\": \"white\", \"test\": \"datum.correlation > 0.5\"}, \"value\": \"black\"}, \"text\": {\"type\": \"quantitative\", \"field\": \"correlation\", \"format\": \".2f\"}, \"x\": {\"type\": \"nominal\", \"field\": \"var1\"}, \"y\": {\"type\": \"nominal\", \"field\": \"var2\"}}, \"height\": {\"step\": 40}, \"transform\": [{\"filter\": \"(datum.var1 < datum.var2)\"}], \"width\": {\"step\": 40}}], \"data\": {\"name\": \"data-694c3caa1fd706dc91c19d5cdde0f914\"}, \"$schema\": \"https://vega.github.io/schema/vega-lite/v4.8.1.json\", \"datasets\": {\"data-694c3caa1fd706dc91c19d5cdde0f914\": [{\"var1\": \"pct_toc_AIN\", \"var2\": \"pct_toc_AIN\", \"correlation\": 1.0}, {\"var1\": \"TOC_eligible\", \"var2\": \"pct_toc_AIN\", \"correlation\": 0.04617794715473248}, {\"var1\": \"Tier_1\", \"var2\": \"pct_toc_AIN\", \"correlation\": 0.05803791282287318}, {\"var1\": \"Tier_2\", \"var2\": \"pct_toc_AIN\", \"correlation\": 0.1980827065513357}, {\"var1\": \"Tier_3\", \"var2\": \"pct_toc_AIN\", \"correlation\": 0.2325862043818374}, {\"var1\": \"Tier_4\", \"var2\": \"pct_toc_AIN\", \"correlation\": 0.16795137567996962}, {\"var1\": \"pct_pop_renter\", \"var2\": \"pct_toc_AIN\", \"correlation\": 0.0010110821533279163}, {\"var1\": \"pct_whitenonhisp\", \"var2\": \"pct_toc_AIN\", \"correlation\": -0.2240149241541532}, {\"var1\": \"medhhincome\", \"var2\": \"pct_toc_AIN\", \"correlation\": -0.2522638975922501}, {\"var1\": \"density\", \"var2\": \"pct_toc_AIN\", \"correlation\": 0.16975761479470447}, {\"var1\": \"favorable_toc_zoning\", \"var2\": \"pct_toc_AIN\", \"correlation\": -0.03518041231671076}, {\"var1\": \"TOC\", \"var2\": \"pct_toc_AIN\", \"correlation\": -0.042430850275166306}, {\"var1\": \"CASE_ID\", \"var2\": \"pct_toc_AIN\", \"correlation\": -0.033221803224791076}, {\"var1\": \"pct_toc_AIN\", \"var2\": \"TOC_eligible\", \"correlation\": 0.04617794715473248}, {\"var1\": \"TOC_eligible\", \"var2\": \"TOC_eligible\", \"correlation\": 1.0}, {\"var1\": \"Tier_1\", \"var2\": \"TOC_eligible\", \"correlation\": 0.00020252339860710964}, {\"var1\": \"Tier_2\", \"var2\": \"TOC_eligible\", \"correlation\": 0.05006248385348952}, {\"var1\": \"Tier_3\", \"var2\": \"TOC_eligible\", \"correlation\": -0.011635413359679525}, {\"var1\": \"Tier_4\", \"var2\": \"TOC_eligible\", \"correlation\": -0.004009282885595165}, {\"var1\": \"pct_pop_renter\", \"var2\": \"TOC_eligible\", \"correlation\": 0.017355420730622087}, {\"var1\": \"pct_whitenonhisp\", \"var2\": \"TOC_eligible\", \"correlation\": -0.0018332784374567846}, {\"var1\": \"medhhincome\", \"var2\": \"TOC_eligible\", \"correlation\": -0.001379031930847531}, {\"var1\": \"density\", \"var2\": \"TOC_eligible\", \"correlation\": -0.0034390743094235765}, {\"var1\": \"favorable_toc_zoning\", \"var2\": \"TOC_eligible\", \"correlation\": 0.09517701174650779}, {\"var1\": \"TOC\", \"var2\": \"TOC_eligible\", \"correlation\": -0.015037618571544625}, {\"var1\": \"CASE_ID\", \"var2\": \"TOC_eligible\", \"correlation\": -0.022101673011625824}, {\"var1\": \"pct_toc_AIN\", \"var2\": \"Tier_1\", \"correlation\": 0.05803791282287318}, {\"var1\": \"TOC_eligible\", \"var2\": \"Tier_1\", \"correlation\": 0.00020252339860710964}, {\"var1\": \"Tier_1\", \"var2\": \"Tier_1\", \"correlation\": 1.0}, {\"var1\": \"Tier_2\", \"var2\": \"Tier_1\", \"correlation\": 0.15083360206244187}, {\"var1\": \"Tier_3\", \"var2\": \"Tier_1\", \"correlation\": -0.3300653799306791}, {\"var1\": \"Tier_4\", \"var2\": \"Tier_1\", \"correlation\": -0.13414757890047865}, {\"var1\": \"pct_pop_renter\", \"var2\": \"Tier_1\", \"correlation\": -0.41604703966948836}, {\"var1\": \"pct_whitenonhisp\", \"var2\": \"Tier_1\", \"correlation\": 0.07198553011096949}, {\"var1\": \"medhhincome\", \"var2\": \"Tier_1\", \"correlation\": 0.17504202461178833}, {\"var1\": \"density\", \"var2\": \"Tier_1\", \"correlation\": -0.30167758255446087}, {\"var1\": \"favorable_toc_zoning\", \"var2\": \"Tier_1\", \"correlation\": -0.026399262094593312}, {\"var1\": \"TOC\", \"var2\": \"Tier_1\", \"correlation\": -0.026297791015347644}, {\"var1\": \"CASE_ID\", \"var2\": \"Tier_1\", \"correlation\": -0.04117565052166581}, {\"var1\": \"pct_toc_AIN\", \"var2\": \"Tier_2\", \"correlation\": 0.1980827065513357}, {\"var1\": \"TOC_eligible\", \"var2\": \"Tier_2\", \"correlation\": 0.05006248385348952}, {\"var1\": \"Tier_1\", \"var2\": \"Tier_2\", \"correlation\": 0.15083360206244187}, {\"var1\": \"Tier_2\", \"var2\": \"Tier_2\", \"correlation\": 1.0}, {\"var1\": \"Tier_3\", \"var2\": \"Tier_2\", \"correlation\": 0.00740941849806377}, {\"var1\": \"Tier_4\", \"var2\": \"Tier_2\", \"correlation\": -0.21088676955080435}, {\"var1\": \"pct_pop_renter\", \"var2\": \"Tier_2\", \"correlation\": -0.401432280553633}, {\"var1\": \"pct_whitenonhisp\", \"var2\": \"Tier_2\", \"correlation\": 0.06398864161137102}, {\"var1\": \"medhhincome\", \"var2\": \"Tier_2\", \"correlation\": 0.22179914977527457}, {\"var1\": \"density\", \"var2\": \"Tier_2\", \"correlation\": -0.26242135398348315}, {\"var1\": \"favorable_toc_zoning\", \"var2\": \"Tier_2\", \"correlation\": 0.0020708231301395153}, {\"var1\": \"TOC\", \"var2\": \"Tier_2\", \"correlation\": -0.01877789222406944}, {\"var1\": \"CASE_ID\", \"var2\": \"Tier_2\", \"correlation\": 0.01643530125996594}, {\"var1\": \"pct_toc_AIN\", \"var2\": \"Tier_3\", \"correlation\": 0.2325862043818374}, {\"var1\": \"TOC_eligible\", \"var2\": \"Tier_3\", \"correlation\": -0.011635413359679525}, {\"var1\": \"Tier_1\", \"var2\": \"Tier_3\", \"correlation\": -0.3300653799306791}, {\"var1\": \"Tier_2\", \"var2\": \"Tier_3\", \"correlation\": 0.00740941849806377}, {\"var1\": \"Tier_3\", \"var2\": \"Tier_3\", \"correlation\": 1.0}, {\"var1\": \"Tier_4\", \"var2\": \"Tier_3\", \"correlation\": 0.5124789671859364}, {\"var1\": \"pct_pop_renter\", \"var2\": \"Tier_3\", \"correlation\": -0.3832469662105245}, {\"var1\": \"pct_whitenonhisp\", \"var2\": \"Tier_3\", \"correlation\": 0.09004924616623307}, {\"var1\": \"medhhincome\", \"var2\": \"Tier_3\", \"correlation\": 0.13215027725032305}, {\"var1\": \"density\", \"var2\": \"Tier_3\", \"correlation\": -0.27932034392443533}, {\"var1\": \"favorable_toc_zoning\", \"var2\": \"Tier_3\", \"correlation\": -0.016012915806885863}, {\"var1\": \"TOC\", \"var2\": \"Tier_3\", \"correlation\": -0.014621137212068048}, {\"var1\": \"CASE_ID\", \"var2\": \"Tier_3\", \"correlation\": -0.008955855330769081}, {\"var1\": \"pct_toc_AIN\", \"var2\": \"Tier_4\", \"correlation\": 0.16795137567996962}, {\"var1\": \"TOC_eligible\", \"var2\": \"Tier_4\", \"correlation\": -0.004009282885595165}, {\"var1\": \"Tier_1\", \"var2\": \"Tier_4\", \"correlation\": -0.13414757890047865}, {\"var1\": \"Tier_2\", \"var2\": \"Tier_4\", \"correlation\": -0.21088676955080435}, {\"var1\": \"Tier_3\", \"var2\": \"Tier_4\", \"correlation\": 0.5124789671859364}, {\"var1\": \"Tier_4\", \"var2\": \"Tier_4\", \"correlation\": 1.0}, {\"var1\": \"pct_pop_renter\", \"var2\": \"Tier_4\", \"correlation\": -0.19345307123537192}, {\"var1\": \"pct_whitenonhisp\", \"var2\": \"Tier_4\", \"correlation\": 0.07703000447126929}, {\"var1\": \"medhhincome\", \"var2\": \"Tier_4\", \"correlation\": 0.03224208305854013}, {\"var1\": \"density\", \"var2\": \"Tier_4\", \"correlation\": -0.12836646149168715}, {\"var1\": \"favorable_toc_zoning\", \"var2\": \"Tier_4\", \"correlation\": -0.0064409075153562005}, {\"var1\": \"TOC\", \"var2\": \"Tier_4\", \"correlation\": -0.00048736635411080343}, {\"var1\": \"CASE_ID\", \"var2\": \"Tier_4\", \"correlation\": -0.004244831299067242}, {\"var1\": \"pct_toc_AIN\", \"var2\": \"pct_pop_renter\", \"correlation\": 0.0010110821533279163}, {\"var1\": \"TOC_eligible\", \"var2\": \"pct_pop_renter\", \"correlation\": 0.017355420730622087}, {\"var1\": \"Tier_1\", \"var2\": \"pct_pop_renter\", \"correlation\": -0.41604703966948836}, {\"var1\": \"Tier_2\", \"var2\": \"pct_pop_renter\", \"correlation\": -0.401432280553633}, {\"var1\": \"Tier_3\", \"var2\": \"pct_pop_renter\", \"correlation\": -0.3832469662105245}, {\"var1\": \"Tier_4\", \"var2\": \"pct_pop_renter\", \"correlation\": -0.19345307123537192}, {\"var1\": \"pct_pop_renter\", \"var2\": \"pct_pop_renter\", \"correlation\": 1.0}, {\"var1\": \"pct_whitenonhisp\", \"var2\": \"pct_pop_renter\", \"correlation\": -0.26562446470716233}, {\"var1\": \"medhhincome\", \"var2\": \"pct_pop_renter\", \"correlation\": -0.5196695173075532}, {\"var1\": \"density\", \"var2\": \"pct_pop_renter\", \"correlation\": 0.5783709606387519}, {\"var1\": \"favorable_toc_zoning\", \"var2\": \"pct_pop_renter\", \"correlation\": 0.018837574441176553}, {\"var1\": \"TOC\", \"var2\": \"pct_pop_renter\", \"correlation\": 0.06042965582326804}, {\"var1\": \"CASE_ID\", \"var2\": \"pct_pop_renter\", \"correlation\": 0.0539907864185033}, {\"var1\": \"pct_toc_AIN\", \"var2\": \"pct_whitenonhisp\", \"correlation\": -0.2240149241541532}, {\"var1\": \"TOC_eligible\", \"var2\": \"pct_whitenonhisp\", \"correlation\": -0.0018332784374567846}, {\"var1\": \"Tier_1\", \"var2\": \"pct_whitenonhisp\", \"correlation\": 0.07198553011096949}, {\"var1\": \"Tier_2\", \"var2\": \"pct_whitenonhisp\", \"correlation\": 0.06398864161137102}, {\"var1\": \"Tier_3\", \"var2\": \"pct_whitenonhisp\", \"correlation\": 0.09004924616623307}, {\"var1\": \"Tier_4\", \"var2\": \"pct_whitenonhisp\", \"correlation\": 0.07703000447126929}, {\"var1\": \"pct_pop_renter\", \"var2\": \"pct_whitenonhisp\", \"correlation\": -0.26562446470716233}, {\"var1\": \"pct_whitenonhisp\", \"var2\": \"pct_whitenonhisp\", \"correlation\": 1.0}, {\"var1\": \"medhhincome\", \"var2\": \"pct_whitenonhisp\", \"correlation\": 0.7902593345121351}, {\"var1\": \"density\", \"var2\": \"pct_whitenonhisp\", \"correlation\": -0.32263136944048665}, {\"var1\": \"favorable_toc_zoning\", \"var2\": \"pct_whitenonhisp\", \"correlation\": 0.009123657463368207}, {\"var1\": \"TOC\", \"var2\": \"pct_whitenonhisp\", \"correlation\": 0.011475551022238174}, {\"var1\": \"CASE_ID\", \"var2\": \"pct_whitenonhisp\", \"correlation\": -0.026752210411085095}, {\"var1\": \"pct_toc_AIN\", \"var2\": \"medhhincome\", \"correlation\": -0.2522638975922501}, {\"var1\": \"TOC_eligible\", \"var2\": \"medhhincome\", \"correlation\": -0.001379031930847531}, {\"var1\": \"Tier_1\", \"var2\": \"medhhincome\", \"correlation\": 0.17504202461178833}, {\"var1\": \"Tier_2\", \"var2\": \"medhhincome\", \"correlation\": 0.22179914977527457}, {\"var1\": \"Tier_3\", \"var2\": \"medhhincome\", \"correlation\": 0.13215027725032305}, {\"var1\": \"Tier_4\", \"var2\": \"medhhincome\", \"correlation\": 0.03224208305854013}, {\"var1\": \"pct_pop_renter\", \"var2\": \"medhhincome\", \"correlation\": -0.5196695173075532}, {\"var1\": \"pct_whitenonhisp\", \"var2\": \"medhhincome\", \"correlation\": 0.7902593345121351}, {\"var1\": \"medhhincome\", \"var2\": \"medhhincome\", \"correlation\": 1.0}, {\"var1\": \"density\", \"var2\": \"medhhincome\", \"correlation\": -0.39733783098210007}, {\"var1\": \"favorable_toc_zoning\", \"var2\": \"medhhincome\", \"correlation\": 0.015778463581203408}, {\"var1\": \"TOC\", \"var2\": \"medhhincome\", \"correlation\": -0.011137137648424158}, {\"var1\": \"CASE_ID\", \"var2\": \"medhhincome\", \"correlation\": -0.01571571247031756}, {\"var1\": \"pct_toc_AIN\", \"var2\": \"density\", \"correlation\": 0.16975761479470447}, {\"var1\": \"TOC_eligible\", \"var2\": \"density\", \"correlation\": -0.0034390743094235765}, {\"var1\": \"Tier_1\", \"var2\": \"density\", \"correlation\": -0.30167758255446087}, {\"var1\": \"Tier_2\", \"var2\": \"density\", \"correlation\": -0.26242135398348315}, {\"var1\": \"Tier_3\", \"var2\": \"density\", \"correlation\": -0.27932034392443533}, {\"var1\": \"Tier_4\", \"var2\": \"density\", \"correlation\": -0.12836646149168715}, {\"var1\": \"pct_pop_renter\", \"var2\": \"density\", \"correlation\": 0.5783709606387519}, {\"var1\": \"pct_whitenonhisp\", \"var2\": \"density\", \"correlation\": -0.32263136944048665}, {\"var1\": \"medhhincome\", \"var2\": \"density\", \"correlation\": -0.39733783098210007}, {\"var1\": \"density\", \"var2\": \"density\", \"correlation\": 1.0}, {\"var1\": \"favorable_toc_zoning\", \"var2\": \"density\", \"correlation\": -6.0595648206481985e-05}, {\"var1\": \"TOC\", \"var2\": \"density\", \"correlation\": -0.018659403901073776}, {\"var1\": \"CASE_ID\", \"var2\": \"density\", \"correlation\": 0.014484129045578364}, {\"var1\": \"pct_toc_AIN\", \"var2\": \"favorable_toc_zoning\", \"correlation\": -0.03518041231671076}, {\"var1\": \"TOC_eligible\", \"var2\": \"favorable_toc_zoning\", \"correlation\": 0.09517701174650779}, {\"var1\": \"Tier_1\", \"var2\": \"favorable_toc_zoning\", \"correlation\": -0.026399262094593312}, {\"var1\": \"Tier_2\", \"var2\": \"favorable_toc_zoning\", \"correlation\": 0.0020708231301395153}, {\"var1\": \"Tier_3\", \"var2\": \"favorable_toc_zoning\", \"correlation\": -0.016012915806885863}, {\"var1\": \"Tier_4\", \"var2\": \"favorable_toc_zoning\", \"correlation\": -0.0064409075153562005}, {\"var1\": \"pct_pop_renter\", \"var2\": \"favorable_toc_zoning\", \"correlation\": 0.018837574441176553}, {\"var1\": \"pct_whitenonhisp\", \"var2\": \"favorable_toc_zoning\", \"correlation\": 0.009123657463368207}, {\"var1\": \"medhhincome\", \"var2\": \"favorable_toc_zoning\", \"correlation\": 0.015778463581203408}, {\"var1\": \"density\", \"var2\": \"favorable_toc_zoning\", \"correlation\": -6.0595648206481985e-05}, {\"var1\": \"favorable_toc_zoning\", \"var2\": \"favorable_toc_zoning\", \"correlation\": 1.0}, {\"var1\": \"TOC\", \"var2\": \"favorable_toc_zoning\", \"correlation\": 0.026981560635625065}, {\"var1\": \"CASE_ID\", \"var2\": \"favorable_toc_zoning\", \"correlation\": 0.024262946212209962}, {\"var1\": \"pct_toc_AIN\", \"var2\": \"TOC\", \"correlation\": -0.042430850275166306}, {\"var1\": \"TOC_eligible\", \"var2\": \"TOC\", \"correlation\": -0.015037618571544625}, {\"var1\": \"Tier_1\", \"var2\": \"TOC\", \"correlation\": -0.026297791015347644}, {\"var1\": \"Tier_2\", \"var2\": \"TOC\", \"correlation\": -0.01877789222406944}, {\"var1\": \"Tier_3\", \"var2\": \"TOC\", \"correlation\": -0.014621137212068048}, {\"var1\": \"Tier_4\", \"var2\": \"TOC\", \"correlation\": -0.00048736635411080343}, {\"var1\": \"pct_pop_renter\", \"var2\": \"TOC\", \"correlation\": 0.06042965582326804}, {\"var1\": \"pct_whitenonhisp\", \"var2\": \"TOC\", \"correlation\": 0.011475551022238174}, {\"var1\": \"medhhincome\", \"var2\": \"TOC\", \"correlation\": -0.011137137648424158}, {\"var1\": \"density\", \"var2\": \"TOC\", \"correlation\": -0.018659403901073776}, {\"var1\": \"favorable_toc_zoning\", \"var2\": \"TOC\", \"correlation\": 0.026981560635625065}, {\"var1\": \"TOC\", \"var2\": \"TOC\", \"correlation\": 1.0}, {\"var1\": \"CASE_ID\", \"var2\": \"TOC\", \"correlation\": 0.3510535099196227}, {\"var1\": \"pct_toc_AIN\", \"var2\": \"CASE_ID\", \"correlation\": -0.033221803224791076}, {\"var1\": \"TOC_eligible\", \"var2\": \"CASE_ID\", \"correlation\": -0.022101673011625824}, {\"var1\": \"Tier_1\", \"var2\": \"CASE_ID\", \"correlation\": -0.04117565052166581}, {\"var1\": \"Tier_2\", \"var2\": \"CASE_ID\", \"correlation\": 0.01643530125996594}, {\"var1\": \"Tier_3\", \"var2\": \"CASE_ID\", \"correlation\": -0.008955855330769081}, {\"var1\": \"Tier_4\", \"var2\": \"CASE_ID\", \"correlation\": -0.004244831299067242}, {\"var1\": \"pct_pop_renter\", \"var2\": \"CASE_ID\", \"correlation\": 0.0539907864185033}, {\"var1\": \"pct_whitenonhisp\", \"var2\": \"CASE_ID\", \"correlation\": -0.026752210411085095}, {\"var1\": \"medhhincome\", \"var2\": \"CASE_ID\", \"correlation\": -0.01571571247031756}, {\"var1\": \"density\", \"var2\": \"CASE_ID\", \"correlation\": 0.014484129045578364}, {\"var1\": \"favorable_toc_zoning\", \"var2\": \"CASE_ID\", \"correlation\": 0.024262946212209962}, {\"var1\": \"TOC\", \"var2\": \"CASE_ID\", \"correlation\": 0.3510535099196227}, {\"var1\": \"CASE_ID\", \"var2\": \"CASE_ID\", \"correlation\": 1.0}]}}, {\"mode\": \"vega-lite\"});\n",
       "</script>"
      ],
      "text/plain": [
       "alt.LayerChart(...)"
      ]
     },
     "execution_count": 11,
     "metadata": {},
     "output_type": "execute_result"
    }
   ],
   "source": [
    "base = alt.Chart(correlation_long).transform_filter(\n",
    "    alt.datum.var1 < alt.datum.var2\n",
    ").encode(\n",
    "    x='var1',\n",
    "    y='var2',\n",
    ").properties(\n",
    "    width=alt.Step(40),\n",
    "    height=alt.Step(40)\n",
    ")\n",
    "\n",
    "rects = base.mark_rect().encode(\n",
    "    color='correlation'\n",
    ")\n",
    "\n",
    "text = base.mark_text(\n",
    "    size=10\n",
    ").encode(\n",
    "    text=alt.Text('correlation', format=\".2f\"),\n",
    "    color=alt.condition(\n",
    "        \"datum.correlation > 0.5\",\n",
    "        alt.value('white'),\n",
    "        alt.value('black')\n",
    "    )\n",
    ")\n",
    "\n",
    "rects + text"
   ]
  },
  {
   "cell_type": "code",
   "execution_count": null,
   "metadata": {},
   "outputs": [],
   "source": [
    "\"\"\"\n",
    "https://github.com/altair-viz/altair/pull/1945\n",
    "\n",
    "import altair as alt\n",
    "from vega_datasets import data\n",
    "\n",
    "df_iris = data.iris()\n",
    "corrMatrix = df_iris.corr().reset_index().melt('index')\n",
    "corrMatrix.columns = ['var1', 'var2', 'correlation']\n",
    "\n",
    "base = alt.Chart(corrMatrix).transform_filter(\n",
    "    alt.datum.var1 < alt.datum.var2\n",
    ").encode(\n",
    "    x='var1',\n",
    "    y='var2',\n",
    ").properties(\n",
    "    width=alt.Step(100),\n",
    "    height=alt.Step(100)\n",
    ")\n",
    "\n",
    "rects = base.mark_rect().encode(\n",
    "    color='correlation'\n",
    ")\n",
    "\n",
    "text = base.mark_text(\n",
    "    size=30\n",
    ").encode(\n",
    "    text=alt.Text('correlation', format=\".2f\"),\n",
    "    color=alt.condition(\n",
    "        \"datum.correlation > 0.5\",\n",
    "        alt.value('white'),\n",
    "        alt.value('black')\n",
    "    )\n",
    ")\n",
    "\n",
    "rects + text\n",
    "\"\"\""
   ]
  },
  {
   "cell_type": "code",
   "execution_count": null,
   "metadata": {},
   "outputs": [],
   "source": []
  }
 ],
 "metadata": {
  "kernelspec": {
   "display_name": "Python 3",
   "language": "python",
   "name": "python3"
  },
  "language_info": {
   "codemirror_mode": {
    "name": "ipython",
    "version": 3
   },
   "file_extension": ".py",
   "mimetype": "text/x-python",
   "name": "python",
   "nbconvert_exporter": "python",
   "pygments_lexer": "ipython3",
   "version": "3.7.8"
  }
 },
 "nbformat": 4,
 "nbformat_minor": 4
}
