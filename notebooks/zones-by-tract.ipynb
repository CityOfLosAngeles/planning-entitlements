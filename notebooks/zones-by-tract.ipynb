{
 "cells": [
  {
   "cell_type": "markdown",
   "metadata": {},
   "source": [
    "# Make file that calculates what % of parcels are specific zones by tract\n",
    "commercial, residential, or call out specific ones (TOC is very C2 and R3 heavy)"
   ]
  },
  {
   "cell_type": "code",
   "execution_count": 1,
   "metadata": {},
   "outputs": [],
   "source": [
    "import geopandas as gpd\n",
    "import intake\n",
    "import matplotlib.pyplot as plt\n",
    "import numpy as np\n",
    "import pandas as pd\n",
    "import laplan\n",
    "\n",
    "catalog = intake.open_catalog(\"../catalogs/*.yml\")"
   ]
  },
  {
   "cell_type": "code",
   "execution_count": 2,
   "metadata": {},
   "outputs": [],
   "source": [
    "zoning = catalog.zoning_cleaned.read()"
   ]
  },
  {
   "cell_type": "code",
   "execution_count": 3,
   "metadata": {},
   "outputs": [
    {
     "data": {
      "text/html": [
       "<div>\n",
       "<style scoped>\n",
       "    .dataframe tbody tr th:only-of-type {\n",
       "        vertical-align: middle;\n",
       "    }\n",
       "\n",
       "    .dataframe tbody tr th {\n",
       "        vertical-align: top;\n",
       "    }\n",
       "\n",
       "    .dataframe thead th {\n",
       "        text-align: right;\n",
       "    }\n",
       "</style>\n",
       "<table border=\"1\" class=\"dataframe\">\n",
       "  <thead>\n",
       "    <tr style=\"text-align: right;\">\n",
       "      <th></th>\n",
       "      <th>zone_class</th>\n",
       "      <th>geometry</th>\n",
       "    </tr>\n",
       "  </thead>\n",
       "  <tbody>\n",
       "    <tr>\n",
       "      <th>0</th>\n",
       "      <td>A1</td>\n",
       "      <td>MULTIPOLYGON (((6462965.620 1907000.500, 64637...</td>\n",
       "    </tr>\n",
       "    <tr>\n",
       "      <th>1</th>\n",
       "      <td>A2</td>\n",
       "      <td>MULTIPOLYGON (((6429791.220 1809983.400, 64297...</td>\n",
       "    </tr>\n",
       "  </tbody>\n",
       "</table>\n",
       "</div>"
      ],
      "text/plain": [
       "  zone_class                                           geometry\n",
       "0         A1  MULTIPOLYGON (((6462965.620 1907000.500, 64637...\n",
       "1         A2  MULTIPOLYGON (((6429791.220 1809983.400, 64297..."
      ]
     },
     "execution_count": 3,
     "metadata": {},
     "output_type": "execute_result"
    }
   ],
   "source": [
    "zone_class = (zoning[[\"zone_class\", \"geometry\"]]\n",
    "              .drop_duplicates()\n",
    "              .dissolve(by=\"zone_class\")\n",
    "              .reset_index()\n",
    "             )\n",
    "zone_class.head(2)"
   ]
  },
  {
   "cell_type": "code",
   "execution_count": 4,
   "metadata": {},
   "outputs": [],
   "source": [
    "# Get parcel centroids\n",
    "parcel_geom = catalog.parcels_with_duplicates.read()"
   ]
  },
  {
   "cell_type": "code",
   "execution_count": 5,
   "metadata": {},
   "outputs": [],
   "source": [
    "parcel_geom = (parcel_geom.assign(\n",
    "        centroid = parcel_geom.geometry.centroid\n",
    "    )\n",
    "    [[\"AIN\", \"num_AIN\", \"centroid\"]]\n",
    ")\n",
    "parcel_geom = parcel_geom.set_geometry(\"centroid\")"
   ]
  },
  {
   "cell_type": "code",
   "execution_count": 10,
   "metadata": {},
   "outputs": [],
   "source": [
    "parcel_geom = parcel_geom.head(5000)"
   ]
  },
  {
   "cell_type": "markdown",
   "metadata": {},
   "source": [
    "## Spatial join parcels with zones"
   ]
  },
  {
   "cell_type": "code",
   "execution_count": 11,
   "metadata": {},
   "outputs": [],
   "source": [
    "gdf = gpd.sjoin(parcel_geom, zone_class, \n",
    "                how = \"left\", op = \"intersects\").drop(columns = \"index_right\")"
   ]
  },
  {
   "cell_type": "code",
   "execution_count": null,
   "metadata": {},
   "outputs": [],
   "source": [
    "# Drop duplicates\n",
    "gdf = (gdf.assign(\n",
    "        x = gdf.geometry.centroid.x, \n",
    "        y = gdf.geometry.centroid.y\n",
    "    ).drop_duplicates(subset = ['x', 'y', 'num_AIN', 'zone_class'])\n",
    "       .reset_index(drop=True)\n",
    "       .drop(columns = ['x', 'y', 'num_AIN'])\n",
    ")"
   ]
  },
  {
   "cell_type": "markdown",
   "metadata": {},
   "source": [
    "## Join parcels to tracts, aggregate to tract level"
   ]
  },
  {
   "cell_type": "code",
   "execution_count": 120,
   "metadata": {},
   "outputs": [],
   "source": [
    "tracts = catalog.census_tracts.read()\n",
    "\n",
    "tracts = (tracts[[\"GEOID10\", \"geometry\"]]\n",
    "          .rename(columns = {\"GEOID10\": \"GEOID\"})\n",
    "         )\n",
    "\n",
    "crosswalk_parcels_tracts = catalog.crosswalk_parcels_tracts.read()"
   ]
  },
  {
   "cell_type": "code",
   "execution_count": 121,
   "metadata": {},
   "outputs": [],
   "source": [
    "gdf2 = pd.merge(crosswalk_parcels_tracts, gdf, \n",
    "                on = \"AIN\", how = \"inner\", validate = \"1:1\")"
   ]
  },
  {
   "cell_type": "code",
   "execution_count": 123,
   "metadata": {},
   "outputs": [],
   "source": [
    "# Aggregte and count number of parcels by each zone_class\n",
    "group_cols = [\"GEOID\", \"TOC_Tier\", \"total_AIN\", \"zone_class\"]\n",
    "by_zone_tract = (gdf2.groupby(group_cols)\n",
    "                 .agg({\"AIN\": \"count\"})\n",
    "                 .reset_index()\n",
    "                )"
   ]
  },
  {
   "cell_type": "code",
   "execution_count": 137,
   "metadata": {},
   "outputs": [],
   "source": [
    "by_tract = (by_zone_tract.pivot(index=[\"GEOID\", \"TOC_Tier\", \"total_AIN\"], \n",
    "                                columns = \"zone_class\", values = \"AIN\")\n",
    "            .reset_index()\n",
    "            )\n",
    "\n",
    "# Tracts can have portions in different tiers\n",
    "# Aggregate to tract-level\n",
    "by_tract = (by_tract.drop(columns = \"TOC_Tier\")\n",
    "            .pivot_table(index = [\"GEOID\", \"total_AIN\"], aggfunc = \"sum\")\n",
    "            .sort_values(\"GEOID\")\n",
    "            .reset_index()\n",
    "           )"
   ]
  },
  {
   "cell_type": "code",
   "execution_count": 140,
   "metadata": {},
   "outputs": [],
   "source": [
    "# Make columns % AIN that are of certain zone_class\n",
    "remove_me = [\"GEOID\", \"total_AIN\"]\n",
    "zone_cols = [x for x in list(by_tract.columns) if x not in remove_me]"
   ]
  },
  {
   "cell_type": "code",
   "execution_count": 141,
   "metadata": {},
   "outputs": [],
   "source": [
    "for c in zone_cols:\n",
    "    by_tract[c] = by_tract[c] / by_tract[\"total_AIN\"]"
   ]
  },
  {
   "cell_type": "code",
   "execution_count": 158,
   "metadata": {},
   "outputs": [],
   "source": [
    "final = pd.merge(tracts[[\"GEOID\"]], by_tract, \n",
    "         on = \"GEOID\", how = \"left\", validate = \"1:1\")"
   ]
  },
  {
   "cell_type": "code",
   "execution_count": 160,
   "metadata": {},
   "outputs": [],
   "source": [
    "final.to_parquet(\"s3://city-planning-entitlements/data/crosswalk_tracts_zone_class.parquet\")"
   ]
  },
  {
   "cell_type": "code",
   "execution_count": null,
   "metadata": {},
   "outputs": [],
   "source": []
  }
 ],
 "metadata": {
  "kernelspec": {
   "display_name": "Python 3",
   "language": "python",
   "name": "python3"
  },
  "language_info": {
   "codemirror_mode": {
    "name": "ipython",
    "version": 3
   },
   "file_extension": ".py",
   "mimetype": "text/x-python",
   "name": "python",
   "nbconvert_exporter": "python",
   "pygments_lexer": "ipython3",
   "version": "3.7.8"
  }
 },
 "nbformat": 4,
 "nbformat_minor": 4
}
