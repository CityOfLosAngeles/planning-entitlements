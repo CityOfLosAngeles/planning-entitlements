{
 "cells": [
  {
   "cell_type": "markdown",
   "metadata": {},
   "source": [
    "# Make file that calculates what % of parcels are specific zones by tract\n",
    "commercial, residential, or call out specific ones (TOC is very C2 and R3 heavy)"
   ]
  },
  {
   "cell_type": "code",
   "execution_count": 1,
   "metadata": {},
   "outputs": [],
   "source": [
    "import geopandas as gpd\n",
    "import intake\n",
    "import matplotlib.pyplot as plt\n",
    "import numpy as np\n",
    "import pandas as pd\n",
    "import laplan\n",
    "\n",
    "catalog = intake.open_catalog(\"../catalogs/*.yml\")"
   ]
  },
  {
   "cell_type": "code",
   "execution_count": 2,
   "metadata": {},
   "outputs": [],
   "source": [
    "zoning = catalog.zoning_cleaned.read()"
   ]
  },
  {
   "cell_type": "code",
   "execution_count": 3,
   "metadata": {},
   "outputs": [
    {
     "data": {
      "text/html": [
       "<div>\n",
       "<style scoped>\n",
       "    .dataframe tbody tr th:only-of-type {\n",
       "        vertical-align: middle;\n",
       "    }\n",
       "\n",
       "    .dataframe tbody tr th {\n",
       "        vertical-align: top;\n",
       "    }\n",
       "\n",
       "    .dataframe thead th {\n",
       "        text-align: right;\n",
       "    }\n",
       "</style>\n",
       "<table border=\"1\" class=\"dataframe\">\n",
       "  <thead>\n",
       "    <tr style=\"text-align: right;\">\n",
       "      <th></th>\n",
       "      <th>ZONE_CMPLT</th>\n",
       "      <th>ZONE_SMRY</th>\n",
       "      <th>Q</th>\n",
       "      <th>T</th>\n",
       "      <th>zone_class</th>\n",
       "      <th>height_dis</th>\n",
       "      <th>D</th>\n",
       "      <th>specific_p</th>\n",
       "      <th>overlay</th>\n",
       "      <th>geometry</th>\n",
       "    </tr>\n",
       "  </thead>\n",
       "  <tbody>\n",
       "    <tr>\n",
       "      <th>0</th>\n",
       "      <td>(F)CM-1-CUGU</td>\n",
       "      <td>None</td>\n",
       "      <td>0</td>\n",
       "      <td>1</td>\n",
       "      <td>CM</td>\n",
       "      <td>1</td>\n",
       "      <td>0</td>\n",
       "      <td>None</td>\n",
       "      <td>CUGU</td>\n",
       "      <td>MULTIPOLYGON (((6444407.300 1905809.010, 64442...</td>\n",
       "    </tr>\n",
       "    <tr>\n",
       "      <th>1</th>\n",
       "      <td>(F)CM-1-HPOZ</td>\n",
       "      <td>None</td>\n",
       "      <td>0</td>\n",
       "      <td>1</td>\n",
       "      <td>CM</td>\n",
       "      <td>1</td>\n",
       "      <td>0</td>\n",
       "      <td>None</td>\n",
       "      <td>HPOZ</td>\n",
       "      <td>MULTIPOLYGON (((6478385.560 1837166.650, 64783...</td>\n",
       "    </tr>\n",
       "    <tr>\n",
       "      <th>2</th>\n",
       "      <td>(F)CM-1-O-HPOZ</td>\n",
       "      <td>None</td>\n",
       "      <td>0</td>\n",
       "      <td>1</td>\n",
       "      <td>CM</td>\n",
       "      <td>1</td>\n",
       "      <td>0</td>\n",
       "      <td>None</td>\n",
       "      <td>O,  HPOZ</td>\n",
       "      <td>POLYGON ((6478551.540 1837132.960, 6478543.250...</td>\n",
       "    </tr>\n",
       "    <tr>\n",
       "      <th>3</th>\n",
       "      <td>(F)R2-1-RIO</td>\n",
       "      <td>None</td>\n",
       "      <td>0</td>\n",
       "      <td>0</td>\n",
       "      <td>R2</td>\n",
       "      <td>1</td>\n",
       "      <td>0</td>\n",
       "      <td>None</td>\n",
       "      <td>RIO</td>\n",
       "      <td>MULTIPOLYGON (((6416397.250 1892185.530, 64163...</td>\n",
       "    </tr>\n",
       "    <tr>\n",
       "      <th>4</th>\n",
       "      <td>(F)RE11-1</td>\n",
       "      <td>None</td>\n",
       "      <td>0</td>\n",
       "      <td>0</td>\n",
       "      <td>RE11</td>\n",
       "      <td>1</td>\n",
       "      <td>0</td>\n",
       "      <td>None</td>\n",
       "      <td>None</td>\n",
       "      <td>MULTIPOLYGON (((6421076.240 1939270.920, 64210...</td>\n",
       "    </tr>\n",
       "  </tbody>\n",
       "</table>\n",
       "</div>"
      ],
      "text/plain": [
       "       ZONE_CMPLT ZONE_SMRY  Q  T zone_class height_dis  D specific_p  \\\n",
       "0    (F)CM-1-CUGU      None  0  1         CM          1  0       None   \n",
       "1    (F)CM-1-HPOZ      None  0  1         CM          1  0       None   \n",
       "2  (F)CM-1-O-HPOZ      None  0  1         CM          1  0       None   \n",
       "3     (F)R2-1-RIO      None  0  0         R2          1  0       None   \n",
       "4       (F)RE11-1      None  0  0       RE11          1  0       None   \n",
       "\n",
       "    overlay                                           geometry  \n",
       "0      CUGU  MULTIPOLYGON (((6444407.300 1905809.010, 64442...  \n",
       "1      HPOZ  MULTIPOLYGON (((6478385.560 1837166.650, 64783...  \n",
       "2  O,  HPOZ  POLYGON ((6478551.540 1837132.960, 6478543.250...  \n",
       "3       RIO  MULTIPOLYGON (((6416397.250 1892185.530, 64163...  \n",
       "4      None  MULTIPOLYGON (((6421076.240 1939270.920, 64210...  "
      ]
     },
     "execution_count": 3,
     "metadata": {},
     "output_type": "execute_result"
    }
   ],
   "source": [
    "zoning.head()"
   ]
  },
  {
   "cell_type": "code",
   "execution_count": 11,
   "metadata": {},
   "outputs": [],
   "source": [
    "tracts = catalog.census_tracts.read()\n",
    "\n",
    "tracts = (tracts[[\"GEOID10\", \"geometry\"]]\n",
    "          .rename(columns = {\"GEOID10\": \"GEOID\"})\n",
    "         )\n",
    "\n",
    "crosswalk_parcels_tracts = catalog.crosswalk_parcels_tracts.read()\n",
    "\n",
    "crosswalk_parcels_tracts = pd.merge(tracts, crosswalk_parcels_tracts, \n",
    "                                    on = \"GEOID\", how = \"left\", validate = \"1:m\")"
   ]
  },
  {
   "cell_type": "code",
   "execution_count": null,
   "metadata": {},
   "outputs": [],
   "source": []
  }
 ],
 "metadata": {
  "kernelspec": {
   "display_name": "Python 3",
   "language": "python",
   "name": "python3"
  },
  "language_info": {
   "codemirror_mode": {
    "name": "ipython",
    "version": 3
   },
   "file_extension": ".py",
   "mimetype": "text/x-python",
   "name": "python",
   "nbconvert_exporter": "python",
   "pygments_lexer": "ipython3",
   "version": "3.7.8"
  }
 },
 "nbformat": 4,
 "nbformat_minor": 4
}
