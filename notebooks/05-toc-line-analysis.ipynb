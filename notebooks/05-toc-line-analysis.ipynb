{
 "cells": [
  {
   "cell_type": "markdown",
   "metadata": {},
   "source": [
    "# TOC entitlements near bus/rail lines\n",
    "* Using reconstructed TOC Tiers map, we assign developments to specific transit lines.\n",
    "* Which bus/rail lines or rail stations have seen the most TOC entitlement activity?\n",
    "* TOC entitlement activity by bus/rail line & tier\n",
    "* TOC entitlement activity by rail line\n",
    "* Which ones have seen lots of non-TOC entitlement activity? \n",
    "* Add another notebook to get more into this question"
   ]
  },
  {
   "cell_type": "code",
   "execution_count": null,
   "metadata": {},
   "outputs": [],
   "source": [
    "import intake\n",
    "from IPython.display import display, Markdown\n",
    "import matplotlib.pyplot as plt\n",
    "import numpy as np\n",
    "import pandas as pd\n",
    "import geopandas as gpd\n",
    "import utils\n",
    "import boto3"
   ]
  },
  {
   "cell_type": "code",
   "execution_count": null,
   "metadata": {},
   "outputs": [],
   "source": [
    "#pd.set_option('display.max_columns', None)\n",
    "#pd.set_option('display.max_rows', 20)"
   ]
  },
  {
   "cell_type": "code",
   "execution_count": null,
   "metadata": {},
   "outputs": [],
   "source": [
    "catalog = intake.open_catalog(\"../catalogs/*.yml\")\n",
    "\n",
    "s3 = boto3.client('s3')\n",
    "bucket_name = 'city-planning-entitlements'"
   ]
  },
  {
   "cell_type": "code",
   "execution_count": null,
   "metadata": {},
   "outputs": [],
   "source": [
    "tracts = catalog.census"
   ]
  },
  {
   "cell_type": "markdown",
   "metadata": {},
   "source": [
    "## Assign entitlements to conditions"
   ]
  },
  {
   "cell_type": "code",
   "execution_count": null,
   "metadata": {},
   "outputs": [],
   "source": [
    "toc_tiers = utils.reconstruct_toc_tiers_file()\n",
    "\n",
    "parcels = gpd.read_file(\n",
    "    f\"s3://{bucket_name}/gis/intermediate/toc_eligible_parcels_with_entitlements.geojson\"\n",
    ").to_crs({'init':'epsg:4326'})"
   ]
  },
  {
   "cell_type": "code",
   "execution_count": null,
   "metadata": {},
   "outputs": [],
   "source": [
    "toc_parcels = parcels[parcels.num_TOC > 0]"
   ]
  },
  {
   "cell_type": "code",
   "execution_count": null,
   "metadata": {},
   "outputs": [],
   "source": [
    "df = utils.parcels_join_toc_tiers(toc_parcels, toc_tiers)"
   ]
  },
  {
   "cell_type": "markdown",
   "metadata": {},
   "source": [
    "## Which rule?"
   ]
  },
  {
   "cell_type": "code",
   "execution_count": null,
   "metadata": {},
   "outputs": [],
   "source": [
    "tier_1 = df[df.TOC_Tier == 1]\n",
    "tier_2 = df[df.TOC_Tier == 2]\n",
    "tier_3 = df[df.TOC_Tier == 3]\n",
    "tier_4 = df[df.TOC_Tier == 4]"
   ]
  },
  {
   "cell_type": "code",
   "execution_count": null,
   "metadata": {},
   "outputs": [],
   "source": [
    "table = np.zeros(shape=(5, 4))\n",
    "table[4,3] = tier_4[(tier_4.mode_a==\"metro\") & (tier_4.mode_b.isin([\"metro\", \"bus\"]))].num_TOC.sum()\n",
    "table[4,2] = tier_4[tier_4.mode_a==\"metro\"].num_TOC.sum()\n",
    "table[3,2] = tier_3[tier_3.mode_a==\"metrolink\"].num_TOC.sum()\n",
    "table[3,1] = tier_2[tier_2.mode_a==\"metrolink\"].num_TOC.sum()\n",
    "table[3,0] = tier_1[tier_1.mode_a==\"metrolink\"].num_TOC.sum()\n",
    "table[2,2] = tier_3[tier_3.a_rapid & tier_3.b_rapid].num_TOC.sum()\n",
    "table[2,1] = tier_2[tier_2.a_rapid & tier_2.b_rapid].num_TOC.sum()\n",
    "table[1,2] = tier_3[tier_3.a_rapid ^ tier_3.b_rapid].num_TOC.sum()\n",
    "table[1,1] = tier_2[tier_2.a_rapid ^ tier_2.b_rapid].num_TOC.sum()\n",
    "table[1,0] = tier_1[tier_1.a_rapid ^ tier_1.b_rapid].num_TOC.sum()\n",
    "table[0,1] = tier_2[~tier_2.a_rapid & ~tier_2.b_rapid].num_TOC.sum()\n",
    "table[0,0] = tier_1[~tier_1.a_rapid & ~tier_1.b_rapid].num_TOC.sum()\n",
    "\n",
    "\n",
    "fig, ax = plt.subplots(figsize=(16,16))\n",
    "pos = ax.imshow(table, cmap=\"magma\")\n",
    "ax.set_axis_off()\n",
    "ax.text(-2.1, 0.0, \"Two Regular Buses\", fontsize=24)\n",
    "ax.text(-2.1, 1.0, \"Regular plus Rapid Bus\", fontsize=24)\n",
    "ax.text(-2.1, 2.0, \"Two Rapid Buses\", fontsize=24)\n",
    "ax.text(-2.1, 3.0, \"Metrolink Rail Stations\", fontsize=24)\n",
    "ax.text(-2.1, 4.0, \"Metro Rail Stations\", fontsize=24)\n",
    "ax.text(-0.2, -0.6, \"Tier 1\", fontsize=24)\n",
    "ax.text(0.8, -0.6, \"Tier 2\", fontsize=24)\n",
    "ax.text(1.8, -0.6, \"Tier 3\", fontsize=24)\n",
    "ax.text(2.8, -0.6, \"Tier 4\", fontsize=24)\n",
    "cb = fig.colorbar(pos, ax=ax)\n",
    "cb.ax.tick_params(labelsize=16)\n",
    "ax.text(0.6, -1.0, \"TOC Entitlements\", fontsize=36)\n",
    "#plt.savefig(\"toc.png\", bbox_inches='tight')"
   ]
  },
  {
   "cell_type": "markdown",
   "metadata": {},
   "source": [
    "## By Tier and Line"
   ]
  },
  {
   "cell_type": "code",
   "execution_count": null,
   "metadata": {},
   "outputs": [],
   "source": [
    "def summarize(tier, header):\n",
    "    display(Markdown(header))\n",
    "    metro_rail_summary = (\n",
    "        tier[tier.mode_a==\"metro\"].groupby([\"station_name\"])\n",
    "        .agg({\"num_TOC\":\"sum\", \"num_nonTOC\":\"sum\"})\n",
    "        .sort_values(['num_TOC', 'num_nonTOC'], ascending = [False, False])\n",
    "    )\n",
    "    if len(metro_rail_summary):\n",
    "        display(Markdown(\"#### Metro Rail\"))\n",
    "        display(metro_rail_summary)\n",
    "    \n",
    "    metrolink_summary = (\n",
    "        tier[tier.mode_a==\"metrolink\"].groupby(\"station_name\")\n",
    "        .agg({\"num_TOC\":\"sum\", \"num_nonTOC\":\"sum\"})\n",
    "        .sort_values(['num_TOC', 'num_nonTOC'], ascending = [False, False])\n",
    "\n",
    "    )\n",
    "    metrolink_summary = metrolink_summary.reindex(\n",
    "        index=metrolink_summary.index.rename(\"station_name\")\n",
    "    )\n",
    "    if len(metrolink_summary):\n",
    "        display(Markdown(\"#### Metrolink\"))\n",
    "        display(metrolink_summary)\n",
    "    \n",
    "    a = tier[tier.mode_a==\"bus\"].groupby(\"line_name_a\").agg({\"num_TOC\":\"sum\", \"num_nonTOC\":\"sum\"})\n",
    "    b = tier[tier.mode_b==\"bus\"].groupby(\"line_name_b\").agg({\"num_TOC\":\"sum\", \"num_nonTOC\":\"sum\"})\n",
    "    bus_summary = (\n",
    "        a.reindex(\n",
    "            index=(a.index | b.index).rename(\"Bus Route\")\n",
    "        ).fillna(0).astype(\"int\") + \n",
    "        b.reindex(\n",
    "            index=(a.index | b.index).rename(\"Bus Route\")\n",
    "        ).fillna(0).astype(\"int\")\n",
    "    )\n",
    "    if len(bus_summary):\n",
    "        display(Markdown(\"#### Bus Lines\"))\n",
    "        display(bus_summary.sort_values([\"num_TOC\", \"num_nonTOC\"], ascending=[False, False]).head(60))"
   ]
  },
  {
   "cell_type": "code",
   "execution_count": null,
   "metadata": {},
   "outputs": [],
   "source": [
    "# TODO: Figure out a better deduplicating strategy.\n",
    "summarize(tier_1.drop_duplicates(subset=[\"AIN\"]), \"## Tier 1 Statistics\")\n",
    "summarize(tier_2.drop_duplicates(subset=[\"AIN\"]), \"## Tier 2 Statistics\")\n",
    "summarize(tier_3.drop_duplicates(subset=[\"AIN\"]), \"## Tier 3 Statistics\")\n",
    "summarize(tier_4.drop_duplicates(subset=[\"AIN\"]), \"## Tier 4 Statistics\")"
   ]
  },
  {
   "cell_type": "markdown",
   "metadata": {},
   "source": [
    "## By Line"
   ]
  },
  {
   "cell_type": "code",
   "execution_count": null,
   "metadata": {},
   "outputs": [],
   "source": [
    "def summarize(df):\n",
    "    # Bus\n",
    "    bus_df = df[(df.mode_a == \"bus\") | (df.mode_b == \"bus\")]\n",
    "\n",
    "    a = bus_df[bus_df.mode_a==\"bus\"].groupby(\"line_name_a\").agg({\"num_TOC\":\"sum\"})\n",
    "    b = bus_df[bus_df.mode_b==\"bus\"].groupby(\"line_name_b\").agg({\"num_TOC\":\"sum\"})\n",
    "    bus_summary = (\n",
    "        a.reindex(\n",
    "            index=(a.index | b.index).rename(\"Bus Route\")\n",
    "        ).fillna(0).astype(\"int\") + \n",
    "        b.reindex(\n",
    "            index=(a.index | b.index).rename(\"Bus Route\")\n",
    "        ).fillna(0).astype(\"int\")\n",
    "    )\n",
    "\n",
    "    if len(bus_summary):\n",
    "        display(Markdown(\"#### Bus Lines\"))\n",
    "        display(bus_summary.sort_values([\"num_TOC\"], ascending = False).head(30))\n",
    "      \n",
    "    # Metrolink\n",
    "    metrolink_df = df[df.mode_a == \"metrolink\"]\n",
    "    \n",
    "    metrolink_summary = (\n",
    "        metrolink_df.groupby([\"station_name\"])\n",
    "        .agg({\"num_TOC\": \"sum\"})\n",
    "        .sort_values([\"num_TOC\"], ascending = False)\n",
    "    )\n",
    "    metrolink_summary = metrolink_summary.reindex(\n",
    "        index=metrolink_summary.index.rename(\"station_name\")\n",
    "    )\n",
    "    \n",
    "    if len(metrolink_summary):\n",
    "        display(Markdown(\"#### Metrolink\"))\n",
    "        display(metrolink_summary)\n",
    "\n",
    "    # Metro Rail\n",
    "    metro_df = df[(df.mode_a == \"metro\") | (df.mode_b == \"metro\")]\n",
    "\n",
    "    metro_rail_summary = (\n",
    "        metro_df.groupby(\"line_name_a\")\n",
    "        .agg({\"num_TOC\":\"sum\"})\n",
    "        .sort_values([\"num_TOC\"], ascending = False)\n",
    "    )\n",
    "    metro_rail_summary = metro_rail_summary.reindex(\n",
    "        index=metro_rail_summary.index.rename(\"Rail Line\")\n",
    "    )\n",
    "    \n",
    "    if len(metro_rail_summary):\n",
    "        display(Markdown(\"#### Metro Rail\"))\n",
    "        display(metro_rail_summary)"
   ]
  },
  {
   "cell_type": "code",
   "execution_count": null,
   "metadata": {},
   "outputs": [],
   "source": [
    "summarize(df)"
   ]
  },
  {
   "cell_type": "code",
   "execution_count": null,
   "metadata": {},
   "outputs": [],
   "source": []
  }
 ],
 "metadata": {
  "kernelspec": {
   "display_name": "Python 3",
   "language": "python",
   "name": "python3"
  },
  "language_info": {
   "codemirror_mode": {
    "name": "ipython",
    "version": 3
   },
   "file_extension": ".py",
   "mimetype": "text/x-python",
   "name": "python",
   "nbconvert_exporter": "python",
   "pygments_lexer": "ipython3",
   "version": "3.7.3"
  }
 },
 "nbformat": 4,
 "nbformat_minor": 4
}
