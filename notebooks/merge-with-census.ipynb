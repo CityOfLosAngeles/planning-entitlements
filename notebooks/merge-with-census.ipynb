{
 "cells": [
  {
   "cell_type": "markdown",
   "metadata": {},
   "source": [
    "## Make PCTS data tract level"
   ]
  },
  {
   "cell_type": "code",
   "execution_count": 1,
   "metadata": {},
   "outputs": [],
   "source": [
    "import intake\n",
    "import geopandas as gpd\n",
    "import numpy as np\n",
    "import pandas as pd"
   ]
  },
  {
   "cell_type": "code",
   "execution_count": 2,
   "metadata": {},
   "outputs": [],
   "source": [
    "catalog = intake.open_catalog(\"../catalogs/*.yml\")\n",
    "\n",
    "bucket_name = 'city-planning-entitlements'"
   ]
  },
  {
   "cell_type": "markdown",
   "metadata": {},
   "source": [
    "## Import data"
   ]
  },
  {
   "cell_type": "code",
   "execution_count": 3,
   "metadata": {},
   "outputs": [],
   "source": [
    "census = pd.read_parquet(f's3://{bucket_name}/data/final/census_analysis_table.parquet')"
   ]
  },
  {
   "cell_type": "code",
   "execution_count": 4,
   "metadata": {},
   "outputs": [],
   "source": [
    "crosswalk_parcels_tracts = pd.read_parquet(f's3://{bucket_name}/data/crosswalk_parcels_tracts.parquet')\n",
    "\n",
    "# Find the number of parcels within tract (but drop duplicate geometries first)\n",
    "subset_cols = ['num_AIN', 'parcelsqft', 'parcel_tot', 'TOC_Tier', 'GEOID']\n",
    "no_dups = crosswalk_parcels_tracts.drop_duplicates(subset = subset_cols, keep = 'first')\n",
    "\n",
    "num_AIN_by_tract = (no_dups.groupby(['GEOID'])\n",
    "                    .agg({'AIN':'count'})\n",
    "                    .reset_index()\n",
    "                    .rename(columns = {'AIN': 'tot_parcels'})\n",
    "                   )\n",
    "\n",
    "crosswalk_parcels_tracts = pd.merge(crosswalk_parcels_tracts, num_AIN_by_tract, \n",
    "                                    on = 'GEOID', how = 'left', validate = 'm:1')\n",
    "\n",
    "keep = ['AIN', 'tot_parcels', 'GEOID', 'pop']\n",
    "crosswalk_parcels_tracts = crosswalk_parcels_tracts[keep]"
   ]
  },
  {
   "cell_type": "markdown",
   "metadata": {},
   "source": [
    "## Make PCTS tract-level\n",
    "* Aggregate and count the number of unique parent cases, number of parcels with ENT, and number of ENT with each suffix by tract"
   ]
  },
  {
   "cell_type": "code",
   "execution_count": 5,
   "metadata": {},
   "outputs": [],
   "source": [
    "def make_tract_level(start_date):\n",
    "    # Import data\n",
    "    pcts = pd.read_parquet(f's3://{bucket_name}/data/final/master_pcts.parquet')\n",
    "    parents = pd.read_parquet(f's3://{bucket_name}/data/final/parents_with_suffix.parquet')\n",
    "    \n",
    "    # Subset PCTS, we'll start with last 10 years\n",
    "    pcts = pcts[pcts.CASE_FILE_DATE >= start_date]\n",
    "    \n",
    "    # (1a) Only keep parent cases\n",
    "    m1 = pd.merge(pcts, parents, on = 'PARENT_CASE', how = 'inner', validate = 'm:1')\n",
    "\n",
    "    # (1b) Make cases parcel-level\n",
    "    parents_by_parcel = (m1.groupby(['AIN'])\n",
    "                         .agg({'PARENT_CASE':'count'})\n",
    "                         .reset_index()\n",
    "                         .rename(columns = {'PARENT_CASE':'num_cases'})\n",
    "                        )\n",
    "\n",
    "    # (1c) Merge in tract info and aggregate to tract-level\n",
    "    m2 = pd.merge(parents_by_parcel, crosswalk_parcels_tracts, on = 'AIN', how = 'inner', validate = '1:1')\n",
    "\n",
    "    # Even though the column num_AIN shows there are some parcels with more than 1 obs,\n",
    "    # once we merged in parent cases, no AIN shows up more than once\n",
    "\n",
    "    ent_by_tract = m2.groupby(['GEOID', 'pop']).agg({'num_cases':'sum', 'AIN':'count'}).reset_index()\n",
    "    \n",
    "    \n",
    "    # (2a) Only keep suffixes\n",
    "    suffix = m1.loc[:, '1A':'ZV']\n",
    "    \n",
    "    m3 = pd.merge(m1[['AIN']], suffix, left_index = True, right_index = True)\n",
    "\n",
    "    # (2b) Make suffixes parcel-level\n",
    "    suffix_by_parcel = (m3.pivot_table(index = 'AIN', aggfunc = 'sum')\n",
    "                        .reset_index()\n",
    "                       )\n",
    "\n",
    "    # (2c) Merge in tract info and aggregate to tract-level\n",
    "    m4 = pd.merge(suffix_by_parcel, crosswalk_parcels_tracts, \n",
    "                                 on = 'AIN', how = 'left', validate = '1:1')\n",
    "\n",
    "    # Aggregate the number of suffixes by tract\n",
    "    suffix_by_tract = m4.pivot_table(index = ['GEOID', 'pop'], aggfunc = 'sum').reset_index()\n",
    "    \n",
    "    \n",
    "    # (3) Merge number of cases and suffixes by tract\n",
    "    df = pd.merge(ent_by_tract, suffix_by_tract, on = ['GEOID', 'pop'], how = 'left', validate = '1:1')\n",
    "        \n",
    "    # (4) Make sure everything returns as integers and not floats\n",
    "    colnames = list(df.columns)\n",
    "\n",
    "    for r in ['GEOID', 'pop', 'AIN']:\n",
    "        colnames.remove(r)\n",
    "    \n",
    "    # Count number of suffixes, since each ENT can have any number of suffixes involved\n",
    "    df[colnames] = df[colnames].fillna(0).astype(int) \n",
    "    df['num_suffix'] = df[colnames].sum(axis=1)\n",
    "        \n",
    "    return df"
   ]
  },
  {
   "cell_type": "code",
   "execution_count": 6,
   "metadata": {},
   "outputs": [],
   "source": [
    "start_date = \"2010-01\"\n",
    "df = make_tract_level(start_date)"
   ]
  },
  {
   "cell_type": "code",
   "execution_count": 7,
   "metadata": {},
   "outputs": [
    {
     "data": {
      "text/html": [
       "<div>\n",
       "<style scoped>\n",
       "    .dataframe tbody tr th:only-of-type {\n",
       "        vertical-align: middle;\n",
       "    }\n",
       "\n",
       "    .dataframe tbody tr th {\n",
       "        vertical-align: top;\n",
       "    }\n",
       "\n",
       "    .dataframe thead th {\n",
       "        text-align: right;\n",
       "    }\n",
       "</style>\n",
       "<table border=\"1\" class=\"dataframe\">\n",
       "  <thead>\n",
       "    <tr style=\"text-align: right;\">\n",
       "      <th></th>\n",
       "      <th>GEOID</th>\n",
       "      <th>pop</th>\n",
       "      <th>num_cases</th>\n",
       "      <th>AIN</th>\n",
       "      <th>1A</th>\n",
       "      <th>2A</th>\n",
       "      <th>A</th>\n",
       "      <th>AC</th>\n",
       "      <th>ACI</th>\n",
       "      <th>ADD1</th>\n",
       "      <th>...</th>\n",
       "      <th>ZCJ</th>\n",
       "      <th>ZV</th>\n",
       "      <th>tot_parcels</th>\n",
       "      <th>num_suffix</th>\n",
       "      <th>p_renter</th>\n",
       "      <th>p_zero_veh</th>\n",
       "      <th>p_transit</th>\n",
       "      <th>p_nonwhite</th>\n",
       "      <th>p_low_income_total</th>\n",
       "      <th>p_low_income_nonwhite</th>\n",
       "    </tr>\n",
       "  </thead>\n",
       "  <tbody>\n",
       "    <tr>\n",
       "      <th>0</th>\n",
       "      <td>06037101110</td>\n",
       "      <td>4566</td>\n",
       "      <td>20</td>\n",
       "      <td>10</td>\n",
       "      <td>0</td>\n",
       "      <td>0</td>\n",
       "      <td>0</td>\n",
       "      <td>0</td>\n",
       "      <td>0</td>\n",
       "      <td>0</td>\n",
       "      <td>...</td>\n",
       "      <td>0</td>\n",
       "      <td>2</td>\n",
       "      <td>11640</td>\n",
       "      <td>11690</td>\n",
       "      <td>0.521214</td>\n",
       "      <td>0.000000</td>\n",
       "      <td>0.053970</td>\n",
       "      <td>0.231803</td>\n",
       "      <td>0.496241</td>\n",
       "      <td>0.459930</td>\n",
       "    </tr>\n",
       "    <tr>\n",
       "      <th>1</th>\n",
       "      <td>06037101122</td>\n",
       "      <td>3064</td>\n",
       "      <td>11</td>\n",
       "      <td>7</td>\n",
       "      <td>0</td>\n",
       "      <td>0</td>\n",
       "      <td>0</td>\n",
       "      <td>0</td>\n",
       "      <td>0</td>\n",
       "      <td>0</td>\n",
       "      <td>...</td>\n",
       "      <td>0</td>\n",
       "      <td>0</td>\n",
       "      <td>9212</td>\n",
       "      <td>9235</td>\n",
       "      <td>0.178417</td>\n",
       "      <td>0.006817</td>\n",
       "      <td>0.009963</td>\n",
       "      <td>0.124112</td>\n",
       "      <td>0.184713</td>\n",
       "      <td>0.186567</td>\n",
       "    </tr>\n",
       "    <tr>\n",
       "      <th>2</th>\n",
       "      <td>06037101210</td>\n",
       "      <td>6043</td>\n",
       "      <td>68</td>\n",
       "      <td>36</td>\n",
       "      <td>0</td>\n",
       "      <td>0</td>\n",
       "      <td>0</td>\n",
       "      <td>0</td>\n",
       "      <td>0</td>\n",
       "      <td>0</td>\n",
       "      <td>...</td>\n",
       "      <td>0</td>\n",
       "      <td>1</td>\n",
       "      <td>18828</td>\n",
       "      <td>18976</td>\n",
       "      <td>0.876399</td>\n",
       "      <td>0.089531</td>\n",
       "      <td>0.135740</td>\n",
       "      <td>0.211666</td>\n",
       "      <td>0.677725</td>\n",
       "      <td>0.560870</td>\n",
       "    </tr>\n",
       "    <tr>\n",
       "      <th>3</th>\n",
       "      <td>06037101220</td>\n",
       "      <td>3340</td>\n",
       "      <td>20</td>\n",
       "      <td>14</td>\n",
       "      <td>2</td>\n",
       "      <td>0</td>\n",
       "      <td>0</td>\n",
       "      <td>0</td>\n",
       "      <td>0</td>\n",
       "      <td>0</td>\n",
       "      <td>...</td>\n",
       "      <td>0</td>\n",
       "      <td>0</td>\n",
       "      <td>9674</td>\n",
       "      <td>9717</td>\n",
       "      <td>0.603374</td>\n",
       "      <td>0.083278</td>\n",
       "      <td>0.083278</td>\n",
       "      <td>0.286817</td>\n",
       "      <td>0.649923</td>\n",
       "      <td>0.485175</td>\n",
       "    </tr>\n",
       "    <tr>\n",
       "      <th>4</th>\n",
       "      <td>06037101300</td>\n",
       "      <td>4285</td>\n",
       "      <td>35</td>\n",
       "      <td>17</td>\n",
       "      <td>1</td>\n",
       "      <td>0</td>\n",
       "      <td>0</td>\n",
       "      <td>1</td>\n",
       "      <td>0</td>\n",
       "      <td>0</td>\n",
       "      <td>...</td>\n",
       "      <td>0</td>\n",
       "      <td>0</td>\n",
       "      <td>23919</td>\n",
       "      <td>23995</td>\n",
       "      <td>0.083059</td>\n",
       "      <td>0.010289</td>\n",
       "      <td>0.088192</td>\n",
       "      <td>0.137771</td>\n",
       "      <td>0.303833</td>\n",
       "      <td>0.144654</td>\n",
       "    </tr>\n",
       "  </tbody>\n",
       "</table>\n",
       "<p>5 rows × 179 columns</p>\n",
       "</div>"
      ],
      "text/plain": [
       "         GEOID   pop  num_cases  AIN  1A  2A  A  AC  ACI  ADD1  ...  ZCJ  ZV  \\\n",
       "0  06037101110  4566         20   10   0   0  0   0    0     0  ...    0   2   \n",
       "1  06037101122  3064         11    7   0   0  0   0    0     0  ...    0   0   \n",
       "2  06037101210  6043         68   36   0   0  0   0    0     0  ...    0   1   \n",
       "3  06037101220  3340         20   14   2   0  0   0    0     0  ...    0   0   \n",
       "4  06037101300  4285         35   17   1   0  0   1    0     0  ...    0   0   \n",
       "\n",
       "   tot_parcels  num_suffix  p_renter  p_zero_veh  p_transit  p_nonwhite  \\\n",
       "0        11640       11690  0.521214    0.000000   0.053970    0.231803   \n",
       "1         9212        9235  0.178417    0.006817   0.009963    0.124112   \n",
       "2        18828       18976  0.876399    0.089531   0.135740    0.211666   \n",
       "3         9674        9717  0.603374    0.083278   0.083278    0.286817   \n",
       "4        23919       23995  0.083059    0.010289   0.088192    0.137771   \n",
       "\n",
       "   p_low_income_total  p_low_income_nonwhite  \n",
       "0            0.496241               0.459930  \n",
       "1            0.184713               0.186567  \n",
       "2            0.677725               0.560870  \n",
       "3            0.649923               0.485175  \n",
       "4            0.303833               0.144654  \n",
       "\n",
       "[5 rows x 179 columns]"
      ]
     },
     "execution_count": 7,
     "metadata": {},
     "output_type": "execute_result"
    }
   ],
   "source": [
    "df = pd.merge(df, census, on = 'GEOID', how = 'left', validate = '1:1')\n",
    "df.head()"
   ]
  },
  {
   "cell_type": "code",
   "execution_count": 8,
   "metadata": {},
   "outputs": [],
   "source": [
    "df.to_parquet(f's3://{bucket_name}/data/final/pcts_with_census.parquet')"
   ]
  },
  {
   "cell_type": "markdown",
   "metadata": {},
   "source": [
    "## Export a table to use in Tableau"
   ]
  },
  {
   "cell_type": "code",
   "execution_count": 9,
   "metadata": {},
   "outputs": [],
   "source": [
    "df = pd.read_parquet(f's3://{bucket_name}/data/final/pcts_with_census.parquet')\n",
    "tracts = catalog.census_tracts.read()"
   ]
  },
  {
   "cell_type": "code",
   "execution_count": 10,
   "metadata": {},
   "outputs": [],
   "source": [
    "df = pd.merge(df, tracts[['GEOID10', 'geometry']], \n",
    "              left_on = 'GEOID', right_on = 'GEOID10', how = 'inner', validate = 'm:1')"
   ]
  },
  {
   "cell_type": "code",
   "execution_count": 11,
   "metadata": {},
   "outputs": [
    {
     "name": "stderr",
     "output_type": "stream",
     "text": [
      "/opt/conda/lib/python3.7/site-packages/pyproj/crs/crs.py:53: FutureWarning: '+init=<authority>:<code>' syntax is deprecated. '<authority>:<code>' is the preferred initialization method. When making the change, be mindful of axis order changes: https://pyproj4.github.io/pyproj/stable/gotchas.html#axis-order-changes-in-proj-6\n",
      "  return _prepare_from_string(\" \".join(pjargs))\n"
     ]
    }
   ],
   "source": [
    "df = gpd.GeoDataFrame(df)\n",
    "df.crs = {'init':'epsg:2229'}"
   ]
  },
  {
   "cell_type": "code",
   "execution_count": 12,
   "metadata": {},
   "outputs": [],
   "source": [
    "# Add quick summary stats\n",
    "df = df.assign(\n",
    "   cases_per_parcel = df.num_cases / df.tot_parcels,\n",
    "   suffixes_per_parcel = df.num_suffix / df.tot_parcels,\n",
    ")"
   ]
  },
  {
   "cell_type": "code",
   "execution_count": 13,
   "metadata": {},
   "outputs": [
    {
     "name": "stderr",
     "output_type": "stream",
     "text": [
      "/opt/conda/lib/python3.7/site-packages/pyproj/crs/crs.py:53: FutureWarning: '+init=<authority>:<code>' syntax is deprecated. '<authority>:<code>' is the preferred initialization method. When making the change, be mindful of axis order changes: https://pyproj4.github.io/pyproj/stable/gotchas.html#axis-order-changes-in-proj-6\n",
      "  return _prepare_from_string(\" \".join(pjargs))\n"
     ]
    }
   ],
   "source": [
    "df.to_crs({'init':'epsg:4326'}).to_file(driver = 'ESRI Shapefile', filename = '../gis/final/test_tableau')"
   ]
  },
  {
   "cell_type": "code",
   "execution_count": null,
   "metadata": {},
   "outputs": [],
   "source": []
  }
 ],
 "metadata": {
  "kernelspec": {
   "display_name": "Python 3",
   "language": "python",
   "name": "python3"
  },
  "language_info": {
   "codemirror_mode": {
    "name": "ipython",
    "version": 3
   },
   "file_extension": ".py",
   "mimetype": "text/x-python",
   "name": "python",
   "nbconvert_exporter": "python",
   "pygments_lexer": "ipython3",
   "version": "3.7.6"
  }
 },
 "nbformat": 4,
 "nbformat_minor": 4
}
