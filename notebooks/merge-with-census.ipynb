{
 "cells": [
  {
   "cell_type": "markdown",
   "metadata": {},
   "source": [
    "## Make PCTS data tract level"
   ]
  },
  {
   "cell_type": "code",
   "execution_count": 1,
   "metadata": {},
   "outputs": [],
   "source": [
    "import intake\n",
    "import numpy as np\n",
    "import pandas as pd"
   ]
  },
  {
   "cell_type": "code",
   "execution_count": 2,
   "metadata": {},
   "outputs": [],
   "source": [
    "catalog = intake.open_catalog(\"../catalogs/*.yml\")\n",
    "\n",
    "bucket_name = 'city-planning-entitlements'"
   ]
  },
  {
   "cell_type": "markdown",
   "metadata": {},
   "source": [
    "## Import data"
   ]
  },
  {
   "cell_type": "code",
   "execution_count": 3,
   "metadata": {},
   "outputs": [],
   "source": [
    "pcts = pd.read_parquet(f's3://{bucket_name}/data/final/master_pcts.parquet')\n",
    "parents = pd.read_parquet(f's3://{bucket_name}/data/final/parents_with_suffix.parquet')\n",
    "\n",
    "crosswalk_parcels_tracts = pd.read_parquet(f's3://{bucket_name}/data/crosswalk_parcels_tracts.parquet')\n",
    "crosswalk_parcels_tracts = crosswalk_parcels_tracts[['AIN', 'GEOID', 'pop']]"
   ]
  },
  {
   "cell_type": "markdown",
   "metadata": {},
   "source": [
    "## Make PCTS tract-level\n",
    "* Aggregate and count the number of unique parent cases, number of parcels with ENT, and number of ENT with each suffix by tract"
   ]
  },
  {
   "cell_type": "code",
   "execution_count": 4,
   "metadata": {},
   "outputs": [],
   "source": [
    "def make_tract_level():\n",
    "    # (1a) Only keep parent cases\n",
    "    m1 = pd.merge(pcts, parents, on = 'PARENT_CASE', how = 'inner', validate = 'm:1')\n",
    "\n",
    "    # (1b) Make cases parcel-level\n",
    "    parents_by_parcel = (m1.groupby(['AIN'])\n",
    "                         .agg({'PARENT_CASE':'count'})\n",
    "                         .reset_index()\n",
    "                         .rename(columns = {'PARENT_CASE':'num_cases'})\n",
    "                        )\n",
    "\n",
    "    # (1c) Merge in tract info and aggregate to tract-level\n",
    "    m2 = pd.merge(parents_by_parcel, crosswalk_parcels_tracts, on = 'AIN', how = 'inner', validate = '1:1')\n",
    "\n",
    "    # Even though the column num_AIN shows there are some parcels with more than 1 obs,\n",
    "    # once we merged in parent cases, no AIN shows up more than once\n",
    "\n",
    "    ent_by_tract = m2.groupby(['GEOID', 'pop']).agg({'num_cases':'sum', 'AIN':'count'}).reset_index()\n",
    "    \n",
    "    \n",
    "    # (2a) Only keep suffixes\n",
    "    suffix = m1.loc[:, '1A':'ZV']\n",
    "    \n",
    "    m3 = pd.merge(m1[['AIN']], suffix, left_index = True, right_index = True)\n",
    "\n",
    "    # (2b) Make suffixes parcel-level\n",
    "    suffix_by_parcel = (m3.pivot_table(index = 'AIN', aggfunc = 'sum')\n",
    "                        .reset_index()\n",
    "                       )\n",
    "\n",
    "    # (2c) Merge in tract info and aggregate to tract-level\n",
    "    m4 = pd.merge(suffix_by_parcel, crosswalk_parcels_tracts, \n",
    "                                 on = 'AIN', how = 'left', validate = '1:1')\n",
    "\n",
    "    # Aggregate the number of suffixes by tract\n",
    "    suffix_by_tract = m4.pivot_table(index = ['GEOID', 'pop'], aggfunc = 'sum').reset_index()\n",
    "    \n",
    "    \n",
    "    # (3) Merge number of cases and suffixes by tract\n",
    "    df = pd.merge(ent_by_tract, suffix_by_tract, on = ['GEOID', 'pop'], how = 'left', validate = '1:1')\n",
    "        \n",
    "    # (4) Make sure everything returns as integers and not floats\n",
    "    colnames = list(df.columns)\n",
    "\n",
    "    for r in ['GEOID', 'pop', 'AIN']:\n",
    "        colnames.remove(r)\n",
    "    \n",
    "    df[colnames] = df[colnames].fillna(0).astype(int)    \n",
    "        \n",
    "    return df"
   ]
  },
  {
   "cell_type": "code",
   "execution_count": 5,
   "metadata": {},
   "outputs": [],
   "source": [
    "df = make_tract_level()"
   ]
  },
  {
   "cell_type": "markdown",
   "metadata": {},
   "source": [
    "## Merge with census data"
   ]
  },
  {
   "cell_type": "code",
   "execution_count": 7,
   "metadata": {},
   "outputs": [],
   "source": [
    "# With a census table that only has numeric values, this is most straightforward to convert from long to wide\n",
    "def grab_census_table(table_name, year):\n",
    "    df = pd.read_parquet(f's3://{bucket_name}/data/final/census_cleaned.parquet')\n",
    "    cols = ['GEOID', 'new_var', 'num']\n",
    "    df = df[(df.year == year) & (df.table==table_name)][cols]\n",
    "    return df\n",
    "\n",
    "\n",
    "def make_wide(df, numerator_var, denominator_var, numerator_renamed, denominator_renamed): \n",
    "    numerator_renamed = f'{numerator_renamed}'\n",
    "    denominator_renamed = f'{denominator_renamed}'\n",
    "    \n",
    "    df = (df.assign(\n",
    "        numerator = df.apply(lambda row: row.num if row.new_var==numerator_var \n",
    "                                     else np.nan, axis=1),\n",
    "        denominator = df.apply(lambda row: row.num if row.new_var==denominator_var \n",
    "                                       else np.nan, axis=1),\n",
    "        )\n",
    "    )\n",
    "    \n",
    "    \n",
    "    df = (df.assign(\n",
    "        numerator = df.numerator.fillna(df.groupby('GEOID')['numerator'].transform('max')).astype(int),\n",
    "        denominator = df.denominator.fillna(df.groupby('GEOID')['denominator'].transform('max')).astype(int),\n",
    "        ).rename(columns = {'numerator': numerator_renamed, \n",
    "                           'denominator': denominator_renamed})   \n",
    "    )\n",
    "    \n",
    "    keep_col = ['GEOID', numerator_renamed, denominator_renamed]\n",
    "    df = (df[keep_col].drop_duplicates()\n",
    "          .sort_values('GEOID')\n",
    "          .reset_index(drop=True)\n",
    "         )\n",
    "    \n",
    "    return df"
   ]
  },
  {
   "cell_type": "code",
   "execution_count": 8,
   "metadata": {},
   "outputs": [
    {
     "data": {
      "text/html": [
       "<div>\n",
       "<style scoped>\n",
       "    .dataframe tbody tr th:only-of-type {\n",
       "        vertical-align: middle;\n",
       "    }\n",
       "\n",
       "    .dataframe tbody tr th {\n",
       "        vertical-align: top;\n",
       "    }\n",
       "\n",
       "    .dataframe thead th {\n",
       "        text-align: right;\n",
       "    }\n",
       "</style>\n",
       "<table border=\"1\" class=\"dataframe\">\n",
       "  <thead>\n",
       "    <tr style=\"text-align: right;\">\n",
       "      <th></th>\n",
       "      <th>GEOID</th>\n",
       "      <th>renter</th>\n",
       "      <th>hh</th>\n",
       "    </tr>\n",
       "  </thead>\n",
       "  <tbody>\n",
       "    <tr>\n",
       "      <th>0</th>\n",
       "      <td>06037101110</td>\n",
       "      <td>2199</td>\n",
       "      <td>4219</td>\n",
       "    </tr>\n",
       "    <tr>\n",
       "      <th>1</th>\n",
       "      <td>06037101122</td>\n",
       "      <td>577</td>\n",
       "      <td>3234</td>\n",
       "    </tr>\n",
       "    <tr>\n",
       "      <th>2</th>\n",
       "      <td>06037101210</td>\n",
       "      <td>5247</td>\n",
       "      <td>5987</td>\n",
       "    </tr>\n",
       "    <tr>\n",
       "      <th>3</th>\n",
       "      <td>06037101220</td>\n",
       "      <td>2110</td>\n",
       "      <td>3497</td>\n",
       "    </tr>\n",
       "    <tr>\n",
       "      <th>4</th>\n",
       "      <td>06037101300</td>\n",
       "      <td>353</td>\n",
       "      <td>4250</td>\n",
       "    </tr>\n",
       "  </tbody>\n",
       "</table>\n",
       "</div>"
      ],
      "text/plain": [
       "         GEOID  renter    hh\n",
       "0  06037101110    2199  4219\n",
       "1  06037101122     577  3234\n",
       "2  06037101210    5247  5987\n",
       "3  06037101220    2110  3497\n",
       "4  06037101300     353  4250"
      ]
     },
     "execution_count": 8,
     "metadata": {},
     "output_type": "execute_result"
    }
   ],
   "source": [
    "tenure = grab_census_table('tenure', 2018)\n",
    "\n",
    "tenure2 = make_wide(tenure, 'pop_renter', 'pop_total', 'renter', 'hh')\n",
    "tenure2.head()"
   ]
  },
  {
   "cell_type": "code",
   "execution_count": null,
   "metadata": {},
   "outputs": [],
   "source": []
  }
 ],
 "metadata": {
  "kernelspec": {
   "display_name": "Python 3",
   "language": "python",
   "name": "python3"
  },
  "language_info": {
   "codemirror_mode": {
    "name": "ipython",
    "version": 3
   },
   "file_extension": ".py",
   "mimetype": "text/x-python",
   "name": "python",
   "nbconvert_exporter": "python",
   "pygments_lexer": "ipython3",
   "version": "3.7.6"
  }
 },
 "nbformat": 4,
 "nbformat_minor": 4
}
