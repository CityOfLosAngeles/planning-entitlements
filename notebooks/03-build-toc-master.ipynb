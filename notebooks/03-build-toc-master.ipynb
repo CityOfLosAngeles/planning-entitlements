{
 "cells": [
  {
   "cell_type": "markdown",
   "metadata": {},
   "source": [
    "# Entitlements in TOC-eligible parcels"
   ]
  },
  {
   "cell_type": "code",
   "execution_count": 1,
   "metadata": {},
   "outputs": [],
   "source": [
    "import numpy as np\n",
    "import pandas as pd\n",
    "import geopandas as gpd\n",
    "import intake\n",
    "import boto3\n",
    "import utils"
   ]
  },
  {
   "cell_type": "code",
   "execution_count": 2,
   "metadata": {},
   "outputs": [],
   "source": [
    "catalog = intake.open_catalog(\"../catalogs/*.yml\")\n",
    "\n",
    "s3 = boto3.client('s3')\n",
    "bucket_name = 'city-planning-entitlements'"
   ]
  },
  {
   "cell_type": "markdown",
   "metadata": {},
   "source": [
    "## Parcels\n",
    "* Figure out how many are duplicates\n",
    "* Won't know which AINs are used in PCTS, so keep all of them, but have a way to identify how many obs to drop later on"
   ]
  },
  {
   "cell_type": "code",
   "execution_count": 3,
   "metadata": {},
   "outputs": [
    {
     "data": {
      "text/plain": [
       "0    442562\n",
       "1    148994\n",
       "3    110153\n",
       "2     65653\n",
       "4      7844\n",
       "Name: TOC_Tier, dtype: int64"
      ]
     },
     "metadata": {},
     "output_type": "display_data"
    }
   ],
   "source": [
    "parcels = gpd.read_file(f'zip+s3://{bucket_name}/gis/intermediate/la_parcels_toc.zip')\n",
    "\n",
    "display(parcels.TOC_Tier.value_counts())\n",
    "parcels = parcels[parcels.TOC_Tier > 0]"
   ]
  },
  {
   "cell_type": "code",
   "execution_count": 4,
   "metadata": {},
   "outputs": [],
   "source": [
    "# Upload just the parcels in TOC Tiers into S3\n",
    "parcels.to_file(driver = 'GeoJSON', filename = '../gis/intermediate/toc_eligible_parcels.geojson')\n",
    "\n",
    "s3.upload_file('../gis/intermediate/toc_eligible_parcels.geojson', f'{bucket_name}', 'gis/intermediate/toc_eligible_parcels.geojson')"
   ]
  },
  {
   "cell_type": "code",
   "execution_count": 5,
   "metadata": {},
   "outputs": [],
   "source": [
    "# Grab the centroids and count number of duplicate obs\n",
    "parcels2 = utils.get_centroid(parcels)"
   ]
  },
  {
   "cell_type": "markdown",
   "metadata": {},
   "source": [
    "## Grab tables from PCTS"
   ]
  },
  {
   "cell_type": "code",
   "execution_count": 6,
   "metadata": {},
   "outputs": [],
   "source": [
    "cases = catalog.pcts.tCASE.read()\n",
    "app = catalog.pcts.tAPLC.read()\n",
    "geo_info = catalog.pcts.tPROP_GEO_INFO.read()\n",
    "la_prop = catalog.pcts.tLA_PROP.read()"
   ]
  },
  {
   "cell_type": "code",
   "execution_count": 7,
   "metadata": {},
   "outputs": [],
   "source": [
    "cases1 = cases[['CASE_ID', 'APLC_ID', 'CASE_NBR', 'CASE_SEQ_NBR', 'CASE_YR_NBR', 'CASE_ACTION_ID', 'ADM_ACTION_DT']]\n",
    "app1 = app[['APLC_ID', 'PROJ_DESC_TXT']]\n",
    "geo_info1 = geo_info[['CASE_ID', 'PROP_ID']]\n",
    "la_prop1 = la_prop[la_prop.ASSR_PRCL_NBR.notna()][['PROP_ID', 'ASSR_PRCL_NBR']]"
   ]
  },
  {
   "cell_type": "markdown",
   "metadata": {},
   "source": [
    "### Subset cases, keep 2016 and after"
   ]
  },
  {
   "cell_type": "code",
   "execution_count": 8,
   "metadata": {},
   "outputs": [],
   "source": [
    "cases2 = cases1[cases1.CASE_YR_NBR >= 2016]"
   ]
  },
  {
   "cell_type": "markdown",
   "metadata": {},
   "source": [
    "## Parent cases only"
   ]
  },
  {
   "cell_type": "code",
   "execution_count": 9,
   "metadata": {},
   "outputs": [],
   "source": [
    "parents = pd.read_parquet('../data/parent_cases.parquet')\n",
    "\n",
    "cases3 = pd.merge(cases2, parents, on = 'CASE_ID', how = 'inner', validate = '1:1')"
   ]
  },
  {
   "cell_type": "markdown",
   "metadata": {},
   "source": [
    "## Merge with geo_info, la_prop, parcels to ID the parcels that and have entitlements (2016 - after)"
   ]
  },
  {
   "cell_type": "code",
   "execution_count": 10,
   "metadata": {},
   "outputs": [],
   "source": [
    "m1 = pd.merge(cases3, geo_info1, on = 'CASE_ID', how = 'inner', validate = '1:m')"
   ]
  },
  {
   "cell_type": "code",
   "execution_count": 11,
   "metadata": {},
   "outputs": [],
   "source": [
    "m2 = pd.merge(m1, la_prop1, on = 'PROP_ID', how = 'inner', validate = 'm:1')"
   ]
  },
  {
   "cell_type": "code",
   "execution_count": 12,
   "metadata": {},
   "outputs": [],
   "source": [
    "m3 = pd.merge(m2, parcels, left_on = 'ASSR_PRCL_NBR', right_on = 'AIN', how = 'inner', validate = 'm:1')"
   ]
  },
  {
   "cell_type": "markdown",
   "metadata": {},
   "source": [
    "## Join parcels to zoning and subset to eligible zones\n",
    "* Subset by eligible zones, see how many TOC-eligible parcels also fall into eligible zones"
   ]
  },
  {
   "cell_type": "code",
   "execution_count": 13,
   "metadata": {},
   "outputs": [],
   "source": [
    "zoning = gpd.read_file(f's3://{bucket_name}/gis/raw/parsed_zoning.geojson')"
   ]
  },
  {
   "cell_type": "code",
   "execution_count": 14,
   "metadata": {},
   "outputs": [],
   "source": [
    "eligible_zones = ['R2', 'R3', 'RAS3', 'R4', 'RAS4', 'R5', \n",
    "                  'RD1.5', 'RD2', 'RD3', 'RD4', 'RD5', 'RD6', \n",
    "                  'C1', 'C2', 'C4', 'C5']\n",
    "\n",
    "eligible_zoning = zoning[zoning.zone_class.isin(eligible_zones)]"
   ]
  },
  {
   "cell_type": "code",
   "execution_count": 15,
   "metadata": {},
   "outputs": [],
   "source": [
    "parcels_with_zoning = gpd.sjoin(parcels2, eligible_zoning, how = 'inner', op = 'intersects').drop(columns = ['index_right'])"
   ]
  },
  {
   "cell_type": "code",
   "execution_count": 16,
   "metadata": {},
   "outputs": [],
   "source": [
    "# Merge in zoning and TOC info about the parcel\n",
    "m4 = pd.merge(m3, parcels_with_zoning, on = ['AIN', 'centroid', 'TOC_Tier'], how = 'inner')"
   ]
  },
  {
   "cell_type": "code",
   "execution_count": 17,
   "metadata": {},
   "outputs": [],
   "source": [
    "# Merge in project description\n",
    "m5 = pd.merge(m4, app1, on = 'APLC_ID', how = 'inner', validate = 'm:1')\n",
    "\n",
    "# Drop duplicates\n",
    "m5 = m5.drop_duplicates()"
   ]
  },
  {
   "cell_type": "markdown",
   "metadata": {},
   "source": [
    "## Parse the PCTS string and grab prefix\n",
    "* Drop duplicates\n",
    "* Drop ENV, ADM, PAR cases\n",
    "* Subset by CASE_ACTION_ID"
   ]
  },
  {
   "cell_type": "code",
   "execution_count": 18,
   "metadata": {},
   "outputs": [],
   "source": [
    "parsed_col_names = ['prefix']\n",
    "\n",
    "def parse_pcts(row):\n",
    "    try:\n",
    "        z = utils.PCTSCaseNumber(row.CASE_NBR)\n",
    "        return pd.Series([z.prefix], index = parsed_col_names)\n",
    "    except ValueError:\n",
    "        return pd.Series([z.prefix], index = parsed_col_names)\n",
    "\n",
    "parsed = m5.apply(parse_pcts, axis = 1)\n",
    "\n",
    "m6 = pd.concat([m5, parsed], axis = 1)"
   ]
  },
  {
   "cell_type": "code",
   "execution_count": 19,
   "metadata": {},
   "outputs": [],
   "source": [
    "# Drop duplicates\n",
    "drop = ['centroid', 'x', 'y', 'obs', 'num_obs', \n",
    "        'CASE_ID', 'APLC_ID', 'ASSR_PRCL_NBR', 'PROP_ID', \n",
    "        'o1', 'o2', 'o3', 'o1_descrip', 'o2_descrip', 'o3_descrip']\n",
    "\n",
    "m6 = m6.drop(columns = drop)\n",
    "\n",
    "# Create new id variable that is just seq number and year. Need a way to get rid of duplicate cases.\n",
    "m6['id'] = m6.CASE_SEQ_NBR.astype(int).astype(str) + '_' + m6.CASE_YR_NBR.astype(int).astype(str)"
   ]
  },
  {
   "cell_type": "code",
   "execution_count": 20,
   "metadata": {},
   "outputs": [],
   "source": [
    "cols_we_need = ['id', 'CASE_ACTION_ID', 'ADM_ACTION_DT', 'AIN', 'TOC_Tier', 'ZONE_CMPLT', 'PROJ_DESC_TXT']\n",
    "\n",
    "m7 = m6.drop_duplicates(subset = cols_we_need)"
   ]
  },
  {
   "cell_type": "code",
   "execution_count": 21,
   "metadata": {},
   "outputs": [],
   "source": [
    "# Subset by prefix\n",
    "drop_prefix = ['ENV', 'ADM', 'PAR']\n",
    "\n",
    "m7 = m7.loc[~m6.prefix.isin(drop_prefix)]"
   ]
  },
  {
   "cell_type": "code",
   "execution_count": 22,
   "metadata": {},
   "outputs": [
    {
     "data": {
      "text/plain": [
       "2.0     2506\n",
       "1.0      895\n",
       "4.0      146\n",
       "6.0      110\n",
       "3.0       52\n",
       "11.0      18\n",
       "7.0        3\n",
       "9.0        2\n",
       "5.0        1\n",
       "8.0        1\n",
       "10.0       1\n",
       "Name: CASE_ACTION_ID, dtype: int64"
      ]
     },
     "metadata": {},
     "output_type": "display_data"
    }
   ],
   "source": [
    "# Subset by CASE_ACTION_ID\n",
    "display(m7.CASE_ACTION_ID.value_counts())\n",
    "\n",
    "approved_cases = [1, 2, 11]\n",
    "\n",
    "m8 = m7.loc[m7.CASE_ACTION_ID.isin(approved_cases)]"
   ]
  },
  {
   "cell_type": "markdown",
   "metadata": {},
   "source": [
    "#### At this point, no more duplicates by PARENT_CASE-AIN"
   ]
  },
  {
   "cell_type": "markdown",
   "metadata": {},
   "source": [
    "## Additional subsetting for TOC-eligible parcels"
   ]
  },
  {
   "cell_type": "code",
   "execution_count": 23,
   "metadata": {},
   "outputs": [
    {
     "name": "stderr",
     "output_type": "stream",
     "text": [
      "/opt/conda/lib/python3.7/site-packages/ipykernel_launcher.py:2: SettingWithCopyWarning: \n",
      "A value is trying to be set on a copy of a slice from a DataFrame.\n",
      "Try using .loc[row_indexer,col_indexer] = value instead\n",
      "\n",
      "See the caveats in the documentation: http://pandas.pydata.org/pandas-docs/stable/user_guide/indexing.html#returning-a-view-versus-a-copy\n",
      "  \n"
     ]
    }
   ],
   "source": [
    "# Tag case as TOC or not\n",
    "m8['is_TOC'] = m8.CASE_NBR.str.contains('TOC').astype(int)"
   ]
  },
  {
   "cell_type": "code",
   "execution_count": 24,
   "metadata": {},
   "outputs": [],
   "source": [
    "keep_col = ['CASE_NBR', 'id', 'CASE_ACTION_ID', 'ADM_ACTION_DT', 'AIN', 'TOC_Tier', 'zone_class', 'is_TOC']\n",
    "\n",
    "m9 = m8[keep_col]"
   ]
  },
  {
   "cell_type": "markdown",
   "metadata": {},
   "source": [
    "## Make into parcel level df"
   ]
  },
  {
   "cell_type": "code",
   "execution_count": 25,
   "metadata": {},
   "outputs": [],
   "source": [
    "m10 = m9.groupby(['AIN', 'TOC_Tier', 'zone_class', 'is_TOC']).agg({'id':'count'}).reset_index()"
   ]
  },
  {
   "cell_type": "code",
   "execution_count": 26,
   "metadata": {},
   "outputs": [],
   "source": [
    "# Make wide\n",
    "m10['num_TOC'] = m10.apply(lambda row: row.id if row.is_TOC == 1 else np.nan, axis = 1) \n",
    "m10['num_nonTOC'] = m10.apply(lambda row: row.id if row.is_TOC == 0 else np.nan, axis = 1)"
   ]
  },
  {
   "cell_type": "code",
   "execution_count": 27,
   "metadata": {},
   "outputs": [],
   "source": [
    "# If there are multiple obs for the same AIN, fill the NaNs with the max from the other column, so we can just drop duplicates after\n",
    "for col in ['num_TOC', 'num_nonTOC']:\n",
    "    m10[col] = m10[col].fillna(m10.groupby('AIN')[col].transform('max'))"
   ]
  },
  {
   "cell_type": "code",
   "execution_count": 28,
   "metadata": {},
   "outputs": [
    {
     "name": "stderr",
     "output_type": "stream",
     "text": [
      "/opt/conda/lib/python3.7/site-packages/ipykernel_launcher.py:4: SettingWithCopyWarning: \n",
      "A value is trying to be set on a copy of a slice from a DataFrame.\n",
      "Try using .loc[row_indexer,col_indexer] = value instead\n",
      "\n",
      "See the caveats in the documentation: http://pandas.pydata.org/pandas-docs/stable/user_guide/indexing.html#returning-a-view-versus-a-copy\n",
      "  after removing the cwd from sys.path.\n"
     ]
    }
   ],
   "source": [
    "m11 = m10.drop_duplicates(subset = ['AIN', 'TOC_Tier', 'zone_class', 'num_TOC', 'num_nonTOC'])\n",
    "\n",
    "for col in ['num_TOC', 'num_nonTOC']:\n",
    "    m11[col] = m11[col].fillna(0).astype(int)\n",
    "\n",
    "m11 = m11.drop(columns = ['is_TOC', 'id'])"
   ]
  },
  {
   "cell_type": "code",
   "execution_count": 29,
   "metadata": {},
   "outputs": [
    {
     "name": "stdout",
     "output_type": "stream",
     "text": [
      "# parcels: 2796\n",
      "# parcels with TOC entitlements: 228\n",
      "# parcels with non TOC entitlements: 2604\n",
      "# parcels with both TOC and non TOC entitlements: 36\n",
      "double check sum: 2796\n"
     ]
    }
   ],
   "source": [
    "toc_parcels = m11[m11.num_TOC > 0]\n",
    "non_toc_parcels = m11[m11.num_nonTOC > 0]\n",
    "have_both_parcels = m11[(m11.num_TOC > 0) & (m11.num_nonTOC > 0)]\n",
    "\n",
    "print(f'# parcels: {len(m11)}')\n",
    "print(f'# parcels with TOC entitlements: {len(toc_parcels)}')\n",
    "print(f'# parcels with non TOC entitlements: {len(non_toc_parcels)}')\n",
    "print(f'# parcels with both TOC and non TOC entitlements: {len(have_both_parcels)}')\n",
    "print(f'double check sum: {len(toc_parcels) + len(non_toc_parcels) - len(have_both_parcels)}')"
   ]
  },
  {
   "cell_type": "code",
   "execution_count": 30,
   "metadata": {},
   "outputs": [
    {
     "name": "stdout",
     "output_type": "stream",
     "text": [
      "% parcels with TOC entitlements: 0.0815450643776824\n",
      "% parcels with non TOC entitlements: 0.9313304721030042\n",
      "% parcels with both entitlements: 0.012875536480686695\n"
     ]
    }
   ],
   "source": [
    "print(f'% parcels with TOC entitlements: {len(toc_parcels) / len(m11)}')\n",
    "print(f'% parcels with non TOC entitlements: {len(non_toc_parcels) / len(m11)}')\n",
    "print(f'% parcels with both entitlements: {len(have_both_parcels) / len(m11)}')"
   ]
  },
  {
   "cell_type": "code",
   "execution_count": 31,
   "metadata": {},
   "outputs": [
    {
     "data": {
      "text/plain": [
       "3    1407\n",
       "1     669\n",
       "2     525\n",
       "4     195\n",
       "Name: TOC_Tier, dtype: int64"
      ]
     },
     "execution_count": 31,
     "metadata": {},
     "output_type": "execute_result"
    }
   ],
   "source": [
    "m11.TOC_Tier.value_counts()"
   ]
  },
  {
   "cell_type": "code",
   "execution_count": 32,
   "metadata": {},
   "outputs": [
    {
     "data": {
      "text/plain": [
       "C2       87\n",
       "R3       67\n",
       "R4       50\n",
       "C4       13\n",
       "RD1.5     6\n",
       "RAS4      2\n",
       "R2        1\n",
       "R5        1\n",
       "RD2       1\n",
       "Name: zone_class, dtype: int64"
      ]
     },
     "execution_count": 32,
     "metadata": {},
     "output_type": "execute_result"
    }
   ],
   "source": [
    "toc_parcels.zone_class.value_counts()"
   ]
  },
  {
   "cell_type": "code",
   "execution_count": 33,
   "metadata": {},
   "outputs": [
    {
     "data": {
      "text/plain": [
       "C2       862\n",
       "R2       439\n",
       "C4       308\n",
       "RD1.5    273\n",
       "R3       259\n",
       "RD2      189\n",
       "R4       105\n",
       "R5        40\n",
       "C5        39\n",
       "RD3       32\n",
       "C1        28\n",
       "RAS4      21\n",
       "RD5        7\n",
       "RD4        1\n",
       "RAS3       1\n",
       "Name: zone_class, dtype: int64"
      ]
     },
     "execution_count": 33,
     "metadata": {},
     "output_type": "execute_result"
    }
   ],
   "source": [
    "non_toc_parcels.zone_class.value_counts()"
   ]
  },
  {
   "cell_type": "code",
   "execution_count": 34,
   "metadata": {},
   "outputs": [],
   "source": [
    "m12 = pd.merge(m11, parcels2, on = ['AIN', 'TOC_Tier'], how = 'inner').drop(columns = ['x', 'y', 'obs', 'num_obs'])"
   ]
  },
  {
   "cell_type": "code",
   "execution_count": 35,
   "metadata": {},
   "outputs": [],
   "source": [
    "m12.rename(columns = {'centroid':'geometry'}, inplace = True)\n",
    "m12 = gpd.GeoDataFrame(m12)\n",
    "m12.crs = {'init':'epsg:2229'}"
   ]
  },
  {
   "cell_type": "code",
   "execution_count": 36,
   "metadata": {},
   "outputs": [],
   "source": [
    "m12.to_file(driver = 'GeoJSON', filename = '../gis/intermediate/toc_eligible_parcels_with_entitlements.geojson')\n",
    "\n",
    "s3.upload_file('../gis/intermediate/toc_eligible_parcels_with_entitlements.geojson', f'{bucket_name}', 'gis/intermediate/toc_eligible_parcels_with_entitlements.geojson')"
   ]
  },
  {
   "cell_type": "markdown",
   "metadata": {},
   "source": [
    "## Breakdown by TOC Tiers"
   ]
  },
  {
   "cell_type": "code",
   "execution_count": 37,
   "metadata": {},
   "outputs": [
    {
     "data": {
      "text/html": [
       "<div>\n",
       "<style scoped>\n",
       "    .dataframe tbody tr th:only-of-type {\n",
       "        vertical-align: middle;\n",
       "    }\n",
       "\n",
       "    .dataframe tbody tr th {\n",
       "        vertical-align: top;\n",
       "    }\n",
       "\n",
       "    .dataframe thead th {\n",
       "        text-align: right;\n",
       "    }\n",
       "</style>\n",
       "<table border=\"1\" class=\"dataframe\">\n",
       "  <thead>\n",
       "    <tr style=\"text-align: right;\">\n",
       "      <th></th>\n",
       "      <th>TOC_Tier</th>\n",
       "      <th>AIN</th>\n",
       "      <th>num_TOC</th>\n",
       "      <th>num_nonTOC</th>\n",
       "      <th>pct_TOC</th>\n",
       "      <th>pct_nonTOC</th>\n",
       "      <th>all_AIN</th>\n",
       "      <th>pct_AIN</th>\n",
       "    </tr>\n",
       "  </thead>\n",
       "  <tbody>\n",
       "    <tr>\n",
       "      <th>0</th>\n",
       "      <td>1</td>\n",
       "      <td>669</td>\n",
       "      <td>30</td>\n",
       "      <td>781</td>\n",
       "      <td>0.036991</td>\n",
       "      <td>0.963009</td>\n",
       "      <td>2796</td>\n",
       "      <td>0.239270</td>\n",
       "    </tr>\n",
       "    <tr>\n",
       "      <th>1</th>\n",
       "      <td>2</td>\n",
       "      <td>525</td>\n",
       "      <td>51</td>\n",
       "      <td>554</td>\n",
       "      <td>0.084298</td>\n",
       "      <td>0.915702</td>\n",
       "      <td>2796</td>\n",
       "      <td>0.187768</td>\n",
       "    </tr>\n",
       "    <tr>\n",
       "      <th>2</th>\n",
       "      <td>3</td>\n",
       "      <td>1407</td>\n",
       "      <td>137</td>\n",
       "      <td>1553</td>\n",
       "      <td>0.081065</td>\n",
       "      <td>0.918935</td>\n",
       "      <td>2796</td>\n",
       "      <td>0.503219</td>\n",
       "    </tr>\n",
       "    <tr>\n",
       "      <th>3</th>\n",
       "      <td>4</td>\n",
       "      <td>195</td>\n",
       "      <td>11</td>\n",
       "      <td>302</td>\n",
       "      <td>0.035144</td>\n",
       "      <td>0.964856</td>\n",
       "      <td>2796</td>\n",
       "      <td>0.069742</td>\n",
       "    </tr>\n",
       "  </tbody>\n",
       "</table>\n",
       "</div>"
      ],
      "text/plain": [
       "   TOC_Tier   AIN  num_TOC  num_nonTOC   pct_TOC  pct_nonTOC  all_AIN  \\\n",
       "0         1   669       30         781  0.036991    0.963009     2796   \n",
       "1         2   525       51         554  0.084298    0.915702     2796   \n",
       "2         3  1407      137        1553  0.081065    0.918935     2796   \n",
       "3         4   195       11         302  0.035144    0.964856     2796   \n",
       "\n",
       "    pct_AIN  \n",
       "0  0.239270  \n",
       "1  0.187768  \n",
       "2  0.503219  \n",
       "3  0.069742  "
      ]
     },
     "execution_count": 37,
     "metadata": {},
     "output_type": "execute_result"
    }
   ],
   "source": [
    "m13 = m12.groupby('TOC_Tier').agg({'AIN':'count', 'num_TOC':'sum', 'num_nonTOC':'sum'}).reset_index()\n",
    "\n",
    "for i in ['TOC', 'nonTOC']:\n",
    "    new_col = f'pct_{i}'\n",
    "    numerator = f'num_{i}'\n",
    "    m13[new_col] = m13[numerator] / (m13.num_TOC + m13.num_nonTOC)\n",
    "    \n",
    "m13['all_AIN'] = m13.AIN.sum()\n",
    "m13['pct_AIN'] = m13.AIN / m13.all_AIN\n",
    "\n",
    "m13"
   ]
  },
  {
   "cell_type": "markdown",
   "metadata": {},
   "source": [
    "## Breakdown by Zone Class"
   ]
  },
  {
   "cell_type": "code",
   "execution_count": 38,
   "metadata": {},
   "outputs": [
    {
     "data": {
      "text/html": [
       "<div>\n",
       "<style scoped>\n",
       "    .dataframe tbody tr th:only-of-type {\n",
       "        vertical-align: middle;\n",
       "    }\n",
       "\n",
       "    .dataframe tbody tr th {\n",
       "        vertical-align: top;\n",
       "    }\n",
       "\n",
       "    .dataframe thead th {\n",
       "        text-align: right;\n",
       "    }\n",
       "</style>\n",
       "<table border=\"1\" class=\"dataframe\">\n",
       "  <thead>\n",
       "    <tr style=\"text-align: right;\">\n",
       "      <th></th>\n",
       "      <th>zone_class</th>\n",
       "      <th>AIN</th>\n",
       "      <th>num_TOC</th>\n",
       "      <th>num_nonTOC</th>\n",
       "      <th>pct_TOC</th>\n",
       "      <th>pct_nonTOC</th>\n",
       "      <th>all_AIN</th>\n",
       "      <th>pct_AIN</th>\n",
       "    </tr>\n",
       "  </thead>\n",
       "  <tbody>\n",
       "    <tr>\n",
       "      <th>0</th>\n",
       "      <td>C1</td>\n",
       "      <td>28</td>\n",
       "      <td>0</td>\n",
       "      <td>31</td>\n",
       "      <td>0.000000</td>\n",
       "      <td>1.000000</td>\n",
       "      <td>2796</td>\n",
       "      <td>0.010014</td>\n",
       "    </tr>\n",
       "    <tr>\n",
       "      <th>1</th>\n",
       "      <td>C2</td>\n",
       "      <td>930</td>\n",
       "      <td>88</td>\n",
       "      <td>1142</td>\n",
       "      <td>0.071545</td>\n",
       "      <td>0.928455</td>\n",
       "      <td>2796</td>\n",
       "      <td>0.332618</td>\n",
       "    </tr>\n",
       "    <tr>\n",
       "      <th>2</th>\n",
       "      <td>C4</td>\n",
       "      <td>316</td>\n",
       "      <td>13</td>\n",
       "      <td>421</td>\n",
       "      <td>0.029954</td>\n",
       "      <td>0.970046</td>\n",
       "      <td>2796</td>\n",
       "      <td>0.113019</td>\n",
       "    </tr>\n",
       "    <tr>\n",
       "      <th>3</th>\n",
       "      <td>C5</td>\n",
       "      <td>39</td>\n",
       "      <td>0</td>\n",
       "      <td>49</td>\n",
       "      <td>0.000000</td>\n",
       "      <td>1.000000</td>\n",
       "      <td>2796</td>\n",
       "      <td>0.013948</td>\n",
       "    </tr>\n",
       "    <tr>\n",
       "      <th>4</th>\n",
       "      <td>R2</td>\n",
       "      <td>439</td>\n",
       "      <td>1</td>\n",
       "      <td>485</td>\n",
       "      <td>0.002058</td>\n",
       "      <td>0.997942</td>\n",
       "      <td>2796</td>\n",
       "      <td>0.157010</td>\n",
       "    </tr>\n",
       "    <tr>\n",
       "      <th>5</th>\n",
       "      <td>R3</td>\n",
       "      <td>324</td>\n",
       "      <td>67</td>\n",
       "      <td>277</td>\n",
       "      <td>0.194767</td>\n",
       "      <td>0.805233</td>\n",
       "      <td>2796</td>\n",
       "      <td>0.115880</td>\n",
       "    </tr>\n",
       "    <tr>\n",
       "      <th>6</th>\n",
       "      <td>R4</td>\n",
       "      <td>150</td>\n",
       "      <td>50</td>\n",
       "      <td>108</td>\n",
       "      <td>0.316456</td>\n",
       "      <td>0.683544</td>\n",
       "      <td>2796</td>\n",
       "      <td>0.053648</td>\n",
       "    </tr>\n",
       "    <tr>\n",
       "      <th>7</th>\n",
       "      <td>R5</td>\n",
       "      <td>41</td>\n",
       "      <td>1</td>\n",
       "      <td>54</td>\n",
       "      <td>0.018182</td>\n",
       "      <td>0.981818</td>\n",
       "      <td>2796</td>\n",
       "      <td>0.014664</td>\n",
       "    </tr>\n",
       "    <tr>\n",
       "      <th>8</th>\n",
       "      <td>RAS3</td>\n",
       "      <td>1</td>\n",
       "      <td>0</td>\n",
       "      <td>1</td>\n",
       "      <td>0.000000</td>\n",
       "      <td>1.000000</td>\n",
       "      <td>2796</td>\n",
       "      <td>0.000358</td>\n",
       "    </tr>\n",
       "    <tr>\n",
       "      <th>9</th>\n",
       "      <td>RAS4</td>\n",
       "      <td>21</td>\n",
       "      <td>2</td>\n",
       "      <td>23</td>\n",
       "      <td>0.080000</td>\n",
       "      <td>0.920000</td>\n",
       "      <td>2796</td>\n",
       "      <td>0.007511</td>\n",
       "    </tr>\n",
       "    <tr>\n",
       "      <th>10</th>\n",
       "      <td>RD1.5</td>\n",
       "      <td>278</td>\n",
       "      <td>6</td>\n",
       "      <td>327</td>\n",
       "      <td>0.018018</td>\n",
       "      <td>0.981982</td>\n",
       "      <td>2796</td>\n",
       "      <td>0.099428</td>\n",
       "    </tr>\n",
       "    <tr>\n",
       "      <th>11</th>\n",
       "      <td>RD2</td>\n",
       "      <td>189</td>\n",
       "      <td>1</td>\n",
       "      <td>219</td>\n",
       "      <td>0.004545</td>\n",
       "      <td>0.995455</td>\n",
       "      <td>2796</td>\n",
       "      <td>0.067597</td>\n",
       "    </tr>\n",
       "    <tr>\n",
       "      <th>12</th>\n",
       "      <td>RD3</td>\n",
       "      <td>32</td>\n",
       "      <td>0</td>\n",
       "      <td>42</td>\n",
       "      <td>0.000000</td>\n",
       "      <td>1.000000</td>\n",
       "      <td>2796</td>\n",
       "      <td>0.011445</td>\n",
       "    </tr>\n",
       "    <tr>\n",
       "      <th>13</th>\n",
       "      <td>RD4</td>\n",
       "      <td>1</td>\n",
       "      <td>0</td>\n",
       "      <td>1</td>\n",
       "      <td>0.000000</td>\n",
       "      <td>1.000000</td>\n",
       "      <td>2796</td>\n",
       "      <td>0.000358</td>\n",
       "    </tr>\n",
       "    <tr>\n",
       "      <th>14</th>\n",
       "      <td>RD5</td>\n",
       "      <td>7</td>\n",
       "      <td>0</td>\n",
       "      <td>10</td>\n",
       "      <td>0.000000</td>\n",
       "      <td>1.000000</td>\n",
       "      <td>2796</td>\n",
       "      <td>0.002504</td>\n",
       "    </tr>\n",
       "  </tbody>\n",
       "</table>\n",
       "</div>"
      ],
      "text/plain": [
       "   zone_class  AIN  num_TOC  num_nonTOC   pct_TOC  pct_nonTOC  all_AIN  \\\n",
       "0          C1   28        0          31  0.000000    1.000000     2796   \n",
       "1          C2  930       88        1142  0.071545    0.928455     2796   \n",
       "2          C4  316       13         421  0.029954    0.970046     2796   \n",
       "3          C5   39        0          49  0.000000    1.000000     2796   \n",
       "4          R2  439        1         485  0.002058    0.997942     2796   \n",
       "5          R3  324       67         277  0.194767    0.805233     2796   \n",
       "6          R4  150       50         108  0.316456    0.683544     2796   \n",
       "7          R5   41        1          54  0.018182    0.981818     2796   \n",
       "8        RAS3    1        0           1  0.000000    1.000000     2796   \n",
       "9        RAS4   21        2          23  0.080000    0.920000     2796   \n",
       "10      RD1.5  278        6         327  0.018018    0.981982     2796   \n",
       "11        RD2  189        1         219  0.004545    0.995455     2796   \n",
       "12        RD3   32        0          42  0.000000    1.000000     2796   \n",
       "13        RD4    1        0           1  0.000000    1.000000     2796   \n",
       "14        RD5    7        0          10  0.000000    1.000000     2796   \n",
       "\n",
       "     pct_AIN  \n",
       "0   0.010014  \n",
       "1   0.332618  \n",
       "2   0.113019  \n",
       "3   0.013948  \n",
       "4   0.157010  \n",
       "5   0.115880  \n",
       "6   0.053648  \n",
       "7   0.014664  \n",
       "8   0.000358  \n",
       "9   0.007511  \n",
       "10  0.099428  \n",
       "11  0.067597  \n",
       "12  0.011445  \n",
       "13  0.000358  \n",
       "14  0.002504  "
      ]
     },
     "execution_count": 38,
     "metadata": {},
     "output_type": "execute_result"
    }
   ],
   "source": [
    "m14 = m12.groupby('zone_class').agg({'AIN': 'count', 'num_TOC': 'sum', 'num_nonTOC': 'sum'}).reset_index()\n",
    "\n",
    "for i in ['TOC', 'nonTOC']:\n",
    "    new_col = f'pct_{i}'\n",
    "    numerator = f'num_{i}'\n",
    "    m14[new_col] = m14[numerator] / (m14.num_TOC + m14.num_nonTOC)\n",
    "    \n",
    "m14['all_AIN'] = m14.AIN.sum()\n",
    "m14['pct_AIN'] = m14.AIN / m14.all_AIN\n",
    "\n",
    "m14"
   ]
  },
  {
   "cell_type": "code",
   "execution_count": 39,
   "metadata": {},
   "outputs": [],
   "source": [
    "writer = pd.ExcelWriter('../outputs/toc_charts.xlsx', engine = 'xlsxwriter')\n",
    "\n",
    "m13.to_excel(writer, sheet_name = 'entitlements_by_tier')\n",
    "m14.to_excel(writer, sheet_name = 'entitlements_by_zone')\n",
    "\n",
    "writer.save()"
   ]
  },
  {
   "cell_type": "code",
   "execution_count": null,
   "metadata": {},
   "outputs": [],
   "source": []
  }
 ],
 "metadata": {
  "kernelspec": {
   "display_name": "Python 3",
   "language": "python",
   "name": "python3"
  },
  "language_info": {
   "codemirror_mode": {
    "name": "ipython",
    "version": 3
   },
   "file_extension": ".py",
   "mimetype": "text/x-python",
   "name": "python",
   "nbconvert_exporter": "python",
   "pygments_lexer": "ipython3",
   "version": "3.7.3"
  }
 },
 "nbformat": 4,
 "nbformat_minor": 4
}
