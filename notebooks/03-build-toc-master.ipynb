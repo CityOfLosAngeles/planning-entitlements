{
 "cells": [
  {
   "cell_type": "markdown",
   "metadata": {},
   "source": [
    "# Entitlements in TOC-eligible parcels"
   ]
  },
  {
   "cell_type": "code",
   "execution_count": 1,
   "metadata": {},
   "outputs": [],
   "source": [
    "import numpy as np\n",
    "import pandas as pd\n",
    "import geopandas as gpd\n",
    "import intake\n",
    "import boto3\n",
    "import utils"
   ]
  },
  {
   "cell_type": "code",
   "execution_count": 2,
   "metadata": {},
   "outputs": [],
   "source": [
    "catalog = intake.open_catalog(\"../catalogs/*.yml\")\n",
    "\n",
    "s3 = boto3.client('s3')\n",
    "bucket_name = 'city-planning-entitlements'"
   ]
  },
  {
   "cell_type": "markdown",
   "metadata": {},
   "source": [
    "## Parcels\n",
    "* Figure out how many are duplicates\n",
    "* Won't know which AINs are used in PCTS, so keep all of them, but have a way to identify how many obs to drop later on"
   ]
  },
  {
   "cell_type": "code",
   "execution_count": 3,
   "metadata": {},
   "outputs": [
    {
     "data": {
      "text/plain": [
       "0    442562\n",
       "1    148994\n",
       "3    110153\n",
       "2     65653\n",
       "4      7844\n",
       "Name: TOC_Tier, dtype: int64"
      ]
     },
     "metadata": {},
     "output_type": "display_data"
    }
   ],
   "source": [
    "parcels = gpd.read_file(f'zip+s3://{bucket_name}/gis/intermediate/la_parcels_toc.zip')\n",
    "\n",
    "display(parcels.TOC_Tier.value_counts())\n",
    "parcels = parcels[parcels.TOC_Tier > 0]"
   ]
  },
  {
   "cell_type": "code",
   "execution_count": 4,
   "metadata": {},
   "outputs": [],
   "source": [
    "# Upload just the parcels in TOC Tiers into S3\n",
    "parcels.to_file(driver = 'GeoJSON', filename = '../gis/intermediate/toc_eligible_parcels.geojson')\n",
    "\n",
    "s3.upload_file('../gis/intermediate/toc_eligible_parcels.geojson', f'{bucket_name}', 'gis/intermediate/toc_eligible_parcels.geojson')"
   ]
  },
  {
   "cell_type": "code",
   "execution_count": 5,
   "metadata": {},
   "outputs": [],
   "source": [
    "# Grab the centroids and count number of duplicate obs\n",
    "parcels2 = utils.get_centroid(parcels)"
   ]
  },
  {
   "cell_type": "markdown",
   "metadata": {},
   "source": [
    "## Grab tables from PCTS"
   ]
  },
  {
   "cell_type": "code",
   "execution_count": 6,
   "metadata": {},
   "outputs": [],
   "source": [
    "cases = pd.read_parquet('../data/tCASE.parquet')\n",
    "app = pd.read_parquet('../data/tAPLC.parquet')\n",
    "geo_info = pd.read_parquet('../data/tPROP_GEO_INFO.parquet')\n",
    "la_prop = pd.read_parquet('../data/tLA_PROP.parquet')\n",
    "#cases = catalog.pcts.tCASE.read()\n",
    "#app = catalog.pcts.tAPLC.read()\n",
    "#geo_info = catalog.pcts.tPROP_GEO_INFO.read()\n",
    "#la_prop = catalog.pcts.tLA_PROP.read()"
   ]
  },
  {
   "cell_type": "code",
   "execution_count": 7,
   "metadata": {},
   "outputs": [],
   "source": [
    "cases1 = cases[['CASE_ID', 'APLC_ID', 'CASE_NBR', 'CASE_SEQ_NBR', 'CASE_YR_NBR', \n",
    "                'CASE_ACTION_ID', 'CASE_FILE_RCV_DT']]\n",
    "app1 = app[['APLC_ID', 'PROJ_DESC_TXT']]\n",
    "geo_info1 = geo_info[['CASE_ID', 'PROP_ID']]\n",
    "la_prop1 = la_prop[la_prop.ASSR_PRCL_NBR.notna()][['PROP_ID', 'ASSR_PRCL_NBR']]"
   ]
  },
  {
   "cell_type": "markdown",
   "metadata": {},
   "source": [
    "### Subset cases, keep Oct 2017 and after"
   ]
  },
  {
   "cell_type": "code",
   "execution_count": 8,
   "metadata": {},
   "outputs": [
    {
     "name": "stderr",
     "output_type": "stream",
     "text": [
      "/opt/conda/lib/python3.7/site-packages/ipykernel_launcher.py:2: SettingWithCopyWarning: \n",
      "A value is trying to be set on a copy of a slice from a DataFrame.\n",
      "Try using .loc[row_indexer,col_indexer] = value instead\n",
      "\n",
      "See the caveats in the documentation: http://pandas.pydata.org/pandas-docs/stable/user_guide/indexing.html#returning-a-view-versus-a-copy\n",
      "  \n"
     ]
    }
   ],
   "source": [
    "# Grab the year-month from received date\n",
    "cases1['CASE_FILE_DATE'] = pd.to_datetime(cases1['CASE_FILE_RCV_DT']).dt.to_period('M')"
   ]
  },
  {
   "cell_type": "code",
   "execution_count": 9,
   "metadata": {},
   "outputs": [],
   "source": [
    "cases2 = cases1[cases1.CASE_FILE_DATE >= '2017-10']"
   ]
  },
  {
   "cell_type": "markdown",
   "metadata": {},
   "source": [
    "## Parent cases only"
   ]
  },
  {
   "cell_type": "code",
   "execution_count": 10,
   "metadata": {},
   "outputs": [],
   "source": [
    "parents = pd.read_parquet('../data/parent_cases.parquet')\n",
    "\n",
    "cases3 = pd.merge(cases2, parents, on = 'CASE_ID', how = 'inner', validate = '1:1')"
   ]
  },
  {
   "cell_type": "markdown",
   "metadata": {},
   "source": [
    "## Merge with geo_info, la_prop, parcels to ID the parcels that and have entitlements (2016 - after)"
   ]
  },
  {
   "cell_type": "code",
   "execution_count": 11,
   "metadata": {},
   "outputs": [],
   "source": [
    "m1 = pd.merge(cases3, geo_info1, on = 'CASE_ID', how = 'inner', validate = '1:m')"
   ]
  },
  {
   "cell_type": "code",
   "execution_count": 12,
   "metadata": {},
   "outputs": [],
   "source": [
    "m2 = pd.merge(m1, la_prop1, on = 'PROP_ID', how = 'inner', validate = 'm:1')"
   ]
  },
  {
   "cell_type": "code",
   "execution_count": 13,
   "metadata": {},
   "outputs": [],
   "source": [
    "m3 = pd.merge(m2, parcels, left_on = 'ASSR_PRCL_NBR', right_on = 'AIN', how = 'inner', validate = 'm:1')"
   ]
  },
  {
   "cell_type": "markdown",
   "metadata": {},
   "source": [
    "## Join parcels to zoning and subset to eligible zones\n",
    "* Subset by eligible zones, see how many TOC-eligible parcels also fall into eligible zones"
   ]
  },
  {
   "cell_type": "code",
   "execution_count": 14,
   "metadata": {},
   "outputs": [],
   "source": [
    "zoning = gpd.read_file(f's3://{bucket_name}/gis/raw/parsed_zoning.geojson')"
   ]
  },
  {
   "cell_type": "code",
   "execution_count": 15,
   "metadata": {},
   "outputs": [],
   "source": [
    "eligible_zones = ['R2', 'R3', 'RAS3', 'R4', 'RAS4', 'R5', \n",
    "                  'RD1.5', 'RD2', 'RD3', 'RD4', 'RD5', 'RD6', \n",
    "                  'C1', 'C2', 'C4', 'C5']\n",
    "\n",
    "eligible_zoning = zoning[zoning.zone_class.isin(eligible_zones)]"
   ]
  },
  {
   "cell_type": "code",
   "execution_count": 16,
   "metadata": {},
   "outputs": [],
   "source": [
    "parcels_with_zoning = gpd.sjoin(parcels2, eligible_zoning, how = 'inner', op = 'intersects').drop(columns = ['index_right'])"
   ]
  },
  {
   "cell_type": "code",
   "execution_count": 17,
   "metadata": {},
   "outputs": [],
   "source": [
    "# Merge in zoning and TOC info about the parcel\n",
    "m4 = pd.merge(m3, parcels_with_zoning, on = ['AIN', 'centroid', 'TOC_Tier'], how = 'inner')"
   ]
  },
  {
   "cell_type": "code",
   "execution_count": 18,
   "metadata": {},
   "outputs": [],
   "source": [
    "# Merge in project description\n",
    "m5 = pd.merge(m4, app1, on = 'APLC_ID', how = 'inner', validate = 'm:1')\n",
    "\n",
    "# Drop duplicates\n",
    "m5 = m5.drop_duplicates()"
   ]
  },
  {
   "cell_type": "markdown",
   "metadata": {},
   "source": [
    "## Parse the PCTS string and grab prefix\n",
    "* Drop duplicates\n",
    "* Drop ENV, ADM, PAR cases\n",
    "* Subset by CASE_ACTION_ID"
   ]
  },
  {
   "cell_type": "code",
   "execution_count": 19,
   "metadata": {},
   "outputs": [],
   "source": [
    "parsed_col_names = ['prefix']\n",
    "\n",
    "def parse_pcts(row):\n",
    "    try:\n",
    "        z = utils.PCTSCaseNumber(row.CASE_NBR)\n",
    "        return pd.Series([z.prefix], index = parsed_col_names)\n",
    "    except ValueError:\n",
    "        return pd.Series([z.prefix], index = parsed_col_names)\n",
    "\n",
    "parsed = m5.apply(parse_pcts, axis = 1)\n",
    "\n",
    "m6 = pd.concat([m5, parsed], axis = 1)"
   ]
  },
  {
   "cell_type": "code",
   "execution_count": 20,
   "metadata": {},
   "outputs": [],
   "source": [
    "# Drop duplicates\n",
    "drop = ['centroid', 'x', 'y', 'obs', 'num_obs', \n",
    "        'CASE_ID', 'APLC_ID', 'ASSR_PRCL_NBR', 'PROP_ID', \n",
    "        'o1', 'o2', 'o3', 'o1_descrip', 'o2_descrip', 'o3_descrip']\n",
    "\n",
    "m6 = m6.drop(columns = drop)\n",
    "\n",
    "# Create new id variable that is just seq number and year. Need a way to get rid of duplicate cases.\n",
    "m6['id'] = m6.CASE_SEQ_NBR.astype(int).astype(str) + '_' + m6.CASE_YR_NBR.astype(int).astype(str)"
   ]
  },
  {
   "cell_type": "code",
   "execution_count": 21,
   "metadata": {},
   "outputs": [],
   "source": [
    "cols_we_need = ['id', 'CASE_ACTION_ID', 'CASE_FILE_DATE', 'AIN', 'TOC_Tier', 'ZONE_CMPLT', 'PROJ_DESC_TXT']\n",
    "\n",
    "m7 = m6.drop_duplicates(subset = cols_we_need)"
   ]
  },
  {
   "cell_type": "code",
   "execution_count": 22,
   "metadata": {},
   "outputs": [],
   "source": [
    "# Subset by prefix\n",
    "drop_prefix = ['ENV', 'ADM', 'PAR']\n",
    "\n",
    "m7 = m7.loc[~m6.prefix.isin(drop_prefix)]"
   ]
  },
  {
   "cell_type": "code",
   "execution_count": 23,
   "metadata": {},
   "outputs": [
    {
     "data": {
      "text/plain": [
       "2.0     1047\n",
       "1.0      204\n",
       "4.0       52\n",
       "6.0       42\n",
       "3.0       17\n",
       "11.0      11\n",
       "5.0        1\n",
       "Name: CASE_ACTION_ID, dtype: int64"
      ]
     },
     "metadata": {},
     "output_type": "display_data"
    }
   ],
   "source": [
    "# Subset by CASE_ACTION_ID -- let's use all cases for now, \n",
    "display(m7.CASE_ACTION_ID.value_counts())\n",
    "\n",
    "#approved_cases = [1, 2, 11]\n",
    "approved_cases = [1, 2, 3, 4, 5, 6, 7, 8, 9, 10, 11, 12, 13, 14]\n",
    "\n",
    "m8 = m7.loc[m7.CASE_ACTION_ID.isin(approved_cases)]"
   ]
  },
  {
   "cell_type": "markdown",
   "metadata": {},
   "source": [
    "#### At this point, no more duplicates by PARENT_CASE-AIN"
   ]
  },
  {
   "cell_type": "markdown",
   "metadata": {},
   "source": [
    "## Additional subsetting for TOC-eligible parcels"
   ]
  },
  {
   "cell_type": "code",
   "execution_count": 24,
   "metadata": {},
   "outputs": [
    {
     "name": "stderr",
     "output_type": "stream",
     "text": [
      "/opt/conda/lib/python3.7/site-packages/ipykernel_launcher.py:2: SettingWithCopyWarning: \n",
      "A value is trying to be set on a copy of a slice from a DataFrame.\n",
      "Try using .loc[row_indexer,col_indexer] = value instead\n",
      "\n",
      "See the caveats in the documentation: http://pandas.pydata.org/pandas-docs/stable/user_guide/indexing.html#returning-a-view-versus-a-copy\n",
      "  \n"
     ]
    }
   ],
   "source": [
    "# Tag case as TOC or not\n",
    "m8['is_TOC'] = m8.CASE_NBR.str.contains('TOC').astype(int)"
   ]
  },
  {
   "cell_type": "code",
   "execution_count": 25,
   "metadata": {},
   "outputs": [],
   "source": [
    "keep_col = ['CASE_NBR', 'id', 'CASE_ACTION_ID', 'CASE_FILE_DATE', 'AIN', 'TOC_Tier', 'zone_class', 'is_TOC']\n",
    "\n",
    "m9 = m8[keep_col]"
   ]
  },
  {
   "cell_type": "markdown",
   "metadata": {},
   "source": [
    "## Make into parcel level df"
   ]
  },
  {
   "cell_type": "code",
   "execution_count": 26,
   "metadata": {},
   "outputs": [],
   "source": [
    "m10 = m9.groupby(['AIN', 'TOC_Tier', 'zone_class', 'is_TOC']).agg({'id':'count'}).reset_index()"
   ]
  },
  {
   "cell_type": "code",
   "execution_count": 27,
   "metadata": {},
   "outputs": [],
   "source": [
    "# Make wide\n",
    "m10['num_TOC'] = m10.apply(lambda row: row.id if row.is_TOC == 1 else np.nan, axis = 1) \n",
    "m10['num_nonTOC'] = m10.apply(lambda row: row.id if row.is_TOC == 0 else np.nan, axis = 1)"
   ]
  },
  {
   "cell_type": "code",
   "execution_count": 28,
   "metadata": {},
   "outputs": [],
   "source": [
    "# If there are multiple obs for the same AIN, fill the NaNs with the max from the other column, so we can just drop duplicates after\n",
    "for col in ['num_TOC', 'num_nonTOC']:\n",
    "    m10[col] = m10[col].fillna(m10.groupby('AIN')[col].transform('max'))"
   ]
  },
  {
   "cell_type": "code",
   "execution_count": 29,
   "metadata": {},
   "outputs": [
    {
     "name": "stderr",
     "output_type": "stream",
     "text": [
      "/opt/conda/lib/python3.7/site-packages/ipykernel_launcher.py:4: SettingWithCopyWarning: \n",
      "A value is trying to be set on a copy of a slice from a DataFrame.\n",
      "Try using .loc[row_indexer,col_indexer] = value instead\n",
      "\n",
      "See the caveats in the documentation: http://pandas.pydata.org/pandas-docs/stable/user_guide/indexing.html#returning-a-view-versus-a-copy\n",
      "  after removing the cwd from sys.path.\n"
     ]
    }
   ],
   "source": [
    "m11 = m10.drop_duplicates(subset = ['AIN', 'TOC_Tier', 'zone_class', 'num_TOC', 'num_nonTOC'])\n",
    "\n",
    "for col in ['num_TOC', 'num_nonTOC']:\n",
    "    m11[col] = m11[col].fillna(0).astype(int)\n",
    "\n",
    "m11 = m11.drop(columns = ['is_TOC', 'id'])"
   ]
  },
  {
   "cell_type": "code",
   "execution_count": 30,
   "metadata": {},
   "outputs": [
    {
     "name": "stdout",
     "output_type": "stream",
     "text": [
      "# parcels: 1219\n",
      "# parcels with TOC entitlements: 234\n",
      "# parcels with non TOC entitlements: 1004\n",
      "# parcels with both TOC and non TOC entitlements: 19\n",
      "double check sum: 1219\n"
     ]
    }
   ],
   "source": [
    "toc_parcels = m11[m11.num_TOC > 0]\n",
    "non_toc_parcels = m11[m11.num_nonTOC > 0]\n",
    "have_both_parcels = m11[(m11.num_TOC > 0) & (m11.num_nonTOC > 0)]\n",
    "\n",
    "print(f'# parcels: {len(m11)}')\n",
    "print(f'# parcels with TOC entitlements: {len(toc_parcels)}')\n",
    "print(f'# parcels with non TOC entitlements: {len(non_toc_parcels)}')\n",
    "print(f'# parcels with both TOC and non TOC entitlements: {len(have_both_parcels)}')\n",
    "print(f'double check sum: {len(toc_parcels) + len(non_toc_parcels) - len(have_both_parcels)}')"
   ]
  },
  {
   "cell_type": "code",
   "execution_count": 31,
   "metadata": {},
   "outputs": [
    {
     "name": "stdout",
     "output_type": "stream",
     "text": [
      "% parcels with TOC entitlements: 0.19196062346185397\n",
      "% parcels with non TOC entitlements: 0.8236259228876128\n",
      "% parcels with both entitlements: 0.015586546349466776\n"
     ]
    }
   ],
   "source": [
    "print(f'% parcels with TOC entitlements: {len(toc_parcels) / len(m11)}')\n",
    "print(f'% parcels with non TOC entitlements: {len(non_toc_parcels) / len(m11)}')\n",
    "print(f'% parcels with both entitlements: {len(have_both_parcels) / len(m11)}')"
   ]
  },
  {
   "cell_type": "code",
   "execution_count": 32,
   "metadata": {},
   "outputs": [
    {
     "data": {
      "text/plain": [
       "3    591\n",
       "1    280\n",
       "2    249\n",
       "4     99\n",
       "Name: TOC_Tier, dtype: int64"
      ]
     },
     "execution_count": 32,
     "metadata": {},
     "output_type": "execute_result"
    }
   ],
   "source": [
    "m11.TOC_Tier.value_counts()"
   ]
  },
  {
   "cell_type": "code",
   "execution_count": 33,
   "metadata": {},
   "outputs": [
    {
     "data": {
      "text/plain": [
       "C2       86\n",
       "R3       73\n",
       "R4       50\n",
       "C4       13\n",
       "RD1.5     6\n",
       "R5        2\n",
       "RAS4      2\n",
       "R2        1\n",
       "RD2       1\n",
       "Name: zone_class, dtype: int64"
      ]
     },
     "execution_count": 33,
     "metadata": {},
     "output_type": "execute_result"
    }
   ],
   "source": [
    "toc_parcels.zone_class.value_counts()"
   ]
  },
  {
   "cell_type": "code",
   "execution_count": 34,
   "metadata": {},
   "outputs": [
    {
     "data": {
      "text/plain": [
       "C2       420\n",
       "C4       166\n",
       "R3       107\n",
       "RD1.5     91\n",
       "R2        74\n",
       "RD2       60\n",
       "R4        30\n",
       "C5        17\n",
       "C1        13\n",
       "RD3       10\n",
       "R5         9\n",
       "RAS4       6\n",
       "RD5        1\n",
       "Name: zone_class, dtype: int64"
      ]
     },
     "execution_count": 34,
     "metadata": {},
     "output_type": "execute_result"
    }
   ],
   "source": [
    "non_toc_parcels.zone_class.value_counts()"
   ]
  },
  {
   "cell_type": "code",
   "execution_count": 35,
   "metadata": {},
   "outputs": [],
   "source": [
    "m12 = pd.merge(m11, parcels2, on = ['AIN', 'TOC_Tier'], how = 'inner').drop(columns = ['x', 'y', 'obs', 'num_obs'])"
   ]
  },
  {
   "cell_type": "code",
   "execution_count": 36,
   "metadata": {},
   "outputs": [],
   "source": [
    "m12.rename(columns = {'centroid':'geometry'}, inplace = True)\n",
    "m12 = gpd.GeoDataFrame(m12)\n",
    "m12.crs = {'init':'epsg:2229'}"
   ]
  },
  {
   "cell_type": "code",
   "execution_count": 37,
   "metadata": {},
   "outputs": [],
   "source": [
    "m12.to_file(driver = 'GeoJSON', filename = '../gis/intermediate/toc_eligible_parcels_with_entitlements.geojson')\n",
    "\n",
    "s3.upload_file('../gis/intermediate/toc_eligible_parcels_with_entitlements.geojson', f'{bucket_name}', 'gis/intermediate/toc_eligible_parcels_with_entitlements.geojson')"
   ]
  },
  {
   "cell_type": "markdown",
   "metadata": {},
   "source": [
    "## Breakdown by TOC Tiers"
   ]
  },
  {
   "cell_type": "code",
   "execution_count": 38,
   "metadata": {},
   "outputs": [
    {
     "data": {
      "text/html": [
       "<div>\n",
       "<style scoped>\n",
       "    .dataframe tbody tr th:only-of-type {\n",
       "        vertical-align: middle;\n",
       "    }\n",
       "\n",
       "    .dataframe tbody tr th {\n",
       "        vertical-align: top;\n",
       "    }\n",
       "\n",
       "    .dataframe thead th {\n",
       "        text-align: right;\n",
       "    }\n",
       "</style>\n",
       "<table border=\"1\" class=\"dataframe\">\n",
       "  <thead>\n",
       "    <tr style=\"text-align: right;\">\n",
       "      <th></th>\n",
       "      <th>TOC_Tier</th>\n",
       "      <th>AIN</th>\n",
       "      <th>num_TOC</th>\n",
       "      <th>num_nonTOC</th>\n",
       "      <th>pct_TOC</th>\n",
       "      <th>pct_nonTOC</th>\n",
       "      <th>all_AIN</th>\n",
       "      <th>pct_AIN</th>\n",
       "    </tr>\n",
       "  </thead>\n",
       "  <tbody>\n",
       "    <tr>\n",
       "      <th>0</th>\n",
       "      <td>1</td>\n",
       "      <td>280</td>\n",
       "      <td>31</td>\n",
       "      <td>279</td>\n",
       "      <td>0.100000</td>\n",
       "      <td>0.900000</td>\n",
       "      <td>1219</td>\n",
       "      <td>0.229696</td>\n",
       "    </tr>\n",
       "    <tr>\n",
       "      <th>1</th>\n",
       "      <td>2</td>\n",
       "      <td>249</td>\n",
       "      <td>55</td>\n",
       "      <td>203</td>\n",
       "      <td>0.213178</td>\n",
       "      <td>0.786822</td>\n",
       "      <td>1219</td>\n",
       "      <td>0.204266</td>\n",
       "    </tr>\n",
       "    <tr>\n",
       "      <th>2</th>\n",
       "      <td>3</td>\n",
       "      <td>591</td>\n",
       "      <td>138</td>\n",
       "      <td>520</td>\n",
       "      <td>0.209726</td>\n",
       "      <td>0.790274</td>\n",
       "      <td>1219</td>\n",
       "      <td>0.484824</td>\n",
       "    </tr>\n",
       "    <tr>\n",
       "      <th>3</th>\n",
       "      <td>4</td>\n",
       "      <td>99</td>\n",
       "      <td>11</td>\n",
       "      <td>137</td>\n",
       "      <td>0.074324</td>\n",
       "      <td>0.925676</td>\n",
       "      <td>1219</td>\n",
       "      <td>0.081214</td>\n",
       "    </tr>\n",
       "  </tbody>\n",
       "</table>\n",
       "</div>"
      ],
      "text/plain": [
       "   TOC_Tier  AIN  num_TOC  num_nonTOC   pct_TOC  pct_nonTOC  all_AIN   pct_AIN\n",
       "0         1  280       31         279  0.100000    0.900000     1219  0.229696\n",
       "1         2  249       55         203  0.213178    0.786822     1219  0.204266\n",
       "2         3  591      138         520  0.209726    0.790274     1219  0.484824\n",
       "3         4   99       11         137  0.074324    0.925676     1219  0.081214"
      ]
     },
     "execution_count": 38,
     "metadata": {},
     "output_type": "execute_result"
    }
   ],
   "source": [
    "m13 = m12.groupby('TOC_Tier').agg({'AIN':'count', 'num_TOC':'sum', 'num_nonTOC':'sum'}).reset_index()\n",
    "\n",
    "for i in ['TOC', 'nonTOC']:\n",
    "    new_col = f'pct_{i}'\n",
    "    numerator = f'num_{i}'\n",
    "    m13[new_col] = m13[numerator] / (m13.num_TOC + m13.num_nonTOC)\n",
    "    \n",
    "m13['all_AIN'] = m13.AIN.sum()\n",
    "m13['pct_AIN'] = m13.AIN / m13.all_AIN\n",
    "\n",
    "m13"
   ]
  },
  {
   "cell_type": "markdown",
   "metadata": {},
   "source": [
    "## Breakdown by Zone Class"
   ]
  },
  {
   "cell_type": "code",
   "execution_count": 39,
   "metadata": {},
   "outputs": [
    {
     "data": {
      "text/html": [
       "<div>\n",
       "<style scoped>\n",
       "    .dataframe tbody tr th:only-of-type {\n",
       "        vertical-align: middle;\n",
       "    }\n",
       "\n",
       "    .dataframe tbody tr th {\n",
       "        vertical-align: top;\n",
       "    }\n",
       "\n",
       "    .dataframe thead th {\n",
       "        text-align: right;\n",
       "    }\n",
       "</style>\n",
       "<table border=\"1\" class=\"dataframe\">\n",
       "  <thead>\n",
       "    <tr style=\"text-align: right;\">\n",
       "      <th></th>\n",
       "      <th>zone_class</th>\n",
       "      <th>AIN</th>\n",
       "      <th>num_TOC</th>\n",
       "      <th>num_nonTOC</th>\n",
       "      <th>pct_TOC</th>\n",
       "      <th>pct_nonTOC</th>\n",
       "      <th>all_AIN</th>\n",
       "      <th>pct_AIN</th>\n",
       "    </tr>\n",
       "  </thead>\n",
       "  <tbody>\n",
       "    <tr>\n",
       "      <th>0</th>\n",
       "      <td>C1</td>\n",
       "      <td>13</td>\n",
       "      <td>0</td>\n",
       "      <td>14</td>\n",
       "      <td>0.000000</td>\n",
       "      <td>1.000000</td>\n",
       "      <td>1219</td>\n",
       "      <td>0.010664</td>\n",
       "    </tr>\n",
       "    <tr>\n",
       "      <th>1</th>\n",
       "      <td>C2</td>\n",
       "      <td>495</td>\n",
       "      <td>87</td>\n",
       "      <td>481</td>\n",
       "      <td>0.153169</td>\n",
       "      <td>0.846831</td>\n",
       "      <td>1219</td>\n",
       "      <td>0.406071</td>\n",
       "    </tr>\n",
       "    <tr>\n",
       "      <th>2</th>\n",
       "      <td>C4</td>\n",
       "      <td>177</td>\n",
       "      <td>13</td>\n",
       "      <td>211</td>\n",
       "      <td>0.058036</td>\n",
       "      <td>0.941964</td>\n",
       "      <td>1219</td>\n",
       "      <td>0.145201</td>\n",
       "    </tr>\n",
       "    <tr>\n",
       "      <th>3</th>\n",
       "      <td>C5</td>\n",
       "      <td>17</td>\n",
       "      <td>0</td>\n",
       "      <td>20</td>\n",
       "      <td>0.000000</td>\n",
       "      <td>1.000000</td>\n",
       "      <td>1219</td>\n",
       "      <td>0.013946</td>\n",
       "    </tr>\n",
       "    <tr>\n",
       "      <th>4</th>\n",
       "      <td>R2</td>\n",
       "      <td>74</td>\n",
       "      <td>1</td>\n",
       "      <td>78</td>\n",
       "      <td>0.012658</td>\n",
       "      <td>0.987342</td>\n",
       "      <td>1219</td>\n",
       "      <td>0.060705</td>\n",
       "    </tr>\n",
       "    <tr>\n",
       "      <th>5</th>\n",
       "      <td>R3</td>\n",
       "      <td>177</td>\n",
       "      <td>73</td>\n",
       "      <td>114</td>\n",
       "      <td>0.390374</td>\n",
       "      <td>0.609626</td>\n",
       "      <td>1219</td>\n",
       "      <td>0.145201</td>\n",
       "    </tr>\n",
       "    <tr>\n",
       "      <th>6</th>\n",
       "      <td>R4</td>\n",
       "      <td>79</td>\n",
       "      <td>50</td>\n",
       "      <td>31</td>\n",
       "      <td>0.617284</td>\n",
       "      <td>0.382716</td>\n",
       "      <td>1219</td>\n",
       "      <td>0.064807</td>\n",
       "    </tr>\n",
       "    <tr>\n",
       "      <th>7</th>\n",
       "      <td>R5</td>\n",
       "      <td>11</td>\n",
       "      <td>2</td>\n",
       "      <td>10</td>\n",
       "      <td>0.166667</td>\n",
       "      <td>0.833333</td>\n",
       "      <td>1219</td>\n",
       "      <td>0.009024</td>\n",
       "    </tr>\n",
       "    <tr>\n",
       "      <th>8</th>\n",
       "      <td>RAS4</td>\n",
       "      <td>8</td>\n",
       "      <td>2</td>\n",
       "      <td>7</td>\n",
       "      <td>0.222222</td>\n",
       "      <td>0.777778</td>\n",
       "      <td>1219</td>\n",
       "      <td>0.006563</td>\n",
       "    </tr>\n",
       "    <tr>\n",
       "      <th>9</th>\n",
       "      <td>RD1.5</td>\n",
       "      <td>96</td>\n",
       "      <td>6</td>\n",
       "      <td>99</td>\n",
       "      <td>0.057143</td>\n",
       "      <td>0.942857</td>\n",
       "      <td>1219</td>\n",
       "      <td>0.078753</td>\n",
       "    </tr>\n",
       "    <tr>\n",
       "      <th>10</th>\n",
       "      <td>RD2</td>\n",
       "      <td>61</td>\n",
       "      <td>1</td>\n",
       "      <td>62</td>\n",
       "      <td>0.015873</td>\n",
       "      <td>0.984127</td>\n",
       "      <td>1219</td>\n",
       "      <td>0.050041</td>\n",
       "    </tr>\n",
       "    <tr>\n",
       "      <th>11</th>\n",
       "      <td>RD3</td>\n",
       "      <td>10</td>\n",
       "      <td>0</td>\n",
       "      <td>11</td>\n",
       "      <td>0.000000</td>\n",
       "      <td>1.000000</td>\n",
       "      <td>1219</td>\n",
       "      <td>0.008203</td>\n",
       "    </tr>\n",
       "    <tr>\n",
       "      <th>12</th>\n",
       "      <td>RD5</td>\n",
       "      <td>1</td>\n",
       "      <td>0</td>\n",
       "      <td>1</td>\n",
       "      <td>0.000000</td>\n",
       "      <td>1.000000</td>\n",
       "      <td>1219</td>\n",
       "      <td>0.000820</td>\n",
       "    </tr>\n",
       "  </tbody>\n",
       "</table>\n",
       "</div>"
      ],
      "text/plain": [
       "   zone_class  AIN  num_TOC  num_nonTOC   pct_TOC  pct_nonTOC  all_AIN  \\\n",
       "0          C1   13        0          14  0.000000    1.000000     1219   \n",
       "1          C2  495       87         481  0.153169    0.846831     1219   \n",
       "2          C4  177       13         211  0.058036    0.941964     1219   \n",
       "3          C5   17        0          20  0.000000    1.000000     1219   \n",
       "4          R2   74        1          78  0.012658    0.987342     1219   \n",
       "5          R3  177       73         114  0.390374    0.609626     1219   \n",
       "6          R4   79       50          31  0.617284    0.382716     1219   \n",
       "7          R5   11        2          10  0.166667    0.833333     1219   \n",
       "8        RAS4    8        2           7  0.222222    0.777778     1219   \n",
       "9       RD1.5   96        6          99  0.057143    0.942857     1219   \n",
       "10        RD2   61        1          62  0.015873    0.984127     1219   \n",
       "11        RD3   10        0          11  0.000000    1.000000     1219   \n",
       "12        RD5    1        0           1  0.000000    1.000000     1219   \n",
       "\n",
       "     pct_AIN  \n",
       "0   0.010664  \n",
       "1   0.406071  \n",
       "2   0.145201  \n",
       "3   0.013946  \n",
       "4   0.060705  \n",
       "5   0.145201  \n",
       "6   0.064807  \n",
       "7   0.009024  \n",
       "8   0.006563  \n",
       "9   0.078753  \n",
       "10  0.050041  \n",
       "11  0.008203  \n",
       "12  0.000820  "
      ]
     },
     "execution_count": 39,
     "metadata": {},
     "output_type": "execute_result"
    }
   ],
   "source": [
    "m14 = m12.groupby('zone_class').agg({'AIN': 'count', 'num_TOC': 'sum', 'num_nonTOC': 'sum'}).reset_index()\n",
    "\n",
    "for i in ['TOC', 'nonTOC']:\n",
    "    new_col = f'pct_{i}'\n",
    "    numerator = f'num_{i}'\n",
    "    m14[new_col] = m14[numerator] / (m14.num_TOC + m14.num_nonTOC)\n",
    "    \n",
    "m14['all_AIN'] = m14.AIN.sum()\n",
    "m14['pct_AIN'] = m14.AIN / m14.all_AIN\n",
    "\n",
    "m14"
   ]
  },
  {
   "cell_type": "code",
   "execution_count": 40,
   "metadata": {},
   "outputs": [],
   "source": [
    "writer = pd.ExcelWriter('../outputs/toc_charts.xlsx', engine = 'xlsxwriter')\n",
    "\n",
    "m13.to_excel(writer, sheet_name = 'entitlements_by_tier')\n",
    "m14.to_excel(writer, sheet_name = 'entitlements_by_zone')\n",
    "\n",
    "writer.save()"
   ]
  },
  {
   "cell_type": "code",
   "execution_count": null,
   "metadata": {},
   "outputs": [],
   "source": []
  }
 ],
 "metadata": {
  "kernelspec": {
   "display_name": "Python 3",
   "language": "python",
   "name": "python3"
  },
  "language_info": {
   "codemirror_mode": {
    "name": "ipython",
    "version": 3
   },
   "file_extension": ".py",
   "mimetype": "text/x-python",
   "name": "python",
   "nbconvert_exporter": "python",
   "pygments_lexer": "ipython3",
   "version": "3.7.3"
  }
 },
 "nbformat": 4,
 "nbformat_minor": 4
}
