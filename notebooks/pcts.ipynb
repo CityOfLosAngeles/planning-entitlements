{
 "cells": [
  {
   "cell_type": "code",
   "execution_count": 1,
   "metadata": {},
   "outputs": [],
   "source": [
    "import numpy as np\n",
    "import pandas as pd\n",
    "import geopandas as gpd\n",
    "import intake\n",
    "import pcts_parser"
   ]
  },
  {
   "cell_type": "code",
   "execution_count": 2,
   "metadata": {},
   "outputs": [],
   "source": [
    "catalog = intake.open_catalog(\"../catalogs/*.yml\")"
   ]
  },
  {
   "cell_type": "code",
   "execution_count": 3,
   "metadata": {},
   "outputs": [],
   "source": [
    "pd.set_option('display.max_columns', None)\n",
    "pd.set_option('display.max_rows', None)"
   ]
  },
  {
   "cell_type": "code",
   "execution_count": 4,
   "metadata": {},
   "outputs": [],
   "source": [
    "#list(catalog.pcts)"
   ]
  },
  {
   "cell_type": "code",
   "execution_count": 5,
   "metadata": {},
   "outputs": [
    {
     "data": {
      "text/html": [
       "<div>\n",
       "<style scoped>\n",
       "    .dataframe tbody tr th:only-of-type {\n",
       "        vertical-align: middle;\n",
       "    }\n",
       "\n",
       "    .dataframe tbody tr th {\n",
       "        vertical-align: top;\n",
       "    }\n",
       "\n",
       "    .dataframe thead th {\n",
       "        text-align: right;\n",
       "    }\n",
       "</style>\n",
       "<table border=\"1\" class=\"dataframe\">\n",
       "  <thead>\n",
       "    <tr style=\"text-align: right;\">\n",
       "      <th></th>\n",
       "      <th>CASE_NBR</th>\n",
       "    </tr>\n",
       "  </thead>\n",
       "  <tbody>\n",
       "    <tr>\n",
       "      <th>0</th>\n",
       "      <td>PC-1987-764-PC</td>\n",
       "    </tr>\n",
       "    <tr>\n",
       "      <th>1</th>\n",
       "      <td>PC-1987-761-PC</td>\n",
       "    </tr>\n",
       "    <tr>\n",
       "      <th>2</th>\n",
       "      <td>CPC-1987-640-ZC</td>\n",
       "    </tr>\n",
       "    <tr>\n",
       "      <th>3</th>\n",
       "      <td>PC-1987-758-PC</td>\n",
       "    </tr>\n",
       "    <tr>\n",
       "      <th>4</th>\n",
       "      <td>CPC-1987-630-BL</td>\n",
       "    </tr>\n",
       "  </tbody>\n",
       "</table>\n",
       "</div>"
      ],
      "text/plain": [
       "          CASE_NBR\n",
       "0   PC-1987-764-PC\n",
       "1   PC-1987-761-PC\n",
       "2  CPC-1987-640-ZC\n",
       "3   PC-1987-758-PC\n",
       "4  CPC-1987-630-BL"
      ]
     },
     "execution_count": 5,
     "metadata": {},
     "output_type": "execute_result"
    }
   ],
   "source": [
    "df = catalog.pcts.tCASE.read()\n",
    "df = df[['CASE_NBR']]\n",
    "df.head()"
   ]
  },
  {
   "cell_type": "code",
   "execution_count": 6,
   "metadata": {},
   "outputs": [
    {
     "data": {
      "text/html": [
       "<div>\n",
       "<style scoped>\n",
       "    .dataframe tbody tr th:only-of-type {\n",
       "        vertical-align: middle;\n",
       "    }\n",
       "\n",
       "    .dataframe tbody tr th {\n",
       "        vertical-align: top;\n",
       "    }\n",
       "\n",
       "    .dataframe thead th {\n",
       "        text-align: right;\n",
       "    }\n",
       "</style>\n",
       "<table border=\"1\" class=\"dataframe\">\n",
       "  <thead>\n",
       "    <tr style=\"text-align: right;\">\n",
       "      <th></th>\n",
       "      <th>CASE_NBR</th>\n",
       "      <th>prefix</th>\n",
       "      <th>year</th>\n",
       "      <th>pcts_case_id</th>\n",
       "      <th>suffix</th>\n",
       "      <th>invalid_prefix</th>\n",
       "    </tr>\n",
       "  </thead>\n",
       "  <tbody>\n",
       "    <tr>\n",
       "      <th>0</th>\n",
       "      <td>PC-1987-764-PC</td>\n",
       "      <td>invalid</td>\n",
       "      <td>1987</td>\n",
       "      <td>764</td>\n",
       "      <td>[PC]</td>\n",
       "      <td>PC</td>\n",
       "    </tr>\n",
       "    <tr>\n",
       "      <th>1</th>\n",
       "      <td>PC-1987-761-PC</td>\n",
       "      <td>invalid</td>\n",
       "      <td>1987</td>\n",
       "      <td>761</td>\n",
       "      <td>[PC]</td>\n",
       "      <td>PC</td>\n",
       "    </tr>\n",
       "    <tr>\n",
       "      <th>2</th>\n",
       "      <td>CPC-1987-640-ZC</td>\n",
       "      <td>CPC</td>\n",
       "      <td>1987</td>\n",
       "      <td>640</td>\n",
       "      <td>[ZC]</td>\n",
       "      <td></td>\n",
       "    </tr>\n",
       "    <tr>\n",
       "      <th>3</th>\n",
       "      <td>PC-1987-758-PC</td>\n",
       "      <td>invalid</td>\n",
       "      <td>1987</td>\n",
       "      <td>758</td>\n",
       "      <td>[PC]</td>\n",
       "      <td>PC</td>\n",
       "    </tr>\n",
       "    <tr>\n",
       "      <th>4</th>\n",
       "      <td>CPC-1987-630-BL</td>\n",
       "      <td>CPC</td>\n",
       "      <td>1987</td>\n",
       "      <td>630</td>\n",
       "      <td>[BL]</td>\n",
       "      <td></td>\n",
       "    </tr>\n",
       "  </tbody>\n",
       "</table>\n",
       "</div>"
      ],
      "text/plain": [
       "          CASE_NBR   prefix  year pcts_case_id suffix invalid_prefix\n",
       "0   PC-1987-764-PC  invalid  1987          764   [PC]             PC\n",
       "1   PC-1987-761-PC  invalid  1987          761   [PC]             PC\n",
       "2  CPC-1987-640-ZC      CPC  1987          640   [ZC]               \n",
       "3   PC-1987-758-PC  invalid  1987          758   [PC]             PC\n",
       "4  CPC-1987-630-BL      CPC  1987          630   [BL]               "
      ]
     },
     "execution_count": 6,
     "metadata": {},
     "output_type": "execute_result"
    }
   ],
   "source": [
    "parsed_col_names = ['prefix', 'year', 'pcts_case_id', 'suffix', 'invalid_prefix']\n",
    "\n",
    "def parse_pcts(row):\n",
    "    try:\n",
    "        z = pcts_parser.PCTSCaseNumber(row.CASE_NBR)\n",
    "        return pd.Series([z.prefix, z.year, z.pcts_case_id, z.suffix, z.invalid_prefix], index = parsed_col_names)\n",
    "    except ValueError:\n",
    "        return pd.Series(['failed', 'failed', 'failed', 'failed', ''], index = parsed_col_names)\n",
    "\n",
    "parsed = df.apply(parse_pcts, axis = 1)\n",
    "\n",
    "df = pd.concat([df, parsed], axis = 1)\n",
    "\n",
    "df.head()"
   ]
  },
  {
   "cell_type": "code",
   "execution_count": 7,
   "metadata": {},
   "outputs": [
    {
     "data": {
      "text/plain": [
       "ZA         66128\n",
       "ENV        39391\n",
       "CPC        33263\n",
       "DIR        23897\n",
       "invalid    23467\n",
       "ADM         6871\n",
       "AA          5355\n",
       "TT          5316\n",
       "VTT         2450\n",
       "CHC         1792\n",
       "PAR         1600\n",
       "APCNV        505\n",
       "APCSV        430\n",
       "APCW         246\n",
       "APCC         178\n",
       "             148\n",
       "PS           134\n",
       "APCE          47\n",
       "APCS          25\n",
       "APCH          18\n",
       "HPO            1\n",
       "Name: prefix, dtype: int64"
      ]
     },
     "execution_count": 7,
     "metadata": {},
     "output_type": "execute_result"
    }
   ],
   "source": [
    "df.prefix.value_counts()"
   ]
  },
  {
   "cell_type": "code",
   "execution_count": 8,
   "metadata": {},
   "outputs": [
    {
     "data": {
      "text/plain": [
       "YV      5357\n",
       "CEX     3699\n",
       "PC      2577\n",
       "BZA     2486\n",
       "ZAI     1903\n",
       "ZV       928\n",
       "CE       916\n",
       "PM       912\n",
       "AIC      642\n",
       "SM       588\n",
       "CUZ      559\n",
       "CDP      491\n",
       "TR       425\n",
       "CUB      288\n",
       "EAF      284\n",
       "PMEX     283\n",
       "COC      230\n",
       "YC       171\n",
       "CAL      146\n",
       "FDC      128\n",
       "CUX       80\n",
       "SPR       80\n",
       "MND       74\n",
       "EIR       66\n",
       "CP        66\n",
       "DL        30\n",
       "ND        15\n",
       "BR        10\n",
       "PMV        9\n",
       "PMW        4\n",
       "DLM        4\n",
       "NP         2\n",
       "BOB        1\n",
       "ZQA        1\n",
       "CF         1\n",
       "S          1\n",
       "PWA        1\n",
       "DLEX       1\n",
       "CA         1\n",
       "FCD        1\n",
       "QPC        1\n",
       "GCEX       1\n",
       "T          1\n",
       "DU         1\n",
       "OC         1\n",
       "N          1\n",
       "Name: invalid_prefix, dtype: int64"
      ]
     },
     "execution_count": 8,
     "metadata": {},
     "output_type": "execute_result"
    }
   ],
   "source": [
    "# A lot of these seem to be suffixes.\n",
    "# What do we do when a suffix is listed as the prefix?\n",
    "df[df.prefix=='invalid'].invalid_prefix.value_counts()"
   ]
  },
  {
   "cell_type": "code",
   "execution_count": 13,
   "metadata": {},
   "outputs": [
    {
     "data": {
      "text/html": [
       "<div>\n",
       "<style scoped>\n",
       "    .dataframe tbody tr th:only-of-type {\n",
       "        vertical-align: middle;\n",
       "    }\n",
       "\n",
       "    .dataframe tbody tr th {\n",
       "        vertical-align: top;\n",
       "    }\n",
       "\n",
       "    .dataframe thead th {\n",
       "        text-align: right;\n",
       "    }\n",
       "</style>\n",
       "<table border=\"1\" class=\"dataframe\">\n",
       "  <thead>\n",
       "    <tr style=\"text-align: right;\">\n",
       "      <th></th>\n",
       "      <th>CASE_NBR</th>\n",
       "      <th>prefix</th>\n",
       "      <th>year</th>\n",
       "      <th>pcts_case_id</th>\n",
       "      <th>suffix</th>\n",
       "      <th>invalid_prefix</th>\n",
       "    </tr>\n",
       "  </thead>\n",
       "  <tbody>\n",
       "    <tr>\n",
       "      <th>71801</th>\n",
       "      <td>PMEX-2000-598</td>\n",
       "      <td>invalid</td>\n",
       "      <td>2000</td>\n",
       "      <td>598</td>\n",
       "      <td>None</td>\n",
       "      <td>PMEX</td>\n",
       "    </tr>\n",
       "    <tr>\n",
       "      <th>71819</th>\n",
       "      <td>PMEX-2000-1114</td>\n",
       "      <td>invalid</td>\n",
       "      <td>2000</td>\n",
       "      <td>1114</td>\n",
       "      <td>None</td>\n",
       "      <td>PMEX</td>\n",
       "    </tr>\n",
       "    <tr>\n",
       "      <th>71913</th>\n",
       "      <td>PMEX-1980-2456</td>\n",
       "      <td>invalid</td>\n",
       "      <td>1980</td>\n",
       "      <td>2456</td>\n",
       "      <td>None</td>\n",
       "      <td>PMEX</td>\n",
       "    </tr>\n",
       "    <tr>\n",
       "      <th>71914</th>\n",
       "      <td>PMEX-19XX-94</td>\n",
       "      <td>invalid</td>\n",
       "      <td>19XX</td>\n",
       "      <td>94</td>\n",
       "      <td>None</td>\n",
       "      <td>PMEX</td>\n",
       "    </tr>\n",
       "    <tr>\n",
       "      <th>71915</th>\n",
       "      <td>PMEX-19XX-1005</td>\n",
       "      <td>invalid</td>\n",
       "      <td>19XX</td>\n",
       "      <td>1005</td>\n",
       "      <td>None</td>\n",
       "      <td>PMEX</td>\n",
       "    </tr>\n",
       "  </tbody>\n",
       "</table>\n",
       "</div>"
      ],
      "text/plain": [
       "             CASE_NBR   prefix  year pcts_case_id suffix invalid_prefix\n",
       "71801   PMEX-2000-598  invalid  2000          598   None           PMEX\n",
       "71819  PMEX-2000-1114  invalid  2000         1114   None           PMEX\n",
       "71913  PMEX-1980-2456  invalid  1980         2456   None           PMEX\n",
       "71914    PMEX-19XX-94  invalid  19XX           94   None           PMEX\n",
       "71915  PMEX-19XX-1005  invalid  19XX         1005   None           PMEX"
      ]
     },
     "execution_count": 13,
     "metadata": {},
     "output_type": "execute_result"
    }
   ],
   "source": [
    "df[df.invalid_prefix=='PMEX'].head()"
   ]
  },
  {
   "cell_type": "code",
   "execution_count": 14,
   "metadata": {},
   "outputs": [
    {
     "data": {
      "text/html": [
       "<div>\n",
       "<style scoped>\n",
       "    .dataframe tbody tr th:only-of-type {\n",
       "        vertical-align: middle;\n",
       "    }\n",
       "\n",
       "    .dataframe tbody tr th {\n",
       "        vertical-align: top;\n",
       "    }\n",
       "\n",
       "    .dataframe thead th {\n",
       "        text-align: right;\n",
       "    }\n",
       "</style>\n",
       "<table border=\"1\" class=\"dataframe\">\n",
       "  <thead>\n",
       "    <tr style=\"text-align: right;\">\n",
       "      <th></th>\n",
       "      <th>CASE_NBR</th>\n",
       "      <th>prefix</th>\n",
       "      <th>year</th>\n",
       "      <th>pcts_case_id</th>\n",
       "      <th>suffix</th>\n",
       "      <th>invalid_prefix</th>\n",
       "    </tr>\n",
       "  </thead>\n",
       "  <tbody>\n",
       "    <tr>\n",
       "      <th>204</th>\n",
       "      <td>ZA-1987-848-ZAI TH</td>\n",
       "      <td></td>\n",
       "      <td></td>\n",
       "      <td></td>\n",
       "      <td>None</td>\n",
       "      <td></td>\n",
       "    </tr>\n",
       "    <tr>\n",
       "      <th>1717</th>\n",
       "      <td>ZA-1988-20198-PLAN APPROVAL</td>\n",
       "      <td></td>\n",
       "      <td></td>\n",
       "      <td></td>\n",
       "      <td>None</td>\n",
       "      <td></td>\n",
       "    </tr>\n",
       "    <tr>\n",
       "      <th>3194</th>\n",
       "      <td>-2000-2847</td>\n",
       "      <td></td>\n",
       "      <td></td>\n",
       "      <td></td>\n",
       "      <td>None</td>\n",
       "      <td></td>\n",
       "    </tr>\n",
       "    <tr>\n",
       "      <th>3971</th>\n",
       "      <td>CPC-1987-853-ZC/GPA</td>\n",
       "      <td></td>\n",
       "      <td></td>\n",
       "      <td></td>\n",
       "      <td>None</td>\n",
       "      <td></td>\n",
       "    </tr>\n",
       "    <tr>\n",
       "      <th>5739</th>\n",
       "      <td>CPC-1986-1093-ZC/GPA</td>\n",
       "      <td></td>\n",
       "      <td></td>\n",
       "      <td></td>\n",
       "      <td>None</td>\n",
       "      <td></td>\n",
       "    </tr>\n",
       "  </tbody>\n",
       "</table>\n",
       "</div>"
      ],
      "text/plain": [
       "                         CASE_NBR prefix year pcts_case_id suffix  \\\n",
       "204            ZA-1987-848-ZAI TH                            None   \n",
       "1717  ZA-1988-20198-PLAN APPROVAL                            None   \n",
       "3194                   -2000-2847                            None   \n",
       "3971          CPC-1987-853-ZC/GPA                            None   \n",
       "5739         CPC-1986-1093-ZC/GPA                            None   \n",
       "\n",
       "     invalid_prefix  \n",
       "204                  \n",
       "1717                 \n",
       "3194                 \n",
       "3971                 \n",
       "5739                 "
      ]
     },
     "execution_count": 14,
     "metadata": {},
     "output_type": "execute_result"
    }
   ],
   "source": [
    "df[df.prefix==''].head()"
   ]
  },
  {
   "cell_type": "code",
   "execution_count": 11,
   "metadata": {},
   "outputs": [
    {
     "name": "stdout",
     "output_type": "stream",
     "text": [
      "% with invalid_prefix: 0.1117806325794511\n",
      "# obs with invalid prefixes: 23615\n",
      "# invalid prefixes: 47\n"
     ]
    }
   ],
   "source": [
    "wrong = df[(df.prefix == \"\") | (df.prefix==\"invalid\")]\n",
    "print(f'% with invalid_prefix: {len(wrong) / len(df)}')\n",
    "print(f'# obs with invalid prefixes: {len(wrong)}')\n",
    "print(f'# invalid prefixes: {wrong.invalid_prefix.nunique()}')"
   ]
  },
  {
   "cell_type": "code",
   "execution_count": 12,
   "metadata": {},
   "outputs": [
    {
     "data": {
      "text/plain": [
       "'\\nText to check 1st regexr:\\nPC-1987-764-PC\\nCPC-1987-640-ZC\\nAPCNV-2007-848-BL-ZAA-ZAD\\nCPC-2007-3931-ZC-HD-CUB-CU-ZV-SPR\\nTT-61102\\nTT-61605-2A\\nCDP-1987-34\\n\\n\\nText to check 2nd regexr:\\nTT-61102\\nTT-61605-2A\\nVTT-61993-1A\\nVTT-68920-CC\\n\\n'"
      ]
     },
     "execution_count": 12,
     "metadata": {},
     "output_type": "execute_result"
    }
   ],
   "source": [
    "\"\"\"\n",
    "Text to check 1st regexr:\n",
    "PC-1987-764-PC\n",
    "CPC-1987-640-ZC\n",
    "APCNV-2007-848-BL-ZAA-ZAD\n",
    "CPC-2007-3931-ZC-HD-CUB-CU-ZV-SPR\n",
    "TT-61102\n",
    "TT-61605-2A\n",
    "CDP-1987-34\n",
    "\n",
    "\n",
    "Text to check 2nd regexr:\n",
    "TT-61102\n",
    "TT-61605-2A\n",
    "VTT-61993-1A\n",
    "VTT-68920-CC\n",
    "\n",
    "\"\"\""
   ]
  }
 ],
 "metadata": {
  "kernelspec": {
   "display_name": "Python 3",
   "language": "python",
   "name": "python3"
  },
  "language_info": {
   "codemirror_mode": {
    "name": "ipython",
    "version": 3
   },
   "file_extension": ".py",
   "mimetype": "text/x-python",
   "name": "python",
   "nbconvert_exporter": "python",
   "pygments_lexer": "ipython3",
   "version": "3.7.3"
  }
 },
 "nbformat": 4,
 "nbformat_minor": 4
}
