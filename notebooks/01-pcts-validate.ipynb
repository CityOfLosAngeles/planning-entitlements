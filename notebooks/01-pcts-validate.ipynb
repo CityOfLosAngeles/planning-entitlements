{
 "cells": [
  {
   "cell_type": "markdown",
   "metadata": {},
   "source": [
    "# PCTS Validate Counts\n",
    "* Parse PCTS case number, and use prefix and suffix to validate counts"
   ]
  },
  {
   "cell_type": "code",
   "execution_count": 1,
   "metadata": {},
   "outputs": [],
   "source": [
    "import numpy as np\n",
    "import pandas as pd\n",
    "import geopandas as gpd\n",
    "import intake\n",
    "import boto3\n",
    "import utils"
   ]
  },
  {
   "cell_type": "code",
   "execution_count": 2,
   "metadata": {},
   "outputs": [],
   "source": [
    "catalog = intake.open_catalog(\"../catalogs/*.yml\")\n",
    "\n",
    "s3 = boto3.client('s3')\n",
    "bucket_name = 'city-planning-entitlements'"
   ]
  },
  {
   "cell_type": "code",
   "execution_count": 3,
   "metadata": {},
   "outputs": [],
   "source": [
    "df = catalog.pcts.tCASE.read()"
   ]
  },
  {
   "cell_type": "code",
   "execution_count": 4,
   "metadata": {},
   "outputs": [],
   "source": [
    "# Subset by years and columns\n",
    "df = df[(df.CASE_YR_NBR >= 2010) & (df.CASE_YR_NBR <= 2020)][['CASE_ID', 'CASE_NBR', 'CASE_SEQ_NBR', 'CASE_YR_NBR', \n",
    "               'CASE_ACTION_ID', 'ADM_ACTION_DT']]"
   ]
  },
  {
   "cell_type": "code",
   "execution_count": 5,
   "metadata": {},
   "outputs": [
    {
     "data": {
      "text/html": [
       "<div>\n",
       "<style scoped>\n",
       "    .dataframe tbody tr th:only-of-type {\n",
       "        vertical-align: middle;\n",
       "    }\n",
       "\n",
       "    .dataframe tbody tr th {\n",
       "        vertical-align: top;\n",
       "    }\n",
       "\n",
       "    .dataframe thead th {\n",
       "        text-align: right;\n",
       "    }\n",
       "</style>\n",
       "<table border=\"1\" class=\"dataframe\">\n",
       "  <thead>\n",
       "    <tr style=\"text-align: right;\">\n",
       "      <th></th>\n",
       "      <th>CASE_ID</th>\n",
       "      <th>CASE_NBR</th>\n",
       "      <th>CASE_SEQ_NBR</th>\n",
       "      <th>CASE_YR_NBR</th>\n",
       "      <th>CASE_ACTION_ID</th>\n",
       "      <th>ADM_ACTION_DT</th>\n",
       "      <th>prefix</th>\n",
       "      <th>suffix</th>\n",
       "      <th>invalid_prefix</th>\n",
       "    </tr>\n",
       "  </thead>\n",
       "  <tbody>\n",
       "    <tr>\n",
       "      <th>451</th>\n",
       "      <td>193546.0</td>\n",
       "      <td>ZA-2013-3079-CEX</td>\n",
       "      <td>3079.0</td>\n",
       "      <td>2013.0</td>\n",
       "      <td>1.0</td>\n",
       "      <td>NaT</td>\n",
       "      <td>ZA</td>\n",
       "      <td>[CEX]</td>\n",
       "      <td></td>\n",
       "    </tr>\n",
       "    <tr>\n",
       "      <th>453</th>\n",
       "      <td>193547.0</td>\n",
       "      <td>AA-2013-3080-PMLA-SL</td>\n",
       "      <td>3080.0</td>\n",
       "      <td>2013.0</td>\n",
       "      <td>2.0</td>\n",
       "      <td>NaT</td>\n",
       "      <td>AA</td>\n",
       "      <td>[PMLA, SL]</td>\n",
       "      <td></td>\n",
       "    </tr>\n",
       "    <tr>\n",
       "      <th>956</th>\n",
       "      <td>179486.0</td>\n",
       "      <td>CHC-2010-1806-MA</td>\n",
       "      <td>1806.0</td>\n",
       "      <td>2010.0</td>\n",
       "      <td>NaN</td>\n",
       "      <td>NaT</td>\n",
       "      <td>CHC</td>\n",
       "      <td>[MA]</td>\n",
       "      <td></td>\n",
       "    </tr>\n",
       "    <tr>\n",
       "      <th>957</th>\n",
       "      <td>179489.0</td>\n",
       "      <td>AA-2010-1809-COC</td>\n",
       "      <td>1809.0</td>\n",
       "      <td>2010.0</td>\n",
       "      <td>1.0</td>\n",
       "      <td>NaT</td>\n",
       "      <td>AA</td>\n",
       "      <td>[COC]</td>\n",
       "      <td></td>\n",
       "    </tr>\n",
       "    <tr>\n",
       "      <th>1665</th>\n",
       "      <td>188521.0</td>\n",
       "      <td>ZA-2012-2430-CUB</td>\n",
       "      <td>2430.0</td>\n",
       "      <td>2012.0</td>\n",
       "      <td>1.0</td>\n",
       "      <td>NaT</td>\n",
       "      <td>ZA</td>\n",
       "      <td>[CUB]</td>\n",
       "      <td></td>\n",
       "    </tr>\n",
       "  </tbody>\n",
       "</table>\n",
       "</div>"
      ],
      "text/plain": [
       "       CASE_ID              CASE_NBR  CASE_SEQ_NBR  CASE_YR_NBR  \\\n",
       "451   193546.0      ZA-2013-3079-CEX        3079.0       2013.0   \n",
       "453   193547.0  AA-2013-3080-PMLA-SL        3080.0       2013.0   \n",
       "956   179486.0      CHC-2010-1806-MA        1806.0       2010.0   \n",
       "957   179489.0      AA-2010-1809-COC        1809.0       2010.0   \n",
       "1665  188521.0      ZA-2012-2430-CUB        2430.0       2012.0   \n",
       "\n",
       "      CASE_ACTION_ID ADM_ACTION_DT prefix      suffix invalid_prefix  \n",
       "451              1.0           NaT     ZA       [CEX]                 \n",
       "453              2.0           NaT     AA  [PMLA, SL]                 \n",
       "956              NaN           NaT    CHC        [MA]                 \n",
       "957              1.0           NaT     AA       [COC]                 \n",
       "1665             1.0           NaT     ZA       [CUB]                 "
      ]
     },
     "execution_count": 5,
     "metadata": {},
     "output_type": "execute_result"
    }
   ],
   "source": [
    "parsed_col_names = ['prefix', 'suffix', 'invalid_prefix']\n",
    "\n",
    "def parse_pcts(row):\n",
    "    try:\n",
    "        z = utils.PCTSCaseNumber(row.CASE_NBR)\n",
    "        return pd.Series([z.prefix, z.suffix, z.invalid_prefix], index = parsed_col_names)\n",
    "    except ValueError:\n",
    "        return pd.Series([z.prefix, z.suffix, z.invalid_prefix], index = parsed_col_names)\n",
    "\n",
    "parsed = df.apply(parse_pcts, axis = 1)\n",
    "\n",
    "df = pd.concat([df, parsed], axis = 1)\n",
    "\n",
    "df.head()"
   ]
  },
  {
   "cell_type": "code",
   "execution_count": 6,
   "metadata": {},
   "outputs": [
    {
     "data": {
      "text/plain": [
       "      52045\n",
       "PM        1\n",
       "Name: invalid_prefix, dtype: int64"
      ]
     },
     "execution_count": 6,
     "metadata": {},
     "output_type": "execute_result"
    }
   ],
   "source": [
    "df.invalid_prefix.value_counts()"
   ]
  },
  {
   "cell_type": "code",
   "execution_count": 7,
   "metadata": {},
   "outputs": [],
   "source": [
    "# Defining categories\n",
    "entitlement_prefix = ['AA', 'APCC', 'APCE', 'APCH',\n",
    "                      'APCNV', 'APCS', 'APCSV', 'APCW',\n",
    "                      'CPC', 'DIR', 'PS', 'TT', 'VTT', 'ZA']\n",
    "\n",
    "environmental_prefix = ['ENV']\n",
    "\n",
    "administrative_prefix = ['ADM']\n",
    "\n",
    "administrative_suffix = ['WTM', \n",
    "                         'ACI', 'CEX', 'CWC', 'CWNC', 'HPM', 'VSO', \n",
    "                         'A',\n",
    "                         'AIC']\n",
    "\n",
    "appeal_suffix = ['1A', '2A', '5A']"
   ]
  },
  {
   "cell_type": "code",
   "execution_count": 8,
   "metadata": {},
   "outputs": [
    {
     "data": {
      "text/plain": [
       "entitlement       26352\n",
       "environmental     16296\n",
       "administrative     6871\n",
       "                   2527\n",
       "Name: prefix_category, dtype: int64"
      ]
     },
     "execution_count": 8,
     "metadata": {},
     "output_type": "execute_result"
    }
   ],
   "source": [
    "def tag_prefix(row):\n",
    "    if row.prefix in entitlement_prefix:\n",
    "        return 'entitlement'\n",
    "    elif row.prefix in environmental_prefix:\n",
    "        return 'environmental'\n",
    "    elif row.prefix in administrative_prefix:\n",
    "        return 'administrative'\n",
    "    else: \n",
    "        return ''\n",
    "\n",
    "df['prefix_category'] = df.apply(tag_prefix, axis = 1)\n",
    "\n",
    "df.prefix_category.value_counts()"
   ]
  },
  {
   "cell_type": "code",
   "execution_count": 9,
   "metadata": {},
   "outputs": [
    {
     "data": {
      "text/html": [
       "<div>\n",
       "<style scoped>\n",
       "    .dataframe tbody tr th:only-of-type {\n",
       "        vertical-align: middle;\n",
       "    }\n",
       "\n",
       "    .dataframe tbody tr th {\n",
       "        vertical-align: top;\n",
       "    }\n",
       "\n",
       "    .dataframe thead th {\n",
       "        text-align: right;\n",
       "    }\n",
       "</style>\n",
       "<table border=\"1\" class=\"dataframe\">\n",
       "  <thead>\n",
       "    <tr style=\"text-align: right;\">\n",
       "      <th></th>\n",
       "      <th>CASE_ID</th>\n",
       "      <th>suffix</th>\n",
       "      <th>v1</th>\n",
       "      <th>v2</th>\n",
       "      <th>v3</th>\n",
       "      <th>v4</th>\n",
       "      <th>v5</th>\n",
       "      <th>v6</th>\n",
       "      <th>v7</th>\n",
       "      <th>v8</th>\n",
       "      <th>v9</th>\n",
       "      <th>v10</th>\n",
       "    </tr>\n",
       "  </thead>\n",
       "  <tbody>\n",
       "    <tr>\n",
       "      <th>451</th>\n",
       "      <td>193546.0</td>\n",
       "      <td>[CEX]</td>\n",
       "      <td>CEX</td>\n",
       "      <td>NaN</td>\n",
       "      <td>NaN</td>\n",
       "      <td>NaN</td>\n",
       "      <td>NaN</td>\n",
       "      <td>NaN</td>\n",
       "      <td>NaN</td>\n",
       "      <td>NaN</td>\n",
       "      <td>NaN</td>\n",
       "      <td>NaN</td>\n",
       "    </tr>\n",
       "    <tr>\n",
       "      <th>453</th>\n",
       "      <td>193547.0</td>\n",
       "      <td>[PMLA, SL]</td>\n",
       "      <td>PMLA</td>\n",
       "      <td>SL</td>\n",
       "      <td>NaN</td>\n",
       "      <td>NaN</td>\n",
       "      <td>NaN</td>\n",
       "      <td>NaN</td>\n",
       "      <td>NaN</td>\n",
       "      <td>NaN</td>\n",
       "      <td>NaN</td>\n",
       "      <td>NaN</td>\n",
       "    </tr>\n",
       "    <tr>\n",
       "      <th>956</th>\n",
       "      <td>179486.0</td>\n",
       "      <td>[MA]</td>\n",
       "      <td>MA</td>\n",
       "      <td>NaN</td>\n",
       "      <td>NaN</td>\n",
       "      <td>NaN</td>\n",
       "      <td>NaN</td>\n",
       "      <td>NaN</td>\n",
       "      <td>NaN</td>\n",
       "      <td>NaN</td>\n",
       "      <td>NaN</td>\n",
       "      <td>NaN</td>\n",
       "    </tr>\n",
       "    <tr>\n",
       "      <th>957</th>\n",
       "      <td>179489.0</td>\n",
       "      <td>[COC]</td>\n",
       "      <td>COC</td>\n",
       "      <td>NaN</td>\n",
       "      <td>NaN</td>\n",
       "      <td>NaN</td>\n",
       "      <td>NaN</td>\n",
       "      <td>NaN</td>\n",
       "      <td>NaN</td>\n",
       "      <td>NaN</td>\n",
       "      <td>NaN</td>\n",
       "      <td>NaN</td>\n",
       "    </tr>\n",
       "    <tr>\n",
       "      <th>1665</th>\n",
       "      <td>188521.0</td>\n",
       "      <td>[CUB]</td>\n",
       "      <td>CUB</td>\n",
       "      <td>NaN</td>\n",
       "      <td>NaN</td>\n",
       "      <td>NaN</td>\n",
       "      <td>NaN</td>\n",
       "      <td>NaN</td>\n",
       "      <td>NaN</td>\n",
       "      <td>NaN</td>\n",
       "      <td>NaN</td>\n",
       "      <td>NaN</td>\n",
       "    </tr>\n",
       "  </tbody>\n",
       "</table>\n",
       "</div>"
      ],
      "text/plain": [
       "       CASE_ID      suffix    v1   v2   v3   v4   v5   v6   v7   v8   v9  v10\n",
       "451   193546.0       [CEX]   CEX  NaN  NaN  NaN  NaN  NaN  NaN  NaN  NaN  NaN\n",
       "453   193547.0  [PMLA, SL]  PMLA   SL  NaN  NaN  NaN  NaN  NaN  NaN  NaN  NaN\n",
       "956   179486.0        [MA]    MA  NaN  NaN  NaN  NaN  NaN  NaN  NaN  NaN  NaN\n",
       "957   179489.0       [COC]   COC  NaN  NaN  NaN  NaN  NaN  NaN  NaN  NaN  NaN\n",
       "1665  188521.0       [CUB]   CUB  NaN  NaN  NaN  NaN  NaN  NaN  NaN  NaN  NaN"
      ]
     },
     "execution_count": 9,
     "metadata": {},
     "output_type": "execute_result"
    }
   ],
   "source": [
    "df2 = df[['CASE_ID', 'suffix']]\n",
    "\n",
    "suffix = df2.suffix.apply(pd.Series)\n",
    "\n",
    "suffix.rename(columns = {0: 'v1', 1: 'v2', 2: 'v3',\n",
    "                        3: 'v4', 4: 'v5', 5: 'v6',  6: 'v7', \n",
    "                        7: 'v8', 8: 'v9', 9: 'v10'}, inplace = True) \n",
    "\n",
    "df2 = pd.concat([df2, suffix], axis = 1)\n",
    "\n",
    "df2.head()"
   ]
  },
  {
   "cell_type": "code",
   "execution_count": 10,
   "metadata": {},
   "outputs": [],
   "source": [
    "#pd.wide_to_long(df2, stubnames = 'v', i = ['CASE_ID'], j = 'suffix').reset_index('CASE_ID')"
   ]
  },
  {
   "cell_type": "code",
   "execution_count": 11,
   "metadata": {},
   "outputs": [
    {
     "data": {
      "text/html": [
       "<div>\n",
       "<style scoped>\n",
       "    .dataframe tbody tr th:only-of-type {\n",
       "        vertical-align: middle;\n",
       "    }\n",
       "\n",
       "    .dataframe tbody tr th {\n",
       "        vertical-align: top;\n",
       "    }\n",
       "\n",
       "    .dataframe thead th {\n",
       "        text-align: right;\n",
       "    }\n",
       "</style>\n",
       "<table border=\"1\" class=\"dataframe\">\n",
       "  <thead>\n",
       "    <tr style=\"text-align: right;\">\n",
       "      <th></th>\n",
       "      <th>CASE_ID</th>\n",
       "      <th>variable</th>\n",
       "      <th>suffix</th>\n",
       "    </tr>\n",
       "  </thead>\n",
       "  <tbody>\n",
       "    <tr>\n",
       "      <th>636</th>\n",
       "      <td>177206.0</td>\n",
       "      <td>v1</td>\n",
       "      <td>CE</td>\n",
       "    </tr>\n",
       "    <tr>\n",
       "      <th>286</th>\n",
       "      <td>177207.0</td>\n",
       "      <td>v1</td>\n",
       "      <td>CWC</td>\n",
       "    </tr>\n",
       "    <tr>\n",
       "      <th>287</th>\n",
       "      <td>177208.0</td>\n",
       "      <td>v1</td>\n",
       "      <td>CWC</td>\n",
       "    </tr>\n",
       "    <tr>\n",
       "      <th>389</th>\n",
       "      <td>177210.0</td>\n",
       "      <td>v1</td>\n",
       "      <td>ZAA</td>\n",
       "    </tr>\n",
       "    <tr>\n",
       "      <th>390</th>\n",
       "      <td>177211.0</td>\n",
       "      <td>v1</td>\n",
       "      <td>CE</td>\n",
       "    </tr>\n",
       "  </tbody>\n",
       "</table>\n",
       "</div>"
      ],
      "text/plain": [
       "      CASE_ID variable suffix\n",
       "636  177206.0       v1     CE\n",
       "286  177207.0       v1    CWC\n",
       "287  177208.0       v1    CWC\n",
       "389  177210.0       v1    ZAA\n",
       "390  177211.0       v1     CE"
      ]
     },
     "execution_count": 11,
     "metadata": {},
     "output_type": "execute_result"
    }
   ],
   "source": [
    "# Reshape from wide to long\n",
    "# What's difference between pd.wide_to_long and pd.melt?\n",
    "\n",
    "df3 = df2.melt(id_vars = ['CASE_ID'], value_vars = ['v1', 'v2', 'v3', 'v4', 'v5', 'v6', 'v7', 'v8', 'v9', 'v10'], \n",
    "        var_name = 'variable', value_name = 'suffix')\n",
    "\n",
    "df3 = df3[df3.suffix.notna()].sort_values(['CASE_ID', 'variable'], ascending = [True, True])\n",
    "df3.head()"
   ]
  },
  {
   "cell_type": "code",
   "execution_count": 13,
   "metadata": {},
   "outputs": [],
   "source": [
    "def tag_suffix(row):\n",
    "    if row.suffix in administrative_suffix:\n",
    "        return 'administrative'\n",
    "    elif row.suffix in appeal_suffix:\n",
    "        return 'appeal'\n",
    "    else: \n",
    "        return ''\n",
    "\n",
    "df3['suffix_category'] = df3.apply(tag_suffix, axis = 1)"
   ]
  },
  {
   "cell_type": "code",
   "execution_count": 14,
   "metadata": {},
   "outputs": [
    {
     "data": {
      "text/plain": [
       "                  51882\n",
       "administrative    10076\n",
       "appeal             1458\n",
       "Name: suffix_category, dtype: int64"
      ]
     },
     "execution_count": 14,
     "metadata": {},
     "output_type": "execute_result"
    }
   ],
   "source": [
    "df3.suffix_category.value_counts()"
   ]
  },
  {
   "cell_type": "code",
   "execution_count": 15,
   "metadata": {},
   "outputs": [
    {
     "name": "stderr",
     "output_type": "stream",
     "text": [
      "/opt/conda/lib/python3.7/site-packages/ipykernel_launcher.py:4: SettingWithCopyWarning: \n",
      "A value is trying to be set on a copy of a slice from a DataFrame.\n",
      "Try using .loc[row_indexer,col_indexer] = value instead\n",
      "\n",
      "See the caveats in the documentation: http://pandas.pydata.org/pandas-docs/stable/user_guide/indexing.html#returning-a-view-versus-a-copy\n",
      "  after removing the cwd from sys.path.\n",
      "/opt/conda/lib/python3.7/site-packages/ipykernel_launcher.py:5: SettingWithCopyWarning: \n",
      "A value is trying to be set on a copy of a slice from a DataFrame.\n",
      "Try using .loc[row_indexer,col_indexer] = value instead\n",
      "\n",
      "See the caveats in the documentation: http://pandas.pydata.org/pandas-docs/stable/user_guide/indexing.html#returning-a-view-versus-a-copy\n",
      "  \"\"\"\n",
      "/opt/conda/lib/python3.7/site-packages/ipykernel_launcher.py:10: SettingWithCopyWarning: \n",
      "A value is trying to be set on a copy of a slice from a DataFrame.\n",
      "Try using .loc[row_indexer,col_indexer] = value instead\n",
      "\n",
      "See the caveats in the documentation: http://pandas.pydata.org/pandas-docs/stable/user_guide/indexing.html#returning-a-view-versus-a-copy\n",
      "  # Remove the CWD from sys.path while we load stuff.\n"
     ]
    }
   ],
   "source": [
    "df4 = df3[df3.suffix_category != '']\n",
    "\n",
    "\n",
    "df4['admin'] = df4.apply(lambda row: 1 if row.suffix_category=='administrative' else 0, axis = 1)\n",
    "df4['appeal'] = df4.apply(lambda row: 1 if row.suffix_category=='appeal' else 0, axis = 1)\n",
    "\n",
    "# In case there are duplicate CASE_ID, get the max value for admin and appeal for new dummy\n",
    "for col in ['admin', 'appeal']:\n",
    "    new_col = f'{col}_suffix'\n",
    "    df4[new_col] = df4.groupby('CASE_ID')[col].transform('max')"
   ]
  },
  {
   "cell_type": "code",
   "execution_count": 16,
   "metadata": {},
   "outputs": [],
   "source": [
    "df5 = df4[['CASE_ID', 'admin_suffix', 'appeal_suffix']].drop_duplicates()"
   ]
  },
  {
   "cell_type": "code",
   "execution_count": 17,
   "metadata": {},
   "outputs": [],
   "source": [
    "# Merge the 2 dummy variables in\n",
    "df = pd.merge(df, df5, on = 'CASE_ID', how = 'left')\n",
    "\n",
    "for col in ['admin_suffix', 'appeal_suffix']:\n",
    "    df[col] = df[col].fillna(0)"
   ]
  },
  {
   "cell_type": "markdown",
   "metadata": {},
   "source": [
    "## Get counts for each category\n",
    "* 2010-2019\n",
    "* 2015-2019"
   ]
  },
  {
   "cell_type": "code",
   "execution_count": 18,
   "metadata": {},
   "outputs": [],
   "source": [
    "df = df[df.CASE_YR_NBR <= 2019]"
   ]
  },
  {
   "cell_type": "code",
   "execution_count": 19,
   "metadata": {},
   "outputs": [
    {
     "name": "stdout",
     "output_type": "stream",
     "text": [
      "# ENTITLE 2010-2019: 26273\n",
      "# ENTITLE 2015-2019: 13355\n"
     ]
    }
   ],
   "source": [
    "# These are the most off...maybe need to add additional conditions where case cannot fall into ADM or ENV or APPEAL?\n",
    "print(f'# ENTITLE 2010-2019: {len(df[(df.CASE_YR_NBR >= 2010) & (df.prefix_category == \"entitlement\")])}')\n",
    "print(f'# ENTITLE 2015-2019: {len(df[(df.CASE_YR_NBR >= 2015) & (df.prefix_category == \"entitlement\")])}')"
   ]
  },
  {
   "cell_type": "code",
   "execution_count": 20,
   "metadata": {},
   "outputs": [
    {
     "name": "stdout",
     "output_type": "stream",
     "text": [
      "# ENV 2010-2019: 16232\n",
      "# ENV 2015-2019: 8687\n"
     ]
    }
   ],
   "source": [
    "print(f'# ENV 2010-2019: {len(df[(df.CASE_YR_NBR >= 2010) & (df.prefix_category == \"environmental\")])}')\n",
    "print(f'# ENV 2015-2019: {len(df[(df.CASE_YR_NBR >= 2015) & (df.prefix_category == \"environmental\")])}')"
   ]
  },
  {
   "cell_type": "code",
   "execution_count": 21,
   "metadata": {},
   "outputs": [
    {
     "name": "stdout",
     "output_type": "stream",
     "text": [
      "# ADM 2010-2019: 14310\n",
      "# ADM 2015-2019: 9754\n"
     ]
    }
   ],
   "source": [
    "print(f'# ADM 2010-2019: {len(df[(df.CASE_YR_NBR >= 2010) & ((df.prefix_category == \"administrative\") | (df.admin_suffix == 1))])}')\n",
    "print(f'# ADM 2015-2019: {len(df[(df.CASE_YR_NBR >= 2015) & ((df.prefix_category == \"administrative\") | (df.admin_suffix == 1))])}')"
   ]
  },
  {
   "cell_type": "code",
   "execution_count": 22,
   "metadata": {},
   "outputs": [
    {
     "name": "stdout",
     "output_type": "stream",
     "text": [
      "# APPEAL 2010-2019: 1457\n",
      "# APPEAL 2015-2019: 714\n"
     ]
    }
   ],
   "source": [
    "print(f'# APPEAL 2010-2019: {len(df[(df.CASE_YR_NBR >= 2010) & (df.appeal_suffix == 1)])}')\n",
    "print(f'# APPEAL 2015-2019: {len(df[(df.CASE_YR_NBR >= 2015) & (df.appeal_suffix == 1)])}')"
   ]
  },
  {
   "cell_type": "code",
   "execution_count": null,
   "metadata": {},
   "outputs": [],
   "source": []
  }
 ],
 "metadata": {
  "kernelspec": {
   "display_name": "Python 3",
   "language": "python",
   "name": "python3"
  },
  "language_info": {
   "codemirror_mode": {
    "name": "ipython",
    "version": 3
   },
   "file_extension": ".py",
   "mimetype": "text/x-python",
   "name": "python",
   "nbconvert_exporter": "python",
   "pygments_lexer": "ipython3",
   "version": "3.7.3"
  }
 },
 "nbformat": 4,
 "nbformat_minor": 4
}
