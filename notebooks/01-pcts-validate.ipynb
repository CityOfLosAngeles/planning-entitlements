{
 "cells": [
  {
   "cell_type": "markdown",
   "metadata": {},
   "source": [
    "# PCTS Validate Counts\n",
    "* Parse PCTS case number, and use prefix and suffix to validate counts"
   ]
  },
  {
   "cell_type": "code",
   "execution_count": 1,
   "metadata": {},
   "outputs": [],
   "source": [
    "import numpy as np\n",
    "import pandas as pd\n",
    "import geopandas as gpd\n",
    "import intake\n",
    "import boto3\n",
    "import utils"
   ]
  },
  {
   "cell_type": "code",
   "execution_count": 2,
   "metadata": {},
   "outputs": [],
   "source": [
    "catalog = intake.open_catalog(\"../catalogs/*.yml\")\n",
    "\n",
    "s3 = boto3.client('s3')\n",
    "bucket_name = 'city-planning-entitlements'"
   ]
  },
  {
   "cell_type": "markdown",
   "metadata": {},
   "source": [
    "## Sort out parent-child relationship and generate a case's entire history before dropping duplicates\n",
    "* APLC_ID or PARNT_CASE_ID\n",
    "* APLC_ID can be the same across cases with different prefixes. But, they were part of the same application.\n",
    "* Treat those as separate cases.\n",
    "* Same prefix, same case. APLC_ID isn't a perfect match, maybe APLC_ID + CASE_SEQ_NBR + CASE_YR_NBR?\n",
    "* Final decision: use PARNT_CASE_ID, and fill it in whenever it's missing, because those are the parent cases themselves\n",
    "* Parse case string for some big groups: PAR, ENV, APPEAL, ADM, ENTITLEMENT\n",
    "* bys parent_case: egen max for PAR, ENV, APPEAL, ADM\n",
    "* keep parent because it's ENTITLEMENT, but stores stuff from child cases"
   ]
  },
  {
   "cell_type": "code",
   "execution_count": 3,
   "metadata": {},
   "outputs": [],
   "source": [
    "cases = catalog.pcts.tCASE.read()\n",
    "app = catalog.pcts.tAPLC.read()"
   ]
  },
  {
   "cell_type": "code",
   "execution_count": 4,
   "metadata": {},
   "outputs": [],
   "source": [
    "cases1 = cases[['CASE_ID', 'APLC_ID', 'CASE_NBR', 'CASE_SEQ_NBR', 'CASE_YR_NBR', 'CASE_ACTION_ID', 'ADM_ACTION_DT', 'PARNT_CASE_ID']]\n",
    "app1 = app[['APLC_ID', 'PROJ_DESC_TXT']]"
   ]
  },
  {
   "cell_type": "code",
   "execution_count": 5,
   "metadata": {},
   "outputs": [],
   "source": [
    "keep_col = ['CASE_ID', 'CASE_NBR', 'CASE_SEQ_NBR', 'CASE_YR_NBR', 'APLC_ID', 'PARNT_CASE_ID',\n",
    "            'CASE_ACTION_ID', 'ADM_ACTION_DT']\n",
    "\n",
    "cases2 = cases1[(cases1.CASE_YR_NBR >= 2010) & (cases1.CASE_YR_NBR <= 2020)][keep_col]"
   ]
  },
  {
   "cell_type": "code",
   "execution_count": 6,
   "metadata": {},
   "outputs": [],
   "source": [
    "just_cases = pd.merge(cases2, app1, on = 'APLC_ID', how = 'inner', validate = 'm:1')"
   ]
  },
  {
   "cell_type": "code",
   "execution_count": 7,
   "metadata": {},
   "outputs": [
    {
     "data": {
      "text/plain": [
       "1    47101\n",
       "2     4032\n",
       "3      696\n",
       "4      160\n",
       "5       35\n",
       "9        9\n",
       "7        7\n",
       "6        6\n",
       "Name: max_obs, dtype: int64"
      ]
     },
     "execution_count": 7,
     "metadata": {},
     "output_type": "execute_result"
    }
   ],
   "source": [
    "view_cols = ['CASE_ID', 'CASE_NBR', 'CASE_SEQ_NBR', 'CASE_YR_NBR', 'APLC_ID', 'PARNT_CASE_ID', 'CASE_ACTION_ID']\n",
    "\n",
    "just_cases = just_cases[view_cols].drop_duplicates()\n",
    "\n",
    "just_cases['obs'] = just_cases.groupby(['CASE_SEQ_NBR', 'CASE_YR_NBR']).cumcount() + 1\n",
    "just_cases['max_obs'] = just_cases.groupby(['CASE_SEQ_NBR', 'CASE_YR_NBR'])['obs'].transform('max')\n",
    "\n",
    "just_cases.max_obs.value_counts()"
   ]
  },
  {
   "cell_type": "code",
   "execution_count": 8,
   "metadata": {},
   "outputs": [
    {
     "data": {
      "text/plain": [
       "True     49418\n",
       "False     2628\n",
       "Name: parent_is_null, dtype: int64"
      ]
     },
     "execution_count": 8,
     "metadata": {},
     "output_type": "execute_result"
    }
   ],
   "source": [
    "just_cases['parent_is_null'] = just_cases.PARNT_CASE_ID.isna()\n",
    "\n",
    "just_cases.parent_is_null.value_counts()"
   ]
  },
  {
   "cell_type": "code",
   "execution_count": 9,
   "metadata": {},
   "outputs": [],
   "source": [
    "just_cases['PARENT_CASE'] = just_cases.apply(lambda row: row.CASE_ID if row.parent_is_null == True \n",
    "                                             else row.PARNT_CASE_ID, axis = 1)"
   ]
  },
  {
   "cell_type": "code",
   "execution_count": 10,
   "metadata": {},
   "outputs": [
    {
     "data": {
      "text/html": [
       "<div>\n",
       "<style scoped>\n",
       "    .dataframe tbody tr th:only-of-type {\n",
       "        vertical-align: middle;\n",
       "    }\n",
       "\n",
       "    .dataframe tbody tr th {\n",
       "        vertical-align: top;\n",
       "    }\n",
       "\n",
       "    .dataframe thead th {\n",
       "        text-align: right;\n",
       "    }\n",
       "</style>\n",
       "<table border=\"1\" class=\"dataframe\">\n",
       "  <thead>\n",
       "    <tr style=\"text-align: right;\">\n",
       "      <th></th>\n",
       "      <th>CASE_ID</th>\n",
       "      <th>CASE_NBR</th>\n",
       "      <th>CASE_SEQ_NBR</th>\n",
       "      <th>CASE_YR_NBR</th>\n",
       "      <th>APLC_ID</th>\n",
       "      <th>PARNT_CASE_ID</th>\n",
       "      <th>CASE_ACTION_ID</th>\n",
       "      <th>obs</th>\n",
       "      <th>max_obs</th>\n",
       "      <th>parent_is_null</th>\n",
       "      <th>PARENT_CASE</th>\n",
       "    </tr>\n",
       "  </thead>\n",
       "  <tbody>\n",
       "    <tr>\n",
       "      <th>902</th>\n",
       "      <td>177239.0</td>\n",
       "      <td>ZA-2010-28-CU-CUB</td>\n",
       "      <td>28.0</td>\n",
       "      <td>2010.0</td>\n",
       "      <td>107560.0</td>\n",
       "      <td>NaN</td>\n",
       "      <td>11.0</td>\n",
       "      <td>1</td>\n",
       "      <td>3</td>\n",
       "      <td>True</td>\n",
       "      <td>177239.0</td>\n",
       "    </tr>\n",
       "    <tr>\n",
       "      <th>7867</th>\n",
       "      <td>185587.0</td>\n",
       "      <td>ZA-2010-28-CU-CUB-1A</td>\n",
       "      <td>28.0</td>\n",
       "      <td>2010.0</td>\n",
       "      <td>113450.0</td>\n",
       "      <td>177239.0</td>\n",
       "      <td>NaN</td>\n",
       "      <td>2</td>\n",
       "      <td>3</td>\n",
       "      <td>False</td>\n",
       "      <td>177239.0</td>\n",
       "    </tr>\n",
       "    <tr>\n",
       "      <th>23076</th>\n",
       "      <td>201852.0</td>\n",
       "      <td>ZA-2010-28-CU-CUB-EXT</td>\n",
       "      <td>28.0</td>\n",
       "      <td>2010.0</td>\n",
       "      <td>168927.0</td>\n",
       "      <td>177239.0</td>\n",
       "      <td>NaN</td>\n",
       "      <td>3</td>\n",
       "      <td>3</td>\n",
       "      <td>False</td>\n",
       "      <td>177239.0</td>\n",
       "    </tr>\n",
       "    <tr>\n",
       "      <th>1331</th>\n",
       "      <td>181967.0</td>\n",
       "      <td>ENV-2011-328-MND</td>\n",
       "      <td>328.0</td>\n",
       "      <td>2011.0</td>\n",
       "      <td>110982.0</td>\n",
       "      <td>NaN</td>\n",
       "      <td>NaN</td>\n",
       "      <td>1</td>\n",
       "      <td>2</td>\n",
       "      <td>True</td>\n",
       "      <td>181967.0</td>\n",
       "    </tr>\n",
       "    <tr>\n",
       "      <th>12652</th>\n",
       "      <td>188354.0</td>\n",
       "      <td>ENV-2011-328-MND-REC1</td>\n",
       "      <td>328.0</td>\n",
       "      <td>2011.0</td>\n",
       "      <td>115327.0</td>\n",
       "      <td>181967.0</td>\n",
       "      <td>NaN</td>\n",
       "      <td>2</td>\n",
       "      <td>2</td>\n",
       "      <td>False</td>\n",
       "      <td>181967.0</td>\n",
       "    </tr>\n",
       "    <tr>\n",
       "      <th>15566</th>\n",
       "      <td>195906.0</td>\n",
       "      <td>DIR-2014-886-SPP-SPPA</td>\n",
       "      <td>886.0</td>\n",
       "      <td>2014.0</td>\n",
       "      <td>120419.0</td>\n",
       "      <td>NaN</td>\n",
       "      <td>2.0</td>\n",
       "      <td>1</td>\n",
       "      <td>4</td>\n",
       "      <td>True</td>\n",
       "      <td>195906.0</td>\n",
       "    </tr>\n",
       "    <tr>\n",
       "      <th>20302</th>\n",
       "      <td>200623.0</td>\n",
       "      <td>DIR-2014-886-SPP-SPPA-1A</td>\n",
       "      <td>886.0</td>\n",
       "      <td>2014.0</td>\n",
       "      <td>123459.0</td>\n",
       "      <td>195906.0</td>\n",
       "      <td>NaN</td>\n",
       "      <td>2</td>\n",
       "      <td>4</td>\n",
       "      <td>False</td>\n",
       "      <td>195906.0</td>\n",
       "    </tr>\n",
       "    <tr>\n",
       "      <th>22541</th>\n",
       "      <td>201290.0</td>\n",
       "      <td>DIR-2014-886-SPP-SPPA-2A</td>\n",
       "      <td>886.0</td>\n",
       "      <td>2014.0</td>\n",
       "      <td>168552.0</td>\n",
       "      <td>195906.0</td>\n",
       "      <td>NaN</td>\n",
       "      <td>3</td>\n",
       "      <td>4</td>\n",
       "      <td>False</td>\n",
       "      <td>195906.0</td>\n",
       "    </tr>\n",
       "  </tbody>\n",
       "</table>\n",
       "</div>"
      ],
      "text/plain": [
       "        CASE_ID                  CASE_NBR  CASE_SEQ_NBR  CASE_YR_NBR  \\\n",
       "902    177239.0         ZA-2010-28-CU-CUB          28.0       2010.0   \n",
       "7867   185587.0      ZA-2010-28-CU-CUB-1A          28.0       2010.0   \n",
       "23076  201852.0     ZA-2010-28-CU-CUB-EXT          28.0       2010.0   \n",
       "1331   181967.0          ENV-2011-328-MND         328.0       2011.0   \n",
       "12652  188354.0     ENV-2011-328-MND-REC1         328.0       2011.0   \n",
       "15566  195906.0     DIR-2014-886-SPP-SPPA         886.0       2014.0   \n",
       "20302  200623.0  DIR-2014-886-SPP-SPPA-1A         886.0       2014.0   \n",
       "22541  201290.0  DIR-2014-886-SPP-SPPA-2A         886.0       2014.0   \n",
       "\n",
       "        APLC_ID  PARNT_CASE_ID  CASE_ACTION_ID  obs  max_obs  parent_is_null  \\\n",
       "902    107560.0            NaN            11.0    1        3            True   \n",
       "7867   113450.0       177239.0             NaN    2        3           False   \n",
       "23076  168927.0       177239.0             NaN    3        3           False   \n",
       "1331   110982.0            NaN             NaN    1        2            True   \n",
       "12652  115327.0       181967.0             NaN    2        2           False   \n",
       "15566  120419.0            NaN             2.0    1        4            True   \n",
       "20302  123459.0       195906.0             NaN    2        4           False   \n",
       "22541  168552.0       195906.0             NaN    3        4           False   \n",
       "\n",
       "       PARENT_CASE  \n",
       "902       177239.0  \n",
       "7867      177239.0  \n",
       "23076     177239.0  \n",
       "1331      181967.0  \n",
       "12652     181967.0  \n",
       "15566     195906.0  \n",
       "20302     195906.0  \n",
       "22541     195906.0  "
      ]
     },
     "execution_count": 10,
     "metadata": {},
     "output_type": "execute_result"
    }
   ],
   "source": [
    "sample_parents = [195906, 177239, 181967]\n",
    "\n",
    "just_cases[just_cases.PARENT_CASE.isin(sample_parents)].sort_values(['PARENT_CASE', 'CASE_ID'])"
   ]
  },
  {
   "cell_type": "code",
   "execution_count": 11,
   "metadata": {},
   "outputs": [
    {
     "data": {
      "text/html": [
       "<div>\n",
       "<style scoped>\n",
       "    .dataframe tbody tr th:only-of-type {\n",
       "        vertical-align: middle;\n",
       "    }\n",
       "\n",
       "    .dataframe tbody tr th {\n",
       "        vertical-align: top;\n",
       "    }\n",
       "\n",
       "    .dataframe thead th {\n",
       "        text-align: right;\n",
       "    }\n",
       "</style>\n",
       "<table border=\"1\" class=\"dataframe\">\n",
       "  <thead>\n",
       "    <tr style=\"text-align: right;\">\n",
       "      <th></th>\n",
       "      <th>CASE_ID</th>\n",
       "      <th>CASE_NBR</th>\n",
       "      <th>CASE_SEQ_NBR</th>\n",
       "      <th>CASE_YR_NBR</th>\n",
       "      <th>APLC_ID</th>\n",
       "      <th>PARNT_CASE_ID</th>\n",
       "      <th>CASE_ACTION_ID</th>\n",
       "      <th>obs</th>\n",
       "      <th>max_obs</th>\n",
       "      <th>parent_is_null</th>\n",
       "      <th>PARENT_CASE</th>\n",
       "      <th>prefix</th>\n",
       "      <th>suffix</th>\n",
       "      <th>invalid_prefix</th>\n",
       "    </tr>\n",
       "  </thead>\n",
       "  <tbody>\n",
       "    <tr>\n",
       "      <th>0</th>\n",
       "      <td>193546.0</td>\n",
       "      <td>ZA-2013-3079-CEX</td>\n",
       "      <td>3079.0</td>\n",
       "      <td>2013.0</td>\n",
       "      <td>118838.0</td>\n",
       "      <td>NaN</td>\n",
       "      <td>1.0</td>\n",
       "      <td>1</td>\n",
       "      <td>1</td>\n",
       "      <td>True</td>\n",
       "      <td>193546.0</td>\n",
       "      <td>ZA</td>\n",
       "      <td>[CEX]</td>\n",
       "      <td></td>\n",
       "    </tr>\n",
       "    <tr>\n",
       "      <th>1</th>\n",
       "      <td>193547.0</td>\n",
       "      <td>AA-2013-3080-PMLA-SL</td>\n",
       "      <td>3080.0</td>\n",
       "      <td>2013.0</td>\n",
       "      <td>118839.0</td>\n",
       "      <td>NaN</td>\n",
       "      <td>2.0</td>\n",
       "      <td>1</td>\n",
       "      <td>1</td>\n",
       "      <td>True</td>\n",
       "      <td>193547.0</td>\n",
       "      <td>AA</td>\n",
       "      <td>[PMLA, SL]</td>\n",
       "      <td></td>\n",
       "    </tr>\n",
       "    <tr>\n",
       "      <th>2</th>\n",
       "      <td>193548.0</td>\n",
       "      <td>ENV-2013-3081-MND</td>\n",
       "      <td>3081.0</td>\n",
       "      <td>2013.0</td>\n",
       "      <td>118839.0</td>\n",
       "      <td>NaN</td>\n",
       "      <td>NaN</td>\n",
       "      <td>1</td>\n",
       "      <td>1</td>\n",
       "      <td>True</td>\n",
       "      <td>193548.0</td>\n",
       "      <td>ENV</td>\n",
       "      <td>[MND]</td>\n",
       "      <td></td>\n",
       "    </tr>\n",
       "    <tr>\n",
       "      <th>3</th>\n",
       "      <td>193549.0</td>\n",
       "      <td>ZA-2013-3082-ZAA</td>\n",
       "      <td>3082.0</td>\n",
       "      <td>2013.0</td>\n",
       "      <td>118839.0</td>\n",
       "      <td>NaN</td>\n",
       "      <td>2.0</td>\n",
       "      <td>1</td>\n",
       "      <td>1</td>\n",
       "      <td>True</td>\n",
       "      <td>193549.0</td>\n",
       "      <td>ZA</td>\n",
       "      <td>[ZAA]</td>\n",
       "      <td></td>\n",
       "    </tr>\n",
       "    <tr>\n",
       "      <th>4</th>\n",
       "      <td>179486.0</td>\n",
       "      <td>CHC-2010-1806-MA</td>\n",
       "      <td>1806.0</td>\n",
       "      <td>2010.0</td>\n",
       "      <td>109184.0</td>\n",
       "      <td>NaN</td>\n",
       "      <td>NaN</td>\n",
       "      <td>1</td>\n",
       "      <td>1</td>\n",
       "      <td>True</td>\n",
       "      <td>179486.0</td>\n",
       "      <td>CHC</td>\n",
       "      <td>[MA]</td>\n",
       "      <td></td>\n",
       "    </tr>\n",
       "  </tbody>\n",
       "</table>\n",
       "</div>"
      ],
      "text/plain": [
       "    CASE_ID              CASE_NBR  CASE_SEQ_NBR  CASE_YR_NBR   APLC_ID  \\\n",
       "0  193546.0      ZA-2013-3079-CEX        3079.0       2013.0  118838.0   \n",
       "1  193547.0  AA-2013-3080-PMLA-SL        3080.0       2013.0  118839.0   \n",
       "2  193548.0     ENV-2013-3081-MND        3081.0       2013.0  118839.0   \n",
       "3  193549.0      ZA-2013-3082-ZAA        3082.0       2013.0  118839.0   \n",
       "4  179486.0      CHC-2010-1806-MA        1806.0       2010.0  109184.0   \n",
       "\n",
       "   PARNT_CASE_ID  CASE_ACTION_ID  obs  max_obs  parent_is_null  PARENT_CASE  \\\n",
       "0            NaN             1.0    1        1            True     193546.0   \n",
       "1            NaN             2.0    1        1            True     193547.0   \n",
       "2            NaN             NaN    1        1            True     193548.0   \n",
       "3            NaN             2.0    1        1            True     193549.0   \n",
       "4            NaN             NaN    1        1            True     179486.0   \n",
       "\n",
       "  prefix      suffix invalid_prefix  \n",
       "0     ZA       [CEX]                 \n",
       "1     AA  [PMLA, SL]                 \n",
       "2    ENV       [MND]                 \n",
       "3     ZA       [ZAA]                 \n",
       "4    CHC        [MA]                 "
      ]
     },
     "execution_count": 11,
     "metadata": {},
     "output_type": "execute_result"
    }
   ],
   "source": [
    "parsed_col_names = ['prefix', 'suffix', 'invalid_prefix']\n",
    "\n",
    "def parse_pcts(row):\n",
    "    try:\n",
    "        z = utils.PCTSCaseNumber(row.CASE_NBR)\n",
    "        return pd.Series([z.prefix, z.suffix, z.invalid_prefix], index = parsed_col_names)\n",
    "    except ValueError:\n",
    "        return pd.Series([z.prefix, z.suffix, z.invalid_prefix], index = parsed_col_names)\n",
    "\n",
    "parsed = just_cases.apply(parse_pcts, axis = 1)\n",
    "\n",
    "just_cases = pd.concat([just_cases, parsed], axis = 1)\n",
    "\n",
    "just_cases.head()"
   ]
  },
  {
   "cell_type": "code",
   "execution_count": 12,
   "metadata": {},
   "outputs": [],
   "source": [
    "# Nones are throwing up error when we loop through to tag different suffixes\n",
    "just_cases.suffix = just_cases.suffix.fillna('')"
   ]
  },
  {
   "cell_type": "code",
   "execution_count": 13,
   "metadata": {},
   "outputs": [],
   "source": [
    "# Loop through possible suffixes we want to create dummies for\n",
    "# if case contains 1 or more of them, tag appeal as 1. doesn't matter if there's multiple appeals. \n",
    "just_cases['APPEAL'] = just_cases.apply(lambda row: True if (len((set(row.suffix) & {'1A', '2A', '5A'})) > 0) else False, axis = 1)\n",
    "\n",
    " \n",
    "for s in ['ADD', 'CC', 'EXT', 'M', 'PA', 'REC', 'SUP']:\n",
    "    just_cases[s] = just_cases.apply(lambda row: True if s in row.suffix else False, axis = 1)\n",
    "    \n",
    "for p in ['ENV', 'PAR']:\n",
    "    just_cases[p] = just_cases.apply(lambda row: True if p in row.prefix else False, axis = 1)    \n",
    "\n",
    "    \n",
    "def adm_groups(row):\n",
    "    # Define all the ADM cases, which are a combination of prefix-suffix (sometime in the past) or just prefix (more recent years)\n",
    "    cond1 = row.prefix == 'AA' and 'WIM' in row.suffix\n",
    "    cond2 = row.prefix == 'DIR' and (len((set(row.suffix) & {'ACI', 'CEX', 'CWC', 'CWNC', 'HPM', 'VSO'})) > 0)\n",
    "    cond3 = row.prefix == 'PS' and 'A' in row.suffix\n",
    "    cond4 = row.prefix == 'ZA' and (len((set(row.suffix) & {'AIC', 'CEX'})) > 0)\n",
    "    \n",
    "    if (cond1) or (cond2) or (cond3) or (cond4):\n",
    "        return True\n",
    "    if 'ADM' in row.prefix:\n",
    "        return True\n",
    "    else:\n",
    "        return False    \n",
    "    \n",
    "just_cases['ADM'] = just_cases.apply(adm_groups, axis = 1)"
   ]
  },
  {
   "cell_type": "code",
   "execution_count": 14,
   "metadata": {},
   "outputs": [
    {
     "data": {
      "text/plain": [
       "'APPEAL'"
      ]
     },
     "metadata": {},
     "output_type": "display_data"
    },
    {
     "data": {
      "text/plain": [
       "0    50589\n",
       "1     1457\n",
       "Name: APPEAL, dtype: int64"
      ]
     },
     "metadata": {},
     "output_type": "display_data"
    },
    {
     "data": {
      "text/plain": [
       "'ADD'"
      ]
     },
     "metadata": {},
     "output_type": "display_data"
    },
    {
     "data": {
      "text/plain": [
       "0    52046\n",
       "Name: ADD, dtype: int64"
      ]
     },
     "metadata": {},
     "output_type": "display_data"
    },
    {
     "data": {
      "text/plain": [
       "'CC'"
      ]
     },
     "metadata": {},
     "output_type": "display_data"
    },
    {
     "data": {
      "text/plain": [
       "0    51992\n",
       "1       54\n",
       "Name: CC, dtype: int64"
      ]
     },
     "metadata": {},
     "output_type": "display_data"
    },
    {
     "data": {
      "text/plain": [
       "'EXT'"
      ]
     },
     "metadata": {},
     "output_type": "display_data"
    },
    {
     "data": {
      "text/plain": [
       "0    51783\n",
       "1      263\n",
       "Name: EXT, dtype: int64"
      ]
     },
     "metadata": {},
     "output_type": "display_data"
    },
    {
     "data": {
      "text/plain": [
       "'M'"
      ]
     },
     "metadata": {},
     "output_type": "display_data"
    },
    {
     "data": {
      "text/plain": [
       "0    52046\n",
       "Name: M, dtype: int64"
      ]
     },
     "metadata": {},
     "output_type": "display_data"
    },
    {
     "data": {
      "text/plain": [
       "'PA'"
      ]
     },
     "metadata": {},
     "output_type": "display_data"
    },
    {
     "data": {
      "text/plain": [
       "0    52046\n",
       "Name: PA, dtype: int64"
      ]
     },
     "metadata": {},
     "output_type": "display_data"
    },
    {
     "data": {
      "text/plain": [
       "'REC'"
      ]
     },
     "metadata": {},
     "output_type": "display_data"
    },
    {
     "data": {
      "text/plain": [
       "0    52046\n",
       "Name: REC, dtype: int64"
      ]
     },
     "metadata": {},
     "output_type": "display_data"
    },
    {
     "data": {
      "text/plain": [
       "'SUP'"
      ]
     },
     "metadata": {},
     "output_type": "display_data"
    },
    {
     "data": {
      "text/plain": [
       "0    52046\n",
       "Name: SUP, dtype: int64"
      ]
     },
     "metadata": {},
     "output_type": "display_data"
    },
    {
     "data": {
      "text/plain": [
       "'ENV'"
      ]
     },
     "metadata": {},
     "output_type": "display_data"
    },
    {
     "data": {
      "text/plain": [
       "0    35750\n",
       "1    16296\n",
       "Name: ENV, dtype: int64"
      ]
     },
     "metadata": {},
     "output_type": "display_data"
    },
    {
     "data": {
      "text/plain": [
       "'PAR'"
      ]
     },
     "metadata": {},
     "output_type": "display_data"
    },
    {
     "data": {
      "text/plain": [
       "0    50446\n",
       "1     1600\n",
       "Name: PAR, dtype: int64"
      ]
     },
     "metadata": {},
     "output_type": "display_data"
    },
    {
     "data": {
      "text/plain": [
       "'ADM'"
      ]
     },
     "metadata": {},
     "output_type": "display_data"
    },
    {
     "data": {
      "text/plain": [
       "0    37604\n",
       "1    14442\n",
       "Name: ADM, dtype: int64"
      ]
     },
     "metadata": {},
     "output_type": "display_data"
    }
   ],
   "source": [
    "all_dummies = ['APPEAL', 'ADD', 'CC', 'EXT', 'M', 'PA', 'REC', 'SUP', 'ENV', 'PAR', 'ADM']\n",
    "\n",
    "# Groupby the parent CASE_ID and then find the max for all the prefix and suffix dummies\n",
    "for col in all_dummies:\n",
    "    just_cases[col] = just_cases[col].astype(int)\n",
    "    display(col)\n",
    "    display(just_cases[col].value_counts())\n",
    "    just_cases[col] = just_cases.groupby('PARENT_CASE')[col].transform('max')"
   ]
  },
  {
   "cell_type": "code",
   "execution_count": 15,
   "metadata": {},
   "outputs": [
    {
     "data": {
      "text/plain": [
       "0    48721\n",
       "1     3179\n",
       "2      142\n",
       "3        4\n",
       "Name: num_suffix, dtype: int64"
      ]
     },
     "metadata": {},
     "output_type": "display_data"
    },
    {
     "data": {
      "text/plain": [
       "1    32338\n",
       "0    19708\n",
       "Name: num_prefix, dtype: int64"
      ]
     },
     "metadata": {},
     "output_type": "display_data"
    }
   ],
   "source": [
    "all_suffix = ['APPEAL', 'ADD', 'CC', 'EXT', 'M', 'PA', 'REC', 'SUP']\n",
    "all_prefix = ['ENV', 'PAR', 'ADM']\n",
    "\n",
    "just_cases['num_suffix'] = just_cases[all_suffix].sum(axis = 1)\n",
    "just_cases['num_prefix'] = just_cases[all_prefix].sum(axis = 1)\n",
    "\n",
    "display(just_cases.num_suffix.value_counts())\n",
    "display(just_cases.num_prefix.value_counts())"
   ]
  },
  {
   "cell_type": "code",
   "execution_count": 16,
   "metadata": {},
   "outputs": [
    {
     "name": "stderr",
     "output_type": "stream",
     "text": [
      "/opt/conda/lib/python3.7/site-packages/pandas/core/frame.py:4238: SettingWithCopyWarning: \n",
      "A value is trying to be set on a copy of a slice from a DataFrame\n",
      "\n",
      "See the caveats in the documentation: http://pandas.pydata.org/pandas-docs/stable/user_guide/indexing.html#returning-a-view-versus-a-copy\n",
      "  return super().rename(**kwargs)\n"
     ]
    }
   ],
   "source": [
    "# Only keep parent cases\n",
    "just_parent = just_cases[just_cases.parent_is_null == True]\n",
    "\n",
    "# Rename columns\n",
    "just_parent.rename(columns = {'ADD': 'addendum', 'CC': 'conditional_clearance',\n",
    "                            'EXT': 'extension', 'M': 'modification', \n",
    "                            'PA': 'plan_approval', 'REC': 'reconsideration', 'SUP': 'supplemental',\n",
    "                            'APPEAL': 'appeal', 'ADM': 'admin', 'ENV': 'env', 'PAR': 'pre_application_review'}, inplace = True)\n",
    "\n",
    "# Drop columns\n",
    "drop = ['obs', 'max_obs', 'parent_is_null', 'PARNT_CASE_ID']\n",
    "\n",
    "just_parent = just_parent.drop(columns = drop)"
   ]
  },
  {
   "cell_type": "code",
   "execution_count": 17,
   "metadata": {},
   "outputs": [
    {
     "data": {
      "text/plain": [
       "Index(['CASE_ID', 'CASE_NBR', 'CASE_SEQ_NBR', 'CASE_YR_NBR', 'APLC_ID',\n",
       "       'CASE_ACTION_ID', 'PARENT_CASE', 'prefix', 'suffix', 'invalid_prefix',\n",
       "       'appeal', 'addendum', 'conditional_clearance', 'extension',\n",
       "       'modification', 'plan_approval', 'reconsideration', 'supplemental',\n",
       "       'env', 'pre_application_review', 'admin', 'num_suffix', 'num_prefix'],\n",
       "      dtype='object')"
      ]
     },
     "execution_count": 17,
     "metadata": {},
     "output_type": "execute_result"
    }
   ],
   "source": [
    "just_parent.columns"
   ]
  },
  {
   "cell_type": "code",
   "execution_count": 18,
   "metadata": {},
   "outputs": [],
   "source": [
    "cols_to_export = ['CASE_ID', 'PARENT_CASE', 'appeal', 'addendum', 'conditional_clearance',\n",
    "                  'extension', 'modification', 'plan_approval', 'reconsideration', 'supplemental', \n",
    "                  'env', 'pre_application_review', 'admin']\n",
    "\n",
    "just_parent[cols_to_export].to_parquet('../data/parent_cases.parquet')"
   ]
  },
  {
   "cell_type": "markdown",
   "metadata": {},
   "source": [
    "## Get counts for each category\n",
    "* 2010-2019\n",
    "* 2015-2019"
   ]
  },
  {
   "cell_type": "code",
   "execution_count": 19,
   "metadata": {},
   "outputs": [],
   "source": [
    "df2 = just_parent[just_parent.CASE_YR_NBR <= 2019]"
   ]
  },
  {
   "cell_type": "code",
   "execution_count": 20,
   "metadata": {},
   "outputs": [],
   "source": [
    "entitlement_prefix = ['AA', 'APCC', 'APCE', 'APCH', 'APCNV', \n",
    "                  'APCS', 'APCSV', 'APCW', 'CPC', 'DIR', 'PS', 'TT', 'VTT', 'ZA']"
   ]
  },
  {
   "cell_type": "code",
   "execution_count": 21,
   "metadata": {},
   "outputs": [
    {
     "name": "stdout",
     "output_type": "stream",
     "text": [
      "# ENTITLE 2010-2019: 16513\n",
      "# ENTITLE 2015-2019: 9386\n"
     ]
    }
   ],
   "source": [
    "# Entitlements should exclude the other categories, but can include appeals, because appeals need an entitlement to appeal\n",
    "cond1 = (df2.admin == 0)\n",
    "cond2 = (df2.env == 0)\n",
    "cond3 = (df2.pre_application_review == 0)\n",
    "\n",
    "print(f'# ENTITLE 2010-2019: {len(df2[(df2.CASE_YR_NBR >= 2010) & (df2.prefix.isin(entitlement_prefix)) & cond1 & cond2 & cond3])}')\n",
    "print(f'# ENTITLE 2015-2019: {len(df2[(df2.CASE_YR_NBR >= 2015) & (df2.prefix.isin(entitlement_prefix)) & cond1 & cond2 & cond3])}')"
   ]
  },
  {
   "cell_type": "code",
   "execution_count": 22,
   "metadata": {},
   "outputs": [
    {
     "name": "stdout",
     "output_type": "stream",
     "text": [
      "# ENV 2010-2019: 15812\n",
      "# ENV 2015-2019: 8588\n"
     ]
    }
   ],
   "source": [
    "print(f'# ENV 2010-2019: {len(df2[(df2.CASE_YR_NBR >= 2010) & (df2.env == 1)])}')\n",
    "print(f'# ENV 2015-2019: {len(df2[(df2.CASE_YR_NBR >= 2015) & (df2.env == 1)])}')"
   ]
  },
  {
   "cell_type": "code",
   "execution_count": 23,
   "metadata": {},
   "outputs": [
    {
     "name": "stdout",
     "output_type": "stream",
     "text": [
      "# ADM 2010-2019: 14210\n",
      "# ADM 2015-2019: 9746\n"
     ]
    }
   ],
   "source": [
    "print(f'# ADM 2010-2019: {len(df2[(df2.CASE_YR_NBR >= 2010) & (df2.admin == 1)])}')\n",
    "print(f'# ADM 2015-2019: {len(df2[(df2.CASE_YR_NBR >= 2015) & (df2.admin == 1)])}')"
   ]
  },
  {
   "cell_type": "code",
   "execution_count": 24,
   "metadata": {},
   "outputs": [
    {
     "name": "stdout",
     "output_type": "stream",
     "text": [
      "# APPEAL 2010-2019: 1296\n",
      "# APPEAL 2015-2019: 646\n"
     ]
    }
   ],
   "source": [
    "print(f'# APPEAL 2010-2019: {len(df2[(df2.CASE_YR_NBR >= 2010) & (df2.appeal == 1)])}')\n",
    "print(f'# APPEAL 2015-2019: {len(df2[(df2.CASE_YR_NBR >= 2015) & (df2.appeal == 1)])}')"
   ]
  },
  {
   "cell_type": "code",
   "execution_count": 25,
   "metadata": {},
   "outputs": [
    {
     "name": "stdout",
     "output_type": "stream",
     "text": [
      "# PAR 2010-2019: 1563\n",
      "# PAR 2015-2019: 1563\n"
     ]
    }
   ],
   "source": [
    "print(f'# PAR 2010-2019: {len(df2[(df2.CASE_YR_NBR >= 2010) & (df2.pre_application_review == 1)])}')\n",
    "print(f'# PAR 2015-2019: {len(df2[(df2.CASE_YR_NBR >= 2015) & (df2.pre_application_review == 1)])}')"
   ]
  },
  {
   "cell_type": "code",
   "execution_count": null,
   "metadata": {},
   "outputs": [],
   "source": []
  }
 ],
 "metadata": {
  "kernelspec": {
   "display_name": "Python 3",
   "language": "python",
   "name": "python3"
  },
  "language_info": {
   "codemirror_mode": {
    "name": "ipython",
    "version": 3
   },
   "file_extension": ".py",
   "mimetype": "text/x-python",
   "name": "python",
   "nbconvert_exporter": "python",
   "pygments_lexer": "ipython3",
   "version": "3.7.3"
  }
 },
 "nbformat": 4,
 "nbformat_minor": 4
}
