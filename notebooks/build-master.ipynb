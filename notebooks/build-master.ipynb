{
 "cells": [
  {
   "cell_type": "markdown",
   "metadata": {},
   "source": [
    "# Entitlements in TOC-eligible parcels"
   ]
  },
  {
   "cell_type": "code",
   "execution_count": 1,
   "metadata": {},
   "outputs": [],
   "source": [
    "import numpy as np\n",
    "import pandas as pd\n",
    "import geopandas as gpd\n",
    "import intake\n",
    "import boto3"
   ]
  },
  {
   "cell_type": "code",
   "execution_count": 2,
   "metadata": {},
   "outputs": [],
   "source": [
    "catalog = intake.open_catalog(\"../catalogs/*.yml\")\n",
    "\n",
    "s3 = boto3.client('s3')\n",
    "bucket_name = 'city-planning-entitlements'"
   ]
  },
  {
   "cell_type": "code",
   "execution_count": null,
   "metadata": {},
   "outputs": [],
   "source": [
    "#pd.set_option('display.max_columns', None)\n",
    "#pd.set_option('display.max_rows', None)"
   ]
  },
  {
   "cell_type": "code",
   "execution_count": 72,
   "metadata": {},
   "outputs": [
    {
     "data": {
      "text/plain": [
       "0    442562\n",
       "1    148994\n",
       "3    110153\n",
       "2     65653\n",
       "4      7844\n",
       "Name: TOC_Tier, dtype: int64"
      ]
     },
     "metadata": {},
     "output_type": "display_data"
    }
   ],
   "source": [
    "parcels = gpd.read_file(f'zip+s3://{bucket_name}/gis/intermediate/la_parcels_toc.zip')\n",
    "\n",
    "display(parcels.TOC_Tier.value_counts())\n",
    "parcels = parcels[parcels.TOC_Tier > 0]"
   ]
  },
  {
   "cell_type": "code",
   "execution_count": null,
   "metadata": {},
   "outputs": [],
   "source": [
    "cases = catalog.pcts.tCASE.read()\n",
    "app = catalog.pcts.tAPLC.read()\n",
    "geo_info = catalog.pcts.tPROP_GEO_INFO.read()\n",
    "la_prop = catalog.pcts.tLA_PROP.read()"
   ]
  },
  {
   "cell_type": "code",
   "execution_count": null,
   "metadata": {},
   "outputs": [],
   "source": [
    "cases1 = cases[['CASE_ID', 'APLC_ID', 'CASE_NBR', 'CASE_SEQ_NBR', 'CASE_YR_NBR', 'CASE_ACTION_ID', 'ADM_ACTION_DT']]\n",
    "app1 = app[['APLC_ID', 'PROJ_DESC_TXT']]\n",
    "geo_info1 = geo_info[['CASE_ID', 'PROP_ID']]\n",
    "la_prop1 = la_prop[la_prop.ASSR_PRCL_NBR.notna()][['PROP_ID', 'ASSR_PRCL_NBR']]"
   ]
  },
  {
   "cell_type": "code",
   "execution_count": null,
   "metadata": {},
   "outputs": [],
   "source": [
    "print(f'# obs in cases1: {len(cases1)}')\n",
    "print(f'# unique CASE_ID in cases1: {cases1.CASE_ID.nunique()}')\n",
    "display(cases1.head())"
   ]
  },
  {
   "cell_type": "code",
   "execution_count": null,
   "metadata": {},
   "outputs": [],
   "source": [
    "print(f'# obs in geo_info1: {len(geo_info1)}')\n",
    "print(f'# unique CASE_ID in geo_info1: {geo_info1.CASE_ID.nunique()}')\n",
    "print(f'# unique PROP_ID in geo_info1: {geo_info1.PROP_ID.nunique()}')\n",
    "display(geo_info1.head())\n",
    "\n",
    "# There can be multiple CASE_IDs that take place on same PROP_ID. Makes sense, over time, the same parcel might have multiple entitlements\n",
    "# Also makes sense for there to be multiple PROP_IDs that appear here"
   ]
  },
  {
   "cell_type": "code",
   "execution_count": null,
   "metadata": {},
   "outputs": [],
   "source": [
    "print(f'# obs in la_prop1: {len(la_prop1)}')\n",
    "print(f'# unique PROP_ID in la_prop1: {la_prop1.PROP_ID.nunique()}')\n",
    "print(f'# unique ASSR_PRCL_NBR in la_prop1: {la_prop1.ASSR_PRCL_NBR.nunique()}')\n",
    "display(la_prop1.head())\n",
    "\n",
    "# If PROP_ID is unique...that means every time a parcel has an entitlemnet, a unique PROP_ID is generated\n",
    "# That would explain why the same ASSR_PRCL_NBR has multiple PROP_IDs"
   ]
  },
  {
   "cell_type": "markdown",
   "metadata": {},
   "source": [
    "## Only keep cases from 2016 and after"
   ]
  },
  {
   "cell_type": "code",
   "execution_count": null,
   "metadata": {},
   "outputs": [],
   "source": [
    "cases2 = cases1[cases1.CASE_YR_NBR >= 2016]"
   ]
  },
  {
   "cell_type": "code",
   "execution_count": null,
   "metadata": {},
   "outputs": [],
   "source": [
    "print(f'# obs in cases1: {len(cases1)}')\n",
    "print(f'# obs in cases2: {len(cases2)}')\n",
    "print(f'# unique CASE_ID in cases2: {cases2.CASE_ID.nunique()}')\n",
    "print(f'# unique CASE_SEQ_NBR in cases2: {cases2.CASE_SEQ_NBR.nunique()}')\n",
    "display(cases2.head())"
   ]
  },
  {
   "cell_type": "code",
   "execution_count": null,
   "metadata": {},
   "outputs": [],
   "source": [
    "cases2[cases2.CASE_SEQ_NBR==1169].sort_values(['CASE_SEQ_NBR', 'CASE_YR_NBR'], ascending = [True, True])"
   ]
  },
  {
   "cell_type": "markdown",
   "metadata": {},
   "source": [
    "## Merge with geo_info, la_prop, parcels to ID the parcels that are TOC-eligible and have entitlements"
   ]
  },
  {
   "cell_type": "code",
   "execution_count": null,
   "metadata": {},
   "outputs": [],
   "source": [
    "m1 = pd.merge(cases2, geo_info1, on = 'CASE_ID', how = 'inner', validate = '1:m')"
   ]
  },
  {
   "cell_type": "code",
   "execution_count": null,
   "metadata": {},
   "outputs": [],
   "source": [
    "m2 = pd.merge(m1, la_prop1, on = 'PROP_ID', how = 'inner', validate = 'm:1')"
   ]
  },
  {
   "cell_type": "code",
   "execution_count": null,
   "metadata": {},
   "outputs": [],
   "source": [
    "print(f'# obs in m2: {len(m2)}')\n",
    "print(f'# unique CASE_ID in m2: {m2.CASE_ID.nunique()}')\n",
    "print(f'# unique CASE_SEQ_NBR in m2: {m2.CASE_SEQ_NBR.nunique()}')\n",
    "print(f'# unique PROP_ID in m2: {m2.PROP_ID.nunique()}')\n",
    "print(f'# unique ASSR_PRCL_NBR in m2: {m2.ASSR_PRCL_NBR.nunique()}')\n",
    "display(m2.head())"
   ]
  },
  {
   "cell_type": "code",
   "execution_count": null,
   "metadata": {},
   "outputs": [],
   "source": [
    "m3 = pd.merge(m2, parcels, left_on = 'ASSR_PRCL_NBR', right_on = 'AIN', how = 'inner', validate = 'm:1')"
   ]
  },
  {
   "cell_type": "code",
   "execution_count": null,
   "metadata": {},
   "outputs": [],
   "source": [
    "print(f'# obs in m3: {len(m3)}')\n",
    "print(f'# unique CASE_ID in m3: {m3.CASE_ID.nunique()}')\n",
    "print(f'# unique CASE_SEQ_NBR in m3: {m3.CASE_SEQ_NBR.nunique()}')\n",
    "print(f'# unique PROP_ID in m3: {m3.PROP_ID.nunique()}')\n",
    "print(f'# unique ASSR_PRCL_NBR in m3: {m3.ASSR_PRCL_NBR.nunique()}')\n",
    "display(m3.head())"
   ]
  },
  {
   "cell_type": "markdown",
   "metadata": {},
   "source": [
    "## Join parcels to zoning\n",
    "* Subset by eligible zones, see how many TOC-eligible parcels also fall into eligible zones"
   ]
  },
  {
   "cell_type": "code",
   "execution_count": null,
   "metadata": {},
   "outputs": [],
   "source": [
    "zoning = gpd.read_file(f's3://{bucket_name}/gis/raw/parsed_zoning.geojson')"
   ]
  },
  {
   "cell_type": "code",
   "execution_count": null,
   "metadata": {},
   "outputs": [],
   "source": [
    "eligible_zones = ['R2', 'R3', 'RAS3', 'R4', 'RAS4', 'R5', \n",
    "                  'RD1.5', 'RD2', 'RD3', 'RD4', 'RD5', 'RD6', \n",
    "                  'C1', 'C2', 'C4', 'C5']\n",
    "\n",
    "eligible_zoning = zoning[zoning.zone_class.isin(eligible_zones)]"
   ]
  },
  {
   "cell_type": "code",
   "execution_count": 73,
   "metadata": {},
   "outputs": [],
   "source": [
    "parcels['centroid'] = parcels.geometry.centroid"
   ]
  },
  {
   "cell_type": "code",
   "execution_count": 74,
   "metadata": {},
   "outputs": [],
   "source": [
    "parcels2 = parcels.set_geometry('centroid')\n",
    "parcels2 = parcels2[['AIN', 'TOC_Tier', 'centroid']]\n",
    "parcels2['x'] = parcels2.centroid.x\n",
    "parcels2['y'] = parcels2.centroid.y"
   ]
  },
  {
   "cell_type": "code",
   "execution_count": null,
   "metadata": {},
   "outputs": [],
   "source": [
    "parcels2['obs'] = parcels2.groupby(['x', 'y']).cumcount() + 1\n",
    "parcels2['num_obs'] = parcels2.groupby(['x', 'y'])['obs'].transform('max')"
   ]
  },
  {
   "cell_type": "code",
   "execution_count": null,
   "metadata": {},
   "outputs": [],
   "source": [
    "parcels2.to_file(driver = 'GeoJSON', filename = '../gis/parcels_with_toc.geojson')"
   ]
  },
  {
   "cell_type": "code",
   "execution_count": 92,
   "metadata": {},
   "outputs": [],
   "source": [
    "parcels.drop(columns = 'centroid').to_file(driver = 'GeoJSON', filename = '../gis/toc_eligible_parcels.geojson')"
   ]
  },
  {
   "cell_type": "code",
   "execution_count": null,
   "metadata": {},
   "outputs": [],
   "source": [
    "parcels_with_zoning = gpd.sjoin(parcels2, eligible_zoning, how = 'inner', op = 'intersects').drop(columns = ['index_right'])"
   ]
  },
  {
   "cell_type": "code",
   "execution_count": null,
   "metadata": {},
   "outputs": [],
   "source": [
    "print(f'# obs in parcels2: {len(parcels2)}')\n",
    "print(f'# obs in parcels_with_zoning: {len(parcels_with_zoning)}')\n",
    "print(f'# unique AIN in parcels2: {parcels2.AIN.nunique()}')\n",
    "print(f'# unique AIN in parcels_with_zoning: {parcels_with_zoning.AIN.nunique()}')\n",
    "display(parcels_with_zoning.head())"
   ]
  },
  {
   "cell_type": "code",
   "execution_count": null,
   "metadata": {},
   "outputs": [],
   "source": [
    "# Merge in zoning and TOC info about the parcel\n",
    "m4 = pd.merge(m3, parcels_with_zoning, on = 'AIN', how = 'inner')"
   ]
  },
  {
   "cell_type": "code",
   "execution_count": null,
   "metadata": {},
   "outputs": [],
   "source": [
    "# Drop duplicates\n",
    "display(m4.num_obs.value_counts())\n",
    "m5 = m4[m4.obs == 1]"
   ]
  },
  {
   "cell_type": "code",
   "execution_count": null,
   "metadata": {},
   "outputs": [],
   "source": [
    "# Merge in project description\n",
    "m6 = pd.merge(m5, app1, on = 'APLC_ID', how = 'inner', validate = 'm:1')"
   ]
  },
  {
   "cell_type": "code",
   "execution_count": null,
   "metadata": {},
   "outputs": [],
   "source": [
    "# For same CASE_SEQ_NBR, keep the max CASE_ID\n",
    "m6['max_CASE_ID'] = m6.groupby(['CASE_SEQ_NBR', 'CASE_YR_NBR'])['CASE_ID'].transform('max')\n",
    "m6 = m6[m6.CASE_ID == m6.max_CASE_ID]"
   ]
  },
  {
   "cell_type": "code",
   "execution_count": null,
   "metadata": {},
   "outputs": [],
   "source": [
    "drop = ['centroid', 'x', 'y', 'obs', 'num_obs', \n",
    "        'CASE_ID', 'max_CASE_ID', 'APLC_ID', 'ASSR_PRCL_NBR', 'PROP_ID', \n",
    "       'TOC_Tier_y']\n",
    "\n",
    "m6 = m6.drop(columns = drop)\n",
    "m6.rename(columns = {'TOC_Tier_x':'TOC_Tier'}, inplace = True)"
   ]
  },
  {
   "cell_type": "code",
   "execution_count": null,
   "metadata": {},
   "outputs": [],
   "source": [
    "m6.drop(columns = 'geometry').to_parquet('../gis/m6.parquet')"
   ]
  },
  {
   "cell_type": "code",
   "execution_count": null,
   "metadata": {},
   "outputs": [],
   "source": [
    "print(f'# obs in m6: {len(m6)}')\n",
    "print(f'# unique CASE_SEQ_NBR in m6: {m6.CASE_SEQ_NBR.nunique()}')\n",
    "display(m6.sort_values(['CASE_SEQ_NBR', 'CASE_YR_NBR']).head(10))"
   ]
  },
  {
   "cell_type": "code",
   "execution_count": null,
   "metadata": {},
   "outputs": [],
   "source": [
    "import pcts_parser\n",
    "\n",
    "parsed_col_names = ['suffix']\n",
    "\n",
    "def parse_pcts(row):\n",
    "    try:\n",
    "        z = pcts_parser.PCTSCaseNumber(row.CASE_NBR)\n",
    "        return pd.Series([z.suffix], index = parsed_col_names)\n",
    "    except ValueError:\n",
    "        return pd.Series([z.suffix], index = parsed_col_names)\n",
    "\n",
    "parsed = m6.apply(parse_pcts, axis = 1)\n",
    "\n",
    "m7 = pd.concat([m6, parsed], axis = 1)"
   ]
  },
  {
   "cell_type": "code",
   "execution_count": null,
   "metadata": {},
   "outputs": [],
   "source": [
    "m7.drop(columns = 'geometry').to_parquet('../gis/m7.parquet')"
   ]
  },
  {
   "cell_type": "markdown",
   "metadata": {},
   "source": [
    "## Additional subsetting for for TOC-eligible parcels"
   ]
  },
  {
   "cell_type": "code",
   "execution_count": 3,
   "metadata": {},
   "outputs": [],
   "source": [
    "m7 = pd.read_parquet('../gis/m7.parquet')"
   ]
  },
  {
   "cell_type": "code",
   "execution_count": 56,
   "metadata": {},
   "outputs": [
    {
     "data": {
      "text/plain": [
       "<matplotlib.axes._subplots.AxesSubplot at 0x7f94e11c7be0>"
      ]
     },
     "execution_count": 56,
     "metadata": {},
     "output_type": "execute_result"
    },
    {
     "data": {
      "image/png": "[encoded data removed]",
      "text/plain": [
       "<Figure size 432x288 with 1 Axes>"
      ]
     },
     "metadata": {
      "needs_background": "light"
     },
     "output_type": "display_data"
    }
   ],
   "source": [
    "m7[(m7.CASE_NBR.str.contains('TOC')) & (m7.ADM_ACTION_DT.dt.year <= 2020) & (m7.ADM_ACTION_DT.dt.year >=2016)].ADM_ACTION_DT.hist()"
   ]
  },
  {
   "cell_type": "code",
   "execution_count": 7,
   "metadata": {},
   "outputs": [],
   "source": [
    "# Say approved cases are ones with ADM_ACTION_DT\n",
    "m8 = m7[m7.ADM_ACTION_DT.notna()]"
   ]
  },
  {
   "cell_type": "code",
   "execution_count": 10,
   "metadata": {},
   "outputs": [
    {
     "name": "stderr",
     "output_type": "stream",
     "text": [
      "/opt/conda/lib/python3.7/site-packages/ipykernel_launcher.py:1: SettingWithCopyWarning: \n",
      "A value is trying to be set on a copy of a slice from a DataFrame.\n",
      "Try using .loc[row_indexer,col_indexer] = value instead\n",
      "\n",
      "See the caveats in the documentation: http://pandas.pydata.org/pandas-docs/stable/user_guide/indexing.html#returning-a-view-versus-a-copy\n",
      "  \"\"\"Entry point for launching an IPython kernel.\n"
     ]
    }
   ],
   "source": [
    "# Create new id variable that is just seq number and year. Need a way to get rid of duplicate cases.\n",
    "m8['id'] = m8.CASE_SEQ_NBR.astype(int).astype(str) + '_' + m8.CASE_YR_NBR.astype(int).astype(str)"
   ]
  },
  {
   "cell_type": "code",
   "execution_count": 4,
   "metadata": {},
   "outputs": [],
   "source": [
    "\"\"\" \n",
    "split = m7.suffix.apply(pd.Series)\n",
    "split.rename(columns = {0: 'one', 1: 'two', 2: 'three',\n",
    "                        3: 'four', 4: 'five', 5: 'six',  6: 'seven'}, inplace = True)  \n",
    "\n",
    "for col in ['one', 'two', 'three', 'fou7', 'five', 'six', 'seven']:\n",
    "    split[col] = split[col].fillna('')\n",
    "    \n",
    "m7 = pd.concat([m7, split], axis = 1)\n",
    "\"\"\""
   ]
  },
  {
   "cell_type": "code",
   "execution_count": 15,
   "metadata": {},
   "outputs": [
    {
     "name": "stderr",
     "output_type": "stream",
     "text": [
      "/opt/conda/lib/python3.7/site-packages/ipykernel_launcher.py:2: SettingWithCopyWarning: \n",
      "A value is trying to be set on a copy of a slice from a DataFrame.\n",
      "Try using .loc[row_indexer,col_indexer] = value instead\n",
      "\n",
      "See the caveats in the documentation: http://pandas.pydata.org/pandas-docs/stable/user_guide/indexing.html#returning-a-view-versus-a-copy\n",
      "  \n"
     ]
    }
   ],
   "source": [
    "# Tag case as TOC or not\n",
    "m8['is_TOC'] = m8.CASE_NBR.str.contains('TOC').astype(int)"
   ]
  },
  {
   "cell_type": "code",
   "execution_count": 18,
   "metadata": {},
   "outputs": [],
   "source": [
    "keep_col = ['CASE_NBR', 'id', 'CASE_ACTION_ID', 'ADM_ACTION_DT', 'AIN', 'TOC_Tier', 'zone_class', \n",
    "           'suffix', 'is_TOC']\n",
    "\n",
    "m8 = m8[keep_col]\n",
    "\n",
    "m8.to_parquet('../gis/m8.parquet')"
   ]
  },
  {
   "cell_type": "code",
   "execution_count": 20,
   "metadata": {},
   "outputs": [],
   "source": [
    "m8 = pd.read_parquet('../gis/m8.parquet')"
   ]
  },
  {
   "cell_type": "markdown",
   "metadata": {},
   "source": [
    "## Make into parcel level df"
   ]
  },
  {
   "cell_type": "code",
   "execution_count": 21,
   "metadata": {},
   "outputs": [
    {
     "data": {
      "text/html": [
       "<div>\n",
       "<style scoped>\n",
       "    .dataframe tbody tr th:only-of-type {\n",
       "        vertical-align: middle;\n",
       "    }\n",
       "\n",
       "    .dataframe tbody tr th {\n",
       "        vertical-align: top;\n",
       "    }\n",
       "\n",
       "    .dataframe thead th {\n",
       "        text-align: right;\n",
       "    }\n",
       "</style>\n",
       "<table border=\"1\" class=\"dataframe\">\n",
       "  <thead>\n",
       "    <tr style=\"text-align: right;\">\n",
       "      <th></th>\n",
       "      <th>CASE_NBR</th>\n",
       "      <th>id</th>\n",
       "      <th>CASE_ACTION_ID</th>\n",
       "      <th>ADM_ACTION_DT</th>\n",
       "      <th>AIN</th>\n",
       "      <th>TOC_Tier</th>\n",
       "      <th>zone_class</th>\n",
       "      <th>suffix</th>\n",
       "      <th>is_TOC</th>\n",
       "    </tr>\n",
       "  </thead>\n",
       "  <tbody>\n",
       "    <tr>\n",
       "      <th>24</th>\n",
       "      <td>PAR-2018-4361-TOC</td>\n",
       "      <td>4361_2018</td>\n",
       "      <td>14.0</td>\n",
       "      <td>2018-09-20</td>\n",
       "      <td>2321007011</td>\n",
       "      <td>1</td>\n",
       "      <td>R3</td>\n",
       "      <td>[TOC]</td>\n",
       "      <td>1</td>\n",
       "    </tr>\n",
       "    <tr>\n",
       "      <th>25</th>\n",
       "      <td>ADM-2018-2684-TOC</td>\n",
       "      <td>2684_2018</td>\n",
       "      <td>13.0</td>\n",
       "      <td>2018-05-09</td>\n",
       "      <td>2321007011</td>\n",
       "      <td>1</td>\n",
       "      <td>R3</td>\n",
       "      <td>[TOC]</td>\n",
       "      <td>1</td>\n",
       "    </tr>\n",
       "    <tr>\n",
       "      <th>28</th>\n",
       "      <td>ADM-2020-50-RDP</td>\n",
       "      <td>50_2020</td>\n",
       "      <td>1.0</td>\n",
       "      <td>2020-01-03</td>\n",
       "      <td>5547019010</td>\n",
       "      <td>3</td>\n",
       "      <td>C4</td>\n",
       "      <td>[RDP]</td>\n",
       "      <td>0</td>\n",
       "    </tr>\n",
       "    <tr>\n",
       "      <th>29</th>\n",
       "      <td>ADM-2020-48-RDP</td>\n",
       "      <td>48_2020</td>\n",
       "      <td>1.0</td>\n",
       "      <td>2020-01-03</td>\n",
       "      <td>2350006029</td>\n",
       "      <td>4</td>\n",
       "      <td>R4</td>\n",
       "      <td>[RDP]</td>\n",
       "      <td>0</td>\n",
       "    </tr>\n",
       "    <tr>\n",
       "      <th>30</th>\n",
       "      <td>ADM-2020-49-RDP</td>\n",
       "      <td>49_2020</td>\n",
       "      <td>1.0</td>\n",
       "      <td>2020-01-03</td>\n",
       "      <td>2350006029</td>\n",
       "      <td>4</td>\n",
       "      <td>R4</td>\n",
       "      <td>[RDP]</td>\n",
       "      <td>0</td>\n",
       "    </tr>\n",
       "  </tbody>\n",
       "</table>\n",
       "</div>"
      ],
      "text/plain": [
       "             CASE_NBR         id  CASE_ACTION_ID ADM_ACTION_DT         AIN  \\\n",
       "24  PAR-2018-4361-TOC  4361_2018            14.0    2018-09-20  2321007011   \n",
       "25  ADM-2018-2684-TOC  2684_2018            13.0    2018-05-09  2321007011   \n",
       "28    ADM-2020-50-RDP    50_2020             1.0    2020-01-03  5547019010   \n",
       "29    ADM-2020-48-RDP    48_2020             1.0    2020-01-03  2350006029   \n",
       "30    ADM-2020-49-RDP    49_2020             1.0    2020-01-03  2350006029   \n",
       "\n",
       "    TOC_Tier zone_class suffix  is_TOC  \n",
       "24         1         R3  [TOC]       1  \n",
       "25         1         R3  [TOC]       1  \n",
       "28         3         C4  [RDP]       0  \n",
       "29         4         R4  [RDP]       0  \n",
       "30         4         R4  [RDP]       0  "
      ]
     },
     "execution_count": 21,
     "metadata": {},
     "output_type": "execute_result"
    }
   ],
   "source": [
    "m8.head()"
   ]
  },
  {
   "cell_type": "code",
   "execution_count": 26,
   "metadata": {},
   "outputs": [],
   "source": [
    "m9 = m8.groupby(['AIN', 'TOC_Tier', 'zone_class', 'is_TOC']).agg({'id':'count'}).reset_index()"
   ]
  },
  {
   "cell_type": "code",
   "execution_count": 31,
   "metadata": {},
   "outputs": [],
   "source": [
    "# Make wide\n",
    "m9['num_TOC'] = m9.apply(lambda row: row.id if row.is_TOC == 1 else np.nan, axis = 1) \n",
    "m9['num_nonTOC'] = m9.apply(lambda row: row.id if row.is_TOC == 0 else np.nan, axis = 1)"
   ]
  },
  {
   "cell_type": "code",
   "execution_count": 40,
   "metadata": {},
   "outputs": [],
   "source": [
    "# If there are multiple obs for the same AIN, fill the NaNs with the max from the other column, so we can just drop duplicates after\n",
    "for col in ['num_TOC', 'num_nonTOC']:\n",
    "    m9[col] = m9[col].fillna(m9.groupby('AIN')[col].transform('max'))"
   ]
  },
  {
   "cell_type": "code",
   "execution_count": 52,
   "metadata": {},
   "outputs": [
    {
     "name": "stderr",
     "output_type": "stream",
     "text": [
      "/opt/conda/lib/python3.7/site-packages/ipykernel_launcher.py:4: SettingWithCopyWarning: \n",
      "A value is trying to be set on a copy of a slice from a DataFrame.\n",
      "Try using .loc[row_indexer,col_indexer] = value instead\n",
      "\n",
      "See the caveats in the documentation: http://pandas.pydata.org/pandas-docs/stable/user_guide/indexing.html#returning-a-view-versus-a-copy\n",
      "  after removing the cwd from sys.path.\n"
     ]
    }
   ],
   "source": [
    "m10 = m9.drop_duplicates(subset = ['AIN', 'TOC_Tier', 'zone_class', 'num_TOC', 'num_nonTOC'])\n",
    "\n",
    "for col in ['num_TOC', 'num_nonTOC']:\n",
    "    m10[col] = m10[col].fillna(0).astype(int)\n",
    "\n",
    "m10 = m10.drop(columns = ['is_TOC', 'id'])"
   ]
  },
  {
   "cell_type": "code",
   "execution_count": 53,
   "metadata": {},
   "outputs": [
    {
     "data": {
      "text/html": [
       "<div>\n",
       "<style scoped>\n",
       "    .dataframe tbody tr th:only-of-type {\n",
       "        vertical-align: middle;\n",
       "    }\n",
       "\n",
       "    .dataframe tbody tr th {\n",
       "        vertical-align: top;\n",
       "    }\n",
       "\n",
       "    .dataframe thead th {\n",
       "        text-align: right;\n",
       "    }\n",
       "</style>\n",
       "<table border=\"1\" class=\"dataframe\">\n",
       "  <thead>\n",
       "    <tr style=\"text-align: right;\">\n",
       "      <th></th>\n",
       "      <th>AIN</th>\n",
       "      <th>TOC_Tier</th>\n",
       "      <th>zone_class</th>\n",
       "      <th>num_TOC</th>\n",
       "      <th>num_nonTOC</th>\n",
       "    </tr>\n",
       "  </thead>\n",
       "  <tbody>\n",
       "    <tr>\n",
       "      <th>0</th>\n",
       "      <td>2023007025</td>\n",
       "      <td>2</td>\n",
       "      <td>C1</td>\n",
       "      <td>0</td>\n",
       "      <td>2</td>\n",
       "    </tr>\n",
       "    <tr>\n",
       "      <th>1</th>\n",
       "      <td>2038040006</td>\n",
       "      <td>1</td>\n",
       "      <td>C2</td>\n",
       "      <td>0</td>\n",
       "      <td>2</td>\n",
       "    </tr>\n",
       "    <tr>\n",
       "      <th>2</th>\n",
       "      <td>2111018013</td>\n",
       "      <td>2</td>\n",
       "      <td>C2</td>\n",
       "      <td>0</td>\n",
       "      <td>14</td>\n",
       "    </tr>\n",
       "    <tr>\n",
       "      <th>3</th>\n",
       "      <td>2111019002</td>\n",
       "      <td>2</td>\n",
       "      <td>C2</td>\n",
       "      <td>0</td>\n",
       "      <td>1</td>\n",
       "    </tr>\n",
       "    <tr>\n",
       "      <th>4</th>\n",
       "      <td>2111025011</td>\n",
       "      <td>2</td>\n",
       "      <td>C2</td>\n",
       "      <td>0</td>\n",
       "      <td>3</td>\n",
       "    </tr>\n",
       "  </tbody>\n",
       "</table>\n",
       "</div>"
      ],
      "text/plain": [
       "          AIN  TOC_Tier zone_class  num_TOC  num_nonTOC\n",
       "0  2023007025         2         C1        0           2\n",
       "1  2038040006         1         C2        0           2\n",
       "2  2111018013         2         C2        0          14\n",
       "3  2111019002         2         C2        0           1\n",
       "4  2111025011         2         C2        0           3"
      ]
     },
     "execution_count": 53,
     "metadata": {},
     "output_type": "execute_result"
    }
   ],
   "source": [
    "m10.head()"
   ]
  },
  {
   "cell_type": "code",
   "execution_count": 64,
   "metadata": {},
   "outputs": [
    {
     "name": "stdout",
     "output_type": "stream",
     "text": [
      "# parcels: 2930\n",
      "# parcels with TOC entitlements: 1156\n",
      "# parcels with non TOC entitlements: 1845\n",
      "# parcels with both TOC and non TOC entitlements: 71\n",
      "double check sum: 2930\n"
     ]
    }
   ],
   "source": [
    "toc_parcels = m10[m10.num_TOC > 0]\n",
    "non_toc_parcels = m10[m10.num_nonTOC > 0]\n",
    "have_both_parcels = m10[(m10.num_TOC > 0) & (m10.num_nonTOC > 0)]\n",
    "\n",
    "print(f'# parcels: {len(m10)}')\n",
    "print(f'# parcels with TOC entitlements: {len(toc_parcels)}')\n",
    "print(f'# parcels with non TOC entitlements: {len(non_toc_parcels)}')\n",
    "print(f'# parcels with both TOC and non TOC entitlements: {len(have_both_parcels)}')\n",
    "print(f'double check sum: {len(toc_parcels) + len(non_toc_parcels) - len(have_both_parcels)}')"
   ]
  },
  {
   "cell_type": "code",
   "execution_count": 65,
   "metadata": {},
   "outputs": [
    {
     "name": "stdout",
     "output_type": "stream",
     "text": [
      "% parcels with TOC entitlements: 0.3945392491467577\n",
      "% parcels with non TOC entitlements: 0.6296928327645052\n",
      "% parcels with both entitlements: 0.024232081911262797\n"
     ]
    }
   ],
   "source": [
    "print(f'% parcels with TOC entitlements: {len(toc_parcels) / len(m10)}')\n",
    "print(f'% parcels with non TOC entitlements: {len(non_toc_parcels) / len(m10)}')\n",
    "print(f'% parcels with both entitlements: {len(have_both_parcels) / len(m10)}')"
   ]
  },
  {
   "cell_type": "code",
   "execution_count": 67,
   "metadata": {},
   "outputs": [
    {
     "data": {
      "text/plain": [
       "3    1421\n",
       "1     725\n",
       "2     605\n",
       "4     179\n",
       "Name: TOC_Tier, dtype: int64"
      ]
     },
     "execution_count": 67,
     "metadata": {},
     "output_type": "execute_result"
    }
   ],
   "source": [
    "m10.TOC_Tier.value_counts()"
   ]
  },
  {
   "cell_type": "code",
   "execution_count": 70,
   "metadata": {},
   "outputs": [
    {
     "data": {
      "text/plain": [
       "C2       441\n",
       "R3       358\n",
       "R4       191\n",
       "C4        72\n",
       "RD1.5     46\n",
       "RD2       24\n",
       "R2         7\n",
       "RAS4       5\n",
       "R5         4\n",
       "RAS3       4\n",
       "C1         4\n",
       "Name: zone_class, dtype: int64"
      ]
     },
     "execution_count": 70,
     "metadata": {},
     "output_type": "execute_result"
    }
   ],
   "source": [
    "toc_parcels.zone_class.value_counts()"
   ]
  },
  {
   "cell_type": "code",
   "execution_count": 71,
   "metadata": {},
   "outputs": [
    {
     "data": {
      "text/plain": [
       "C2       607\n",
       "R2       330\n",
       "RD1.5    209\n",
       "RD2      195\n",
       "C4       183\n",
       "R3       160\n",
       "R4        57\n",
       "RD3       54\n",
       "C1        18\n",
       "C5        17\n",
       "R5        15\n",
       "Name: zone_class, dtype: int64"
      ]
     },
     "execution_count": 71,
     "metadata": {},
     "output_type": "execute_result"
    }
   ],
   "source": [
    "non_toc_parcels.zone_class.value_counts()"
   ]
  },
  {
   "cell_type": "code",
   "execution_count": 75,
   "metadata": {},
   "outputs": [
    {
     "data": {
      "text/html": [
       "<div>\n",
       "<style scoped>\n",
       "    .dataframe tbody tr th:only-of-type {\n",
       "        vertical-align: middle;\n",
       "    }\n",
       "\n",
       "    .dataframe tbody tr th {\n",
       "        vertical-align: top;\n",
       "    }\n",
       "\n",
       "    .dataframe thead th {\n",
       "        text-align: right;\n",
       "    }\n",
       "</style>\n",
       "<table border=\"1\" class=\"dataframe\">\n",
       "  <thead>\n",
       "    <tr style=\"text-align: right;\">\n",
       "      <th></th>\n",
       "      <th>AIN</th>\n",
       "      <th>TOC_Tier</th>\n",
       "      <th>centroid</th>\n",
       "      <th>x</th>\n",
       "      <th>y</th>\n",
       "    </tr>\n",
       "  </thead>\n",
       "  <tbody>\n",
       "    <tr>\n",
       "      <th>1356</th>\n",
       "      <td>2010004010</td>\n",
       "      <td>1</td>\n",
       "      <td>POINT (6378559.967 1908406.082)</td>\n",
       "      <td>6.378560e+06</td>\n",
       "      <td>1.908406e+06</td>\n",
       "    </tr>\n",
       "    <tr>\n",
       "      <th>1357</th>\n",
       "      <td>2010004011</td>\n",
       "      <td>1</td>\n",
       "      <td>POINT (6378584.342 1908296.034)</td>\n",
       "      <td>6.378584e+06</td>\n",
       "      <td>1.908296e+06</td>\n",
       "    </tr>\n",
       "    <tr>\n",
       "      <th>1368</th>\n",
       "      <td>2010004024</td>\n",
       "      <td>1</td>\n",
       "      <td>POINT (6378595.550 1908030.427)</td>\n",
       "      <td>6.378596e+06</td>\n",
       "      <td>1.908030e+06</td>\n",
       "    </tr>\n",
       "    <tr>\n",
       "      <th>1369</th>\n",
       "      <td>2010004025</td>\n",
       "      <td>1</td>\n",
       "      <td>POINT (6378664.367 1908038.708)</td>\n",
       "      <td>6.378664e+06</td>\n",
       "      <td>1.908039e+06</td>\n",
       "    </tr>\n",
       "    <tr>\n",
       "      <th>1370</th>\n",
       "      <td>2010004026</td>\n",
       "      <td>1</td>\n",
       "      <td>POINT (6378759.826 1908027.493)</td>\n",
       "      <td>6.378760e+06</td>\n",
       "      <td>1.908027e+06</td>\n",
       "    </tr>\n",
       "  </tbody>\n",
       "</table>\n",
       "</div>"
      ],
      "text/plain": [
       "             AIN  TOC_Tier                         centroid             x  \\\n",
       "1356  2010004010         1  POINT (6378559.967 1908406.082)  6.378560e+06   \n",
       "1357  2010004011         1  POINT (6378584.342 1908296.034)  6.378584e+06   \n",
       "1368  2010004024         1  POINT (6378595.550 1908030.427)  6.378596e+06   \n",
       "1369  2010004025         1  POINT (6378664.367 1908038.708)  6.378664e+06   \n",
       "1370  2010004026         1  POINT (6378759.826 1908027.493)  6.378760e+06   \n",
       "\n",
       "                 y  \n",
       "1356  1.908406e+06  \n",
       "1357  1.908296e+06  \n",
       "1368  1.908030e+06  \n",
       "1369  1.908039e+06  \n",
       "1370  1.908027e+06  "
      ]
     },
     "execution_count": 75,
     "metadata": {},
     "output_type": "execute_result"
    }
   ],
   "source": [
    "parcels2.head()"
   ]
  },
  {
   "cell_type": "code",
   "execution_count": 85,
   "metadata": {},
   "outputs": [],
   "source": [
    "m11 = pd.merge(m10, parcels2, on = ['AIN', 'TOC_Tier'], how = 'inner')\n",
    "\n",
    "m11.rename(columns = {'centroid':'geometry'}, inplace = True)\n",
    "m11 = gpd.GeoDataFrame(m11)\n",
    "m11.crs = {'init':'epsg:2229'}"
   ]
  },
  {
   "cell_type": "code",
   "execution_count": 88,
   "metadata": {},
   "outputs": [],
   "source": [
    "toc_parcels = m11[m11.num_TOC > 0]\n",
    "non_toc_parcels = m11[m11.num_nonTOC > 0]\n",
    "have_both_parcels = m11[(m11.num_TOC > 0) & (m11.num_nonTOC > 0)]"
   ]
  },
  {
   "cell_type": "code",
   "execution_count": 90,
   "metadata": {},
   "outputs": [],
   "source": [
    "m11.drop(columns = ['x', 'y']).to_file(driver = 'GeoJSON', filename = '../gis/toc_eligible_parcels_with_entitlements.geojson')"
   ]
  },
  {
   "cell_type": "code",
   "execution_count": null,
   "metadata": {},
   "outputs": [],
   "source": []
  }
 ],
 "metadata": {
  "kernelspec": {
   "display_name": "Python 3",
   "language": "python",
   "name": "python3"
  },
  "language_info": {
   "codemirror_mode": {
    "name": "ipython",
    "version": 3
   },
   "file_extension": ".py",
   "mimetype": "text/x-python",
   "name": "python",
   "nbconvert_exporter": "python",
   "pygments_lexer": "ipython3",
   "version": "3.7.3"
  }
 },
 "nbformat": 4,
 "nbformat_minor": 4
}
