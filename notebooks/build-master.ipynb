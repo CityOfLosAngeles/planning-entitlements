{
 "cells": [
  {
   "cell_type": "markdown",
   "metadata": {},
   "source": [
    "# Entitlements in TOC-eligible parcels"
   ]
  },
  {
   "cell_type": "code",
   "execution_count": 1,
   "metadata": {},
   "outputs": [],
   "source": [
    "import numpy as np\n",
    "import pandas as pd\n",
    "import geopandas as gpd\n",
    "import intake\n",
    "import boto3"
   ]
  },
  {
   "cell_type": "code",
   "execution_count": 2,
   "metadata": {},
   "outputs": [],
   "source": [
    "catalog = intake.open_catalog(\"../catalogs/*.yml\")\n",
    "\n",
    "s3 = boto3.client('s3')\n",
    "bucket_name = 'city-planning-entitlements'"
   ]
  },
  {
   "cell_type": "code",
   "execution_count": null,
   "metadata": {},
   "outputs": [],
   "source": [
    "#pd.set_option('display.max_columns', None)\n",
    "#pd.set_option('display.max_rows', None)"
   ]
  },
  {
   "cell_type": "code",
   "execution_count": null,
   "metadata": {},
   "outputs": [],
   "source": [
    "parcels = gpd.read_file(f'zip+s3://{bucket_name}/gis/intermediate/la_parcels_toc.zip')\n",
    "\n",
    "display(parcels.TOC_Tier.value_counts())\n",
    "parcels = parcels[parcels.TOC_Tier > 0]"
   ]
  },
  {
   "cell_type": "code",
   "execution_count": null,
   "metadata": {},
   "outputs": [],
   "source": [
    "cases = catalog.pcts.tCASE.read()\n",
    "app = catalog.pcts.tAPLC.read()\n",
    "geo_info = catalog.pcts.tPROP_GEO_INFO.read()\n",
    "la_prop = catalog.pcts.tLA_PROP.read()"
   ]
  },
  {
   "cell_type": "code",
   "execution_count": null,
   "metadata": {},
   "outputs": [],
   "source": [
    "cases1 = cases[['CASE_ID', 'APLC_ID', 'CASE_NBR', 'CASE_SEQ_NBR', 'CASE_YR_NBR', 'CASE_ACTION_ID', 'ADM_ACTION_DT']]\n",
    "app1 = app[['APLC_ID', 'PROJ_DESC_TXT']]\n",
    "geo_info1 = geo_info[['CASE_ID', 'PROP_ID']]\n",
    "la_prop1 = la_prop[la_prop.ASSR_PRCL_NBR.notna()][['PROP_ID', 'ASSR_PRCL_NBR']]"
   ]
  },
  {
   "cell_type": "code",
   "execution_count": null,
   "metadata": {},
   "outputs": [],
   "source": [
    "print(f'# obs in cases1: {len(cases1)}')\n",
    "print(f'# unique CASE_ID in cases1: {cases1.CASE_ID.nunique()}')\n",
    "display(cases1.head())"
   ]
  },
  {
   "cell_type": "code",
   "execution_count": null,
   "metadata": {},
   "outputs": [],
   "source": [
    "print(f'# obs in geo_info1: {len(geo_info1)}')\n",
    "print(f'# unique CASE_ID in geo_info1: {geo_info1.CASE_ID.nunique()}')\n",
    "print(f'# unique PROP_ID in geo_info1: {geo_info1.PROP_ID.nunique()}')\n",
    "display(geo_info1.head())\n",
    "\n",
    "# There can be multiple CASE_IDs that take place on same PROP_ID. Makes sense, over time, the same parcel might have multiple entitlements\n",
    "# Also makes sense for there to be multiple PROP_IDs that appear here"
   ]
  },
  {
   "cell_type": "code",
   "execution_count": null,
   "metadata": {},
   "outputs": [],
   "source": [
    "print(f'# obs in la_prop1: {len(la_prop1)}')\n",
    "print(f'# unique PROP_ID in la_prop1: {la_prop1.PROP_ID.nunique()}')\n",
    "print(f'# unique ASSR_PRCL_NBR in la_prop1: {la_prop1.ASSR_PRCL_NBR.nunique()}')\n",
    "display(la_prop1.head())\n",
    "\n",
    "# If PROP_ID is unique...that means every time a parcel has an entitlemnet, a unique PROP_ID is generated\n",
    "# That would explain why the same ASSR_PRCL_NBR has multiple PROP_IDs"
   ]
  },
  {
   "cell_type": "markdown",
   "metadata": {},
   "source": [
    "## Only keep cases from 2016 and after"
   ]
  },
  {
   "cell_type": "code",
   "execution_count": null,
   "metadata": {},
   "outputs": [],
   "source": [
    "cases2 = cases1[cases1.CASE_YR_NBR >= 2016]"
   ]
  },
  {
   "cell_type": "code",
   "execution_count": null,
   "metadata": {},
   "outputs": [],
   "source": [
    "print(f'# obs in cases1: {len(cases1)}')\n",
    "print(f'# obs in cases2: {len(cases2)}')\n",
    "print(f'# unique CASE_ID in cases2: {cases2.CASE_ID.nunique()}')\n",
    "print(f'# unique CASE_SEQ_NBR in cases2: {cases2.CASE_SEQ_NBR.nunique()}')\n",
    "display(cases2.head())"
   ]
  },
  {
   "cell_type": "code",
   "execution_count": null,
   "metadata": {},
   "outputs": [],
   "source": [
    "cases2[cases2.CASE_SEQ_NBR==1169].sort_values(['CASE_SEQ_NBR', 'CASE_YR_NBR'], ascending = [True, True])"
   ]
  },
  {
   "cell_type": "markdown",
   "metadata": {},
   "source": [
    "## Merge with geo_info, la_prop, parcels to ID the parcels that are TOC-eligible and have entitlements"
   ]
  },
  {
   "cell_type": "code",
   "execution_count": null,
   "metadata": {},
   "outputs": [],
   "source": [
    "m1 = pd.merge(cases2, geo_info1, on = 'CASE_ID', how = 'inner', validate = '1:m')"
   ]
  },
  {
   "cell_type": "code",
   "execution_count": null,
   "metadata": {},
   "outputs": [],
   "source": [
    "m2 = pd.merge(m1, la_prop1, on = 'PROP_ID', how = 'inner', validate = 'm:1')"
   ]
  },
  {
   "cell_type": "code",
   "execution_count": null,
   "metadata": {},
   "outputs": [],
   "source": [
    "print(f'# obs in m2: {len(m2)}')\n",
    "print(f'# unique CASE_ID in m2: {m2.CASE_ID.nunique()}')\n",
    "print(f'# unique CASE_SEQ_NBR in m2: {m2.CASE_SEQ_NBR.nunique()}')\n",
    "print(f'# unique PROP_ID in m2: {m2.PROP_ID.nunique()}')\n",
    "print(f'# unique ASSR_PRCL_NBR in m2: {m2.ASSR_PRCL_NBR.nunique()}')\n",
    "display(m2.head())"
   ]
  },
  {
   "cell_type": "code",
   "execution_count": null,
   "metadata": {},
   "outputs": [],
   "source": [
    "m3 = pd.merge(m2, parcels, left_on = 'ASSR_PRCL_NBR', right_on = 'AIN', how = 'inner', validate = 'm:1')"
   ]
  },
  {
   "cell_type": "code",
   "execution_count": null,
   "metadata": {},
   "outputs": [],
   "source": [
    "print(f'# obs in m3: {len(m3)}')\n",
    "print(f'# unique CASE_ID in m3: {m3.CASE_ID.nunique()}')\n",
    "print(f'# unique CASE_SEQ_NBR in m3: {m3.CASE_SEQ_NBR.nunique()}')\n",
    "print(f'# unique PROP_ID in m3: {m3.PROP_ID.nunique()}')\n",
    "print(f'# unique ASSR_PRCL_NBR in m3: {m3.ASSR_PRCL_NBR.nunique()}')\n",
    "display(m3.head())"
   ]
  },
  {
   "cell_type": "markdown",
   "metadata": {},
   "source": [
    "## Join parcels to zoning\n",
    "* Subset by eligible zones, see how many TOC-eligible parcels also fall into eligible zones"
   ]
  },
  {
   "cell_type": "code",
   "execution_count": null,
   "metadata": {},
   "outputs": [],
   "source": [
    "zoning = gpd.read_file(f's3://{bucket_name}/gis/raw/parsed_zoning.geojson')"
   ]
  },
  {
   "cell_type": "code",
   "execution_count": null,
   "metadata": {},
   "outputs": [],
   "source": [
    "eligible_zones = ['R2', 'R3', 'RAS3', 'R4', 'RAS4', 'R5', \n",
    "                  'RD1.5', 'RD2', 'RD3', 'RD4', 'RD5', 'RD6', \n",
    "                  'C1', 'C2', 'C4', 'C5']\n",
    "\n",
    "eligible_zoning = zoning[zoning.zone_class.isin(eligible_zones)]"
   ]
  },
  {
   "cell_type": "code",
   "execution_count": null,
   "metadata": {},
   "outputs": [],
   "source": [
    "parcels['centroid'] = parcels.geometry.centroid"
   ]
  },
  {
   "cell_type": "code",
   "execution_count": null,
   "metadata": {},
   "outputs": [],
   "source": [
    "parcels2 = parcels.set_geometry('centroid')\n",
    "parcels2 = parcels2[['AIN', 'TOC_Tier', 'centroid']]\n",
    "parcels2['x'] = parcels2.centroid.x\n",
    "parcels2['y'] = parcels2.centroid.y"
   ]
  },
  {
   "cell_type": "code",
   "execution_count": null,
   "metadata": {},
   "outputs": [],
   "source": [
    "parcels2['obs'] = parcels2.groupby(['x', 'y']).cumcount() + 1\n",
    "parcels2['num_obs'] = parcels2.groupby(['x', 'y'])['obs'].transform('max')"
   ]
  },
  {
   "cell_type": "code",
   "execution_count": null,
   "metadata": {},
   "outputs": [],
   "source": [
    "parcels2.to_file(driver = 'GeoJSON', filename = '../gis/parcels_with_toc.geojson')"
   ]
  },
  {
   "cell_type": "code",
   "execution_count": null,
   "metadata": {},
   "outputs": [],
   "source": [
    "parcels_with_zoning = gpd.sjoin(parcels2, eligible_zoning, how = 'inner', op = 'intersects').drop(columns = ['index_right'])"
   ]
  },
  {
   "cell_type": "code",
   "execution_count": null,
   "metadata": {},
   "outputs": [],
   "source": [
    "print(f'# obs in parcels2: {len(parcels2)}')\n",
    "print(f'# obs in parcels_with_zoning: {len(parcels_with_zoning)}')\n",
    "print(f'# unique AIN in parcels2: {parcels2.AIN.nunique()}')\n",
    "print(f'# unique AIN in parcels_with_zoning: {parcels_with_zoning.AIN.nunique()}')\n",
    "display(parcels_with_zoning.head())"
   ]
  },
  {
   "cell_type": "code",
   "execution_count": null,
   "metadata": {},
   "outputs": [],
   "source": [
    "# Merge in zoning and TOC info about the parcel\n",
    "m4 = pd.merge(m3, parcels_with_zoning, on = 'AIN', how = 'inner')"
   ]
  },
  {
   "cell_type": "code",
   "execution_count": null,
   "metadata": {},
   "outputs": [],
   "source": [
    "# Drop duplicates\n",
    "display(m4.num_obs.value_counts())\n",
    "m5 = m4[m4.obs == 1]"
   ]
  },
  {
   "cell_type": "code",
   "execution_count": null,
   "metadata": {},
   "outputs": [],
   "source": [
    "# Merge in project description\n",
    "m6 = pd.merge(m5, app1, on = 'APLC_ID', how = 'inner', validate = 'm:1')"
   ]
  },
  {
   "cell_type": "code",
   "execution_count": null,
   "metadata": {},
   "outputs": [],
   "source": [
    "# For same CASE_SEQ_NBR, keep the max CASE_ID\n",
    "m6['max_CASE_ID'] = m6.groupby(['CASE_SEQ_NBR', 'CASE_YR_NBR'])['CASE_ID'].transform('max')\n",
    "m6 = m6[m6.CASE_ID == m6.max_CASE_ID]"
   ]
  },
  {
   "cell_type": "code",
   "execution_count": null,
   "metadata": {},
   "outputs": [],
   "source": [
    "drop = ['centroid', 'x', 'y', 'obs', 'num_obs', \n",
    "        'CASE_ID', 'max_CASE_ID', 'APLC_ID', 'ASSR_PRCL_NBR', 'PROP_ID', \n",
    "       'TOC_Tier_y']\n",
    "\n",
    "m6 = m6.drop(columns = drop)\n",
    "m6.rename(columns = {'TOC_Tier_x':'TOC_Tier'}, inplace = True)"
   ]
  },
  {
   "cell_type": "code",
   "execution_count": null,
   "metadata": {},
   "outputs": [],
   "source": [
    "m6.drop(columns = 'geometry').to_parquet('../gis/m6.parquet')"
   ]
  },
  {
   "cell_type": "code",
   "execution_count": null,
   "metadata": {},
   "outputs": [],
   "source": [
    "print(f'# obs in m6: {len(m6)}')\n",
    "print(f'# unique CASE_SEQ_NBR in m6: {m6.CASE_SEQ_NBR.nunique()}')\n",
    "display(m6.sort_values(['CASE_SEQ_NBR', 'CASE_YR_NBR']).head(10))"
   ]
  },
  {
   "cell_type": "code",
   "execution_count": null,
   "metadata": {},
   "outputs": [],
   "source": [
    "import pcts_parser\n",
    "\n",
    "parsed_col_names = ['suffix']\n",
    "\n",
    "def parse_pcts(row):\n",
    "    try:\n",
    "        z = pcts_parser.PCTSCaseNumber(row.CASE_NBR)\n",
    "        return pd.Series([z.suffix], index = parsed_col_names)\n",
    "    except ValueError:\n",
    "        return pd.Series([z.suffix], index = parsed_col_names)\n",
    "\n",
    "parsed = m6.apply(parse_pcts, axis = 1)\n",
    "\n",
    "m7 = pd.concat([m6, parsed], axis = 1)"
   ]
  },
  {
   "cell_type": "code",
   "execution_count": null,
   "metadata": {},
   "outputs": [],
   "source": [
    "m7.drop(columns = 'geometry').to_parquet('../gis/m7.parquet')"
   ]
  },
  {
   "cell_type": "code",
   "execution_count": 3,
   "metadata": {},
   "outputs": [],
   "source": [
    "m7 = pd.read_parquet('../gis/m7.parquet')"
   ]
  },
  {
   "cell_type": "code",
   "execution_count": 4,
   "metadata": {},
   "outputs": [
    {
     "data": {
      "text/plain": [
       "1    [CE]\n",
       "2    [DA]\n",
       "3    [DA]\n",
       "4    [DA]\n",
       "Name: suffix, dtype: object"
      ]
     },
     "execution_count": 4,
     "metadata": {},
     "output_type": "execute_result"
    }
   ],
   "source": [
    "m7['suffix'][1:5]"
   ]
  },
  {
   "cell_type": "code",
   "execution_count": 12,
   "metadata": {},
   "outputs": [],
   "source": [
    "split = m7.suffix.apply(pd.Series)\n",
    "split.rename(columns = {0: 'one', 1: 'two', 2: 'three',\n",
    "                        3: 'four', 4: 'five', 5: 'six',  6: 'seven'}, inplace = True)  "
   ]
  },
  {
   "cell_type": "code",
   "execution_count": 15,
   "metadata": {},
   "outputs": [],
   "source": [
    "for col in ['one', 'two', 'three', 'four', 'five', 'six', 'seven']:\n",
    "    split[col] = split[col].fillna('')"
   ]
  },
  {
   "cell_type": "code",
   "execution_count": 17,
   "metadata": {},
   "outputs": [
    {
     "data": {
      "text/html": [
       "<div>\n",
       "<style scoped>\n",
       "    .dataframe tbody tr th:only-of-type {\n",
       "        vertical-align: middle;\n",
       "    }\n",
       "\n",
       "    .dataframe tbody tr th {\n",
       "        vertical-align: top;\n",
       "    }\n",
       "\n",
       "    .dataframe thead th {\n",
       "        text-align: right;\n",
       "    }\n",
       "</style>\n",
       "<table border=\"1\" class=\"dataframe\">\n",
       "  <thead>\n",
       "    <tr style=\"text-align: right;\">\n",
       "      <th></th>\n",
       "      <th>one</th>\n",
       "      <th>two</th>\n",
       "      <th>three</th>\n",
       "      <th>four</th>\n",
       "      <th>five</th>\n",
       "      <th>six</th>\n",
       "      <th>seven</th>\n",
       "    </tr>\n",
       "  </thead>\n",
       "  <tbody>\n",
       "    <tr>\n",
       "      <th>79</th>\n",
       "      <td>SN</td>\n",
       "      <td>TDR</td>\n",
       "      <td>CUB</td>\n",
       "      <td>ZV</td>\n",
       "      <td>WDI</td>\n",
       "      <td>SPR</td>\n",
       "      <td>MSC</td>\n",
       "    </tr>\n",
       "    <tr>\n",
       "      <th>82</th>\n",
       "      <td>SN</td>\n",
       "      <td>TDR</td>\n",
       "      <td>CUB</td>\n",
       "      <td>ZV</td>\n",
       "      <td>WDI</td>\n",
       "      <td>SPR</td>\n",
       "      <td>MSC</td>\n",
       "    </tr>\n",
       "    <tr>\n",
       "      <th>85</th>\n",
       "      <td>SN</td>\n",
       "      <td>TDR</td>\n",
       "      <td>CUB</td>\n",
       "      <td>ZV</td>\n",
       "      <td>WDI</td>\n",
       "      <td>SPR</td>\n",
       "      <td>MSC</td>\n",
       "    </tr>\n",
       "    <tr>\n",
       "      <th>88</th>\n",
       "      <td>SN</td>\n",
       "      <td>TDR</td>\n",
       "      <td>CUB</td>\n",
       "      <td>ZV</td>\n",
       "      <td>WDI</td>\n",
       "      <td>SPR</td>\n",
       "      <td>MSC</td>\n",
       "    </tr>\n",
       "    <tr>\n",
       "      <th>91</th>\n",
       "      <td>SN</td>\n",
       "      <td>TDR</td>\n",
       "      <td>CUB</td>\n",
       "      <td>ZV</td>\n",
       "      <td>WDI</td>\n",
       "      <td>SPR</td>\n",
       "      <td>MSC</td>\n",
       "    </tr>\n",
       "    <tr>\n",
       "      <th>...</th>\n",
       "      <td>...</td>\n",
       "      <td>...</td>\n",
       "      <td>...</td>\n",
       "      <td>...</td>\n",
       "      <td>...</td>\n",
       "      <td>...</td>\n",
       "      <td>...</td>\n",
       "    </tr>\n",
       "    <tr>\n",
       "      <th>33444</th>\n",
       "      <td>CU</td>\n",
       "      <td>DB</td>\n",
       "      <td>SPE</td>\n",
       "      <td>SPP</td>\n",
       "      <td>SPR</td>\n",
       "      <td>MCUP</td>\n",
       "      <td>DD</td>\n",
       "    </tr>\n",
       "    <tr>\n",
       "      <th>41617</th>\n",
       "      <td>GPAJ</td>\n",
       "      <td>VZC</td>\n",
       "      <td>HD</td>\n",
       "      <td>SP</td>\n",
       "      <td>DRB</td>\n",
       "      <td>SPP</td>\n",
       "      <td>SPR</td>\n",
       "    </tr>\n",
       "    <tr>\n",
       "      <th>48990</th>\n",
       "      <td>CU</td>\n",
       "      <td>DB</td>\n",
       "      <td>CDP</td>\n",
       "      <td>CDO</td>\n",
       "      <td>SPP</td>\n",
       "      <td>MEL</td>\n",
       "      <td>WDI</td>\n",
       "    </tr>\n",
       "    <tr>\n",
       "      <th>48992</th>\n",
       "      <td>CU</td>\n",
       "      <td>DB</td>\n",
       "      <td>CDP</td>\n",
       "      <td>CDO</td>\n",
       "      <td>SPP</td>\n",
       "      <td>MEL</td>\n",
       "      <td>WDI</td>\n",
       "    </tr>\n",
       "    <tr>\n",
       "      <th>48994</th>\n",
       "      <td>CU</td>\n",
       "      <td>DB</td>\n",
       "      <td>CDP</td>\n",
       "      <td>CDO</td>\n",
       "      <td>SPP</td>\n",
       "      <td>MEL</td>\n",
       "      <td>WDI</td>\n",
       "    </tr>\n",
       "  </tbody>\n",
       "</table>\n",
       "<p>136 rows × 7 columns</p>\n",
       "</div>"
      ],
      "text/plain": [
       "        one  two three four five   six seven\n",
       "79       SN  TDR   CUB   ZV  WDI   SPR   MSC\n",
       "82       SN  TDR   CUB   ZV  WDI   SPR   MSC\n",
       "85       SN  TDR   CUB   ZV  WDI   SPR   MSC\n",
       "88       SN  TDR   CUB   ZV  WDI   SPR   MSC\n",
       "91       SN  TDR   CUB   ZV  WDI   SPR   MSC\n",
       "...     ...  ...   ...  ...  ...   ...   ...\n",
       "33444    CU   DB   SPE  SPP  SPR  MCUP    DD\n",
       "41617  GPAJ  VZC    HD   SP  DRB   SPP   SPR\n",
       "48990    CU   DB   CDP  CDO  SPP   MEL   WDI\n",
       "48992    CU   DB   CDP  CDO  SPP   MEL   WDI\n",
       "48994    CU   DB   CDP  CDO  SPP   MEL   WDI\n",
       "\n",
       "[136 rows x 7 columns]"
      ]
     },
     "execution_count": 17,
     "metadata": {},
     "output_type": "execute_result"
    }
   ],
   "source": [
    "split[split.seven != '']"
   ]
  },
  {
   "cell_type": "code",
   "execution_count": 18,
   "metadata": {},
   "outputs": [],
   "source": [
    "m7 = pd.concat([m7, split], axis = 1)"
   ]
  },
  {
   "cell_type": "code",
   "execution_count": 20,
   "metadata": {},
   "outputs": [],
   "source": [
    "just_suffix = m7[['CASE_SEQ_NBR', 'CASE_YR_NBR', 'one', 'two', 'three', 'four', 'five', 'six', 'seven']]"
   ]
  },
  {
   "cell_type": "code",
   "execution_count": 40,
   "metadata": {},
   "outputs": [],
   "source": [
    "toc_cases = m7[m7.CASE_NBR.str.contains('TOC')]\n",
    "non_toc_cases = m7[~m7.CASE_NBR.str.contains('TOC')]"
   ]
  },
  {
   "cell_type": "code",
   "execution_count": 37,
   "metadata": {},
   "outputs": [
    {
     "data": {
      "text/plain": [
       "6439"
      ]
     },
     "execution_count": 37,
     "metadata": {},
     "output_type": "execute_result"
    }
   ],
   "source": [
    "len(toc_cases)"
   ]
  },
  {
   "cell_type": "code",
   "execution_count": 41,
   "metadata": {},
   "outputs": [
    {
     "data": {
      "text/plain": [
       "43825"
      ]
     },
     "execution_count": 41,
     "metadata": {},
     "output_type": "execute_result"
    }
   ],
   "source": [
    "len(non_toc_cases)"
   ]
  },
  {
   "cell_type": "code",
   "execution_count": 42,
   "metadata": {},
   "outputs": [
    {
     "data": {
      "text/plain": [
       "C2       3011\n",
       "R3       1550\n",
       "R4        960\n",
       "C4        521\n",
       "RD1.5     149\n",
       "R5         79\n",
       "RD2        66\n",
       "RAS4       36\n",
       "RAS3       31\n",
       "C1         18\n",
       "R2         18\n",
       "Name: zone_class, dtype: int64"
      ]
     },
     "execution_count": 42,
     "metadata": {},
     "output_type": "execute_result"
    }
   ],
   "source": [
    "toc_cases.zone_class.value_counts()"
   ]
  },
  {
   "cell_type": "code",
   "execution_count": 43,
   "metadata": {},
   "outputs": [
    {
     "data": {
      "text/plain": [
       "C2       20307\n",
       "C4        6166\n",
       "R3        4092\n",
       "RD1.5     3903\n",
       "R2        3843\n",
       "RD2       1647\n",
       "R4        1197\n",
       "C5         797\n",
       "R5         736\n",
       "C1         522\n",
       "RD3        285\n",
       "RAS4       163\n",
       "RD5        112\n",
       "RAS3        50\n",
       "RD4          5\n",
       "Name: zone_class, dtype: int64"
      ]
     },
     "execution_count": 43,
     "metadata": {},
     "output_type": "execute_result"
    }
   ],
   "source": [
    "non_toc_cases.zone_class.value_counts()"
   ]
  },
  {
   "cell_type": "code",
   "execution_count": null,
   "metadata": {},
   "outputs": [],
   "source": []
  }
 ],
 "metadata": {
  "kernelspec": {
   "display_name": "Python 3",
   "language": "python",
   "name": "python3"
  },
  "language_info": {
   "codemirror_mode": {
    "name": "ipython",
    "version": 3
   },
   "file_extension": ".py",
   "mimetype": "text/x-python",
   "name": "python",
   "nbconvert_exporter": "python",
   "pygments_lexer": "ipython3",
   "version": "3.7.3"
  }
 },
 "nbformat": 4,
 "nbformat_minor": 4
}
