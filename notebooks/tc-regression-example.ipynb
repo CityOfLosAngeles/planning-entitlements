{
 "cells": [
  {
   "cell_type": "markdown",
   "metadata": {},
   "source": [
    "# Practice variety of regressions on 1 df"
   ]
  },
  {
   "cell_type": "code",
   "execution_count": 1,
   "metadata": {},
   "outputs": [],
   "source": [
    "import geopandas\n",
    "import intake\n",
    "import matplotlib.pyplot as plt\n",
    "import numpy as np\n",
    "import pandas\n",
    "import sklearn.ensemble\n",
    "import sklearn.inspection\n",
    "import sklearn.preprocessing\n",
    "import sklearn.linear_model\n",
    "import sklearn.pipeline\n",
    "import sklearn.utils\n",
    "\n",
    "import laplan\n",
    "import utils\n",
    "\n",
    "cat = intake.open_catalog(\"../catalogs/*.yml\")"
   ]
  },
  {
   "cell_type": "code",
   "execution_count": null,
   "metadata": {},
   "outputs": [],
   "source": [
    "tracts = cat.census_tracts.read()\n",
    "\n",
    "joined = geopandas.read_parquet(\"../data/toc_df_for_regression.parquet\")"
   ]
  },
  {
   "cell_type": "markdown",
   "metadata": {},
   "source": [
    "## Linear regression\n",
    "Do a linear regression with just 1 variable, plot to see how line is fitted.\n",
    "\n",
    "Make map of actual vs predicted."
   ]
  },
  {
   "cell_type": "code",
   "execution_count": null,
   "metadata": {},
   "outputs": [],
   "source": [
    "linear_model = sklearn.linear_model.LinearRegression(fit_intercept=True, normalize=False)"
   ]
  },
  {
   "cell_type": "code",
   "execution_count": null,
   "metadata": {},
   "outputs": [],
   "source": [
    "linear_variables = [\n",
    "    \"pct_pop_renter\",\n",
    "]\n",
    "target = \"TOC\""
   ]
  },
  {
   "cell_type": "code",
   "execution_count": null,
   "metadata": {},
   "outputs": [],
   "source": [
    "fig, axes = plt.subplots(1, 2, figsize=(9,9))\n",
    "for i, var in enumerate(linear_variables + [\"TOC\"]):\n",
    "    ax = axes.ravel()[i]\n",
    "    joined.reset_index().plot(ax=ax, column=var)\n",
    "    ax.axis(\"off\")\n",
    "    ax.set_title(var)"
   ]
  },
  {
   "cell_type": "code",
   "execution_count": null,
   "metadata": {},
   "outputs": [],
   "source": [
    "fit_me = (joined.dropna()\n",
    "          .assign(\n",
    "            TOC = joined.TOC.astype(float)\n",
    "        )[joined.pct_eligible_zoning > 0]\n",
    "    [linear_variables + [target, \"geometry\"]]\n",
    ")"
   ]
  },
  {
   "cell_type": "code",
   "execution_count": null,
   "metadata": {},
   "outputs": [],
   "source": [
    "linear_model.fit(fit_me[linear_variables], fit_me[\"TOC\"])"
   ]
  },
  {
   "cell_type": "code",
   "execution_count": null,
   "metadata": {},
   "outputs": [],
   "source": [
    "print(linear_model.coef_)\n",
    "print(linear_model.intercept_)"
   ]
  },
  {
   "cell_type": "code",
   "execution_count": null,
   "metadata": {},
   "outputs": [],
   "source": [
    "linear_model_yhat = linear_model.predict(fit_me[linear_variables])"
   ]
  },
  {
   "cell_type": "code",
   "execution_count": null,
   "metadata": {},
   "outputs": [],
   "source": [
    "yhat = pandas.DataFrame(linear_model_yhat).rename(columns = {0: \"yhat\"})\n",
    "with_yhat = pandas.merge(\n",
    "                fit_me.reset_index(), \n",
    "                yhat, \n",
    "                left_index=True, \n",
    "                right_index=True)\n",
    "\n",
    "with_yhat.head()"
   ]
  },
  {
   "cell_type": "code",
   "execution_count": null,
   "metadata": {},
   "outputs": [],
   "source": [
    "plt.scatter(with_yhat.pct_pop_renter, with_yhat.TOC, color = \"orange\")\n",
    "plt.plot(with_yhat.pct_pop_renter, with_yhat.yhat)"
   ]
  },
  {
   "cell_type": "code",
   "execution_count": null,
   "metadata": {},
   "outputs": [],
   "source": [
    "map_me = pandas.merge(tracts, with_yhat.drop(columns = \"geometry\"), \n",
    "                       on = \"GEOID\", how = \"left\", validate = \"1:1\")\n",
    "\n",
    "map_me = map_me.assign(\n",
    "    yhat = map_me.yhat.fillna(0)\n",
    ")"
   ]
  },
  {
   "cell_type": "code",
   "execution_count": null,
   "metadata": {},
   "outputs": [],
   "source": [
    "# Plot maps of actual TOC vs predicted TOC\n",
    "def make_map(predictions):\n",
    "    cmap=\"plasma\"\n",
    "    fig, axes = plt.subplots(1,2, figsize=(9, 9))\n",
    "    axes[0].axis(\"off\")\n",
    "    axes[0].set_title(\"Actual TOC\")\n",
    "    \n",
    "    map_me.plot(ax=axes[0], column = \"TOC\", cmap = cmap)\n",
    "    \n",
    "    axes[1].axis(\"off\")\n",
    "    axes[1].set_title(\"Predicted TOC\")\n",
    "     \n",
    "    map_me.plot(ax=axes[1], column=\"yhat\", cmap=cmap)\n",
    "    \n",
    "    plt.close(fig)\n",
    "    return fig"
   ]
  },
  {
   "cell_type": "code",
   "execution_count": null,
   "metadata": {},
   "outputs": [],
   "source": [
    "make_map(with_yhat)"
   ]
  },
  {
   "cell_type": "markdown",
   "metadata": {},
   "source": [
    "## Logistic Regression\n",
    "\n",
    "Do logistic regression trying to predict `toc_AIN`, which is 0/1."
   ]
  },
  {
   "cell_type": "code",
   "execution_count": null,
   "metadata": {},
   "outputs": [],
   "source": [
    "logistic_model = sklearn.linear_model.LogisticRegression(fit_intercept=True)"
   ]
  },
  {
   "cell_type": "code",
   "execution_count": null,
   "metadata": {},
   "outputs": [],
   "source": [
    "logistic_variables = [\n",
    "    \"pct_eligible_zoning\"\n",
    "]\n",
    "target = \"toc_AIN\""
   ]
  },
  {
   "cell_type": "code",
   "execution_count": null,
   "metadata": {},
   "outputs": [],
   "source": [
    "fig, axes = plt.subplots(1, 2, figsize=(9,4))\n",
    "for i, var in enumerate(logistic_variables + [\"toc_AIN\"]):\n",
    "    # Can also designate which specific grid if we wanted to do a 2x3 grid\n",
    "    #ax1 = plt.subplot2grid((3,2),(0, 0))\n",
    "    ax = axes.ravel()[i]\n",
    "    joined.reset_index().plot(ax=ax, column=var)\n",
    "    ax.axis(\"off\")\n",
    "    ax.set_title(var)"
   ]
  },
  {
   "cell_type": "code",
   "execution_count": null,
   "metadata": {},
   "outputs": [],
   "source": [
    "logistic_model.fit(joined[logistic_variables], joined[\"toc_AIN\"])"
   ]
  },
  {
   "cell_type": "code",
   "execution_count": null,
   "metadata": {},
   "outputs": [],
   "source": [
    "logistic_model_yhat = logistic_model.predict(joined[logistic_variables])"
   ]
  },
  {
   "cell_type": "code",
   "execution_count": null,
   "metadata": {},
   "outputs": [],
   "source": [
    "yhat = pandas.DataFrame(logistic_model_yhat).rename(columns = {0: \"yhat\"})\n",
    "with_yhat = pandas.merge(\n",
    "                joined.reset_index(), \n",
    "                yhat, \n",
    "                left_index=True, \n",
    "                right_index=True)\n",
    "\n",
    "with_yhat.head()"
   ]
  },
  {
   "cell_type": "code",
   "execution_count": null,
   "metadata": {},
   "outputs": [],
   "source": [
    "map_me = pandas.merge(tracts, with_yhat.drop(columns = \"geometry\"), \n",
    "                       on = \"GEOID\", how = \"left\", validate = \"1:1\")\n",
    "\n",
    "map_me = map_me.assign(\n",
    "    yhat = map_me.yhat.fillna(0)\n",
    ")"
   ]
  },
  {
   "cell_type": "code",
   "execution_count": null,
   "metadata": {},
   "outputs": [],
   "source": [
    "# Plot maps of actual TOC vs predicted TOC\n",
    "def make_map(predictions):\n",
    "    cmap=\"plasma\"\n",
    "    fig, axes = plt.subplots(1,2, figsize=(9, 9))\n",
    "    axes[0].axis(\"off\")\n",
    "    axes[0].set_title(\"Actual toc_AIN\")\n",
    "    \n",
    "    map_me.plot(ax=axes[0], column = \"toc_AIN\", cmap = cmap)\n",
    "    \n",
    "    axes[1].axis(\"off\")\n",
    "    axes[1].set_title(\"Predicted toc_AIN\")\n",
    "     \n",
    "    map_me.plot(ax=axes[1], column=\"yhat\", cmap=cmap)\n",
    "    \n",
    "    plt.close(fig)\n",
    "    return fig"
   ]
  },
  {
   "cell_type": "code",
   "execution_count": null,
   "metadata": {},
   "outputs": [],
   "source": [
    "make_map(with_yhat)"
   ]
  },
  {
   "cell_type": "markdown",
   "metadata": {},
   "source": [
    "## Random Forest"
   ]
  },
  {
   "cell_type": "code",
   "execution_count": null,
   "metadata": {},
   "outputs": [],
   "source": [
    "variables = [\n",
    "    \"medhhincome\",\n",
    "    \"pct_pop_renter\",\n",
    "    \"pct_zero_veh_workers\",\n",
    "    \"density\",\n",
    "    \"pct_whitenonhisp\",\n",
    "    \"pct_eligible_zoning\", \n",
    "    \"Tier_1\",\n",
    "    \"Tier_2\",\n",
    "    \"Tier_3\",\n",
    "    \"Tier_4\",\n",
    "]\n",
    "target = \"TOC\""
   ]
  },
  {
   "cell_type": "code",
   "execution_count": null,
   "metadata": {},
   "outputs": [],
   "source": [
    "to_fit = joined[\n",
    "    (joined.Tier_1 > 0) |\n",
    "    (joined.Tier_2 > 0) |\n",
    "    (joined.Tier_3 > 0) |\n",
    "    (joined.Tier_4 > 0)\n",
    "]"
   ]
  },
  {
   "cell_type": "code",
   "execution_count": null,
   "metadata": {},
   "outputs": [],
   "source": [
    "# Set a max depth to avoid over-fitting\n",
    "random_forest_model = sklearn.pipeline.Pipeline([\n",
    "    (\"scaler\", sklearn.preprocessing.StandardScaler(with_mean=True)),\n",
    "    (\"regressor\", sklearn.ensemble.RandomForestRegressor(max_depth=10)),\n",
    "])"
   ]
  },
  {
   "cell_type": "code",
   "execution_count": null,
   "metadata": {},
   "outputs": [],
   "source": [
    "# VERY SMALL CHANGES (original tracts already has index set to GEOID)\n",
    "def plot_model(predictions):\n",
    "    vmin=0\n",
    "    vmax=0.15\n",
    "    cmap=\"plasma\"\n",
    "    fig, axes = plt.subplots(1,2, figsize=(16, 16))\n",
    "    axes[0].axis(\"off\")\n",
    "    axes[0].set_title(\"Actual TOC/parcel\")\n",
    "    (tracts.set_index(\"GEOID\")\n",
    "     .assign(\n",
    "         TOC=to_fit.TOC,\n",
    "         # MINOR CHANGE HERE\n",
    "         norm_TOC=to_fit.TOC.divide(to_fit.total_AIN),\n",
    "     ).fillna({\"TOC\": 0, \"norm_TOC\": 0})\n",
    "     .plot(ax=axes[0],column=\"norm_TOC\", vmax=vmax, vmin=vmin, cmap=cmap)\n",
    "    )\n",
    "    axes[1].axis(\"off\")\n",
    "    axes[1].set_title(\"Predicted TOC/parcel\")\n",
    "    (tracts.set_index(\"GEOID\")\n",
    "     .assign(\n",
    "         predictions=pandas.Series(predictions, index=to_fit.index),\n",
    "         # MINOR CHANGE HERE\n",
    "         norm_pred=pandas.Series(predictions, index=to_fit.index).divide(to_fit.total_AIN),\n",
    "     )\n",
    "     .fillna({\"predictions\": 0, \"norm_pred\": 0})\n",
    "     .plot(ax=axes[1],column=\"norm_pred\", cmap=cmap, vmin=vmin, vmax=vmax)\n",
    "    )\n",
    "    plt.close(fig)\n",
    "    return fig"
   ]
  },
  {
   "cell_type": "code",
   "execution_count": null,
   "metadata": {},
   "outputs": [],
   "source": [
    "np.random.seed(1)\n",
    "\n",
    "random_forest_model.fit(to_fit[variables], to_fit[target])\n",
    "plot_model(random_forest_model.predict(to_fit[variables]))"
   ]
  },
  {
   "cell_type": "code",
   "execution_count": null,
   "metadata": {},
   "outputs": [],
   "source": [
    "print(f\"Score: {random_forest_model.score(to_fit[variables], to_fit[target])}\")\n",
    "pandas.Series(\n",
    "    random_forest_model[\"regressor\"].feature_importances_,\n",
    "    index=variables,\n",
    ").sort_values(ascending=False)"
   ]
  },
  {
   "cell_type": "code",
   "execution_count": null,
   "metadata": {},
   "outputs": [],
   "source": [
    "imp = sklearn.inspection.permutation_importance(\n",
    "    random_forest_model,\n",
    "    to_fit[variables],\n",
    "    to_fit[target]\n",
    ")\n",
    "pandas.Series(imp[\"importances_mean\"], index=variables)"
   ]
  },
  {
   "cell_type": "code",
   "execution_count": null,
   "metadata": {},
   "outputs": [],
   "source": [
    "feature_importance = pandas.Series(\n",
    "    random_forest_model[\"regressor\"].feature_importances_,\n",
    "    index=variables,\n",
    ").sort_values(ascending=False).to_frame(\"feature_importance\")\n",
    "\n",
    "importances_mean = pandas.Series(imp[\"importances_mean\"], index=variables).to_frame(\"importances_mean\")"
   ]
  },
  {
   "cell_type": "code",
   "execution_count": null,
   "metadata": {},
   "outputs": [],
   "source": [
    "feature_importance.merge(\n",
    "    importances_mean, \n",
    "    left_index=True, \n",
    "    right_index=True).sort_values(\"feature_importance\")"
   ]
  },
  {
   "cell_type": "code",
   "execution_count": null,
   "metadata": {},
   "outputs": [],
   "source": [
    "# Try without Tier_* variables\n",
    "np.random.seed(1)\n",
    "variables2 = [\n",
    "    \"medhhincome\",\n",
    "    \"pct_pop_renter\",\n",
    "    \"pct_zero_veh_workers\",\n",
    "    \"density\",\n",
    "    \"pct_whitenonhisp\",\n",
    "    \"pct_eligible_zoning\", \n",
    "]\n",
    "\n",
    "target = \"TOC\"\n",
    "\n",
    "random_forest_model.fit(to_fit[variables2], to_fit[target])\n",
    "plot_model(random_forest_model.predict(to_fit[variables2]))"
   ]
  },
  {
   "cell_type": "code",
   "execution_count": null,
   "metadata": {},
   "outputs": [],
   "source": [
    "print(f\"Score: {random_forest_model.score(to_fit[variables2], to_fit[target])}\")\n",
    "feature_importance = pandas.Series(\n",
    "    random_forest_model[\"regressor\"].feature_importances_,\n",
    "    index=variables2,\n",
    ").sort_values(ascending=False).to_frame(\"feature_importance\")\n",
    "\n",
    "imp = sklearn.inspection.permutation_importance(\n",
    "    random_forest_model,\n",
    "    to_fit[variables2],\n",
    "    to_fit[target]\n",
    ")\n",
    "\n",
    "importances_mean = pandas.Series(imp[\"importances_mean\"], index=variables2).to_frame(\"importances_mean\")"
   ]
  },
  {
   "cell_type": "code",
   "execution_count": null,
   "metadata": {},
   "outputs": [],
   "source": [
    "feature_importance.merge(\n",
    "    importances_mean, \n",
    "    left_index=True, \n",
    "    right_index=True).sort_values(\"feature_importance\")"
   ]
  },
  {
   "cell_type": "code",
   "execution_count": null,
   "metadata": {},
   "outputs": [],
   "source": [
    "np.random.seed(1)\n",
    "fewer_variables = [\n",
    "    \"Tier_3\",\n",
    "    \"Tier_2\",\n",
    "    \"pct_pop_renter\",\n",
    "]\n",
    "\n",
    "random_forest_model.fit(to_fit[fewer_variables], to_fit[target])\n",
    "plot_model(random_forest_model.predict(to_fit[fewer_variables]))"
   ]
  },
  {
   "cell_type": "code",
   "execution_count": null,
   "metadata": {},
   "outputs": [],
   "source": [
    "print(f\"Score: {random_forest_model.score(to_fit[fewer_variables], to_fit[target])}\")\n",
    "feature_importance = pandas.Series(\n",
    "    random_forest_model[\"regressor\"].feature_importances_,\n",
    "    index=fewer_variables\n",
    ").sort_values(ascending=False).to_frame(\"feature_importance\")\n",
    "\n",
    "imp = sklearn.inspection.permutation_importance(\n",
    "    random_forest_model,\n",
    "    to_fit[fewer_variables],\n",
    "    to_fit[target]\n",
    ")\n",
    "importance_means = pandas.Series(imp[\"importances_mean\"], index=fewer_variables).to_frame(\"importance_means\")"
   ]
  },
  {
   "cell_type": "code",
   "execution_count": null,
   "metadata": {},
   "outputs": [],
   "source": [
    "feature_importance.merge(\n",
    "    importances_mean, \n",
    "    left_index=True, \n",
    "    right_index=True).sort_values(\"feature_importance\")"
   ]
  },
  {
   "cell_type": "markdown",
   "metadata": {},
   "source": [
    "## Poisson Regression"
   ]
  },
  {
   "cell_type": "code",
   "execution_count": null,
   "metadata": {},
   "outputs": [],
   "source": [
    "poisson_model = sklearn.pipeline.Pipeline([\n",
    "    (\"scaler\", sklearn.preprocessing.StandardScaler(with_mean=True)),\n",
    "    (\"regressor\", sklearn.linear_model.PoissonRegressor(fit_intercept=True, alpha=0, tol=1.e-6))\n",
    "])"
   ]
  },
  {
   "cell_type": "code",
   "execution_count": null,
   "metadata": {},
   "outputs": [],
   "source": [
    "poisson_model.fit(to_fit[fewer_variables], to_fit[target])\n",
    "plot_model(poisson_model.predict(to_fit[fewer_variables]))"
   ]
  },
  {
   "cell_type": "code",
   "execution_count": null,
   "metadata": {},
   "outputs": [],
   "source": [
    "print(f\"Poisson Score: {poisson_model.score(to_fit[fewer_variables], to_fit[target].astype('int64'))}\")\n",
    "imp = sklearn.inspection.permutation_importance(\n",
    "    poisson_model,\n",
    "    to_fit[fewer_variables],\n",
    "    to_fit[target].astype(\"int64\")\n",
    ")\n",
    "pandas.Series(imp[\"importances_mean\"], index=fewer_variables)"
   ]
  },
  {
   "cell_type": "code",
   "execution_count": null,
   "metadata": {},
   "outputs": [],
   "source": [
    "poisson_model.fit(to_fit[fewer_variables], to_fit[target].astype('int64'))"
   ]
  },
  {
   "cell_type": "code",
   "execution_count": null,
   "metadata": {},
   "outputs": [],
   "source": [
    "poisson_model_yhat = poisson_model.predict(to_fit[fewer_variables]).astype(\"int64\")"
   ]
  },
  {
   "cell_type": "code",
   "execution_count": null,
   "metadata": {},
   "outputs": [],
   "source": [
    "yhat = pandas.DataFrame(poisson_model_yhat).rename(columns = {0: \"yhat\"})\n",
    "with_yhat = pandas.merge(\n",
    "                joined.reset_index(), \n",
    "                yhat, \n",
    "                left_index=True, \n",
    "                right_index=True)\n",
    "\n",
    "with_yhat.head()"
   ]
  },
  {
   "cell_type": "code",
   "execution_count": null,
   "metadata": {},
   "outputs": [],
   "source": [
    "map_me = pandas.merge(tracts, with_yhat.drop(columns = \"geometry\"), \n",
    "                       on = \"GEOID\", how = \"left\", validate = \"1:1\")\n",
    "\n",
    "map_me = map_me.assign(\n",
    "    TOC = map_me.TOC.fillna(0),\n",
    "    yhat = map_me.yhat.fillna(0)\n",
    ")"
   ]
  },
  {
   "cell_type": "code",
   "execution_count": null,
   "metadata": {},
   "outputs": [],
   "source": [
    "# Plot maps of actual TOC vs predicted TOC\n",
    "def make_map(predictions):\n",
    "    cmap=\"plasma\"\n",
    "    fig, axes = plt.subplots(1,2, figsize=(9, 9))\n",
    "    axes[0].axis(\"off\")\n",
    "    axes[0].set_title(\"Actual TOC\")\n",
    "    \n",
    "    map_me.plot(ax=axes[0], column = \"TOC\", cmap = cmap)\n",
    "    \n",
    "    axes[1].axis(\"off\")\n",
    "    axes[1].set_title(\"Predicted TOC\")\n",
    "     \n",
    "    map_me.plot(ax=axes[1], column=\"yhat\", cmap=cmap)\n",
    "    \n",
    "    plt.close(fig)\n",
    "    return fig"
   ]
  },
  {
   "cell_type": "code",
   "execution_count": null,
   "metadata": {},
   "outputs": [],
   "source": [
    "make_map(map_me)"
   ]
  },
  {
   "cell_type": "code",
   "execution_count": null,
   "metadata": {},
   "outputs": [],
   "source": [
    "def sample_poisson_model(data, target, norm=1, seed=1): \n",
    "    def get_coefs(model):\n",
    "        return model[\"regressor\"].coef_\n",
    "    rs = np.random.RandomState(seed)\n",
    "    samples = np.array([\n",
    "        get_coefs(\n",
    "            poisson_model.fit(\n",
    "                *sklearn.utils.resample(\n",
    "                    data,\n",
    "                    (target/norm).replace([np.nan, np.inf], 0.0),\n",
    "                    random_state=rs,\n",
    "                )\n",
    "            )\n",
    "        )\n",
    "        for i in range(1000)\n",
    "    ])\n",
    "    return samples"
   ]
  },
  {
   "cell_type": "code",
   "execution_count": null,
   "metadata": {},
   "outputs": [],
   "source": [
    "subset = fewer_variables\n",
    "samples = sample_poisson_model(to_fit[subset], to_fit[target])\n",
    "\n",
    "fig, axes = plt.subplots(\n",
    "    len(subset),\n",
    "    1,\n",
    "    sharex=True,\n",
    "    sharey=True,\n",
    "    figsize=(8,12),\n",
    "\n",
    ")\n",
    "\n",
    "for i, var in enumerate(subset):\n",
    "    ax = axes[i]\n",
    "    ax.violinplot(samples[:,i], vert=False)\n",
    "    ax.set_ylabel(var)\n",
    "    ax.axvline(0, color=\"maroon\", ls=\"--\")"
   ]
  },
  {
   "cell_type": "code",
   "execution_count": null,
   "metadata": {},
   "outputs": [],
   "source": [
    "scaler = poisson_model[\"scaler\"]\n",
    "regressor = poisson_model[\"regressor\"]\n",
    "\n",
    "print(scaler)\n",
    "print(regressor)"
   ]
  },
  {
   "cell_type": "code",
   "execution_count": null,
   "metadata": {},
   "outputs": [],
   "source": [
    "beta = pandas.Series(regressor.coef_/scaler.scale_, index=fewer_variables)\n",
    "alpha = regressor.intercept_ - np.dot(scaler.mean_, beta)\n",
    "print(beta)\n",
    "print(alpha)"
   ]
  },
  {
   "cell_type": "code",
   "execution_count": null,
   "metadata": {},
   "outputs": [],
   "source": [
    "# Back out the coefficients to be interpretable as incidence rate ratios\n",
    "# Apply e^(coeff) to get it\n",
    "# https://stats.idre.ucla.edu/stata/output/poisson-regression/\n",
    "import IPython.display\n",
    "\n",
    "scale = 100\n",
    "val = (np.exp(beta[0]*scale)-1.0)*100.\n",
    "display(IPython.display.Markdown(\n",
    "    f\"For every {scale:,} Tier 3 parcels, \"\n",
    "    f\"there is a {val:.0f}% increase in TOC entitlements\"\n",
    "))\n",
    "scale = 100\n",
    "val = (np.exp(beta[1]*scale)-1.0)*100.\n",
    "display(IPython.display.Markdown(\n",
    "    f\"For every {scale:,} Tier 2 parcels, \"\n",
    "    f\"there is a {val:.0f}% increase in TOC entitlements\"\n",
    "))\n",
    "scale = 0.1\n",
    "val = (np.exp(beta[2]*scale)-1)*100.\n",
    "display(IPython.display.Markdown(\n",
    "    f\"For every {100*scale:g}% increase in population of renters, \"\n",
    "    f\"there is a {val:.0f}% increase in TOC entitlements\"\n",
    "))"
   ]
  },
  {
   "cell_type": "code",
   "execution_count": null,
   "metadata": {},
   "outputs": [],
   "source": [
    "coeff1 = -.0035232 \n",
    "np.exp(coeff1)"
   ]
  },
  {
   "cell_type": "code",
   "execution_count": null,
   "metadata": {},
   "outputs": [],
   "source": []
  }
 ],
 "metadata": {
  "kernelspec": {
   "display_name": "Python 3",
   "language": "python",
   "name": "python3"
  },
  "language_info": {
   "codemirror_mode": {
    "name": "ipython",
    "version": 3
   },
   "file_extension": ".py",
   "mimetype": "text/x-python",
   "name": "python",
   "nbconvert_exporter": "python",
   "pygments_lexer": "ipython3",
   "version": "3.7.8"
  }
 },
 "nbformat": 4,
 "nbformat_minor": 4
}
