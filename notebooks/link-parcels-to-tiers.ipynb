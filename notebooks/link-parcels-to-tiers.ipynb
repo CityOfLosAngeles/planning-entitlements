{
 "cells": [
  {
   "cell_type": "markdown",
   "metadata": {},
   "source": [
    "# Link census tracts to TOC tiers\n",
    "* Find what proportion belongs within a particular tier\n",
    "* Make a crosswalk that tells you what % of that tract falls in what tier"
   ]
  },
  {
   "cell_type": "code",
   "execution_count": 1,
   "metadata": {},
   "outputs": [],
   "source": [
    "import intake\n",
    "import numpy as np\n",
    "import pandas as pd\n",
    "import geopandas as gpd\n",
    "import boto3\n",
    "import utils"
   ]
  },
  {
   "cell_type": "code",
   "execution_count": 2,
   "metadata": {},
   "outputs": [],
   "source": [
    "catalog = intake.open_catalog(\"../catalogs/*.yml\")\n",
    "\n",
    "s3 = boto3.client('s3')\n",
    "bucket_name = 'city-planning-entitlements'"
   ]
  },
  {
   "cell_type": "markdown",
   "metadata": {},
   "source": [
    "To do: figure out where toc_parcels_tracts.zip is created (probably in scripts)\n",
    "What is the universe of tracts?\n",
    "Tracts that touch TOC Tiers? Probably, but they should definitely have a 0, 1, 2, 3, 4 observation, then we can fill in the corresponding % for each tier, and it has to sum to 1. No more, no less.\n",
    "That should be our crosswalk, so when we merge on GEOID and TOC_Tier, we will not be losing obs like the way we are now."
   ]
  },
  {
   "cell_type": "code",
   "execution_count": 3,
   "metadata": {},
   "outputs": [
    {
     "name": "stderr",
     "output_type": "stream",
     "text": [
      "/opt/conda/lib/python3.7/site-packages/pyproj/crs/crs.py:53: FutureWarning: '+init=<authority>:<code>' syntax is deprecated. '<authority>:<code>' is the preferred initialization method. When making the change, be mindful of axis order changes: https://pyproj4.github.io/pyproj/stable/gotchas.html#axis-order-changes-in-proj-6\n",
      "  return _prepare_from_string(\" \".join(pjargs))\n"
     ]
    }
   ],
   "source": [
    "toc_parcels = gpd.read_file(\n",
    "    f\"s3://{bucket_name}/gis/intermediate/toc_eligible_parcels_with_entitlements.geojson\"\n",
    ").to_crs({'init':'epsg:2229'})\n",
    "\n",
    "crosswalk = pd.read_parquet(\n",
    "            f's3://{bucket_name}/data/crosswalk_parcels_tracts.parquet')"
   ]
  },
  {
   "cell_type": "code",
   "execution_count": 4,
   "metadata": {},
   "outputs": [
    {
     "data": {
      "text/html": [
       "<div>\n",
       "<style scoped>\n",
       "    .dataframe tbody tr th:only-of-type {\n",
       "        vertical-align: middle;\n",
       "    }\n",
       "\n",
       "    .dataframe tbody tr th {\n",
       "        vertical-align: top;\n",
       "    }\n",
       "\n",
       "    .dataframe thead th {\n",
       "        text-align: right;\n",
       "    }\n",
       "</style>\n",
       "<table border=\"1\" class=\"dataframe\">\n",
       "  <thead>\n",
       "    <tr style=\"text-align: right;\">\n",
       "      <th></th>\n",
       "      <th>AIN</th>\n",
       "      <th>parcelsqft</th>\n",
       "      <th>num_AIN</th>\n",
       "      <th>parcel_tot</th>\n",
       "      <th>TOC_Tier</th>\n",
       "      <th>GEOID</th>\n",
       "      <th>pop</th>\n",
       "    </tr>\n",
       "  </thead>\n",
       "  <tbody>\n",
       "    <tr>\n",
       "      <th>0</th>\n",
       "      <td>2004001003</td>\n",
       "      <td>9685.584413</td>\n",
       "      <td>1</td>\n",
       "      <td>1.699026e+07</td>\n",
       "      <td>0</td>\n",
       "      <td>06037113232</td>\n",
       "      <td>4265</td>\n",
       "    </tr>\n",
       "    <tr>\n",
       "      <th>1</th>\n",
       "      <td>2004001004</td>\n",
       "      <td>9909.894745</td>\n",
       "      <td>1</td>\n",
       "      <td>1.699026e+07</td>\n",
       "      <td>0</td>\n",
       "      <td>06037113232</td>\n",
       "      <td>4265</td>\n",
       "    </tr>\n",
       "    <tr>\n",
       "      <th>2</th>\n",
       "      <td>2004001005</td>\n",
       "      <td>9641.455082</td>\n",
       "      <td>1</td>\n",
       "      <td>1.699026e+07</td>\n",
       "      <td>0</td>\n",
       "      <td>06037113232</td>\n",
       "      <td>4265</td>\n",
       "    </tr>\n",
       "    <tr>\n",
       "      <th>3</th>\n",
       "      <td>2004001008</td>\n",
       "      <td>11814.429891</td>\n",
       "      <td>1</td>\n",
       "      <td>1.699026e+07</td>\n",
       "      <td>0</td>\n",
       "      <td>06037113232</td>\n",
       "      <td>4265</td>\n",
       "    </tr>\n",
       "    <tr>\n",
       "      <th>4</th>\n",
       "      <td>2004001009</td>\n",
       "      <td>14878.423677</td>\n",
       "      <td>1</td>\n",
       "      <td>1.699026e+07</td>\n",
       "      <td>0</td>\n",
       "      <td>06037113232</td>\n",
       "      <td>4265</td>\n",
       "    </tr>\n",
       "  </tbody>\n",
       "</table>\n",
       "</div>"
      ],
      "text/plain": [
       "          AIN    parcelsqft  num_AIN    parcel_tot  TOC_Tier        GEOID  \\\n",
       "0  2004001003   9685.584413        1  1.699026e+07         0  06037113232   \n",
       "1  2004001004   9909.894745        1  1.699026e+07         0  06037113232   \n",
       "2  2004001005   9641.455082        1  1.699026e+07         0  06037113232   \n",
       "3  2004001008  11814.429891        1  1.699026e+07         0  06037113232   \n",
       "4  2004001009  14878.423677        1  1.699026e+07         0  06037113232   \n",
       "\n",
       "    pop  \n",
       "0  4265  \n",
       "1  4265  \n",
       "2  4265  \n",
       "3  4265  \n",
       "4  4265  "
      ]
     },
     "execution_count": 4,
     "metadata": {},
     "output_type": "execute_result"
    }
   ],
   "source": [
    "crosswalk.head()"
   ]
  },
  {
   "cell_type": "code",
   "execution_count": 6,
   "metadata": {},
   "outputs": [
    {
     "data": {
      "text/html": [
       "<div>\n",
       "<style scoped>\n",
       "    .dataframe tbody tr th:only-of-type {\n",
       "        vertical-align: middle;\n",
       "    }\n",
       "\n",
       "    .dataframe tbody tr th {\n",
       "        vertical-align: top;\n",
       "    }\n",
       "\n",
       "    .dataframe thead th {\n",
       "        text-align: right;\n",
       "    }\n",
       "</style>\n",
       "<table border=\"1\" class=\"dataframe\">\n",
       "  <thead>\n",
       "    <tr style=\"text-align: right;\">\n",
       "      <th></th>\n",
       "      <th>AIN</th>\n",
       "      <th>TOC_Tier</th>\n",
       "      <th>zone_class</th>\n",
       "      <th>num_TOC</th>\n",
       "      <th>num_nonTOC</th>\n",
       "      <th>geometry</th>\n",
       "    </tr>\n",
       "  </thead>\n",
       "  <tbody>\n",
       "    <tr>\n",
       "      <th>0</th>\n",
       "      <td>2023007025</td>\n",
       "      <td>2</td>\n",
       "      <td>C1</td>\n",
       "      <td>0</td>\n",
       "      <td>1</td>\n",
       "      <td>POINT (6378341.204 1896637.395)</td>\n",
       "    </tr>\n",
       "    <tr>\n",
       "      <th>1</th>\n",
       "      <td>2038040006</td>\n",
       "      <td>1</td>\n",
       "      <td>C2</td>\n",
       "      <td>0</td>\n",
       "      <td>1</td>\n",
       "      <td>POINT (6371948.529 1893038.654)</td>\n",
       "    </tr>\n",
       "    <tr>\n",
       "      <th>2</th>\n",
       "      <td>2038040011</td>\n",
       "      <td>2</td>\n",
       "      <td>C2</td>\n",
       "      <td>0</td>\n",
       "      <td>1</td>\n",
       "      <td>POINT (6373036.425 1893025.229)</td>\n",
       "    </tr>\n",
       "    <tr>\n",
       "      <th>3</th>\n",
       "      <td>2038040012</td>\n",
       "      <td>1</td>\n",
       "      <td>C2</td>\n",
       "      <td>0</td>\n",
       "      <td>2</td>\n",
       "      <td>POINT (6372758.850 1892764.015)</td>\n",
       "    </tr>\n",
       "    <tr>\n",
       "      <th>4</th>\n",
       "      <td>2038040013</td>\n",
       "      <td>1</td>\n",
       "      <td>C2</td>\n",
       "      <td>0</td>\n",
       "      <td>1</td>\n",
       "      <td>POINT (6372539.107 1892565.468)</td>\n",
       "    </tr>\n",
       "  </tbody>\n",
       "</table>\n",
       "</div>"
      ],
      "text/plain": [
       "          AIN  TOC_Tier zone_class  num_TOC  num_nonTOC  \\\n",
       "0  2023007025         2         C1        0           1   \n",
       "1  2038040006         1         C2        0           1   \n",
       "2  2038040011         2         C2        0           1   \n",
       "3  2038040012         1         C2        0           2   \n",
       "4  2038040013         1         C2        0           1   \n",
       "\n",
       "                          geometry  \n",
       "0  POINT (6378341.204 1896637.395)  \n",
       "1  POINT (6371948.529 1893038.654)  \n",
       "2  POINT (6373036.425 1893025.229)  \n",
       "3  POINT (6372758.850 1892764.015)  \n",
       "4  POINT (6372539.107 1892565.468)  "
      ]
     },
     "execution_count": 6,
     "metadata": {},
     "output_type": "execute_result"
    }
   ],
   "source": [
    "toc_parcels.head()"
   ]
  },
  {
   "cell_type": "code",
   "execution_count": 8,
   "metadata": {},
   "outputs": [],
   "source": [
    "# Merge in parcel-to-tracts crosswalk with those that have TOC entitlements\n",
    "m1 = pd.merge(crosswalk, toc_parcels.drop(columns = 'geometry'), \n",
    "              on = ['AIN', 'TOC_Tier'], how = 'left', validate = '1:1')"
   ]
  },
  {
   "cell_type": "code",
   "execution_count": 9,
   "metadata": {},
   "outputs": [
    {
     "data": {
      "text/html": [
       "<div>\n",
       "<style scoped>\n",
       "    .dataframe tbody tr th:only-of-type {\n",
       "        vertical-align: middle;\n",
       "    }\n",
       "\n",
       "    .dataframe tbody tr th {\n",
       "        vertical-align: top;\n",
       "    }\n",
       "\n",
       "    .dataframe thead th {\n",
       "        text-align: right;\n",
       "    }\n",
       "</style>\n",
       "<table border=\"1\" class=\"dataframe\">\n",
       "  <thead>\n",
       "    <tr style=\"text-align: right;\">\n",
       "      <th></th>\n",
       "      <th>AIN</th>\n",
       "      <th>parcelsqft</th>\n",
       "      <th>num_AIN</th>\n",
       "      <th>parcel_tot</th>\n",
       "      <th>TOC_Tier</th>\n",
       "      <th>GEOID</th>\n",
       "      <th>pop</th>\n",
       "      <th>zone_class</th>\n",
       "      <th>num_TOC</th>\n",
       "      <th>num_nonTOC</th>\n",
       "    </tr>\n",
       "  </thead>\n",
       "  <tbody>\n",
       "    <tr>\n",
       "      <th>0</th>\n",
       "      <td>2004001003</td>\n",
       "      <td>9685.584413</td>\n",
       "      <td>1</td>\n",
       "      <td>1.699026e+07</td>\n",
       "      <td>0</td>\n",
       "      <td>06037113232</td>\n",
       "      <td>4265</td>\n",
       "      <td>NaN</td>\n",
       "      <td>NaN</td>\n",
       "      <td>NaN</td>\n",
       "    </tr>\n",
       "    <tr>\n",
       "      <th>1</th>\n",
       "      <td>2004001004</td>\n",
       "      <td>9909.894745</td>\n",
       "      <td>1</td>\n",
       "      <td>1.699026e+07</td>\n",
       "      <td>0</td>\n",
       "      <td>06037113232</td>\n",
       "      <td>4265</td>\n",
       "      <td>NaN</td>\n",
       "      <td>NaN</td>\n",
       "      <td>NaN</td>\n",
       "    </tr>\n",
       "    <tr>\n",
       "      <th>2</th>\n",
       "      <td>2004001005</td>\n",
       "      <td>9641.455082</td>\n",
       "      <td>1</td>\n",
       "      <td>1.699026e+07</td>\n",
       "      <td>0</td>\n",
       "      <td>06037113232</td>\n",
       "      <td>4265</td>\n",
       "      <td>NaN</td>\n",
       "      <td>NaN</td>\n",
       "      <td>NaN</td>\n",
       "    </tr>\n",
       "    <tr>\n",
       "      <th>3</th>\n",
       "      <td>2004001008</td>\n",
       "      <td>11814.429891</td>\n",
       "      <td>1</td>\n",
       "      <td>1.699026e+07</td>\n",
       "      <td>0</td>\n",
       "      <td>06037113232</td>\n",
       "      <td>4265</td>\n",
       "      <td>NaN</td>\n",
       "      <td>NaN</td>\n",
       "      <td>NaN</td>\n",
       "    </tr>\n",
       "    <tr>\n",
       "      <th>4</th>\n",
       "      <td>2004001009</td>\n",
       "      <td>14878.423677</td>\n",
       "      <td>1</td>\n",
       "      <td>1.699026e+07</td>\n",
       "      <td>0</td>\n",
       "      <td>06037113232</td>\n",
       "      <td>4265</td>\n",
       "      <td>NaN</td>\n",
       "      <td>NaN</td>\n",
       "      <td>NaN</td>\n",
       "    </tr>\n",
       "  </tbody>\n",
       "</table>\n",
       "</div>"
      ],
      "text/plain": [
       "          AIN    parcelsqft  num_AIN    parcel_tot  TOC_Tier        GEOID  \\\n",
       "0  2004001003   9685.584413        1  1.699026e+07         0  06037113232   \n",
       "1  2004001004   9909.894745        1  1.699026e+07         0  06037113232   \n",
       "2  2004001005   9641.455082        1  1.699026e+07         0  06037113232   \n",
       "3  2004001008  11814.429891        1  1.699026e+07         0  06037113232   \n",
       "4  2004001009  14878.423677        1  1.699026e+07         0  06037113232   \n",
       "\n",
       "    pop zone_class  num_TOC  num_nonTOC  \n",
       "0  4265        NaN      NaN         NaN  \n",
       "1  4265        NaN      NaN         NaN  \n",
       "2  4265        NaN      NaN         NaN  \n",
       "3  4265        NaN      NaN         NaN  \n",
       "4  4265        NaN      NaN         NaN  "
      ]
     },
     "execution_count": 9,
     "metadata": {},
     "output_type": "execute_result"
    }
   ],
   "source": [
    "m1.head()"
   ]
  },
  {
   "cell_type": "code",
   "execution_count": null,
   "metadata": {},
   "outputs": [],
   "source": [
    "drop_cols = ['x', 'y', 'num_AIN']\n",
    "\n",
    "col_order = ['AIN', 'TOC_Tier', 'zone_class', 'num_TOC', 'num_nonTOC',\n",
    "            'parcelsqft', 'geometry', 'GEOID', 'pop', 'parcel_tot', 'tract_sqft']\n",
    "\n",
    "m3 = (m2\n",
    "      .drop(columns = drop_cols)\n",
    "      # Fill in info for parcels that don't have entitlements\n",
    "      .assign(\n",
    "          TOC_Tier = m2.TOC_Tier.fillna(0).astype(int),\n",
    "          num_TOC = m2.num_TOC.fillna(0).astype(int),\n",
    "          num_nonTOC = m2.num_nonTOC.fillna(0).astype(int),\n",
    "      )\n",
    "      .reindex(columns = col_order)\n",
    ")"
   ]
  },
  {
   "cell_type": "code",
   "execution_count": null,
   "metadata": {},
   "outputs": [],
   "source": [
    "m4 = m3.groupby(['GEOID', 'tract_sqft', 'parcel_tot', 'TOC_Tier']).agg({'parcelsqft':'sum'}).reset_index()\n",
    "\n",
    "m4 = (m4.assign(\n",
    "        pct = m4.parcelsqft / m4.parcel_tot,\n",
    "    ).sort_values(['GEOID', 'pct'], ascending = [True, False])[\n",
    "    ['GEOID', 'TOC_Tier', 'parcelsqft', 'pct']]\n",
    ")"
   ]
  },
  {
   "cell_type": "code",
   "execution_count": null,
   "metadata": {},
   "outputs": [],
   "source": [
    "m4.to_parquet('../data/crosswalk_tracts_tiers.parquet')\n",
    "m4.to_parquet(f's3://{bucket_name}/data/crosswalk_tracts_tiers.parquet')"
   ]
  },
  {
   "cell_type": "markdown",
   "metadata": {},
   "source": [
    "## crosswalk_tracts_tiers\n",
    "We want to expand this so it has obs for tiers 0-4."
   ]
  },
  {
   "cell_type": "code",
   "execution_count": null,
   "metadata": {},
   "outputs": [],
   "source": [
    "crosswalk = pd.read_parquet(f's3://{bucket_name}/data/crosswalk_tracts_tiers.parquet')"
   ]
  },
  {
   "cell_type": "code",
   "execution_count": null,
   "metadata": {},
   "outputs": [],
   "source": [
    "just_GEOID = pd.DataFrame(np.repeat(crosswalk[['GEOID']].drop_duplicates().values, 5, axis=0))\n",
    "just_GEOID.columns = ['GEOID']\n",
    "just_GEOID['TOC_Tier'] = just_GEOID.groupby('GEOID').cumcount()"
   ]
  },
  {
   "cell_type": "markdown",
   "metadata": {},
   "source": [
    "## toc_parcels_tracts"
   ]
  },
  {
   "cell_type": "code",
   "execution_count": null,
   "metadata": {},
   "outputs": [],
   "source": []
  }
 ],
 "metadata": {
  "kernelspec": {
   "display_name": "Python 3",
   "language": "python",
   "name": "python3"
  },
  "language_info": {
   "codemirror_mode": {
    "name": "ipython",
    "version": 3
   },
   "file_extension": ".py",
   "mimetype": "text/x-python",
   "name": "python",
   "nbconvert_exporter": "python",
   "pygments_lexer": "ipython3",
   "version": "3.7.6"
  }
 },
 "nbformat": 4,
 "nbformat_minor": 4
}
