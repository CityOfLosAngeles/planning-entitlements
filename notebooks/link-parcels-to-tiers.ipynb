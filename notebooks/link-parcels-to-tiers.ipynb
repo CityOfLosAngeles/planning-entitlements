{
 "cells": [
  {
   "cell_type": "markdown",
   "metadata": {},
   "source": [
    "# Link census tracts to TOC tiers\n",
    "* Find what proportion belongs within a particular tier\n",
    "* Make a crosswalk that tells you what % of that tract falls in what tier"
   ]
  },
  {
   "cell_type": "code",
   "execution_count": 1,
   "metadata": {},
   "outputs": [],
   "source": [
    "import intake\n",
    "import numpy as np\n",
    "import pandas as pd\n",
    "import geopandas as gpd\n",
    "import boto3\n",
    "import utils"
   ]
  },
  {
   "cell_type": "code",
   "execution_count": 2,
   "metadata": {},
   "outputs": [],
   "source": [
    "catalog = intake.open_catalog(\"../catalogs/*.yml\")\n",
    "\n",
    "s3 = boto3.client('s3')\n",
    "bucket_name = 'city-planning-entitlements'"
   ]
  },
  {
   "cell_type": "markdown",
   "metadata": {},
   "source": [
    "To do: figure out where toc_parcels_tracts.zip is created (probably in scripts)\n",
    "What is the universe of tracts?\n",
    "Tracts that touch TOC Tiers? Probably, but they should definitely have a 0, 1, 2, 3, 4 observation, then we can fill in the corresponding % for each tier, and it has to sum to 1. No more, no less.\n",
    "That should be our crosswalk, so when we merge on GEOID and TOC_Tier, we will not be losing obs like the way we are now."
   ]
  },
  {
   "cell_type": "code",
   "execution_count": null,
   "metadata": {},
   "outputs": [],
   "source": [
    "toc_parcels = gpd.read_file(\n",
    "    f\"s3://{bucket_name}/gis/intermediate/toc_eligible_parcels_with_entitlements.geojson\"\n",
    ").to_crs({'init':'epsg:2229'})\n",
    "\n",
    "crosswalk = gpd.read_file(\n",
    "            f'zip+s3://{bucket_name}/gis/intermediate/toc_parcels_tracts.zip').to_crs({'init':'epsg:2229'})\n",
    "\n",
    "tracts = catalog.census_tracts.read().to_crs({'init':'epsg:2229'})\n",
    "\n",
    "tracts = (\n",
    "    tracts[['GEOID10', 'geometry']]\n",
    "    .rename(columns = {'GEOID10': 'GEOID'})\n",
    "    .assign(tract_sqft = tracts.geometry.area)\n",
    "    .drop(columns = 'geometry')\n",
    ")"
   ]
  },
  {
   "cell_type": "code",
   "execution_count": null,
   "metadata": {},
   "outputs": [],
   "source": [
    "# Merge in parcel-to-tracts crosswalk with those that have TOC entitlements\n",
    "m1 = pd.merge(crosswalk, toc_parcels.drop(columns = 'geometry'), on = 'AIN', how = 'left', validate = '1:1')\n",
    "\n",
    "# Merge in tract's geometry\n",
    "m2 = pd.merge(m1, tracts, on = 'GEOID', how = 'inner', validate = 'm:1')"
   ]
  },
  {
   "cell_type": "code",
   "execution_count": null,
   "metadata": {},
   "outputs": [],
   "source": [
    "drop_cols = ['x', 'y', 'num_AIN']\n",
    "\n",
    "col_order = ['AIN', 'TOC_Tier', 'zone_class', 'num_TOC', 'num_nonTOC',\n",
    "            'parcelsqft', 'geometry', 'GEOID', 'pop', 'parcel_tot', 'tract_sqft']\n",
    "\n",
    "m3 = (m2\n",
    "      .drop(columns = drop_cols)\n",
    "      # Fill in info for parcels that don't have entitlements\n",
    "      .assign(\n",
    "          TOC_Tier = m2.TOC_Tier.fillna(0).astype(int),\n",
    "          num_TOC = m2.num_TOC.fillna(0).astype(int),\n",
    "          num_nonTOC = m2.num_nonTOC.fillna(0).astype(int),\n",
    "      )\n",
    "      .reindex(columns = col_order)\n",
    ")"
   ]
  },
  {
   "cell_type": "code",
   "execution_count": null,
   "metadata": {},
   "outputs": [],
   "source": [
    "m4 = m3.groupby(['GEOID', 'tract_sqft', 'parcel_tot', 'TOC_Tier']).agg({'parcelsqft':'sum'}).reset_index()\n",
    "\n",
    "m4 = (m4.assign(\n",
    "        pct = m4.parcelsqft / m4.parcel_tot,\n",
    "    ).sort_values(['GEOID', 'pct'], ascending = [True, False])[\n",
    "    ['GEOID', 'TOC_Tier', 'parcelsqft', 'pct']]\n",
    ")"
   ]
  },
  {
   "cell_type": "code",
   "execution_count": null,
   "metadata": {},
   "outputs": [],
   "source": [
    "m4.to_parquet('../data/crosswalk_tracts_tiers.parquet')\n",
    "m4.to_parquet(f's3://{bucket_name}/data/crosswalk_tracts_tiers.parquet')"
   ]
  },
  {
   "cell_type": "markdown",
   "metadata": {},
   "source": [
    "## crosswalk_tracts_tiers\n",
    "We want to expand this so it has obs for tiers 0-4."
   ]
  },
  {
   "cell_type": "code",
   "execution_count": null,
   "metadata": {},
   "outputs": [],
   "source": [
    "crosswalk = pd.read_parquet(f's3://{bucket_name}/data/crosswalk_tracts_tiers.parquet')"
   ]
  },
  {
   "cell_type": "code",
   "execution_count": null,
   "metadata": {},
   "outputs": [],
   "source": [
    "just_GEOID = pd.DataFrame(np.repeat(crosswalk[['GEOID']].drop_duplicates().values, 5, axis=0))\n",
    "just_GEOID.columns = ['GEOID']\n",
    "just_GEOID['TOC_Tier'] = just_GEOID.groupby('GEOID').cumcount()"
   ]
  },
  {
   "cell_type": "code",
   "execution_count": null,
   "metadata": {},
   "outputs": [],
   "source": [
    "pd.merge(just_GEOID, crosswalk, how = 'left', validate = '1:1').sort_values(['GEOID', 'TOC_Tier'])"
   ]
  },
  {
   "cell_type": "markdown",
   "metadata": {},
   "source": [
    "## toc_parcels_tracts"
   ]
  },
  {
   "cell_type": "code",
   "execution_count": null,
   "metadata": {},
   "outputs": [],
   "source": []
  }
 ],
 "metadata": {
  "kernelspec": {
   "display_name": "Python 3",
   "language": "python",
   "name": "python3"
  },
  "language_info": {
   "codemirror_mode": {
    "name": "ipython",
    "version": 3
   },
   "file_extension": ".py",
   "mimetype": "text/x-python",
   "name": "python",
   "nbconvert_exporter": "python",
   "pygments_lexer": "ipython3",
   "version": "3.7.6"
  }
 },
 "nbformat": 4,
 "nbformat_minor": 4
}
