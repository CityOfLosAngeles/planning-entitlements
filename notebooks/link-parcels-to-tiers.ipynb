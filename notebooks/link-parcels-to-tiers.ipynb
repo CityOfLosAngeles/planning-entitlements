{
 "cells": [
  {
   "cell_type": "markdown",
   "metadata": {},
   "source": [
    "# Link census tracts to TOC tiers\n",
    "* Find what proportion belongs within a particular tier"
   ]
  },
  {
   "cell_type": "code",
   "execution_count": 1,
   "metadata": {},
   "outputs": [],
   "source": [
    "import intake\n",
    "import numpy as np\n",
    "import pandas as pd\n",
    "import geopandas as gpd\n",
    "import boto3\n",
    "import utils"
   ]
  },
  {
   "cell_type": "code",
   "execution_count": 2,
   "metadata": {},
   "outputs": [],
   "source": [
    "catalog = intake.open_catalog(\"../catalogs/*.yml\")\n",
    "\n",
    "s3 = boto3.client('s3')\n",
    "bucket_name = 'city-planning-entitlements'"
   ]
  },
  {
   "cell_type": "code",
   "execution_count": 3,
   "metadata": {},
   "outputs": [],
   "source": [
    "toc_parcels = gpd.read_file(\n",
    "    f\"s3://{bucket_name}/gis/intermediate/toc_eligible_parcels_with_entitlements.geojson\"\n",
    ").to_crs({'init':'epsg:2229'})\n",
    "\n",
    "crosswalk = gpd.read_file(\n",
    "            f'zip+s3://{bucket_name}/gis/intermediate/toc_parcels_tracts.zip').to_crs({'init':'epsg:2229'})\n",
    "\n",
    "tracts = catalog.census_tracts.read().to_crs({'init':'epsg:2229'})\n",
    "\n",
    "tracts = (\n",
    "    tracts[['GEOID10', 'geometry']]\n",
    "    .rename(columns = {'GEOID10': 'GEOID'})\n",
    "    .assign(tract_sqft = tracts.geometry.area)\n",
    "    .drop(columns = 'geometry')\n",
    ")"
   ]
  },
  {
   "cell_type": "code",
   "execution_count": 4,
   "metadata": {},
   "outputs": [],
   "source": [
    "# Merge in parcel-to-tracts crosswalk with those that have TOC entitlements\n",
    "m1 = pd.merge(crosswalk, toc_parcels.drop(columns = 'geometry'), on = 'AIN', how = 'left', validate = '1:1')\n",
    "\n",
    "# Merge in tract's geometry\n",
    "m2 = pd.merge(m1, tracts, on = 'GEOID', how = 'inner', validate = 'm:1')"
   ]
  },
  {
   "cell_type": "code",
   "execution_count": 5,
   "metadata": {},
   "outputs": [],
   "source": [
    "drop_cols = ['x', 'y', 'num_AIN']\n",
    "\n",
    "col_order = ['AIN', 'TOC_Tier', 'zone_class', 'num_TOC', 'num_nonTOC',\n",
    "            'parcelsqft', 'geometry', 'GEOID', 'pop', 'parcel_tot', 'tract_sqft']\n",
    "\n",
    "m3 = (m2\n",
    "      .drop(columns = drop_cols)\n",
    "      # Fill in info for parcels that don't have entitlements\n",
    "      .assign(\n",
    "          TOC_Tier = m2.TOC_Tier.fillna(0).astype(int),\n",
    "          num_TOC = m2.num_TOC.fillna(0).astype(int),\n",
    "          num_nonTOC = m2.num_nonTOC.fillna(0).astype(int),\n",
    "      )\n",
    "      .reindex(columns = col_order)\n",
    ")"
   ]
  },
  {
   "cell_type": "code",
   "execution_count": 6,
   "metadata": {},
   "outputs": [
    {
     "data": {
      "text/html": [
       "<div>\n",
       "<style scoped>\n",
       "    .dataframe tbody tr th:only-of-type {\n",
       "        vertical-align: middle;\n",
       "    }\n",
       "\n",
       "    .dataframe tbody tr th {\n",
       "        vertical-align: top;\n",
       "    }\n",
       "\n",
       "    .dataframe thead th {\n",
       "        text-align: right;\n",
       "    }\n",
       "</style>\n",
       "<table border=\"1\" class=\"dataframe\">\n",
       "  <thead>\n",
       "    <tr style=\"text-align: right;\">\n",
       "      <th></th>\n",
       "      <th>AIN</th>\n",
       "      <th>TOC_Tier</th>\n",
       "      <th>zone_class</th>\n",
       "      <th>num_TOC</th>\n",
       "      <th>num_nonTOC</th>\n",
       "      <th>parcelsqft</th>\n",
       "      <th>geometry</th>\n",
       "      <th>GEOID</th>\n",
       "      <th>pop</th>\n",
       "      <th>parcel_tot</th>\n",
       "      <th>tract_sqft</th>\n",
       "    </tr>\n",
       "  </thead>\n",
       "  <tbody>\n",
       "    <tr>\n",
       "      <th>0</th>\n",
       "      <td>2010004040</td>\n",
       "      <td>0</td>\n",
       "      <td>NaN</td>\n",
       "      <td>0</td>\n",
       "      <td>0</td>\n",
       "      <td>58199.046307</td>\n",
       "      <td>POLYGON ((6378779.435 1908334.491, 6378886.387...</td>\n",
       "      <td>06037113232</td>\n",
       "      <td>4265</td>\n",
       "      <td>1.699026e+07</td>\n",
       "      <td>2.223457e+07</td>\n",
       "    </tr>\n",
       "    <tr>\n",
       "      <th>1</th>\n",
       "      <td>2024023012</td>\n",
       "      <td>0</td>\n",
       "      <td>NaN</td>\n",
       "      <td>0</td>\n",
       "      <td>0</td>\n",
       "      <td>22112.234435</td>\n",
       "      <td>POLYGON ((6373354.993 1893658.458, 6373354.443...</td>\n",
       "      <td>06037135102</td>\n",
       "      <td>3987</td>\n",
       "      <td>1.275796e+07</td>\n",
       "      <td>1.807589e+07</td>\n",
       "    </tr>\n",
       "  </tbody>\n",
       "</table>\n",
       "</div>"
      ],
      "text/plain": [
       "          AIN  TOC_Tier zone_class  num_TOC  num_nonTOC    parcelsqft  \\\n",
       "0  2010004040         0        NaN        0           0  58199.046307   \n",
       "1  2024023012         0        NaN        0           0  22112.234435   \n",
       "\n",
       "                                            geometry        GEOID   pop  \\\n",
       "0  POLYGON ((6378779.435 1908334.491, 6378886.387...  06037113232  4265   \n",
       "1  POLYGON ((6373354.993 1893658.458, 6373354.443...  06037135102  3987   \n",
       "\n",
       "     parcel_tot    tract_sqft  \n",
       "0  1.699026e+07  2.223457e+07  \n",
       "1  1.275796e+07  1.807589e+07  "
      ]
     },
     "execution_count": 6,
     "metadata": {},
     "output_type": "execute_result"
    }
   ],
   "source": [
    "m3.head(2)"
   ]
  },
  {
   "cell_type": "code",
   "execution_count": 7,
   "metadata": {},
   "outputs": [
    {
     "data": {
      "text/html": [
       "<div>\n",
       "<style scoped>\n",
       "    .dataframe tbody tr th:only-of-type {\n",
       "        vertical-align: middle;\n",
       "    }\n",
       "\n",
       "    .dataframe tbody tr th {\n",
       "        vertical-align: top;\n",
       "    }\n",
       "\n",
       "    .dataframe thead th {\n",
       "        text-align: right;\n",
       "    }\n",
       "</style>\n",
       "<table border=\"1\" class=\"dataframe\">\n",
       "  <thead>\n",
       "    <tr style=\"text-align: right;\">\n",
       "      <th></th>\n",
       "      <th>GEOID</th>\n",
       "      <th>TOC_Tier</th>\n",
       "    </tr>\n",
       "  </thead>\n",
       "  <tbody>\n",
       "    <tr>\n",
       "      <th>7293</th>\n",
       "      <td>06037265202</td>\n",
       "      <td>0</td>\n",
       "    </tr>\n",
       "    <tr>\n",
       "      <th>7317</th>\n",
       "      <td>06037265202</td>\n",
       "      <td>3</td>\n",
       "    </tr>\n",
       "    <tr>\n",
       "      <th>7319</th>\n",
       "      <td>06037265202</td>\n",
       "      <td>4</td>\n",
       "    </tr>\n",
       "    <tr>\n",
       "      <th>13770</th>\n",
       "      <td>06037207301</td>\n",
       "      <td>3</td>\n",
       "    </tr>\n",
       "    <tr>\n",
       "      <th>13771</th>\n",
       "      <td>06037207301</td>\n",
       "      <td>0</td>\n",
       "    </tr>\n",
       "    <tr>\n",
       "      <th>13782</th>\n",
       "      <td>06037207301</td>\n",
       "      <td>4</td>\n",
       "    </tr>\n",
       "    <tr>\n",
       "      <th>22446</th>\n",
       "      <td>06037181000</td>\n",
       "      <td>0</td>\n",
       "    </tr>\n",
       "    <tr>\n",
       "      <th>22449</th>\n",
       "      <td>06037181000</td>\n",
       "      <td>2</td>\n",
       "    </tr>\n",
       "  </tbody>\n",
       "</table>\n",
       "</div>"
      ],
      "text/plain": [
       "             GEOID  TOC_Tier\n",
       "7293   06037265202         0\n",
       "7317   06037265202         3\n",
       "7319   06037265202         4\n",
       "13770  06037207301         3\n",
       "13771  06037207301         0\n",
       "13782  06037207301         4\n",
       "22446  06037181000         0\n",
       "22449  06037181000         2"
      ]
     },
     "execution_count": 7,
     "metadata": {},
     "output_type": "execute_result"
    }
   ],
   "source": [
    "# It's possible for a tract to overlap several tiers\n",
    "multiple = m3[['GEOID', 'TOC_Tier']].drop_duplicates()\n",
    "\n",
    "geoid = ['06037265202', '06037207301', '06037181000']\n",
    "multiple[multiple.GEOID.isin(geoid)]"
   ]
  },
  {
   "cell_type": "code",
   "execution_count": 8,
   "metadata": {},
   "outputs": [],
   "source": [
    "m4 = m3.groupby(['GEOID', 'tract_sqft', 'parcel_tot', 'TOC_Tier']).agg({'parcelsqft':'sum'}).reset_index()\n",
    "m4['pct'] = m4.parcelsqft / m4.parcel_tot\n",
    "\n",
    "keep = ['GEOID', 'TOC_Tier', 'parcelsqft', 'pct']\n",
    "m4 = m4[keep]"
   ]
  },
  {
   "cell_type": "code",
   "execution_count": 9,
   "metadata": {},
   "outputs": [],
   "source": [
    "m4.to_parquet('../data/crosswalk_tract_tiers.parquet')"
   ]
  },
  {
   "cell_type": "code",
   "execution_count": null,
   "metadata": {},
   "outputs": [],
   "source": []
  }
 ],
 "metadata": {
  "kernelspec": {
   "display_name": "Python 3",
   "language": "python",
   "name": "python3"
  },
  "language_info": {
   "codemirror_mode": {
    "name": "ipython",
    "version": 3
   },
   "file_extension": ".py",
   "mimetype": "text/x-python",
   "name": "python",
   "nbconvert_exporter": "python",
   "pygments_lexer": "ipython3",
   "version": "3.7.3"
  }
 },
 "nbformat": 4,
 "nbformat_minor": 4
}
