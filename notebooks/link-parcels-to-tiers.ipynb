{
 "cells": [
  {
   "cell_type": "markdown",
   "metadata": {},
   "source": [
    "# Link census tracts to TOC tiers\n",
    "* Find what proportion belongs within a particular tier"
   ]
  },
  {
   "cell_type": "code",
   "execution_count": 1,
   "metadata": {},
   "outputs": [],
   "source": [
    "import intake\n",
    "import numpy as np\n",
    "import pandas as pd\n",
    "import geopandas as gpd\n",
    "import boto3\n",
    "import utils"
   ]
  },
  {
   "cell_type": "code",
   "execution_count": 2,
   "metadata": {},
   "outputs": [],
   "source": [
    "catalog = intake.open_catalog(\"../catalogs/*.yml\")\n",
    "\n",
    "s3 = boto3.client('s3')\n",
    "bucket_name = 'city-planning-entitlements'"
   ]
  },
  {
   "cell_type": "code",
   "execution_count": 3,
   "metadata": {},
   "outputs": [],
   "source": [
    "parcels = gpd.read_file(\n",
    "            f'zip+s3://{bucket_name}/gis/intermediate/test_parcels_to_tracts.zip').to_crs({'init':'epsg:2229'})"
   ]
  },
  {
   "cell_type": "code",
   "execution_count": 4,
   "metadata": {},
   "outputs": [
    {
     "data": {
      "text/html": [
       "<div>\n",
       "<style scoped>\n",
       "    .dataframe tbody tr th:only-of-type {\n",
       "        vertical-align: middle;\n",
       "    }\n",
       "\n",
       "    .dataframe tbody tr th {\n",
       "        vertical-align: top;\n",
       "    }\n",
       "\n",
       "    .dataframe thead th {\n",
       "        text-align: right;\n",
       "    }\n",
       "</style>\n",
       "<table border=\"1\" class=\"dataframe\">\n",
       "  <thead>\n",
       "    <tr style=\"text-align: right;\">\n",
       "      <th></th>\n",
       "      <th>AIN</th>\n",
       "      <th>parcel_sqf</th>\n",
       "      <th>x</th>\n",
       "      <th>y</th>\n",
       "      <th>num_AIN</th>\n",
       "      <th>GEOID</th>\n",
       "      <th>pop</th>\n",
       "      <th>geometry</th>\n",
       "    </tr>\n",
       "  </thead>\n",
       "  <tbody>\n",
       "    <tr>\n",
       "      <th>0</th>\n",
       "      <td>2004001003</td>\n",
       "      <td>9685.584413</td>\n",
       "      <td>6.374033e+06</td>\n",
       "      <td>1.903105e+06</td>\n",
       "      <td>1</td>\n",
       "      <td>06037113232</td>\n",
       "      <td>4265</td>\n",
       "      <td>POLYGON ((6374107.864 1903073.789, 6373958.854...</td>\n",
       "    </tr>\n",
       "    <tr>\n",
       "      <th>1</th>\n",
       "      <td>2004001004</td>\n",
       "      <td>9909.894744</td>\n",
       "      <td>6.374033e+06</td>\n",
       "      <td>1.903040e+06</td>\n",
       "      <td>1</td>\n",
       "      <td>06037113232</td>\n",
       "      <td>4265</td>\n",
       "      <td>POLYGON ((6374107.604 1903007.279, 6373958.604...</td>\n",
       "    </tr>\n",
       "    <tr>\n",
       "      <th>2</th>\n",
       "      <td>2004001005</td>\n",
       "      <td>9641.455083</td>\n",
       "      <td>6.374031e+06</td>\n",
       "      <td>1.902974e+06</td>\n",
       "      <td>1</td>\n",
       "      <td>06037113232</td>\n",
       "      <td>4265</td>\n",
       "      <td>POLYGON ((6374107.484 1902983.709, 6374106.651...</td>\n",
       "    </tr>\n",
       "    <tr>\n",
       "      <th>3</th>\n",
       "      <td>2004001008</td>\n",
       "      <td>11814.429891</td>\n",
       "      <td>6.373418e+06</td>\n",
       "      <td>1.903151e+06</td>\n",
       "      <td>1</td>\n",
       "      <td>06037113232</td>\n",
       "      <td>4265</td>\n",
       "      <td>POLYGON ((6373470.224 1903188.539, 6373470.644...</td>\n",
       "    </tr>\n",
       "    <tr>\n",
       "      <th>4</th>\n",
       "      <td>2004001009</td>\n",
       "      <td>14878.423677</td>\n",
       "      <td>6.373314e+06</td>\n",
       "      <td>1.903147e+06</td>\n",
       "      <td>1</td>\n",
       "      <td>06037113232</td>\n",
       "      <td>4265</td>\n",
       "      <td>POLYGON ((6373398.904 1903072.729, 6373392.634...</td>\n",
       "    </tr>\n",
       "  </tbody>\n",
       "</table>\n",
       "</div>"
      ],
      "text/plain": [
       "          AIN    parcel_sqf             x             y  num_AIN        GEOID  \\\n",
       "0  2004001003   9685.584413  6.374033e+06  1.903105e+06        1  06037113232   \n",
       "1  2004001004   9909.894744  6.374033e+06  1.903040e+06        1  06037113232   \n",
       "2  2004001005   9641.455083  6.374031e+06  1.902974e+06        1  06037113232   \n",
       "3  2004001008  11814.429891  6.373418e+06  1.903151e+06        1  06037113232   \n",
       "4  2004001009  14878.423677  6.373314e+06  1.903147e+06        1  06037113232   \n",
       "\n",
       "    pop                                           geometry  \n",
       "0  4265  POLYGON ((6374107.864 1903073.789, 6373958.854...  \n",
       "1  4265  POLYGON ((6374107.604 1903007.279, 6373958.604...  \n",
       "2  4265  POLYGON ((6374107.484 1902983.709, 6374106.651...  \n",
       "3  4265  POLYGON ((6373470.224 1903188.539, 6373470.644...  \n",
       "4  4265  POLYGON ((6373398.904 1903072.729, 6373392.634...  "
      ]
     },
     "execution_count": 4,
     "metadata": {},
     "output_type": "execute_result"
    }
   ],
   "source": [
    "parcels.head()"
   ]
  },
  {
   "cell_type": "code",
   "execution_count": 20,
   "metadata": {},
   "outputs": [],
   "source": [
    "parcels2 = parcels.drop_duplicates(subset = ['x', 'y', 'num_AIN'], keep = 'first')"
   ]
  },
  {
   "cell_type": "code",
   "execution_count": 6,
   "metadata": {},
   "outputs": [],
   "source": [
    "tracts = catalog.census_tracts.read().to_crs({'init':'epsg:2229'})\n",
    "\n",
    "tracts = (\n",
    "    tracts[['GEOID10', 'geometry']]\n",
    "    .rename(columns = {'GEOID10': 'GEOID', 'geometry':'tract_geom'})\n",
    "    .assign(tract_sqft = tracts.geometry.area)\n",
    ")"
   ]
  },
  {
   "cell_type": "code",
   "execution_count": 23,
   "metadata": {},
   "outputs": [],
   "source": [
    "parcels3 = pd.merge(parcels2, tracts, on = 'GEOID', how = 'left', validate = 'm:1')"
   ]
  },
  {
   "cell_type": "code",
   "execution_count": 24,
   "metadata": {},
   "outputs": [],
   "source": [
    "df = parcels3.groupby(['GEOID', 'tract_sqft']).agg({'parcel_sqf':'sum'}).reset_index()\n",
    "df['total_pct'] = df.parcel_sqf / df.tract_sqft"
   ]
  },
  {
   "cell_type": "code",
   "execution_count": 25,
   "metadata": {},
   "outputs": [
    {
     "data": {
      "text/plain": [
       "1007"
      ]
     },
     "execution_count": 25,
     "metadata": {},
     "output_type": "execute_result"
    }
   ],
   "source": [
    "len(df)"
   ]
  },
  {
   "cell_type": "code",
   "execution_count": 27,
   "metadata": {},
   "outputs": [
    {
     "data": {
      "text/plain": [
       "1007"
      ]
     },
     "execution_count": 27,
     "metadata": {},
     "output_type": "execute_result"
    }
   ],
   "source": [
    "len(df[df.total_pct <= 1])"
   ]
  },
  {
   "cell_type": "code",
   "execution_count": null,
   "metadata": {},
   "outputs": [],
   "source": []
  },
  {
   "cell_type": "code",
   "execution_count": null,
   "metadata": {},
   "outputs": [],
   "source": []
  },
  {
   "cell_type": "code",
   "execution_count": null,
   "metadata": {},
   "outputs": [],
   "source": [
    "parcels = gpd.read_file(\n",
    "            f'zip+s3://{bucket_name}/gis/raw/la_parcels.zip').to_crs({'init':'epsg:2229'})\n",
    "\n",
    "la_parcels_with_dups = gpd.read_file(\n",
    "            f'zip+s3://{bucket_name}/gis/intermediate/la_parcels_with_dups.zip').to_crs({'init':'epsg:2229'})\n",
    "\n",
    "crosswalk_parcels_tracts = pd.read_parquet(f's3://{bucket_name}/data/crosswalk_parcels_tracts.parquet')"
   ]
  },
  {
   "cell_type": "code",
   "execution_count": null,
   "metadata": {},
   "outputs": [],
   "source": [
    "parcels2 = pd.merge(parcels, crosswalk_parcels_tracts, on = 'AIN', validate = '1:1')\n",
    "parcels2.head()"
   ]
  },
  {
   "cell_type": "code",
   "execution_count": null,
   "metadata": {},
   "outputs": [],
   "source": [
    "parcels3 = parcels2.drop_duplicates(subset = ['AIN', 'num_AIN'], keep = 'first')\n",
    "parcels3.head()"
   ]
  },
  {
   "cell_type": "code",
   "execution_count": null,
   "metadata": {},
   "outputs": [],
   "source": [
    "tracts = catalog.census_tracts.read().to_crs({'init':'epsg:2229'})\n",
    "\n",
    "tracts = (\n",
    "    tracts[['GEOID10', 'geometry']]\n",
    "    .rename(columns = {'GEOID10': 'GEOID', 'geometry':'tract_geom'})\n",
    "    .assign(tract_sqft = tracts.geometry.area)\n",
    ")"
   ]
  },
  {
   "cell_type": "code",
   "execution_count": null,
   "metadata": {},
   "outputs": [],
   "source": [
    "parcel_geom = pd.merge(parcels3, crosswalk_parcels_tracts, on = 'AIN', validate = '1:1')"
   ]
  },
  {
   "cell_type": "code",
   "execution_count": null,
   "metadata": {},
   "outputs": [],
   "source": [
    "tract_geom = pd.merge(parcel_geom, tracts, on = 'GEOID', validate = 'm:1')"
   ]
  },
  {
   "cell_type": "code",
   "execution_count": null,
   "metadata": {},
   "outputs": [],
   "source": [
    "df = tract_geom.groupby(['GEOID', 'tract_sqft']).agg({'parcel_sqft':'sum'}).reset_index()\n",
    "df['total_pct'] = df.parcel_sqft / df.tract_sqft"
   ]
  },
  {
   "cell_type": "code",
   "execution_count": null,
   "metadata": {},
   "outputs": [],
   "source": [
    "wrong = df[df.total_pct > 1]\n",
    "\n",
    "geoid = ['06037102104']\n",
    "fix = wrong[wrong.GEOID.isin(geoid)]\n",
    "\n",
    "wrong_parcels = parcel_geom[parcel_geom.GEOID.isin(geoid)]"
   ]
  },
  {
   "cell_type": "code",
   "execution_count": null,
   "metadata": {},
   "outputs": [],
   "source": [
    "wrong_tracts = pd.merge(fix, tracts, on = ['GEOID', 'tract_sqft'], how = 'inner')\n",
    "wrong_tracts = gpd.GeoDataFrame(wrong_tracts)\n",
    "wrong_tracts = wrong_tracts.set_geometry('tract_geom')\n",
    "wrong_tracts.crs = {'init':'epsg:2229'}\n",
    "\n",
    "wrong_parcels = gpd.GeoDataFrame(wrong_parcels)\n",
    "wrong_parcels = wrong_parcels.set_geometry('parcel_geom')\n",
    "wrong_parcels.crs = {'init':'epsg:2229'}"
   ]
  },
  {
   "cell_type": "code",
   "execution_count": null,
   "metadata": {},
   "outputs": [],
   "source": [
    "wrong_tracts.to_file(driver = 'GeoJSON', filename = '../gis/wrong_tracts.geojson')\n",
    "wrong_parcels.to_file(driver = 'GeoJSON', filename = '../gis/wrong_parcels.geojson')"
   ]
  },
  {
   "cell_type": "code",
   "execution_count": null,
   "metadata": {},
   "outputs": [],
   "source": [
    "wrong_parcels.plot()"
   ]
  },
  {
   "cell_type": "code",
   "execution_count": null,
   "metadata": {},
   "outputs": [],
   "source": [
    "wrong_tracts.plot()"
   ]
  }
 ],
 "metadata": {
  "kernelspec": {
   "display_name": "Python 3",
   "language": "python",
   "name": "python3"
  },
  "language_info": {
   "codemirror_mode": {
    "name": "ipython",
    "version": 3
   },
   "file_extension": ".py",
   "mimetype": "text/x-python",
   "name": "python",
   "nbconvert_exporter": "python",
   "pygments_lexer": "ipython3",
   "version": "3.7.3"
  }
 },
 "nbformat": 4,
 "nbformat_minor": 4
}
