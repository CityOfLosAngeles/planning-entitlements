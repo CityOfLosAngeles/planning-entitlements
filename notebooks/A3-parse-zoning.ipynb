{
 "cells": [
  {
   "cell_type": "markdown",
   "metadata": {},
   "source": [
    "# Clean ZIMAS / zoning file\n",
    "* Dissolve zoning file so they are multipolygons\n",
    "* Use parser in `laplan.zoning` to parse ZONE_CMPLT\n",
    "* Manually list the failed to parse observations and fix\n",
    "* Use this to build crosswalk of height, density, etc restrictions"
   ]
  },
  {
   "cell_type": "code",
   "execution_count": 1,
   "metadata": {},
   "outputs": [],
   "source": [
    "import boto3\n",
    "import geopandas as gpd\n",
    "import intake\n",
    "import numpy as np\n",
    "import os\n",
    "import pandas as pd\n",
    "import laplan\n",
    "import utils"
   ]
  },
  {
   "cell_type": "code",
   "execution_count": 2,
   "metadata": {},
   "outputs": [],
   "source": [
    "catalog = intake.open_catalog(\"../catalogs/*.yml\")\n",
    "\n",
    "s3 = boto3.client('s3')\n",
    "bucket_name = 'city-planning-entitlements'"
   ]
  },
  {
   "cell_type": "code",
   "execution_count": 3,
   "metadata": {},
   "outputs": [],
   "source": [
    "# Default value of display.max_rows is 10 i.e. at max 10 rows will be printed.\n",
    "# Set it None to display all rows in the dataframe\n",
    "pd.set_option('display.max_rows', 25)"
   ]
  },
  {
   "cell_type": "code",
   "execution_count": 4,
   "metadata": {},
   "outputs": [
    {
     "data": {
      "text/html": [
       "<div>\n",
       "<style scoped>\n",
       "    .dataframe tbody tr th:only-of-type {\n",
       "        vertical-align: middle;\n",
       "    }\n",
       "\n",
       "    .dataframe tbody tr th {\n",
       "        vertical-align: top;\n",
       "    }\n",
       "\n",
       "    .dataframe thead th {\n",
       "        text-align: right;\n",
       "    }\n",
       "</style>\n",
       "<table border=\"1\" class=\"dataframe\">\n",
       "  <thead>\n",
       "    <tr style=\"text-align: right;\">\n",
       "      <th></th>\n",
       "      <th>geometry</th>\n",
       "      <th>ZONE_CMPLT</th>\n",
       "      <th>ZONE_SMRY</th>\n",
       "    </tr>\n",
       "  </thead>\n",
       "  <tbody>\n",
       "    <tr>\n",
       "      <th>0</th>\n",
       "      <td>MULTIPOLYGON (((6444407.300 1905809.010, 64444...</td>\n",
       "      <td>(F)CM-1-CUGU</td>\n",
       "      <td>INDUSTRIAL</td>\n",
       "    </tr>\n",
       "    <tr>\n",
       "      <th>1</th>\n",
       "      <td>MULTIPOLYGON (((6478385.560 1837166.650, 64782...</td>\n",
       "      <td>(F)CM-1-HPOZ</td>\n",
       "      <td>INDUSTRIAL</td>\n",
       "    </tr>\n",
       "    <tr>\n",
       "      <th>2</th>\n",
       "      <td>POLYGON ((6478551.540 1837132.960, 6478461.390...</td>\n",
       "      <td>(F)CM-1-O-HPOZ</td>\n",
       "      <td>INDUSTRIAL</td>\n",
       "    </tr>\n",
       "    <tr>\n",
       "      <th>3</th>\n",
       "      <td>MULTIPOLYGON (((6416397.250 1892185.530, 64166...</td>\n",
       "      <td>(F)R2-1-RIO</td>\n",
       "      <td>RESIDENTIAL</td>\n",
       "    </tr>\n",
       "    <tr>\n",
       "      <th>4</th>\n",
       "      <td>MULTIPOLYGON (((6421076.240 1939270.920, 64210...</td>\n",
       "      <td>(F)RE11-1</td>\n",
       "      <td>RESIDENTIAL</td>\n",
       "    </tr>\n",
       "  </tbody>\n",
       "</table>\n",
       "</div>"
      ],
      "text/plain": [
       "                                            geometry      ZONE_CMPLT  \\\n",
       "0  MULTIPOLYGON (((6444407.300 1905809.010, 64444...    (F)CM-1-CUGU   \n",
       "1  MULTIPOLYGON (((6478385.560 1837166.650, 64782...    (F)CM-1-HPOZ   \n",
       "2  POLYGON ((6478551.540 1837132.960, 6478461.390...  (F)CM-1-O-HPOZ   \n",
       "3  MULTIPOLYGON (((6416397.250 1892185.530, 64166...     (F)R2-1-RIO   \n",
       "4  MULTIPOLYGON (((6421076.240 1939270.920, 64210...       (F)RE11-1   \n",
       "\n",
       "     ZONE_SMRY  \n",
       "0   INDUSTRIAL  \n",
       "1   INDUSTRIAL  \n",
       "2   INDUSTRIAL  \n",
       "3  RESIDENTIAL  \n",
       "4  RESIDENTIAL  "
      ]
     },
     "execution_count": 4,
     "metadata": {},
     "output_type": "execute_result"
    }
   ],
   "source": [
    "# Dissolve zoning to get multipolygons\n",
    "# File is large, but we only care about unique ZONE_CMPLT, which need to be parsed\n",
    "zones = catalog.zoning.read()\n",
    "zones = zones[['ZONE_CMPLT', 'ZONE_SMRY', 'geometry']].assign(\n",
    "    zone2 = zones.ZONE_CMPLT\n",
    ")\n",
    "\n",
    "df = zones.dissolve(by='zone2').reset_index(drop=True)\n",
    "df.head()"
   ]
  },
  {
   "cell_type": "code",
   "execution_count": 5,
   "metadata": {},
   "outputs": [
    {
     "name": "stdout",
     "output_type": "stream",
     "text": [
      "# obs in zoning: 60588\n",
      "# unique types of zoning: 1934\n"
     ]
    }
   ],
   "source": [
    "print(f'# obs in zoning: {len(zones)}')\n",
    "print(f'# unique types of zoning: {len(df)}')"
   ]
  },
  {
   "cell_type": "markdown",
   "metadata": {},
   "source": [
    "## Parse zoning string"
   ]
  },
  {
   "cell_type": "code",
   "execution_count": 6,
   "metadata": {},
   "outputs": [
    {
     "data": {
      "text/html": [
       "<div>\n",
       "<style scoped>\n",
       "    .dataframe tbody tr th:only-of-type {\n",
       "        vertical-align: middle;\n",
       "    }\n",
       "\n",
       "    .dataframe tbody tr th {\n",
       "        vertical-align: top;\n",
       "    }\n",
       "\n",
       "    .dataframe thead th {\n",
       "        text-align: right;\n",
       "    }\n",
       "</style>\n",
       "<table border=\"1\" class=\"dataframe\">\n",
       "  <thead>\n",
       "    <tr style=\"text-align: right;\">\n",
       "      <th></th>\n",
       "      <th>geometry</th>\n",
       "      <th>ZONE_CMPLT</th>\n",
       "      <th>ZONE_SMRY</th>\n",
       "      <th>Q</th>\n",
       "      <th>T</th>\n",
       "      <th>zone_class</th>\n",
       "      <th>specific_plan</th>\n",
       "      <th>height_district</th>\n",
       "      <th>D</th>\n",
       "      <th>overlay</th>\n",
       "    </tr>\n",
       "  </thead>\n",
       "  <tbody>\n",
       "    <tr>\n",
       "      <th>0</th>\n",
       "      <td>MULTIPOLYGON (((6444407.300 1905809.010, 64444...</td>\n",
       "      <td>(F)CM-1-CUGU</td>\n",
       "      <td>INDUSTRIAL</td>\n",
       "      <td>failed</td>\n",
       "      <td>failed</td>\n",
       "      <td>failed</td>\n",
       "      <td>failed</td>\n",
       "      <td>failed</td>\n",
       "      <td>failed</td>\n",
       "      <td></td>\n",
       "    </tr>\n",
       "    <tr>\n",
       "      <th>1</th>\n",
       "      <td>MULTIPOLYGON (((6478385.560 1837166.650, 64782...</td>\n",
       "      <td>(F)CM-1-HPOZ</td>\n",
       "      <td>INDUSTRIAL</td>\n",
       "      <td>failed</td>\n",
       "      <td>failed</td>\n",
       "      <td>failed</td>\n",
       "      <td>failed</td>\n",
       "      <td>failed</td>\n",
       "      <td>failed</td>\n",
       "      <td></td>\n",
       "    </tr>\n",
       "    <tr>\n",
       "      <th>2</th>\n",
       "      <td>POLYGON ((6478551.540 1837132.960, 6478461.390...</td>\n",
       "      <td>(F)CM-1-O-HPOZ</td>\n",
       "      <td>INDUSTRIAL</td>\n",
       "      <td>failed</td>\n",
       "      <td>failed</td>\n",
       "      <td>failed</td>\n",
       "      <td>failed</td>\n",
       "      <td>failed</td>\n",
       "      <td>failed</td>\n",
       "      <td></td>\n",
       "    </tr>\n",
       "    <tr>\n",
       "      <th>3</th>\n",
       "      <td>MULTIPOLYGON (((6416397.250 1892185.530, 64166...</td>\n",
       "      <td>(F)R2-1-RIO</td>\n",
       "      <td>RESIDENTIAL</td>\n",
       "      <td>failed</td>\n",
       "      <td>failed</td>\n",
       "      <td>failed</td>\n",
       "      <td>failed</td>\n",
       "      <td>failed</td>\n",
       "      <td>failed</td>\n",
       "      <td></td>\n",
       "    </tr>\n",
       "    <tr>\n",
       "      <th>4</th>\n",
       "      <td>MULTIPOLYGON (((6421076.240 1939270.920, 64210...</td>\n",
       "      <td>(F)RE11-1</td>\n",
       "      <td>RESIDENTIAL</td>\n",
       "      <td>failed</td>\n",
       "      <td>failed</td>\n",
       "      <td>failed</td>\n",
       "      <td>failed</td>\n",
       "      <td>failed</td>\n",
       "      <td>failed</td>\n",
       "      <td></td>\n",
       "    </tr>\n",
       "  </tbody>\n",
       "</table>\n",
       "</div>"
      ],
      "text/plain": [
       "                                            geometry      ZONE_CMPLT  \\\n",
       "0  MULTIPOLYGON (((6444407.300 1905809.010, 64444...    (F)CM-1-CUGU   \n",
       "1  MULTIPOLYGON (((6478385.560 1837166.650, 64782...    (F)CM-1-HPOZ   \n",
       "2  POLYGON ((6478551.540 1837132.960, 6478461.390...  (F)CM-1-O-HPOZ   \n",
       "3  MULTIPOLYGON (((6416397.250 1892185.530, 64166...     (F)R2-1-RIO   \n",
       "4  MULTIPOLYGON (((6421076.240 1939270.920, 64210...       (F)RE11-1   \n",
       "\n",
       "     ZONE_SMRY       Q       T zone_class specific_plan height_district  \\\n",
       "0   INDUSTRIAL  failed  failed     failed        failed          failed   \n",
       "1   INDUSTRIAL  failed  failed     failed        failed          failed   \n",
       "2   INDUSTRIAL  failed  failed     failed        failed          failed   \n",
       "3  RESIDENTIAL  failed  failed     failed        failed          failed   \n",
       "4  RESIDENTIAL  failed  failed     failed        failed          failed   \n",
       "\n",
       "        D overlay  \n",
       "0  failed          \n",
       "1  failed          \n",
       "2  failed          \n",
       "3  failed          \n",
       "4  failed          "
      ]
     },
     "execution_count": 6,
     "metadata": {},
     "output_type": "execute_result"
    }
   ],
   "source": [
    "parsed_col_names = ['Q', 'T', 'zone_class', 'specific_plan', 'height_district', 'D', 'overlay']\n",
    "\n",
    "def parse_zoning(row):\n",
    "    try:\n",
    "        z = laplan.zoning.ZoningInfo(row.ZONE_CMPLT)\n",
    "        return pd.Series([z.Q, z.T, z.zone_class, z.specific_plan, z.height_district, z.D, z.overlay], \n",
    "                         index = parsed_col_names)\n",
    "    except ValueError:\n",
    "        return pd.Series(['failed', 'failed', 'failed', 'failed', 'failed', 'failed', ''], \n",
    "                         index = parsed_col_names)\n",
    "\n",
    "    \n",
    "parsed = df.apply(parse_zoning, axis = 1)\n",
    "\n",
    "df = pd.concat([df, parsed], axis = 1)\n",
    "\n",
    "df.head()"
   ]
  },
  {
   "cell_type": "markdown",
   "metadata": {},
   "source": [
    "## Fix parse fails"
   ]
  },
  {
   "cell_type": "code",
   "execution_count": 7,
   "metadata": {},
   "outputs": [
    {
     "name": "stdout",
     "output_type": "stream",
     "text": [
      "# obs in fails_crosswalk: 43\n"
     ]
    }
   ],
   "source": [
    "fails_crosswalk = pd.read_parquet(f's3://{bucket_name}/data/crosswalk_zone_parse_fails.parquet')\n",
    "\n",
    "print(f'# obs in fails_crosswalk: {len(fails_crosswalk)}')"
   ]
  },
  {
   "cell_type": "code",
   "execution_count": 8,
   "metadata": {},
   "outputs": [
    {
     "name": "stdout",
     "output_type": "stream",
     "text": [
      "# obs in fails: 43\n"
     ]
    }
   ],
   "source": [
    "# Grab all obs in our df that shows up in the fails_crosswalk, even if it was parsed correctly\n",
    "# There were some other ones that were added because they weren't valid zone classes\n",
    "fails = df[df.ZONE_CMPLT.isin(fails_crosswalk.ZONE_CMPLT)]\n",
    "print(f'# obs in fails: {len(fails)}')"
   ]
  },
  {
   "cell_type": "code",
   "execution_count": 9,
   "metadata": {},
   "outputs": [],
   "source": [
    "# Convert the overlay column from string to list\n",
    "fails_crosswalk.overlay = fails_crosswalk.overlay.str[1:-1].str.split(',').tolist()\n",
    "\n",
    "# Fill in Nones with empty list\n",
    "fails_crosswalk['overlay'] = fails_crosswalk['overlay'].apply(lambda row: row if isinstance(row, list) else [])"
   ]
  },
  {
   "cell_type": "code",
   "execution_count": 10,
   "metadata": {},
   "outputs": [],
   "source": [
    "df1 = df[~ df.ZONE_CMPLT.isin(fails_crosswalk.ZONE_CMPLT)]\n",
    "\n",
    "# Append the successfully parsed obs with the failed ones\n",
    "df2 = df1.append(fails_crosswalk)"
   ]
  },
  {
   "cell_type": "code",
   "execution_count": 11,
   "metadata": {},
   "outputs": [],
   "source": [
    "# Make sure cols are the same type again\n",
    "for col in ['zone_class', 'specific_plan', 'height_district']:\n",
    "    df2[col] = df2[col].astype(str)\n",
    "\n",
    "for col in ['Q', 'T', 'D']:\n",
    "    df2[col] = df2[col].astype(int)"
   ]
  },
  {
   "cell_type": "code",
   "execution_count": 12,
   "metadata": {},
   "outputs": [
    {
     "name": "stdout",
     "output_type": "stream",
     "text": [
      "# obs in df: 1934\n",
      "# obs in df2: 1934\n"
     ]
    }
   ],
   "source": [
    "print(f'# obs in df: {len(df)}')\n",
    "print(f'# obs in df2: {len(df2)}')"
   ]
  },
  {
   "cell_type": "markdown",
   "metadata": {},
   "source": [
    "## Need to do something about overlays and specific plans...\n",
    "* leave as list? -> then split (ZONE_CMPLT, geometry) from the rest, so we can save geojson and tabular separately\n",
    "* GeoJSON can't take lists. Convert to strings...later make it a list again?"
   ]
  },
  {
   "cell_type": "code",
   "execution_count": 13,
   "metadata": {},
   "outputs": [],
   "source": [
    "# Fill in Nones, otherwise cannot do the apply to make the list a string\n",
    "df2.overlay = df2.overlay.fillna('')\n",
    "\n",
    "just_overlay = df2[df2.overlay != ''][['ZONE_CMPLT', 'overlay']]\n",
    "just_overlay['no_brackets'] = just_overlay['overlay'].apply(', '.join)"
   ]
  },
  {
   "cell_type": "code",
   "execution_count": 14,
   "metadata": {},
   "outputs": [],
   "source": [
    "split = just_overlay.no_brackets.str.split(',', expand = True).fillna('')\n",
    "split.rename(columns = {0: 'o1', 1: 'o2', 2: 'o3'}, inplace = True)\n",
    "\n",
    "just_overlay = pd.concat([just_overlay, split], axis = 1)"
   ]
  },
  {
   "cell_type": "code",
   "execution_count": 15,
   "metadata": {},
   "outputs": [],
   "source": [
    "supplemental_use = pd.read_parquet(f's3://{bucket_name}/data/crosswalk_supplemental_use_overlay.parquet')\n",
    "specific_plan = pd.read_parquet(f's3://{bucket_name}/data/crosswalk_specific_plan.parquet')"
   ]
  },
  {
   "cell_type": "code",
   "execution_count": 16,
   "metadata": {},
   "outputs": [],
   "source": [
    "supplemental_use_dict = supplemental_use.set_index('supplemental_use').to_dict()['supplemental_use_description']\n",
    "specific_plan_dict = specific_plan.set_index('specific_plan').to_dict()['specific_plan_description']"
   ]
  },
  {
   "cell_type": "code",
   "execution_count": 17,
   "metadata": {},
   "outputs": [],
   "source": [
    "# Trouble mapping it across all columns\n",
    "for col in ['o1', 'o2', 'o3']:\n",
    "    just_overlay[col] = just_overlay[col].str.strip()\n",
    "    new_col = f'{col}_descrip'\n",
    "    just_overlay[new_col] = just_overlay[col].map(supplemental_use_dict)\n",
    "    just_overlay[new_col] = just_overlay[new_col].fillna('')"
   ]
  },
  {
   "cell_type": "code",
   "execution_count": 18,
   "metadata": {},
   "outputs": [
    {
     "data": {
      "text/html": [
       "<div>\n",
       "<style scoped>\n",
       "    .dataframe tbody tr th:only-of-type {\n",
       "        vertical-align: middle;\n",
       "    }\n",
       "\n",
       "    .dataframe tbody tr th {\n",
       "        vertical-align: top;\n",
       "    }\n",
       "\n",
       "    .dataframe thead th {\n",
       "        text-align: right;\n",
       "    }\n",
       "</style>\n",
       "<table border=\"1\" class=\"dataframe\">\n",
       "  <thead>\n",
       "    <tr style=\"text-align: right;\">\n",
       "      <th></th>\n",
       "      <th>geometry</th>\n",
       "      <th>ZONE_CMPLT</th>\n",
       "      <th>ZONE_SMRY</th>\n",
       "      <th>Q</th>\n",
       "      <th>T</th>\n",
       "      <th>zone_class</th>\n",
       "      <th>specific_plan</th>\n",
       "      <th>height_district</th>\n",
       "      <th>D</th>\n",
       "      <th>overlay_x</th>\n",
       "      <th>overlay_y</th>\n",
       "      <th>no_brackets</th>\n",
       "      <th>o1</th>\n",
       "      <th>o2</th>\n",
       "      <th>o3</th>\n",
       "      <th>o1_descrip</th>\n",
       "      <th>o2_descrip</th>\n",
       "      <th>o3_descrip</th>\n",
       "    </tr>\n",
       "  </thead>\n",
       "  <tbody>\n",
       "    <tr>\n",
       "      <th>0</th>\n",
       "      <td>POLYGON ((6404307.250 1933058.300, 6404610.470...</td>\n",
       "      <td>(Q)A1-1-H-K</td>\n",
       "      <td>AGRICULTURE</td>\n",
       "      <td>1</td>\n",
       "      <td>0</td>\n",
       "      <td>A1</td>\n",
       "      <td></td>\n",
       "      <td>1</td>\n",
       "      <td>0</td>\n",
       "      <td>[H, K]</td>\n",
       "      <td>[H, K]</td>\n",
       "      <td>H, K</td>\n",
       "      <td>H</td>\n",
       "      <td>K</td>\n",
       "      <td></td>\n",
       "      <td>unknown2</td>\n",
       "      <td>equinekeeping</td>\n",
       "      <td></td>\n",
       "    </tr>\n",
       "    <tr>\n",
       "      <th>1</th>\n",
       "      <td>POLYGON ((6386802.410 1883303.620, 6386809.340...</td>\n",
       "      <td>(Q)A1-1VLD</td>\n",
       "      <td>AGRICULTURE</td>\n",
       "      <td>1</td>\n",
       "      <td>0</td>\n",
       "      <td>A1</td>\n",
       "      <td></td>\n",
       "      <td>1VL</td>\n",
       "      <td>1</td>\n",
       "      <td>[]</td>\n",
       "      <td>[]</td>\n",
       "      <td></td>\n",
       "      <td></td>\n",
       "      <td></td>\n",
       "      <td></td>\n",
       "      <td></td>\n",
       "      <td></td>\n",
       "      <td></td>\n",
       "    </tr>\n",
       "    <tr>\n",
       "      <th>2</th>\n",
       "      <td>MULTIPOLYGON (((6481495.330 1913564.200, 64814...</td>\n",
       "      <td>(Q)A2-1</td>\n",
       "      <td>AGRICULTURE</td>\n",
       "      <td>1</td>\n",
       "      <td>0</td>\n",
       "      <td>A2</td>\n",
       "      <td></td>\n",
       "      <td>1</td>\n",
       "      <td>0</td>\n",
       "      <td>[]</td>\n",
       "      <td>[]</td>\n",
       "      <td></td>\n",
       "      <td></td>\n",
       "      <td></td>\n",
       "      <td></td>\n",
       "      <td></td>\n",
       "      <td></td>\n",
       "      <td></td>\n",
       "    </tr>\n",
       "    <tr>\n",
       "      <th>3</th>\n",
       "      <td>MULTIPOLYGON (((6381155.830 1883743.800, 63811...</td>\n",
       "      <td>(Q)C1-1</td>\n",
       "      <td>COMMERCIAL</td>\n",
       "      <td>1</td>\n",
       "      <td>0</td>\n",
       "      <td>C1</td>\n",
       "      <td></td>\n",
       "      <td>1</td>\n",
       "      <td>0</td>\n",
       "      <td>[]</td>\n",
       "      <td>[]</td>\n",
       "      <td></td>\n",
       "      <td></td>\n",
       "      <td></td>\n",
       "      <td></td>\n",
       "      <td></td>\n",
       "      <td></td>\n",
       "      <td></td>\n",
       "    </tr>\n",
       "    <tr>\n",
       "      <th>4</th>\n",
       "      <td>POLYGON ((6418734.610 1817051.450, 6418751.000...</td>\n",
       "      <td>(Q)C1-1-O-CA</td>\n",
       "      <td>COMMERCIAL</td>\n",
       "      <td>1</td>\n",
       "      <td>0</td>\n",
       "      <td>C1</td>\n",
       "      <td></td>\n",
       "      <td>1</td>\n",
       "      <td>0</td>\n",
       "      <td>[O, CA]</td>\n",
       "      <td>[O, CA]</td>\n",
       "      <td>O, CA</td>\n",
       "      <td>O</td>\n",
       "      <td>CA</td>\n",
       "      <td></td>\n",
       "      <td>oil_drilling</td>\n",
       "      <td>commercial_and_artcraft</td>\n",
       "      <td></td>\n",
       "    </tr>\n",
       "  </tbody>\n",
       "</table>\n",
       "</div>"
      ],
      "text/plain": [
       "                                            geometry    ZONE_CMPLT  \\\n",
       "0  POLYGON ((6404307.250 1933058.300, 6404610.470...   (Q)A1-1-H-K   \n",
       "1  POLYGON ((6386802.410 1883303.620, 6386809.340...    (Q)A1-1VLD   \n",
       "2  MULTIPOLYGON (((6481495.330 1913564.200, 64814...       (Q)A2-1   \n",
       "3  MULTIPOLYGON (((6381155.830 1883743.800, 63811...       (Q)C1-1   \n",
       "4  POLYGON ((6418734.610 1817051.450, 6418751.000...  (Q)C1-1-O-CA   \n",
       "\n",
       "     ZONE_SMRY  Q  T zone_class specific_plan height_district  D overlay_x  \\\n",
       "0  AGRICULTURE  1  0         A1                             1  0    [H, K]   \n",
       "1  AGRICULTURE  1  0         A1                           1VL  1        []   \n",
       "2  AGRICULTURE  1  0         A2                             1  0        []   \n",
       "3   COMMERCIAL  1  0         C1                             1  0        []   \n",
       "4   COMMERCIAL  1  0         C1                             1  0   [O, CA]   \n",
       "\n",
       "  overlay_y no_brackets o1  o2 o3    o1_descrip               o2_descrip  \\\n",
       "0    [H, K]        H, K  H   K         unknown2            equinekeeping   \n",
       "1        []                                                                \n",
       "2        []                                                                \n",
       "3        []                                                                \n",
       "4   [O, CA]       O, CA  O  CA     oil_drilling  commercial_and_artcraft   \n",
       "\n",
       "  o3_descrip  \n",
       "0             \n",
       "1             \n",
       "2             \n",
       "3             \n",
       "4             "
      ]
     },
     "execution_count": 18,
     "metadata": {},
     "output_type": "execute_result"
    }
   ],
   "source": [
    "# Put df back together\n",
    "df3 = pd.merge(df2, just_overlay, on = 'ZONE_CMPLT', how = 'left', validate = '1:1')\n",
    "df3.head()"
   ]
  },
  {
   "cell_type": "code",
   "execution_count": 19,
   "metadata": {},
   "outputs": [],
   "source": [
    "# Invalid overlays\n",
    "# What is SP? Specific Plan?\n",
    "# Also, can't find H"
   ]
  },
  {
   "cell_type": "markdown",
   "metadata": {},
   "source": [
    "## Merge and export"
   ]
  },
  {
   "cell_type": "code",
   "execution_count": 20,
   "metadata": {},
   "outputs": [
    {
     "data": {
      "text/html": [
       "<div>\n",
       "<style scoped>\n",
       "    .dataframe tbody tr th:only-of-type {\n",
       "        vertical-align: middle;\n",
       "    }\n",
       "\n",
       "    .dataframe tbody tr th {\n",
       "        vertical-align: top;\n",
       "    }\n",
       "\n",
       "    .dataframe thead th {\n",
       "        text-align: right;\n",
       "    }\n",
       "</style>\n",
       "<table border=\"1\" class=\"dataframe\">\n",
       "  <thead>\n",
       "    <tr style=\"text-align: right;\">\n",
       "      <th></th>\n",
       "      <th>ZONE_CMPLT</th>\n",
       "      <th>ZONE_SMRY</th>\n",
       "      <th>Q</th>\n",
       "      <th>T</th>\n",
       "      <th>zone_class</th>\n",
       "      <th>height_district</th>\n",
       "      <th>D</th>\n",
       "      <th>specific_plan</th>\n",
       "      <th>overlay</th>\n",
       "      <th>geometry</th>\n",
       "    </tr>\n",
       "  </thead>\n",
       "  <tbody>\n",
       "    <tr>\n",
       "      <th>0</th>\n",
       "      <td>(F)CM-1-CUGU</td>\n",
       "      <td>NaN</td>\n",
       "      <td>0</td>\n",
       "      <td>1</td>\n",
       "      <td>CM</td>\n",
       "      <td>1</td>\n",
       "      <td>0</td>\n",
       "      <td></td>\n",
       "      <td>CUGU</td>\n",
       "      <td>MULTIPOLYGON (((6444407.300 1905809.010, 64444...</td>\n",
       "    </tr>\n",
       "    <tr>\n",
       "      <th>1</th>\n",
       "      <td>(F)CM-1-HPOZ</td>\n",
       "      <td>NaN</td>\n",
       "      <td>0</td>\n",
       "      <td>1</td>\n",
       "      <td>CM</td>\n",
       "      <td>1</td>\n",
       "      <td>0</td>\n",
       "      <td></td>\n",
       "      <td>HPOZ</td>\n",
       "      <td>MULTIPOLYGON (((6478385.560 1837166.650, 64782...</td>\n",
       "    </tr>\n",
       "    <tr>\n",
       "      <th>2</th>\n",
       "      <td>(F)CM-1-O-HPOZ</td>\n",
       "      <td>NaN</td>\n",
       "      <td>0</td>\n",
       "      <td>1</td>\n",
       "      <td>CM</td>\n",
       "      <td>1</td>\n",
       "      <td>0</td>\n",
       "      <td></td>\n",
       "      <td>O,  HPOZ</td>\n",
       "      <td>POLYGON ((6478551.540 1837132.960, 6478461.390...</td>\n",
       "    </tr>\n",
       "    <tr>\n",
       "      <th>3</th>\n",
       "      <td>(F)R2-1-RIO</td>\n",
       "      <td>NaN</td>\n",
       "      <td>0</td>\n",
       "      <td>0</td>\n",
       "      <td>R2</td>\n",
       "      <td>1</td>\n",
       "      <td>0</td>\n",
       "      <td></td>\n",
       "      <td>RIO</td>\n",
       "      <td>MULTIPOLYGON (((6416397.250 1892185.530, 64166...</td>\n",
       "    </tr>\n",
       "    <tr>\n",
       "      <th>4</th>\n",
       "      <td>(F)RE11-1</td>\n",
       "      <td>NaN</td>\n",
       "      <td>0</td>\n",
       "      <td>0</td>\n",
       "      <td>RE11</td>\n",
       "      <td>1</td>\n",
       "      <td>0</td>\n",
       "      <td></td>\n",
       "      <td></td>\n",
       "      <td>MULTIPOLYGON (((6421076.240 1939270.920, 64210...</td>\n",
       "    </tr>\n",
       "  </tbody>\n",
       "</table>\n",
       "</div>"
      ],
      "text/plain": [
       "       ZONE_CMPLT ZONE_SMRY  Q  T zone_class height_district  D specific_plan  \\\n",
       "0    (F)CM-1-CUGU       NaN  0  1         CM               1  0                 \n",
       "1    (F)CM-1-HPOZ       NaN  0  1         CM               1  0                 \n",
       "2  (F)CM-1-O-HPOZ       NaN  0  1         CM               1  0                 \n",
       "3     (F)R2-1-RIO       NaN  0  0         R2               1  0                 \n",
       "4       (F)RE11-1       NaN  0  0       RE11               1  0                 \n",
       "\n",
       "    overlay                                           geometry  \n",
       "0      CUGU  MULTIPOLYGON (((6444407.300 1905809.010, 64444...  \n",
       "1      HPOZ  MULTIPOLYGON (((6478385.560 1837166.650, 64782...  \n",
       "2  O,  HPOZ  POLYGON ((6478551.540 1837132.960, 6478461.390...  \n",
       "3       RIO  MULTIPOLYGON (((6416397.250 1892185.530, 64166...  \n",
       "4            MULTIPOLYGON (((6421076.240 1939270.920, 64210...  "
      ]
     },
     "execution_count": 20,
     "metadata": {},
     "output_type": "execute_result"
    }
   ],
   "source": [
    "col_order = ['ZONE_CMPLT', 'ZONE_SMRY', \n",
    "             'Q', 'T', 'zone_class', 'height_district', 'D',\n",
    "             'specific_plan', 'no_brackets', 'geometry']\n",
    "\n",
    "# Geometry is messed up, so let's get it back from original dissolve\n",
    "final = (pd.merge(df[['ZONE_CMPLT', 'geometry']], df3.drop(columns = \"geometry\"), \n",
    "                  on = \"ZONE_CMPLT\", how = \"left\", validate = \"1:1\")\n",
    "         [col_order]\n",
    "         .rename(columns = {'no_brackets': 'overlay'})\n",
    "         .sort_values(['ZONE_CMPLT', 'ZONE_SMRY'])\n",
    "         .reset_index(drop=True)         \n",
    "        )\n",
    "\n",
    "final.head()"
   ]
  },
  {
   "cell_type": "code",
   "execution_count": 21,
   "metadata": {},
   "outputs": [
    {
     "name": "stdout",
     "output_type": "stream",
     "text": [
      "Path name: ../gis/raw/parsed_zoning\n",
      "Dirname (1st element of path): ../gis/raw/parsed_zoning\n",
      "Shapefile name: parsed_zoning.shp\n",
      "Shapefile component parts folder: ../gis/raw/parsed_zoning/parsed_zoning.shp\n"
     ]
    },
    {
     "name": "stderr",
     "output_type": "stream",
     "text": [
      "/opt/conda/lib/python3.7/site-packages/ipykernel_launcher.py:7: UserWarning: this is an initial implementation of Parquet/Feather file support and associated metadata.  This is tracking version 0.1.0 of the metadata specification at https://github.com/geopandas/geo-arrow-spec\n",
      "\n",
      "This metadata specification does not yet make stability promises.  We do not yet recommend using this in a production setting unless you are able to rewrite your Parquet/Feather files.\n",
      "\n",
      "To further ignore this warning, you can do: \n",
      "import warnings; warnings.filterwarnings('ignore', message='.*initial implementation of Parquet.*')\n",
      "  import sys\n"
     ]
    }
   ],
   "source": [
    "file_name = 'gis/raw/parsed_zoning'\n",
    "utils.make_zipped_shapefile(final, f'../{file_name}')\n",
    "\n",
    "s3.upload_file(f'../{file_name}.zip', bucket_name, f'{file_name}.zip')\n",
    "\n",
    "# Save as geoparquet\n",
    "final.to_parquet(f'../{file_name}.parquet')\n",
    "s3.upload_file(f'../{file_name}.parquet', bucket_name, f'{file_name}.parquet')\n",
    "\n",
    "# Remove since QGIS can't read geoparquet\n",
    "os.remove(f'../{file_name}.parquet')"
   ]
  },
  {
   "cell_type": "code",
   "execution_count": null,
   "metadata": {},
   "outputs": [],
   "source": []
  }
 ],
 "metadata": {
  "kernelspec": {
   "display_name": "Python 3",
   "language": "python",
   "name": "python3"
  },
  "language_info": {
   "codemirror_mode": {
    "name": "ipython",
    "version": 3
   },
   "file_extension": ".py",
   "mimetype": "text/x-python",
   "name": "python",
   "nbconvert_exporter": "python",
   "pygments_lexer": "ipython3",
   "version": "3.7.8"
  }
 },
 "nbformat": 4,
 "nbformat_minor": 4
}
