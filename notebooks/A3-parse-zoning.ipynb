{
 "cells": [
  {
   "cell_type": "markdown",
   "metadata": {},
   "source": [
    "# Clean ZIMAS / zoning file\n",
    "* Use parser in `laplan.zoning` to parse ZONE_CMPLT\n",
    "* Use this to build crosswalk of height, density, etc restrictions"
   ]
  },
  {
   "cell_type": "code",
   "execution_count": 1,
   "metadata": {},
   "outputs": [],
   "source": [
    "import numpy as np\n",
    "import pandas as pd\n",
    "import geopandas as gpd\n",
    "import intake\n",
    "import boto3\n",
    "import laplan"
   ]
  },
  {
   "cell_type": "code",
   "execution_count": 2,
   "metadata": {},
   "outputs": [],
   "source": [
    "catalog = intake.open_catalog(\"../catalogs/*.yml\")\n",
    "\n",
    "s3 = boto3.client('s3')\n",
    "bucket_name = 'city-planning-entitlements'"
   ]
  },
  {
   "cell_type": "code",
   "execution_count": 3,
   "metadata": {},
   "outputs": [],
   "source": [
    "# Default value of display.max_rows is 10 i.e. at max 10 rows will be printed.\n",
    "# Set it None to display all rows in the dataframe\n",
    "pd.set_option('display.max_rows', 25)"
   ]
  },
  {
   "cell_type": "code",
   "execution_count": 4,
   "metadata": {},
   "outputs": [],
   "source": [
    "df = catalog.zoning.read()\n",
    "df = df[['ZONE_CMPLT']].drop_duplicates()"
   ]
  },
  {
   "cell_type": "markdown",
   "metadata": {},
   "source": [
    "## Parse zoning string"
   ]
  },
  {
   "cell_type": "code",
   "execution_count": 5,
   "metadata": {},
   "outputs": [
    {
     "data": {
      "text/html": [
       "<div>\n",
       "<style scoped>\n",
       "    .dataframe tbody tr th:only-of-type {\n",
       "        vertical-align: middle;\n",
       "    }\n",
       "\n",
       "    .dataframe tbody tr th {\n",
       "        vertical-align: top;\n",
       "    }\n",
       "\n",
       "    .dataframe thead th {\n",
       "        text-align: right;\n",
       "    }\n",
       "</style>\n",
       "<table border=\"1\" class=\"dataframe\">\n",
       "  <thead>\n",
       "    <tr style=\"text-align: right;\">\n",
       "      <th></th>\n",
       "      <th>ZONE_CMPLT</th>\n",
       "      <th>Q</th>\n",
       "      <th>T</th>\n",
       "      <th>zone_class</th>\n",
       "      <th>specific_plan</th>\n",
       "      <th>height_district</th>\n",
       "      <th>D</th>\n",
       "      <th>overlay</th>\n",
       "    </tr>\n",
       "  </thead>\n",
       "  <tbody>\n",
       "    <tr>\n",
       "      <th>0</th>\n",
       "      <td>C2-1-SP</td>\n",
       "      <td>False</td>\n",
       "      <td>False</td>\n",
       "      <td>C2</td>\n",
       "      <td></td>\n",
       "      <td>1</td>\n",
       "      <td>False</td>\n",
       "      <td>[SP]</td>\n",
       "    </tr>\n",
       "    <tr>\n",
       "      <th>1</th>\n",
       "      <td>C1.5-1-SP</td>\n",
       "      <td>False</td>\n",
       "      <td>False</td>\n",
       "      <td>C1.5</td>\n",
       "      <td></td>\n",
       "      <td>1</td>\n",
       "      <td>False</td>\n",
       "      <td>[SP]</td>\n",
       "    </tr>\n",
       "    <tr>\n",
       "      <th>4</th>\n",
       "      <td>[Q]C1.5-1</td>\n",
       "      <td>True</td>\n",
       "      <td>False</td>\n",
       "      <td>C1.5</td>\n",
       "      <td></td>\n",
       "      <td>1</td>\n",
       "      <td>False</td>\n",
       "      <td>[]</td>\n",
       "    </tr>\n",
       "    <tr>\n",
       "      <th>10</th>\n",
       "      <td>[Q]C1.5-1-RIO</td>\n",
       "      <td>True</td>\n",
       "      <td>False</td>\n",
       "      <td>C1.5</td>\n",
       "      <td></td>\n",
       "      <td>1</td>\n",
       "      <td>False</td>\n",
       "      <td>[RIO]</td>\n",
       "    </tr>\n",
       "    <tr>\n",
       "      <th>12</th>\n",
       "      <td>[Q]C1.5-1-O</td>\n",
       "      <td>True</td>\n",
       "      <td>False</td>\n",
       "      <td>C1.5</td>\n",
       "      <td></td>\n",
       "      <td>1</td>\n",
       "      <td>False</td>\n",
       "      <td>[O]</td>\n",
       "    </tr>\n",
       "  </tbody>\n",
       "</table>\n",
       "</div>"
      ],
      "text/plain": [
       "       ZONE_CMPLT      Q      T zone_class specific_plan height_district  \\\n",
       "0         C2-1-SP  False  False         C2                             1   \n",
       "1       C1.5-1-SP  False  False       C1.5                             1   \n",
       "4       [Q]C1.5-1   True  False       C1.5                             1   \n",
       "10  [Q]C1.5-1-RIO   True  False       C1.5                             1   \n",
       "12    [Q]C1.5-1-O   True  False       C1.5                             1   \n",
       "\n",
       "        D overlay  \n",
       "0   False    [SP]  \n",
       "1   False    [SP]  \n",
       "4   False      []  \n",
       "10  False   [RIO]  \n",
       "12  False     [O]  "
      ]
     },
     "execution_count": 5,
     "metadata": {},
     "output_type": "execute_result"
    }
   ],
   "source": [
    "parsed_col_names = ['Q', 'T', 'zone_class', 'specific_plan', 'height_district', 'D', 'overlay']\n",
    "\n",
    "def parse_zoning(row):\n",
    "    try:\n",
    "        z = laplan.zoning.ZoningInfo(row.ZONE_CMPLT)\n",
    "        return pd.Series([z.Q, z.T, z.zone_class, z.specific_plan, z.height_district, z.D, z.overlay], \n",
    "                         index = parsed_col_names)\n",
    "    except ValueError:\n",
    "        return pd.Series(['failed', 'failed', 'failed', 'failed', 'failed', 'failed', ''], \n",
    "                         index = parsed_col_names)\n",
    "\n",
    "    \n",
    "parsed = df.apply(parse_zoning, axis = 1)\n",
    "\n",
    "df = pd.concat([df, parsed], axis = 1)\n",
    "\n",
    "df.head()"
   ]
  },
  {
   "cell_type": "markdown",
   "metadata": {},
   "source": [
    "## Fix parse fails"
   ]
  },
  {
   "cell_type": "code",
   "execution_count": 6,
   "metadata": {},
   "outputs": [
    {
     "name": "stdout",
     "output_type": "stream",
     "text": [
      "# obs in fails_crosswalk: 43\n"
     ]
    }
   ],
   "source": [
    "fails_crosswalk = pd.read_parquet(f's3://{bucket_name}/data/crosswalk_zone_parse_fails.parquet')\n",
    "\n",
    "print(f'# obs in fails_crosswalk: {len(fails_crosswalk)}')"
   ]
  },
  {
   "cell_type": "code",
   "execution_count": 7,
   "metadata": {},
   "outputs": [
    {
     "name": "stdout",
     "output_type": "stream",
     "text": [
      "# obs in fails: 43\n"
     ]
    }
   ],
   "source": [
    "# Grab all obs in our df that shows up in the fails_crosswalk, even if it was parsed correctly\n",
    "# There were some other ones that were added because they weren't valid zone classes\n",
    "fails = df[df.ZONE_CMPLT.isin(fails_crosswalk.ZONE_CMPLT)]\n",
    "print(f'# obs in fails: {len(fails)}')"
   ]
  },
  {
   "cell_type": "code",
   "execution_count": 8,
   "metadata": {},
   "outputs": [],
   "source": [
    "# Convert the overlay column from string to list\n",
    "fails_crosswalk.overlay = fails_crosswalk.overlay.str[1:-1].str.split(',').tolist()\n",
    "\n",
    "# Fill in Nones with empty list\n",
    "fails_crosswalk['overlay'] = fails_crosswalk['overlay'].apply(lambda row: row if isinstance(row, list) else [])"
   ]
  },
  {
   "cell_type": "code",
   "execution_count": 9,
   "metadata": {},
   "outputs": [],
   "source": [
    "df1 = df[~ df.ZONE_CMPLT.isin(fails_crosswalk.ZONE_CMPLT)]\n",
    "\n",
    "# Append the successfully parsed obs with the failed ones\n",
    "df2 = df1.append(fails_crosswalk)"
   ]
  },
  {
   "cell_type": "code",
   "execution_count": 10,
   "metadata": {},
   "outputs": [],
   "source": [
    "# Make sure cols are the same type again\n",
    "for col in ['zone_class', 'specific_plan', 'height_district']:\n",
    "    df2[col] = df2[col].astype(str)\n",
    "\n",
    "for col in ['Q', 'T', 'D']:\n",
    "    df2[col] = df2[col].astype(int)"
   ]
  },
  {
   "cell_type": "code",
   "execution_count": 11,
   "metadata": {},
   "outputs": [
    {
     "name": "stdout",
     "output_type": "stream",
     "text": [
      "# obs in df: 1934\n",
      "# obs in df2: 1934\n"
     ]
    }
   ],
   "source": [
    "print(f'# obs in df: {len(df)}')\n",
    "print(f'# obs in df2: {len(df2)}')"
   ]
  },
  {
   "cell_type": "markdown",
   "metadata": {},
   "source": [
    "## Need to do something about overlays and specific plans...\n",
    "* leave as list? -> then split (ZONE_CMPLT, geometry) from the rest, so we can save geojson and tabular separately\n",
    "* GeoJSON can't take lists. Convert to strings...later make it a list again?"
   ]
  },
  {
   "cell_type": "code",
   "execution_count": 12,
   "metadata": {},
   "outputs": [],
   "source": [
    "# Fill in Nones, otherwise cannot do the apply to make the list a string\n",
    "df2.overlay = df2.overlay.fillna('')\n",
    "\n",
    "just_overlay = df2[df2.overlay != ''][['ZONE_CMPLT', 'overlay']]\n",
    "just_overlay['no_brackets'] = just_overlay['overlay'].apply(', '.join)"
   ]
  },
  {
   "cell_type": "code",
   "execution_count": 13,
   "metadata": {},
   "outputs": [],
   "source": [
    "split = just_overlay.no_brackets.str.split(',', expand = True).fillna('')\n",
    "split.rename(columns = {0: 'o1', 1: 'o2', 2: 'o3'}, inplace = True)\n",
    "\n",
    "just_overlay = pd.concat([just_overlay, split], axis = 1)"
   ]
  },
  {
   "cell_type": "code",
   "execution_count": 14,
   "metadata": {},
   "outputs": [],
   "source": [
    "supplemental_use = pd.read_parquet(f's3://{bucket_name}/data/crosswalk_supplemental_use_overlay.parquet')\n",
    "specific_plan = pd.read_parquet(f's3://{bucket_name}/data/crosswalk_specific_plan.parquet')"
   ]
  },
  {
   "cell_type": "code",
   "execution_count": 15,
   "metadata": {},
   "outputs": [],
   "source": [
    "supplemental_use_dict = supplemental_use.set_index('supplemental_use').to_dict()['supplemental_use_description']\n",
    "specific_plan_dict = specific_plan.set_index('specific_plan').to_dict()['specific_plan_description']"
   ]
  },
  {
   "cell_type": "code",
   "execution_count": 16,
   "metadata": {},
   "outputs": [],
   "source": [
    "# Trouble mapping it across all columns\n",
    "for col in ['o1', 'o2', 'o3']:\n",
    "    just_overlay[col] = just_overlay[col].str.strip()\n",
    "    new_col = f'{col}_descrip'\n",
    "    just_overlay[new_col] = just_overlay[col].map(supplemental_use_dict)\n",
    "    just_overlay[new_col] = just_overlay[new_col].fillna('')"
   ]
  },
  {
   "cell_type": "code",
   "execution_count": 17,
   "metadata": {},
   "outputs": [
    {
     "data": {
      "text/html": [
       "<div>\n",
       "<style scoped>\n",
       "    .dataframe tbody tr th:only-of-type {\n",
       "        vertical-align: middle;\n",
       "    }\n",
       "\n",
       "    .dataframe tbody tr th {\n",
       "        vertical-align: top;\n",
       "    }\n",
       "\n",
       "    .dataframe thead th {\n",
       "        text-align: right;\n",
       "    }\n",
       "</style>\n",
       "<table border=\"1\" class=\"dataframe\">\n",
       "  <thead>\n",
       "    <tr style=\"text-align: right;\">\n",
       "      <th></th>\n",
       "      <th>ZONE_CMPLT</th>\n",
       "      <th>Q</th>\n",
       "      <th>T</th>\n",
       "      <th>zone_class</th>\n",
       "      <th>specific_plan</th>\n",
       "      <th>height_district</th>\n",
       "      <th>D</th>\n",
       "      <th>overlay_x</th>\n",
       "      <th>overlay_y</th>\n",
       "      <th>no_brackets</th>\n",
       "      <th>o1</th>\n",
       "      <th>o2</th>\n",
       "      <th>o3</th>\n",
       "      <th>o1_descrip</th>\n",
       "      <th>o2_descrip</th>\n",
       "      <th>o3_descrip</th>\n",
       "    </tr>\n",
       "  </thead>\n",
       "  <tbody>\n",
       "    <tr>\n",
       "      <th>0</th>\n",
       "      <td>C2-1-SP</td>\n",
       "      <td>0</td>\n",
       "      <td>0</td>\n",
       "      <td>C2</td>\n",
       "      <td></td>\n",
       "      <td>1</td>\n",
       "      <td>0</td>\n",
       "      <td>[SP]</td>\n",
       "      <td>[SP]</td>\n",
       "      <td>SP</td>\n",
       "      <td>SP</td>\n",
       "      <td></td>\n",
       "      <td></td>\n",
       "      <td>unknown1</td>\n",
       "      <td></td>\n",
       "      <td></td>\n",
       "    </tr>\n",
       "    <tr>\n",
       "      <th>1</th>\n",
       "      <td>C1.5-1-SP</td>\n",
       "      <td>0</td>\n",
       "      <td>0</td>\n",
       "      <td>C1.5</td>\n",
       "      <td></td>\n",
       "      <td>1</td>\n",
       "      <td>0</td>\n",
       "      <td>[SP]</td>\n",
       "      <td>[SP]</td>\n",
       "      <td>SP</td>\n",
       "      <td>SP</td>\n",
       "      <td></td>\n",
       "      <td></td>\n",
       "      <td>unknown1</td>\n",
       "      <td></td>\n",
       "      <td></td>\n",
       "    </tr>\n",
       "    <tr>\n",
       "      <th>2</th>\n",
       "      <td>[Q]C1.5-1</td>\n",
       "      <td>1</td>\n",
       "      <td>0</td>\n",
       "      <td>C1.5</td>\n",
       "      <td></td>\n",
       "      <td>1</td>\n",
       "      <td>0</td>\n",
       "      <td>[]</td>\n",
       "      <td>[]</td>\n",
       "      <td></td>\n",
       "      <td></td>\n",
       "      <td></td>\n",
       "      <td></td>\n",
       "      <td></td>\n",
       "      <td></td>\n",
       "      <td></td>\n",
       "    </tr>\n",
       "    <tr>\n",
       "      <th>3</th>\n",
       "      <td>[Q]C1.5-1-RIO</td>\n",
       "      <td>1</td>\n",
       "      <td>0</td>\n",
       "      <td>C1.5</td>\n",
       "      <td></td>\n",
       "      <td>1</td>\n",
       "      <td>0</td>\n",
       "      <td>[RIO]</td>\n",
       "      <td>[RIO]</td>\n",
       "      <td>RIO</td>\n",
       "      <td>RIO</td>\n",
       "      <td></td>\n",
       "      <td></td>\n",
       "      <td>river_improvement_overlay</td>\n",
       "      <td></td>\n",
       "      <td></td>\n",
       "    </tr>\n",
       "    <tr>\n",
       "      <th>4</th>\n",
       "      <td>[Q]C1.5-1-O</td>\n",
       "      <td>1</td>\n",
       "      <td>0</td>\n",
       "      <td>C1.5</td>\n",
       "      <td></td>\n",
       "      <td>1</td>\n",
       "      <td>0</td>\n",
       "      <td>[O]</td>\n",
       "      <td>[O]</td>\n",
       "      <td>O</td>\n",
       "      <td>O</td>\n",
       "      <td></td>\n",
       "      <td></td>\n",
       "      <td>oil_drilling</td>\n",
       "      <td></td>\n",
       "      <td></td>\n",
       "    </tr>\n",
       "  </tbody>\n",
       "</table>\n",
       "</div>"
      ],
      "text/plain": [
       "      ZONE_CMPLT  Q  T zone_class specific_plan height_district  D overlay_x  \\\n",
       "0        C2-1-SP  0  0         C2                             1  0      [SP]   \n",
       "1      C1.5-1-SP  0  0       C1.5                             1  0      [SP]   \n",
       "2      [Q]C1.5-1  1  0       C1.5                             1  0        []   \n",
       "3  [Q]C1.5-1-RIO  1  0       C1.5                             1  0     [RIO]   \n",
       "4    [Q]C1.5-1-O  1  0       C1.5                             1  0       [O]   \n",
       "\n",
       "  overlay_y no_brackets   o1 o2 o3                 o1_descrip o2_descrip  \\\n",
       "0      [SP]          SP   SP                         unknown1              \n",
       "1      [SP]          SP   SP                         unknown1              \n",
       "2        []                                                                \n",
       "3     [RIO]         RIO  RIO        river_improvement_overlay              \n",
       "4       [O]           O    O                     oil_drilling              \n",
       "\n",
       "  o3_descrip  \n",
       "0             \n",
       "1             \n",
       "2             \n",
       "3             \n",
       "4             "
      ]
     },
     "execution_count": 17,
     "metadata": {},
     "output_type": "execute_result"
    }
   ],
   "source": [
    "# Put df back together\n",
    "df3 = pd.merge(df2, just_overlay, on = 'ZONE_CMPLT', how = 'left', validate = '1:1')\n",
    "df3.head()"
   ]
  },
  {
   "cell_type": "code",
   "execution_count": 18,
   "metadata": {},
   "outputs": [],
   "source": [
    "# Invalid overlays\n",
    "# What is SP? Specific Plan?\n",
    "# Also, can't find H"
   ]
  },
  {
   "cell_type": "markdown",
   "metadata": {},
   "source": [
    "## Merge and export"
   ]
  },
  {
   "cell_type": "code",
   "execution_count": 19,
   "metadata": {},
   "outputs": [],
   "source": [
    "full = catalog.zoning.read()\n",
    "full.crs = \"EPSG:2229\"\n",
    "\n",
    "full.rename(columns = {'ZONE_CLASS': 'ZONE_CLASS1'}, inplace = True)"
   ]
  },
  {
   "cell_type": "code",
   "execution_count": 20,
   "metadata": {},
   "outputs": [],
   "source": [
    "final = pd.merge(full, df3, on = 'ZONE_CMPLT', how = 'left', validate = 'm:1')"
   ]
  },
  {
   "cell_type": "code",
   "execution_count": 21,
   "metadata": {},
   "outputs": [
    {
     "data": {
      "text/plain": [
       "True     59894\n",
       "False      694\n",
       "Name: same, dtype: int64"
      ]
     },
     "metadata": {},
     "output_type": "display_data"
    }
   ],
   "source": [
    "final['same'] = final.apply(\n",
    "    lambda row: True if row.ZONE_CLASS1 == row.zone_class else False,\n",
    "    axis = 1,\n",
    ")\n",
    "display(final.same.value_counts())"
   ]
  },
  {
   "cell_type": "code",
   "execution_count": 22,
   "metadata": {},
   "outputs": [
    {
     "data": {
      "text/plain": [
       "Index(['OBJECTID', 'ZONE_CMPLT', 'ZONE_CLASS1', 'ZONE_SMRY', 'Shape__Area',\n",
       "       'Shape__Length', 'geometry', 'Q', 'T', 'zone_class', 'specific_plan',\n",
       "       'height_district', 'D', 'overlay_x', 'overlay_y', 'no_brackets', 'o1',\n",
       "       'o2', 'o3', 'o1_descrip', 'o2_descrip', 'o3_descrip', 'same'],\n",
       "      dtype='object')"
      ]
     },
     "execution_count": 22,
     "metadata": {},
     "output_type": "execute_result"
    }
   ],
   "source": [
    "final.columns"
   ]
  },
  {
   "cell_type": "code",
   "execution_count": 23,
   "metadata": {},
   "outputs": [
    {
     "data": {
      "text/html": [
       "<div>\n",
       "<style scoped>\n",
       "    .dataframe tbody tr th:only-of-type {\n",
       "        vertical-align: middle;\n",
       "    }\n",
       "\n",
       "    .dataframe tbody tr th {\n",
       "        vertical-align: top;\n",
       "    }\n",
       "\n",
       "    .dataframe thead th {\n",
       "        text-align: right;\n",
       "    }\n",
       "</style>\n",
       "<table border=\"1\" class=\"dataframe\">\n",
       "  <thead>\n",
       "    <tr style=\"text-align: right;\">\n",
       "      <th></th>\n",
       "      <th>ZONE_CMPLT</th>\n",
       "      <th>ZONE_CLASS1</th>\n",
       "      <th>ZONE_SMRY</th>\n",
       "      <th>geometry</th>\n",
       "      <th>Q</th>\n",
       "      <th>T</th>\n",
       "      <th>zone_class</th>\n",
       "      <th>specific_plan</th>\n",
       "      <th>height_district</th>\n",
       "      <th>D</th>\n",
       "      <th>o1</th>\n",
       "      <th>o2</th>\n",
       "      <th>o3</th>\n",
       "      <th>o1_descrip</th>\n",
       "      <th>o2_descrip</th>\n",
       "      <th>o3_descrip</th>\n",
       "    </tr>\n",
       "  </thead>\n",
       "  <tbody>\n",
       "    <tr>\n",
       "      <th>0</th>\n",
       "      <td>C2-1-SP</td>\n",
       "      <td>C2</td>\n",
       "      <td>COMMERCIAL</td>\n",
       "      <td>POLYGON ((6460317.049 1832062.462, 6460329.590...</td>\n",
       "      <td>0</td>\n",
       "      <td>0</td>\n",
       "      <td>C2</td>\n",
       "      <td></td>\n",
       "      <td>1</td>\n",
       "      <td>0</td>\n",
       "      <td>SP</td>\n",
       "      <td></td>\n",
       "      <td></td>\n",
       "      <td>unknown1</td>\n",
       "      <td></td>\n",
       "      <td></td>\n",
       "    </tr>\n",
       "    <tr>\n",
       "      <th>1</th>\n",
       "      <td>C1.5-1-SP</td>\n",
       "      <td>C1.5</td>\n",
       "      <td>COMMERCIAL</td>\n",
       "      <td>POLYGON ((6459991.770 1832633.240, 6460066.270...</td>\n",
       "      <td>0</td>\n",
       "      <td>0</td>\n",
       "      <td>C1.5</td>\n",
       "      <td></td>\n",
       "      <td>1</td>\n",
       "      <td>0</td>\n",
       "      <td>SP</td>\n",
       "      <td></td>\n",
       "      <td></td>\n",
       "      <td>unknown1</td>\n",
       "      <td></td>\n",
       "      <td></td>\n",
       "    </tr>\n",
       "    <tr>\n",
       "      <th>2</th>\n",
       "      <td>C1.5-1-SP</td>\n",
       "      <td>C1.5</td>\n",
       "      <td>COMMERCIAL</td>\n",
       "      <td>POLYGON ((6460331.280 1832633.620, 6460331.440...</td>\n",
       "      <td>0</td>\n",
       "      <td>0</td>\n",
       "      <td>C1.5</td>\n",
       "      <td></td>\n",
       "      <td>1</td>\n",
       "      <td>0</td>\n",
       "      <td>SP</td>\n",
       "      <td></td>\n",
       "      <td></td>\n",
       "      <td>unknown1</td>\n",
       "      <td></td>\n",
       "      <td></td>\n",
       "    </tr>\n",
       "    <tr>\n",
       "      <th>3</th>\n",
       "      <td>C1.5-1-SP</td>\n",
       "      <td>C1.5</td>\n",
       "      <td>COMMERCIAL</td>\n",
       "      <td>POLYGON ((6460068.300 1833302.250, 6460083.350...</td>\n",
       "      <td>0</td>\n",
       "      <td>0</td>\n",
       "      <td>C1.5</td>\n",
       "      <td></td>\n",
       "      <td>1</td>\n",
       "      <td>0</td>\n",
       "      <td>SP</td>\n",
       "      <td></td>\n",
       "      <td></td>\n",
       "      <td>unknown1</td>\n",
       "      <td></td>\n",
       "      <td></td>\n",
       "    </tr>\n",
       "    <tr>\n",
       "      <th>4</th>\n",
       "      <td>[Q]C1.5-1</td>\n",
       "      <td>C1.5</td>\n",
       "      <td>COMMERCIAL</td>\n",
       "      <td>POLYGON ((6479594.100 1840055.860, 6479624.020...</td>\n",
       "      <td>1</td>\n",
       "      <td>0</td>\n",
       "      <td>C1.5</td>\n",
       "      <td></td>\n",
       "      <td>1</td>\n",
       "      <td>0</td>\n",
       "      <td></td>\n",
       "      <td></td>\n",
       "      <td></td>\n",
       "      <td></td>\n",
       "      <td></td>\n",
       "      <td></td>\n",
       "    </tr>\n",
       "  </tbody>\n",
       "</table>\n",
       "</div>"
      ],
      "text/plain": [
       "  ZONE_CMPLT ZONE_CLASS1   ZONE_SMRY  \\\n",
       "0    C2-1-SP          C2  COMMERCIAL   \n",
       "1  C1.5-1-SP        C1.5  COMMERCIAL   \n",
       "2  C1.5-1-SP        C1.5  COMMERCIAL   \n",
       "3  C1.5-1-SP        C1.5  COMMERCIAL   \n",
       "4  [Q]C1.5-1        C1.5  COMMERCIAL   \n",
       "\n",
       "                                            geometry  Q  T zone_class  \\\n",
       "0  POLYGON ((6460317.049 1832062.462, 6460329.590...  0  0         C2   \n",
       "1  POLYGON ((6459991.770 1832633.240, 6460066.270...  0  0       C1.5   \n",
       "2  POLYGON ((6460331.280 1832633.620, 6460331.440...  0  0       C1.5   \n",
       "3  POLYGON ((6460068.300 1833302.250, 6460083.350...  0  0       C1.5   \n",
       "4  POLYGON ((6479594.100 1840055.860, 6479624.020...  1  0       C1.5   \n",
       "\n",
       "  specific_plan height_district  D  o1 o2 o3 o1_descrip o2_descrip o3_descrip  \n",
       "0                             1  0  SP         unknown1                        \n",
       "1                             1  0  SP         unknown1                        \n",
       "2                             1  0  SP         unknown1                        \n",
       "3                             1  0  SP         unknown1                        \n",
       "4                             1  0                                             "
      ]
     },
     "execution_count": 23,
     "metadata": {},
     "output_type": "execute_result"
    }
   ],
   "source": [
    "drop_me = ['OBJECTID', 'Shape__Area', 'Shape__Length',\n",
    "           'overlay_x', 'overlay_y', 'no_brackets', 'same']\n",
    "\n",
    "final = final.drop(columns = drop_me)\n",
    "\n",
    "final.head()"
   ]
  },
  {
   "cell_type": "code",
   "execution_count": 24,
   "metadata": {},
   "outputs": [],
   "source": [
    "final.to_file(driver = 'GeoJSON', filename = '../gis/raw/parsed_zoning.geojson')\n",
    "s3.upload_file('../gis/raw/parsed_zoning.geojson', bucket_name, 'gis/raw/parsed_zoning.geojson')"
   ]
  }
 ],
 "metadata": {
  "kernelspec": {
   "display_name": "Python 3",
   "language": "python",
   "name": "python3"
  },
  "language_info": {
   "codemirror_mode": {
    "name": "ipython",
    "version": 3
   },
   "file_extension": ".py",
   "mimetype": "text/x-python",
   "name": "python",
   "nbconvert_exporter": "python",
   "pygments_lexer": "ipython3",
   "version": "3.7.8"
  }
 },
 "nbformat": 4,
 "nbformat_minor": 4
}
