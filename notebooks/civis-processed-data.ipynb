{
 "cells": [
  {
   "cell_type": "markdown",
   "metadata": {},
   "source": [
    "# Write processed data to S3 / Google Drive\n",
    "Use Civis to schedule this notebook"
   ]
  },
  {
   "cell_type": "code",
   "execution_count": 1,
   "metadata": {},
   "outputs": [],
   "source": [
    "import intake\n",
    "import pandas as pd\n",
    "\n",
    "import laplan\n",
    "\n",
    "catalog = intake.open_catalog(\"../catalogs/catalog.yml\")"
   ]
  },
  {
   "cell_type": "code",
   "execution_count": 2,
   "metadata": {},
   "outputs": [],
   "source": [
    "# Use lightweight version of grabbing processed data\n",
    "# utils.entitlements_per_tract() has a lot of joins and aggregation, unnecessary\n",
    "def get_processed_data():\n",
    "    pcts = catalog.pcts.read()\n",
    "    pcts = laplan.pcts.subset_pcts(pcts, verbose=True)\n",
    "    pcts = laplan.pcts.drop_child_cases(pcts, keep_child_entitlements=True)\n",
    "    \n",
    "    pcts.to_parquet(\"s3://city-planning-entitlements/test_df.parquet\")\n",
    "    \n",
    "    return pcts"
   ]
  },
  {
   "cell_type": "code",
   "execution_count": 3,
   "metadata": {},
   "outputs": [],
   "source": [
    "df = get_processed_data()"
   ]
  },
  {
   "cell_type": "code",
   "execution_count": 4,
   "metadata": {},
   "outputs": [
    {
     "name": "stdout",
     "output_type": "stream",
     "text": [
      "# obs: 1205730\n",
      "earliest date: 2010-01-04 00:00:00\n",
      "most recent date: 2020-03-13 00:00:00\n"
     ]
    }
   ],
   "source": [
    "print(f\"# obs: {len(df)}\")\n",
    "print(f\"earliest date: {df.FILE_DATE.min()}\")\n",
    "print(f\"most recent date: {df.FILE_DATE.max()}\")"
   ]
  },
  {
   "cell_type": "code",
   "execution_count": null,
   "metadata": {},
   "outputs": [],
   "source": []
  }
 ],
 "metadata": {
  "kernelspec": {
   "display_name": "Python 3",
   "language": "python",
   "name": "python3"
  },
  "language_info": {
   "codemirror_mode": {
    "name": "ipython",
    "version": 3
   },
   "file_extension": ".py",
   "mimetype": "text/x-python",
   "name": "python",
   "nbconvert_exporter": "python",
   "pygments_lexer": "ipython3",
   "version": "3.7.8"
  }
 },
 "nbformat": 4,
 "nbformat_minor": 4
}
