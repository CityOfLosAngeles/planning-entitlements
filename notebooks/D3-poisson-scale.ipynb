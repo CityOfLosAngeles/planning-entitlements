{
 "cells": [
  {
   "cell_type": "markdown",
   "metadata": {},
   "source": [
    "# Synthetic regression for entitlement counts"
   ]
  },
  {
   "cell_type": "code",
   "execution_count": 1,
   "metadata": {},
   "outputs": [],
   "source": [
    "import matplotlib.pyplot as plt\n",
    "import numpy as np\n",
    "\n",
    "import scipy.stats\n",
    "import sklearn.preprocessing\n",
    "import sklearn.linear_model\n",
    "import sklearn.pipeline"
   ]
  },
  {
   "cell_type": "markdown",
   "metadata": {},
   "source": [
    "Let's assume $\\mu$ is a function of income:\n",
    "\n",
    "We can draw a bunch of samples of income from a lognormal distribution as a starting point:"
   ]
  },
  {
   "cell_type": "code",
   "execution_count": 2,
   "metadata": {},
   "outputs": [
    {
     "data": {
      "text/plain": [
       "Text(0, 0.5, 'Count')"
      ]
     },
     "execution_count": 2,
     "metadata": {},
     "output_type": "execute_result"
    },
    {
     "data": {
      "image/png": "[encoded data removed]",
      "text/plain": [
       "<Figure size 432x288 with 1 Axes>"
      ]
     },
     "metadata": {
      "needs_background": "light"
     },
     "output_type": "display_data"
    }
   ],
   "source": [
    "n = 100000\n",
    "income = scipy.stats.lognorm.rvs(0.3, scale=50000, size=n)\n",
    "plt.hist(income)\n",
    "plt.xlabel(\"Income\")\n",
    "plt.ylabel(\"Count\")"
   ]
  },
  {
   "cell_type": "markdown",
   "metadata": {},
   "source": [
    "A Poisson regression usually uses a log link function, which means that the rate parameter $\\mu$\n",
    "is related to the linear regression via an exponential relationship, or\n",
    "\n",
    "$$\n",
    "\\mu = e^{\\mathbf{\\beta}\\mathbf{x} + \\alpha}\n",
    "$$\n",
    "\n",
    "We can distribute the terms in the exponential to find\n",
    "$$\n",
    "\\mu = e^{\\alpha}e^{\\beta x}\n",
    "$$\n",
    "and can therefore interpret $\\alpha$ to be the log of the base rate when $x=0$,\n",
    "and $\\beta$ is the e-folding paramter. That is, if $\\beta$ is $1/3$,\n",
    "then $x$ must increase by 3 for $\\mu$ to increase by one factor of $e$."
   ]
  },
  {
   "cell_type": "markdown",
   "metadata": {},
   "source": [
    "We can generate synthetic counts using this assumed functional relationship,\n",
    "assuming one entitlement as the base rate, and $1/100000$ as the e-folding parameter."
   ]
  },
  {
   "cell_type": "code",
   "execution_count": 3,
   "metadata": {},
   "outputs": [],
   "source": [
    "beta = 1/100000\n",
    "alpha = 0\n",
    "mu =np.exp(income*beta + alpha)\n",
    "counts = scipy.stats.poisson.rvs(mu=mu)"
   ]
  },
  {
   "cell_type": "code",
   "execution_count": 4,
   "metadata": {},
   "outputs": [
    {
     "data": {
      "text/plain": [
       "(array([6.1564e+04, 3.3912e+04, 3.8820e+03, 5.1000e+02, 9.6000e+01,\n",
       "        2.6000e+01, 7.0000e+00, 0.0000e+00, 1.0000e+00, 2.0000e+00]),\n",
       " array([1.15834051, 1.72658487, 2.29482923, 2.86307359, 3.43131795,\n",
       "        3.99956231, 4.56780667, 5.13605103, 5.70429539, 6.27253975,\n",
       "        6.8407841 ]),\n",
       " <a list of 10 Patch objects>)"
      ]
     },
     "execution_count": 4,
     "metadata": {},
     "output_type": "execute_result"
    },
    {
     "data": {
      "image/png": "[encoded data removed]",
      "text/plain": [
       "<Figure size 432x288 with 1 Axes>"
      ]
     },
     "metadata": {
      "needs_background": "light"
     },
     "output_type": "display_data"
    }
   ],
   "source": [
    "plt.hist(mu)"
   ]
  },
  {
   "cell_type": "code",
   "execution_count": 5,
   "metadata": {},
   "outputs": [
    {
     "data": {
      "text/plain": [
       "(array([4.9794e+04, 2.5489e+04, 1.4771e+04, 6.4590e+03, 2.4480e+03,\n",
       "        7.5900e+02, 2.0300e+02, 5.8000e+01, 1.8000e+01, 1.0000e+00]),\n",
       " array([ 0. ,  1.1,  2.2,  3.3,  4.4,  5.5,  6.6,  7.7,  8.8,  9.9, 11. ]),\n",
       " <a list of 10 Patch objects>)"
      ]
     },
     "execution_count": 5,
     "metadata": {},
     "output_type": "execute_result"
    },
    {
     "data": {
      "image/png": "[encoded data removed]",
      "text/plain": [
       "<Figure size 432x288 with 1 Axes>"
      ]
     },
     "metadata": {
      "needs_background": "light"
     },
     "output_type": "display_data"
    }
   ],
   "source": [
    "plt.hist(counts)"
   ]
  },
  {
   "cell_type": "code",
   "execution_count": 6,
   "metadata": {},
   "outputs": [],
   "source": [
    "model = sklearn.pipeline.Pipeline([\n",
    "    (\"scaler\", sklearn.preprocessing.StandardScaler()),\n",
    "    (\"regressor\", sklearn.linear_model.PoissonRegressor(alpha=0.0,fit_intercept=True))\n",
    "])"
   ]
  },
  {
   "cell_type": "code",
   "execution_count": 7,
   "metadata": {},
   "outputs": [
    {
     "data": {
      "text/plain": [
       "Pipeline(steps=[('scaler', StandardScaler()),\n",
       "                ('regressor', PoissonRegressor(alpha=0.0))])"
      ]
     },
     "execution_count": 7,
     "metadata": {},
     "output_type": "execute_result"
    }
   ],
   "source": [
    "data =np.array([income,]).T\n",
    "model.fit(data, counts)"
   ]
  },
  {
   "cell_type": "code",
   "execution_count": 8,
   "metadata": {},
   "outputs": [],
   "source": [
    "s = model[\"scaler\"]"
   ]
  },
  {
   "cell_type": "code",
   "execution_count": 9,
   "metadata": {},
   "outputs": [],
   "source": [
    "r = model[\"regressor\"]"
   ]
  },
  {
   "cell_type": "markdown",
   "metadata": {},
   "source": [
    "The scaled variable $z$ is given by\n",
    "\n",
    "$$\n",
    "z = (x - u)/s\n",
    "$$\n",
    "\n",
    "We can solve for $x$ to get\n",
    "\n",
    "$$\n",
    "x = zs + u\n",
    "$$\n",
    "and substitute into the above linear equation for $\\mu$:\n",
    "\n",
    "$$\n",
    "\\mu = \\beta x + \\alpha = \\beta (zs + u) + \\alpha = \\beta z s + \\beta u + \\alpha\n",
    "$$\n",
    "\n",
    "From the scaled variables, we can read off the unscaled versions:\n",
    "\n",
    "$$ \\hat{\\alpha} = u \\beta + \\alpha $$\n",
    "$$ \\hat{\\beta} = s \\beta $$\n",
    "\n",
    "We can solve these for $\\alpha$ and $\\beta$ in terms of the scaled versions:\n",
    "\n",
    "$$\n",
    "\\beta = \\frac{\\hat{\\beta}}{s}\n",
    "$$\n",
    "$$\n",
    "\\alpha = \\hat{\\alpha} - u \\frac{\\hat{\\beta}}{s}\n",
    "$$"
   ]
  },
  {
   "cell_type": "markdown",
   "metadata": {},
   "source": [
    "$$\n",
    "\\hat{\\alpha} = u_i \\beta_i + \\alpha\n",
    "$$\n",
    "$$\n",
    "\\hat{\\beta_i} = s_i \\beta_i\n",
    "$$"
   ]
  },
  {
   "cell_type": "code",
   "execution_count": 10,
   "metadata": {},
   "outputs": [
    {
     "data": {
      "text/plain": [
       "0.0002378445191587586"
      ]
     },
     "metadata": {},
     "output_type": "display_data"
    },
    {
     "data": {
      "text/plain": [
       "100195.13378377784"
      ]
     },
     "metadata": {},
     "output_type": "display_data"
    }
   ],
   "source": [
    "beta = r.coef_[0]/s.scale_[0]\n",
    "alpha = r.intercept_ - s.mean_[0] * beta\n",
    "display(alpha,1./beta)"
   ]
  },
  {
   "cell_type": "code",
   "execution_count": 11,
   "metadata": {},
   "outputs": [
    {
     "data": {
      "text/plain": [
       "(array([6.1427e+04, 3.4026e+04, 3.9040e+03, 5.0800e+02, 9.9000e+01,\n",
       "        2.6000e+01, 7.0000e+00, 0.0000e+00, 1.0000e+00, 2.0000e+00]),\n",
       " array([1.15828443, 1.72413948, 2.28999453, 2.85584958, 3.42170463,\n",
       "        3.98755969, 4.55341474, 5.11926979, 5.68512484, 6.2509799 ,\n",
       "        6.81683495]),\n",
       " <a list of 10 Patch objects>)"
      ]
     },
     "execution_count": 11,
     "metadata": {},
     "output_type": "execute_result"
    },
    {
     "data": {
      "image/png": "[encoded data removed]",
      "text/plain": [
       "<Figure size 432x288 with 1 Axes>"
      ]
     },
     "metadata": {
      "needs_background": "light"
     },
     "output_type": "display_data"
    }
   ],
   "source": [
    "plt.hist(counts, alpha=0.5)\n",
    "plt.hist(model.predict(data), alpha=0.5)"
   ]
  },
  {
   "cell_type": "code",
   "execution_count": 12,
   "metadata": {},
   "outputs": [
    {
     "data": {
      "text/plain": [
       "[<matplotlib.lines.Line2D at 0x7fca2009b250>]"
      ]
     },
     "execution_count": 12,
     "metadata": {},
     "output_type": "execute_result"
    },
    {
     "data": {
      "image/png": "[encoded data removed]",
      "text/plain": [
       "<Figure size 432x288 with 1 Axes>"
      ]
     },
     "metadata": {
      "needs_background": "light"
     },
     "output_type": "display_data"
    }
   ],
   "source": [
    "plt.scatter(data, counts)\n",
    "plt.scatter(data, model.predict(data))\n",
    "x = np.linspace(25000, 200000)\n",
    "y = np.exp((beta * x + alpha))\n",
    "plt.plot(x,y)"
   ]
  }
 ],
 "metadata": {
  "kernelspec": {
   "display_name": "Python 3",
   "language": "python",
   "name": "python3"
  },
  "language_info": {
   "codemirror_mode": {
    "name": "ipython",
    "version": 3
   },
   "file_extension": ".py",
   "mimetype": "text/x-python",
   "name": "python",
   "nbconvert_exporter": "python",
   "pygments_lexer": "ipython3",
   "version": "3.8.3"
  }
 },
 "nbformat": 4,
 "nbformat_minor": 4
}
