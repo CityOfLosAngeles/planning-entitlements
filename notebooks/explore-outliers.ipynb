{
 "cells": [
  {
   "cell_type": "markdown",
   "metadata": {},
   "source": [
    "# Explore outliers\n",
    "* There are 38 cases that have touch 20+ parcels, 4 are explicitly mentioned in Ashley's email that should only apply to 1 parcel, but somehow, are touching a lot of parcels\n",
    "* Check if this is true in the uncleaned PCTS\n",
    "* Is this a data cleaning issue or did the raw data come like this?"
   ]
  },
  {
   "cell_type": "code",
   "execution_count": 1,
   "metadata": {},
   "outputs": [],
   "source": [
    "import boto3\n",
    "import geopandas as gpd\n",
    "import intake\n",
    "import ipywidgets\n",
    "import matplotlib.pyplot as plt\n",
    "import numpy as np\n",
    "import os\n",
    "import pandas as pd\n",
    "import laplan"
   ]
  },
  {
   "cell_type": "code",
   "execution_count": 2,
   "metadata": {},
   "outputs": [],
   "source": [
    "cat = intake.open_catalog(\"../catalogs/*.yml\")\n",
    "\n",
    "s3 = boto3.client('s3')\n",
    "bucket_name = \"city-planning-entitlements\""
   ]
  },
  {
   "cell_type": "code",
   "execution_count": 3,
   "metadata": {},
   "outputs": [],
   "source": [
    "\"\"\"\n",
    "# CASE_NBRs\n",
    "DIR-2013-684-VSO -- should only apply to PIN # 108B149 1190\n",
    "DIR-2012-2817-VSO-MEL -- same property as DIR-2013-684-VSO above\n",
    "ZA-2015-3539-CUW -- should only apply to PIN # 157-5A207 44\n",
    "DIR-2012-1857-DI -- should only apply to 141B185 347\n",
    "\"\"\"\n",
    "\n",
    "# Corresponding CASE_IDs\n",
    "BIG_CASES = [190670, 188939, 204512, 187855]\n",
    "VENICE_CASES = [190670, 188939]"
   ]
  },
  {
   "cell_type": "code",
   "execution_count": 4,
   "metadata": {},
   "outputs": [
    {
     "data": {
      "text/plain": [
       "'\\ndef create_outlier_parcel_geom_file():\\n    # Import data\\n    parcel_geom = gpd.read_file(f\\'zip+s3://{bucket_name}/gis/intermediate/la_parcels_with_dups.zip\\')\\n    \\n    cases = pd.read_parquet(\\'../data/tCASE.parquet\\')\\n    app = pd.read_parquet(\\'../data/tAPLC.parquet\\')\\n    geo_info = pd.read_parquet(\\'../data/tPROP_GEO_INFO.parquet\\')\\n    la_prop = pd.read_parquet(\\'../data/tLA_PROP.parquet\\')\\n    \\n    # Only keep min cols needed\\n    cases = cases[[\\'CASE_ID\\', \\'APLC_ID\\', \\'CASE_NBR\\', \\'CASE_FILE_RCV_DT\\']]\\n    geo_info = geo_info[[\"CASE_ID\", \"PROP_ID\"]]\\n    la_prop = la_prop[la_prop.ASSR_PRCL_NBR.notna()][[\\'PROP_ID\\', \\'ASSR_PRCL_NBR\\']]\\n    \\n    # Start merging and assembling\\n    big_case_ids = cases[cases.CASE_ID.isin(BIG_CASES)]\\n    raw2 = pd.merge(big_case_ids, geo_info, on = \"CASE_ID\", how = \"inner\")\\n    raw3 = pd.merge(raw2, la_prop, on = \"PROP_ID\", how  = \"inner\", validate = \"m:1\")\\n\\n    # Save only the parcel geom for these big cases...otherwise, parcel file is too unwieldy\\n    big_case_parcels = (raw3[[\\'ASSR_PRCL_NBR\\']]\\n                        .drop_duplicates()\\n                        .reset_index(drop=True)\\n                       )\\n    \\n    big_case_parcels2 = pd.merge(parcel_geom, big_case_parcels, \\n         left_on = \"AIN\", right_on = \"ASSR_PRCL_NBR\", \\n         how = \"inner\", validate = \"1:1\")\\n    \\n    \\n    # Save to S3 as geoparquet\\n    file_name = \\'big_case_parcels.parquet\\'\\n    big_case_parcels2.to_parquet(f\\'../gis/{file_name}\\')\\n    s3.upload_file(f\\'../gis/{file_name}\\', bucket_name, f\\'gis/{file_name}\\')\\n   \\n   \\ncreate_outlier_parcel_geom_file()\\n'"
      ]
     },
     "execution_count": 4,
     "metadata": {},
     "output_type": "execute_result"
    }
   ],
   "source": [
    "\"\"\"\n",
    "def create_outlier_parcel_geom_file():\n",
    "    # Import data\n",
    "    parcel_geom = gpd.read_file(f'zip+s3://{bucket_name}/gis/intermediate/la_parcels_with_dups.zip')\n",
    "    \n",
    "    cases = pd.read_parquet('../data/tCASE.parquet')\n",
    "    app = pd.read_parquet('../data/tAPLC.parquet')\n",
    "    geo_info = pd.read_parquet('../data/tPROP_GEO_INFO.parquet')\n",
    "    la_prop = pd.read_parquet('../data/tLA_PROP.parquet')\n",
    "    \n",
    "    # Only keep min cols needed\n",
    "    cases = cases[['CASE_ID', 'APLC_ID', 'CASE_NBR', 'CASE_FILE_RCV_DT']]\n",
    "    geo_info = geo_info[[\"CASE_ID\", \"PROP_ID\"]]\n",
    "    la_prop = la_prop[la_prop.ASSR_PRCL_NBR.notna()][['PROP_ID', 'ASSR_PRCL_NBR']]\n",
    "    \n",
    "    # Start merging and assembling\n",
    "    big_case_ids = cases[cases.CASE_ID.isin(BIG_CASES)]\n",
    "    raw2 = pd.merge(big_case_ids, geo_info, on = \"CASE_ID\", how = \"inner\")\n",
    "    raw3 = pd.merge(raw2, la_prop, on = \"PROP_ID\", how  = \"inner\", validate = \"m:1\")\n",
    "\n",
    "    # Save only the parcel geom for these big cases...otherwise, parcel file is too unwieldy\n",
    "    big_case_parcels = (raw3[['ASSR_PRCL_NBR']]\n",
    "                        .drop_duplicates()\n",
    "                        .reset_index(drop=True)\n",
    "                       )\n",
    "    \n",
    "    big_case_parcels2 = pd.merge(parcel_geom, big_case_parcels, \n",
    "         left_on = \"AIN\", right_on = \"ASSR_PRCL_NBR\", \n",
    "         how = \"inner\", validate = \"1:1\")\n",
    "    \n",
    "    \n",
    "    # Save to S3 as geoparquet\n",
    "    file_name = 'big_case_parcels.parquet'\n",
    "    big_case_parcels2.to_parquet(f'../gis/{file_name}')\n",
    "    s3.upload_file(f'../gis/{file_name}', bucket_name, f'gis/{file_name}')\n",
    "   \n",
    "   \n",
    "create_outlier_parcel_geom_file()\n",
    "\"\"\""
   ]
  },
  {
   "cell_type": "code",
   "execution_count": 5,
   "metadata": {},
   "outputs": [],
   "source": [
    "# Read in parcel_geom (\n",
    "# local because geoparquets need to be dowloaded locally; we saved to S3)\n",
    "big_case_parcels = gpd.read_parquet('../gis/big_case_parcels.parquet')\n",
    "\n",
    "big_case_parcels = big_case_parcels[['AIN', 'num_AIN', 'geometry']]"
   ]
  },
  {
   "cell_type": "code",
   "execution_count": 6,
   "metadata": {},
   "outputs": [
    {
     "data": {
      "text/html": [
       "<div>\n",
       "<style scoped>\n",
       "    .dataframe tbody tr th:only-of-type {\n",
       "        vertical-align: middle;\n",
       "    }\n",
       "\n",
       "    .dataframe tbody tr th {\n",
       "        vertical-align: top;\n",
       "    }\n",
       "\n",
       "    .dataframe thead th {\n",
       "        text-align: right;\n",
       "    }\n",
       "</style>\n",
       "<table border=\"1\" class=\"dataframe\">\n",
       "  <thead>\n",
       "    <tr style=\"text-align: right;\">\n",
       "      <th></th>\n",
       "      <th>AIN</th>\n",
       "      <th>num_AIN</th>\n",
       "      <th>geometry</th>\n",
       "    </tr>\n",
       "  </thead>\n",
       "  <tbody>\n",
       "    <tr>\n",
       "      <th>0</th>\n",
       "      <td>4224033002</td>\n",
       "      <td>1</td>\n",
       "      <td>POLYGON ((6423873.005 1817761.017, 6423854.765...</td>\n",
       "    </tr>\n",
       "    <tr>\n",
       "      <th>1</th>\n",
       "      <td>4224033003</td>\n",
       "      <td>1</td>\n",
       "      <td>POLYGON ((6423925.405 1817744.217, 6423907.015...</td>\n",
       "    </tr>\n",
       "    <tr>\n",
       "      <th>2</th>\n",
       "      <td>4224033004</td>\n",
       "      <td>1</td>\n",
       "      <td>POLYGON ((6423973.135 1817728.897, 6423954.675...</td>\n",
       "    </tr>\n",
       "    <tr>\n",
       "      <th>3</th>\n",
       "      <td>4224033005</td>\n",
       "      <td>1</td>\n",
       "      <td>POLYGON ((6424020.565 1817713.677, 6424002.395...</td>\n",
       "    </tr>\n",
       "    <tr>\n",
       "      <th>4</th>\n",
       "      <td>4224033006</td>\n",
       "      <td>1</td>\n",
       "      <td>POLYGON ((6424068.295 1817698.367, 6424049.845...</td>\n",
       "    </tr>\n",
       "  </tbody>\n",
       "</table>\n",
       "</div>"
      ],
      "text/plain": [
       "          AIN  num_AIN                                           geometry\n",
       "0  4224033002        1  POLYGON ((6423873.005 1817761.017, 6423854.765...\n",
       "1  4224033003        1  POLYGON ((6423925.405 1817744.217, 6423907.015...\n",
       "2  4224033004        1  POLYGON ((6423973.135 1817728.897, 6423954.675...\n",
       "3  4224033005        1  POLYGON ((6424020.565 1817713.677, 6424002.395...\n",
       "4  4224033006        1  POLYGON ((6424068.295 1817698.367, 6424049.845..."
      ]
     },
     "execution_count": 6,
     "metadata": {},
     "output_type": "execute_result"
    }
   ],
   "source": [
    "big_case_parcels.head()"
   ]
  },
  {
   "cell_type": "markdown",
   "metadata": {},
   "source": [
    "## Raw PCTS"
   ]
  },
  {
   "cell_type": "code",
   "execution_count": 7,
   "metadata": {},
   "outputs": [
    {
     "data": {
      "text/plain": [
       "'\\nimport ibis\\n# Download S3 locally\\ncon = ibis.sqlite.connect(\"../data/PCTS.sqlite\")\\n\\ncases = con.table(\"tCASE\")\\napp = con.table(\"tAPLC\")\\ngeo_info = con.table(\"tPROP_GEO_INFO\")\\nla_prop = con.table(\"tLA_PROP\")\\n\\n#table[table.PROP_ID==190670].execute()\\n'"
      ]
     },
     "execution_count": 7,
     "metadata": {},
     "output_type": "execute_result"
    }
   ],
   "source": [
    "'''\n",
    "import ibis\n",
    "# Download S3 locally\n",
    "con = ibis.sqlite.connect(\"../data/PCTS.sqlite\")\n",
    "\n",
    "cases = con.table(\"tCASE\")\n",
    "app = con.table(\"tAPLC\")\n",
    "geo_info = con.table(\"tPROP_GEO_INFO\")\n",
    "la_prop = con.table(\"tLA_PROP\")\n",
    "\n",
    "#table[table.PROP_ID==190670].execute()\n",
    "'''"
   ]
  },
  {
   "cell_type": "code",
   "execution_count": 8,
   "metadata": {},
   "outputs": [],
   "source": [
    "cases = pd.read_parquet('../data/tCASE.parquet')\n",
    "app = pd.read_parquet('../data/tAPLC.parquet')\n",
    "geo_info = pd.read_parquet('../data/tPROP_GEO_INFO.parquet')\n",
    "la_prop = pd.read_parquet('../data/tLA_PROP.parquet')\n",
    "\n",
    "cases = cases[['CASE_ID', 'APLC_ID', 'CASE_NBR', 'CASE_FILE_RCV_DT']]\n",
    "app = app[['APLC_ID', 'PROJ_DESC_TXT']]\n",
    "geo_info = geo_info[[\"CASE_ID\", \"PROP_ID\"]]\n",
    "la_prop = la_prop[la_prop.ASSR_PRCL_NBR.notna()][['PROP_ID', 'ASSR_PRCL_NBR']]"
   ]
  },
  {
   "cell_type": "markdown",
   "metadata": {},
   "source": [
    "### 1. Subset case table to these 4 big cases\n",
    "* 4 CASE_IDs (expected)\n",
    "* 3 APLC_IDs\n",
    "\n",
    "CASE_IDs and APLC_IDs don't always match.\n",
    "<br> \n",
    "The Venice case shows that it was the same application, but were assigned 2 different CASE_IDs, each of which is a parent case."
   ]
  },
  {
   "cell_type": "code",
   "execution_count": 9,
   "metadata": {},
   "outputs": [
    {
     "data": {
      "text/html": [
       "<div>\n",
       "<style scoped>\n",
       "    .dataframe tbody tr th:only-of-type {\n",
       "        vertical-align: middle;\n",
       "    }\n",
       "\n",
       "    .dataframe tbody tr th {\n",
       "        vertical-align: top;\n",
       "    }\n",
       "\n",
       "    .dataframe thead th {\n",
       "        text-align: right;\n",
       "    }\n",
       "</style>\n",
       "<table border=\"1\" class=\"dataframe\">\n",
       "  <thead>\n",
       "    <tr style=\"text-align: right;\">\n",
       "      <th></th>\n",
       "      <th>CASE_ID</th>\n",
       "      <th>APLC_ID</th>\n",
       "      <th>CASE_NBR</th>\n",
       "      <th>CASE_FILE_RCV_DT</th>\n",
       "      <th>PROJ_DESC_TXT</th>\n",
       "    </tr>\n",
       "  </thead>\n",
       "  <tbody>\n",
       "    <tr>\n",
       "      <th>0</th>\n",
       "      <td>188939.0</td>\n",
       "      <td>103289.0</td>\n",
       "      <td>DIR-2012-2817-VSO-MEL</td>\n",
       "      <td>2012-10-12</td>\n",
       "      <td>VSO - DEMO (E) SFD; CONSTRUCT NEW 3-STORY SFD ...</td>\n",
       "    </tr>\n",
       "    <tr>\n",
       "      <th>1</th>\n",
       "      <td>190670.0</td>\n",
       "      <td>103289.0</td>\n",
       "      <td>DIR-2013-684-VSO</td>\n",
       "      <td>2013-03-12</td>\n",
       "      <td>VSO - DEMO (E) SFD; CONSTRUCT NEW 3-STORY SFD ...</td>\n",
       "    </tr>\n",
       "    <tr>\n",
       "      <th>2</th>\n",
       "      <td>187855.0</td>\n",
       "      <td>114989.0</td>\n",
       "      <td>DIR-2012-1857-DI</td>\n",
       "      <td>2012-07-12</td>\n",
       "      <td>HOLLYWOOD SUD</td>\n",
       "    </tr>\n",
       "    <tr>\n",
       "      <th>3</th>\n",
       "      <td>204512.0</td>\n",
       "      <td>170796.0</td>\n",
       "      <td>ZA-2015-3539-CUW</td>\n",
       "      <td>2015-09-28</td>\n",
       "      <td>CONDITIONAL USE FOR THE INSTALLATION OF A VERI...</td>\n",
       "    </tr>\n",
       "  </tbody>\n",
       "</table>\n",
       "</div>"
      ],
      "text/plain": [
       "    CASE_ID   APLC_ID               CASE_NBR CASE_FILE_RCV_DT  \\\n",
       "0  188939.0  103289.0  DIR-2012-2817-VSO-MEL       2012-10-12   \n",
       "1  190670.0  103289.0       DIR-2013-684-VSO       2013-03-12   \n",
       "2  187855.0  114989.0       DIR-2012-1857-DI       2012-07-12   \n",
       "3  204512.0  170796.0       ZA-2015-3539-CUW       2015-09-28   \n",
       "\n",
       "                                       PROJ_DESC_TXT  \n",
       "0  VSO - DEMO (E) SFD; CONSTRUCT NEW 3-STORY SFD ...  \n",
       "1  VSO - DEMO (E) SFD; CONSTRUCT NEW 3-STORY SFD ...  \n",
       "2                                HOLLYWOOD SUD        \n",
       "3  CONDITIONAL USE FOR THE INSTALLATION OF A VERI...  "
      ]
     },
     "metadata": {},
     "output_type": "display_data"
    },
    {
     "name": "stdout",
     "output_type": "stream",
     "text": [
      "# unique CASE_IDs: 4\n",
      "# unique APLC_IDs: 3\n"
     ]
    }
   ],
   "source": [
    "# Subset case table to just these 4 big cases\n",
    "big_case_ids = cases[cases.CASE_ID.isin(BIG_CASES)]\n",
    "\n",
    "# Merge in project description\n",
    "raw1 = pd.merge(big_case_ids, app, \n",
    "         on = \"APLC_ID\", how = \"left\", validate = \"m:1\")\n",
    "\n",
    "display(raw1)\n",
    "print(f'# unique CASE_IDs: {raw1.CASE_ID.nunique()}')\n",
    "print(f'# unique APLC_IDs: {raw1.APLC_ID.nunique()}')"
   ]
  },
  {
   "cell_type": "markdown",
   "metadata": {},
   "source": [
    "### 2. Bring in PROP_ID\n",
    "case and geo_info tables both have `CASE_ID`\n",
    "<br>\n",
    "Getting `PROP_ID` is an intermediate step to getting `AIN`\n",
    "\n",
    "* 4 CASE_IDs\n",
    "* 11,099 unique PROP_IDs\n",
    "\n",
    "What is `PROP_ID`? It doesn't appear to be unique to an AIN. Is it unique to the AIN-CASE_NBR? Every time a new case is filed, those parcels get assigned a new `PROP_ID`?"
   ]
  },
  {
   "cell_type": "code",
   "execution_count": 10,
   "metadata": {},
   "outputs": [
    {
     "name": "stdout",
     "output_type": "stream",
     "text": [
      "# unique CASE_IDs: 4\n",
      "# unique PROP_IDs: 11099\n"
     ]
    }
   ],
   "source": [
    "# Merge in geo_info table\n",
    "raw2 = pd.merge(raw1, geo_info, on = \"CASE_ID\", how = \"inner\")\n",
    "print(f'# unique CASE_IDs: {raw2.CASE_ID.nunique()}')\n",
    "print(f'# unique PROP_IDs: {raw2.PROP_ID.nunique()}')"
   ]
  },
  {
   "cell_type": "markdown",
   "metadata": {},
   "source": [
    "### 3. Bring in AIN\n",
    "* 4 CASE_IDs \n",
    "* 11,053 unique PROP_IDs (but number fell by 44)\n",
    "* 8,076 unique AINs"
   ]
  },
  {
   "cell_type": "code",
   "execution_count": 11,
   "metadata": {},
   "outputs": [
    {
     "name": "stdout",
     "output_type": "stream",
     "text": [
      "# unique CASE_IDs: 4\n",
      "# unique PROP_IDs: 11053\n",
      "# unique AINs: 8076\n"
     ]
    }
   ],
   "source": [
    "raw3 = (pd.merge(raw2, la_prop, \n",
    "                 on = \"PROP_ID\", how  = \"inner\", validate = \"m:1\")\n",
    "        .rename(columns = {'ASSR_PRCL_NBR': 'AIN'})\n",
    "       )\n",
    "\n",
    "\n",
    "print(f'# unique CASE_IDs: {raw3.CASE_ID.nunique()}')\n",
    "print(f'# unique PROP_IDs: {raw3.PROP_ID.nunique()}')\n",
    "print(f'# unique AINs: {raw3.AIN.nunique()}')"
   ]
  },
  {
   "cell_type": "code",
   "execution_count": 12,
   "metadata": {},
   "outputs": [],
   "source": [
    "# Merge in geometry\n",
    "raw4 = pd.merge(big_case_parcels, raw3,\n",
    "                on = \"AIN\", how = \"inner\", validate = \"1:m\")"
   ]
  },
  {
   "cell_type": "markdown",
   "metadata": {},
   "source": [
    "### What are these PROP_IDs\n",
    "Looks like PROP_IDs are uniquely assigned when CASE_ID or APLC_ID comes in."
   ]
  },
  {
   "cell_type": "code",
   "execution_count": 13,
   "metadata": {},
   "outputs": [
    {
     "data": {
      "text/plain": [
       "6046019930    305\n",
       "4431015BRK    195\n",
       "4129027902    191\n",
       "5145018006    189\n",
       "7440026903    171\n",
       "             ... \n",
       "5510001020      1\n",
       "2408018014      1\n",
       "2228014004      1\n",
       "4412029901      1\n",
       "2261021054      1\n",
       "Name: ASSR_PRCL_NBR, Length: 364273, dtype: int64"
      ]
     },
     "execution_count": 13,
     "metadata": {},
     "output_type": "execute_result"
    }
   ],
   "source": [
    "la_prop.ASSR_PRCL_NBR.value_counts()"
   ]
  },
  {
   "cell_type": "code",
   "execution_count": 14,
   "metadata": {},
   "outputs": [
    {
     "name": "stdout",
     "output_type": "stream",
     "text": [
      "# unique APLC_IDs: 24\n",
      "# unique CASE_IDs: 96\n",
      "# unique PROP_IDs: 691\n",
      "# unique AIN: 3\n"
     ]
    }
   ],
   "source": [
    "lots_of_prop_ids = [\"6046019930\", \"4431015BRK\", \"4129027902\"]\n",
    "\n",
    "m1 = pd.merge(cases, app, on = \"APLC_ID\", how = \"left\", validate = \"m:1\")\n",
    "m2 = pd.merge(m1, geo_info, on = \"CASE_ID\", how = \"inner\")\n",
    "m3 = pd.merge(m2, la_prop[la_prop.ASSR_PRCL_NBR.isin(lots_of_prop_ids)], \n",
    "              on = \"PROP_ID\", how  = \"inner\", validate = \"m:1\")\n",
    "\n",
    "print(f'# unique APLC_IDs: {m3.APLC_ID.nunique()}')\n",
    "print(f'# unique CASE_IDs: {m3.CASE_ID.nunique()}')\n",
    "print(f'# unique PROP_IDs: {m3.PROP_ID.nunique()}')\n",
    "print(f'# unique AIN: {m3.ASSR_PRCL_NBR.nunique()}')"
   ]
  },
  {
   "cell_type": "code",
   "execution_count": 15,
   "metadata": {},
   "outputs": [
    {
     "data": {
      "text/html": [
       "<div>\n",
       "<style scoped>\n",
       "    .dataframe tbody tr th:only-of-type {\n",
       "        vertical-align: middle;\n",
       "    }\n",
       "\n",
       "    .dataframe tbody tr th {\n",
       "        vertical-align: top;\n",
       "    }\n",
       "\n",
       "    .dataframe thead th {\n",
       "        text-align: right;\n",
       "    }\n",
       "</style>\n",
       "<table border=\"1\" class=\"dataframe\">\n",
       "  <thead>\n",
       "    <tr style=\"text-align: right;\">\n",
       "      <th></th>\n",
       "      <th>PROP_ID</th>\n",
       "      <th>ASSR_PRCL_NBR</th>\n",
       "    </tr>\n",
       "  </thead>\n",
       "  <tbody>\n",
       "    <tr>\n",
       "      <th>365622</th>\n",
       "      <td>59326709.0</td>\n",
       "      <td>6046019930</td>\n",
       "    </tr>\n",
       "    <tr>\n",
       "      <th>365774</th>\n",
       "      <td>59326706.0</td>\n",
       "      <td>6046019930</td>\n",
       "    </tr>\n",
       "    <tr>\n",
       "      <th>365775</th>\n",
       "      <td>59326707.0</td>\n",
       "      <td>6046019930</td>\n",
       "    </tr>\n",
       "    <tr>\n",
       "      <th>365776</th>\n",
       "      <td>59326708.0</td>\n",
       "      <td>6046019930</td>\n",
       "    </tr>\n",
       "    <tr>\n",
       "      <th>365777</th>\n",
       "      <td>59326710.0</td>\n",
       "      <td>6046019930</td>\n",
       "    </tr>\n",
       "  </tbody>\n",
       "</table>\n",
       "</div>"
      ],
      "text/plain": [
       "           PROP_ID ASSR_PRCL_NBR\n",
       "365622  59326709.0    6046019930\n",
       "365774  59326706.0    6046019930\n",
       "365775  59326707.0    6046019930\n",
       "365776  59326708.0    6046019930\n",
       "365777  59326710.0    6046019930"
      ]
     },
     "metadata": {},
     "output_type": "display_data"
    },
    {
     "name": "stdout",
     "output_type": "stream",
     "text": [
      "# unique AIN: 1\n",
      "# unique PROP_ID: 305\n"
     ]
    }
   ],
   "source": [
    "example_parcel = \"6046019930\"\n",
    "\n",
    "display(la_prop[la_prop.ASSR_PRCL_NBR==example_parcel].head())\n",
    "print(f'# unique AIN: {la_prop[la_prop.ASSR_PRCL_NBR==example_parcel].ASSR_PRCL_NBR.nunique()}')\n",
    "print(f'# unique PROP_ID: {la_prop[la_prop.ASSR_PRCL_NBR==example_parcel].PROP_ID.nunique()}')"
   ]
  },
  {
   "cell_type": "markdown",
   "metadata": {},
   "source": [
    "For our outlier cases, AINs don't appear multiple times."
   ]
  },
  {
   "cell_type": "code",
   "execution_count": 16,
   "metadata": {},
   "outputs": [
    {
     "data": {
      "text/html": [
       "<div>\n",
       "<style scoped>\n",
       "    .dataframe tbody tr th:only-of-type {\n",
       "        vertical-align: middle;\n",
       "    }\n",
       "\n",
       "    .dataframe tbody tr th {\n",
       "        vertical-align: top;\n",
       "    }\n",
       "\n",
       "    .dataframe thead th {\n",
       "        text-align: right;\n",
       "    }\n",
       "</style>\n",
       "<table border=\"1\" class=\"dataframe\">\n",
       "  <thead>\n",
       "    <tr style=\"text-align: right;\">\n",
       "      <th></th>\n",
       "      <th>PROP_ID</th>\n",
       "      <th>ASSR_PRCL_NBR</th>\n",
       "    </tr>\n",
       "  </thead>\n",
       "  <tbody>\n",
       "    <tr>\n",
       "      <th>87845</th>\n",
       "      <td>59043273.0</td>\n",
       "      <td>4224033002</td>\n",
       "    </tr>\n",
       "  </tbody>\n",
       "</table>\n",
       "</div>"
      ],
      "text/plain": [
       "          PROP_ID ASSR_PRCL_NBR\n",
       "87845  59043273.0    4224033002"
      ]
     },
     "metadata": {},
     "output_type": "display_data"
    },
    {
     "name": "stdout",
     "output_type": "stream",
     "text": [
      "# unique AIN: 1\n",
      "# unique PROP_ID: 1\n"
     ]
    }
   ],
   "source": [
    "example_parcel = \"4224033002\"\n",
    "display(la_prop[la_prop.ASSR_PRCL_NBR==example_parcel].head())\n",
    "print(f'# unique AIN: {la_prop[la_prop.ASSR_PRCL_NBR==example_parcel].ASSR_PRCL_NBR.nunique()}')\n",
    "print(f'# unique PROP_ID: {la_prop[la_prop.ASSR_PRCL_NBR==example_parcel].PROP_ID.nunique()}')"
   ]
  },
  {
   "cell_type": "markdown",
   "metadata": {},
   "source": [
    "## Map"
   ]
  },
  {
   "cell_type": "code",
   "execution_count": 17,
   "metadata": {},
   "outputs": [],
   "source": [
    "col_order = ['CASE_ID', 'CASE_NBR', 'PROJ_DESC_TXT', \n",
    "             'AIN', 'PROP_ID', 'geometry']\n",
    "\n",
    "to_plot = (raw4.assign(\n",
    "                CASE_ID = raw4.CASE_ID.astype(int).astype(str)\n",
    "            ).dissolve(\n",
    "            by=['CASE_ID', 'PROJ_DESC_TXT'], \n",
    "            aggfunc = {'AIN': 'nunique', \n",
    "                       'PROP_ID': 'nunique',\n",
    "                      'CASE_NBR': 'first'}\n",
    "            ).reset_index()\n",
    "           .to_crs(\"EPSG:4326\")\n",
    "          )[col_order]"
   ]
  },
  {
   "cell_type": "code",
   "execution_count": 18,
   "metadata": {},
   "outputs": [],
   "source": [
    "import ipyleaflet\n",
    "from ipyleaflet import Map, GeoData, LayersControl, basemaps, WidgetControl\n",
    "from ipywidgets import link, FloatSlider, Text, HTML\n",
    "from ipywidgets.embed import embed_minimal_html\n",
    "import branca.colormap\n",
    "import json\n",
    "\n",
    "geo_data = json.loads(to_plot.set_index('CASE_ID').to_json())\n",
    "\n",
    "# Take what we want to map and turn it into a dictionary\n",
    "# Can only include the key-value pair, the value you want to map, nothing more.\n",
    "choro_df = dict(zip(to_plot.CASE_ID.tolist(), to_plot.AIN.tolist()))"
   ]
  },
  {
   "cell_type": "code",
   "execution_count": 19,
   "metadata": {},
   "outputs": [
    {
     "data": {
      "application/vnd.jupyter.widget-view+json": {
       "model_id": "6ae480fc36f64da69494500d06f6f16b",
       "version_major": 2,
       "version_minor": 0
      },
      "text/plain": [
       "Map(center=[34.0536, -118.2427], controls=(ZoomControl(options=['position', 'zoom_in_text', 'zoom_in_title', '…"
      ]
     },
     "metadata": {},
     "output_type": "display_data"
    }
   ],
   "source": [
    "m = ipyleaflet.Map(center = (34.0536, -118.2427), zoom = 11,\n",
    "                  basemap = basemaps.CartoDB.Positron)\n",
    "\n",
    "layer = ipyleaflet.Choropleth(\n",
    "    geo_data = geo_data,\n",
    "    choro_data = choro_df, \n",
    "    colormap = branca.colormap.linear.RdPu_03,\n",
    "    border_color = '#999999',\n",
    "    value_min = 0, \n",
    "    value_max = 0, \n",
    "    style = {'fillOpacity': 0.9, 'weight': 0.5, 'color': '#999999', 'opacity': 0.8},\n",
    "    name = 'Cases'\n",
    ")\n",
    "\n",
    "html = HTML(''' \n",
    "    Hover over a tract\n",
    "''')\n",
    "\n",
    "html.layout.margin = '0 px 10px 10px 10px'\n",
    "\n",
    "def click_handler(event = None, id = None, properties = None):\n",
    "    label.value = properties['PROJ_DESC_TXT']\n",
    "\n",
    "def update_html_tract(feature, id, **kwargs): \n",
    "    html.value = '''\n",
    "        CASE_ID:  \n",
    "        <b>{}</b> <br>\n",
    "        # unique AIN\n",
    "        {} \n",
    "    '''.format(id, feature['properties']['AIN'])    \n",
    "    \n",
    "layer.on_hover(update_html_tract)\n",
    "\n",
    "m.add_layer(layer)\n",
    "\n",
    "control = ipyleaflet.WidgetControl(widget = html, position = 'topright')\n",
    "layers_control = ipyleaflet.LayersControl(position = 'topright')\n",
    "\n",
    "m.add_control(control)\n",
    "m.add_control(layers_control)\n",
    "\n",
    "m.layout.height = '100%'\n",
    "m.layout.min_height = '400px'\n",
    "m"
   ]
  },
  {
   "cell_type": "code",
   "execution_count": 20,
   "metadata": {},
   "outputs": [
    {
     "data": {
      "text/html": [
       "<style  type=\"text/css\" >\n",
       "</style><table id=\"T_32507296_e89a_11ea_9985_0242ac140002\" ><thead>    <tr>        <th class=\"blank level0\" ></th>        <th class=\"col_heading level0 col0\" >CASE_ID</th>        <th class=\"col_heading level0 col1\" >CASE_NBR</th>        <th class=\"col_heading level0 col2\" >Description</th>        <th class=\"col_heading level0 col3\" ># unique AIN</th>        <th class=\"col_heading level0 col4\" ># unique PROP_ID</th>    </tr></thead><tbody>\n",
       "                <tr>\n",
       "                        <th id=\"T_32507296_e89a_11ea_9985_0242ac140002level0_row0\" class=\"row_heading level0 row0\" >0</th>\n",
       "                        <td id=\"T_32507296_e89a_11ea_9985_0242ac140002row0_col0\" class=\"data row0 col0\" >187855</td>\n",
       "                        <td id=\"T_32507296_e89a_11ea_9985_0242ac140002row0_col1\" class=\"data row0 col1\" >DIR-2012-1857-DI</td>\n",
       "                        <td id=\"T_32507296_e89a_11ea_9985_0242ac140002row0_col2\" class=\"data row0 col2\" >HOLLYWOOD SUD      </td>\n",
       "                        <td id=\"T_32507296_e89a_11ea_9985_0242ac140002row0_col3\" class=\"data row0 col3\" >750</td>\n",
       "                        <td id=\"T_32507296_e89a_11ea_9985_0242ac140002row0_col4\" class=\"data row0 col4\" >1515</td>\n",
       "            </tr>\n",
       "            <tr>\n",
       "                        <th id=\"T_32507296_e89a_11ea_9985_0242ac140002level0_row1\" class=\"row_heading level0 row1\" >1</th>\n",
       "                        <td id=\"T_32507296_e89a_11ea_9985_0242ac140002row1_col0\" class=\"data row1 col0\" >188939</td>\n",
       "                        <td id=\"T_32507296_e89a_11ea_9985_0242ac140002row1_col1\" class=\"data row1 col1\" >DIR-2012-2817-VSO-MEL</td>\n",
       "                        <td id=\"T_32507296_e89a_11ea_9985_0242ac140002row1_col2\" class=\"data row1 col2\" >VSO - DEMO (E) SFD; CONSTRUCT NEW 3-STORY SFD + 2 UNCOVERED PKG</td>\n",
       "                        <td id=\"T_32507296_e89a_11ea_9985_0242ac140002row1_col3\" class=\"data row1 col3\" >6297</td>\n",
       "                        <td id=\"T_32507296_e89a_11ea_9985_0242ac140002row1_col4\" class=\"data row1 col4\" >7650</td>\n",
       "            </tr>\n",
       "            <tr>\n",
       "                        <th id=\"T_32507296_e89a_11ea_9985_0242ac140002level0_row2\" class=\"row_heading level0 row2\" >2</th>\n",
       "                        <td id=\"T_32507296_e89a_11ea_9985_0242ac140002row2_col0\" class=\"data row2 col0\" >190670</td>\n",
       "                        <td id=\"T_32507296_e89a_11ea_9985_0242ac140002row2_col1\" class=\"data row2 col1\" >DIR-2013-684-VSO</td>\n",
       "                        <td id=\"T_32507296_e89a_11ea_9985_0242ac140002row2_col2\" class=\"data row2 col2\" >VSO - DEMO (E) SFD; CONSTRUCT NEW 3-STORY SFD + 2 UNCOVERED PKG</td>\n",
       "                        <td id=\"T_32507296_e89a_11ea_9985_0242ac140002row2_col3\" class=\"data row2 col3\" >6297</td>\n",
       "                        <td id=\"T_32507296_e89a_11ea_9985_0242ac140002row2_col4\" class=\"data row2 col4\" >7650</td>\n",
       "            </tr>\n",
       "            <tr>\n",
       "                        <th id=\"T_32507296_e89a_11ea_9985_0242ac140002level0_row3\" class=\"row_heading level0 row3\" >3</th>\n",
       "                        <td id=\"T_32507296_e89a_11ea_9985_0242ac140002row3_col0\" class=\"data row3 col0\" >204512</td>\n",
       "                        <td id=\"T_32507296_e89a_11ea_9985_0242ac140002row3_col1\" class=\"data row3 col1\" >ZA-2015-3539-CUW</td>\n",
       "                        <td id=\"T_32507296_e89a_11ea_9985_0242ac140002row3_col2\" class=\"data row3 col2\" >CONDITIONAL USE FOR THE INSTALLATION OF A VERIZON WIRELESS TELECOMMUNICATIONS FACILITY CONSISTING OF: 12 ANTENNAS, 12 A2 UNITS, 12 RRUS AND 12 RAYCAPS.  ALSO 2 CABINETS AND 1 BACKUP GENERATOR TO BE LOCATED ADJACENT TO THE MONOPOLE.</td>\n",
       "                        <td id=\"T_32507296_e89a_11ea_9985_0242ac140002row3_col3\" class=\"data row3 col3\" >55</td>\n",
       "                        <td id=\"T_32507296_e89a_11ea_9985_0242ac140002row3_col4\" class=\"data row3 col4\" >80</td>\n",
       "            </tr>\n",
       "    </tbody></table>"
      ],
      "text/plain": [
       "<pandas.io.formats.style.Styler at 0x7f1246784450>"
      ]
     },
     "execution_count": 20,
     "metadata": {},
     "output_type": "execute_result"
    }
   ],
   "source": [
    "(to_plot.drop(columns = 'geometry')\n",
    " .rename(columns = {\n",
    "     \"PROJ_DESC_TXT\": \"Description\",\n",
    "     \"AIN\": \"# unique AIN\",\n",
    "     \"PROP_ID\": \"# unique PROP_ID\"\n",
    "     })\n",
    " .style\n",
    ")"
   ]
  },
  {
   "cell_type": "code",
   "execution_count": null,
   "metadata": {},
   "outputs": [],
   "source": []
  }
 ],
 "metadata": {
  "kernelspec": {
   "display_name": "Python 3",
   "language": "python",
   "name": "python3"
  },
  "language_info": {
   "codemirror_mode": {
    "name": "ipython",
    "version": 3
   },
   "file_extension": ".py",
   "mimetype": "text/x-python",
   "name": "python",
   "nbconvert_exporter": "python",
   "pygments_lexer": "ipython3",
   "version": "3.7.8"
  }
 },
 "nbformat": 4,
 "nbformat_minor": 4
}
