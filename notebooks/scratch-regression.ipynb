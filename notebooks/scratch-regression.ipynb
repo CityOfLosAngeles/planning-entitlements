{
 "cells": [
  {
   "cell_type": "markdown",
   "metadata": {},
   "source": [
    "# Recreate PCTS table before regression"
   ]
  },
  {
   "cell_type": "code",
   "execution_count": 1,
   "metadata": {},
   "outputs": [],
   "source": [
    "import intake\n",
    "import numpy as np\n",
    "import pandas as pd\n",
    "import pcts_census_utils\n",
    "\n",
    "catalog = intake.open_catalog(\"../catalogs/*.yml\")\n",
    "\n",
    "bucket_name = 'city-planning-entitlements'"
   ]
  },
  {
   "cell_type": "code",
   "execution_count": 2,
   "metadata": {},
   "outputs": [],
   "source": [
    "parent_cases = pd.read_parquet(f\"s3://{bucket_name}/data/final/parents_with_prefix_suffix.parquet\")\n",
    "\n",
    "prefix_suffix_list = list(parent_cases.columns)\n",
    "prefix_suffix_list.remove(\"PARENT_CASE\")\n",
    "\n",
    "pcts = pcts_census_utils.subset_pcts(\"2010-01\", prefix_suffix_list)"
   ]
  },
  {
   "cell_type": "code",
   "execution_count": 7,
   "metadata": {},
   "outputs": [],
   "source": [
    "pcts_ids = [\"CASE_ID\", \"APLC_ID\", \"CASE_NBR\", \"CASE_SEQ_NBR\", \"CASE_YR_NBR\", \"CASE_ACTION_ID\", \n",
    "           \"CASE_FILE_RCV_DT\", \"CASE_FILE_DATE\", \"PARNT_CASE_ID\", \"PARENT_CASE\", \n",
    "            \"AIN\", \"PROJ_DESC_TXT\", \"id\"]\n",
    "\n",
    "pcts_case_info = pcts[pcts_ids]"
   ]
  },
  {
   "cell_type": "code",
   "execution_count": 8,
   "metadata": {},
   "outputs": [],
   "source": [
    "pcts_ids_exclude = pcts_ids.copy()\n",
    "pcts_ids_exclude.remove(\"CASE_ID\")\n",
    "\n",
    "pcts_suffix = pcts.drop(columns = pcts_ids_exclude).drop_duplicates()\n",
    "pcts_suffix = pcts_suffix.replace(0, np.nan)"
   ]
  },
  {
   "cell_type": "code",
   "execution_count": 10,
   "metadata": {},
   "outputs": [],
   "source": [
    "pcts_suffix = pcts_suffix.melt(\n",
    "        id_vars=\"CASE_ID\",\n",
    "        var_name=\"suffix\",\n",
    "        value_name=\"dummy\"\n",
    "    ).dropna(subset=[\"dummy\"]).drop(columns = \"dummy\")"
   ]
  },
  {
   "cell_type": "code",
   "execution_count": 26,
   "metadata": {},
   "outputs": [],
   "source": [
    "pcts_cleaned = pd.merge(pcts_case_info, pcts_suffix, on = \"CASE_ID\", how = \"inner\")"
   ]
  },
  {
   "cell_type": "markdown",
   "metadata": {},
   "source": [
    "## Make sure we can get entitlement table in same shape"
   ]
  },
  {
   "cell_type": "code",
   "execution_count": 27,
   "metadata": {},
   "outputs": [],
   "source": [
    "# Merge PCTS suffixes with AIN to tract\n",
    "pcts_suffixes = pd.merge(pcts_cleaned, parcel_to_tract, on = \"AIN\", how = \"inner\", validate = \"m:1\")"
   ]
  },
  {
   "cell_type": "code",
   "execution_count": 33,
   "metadata": {},
   "outputs": [],
   "source": [
    "parcel_to_tract = pd.read_parquet(\n",
    "    \"s3://city-planning-entitlements/data/crosswalk_parcels_tracts.parquet\"\n",
    ")\n",
    "\n",
    "# ACS data for income, race, commute, tenure\n",
    "census = pd.read_parquet(\n",
    "    \"s3://city-planning-entitlements/data/final/census_analysis_table.parquet\"\n",
    ")\n",
    "\n",
    "# Census tracts\n",
    "tracts = catalog.census_tracts.read()\n",
    "tracts = tracts.assign(\n",
    "    GEOID = tracts.GEOID10,\n",
    "    density=tracts.HD01_VD01.astype(int)/(tracts.Shape_STAr/5280./5280.),\n",
    "    population=tracts.HD01_VD01,\n",
    ")[[\"GEOID\", \"density\", \"population\", \"geometry\"]]"
   ]
  },
  {
   "cell_type": "code",
   "execution_count": 36,
   "metadata": {},
   "outputs": [],
   "source": [
    "# Merge in density and population\n",
    "pcts_suffixes = pd.merge(tracts, pcts_suffixes, on = \"GEOID\", how = \"inner\", validate = \"1:m\")"
   ]
  },
  {
   "cell_type": "code",
   "execution_count": 37,
   "metadata": {},
   "outputs": [],
   "source": [
    "# Drop some cases which are region-wide, touching thousands of parcels,\n",
    "# or should otherwise be ignored.\n",
    "pcts_suffixes = pcts_suffixes[\n",
    "    ~pcts_suffixes.suffix.isin((\"CPU\", \"CA\", \"SP\", \"SN\", \"ICO\", \"HPOZ\", \"HD\", \"FH\"))\n",
    "]\n",
    "\n",
    "big_cases = pcts_suffixes.CASE_ID.value_counts()\n",
    "big_cases = big_cases[big_cases > 10]\n",
    "pcts_suffixes = pcts_suffixes[~pcts_suffixes.CASE_ID.isin(big_cases.index)]"
   ]
  },
  {
   "cell_type": "code",
   "execution_count": 39,
   "metadata": {},
   "outputs": [],
   "source": [
    "# Our first pass at analyzing entitlements is to count the number\n",
    "# of cases for each census tract, to see which kinds of entitlements\n",
    "# are being applied for in which types of census tract:\n",
    "entitlement = (pcts_suffixes\n",
    "    .groupby([\"GEOID\", \"suffix\", \"CASE_YR_NBR\"])\n",
    "    .size()\n",
    "    .to_frame(\"count\")\n",
    ").reset_index(level=1).reset_index(level=1).rename(columns={\"CASE_YR_NBR\": \"year\"})\n",
    "entitlement = entitlement.assign(\n",
    "    year=entitlement.year.astype(\"Int64\")\n",
    ")"
   ]
  },
  {
   "cell_type": "code",
   "execution_count": 40,
   "metadata": {},
   "outputs": [
    {
     "data": {
      "text/html": [
       "<div>\n",
       "<style scoped>\n",
       "    .dataframe tbody tr th:only-of-type {\n",
       "        vertical-align: middle;\n",
       "    }\n",
       "\n",
       "    .dataframe tbody tr th {\n",
       "        vertical-align: top;\n",
       "    }\n",
       "\n",
       "    .dataframe thead th {\n",
       "        text-align: right;\n",
       "    }\n",
       "</style>\n",
       "<table border=\"1\" class=\"dataframe\">\n",
       "  <thead>\n",
       "    <tr style=\"text-align: right;\">\n",
       "      <th></th>\n",
       "      <th>year</th>\n",
       "      <th>suffix</th>\n",
       "      <th>count</th>\n",
       "    </tr>\n",
       "    <tr>\n",
       "      <th>GEOID</th>\n",
       "      <th></th>\n",
       "      <th></th>\n",
       "      <th></th>\n",
       "    </tr>\n",
       "  </thead>\n",
       "  <tbody>\n",
       "    <tr>\n",
       "      <th>06037101110</th>\n",
       "      <td>2006</td>\n",
       "      <td>AA</td>\n",
       "      <td>1</td>\n",
       "    </tr>\n",
       "    <tr>\n",
       "      <th>06037101110</th>\n",
       "      <td>2007</td>\n",
       "      <td>AA</td>\n",
       "      <td>1</td>\n",
       "    </tr>\n",
       "    <tr>\n",
       "      <th>06037101110</th>\n",
       "      <td>2014</td>\n",
       "      <td>AA</td>\n",
       "      <td>1</td>\n",
       "    </tr>\n",
       "    <tr>\n",
       "      <th>06037101110</th>\n",
       "      <td>2017</td>\n",
       "      <td>AA</td>\n",
       "      <td>1</td>\n",
       "    </tr>\n",
       "    <tr>\n",
       "      <th>06037101110</th>\n",
       "      <td>2007</td>\n",
       "      <td>APCNV</td>\n",
       "      <td>1</td>\n",
       "    </tr>\n",
       "    <tr>\n",
       "      <th>...</th>\n",
       "      <td>...</td>\n",
       "      <td>...</td>\n",
       "      <td>...</td>\n",
       "    </tr>\n",
       "    <tr>\n",
       "      <th>06037980028</th>\n",
       "      <td>2015</td>\n",
       "      <td>ZA</td>\n",
       "      <td>1</td>\n",
       "    </tr>\n",
       "    <tr>\n",
       "      <th>06037980028</th>\n",
       "      <td>2016</td>\n",
       "      <td>ZA</td>\n",
       "      <td>2</td>\n",
       "    </tr>\n",
       "    <tr>\n",
       "      <th>06037980028</th>\n",
       "      <td>2018</td>\n",
       "      <td>ZA</td>\n",
       "      <td>2</td>\n",
       "    </tr>\n",
       "    <tr>\n",
       "      <th>06037980028</th>\n",
       "      <td>2019</td>\n",
       "      <td>ZA</td>\n",
       "      <td>1</td>\n",
       "    </tr>\n",
       "    <tr>\n",
       "      <th>06037980028</th>\n",
       "      <td>2014</td>\n",
       "      <td>ZV</td>\n",
       "      <td>1</td>\n",
       "    </tr>\n",
       "  </tbody>\n",
       "</table>\n",
       "<p>39797 rows × 3 columns</p>\n",
       "</div>"
      ],
      "text/plain": [
       "             year suffix  count\n",
       "GEOID                          \n",
       "06037101110  2006     AA      1\n",
       "06037101110  2007     AA      1\n",
       "06037101110  2014     AA      1\n",
       "06037101110  2017     AA      1\n",
       "06037101110  2007  APCNV      1\n",
       "...           ...    ...    ...\n",
       "06037980028  2015     ZA      1\n",
       "06037980028  2016     ZA      2\n",
       "06037980028  2018     ZA      2\n",
       "06037980028  2019     ZA      1\n",
       "06037980028  2014     ZV      1\n",
       "\n",
       "[39797 rows x 3 columns]"
      ]
     },
     "execution_count": 40,
     "metadata": {},
     "output_type": "execute_result"
    }
   ],
   "source": [
    "entitlement"
   ]
  },
  {
   "cell_type": "markdown",
   "metadata": {},
   "source": [
    "## Parcels with lots of duplicate geom\n",
    "* Different AIN, but same geometry"
   ]
  },
  {
   "cell_type": "code",
   "execution_count": null,
   "metadata": {},
   "outputs": [],
   "source": [
    "\"\"\"\n",
    "crosswalk = pd.read_parquet(f\"s3://{bucket_name}/data/crosswalk_parcels_tracts.parquet\")\n",
    "display(crosswalk[crosswalk.num_AIN > 1].num_AIN.describe())\n",
    "\n",
    "print(f\"# parcels (denom): {len(crosswalk)}\")\n",
    "print(f\"# unique parcels (numer): {len(crosswalk[crosswalk.num_AIN==1])}\")\n",
    "\n",
    "numer = len(crosswalk[crosswalk.num_AIN==1])\n",
    "denom = len(crosswalk)\n",
    "\n",
    "print(f\"% unique parcels: {numer/denom}\")\n",
    "\n",
    "print(f\"# parcels with 2 obs: {len(crosswalk[crosswalk.num_AIN==2])}\")\n",
    "print(f\"# parcels with 3-5 obs: {len(crosswalk[(crosswalk.num_AIN >= 3) & (crosswalk.num_AIN <=5)])}\")\n",
    "print(f\"# parcels with 6-10 obs: {len(crosswalk[(crosswalk.num_AIN >= 6) & (crosswalk.num_AIN <=10)])}\")\n",
    "print(f\"# parcels with 11+ obs: {len(crosswalk[crosswalk.num_AIN >= 11])}\")\n",
    "\"\"\""
   ]
  },
  {
   "cell_type": "code",
   "execution_count": null,
   "metadata": {},
   "outputs": [],
   "source": []
  }
 ],
 "metadata": {
  "kernelspec": {
   "display_name": "Python 3",
   "language": "python",
   "name": "python3"
  },
  "language_info": {
   "codemirror_mode": {
    "name": "ipython",
    "version": 3
   },
   "file_extension": ".py",
   "mimetype": "text/x-python",
   "name": "python",
   "nbconvert_exporter": "python",
   "pygments_lexer": "ipython3",
   "version": "3.7.6"
  }
 },
 "nbformat": 4,
 "nbformat_minor": 4
}
