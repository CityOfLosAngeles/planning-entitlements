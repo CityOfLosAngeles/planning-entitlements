{
 "cells": [
  {
   "cell_type": "markdown",
   "metadata": {},
   "source": [
    "Incorporate this into the cleaning / making the crosswalk\n",
    "Then overwrite the crosswalk"
   ]
  },
  {
   "cell_type": "code",
   "execution_count": 1,
   "metadata": {},
   "outputs": [],
   "source": [
    "import boto3\n",
    "import pandas as pd\n",
    "import geopandas as gpd\n",
    "\n",
    "s3 = boto3.client('s3')\n",
    "bucket_name = \"city-planning-entitlements\""
   ]
  },
  {
   "cell_type": "code",
   "execution_count": 3,
   "metadata": {},
   "outputs": [],
   "source": [
    "file_name = \"test_crosswalk_parcels_tracts\"\n",
    "s3.download_file(bucket_name, f'data/{file_name}.parquet', f'./data/{file_name}.parquet')\n",
    "gdf = gpd.read_parquet(f'./data/{file_name}.parquet')"
   ]
  },
  {
   "cell_type": "code",
   "execution_count": 4,
   "metadata": {},
   "outputs": [
    {
     "data": {
      "text/html": [
       "<div>\n",
       "<style scoped>\n",
       "    .dataframe tbody tr th:only-of-type {\n",
       "        vertical-align: middle;\n",
       "    }\n",
       "\n",
       "    .dataframe tbody tr th {\n",
       "        vertical-align: top;\n",
       "    }\n",
       "\n",
       "    .dataframe thead th {\n",
       "        text-align: right;\n",
       "    }\n",
       "</style>\n",
       "<table border=\"1\" class=\"dataframe\">\n",
       "  <thead>\n",
       "    <tr style=\"text-align: right;\">\n",
       "      <th></th>\n",
       "      <th>AIN</th>\n",
       "      <th>GEOID</th>\n",
       "      <th>geometry</th>\n",
       "    </tr>\n",
       "  </thead>\n",
       "  <tbody>\n",
       "    <tr>\n",
       "      <th>0</th>\n",
       "      <td>2004001003</td>\n",
       "      <td>06037113232</td>\n",
       "      <td>POINT (6374037.180 1903103.568)</td>\n",
       "    </tr>\n",
       "    <tr>\n",
       "      <th>1</th>\n",
       "      <td>2004001004</td>\n",
       "      <td>06037113232</td>\n",
       "      <td>POINT (6374036.928 1903037.812)</td>\n",
       "    </tr>\n",
       "    <tr>\n",
       "      <th>2</th>\n",
       "      <td>2004001005</td>\n",
       "      <td>06037113232</td>\n",
       "      <td>POINT (6374034.289 1902971.779)</td>\n",
       "    </tr>\n",
       "    <tr>\n",
       "      <th>3</th>\n",
       "      <td>2004001008</td>\n",
       "      <td>06037113232</td>\n",
       "      <td>POINT (6373421.743 1903148.836)</td>\n",
       "    </tr>\n",
       "    <tr>\n",
       "      <th>4</th>\n",
       "      <td>2004001009</td>\n",
       "      <td>06037113232</td>\n",
       "      <td>POINT (6373317.694 1903145.445)</td>\n",
       "    </tr>\n",
       "  </tbody>\n",
       "</table>\n",
       "</div>"
      ],
      "text/plain": [
       "          AIN        GEOID                         geometry\n",
       "0  2004001003  06037113232  POINT (6374037.180 1903103.568)\n",
       "1  2004001004  06037113232  POINT (6374036.928 1903037.812)\n",
       "2  2004001005  06037113232  POINT (6374034.289 1902971.779)\n",
       "3  2004001008  06037113232  POINT (6373421.743 1903148.836)\n",
       "4  2004001009  06037113232  POINT (6373317.694 1903145.445)"
      ]
     },
     "execution_count": 4,
     "metadata": {},
     "output_type": "execute_result"
    }
   ],
   "source": [
    "gdf.head()"
   ]
  },
  {
   "cell_type": "code",
   "execution_count": 6,
   "metadata": {},
   "outputs": [],
   "source": [
    "# Figure out which ones have duplicate geoms\n",
    "gdf = gdf.assign(\n",
    "    x = gdf.geometry.centroid.x, \n",
    "    y = gdf.geometry.centroid.y, \n",
    ")"
   ]
  },
  {
   "cell_type": "code",
   "execution_count": 7,
   "metadata": {},
   "outputs": [],
   "source": [
    "duplicate_geom = (gdf.groupby(['x', 'y'])\n",
    "                  .agg({'AIN':'count'})\n",
    "                  .reset_index()\n",
    "                  .rename(columns = {'AIN':'num_AIN'})\n",
    "                 )"
   ]
  },
  {
   "cell_type": "code",
   "execution_count": 8,
   "metadata": {},
   "outputs": [
    {
     "data": {
      "text/plain": [
       "1      2115905\n",
       "2         9257\n",
       "3         2205\n",
       "4         2030\n",
       "6         1395\n",
       "        ...   \n",
       "207          1\n",
       "205          1\n",
       "203          1\n",
       "197          1\n",
       "614          1\n",
       "Name: num_AIN, Length: 254, dtype: int64"
      ]
     },
     "execution_count": 8,
     "metadata": {},
     "output_type": "execute_result"
    }
   ],
   "source": [
    "duplicate_geom.num_AIN.value_counts()"
   ]
  },
  {
   "cell_type": "code",
   "execution_count": null,
   "metadata": {},
   "outputs": [],
   "source": [
    "gdf2 = pd.merge(gdf, duplicate_geom, \n",
    "                on = ['x', 'y'], how = 'left', validate = 'm:1')"
   ]
  },
  {
   "cell_type": "code",
   "execution_count": null,
   "metadata": {},
   "outputs": [],
   "source": [
    "# Redo parts of src/A3\n",
    "# TOC parcels that planning sent over...it's likely that it's tagging one AIN, but not historical ones\n",
    "# Will need to do a check across all the ones that are duplicates with same x, y\n",
    "# Tag the TOC Tier it belongs to\n",
    "# Our crosswalk_parcels_tracts should include a lot of AINs, \n",
    "# but still need to store num_AIN, as well as total_AIN (which counts AIN after duplicates are dropped)"
   ]
  }
 ],
 "metadata": {
  "kernelspec": {
   "display_name": "Python 3",
   "language": "python",
   "name": "python3"
  },
  "language_info": {
   "codemirror_mode": {
    "name": "ipython",
    "version": 3
   },
   "file_extension": ".py",
   "mimetype": "text/x-python",
   "name": "python",
   "nbconvert_exporter": "python",
   "pygments_lexer": "ipython3",
   "version": "3.7.8"
  }
 },
 "nbformat": 4,
 "nbformat_minor": 4
}
