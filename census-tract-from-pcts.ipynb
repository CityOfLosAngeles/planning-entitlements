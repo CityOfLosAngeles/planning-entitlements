{
 "cells": [
  {
   "cell_type": "code",
   "execution_count": 1,
   "metadata": {},
   "outputs": [],
   "source": [
    "import pandas as pd"
   ]
  },
  {
   "cell_type": "code",
   "execution_count": 5,
   "metadata": {},
   "outputs": [],
   "source": [
    "df = pd.read_parquet('./data/tLOC.parquet')"
   ]
  },
  {
   "cell_type": "code",
   "execution_count": 21,
   "metadata": {},
   "outputs": [],
   "source": [
    "df = pd.read_parquet('./data/tLA_PROP.parquet')"
   ]
  },
  {
   "cell_type": "code",
   "execution_count": 11,
   "metadata": {},
   "outputs": [
    {
     "data": {
      "text/plain": [
       "Index(['PROP_ID', 'PROP_TYP_CD', 'BOE_VLD_ADDR_FLG', 'PROP_CMN_NM',\n",
       "       'ASSR_PRCL_NBR', 'MULTI_PRCL_FLG', 'TRACT_NBR', 'BLCK_NBR', 'LOT_NBR',\n",
       "       'ARB_NBR', 'MULTI_LOT_FLG', 'STR_NBR', 'STR_NBR_RNG_END',\n",
       "       'STR_FRAC_NBR', 'STR_FRAC_NBR_RNG_END', 'STR_DIR_CD', 'STR_NM',\n",
       "       'OLD_STRNM_TXT', 'STR_SFX_CD', 'STR_SFX_DIR_CD', 'STR_UNIT_TYP_CD',\n",
       "       'UNIT_NBR', 'UNIT_NBR_RNG_END', 'ZIP_CD', 'ZIP_CD_SFX', 'CNCL_DIST_NBR',\n",
       "       'PLAN_AREA_NBR', 'ZONE_REG_CD', 'BOE_DIST_MAP_NBR', 'CENSUS_TRACT_NBR',\n",
       "       'ZONE_MAP_NBR', 'PLAN_LAND_USE_TXT', 'PLAN_ZONE_TXT',\n",
       "       'ENVIRON_CLRNC_NBR', 'ENVIRON_CLRNC_DT', 'LOT_AREA_SQ_FT_NBR',\n",
       "       'LOT_DIM_TXT', 'TOT_PROJ_SQ_FT_NBR', 'PROP_RET_DT', 'PARNT_PROP_ID',\n",
       "       'PROP_CURR_USGE_TXT', 'SYS_USER_ID', 'TIMESTAMP', 'PIN', 'APC_AREA_CD',\n",
       "       'CNC_CD', 'CRTN_ID', 'CRTN_DT', 'HPOZ', 'COMM_CNCL_CD',\n",
       "       'CRA_REDEV_PROJECTID'],\n",
       "      dtype='object')"
      ]
     },
     "execution_count": 11,
     "metadata": {},
     "output_type": "execute_result"
    }
   ],
   "source": [
    "df.columns"
   ]
  },
  {
   "cell_type": "code",
   "execution_count": 22,
   "metadata": {},
   "outputs": [],
   "source": [
    "df = df[[\"PROP_ID\", \"ASSR_PRCL_NBR\", \"CENSUS_TRACT_NBR\"]]"
   ]
  },
  {
   "cell_type": "code",
   "execution_count": 25,
   "metadata": {},
   "outputs": [
    {
     "data": {
      "text/plain": [
       "2260.00       4023\n",
       "1942.00       3936\n",
       "2060.31       3358\n",
       "1380.00       3000\n",
       "1397.02       2715\n",
       "              ... \n",
       "2118.01          1\n",
       "9800.26          1\n",
       "1411.0-.01       1\n",
       "2267.00          1\n",
       "1370.00          1\n",
       "Name: CENSUS_TRACT_NBR, Length: 2044, dtype: int64"
      ]
     },
     "execution_count": 25,
     "metadata": {},
     "output_type": "execute_result"
    }
   ],
   "source": [
    "df.CENSUS_TRACT_NBR.value_counts()"
   ]
  },
  {
   "cell_type": "code",
   "execution_count": 31,
   "metadata": {},
   "outputs": [],
   "source": [
    "tracts = df.sort_values(\"CENSUS_TRACT_NBR\").drop_duplicates(subset=\"CENSUS_TRACT_NBR\")"
   ]
  },
  {
   "cell_type": "code",
   "execution_count": 38,
   "metadata": {},
   "outputs": [],
   "source": [
    "tracts['str_length'] = tracts.CENSUS_TRACT_NBR.str.len()"
   ]
  },
  {
   "cell_type": "code",
   "execution_count": 39,
   "metadata": {},
   "outputs": [
    {
     "data": {
      "text/plain": [
       "7.0     1159\n",
       "10.0     867\n",
       "4.0        7\n",
       "6.0        5\n",
       "8.0        4\n",
       "9.0        1\n",
       "1.0        1\n",
       "Name: str_length, dtype: int64"
      ]
     },
     "execution_count": 39,
     "metadata": {},
     "output_type": "execute_result"
    }
   ],
   "source": [
    "tracts.str_length.value_counts()"
   ]
  },
  {
   "cell_type": "code",
   "execution_count": 42,
   "metadata": {},
   "outputs": [
    {
     "data": {
      "text/html": [
       "<div>\n",
       "<style scoped>\n",
       "    .dataframe tbody tr th:only-of-type {\n",
       "        vertical-align: middle;\n",
       "    }\n",
       "\n",
       "    .dataframe tbody tr th {\n",
       "        vertical-align: top;\n",
       "    }\n",
       "\n",
       "    .dataframe thead th {\n",
       "        text-align: right;\n",
       "    }\n",
       "</style>\n",
       "<table border=\"1\" class=\"dataframe\">\n",
       "  <thead>\n",
       "    <tr style=\"text-align: right;\">\n",
       "      <th></th>\n",
       "      <th>PROP_ID</th>\n",
       "      <th>ASSR_PRCL_NBR</th>\n",
       "      <th>CENSUS_TRACT_NBR</th>\n",
       "      <th>length</th>\n",
       "      <th>str_length</th>\n",
       "    </tr>\n",
       "  </thead>\n",
       "  <tbody>\n",
       "    <tr>\n",
       "      <th>107370</th>\n",
       "      <td>59048985.0</td>\n",
       "      <td>2126023007</td>\n",
       "      <td>1310.2</td>\n",
       "      <td>6.0</td>\n",
       "      <td>6.0</td>\n",
       "    </tr>\n",
       "    <tr>\n",
       "      <th>107480</th>\n",
       "      <td>59049452.0</td>\n",
       "      <td>2503010018</td>\n",
       "      <td>160.20</td>\n",
       "      <td>6.0</td>\n",
       "      <td>6.0</td>\n",
       "    </tr>\n",
       "    <tr>\n",
       "      <th>115042</th>\n",
       "      <td>59057316.0</td>\n",
       "      <td>5484019004</td>\n",
       "      <td>1836.2</td>\n",
       "      <td>6.0</td>\n",
       "      <td>6.0</td>\n",
       "    </tr>\n",
       "    <tr>\n",
       "      <th>45354</th>\n",
       "      <td>58981494.0</td>\n",
       "      <td>5144020042</td>\n",
       "      <td>2077.1</td>\n",
       "      <td>6.0</td>\n",
       "      <td>6.0</td>\n",
       "    </tr>\n",
       "    <tr>\n",
       "      <th>29740</th>\n",
       "      <td>28924.0</td>\n",
       "      <td>None</td>\n",
       "      <td>214800</td>\n",
       "      <td>6.0</td>\n",
       "      <td>6.0</td>\n",
       "    </tr>\n",
       "  </tbody>\n",
       "</table>\n",
       "</div>"
      ],
      "text/plain": [
       "           PROP_ID ASSR_PRCL_NBR CENSUS_TRACT_NBR  length  str_length\n",
       "107370  59048985.0    2126023007           1310.2     6.0         6.0\n",
       "107480  59049452.0    2503010018           160.20     6.0         6.0\n",
       "115042  59057316.0    5484019004           1836.2     6.0         6.0\n",
       "45354   58981494.0    5144020042           2077.1     6.0         6.0\n",
       "29740      28924.0          None           214800     6.0         6.0"
      ]
     },
     "execution_count": 42,
     "metadata": {},
     "output_type": "execute_result"
    }
   ],
   "source": [
    "tracts[tracts.str_length==6]"
   ]
  },
  {
   "cell_type": "code",
   "execution_count": 24,
   "metadata": {},
   "outputs": [
    {
     "data": {
      "text/html": [
       "<div>\n",
       "<style scoped>\n",
       "    .dataframe tbody tr th:only-of-type {\n",
       "        vertical-align: middle;\n",
       "    }\n",
       "\n",
       "    .dataframe tbody tr th {\n",
       "        vertical-align: top;\n",
       "    }\n",
       "\n",
       "    .dataframe thead th {\n",
       "        text-align: right;\n",
       "    }\n",
       "</style>\n",
       "<table border=\"1\" class=\"dataframe\">\n",
       "  <thead>\n",
       "    <tr style=\"text-align: right;\">\n",
       "      <th></th>\n",
       "      <th>PROP_ID</th>\n",
       "      <th>ASSR_PRCL_NBR</th>\n",
       "      <th>CENSUS_TRACT_NBR</th>\n",
       "    </tr>\n",
       "  </thead>\n",
       "  <tbody>\n",
       "    <tr>\n",
       "      <th>3751</th>\n",
       "      <td>59029598.0</td>\n",
       "      <td>None</td>\n",
       "      <td>2074.00</td>\n",
       "    </tr>\n",
       "    <tr>\n",
       "      <th>3810</th>\n",
       "      <td>59034166.0</td>\n",
       "      <td>None</td>\n",
       "      <td>2077.10</td>\n",
       "    </tr>\n",
       "    <tr>\n",
       "      <th>6545</th>\n",
       "      <td>59044782.0</td>\n",
       "      <td>None</td>\n",
       "      <td>2742.00</td>\n",
       "    </tr>\n",
       "    <tr>\n",
       "      <th>8999</th>\n",
       "      <td>59022403.0</td>\n",
       "      <td>None</td>\n",
       "      <td>2260.00</td>\n",
       "    </tr>\n",
       "    <tr>\n",
       "      <th>9000</th>\n",
       "      <td>59033999.0</td>\n",
       "      <td>None</td>\n",
       "      <td>2260.00</td>\n",
       "    </tr>\n",
       "    <tr>\n",
       "      <th>...</th>\n",
       "      <td>...</td>\n",
       "      <td>...</td>\n",
       "      <td>...</td>\n",
       "    </tr>\n",
       "    <tr>\n",
       "      <th>600953</th>\n",
       "      <td>59492937.0</td>\n",
       "      <td>None</td>\n",
       "      <td>1372.01</td>\n",
       "    </tr>\n",
       "    <tr>\n",
       "      <th>600959</th>\n",
       "      <td>59492943.0</td>\n",
       "      <td>None</td>\n",
       "      <td>1374.01</td>\n",
       "    </tr>\n",
       "    <tr>\n",
       "      <th>600961</th>\n",
       "      <td>59492945.0</td>\n",
       "      <td>None</td>\n",
       "      <td>Multiple</td>\n",
       "    </tr>\n",
       "    <tr>\n",
       "      <th>604590</th>\n",
       "      <td>59548726.0</td>\n",
       "      <td>None</td>\n",
       "      <td>9800.31</td>\n",
       "    </tr>\n",
       "    <tr>\n",
       "      <th>604621</th>\n",
       "      <td>59546758.0</td>\n",
       "      <td>None</td>\n",
       "      <td>1431.00</td>\n",
       "    </tr>\n",
       "  </tbody>\n",
       "</table>\n",
       "<p>5899 rows × 3 columns</p>\n",
       "</div>"
      ],
      "text/plain": [
       "           PROP_ID ASSR_PRCL_NBR CENSUS_TRACT_NBR\n",
       "3751    59029598.0          None          2074.00\n",
       "3810    59034166.0          None          2077.10\n",
       "6545    59044782.0          None          2742.00\n",
       "8999    59022403.0          None          2260.00\n",
       "9000    59033999.0          None          2260.00\n",
       "...            ...           ...              ...\n",
       "600953  59492937.0          None       1372.01   \n",
       "600959  59492943.0          None       1374.01   \n",
       "600961  59492945.0          None         Multiple\n",
       "604590  59548726.0          None       9800.31   \n",
       "604621  59546758.0          None          1431.00\n",
       "\n",
       "[5899 rows x 3 columns]"
      ]
     },
     "execution_count": 24,
     "metadata": {},
     "output_type": "execute_result"
    }
   ],
   "source": [
    "df[(df.CENSUS_TRACT_NBR.notna()) & (df.ASSR_PRCL_NBR.isna())]"
   ]
  },
  {
   "cell_type": "code",
   "execution_count": 15,
   "metadata": {},
   "outputs": [
    {
     "data": {
      "text/plain": [
       "90961"
      ]
     },
     "execution_count": 15,
     "metadata": {},
     "output_type": "execute_result"
    }
   ],
   "source": [
    "len(df[df.CENSUS_TRACT_NBR.isna()])"
   ]
  },
  {
   "cell_type": "code",
   "execution_count": 16,
   "metadata": {},
   "outputs": [
    {
     "data": {
      "text/plain": [
       "605713"
      ]
     },
     "execution_count": 16,
     "metadata": {},
     "output_type": "execute_result"
    }
   ],
   "source": [
    "len(df)"
   ]
  },
  {
   "cell_type": "code",
   "execution_count": 20,
   "metadata": {},
   "outputs": [
    {
     "name": "stdout",
     "output_type": "stream",
     "text": [
      "0.1501717810250069\n"
     ]
    }
   ],
   "source": [
    "print(len(df[df.CENSUS_TRACT_NBR.isna()]) / len(df))"
   ]
  },
  {
   "cell_type": "code",
   "execution_count": null,
   "metadata": {},
   "outputs": [],
   "source": []
  }
 ],
 "metadata": {
  "kernelspec": {
   "display_name": "Python 3",
   "language": "python",
   "name": "python3"
  },
  "language_info": {
   "codemirror_mode": {
    "name": "ipython",
    "version": 3
   },
   "file_extension": ".py",
   "mimetype": "text/x-python",
   "name": "python",
   "nbconvert_exporter": "python",
   "pygments_lexer": "ipython3",
   "version": "3.7.8"
  }
 },
 "nbformat": 4,
 "nbformat_minor": 4
}
